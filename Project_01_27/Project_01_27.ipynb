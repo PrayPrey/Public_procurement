{
 "cells": [
  {
   "cell_type": "code",
   "execution_count": 1,
   "metadata": {},
   "outputs": [
    {
     "name": "stderr",
     "output_type": "stream",
     "text": [
      "D:\\anaconda\\lib\\site-packages\\statsmodels\\tools\\_testing.py:19: FutureWarning: pandas.util.testing is deprecated. Use the functions in the public API at pandas.testing instead.\n",
      "  import pandas.util.testing as tm\n"
     ]
    },
    {
     "data": {
      "text/html": [
       "        <script type=\"text/javascript\">\n",
       "        window.PlotlyConfig = {MathJaxConfig: 'local'};\n",
       "        if (window.MathJax) {MathJax.Hub.Config({SVG: {font: \"STIX-Web\"}});}\n",
       "        if (typeof require !== 'undefined') {\n",
       "        require.undef(\"plotly\");\n",
       "        requirejs.config({\n",
       "            paths: {\n",
       "                'plotly': ['https://cdn.plot.ly/plotly-2.4.2.min']\n",
       "            }\n",
       "        });\n",
       "        require(['plotly'], function(Plotly) {\n",
       "            window._Plotly = Plotly;\n",
       "        });\n",
       "        }\n",
       "        </script>\n",
       "        "
      ]
     },
     "metadata": {},
     "output_type": "display_data"
    },
    {
     "data": {
      "text/html": [
       "        <script type=\"text/javascript\">\n",
       "        window.PlotlyConfig = {MathJaxConfig: 'local'};\n",
       "        if (window.MathJax) {MathJax.Hub.Config({SVG: {font: \"STIX-Web\"}});}\n",
       "        if (typeof require !== 'undefined') {\n",
       "        require.undef(\"plotly\");\n",
       "        requirejs.config({\n",
       "            paths: {\n",
       "                'plotly': ['https://cdn.plot.ly/plotly-2.4.2.min']\n",
       "            }\n",
       "        });\n",
       "        require(['plotly'], function(Plotly) {\n",
       "            window._Plotly = Plotly;\n",
       "        });\n",
       "        }\n",
       "        </script>\n",
       "        "
      ]
     },
     "metadata": {},
     "output_type": "display_data"
    }
   ],
   "source": [
    "import numpy as np\n",
    "import pandas as pd\n",
    "\n",
    "from sklearn.ensemble import RandomForestRegressor, GradientBoostingRegressor\n",
    "from sklearn.preprocessing import OneHotEncoder, StandardScaler\n",
    "from sklearn.model_selection import StratifiedKFold\n",
    "from sklearn.metrics import accuracy_score\n",
    "\n",
    "import string\n",
    "import warnings\n",
    "import missingno\n",
    "warnings.filterwarnings('ignore')\n",
    "\n",
    "\n",
    "import pandas as pd\n",
    "import cufflinks as cf\n",
    "import chart_studio.plotly as py\n",
    "import plotly.graph_objects as go\n",
    "import numpy as np\n",
    "import pandas as pd\n",
    "import numpy as np\n",
    "from numpy.random import gamma\n",
    "from numpy.random import multivariate_normal\n",
    "from scipy.stats import multivariate_t\n",
    "from scipy.stats import f\n",
    "import matplotlib.pyplot as plt\n",
    "\n",
    "\n",
    "\n",
    "cf.go_offline(connected = True)\n",
    "\n",
    "\n",
    "import pandas as pd\n",
    "import cufflinks as cf\n",
    "import chart_studio.plotly as py\n",
    "import plotly.graph_objects as go\n",
    "import numpy as np\n",
    "import pandas as pd\n",
    "import numpy as np\n",
    "from numpy.random import gamma\n",
    "from numpy.random import multivariate_normal\n",
    "from scipy.stats import multivariate_t\n",
    "from scipy.stats import f\n",
    "import matplotlib.pyplot as plt\n",
    "import missingno\n",
    "\n",
    "\n",
    "cf.go_offline(connected = True)\n",
    "\n",
    "\n",
    "import numpy as np\n",
    "import matplotlib.pyplot as plt\n",
    "import pandas as pd\n",
    "import seaborn as sns\n",
    "\n",
    "from sklearn.linear_model import Ridge, Lasso\n",
    "from sklearn.model_selection import cross_val_score\n",
    "from sklearn.model_selection import train_test_split\n",
    "from sklearn.linear_model import LinearRegression\n",
    "from sklearn.metrics import r2_score\n",
    "from sklearn.metrics import mean_absolute_error\n",
    "from sklearn.metrics import mean_squared_error\n",
    "from sklearn.metrics import mean_squared_log_error\n",
    "from sklearn.metrics import make_scorer\n",
    "from sklearn.model_selection import KFold\n",
    "from sklearn.model_selection import cross_val_score\n",
    "\n",
    "import numpy as np\n",
    "import pandas as pd\n",
    "from sklearn.metrics import make_scorer\n",
    "from sklearn.ensemble import RandomForestRegressor, GradientBoostingRegressor\n",
    "from xgboost import XGBRegressor \n",
    "from sklearn.preprocessing import OneHotEncoder, StandardScaler\n",
    "from sklearn.model_selection import StratifiedKFold\n",
    "from sklearn.metrics import accuracy_score\n",
    "from sklearn.linear_model import LinearRegression\n",
    "from sklearn.linear_model import Lasso\n",
    "from sklearn.model_selection import GridSearchCV\n",
    "import string\n",
    "import warnings\n",
    "import missingno"
   ]
  },
  {
   "cell_type": "code",
   "execution_count": 2,
   "metadata": {},
   "outputs": [
    {
     "data": {
      "text/html": [
       "<style>.container { width:100% !important; }</style>"
      ],
      "text/plain": [
       "<IPython.core.display.HTML object>"
      ]
     },
     "metadata": {},
     "output_type": "display_data"
    }
   ],
   "source": [
    "from IPython.core.display import display, HTML\n",
    "display(HTML(\"<style>.container { width:100% !important; }</style>\"))"
   ]
  },
  {
   "cell_type": "markdown",
   "metadata": {},
   "source": [
    "# 전체 프로세스\n",
    "\n",
    "- 1) 기관의 요청 or 기관이 직접 발주계획\n",
    "- 2) 입찰 공고\n",
    "- 3) 예비가격 생성 ( 예비 -> 예정 가격을 만들기 위한 과정 ; 복잡하다)\n",
    "- 4) PQ 검사 / 설명회\n",
    "- 5) 투찰 (참여 업체가 값을 적어 냄)\n",
    "- 6) 개찰 (참여 업체가 투찰한 금액을 염 이때 예정가격과 가장 비슷한 가격을 선택)\n",
    "- 7) 적격심사 대상 / 협상 대상 인 경우 확인\n",
    "- 8) 낙찰 완료\n",
    "\n",
    "\n",
    "\n",
    "\n",
    "> 입찰 :\t입찰은 낙찰 희망 가격을 서면으로 제출하는 것을 뜻합니다\n",
    "\n",
    "> 투찰 : \t투찰은 참가하여 가격을 써 내는 것을 의미합니다\n",
    "\n",
    "> 개찰 :\t개찰은 입찰한 결과를 조사하는것을 의미합니다\n",
    "\n",
    "> 낙찰 :\t낙찰은 경매 따위에서 물건이나 일이 어떤 사람이나 업체에 돌아가도록 결정되는것을 의미\n",
    "\n",
    "> 조달 :\t자금이나 물자 따위를 대어 준다는 뜻을 지칭\n",
    "\n",
    "> 발주 :\t물건을 보내달라고 하는 주문\n"
   ]
  },
  {
   "cell_type": "markdown",
   "metadata": {},
   "source": [
    "### 수요기관별 입찰집행실적 집계에서는 낙찰금액이 적혀있는 것이 적었다. 이는 실제로 예산이 사용된 것은 알 수 있으나, 수요에 대해서는 (예산을 사용하기로 예정한 대상)를 알기에는 부적절하다고 생각이 되었다. 그러므로, 수요기관별 입찰집행실적 집계를 보기 보다는, 입찰 공고에 있는 추정금액이 곧 기관의 수요라고 생각하였다. 실제 사용은 입찰집행실적이겠지만, 우리가 보려는 것은 기관의 '예측 수요'이다. \n",
    "\n",
    "### 지금 헷갈리는게 전체적인 프로세스가 끝난 뒤의 데이터를 볼 것인지 (입찰 집행 실적 집계) 프로세스가 완전히 다 진행되기 전의 (투찰  / 개찰 되기 전) 데이터를 볼 것인지가 하나의 의문점인데, 프로세스가 다 완전히 다 진행되고 난 다음에 데이터를 본다면 실제 수요에 대한 예측을 할 수 있지만 우리가 목적으로 하는 예정 수요에 대한 예측을 수행하기 어렵다. 우리가 만드려는 모델은 입찰공고를 기관이 딱 내릴 때, 그 것에 대해서 감지를 하는 관리도를 만들려는 것이다. 그리고 In-control 상태의 데이터만을 이용해서 예정 금액의 예측 모델을 만드는 것이다. \n",
    "\n",
    "### 그렇다면 명확해진다. 프로세스가 다 진행된 뒤의 금액은 처음에 배정한 금액보다 작을 것이 대부분이다. 그렇다면, 새로운 데이터(새로운 입찰공고를 내렸을 때의 배정금액)은 낙찰가격(프로세스가 다 진행한 후의 금액 데이터)보다는 더 낮을 것이므로(특수 경우 제외하고는 이게 대부분) 예측이나 관리도 구축에 있어서 우리가 원하는 것과 다르게 나올 것이다. 그러므로 입찰 공고를 보는 것이 더 합리적이라고 생각한다."
   ]
  },
  {
   "cell_type": "code",
   "execution_count": 3,
   "metadata": {},
   "outputs": [
    {
     "name": "stderr",
     "output_type": "stream",
     "text": [
      "b'Skipping line 114977: expected 55 fields, saw 56\\n'\n"
     ]
    }
   ],
   "source": [
    "df = pd.read_csv('물품_입찰공고_내역_2020.csv',encoding ='utf-8',error_bad_lines= False)\n",
    "df = pd.concat([df,pd.read_csv('물품_입찰공고_내역_2019.csv',encoding ='utf-8',error_bad_lines= False)])\n",
    "df = pd.concat([df,pd.read_csv('물품_입찰공고_내역_2018.csv',encoding ='utf-8',error_bad_lines= False)])\n",
    "df_물품_입찰공고_내역 = pd.concat([df,pd.read_csv('물품_입찰공고_내역_2017.csv',encoding ='utf-8',error_bad_lines= False)])"
   ]
  },
  {
   "cell_type": "code",
   "execution_count": 4,
   "metadata": {},
   "outputs": [],
   "source": [
    "def make_time_series_3(row):\n",
    "    lst_all = []\n",
    "    for i in row:\n",
    "        i = str(i)\n",
    "        year = i[0:4]\n",
    "        month = i[4:6]\n",
    "        date =  i[6:8]\n",
    "\n",
    "        lst_all.append([pd.to_datetime(year+month+date,format='%Y%m%d')])\n",
    "    return lst_all"
   ]
  },
  {
   "cell_type": "code",
   "execution_count": 5,
   "metadata": {},
   "outputs": [
    {
     "data": {
      "text/html": [
       "<div>\n",
       "<style scoped>\n",
       "    .dataframe tbody tr th:only-of-type {\n",
       "        vertical-align: middle;\n",
       "    }\n",
       "\n",
       "    .dataframe tbody tr th {\n",
       "        vertical-align: top;\n",
       "    }\n",
       "\n",
       "    .dataframe thead th {\n",
       "        text-align: right;\n",
       "    }\n",
       "</style>\n",
       "<table border=\"1\" class=\"dataframe\">\n",
       "  <thead>\n",
       "    <tr style=\"text-align: right;\">\n",
       "      <th></th>\n",
       "      <th>index</th>\n",
       "      <th>입찰공고번호</th>\n",
       "      <th>입찰공고차수</th>\n",
       "      <th>공고게시일자</th>\n",
       "      <th>수요기관명</th>\n",
       "      <th>수요기관코드</th>\n",
       "      <th>수요기관구분</th>\n",
       "      <th>품명내용</th>\n",
       "      <th>세부품명내용</th>\n",
       "      <th>합계수량</th>\n",
       "      <th>합계금액</th>\n",
       "      <th>납품기한</th>\n",
       "      <th>긴급공고여부</th>\n",
       "      <th>정정공고여부</th>\n",
       "      <th>취소공고여부</th>\n",
       "      <th>추정가격</th>\n",
       "      <th>배정예산</th>\n",
       "      <th>재입찰허용여부</th>\n",
       "      <th>조달요청번호</th>\n",
       "    </tr>\n",
       "  </thead>\n",
       "  <tbody>\n",
       "    <tr>\n",
       "      <th>1305</th>\n",
       "      <td>1305</td>\n",
       "      <td>20200318789</td>\n",
       "      <td>0</td>\n",
       "      <td>2020-03-12</td>\n",
       "      <td>방위사업청</td>\n",
       "      <td>1690000</td>\n",
       "      <td>국가기관</td>\n",
       "      <td>토너[44103103]</td>\n",
       "      <td>정품토너[4410310302]</td>\n",
       "      <td>1.0</td>\n",
       "      <td>2.192444e+08</td>\n",
       "      <td>계약 후 10일 이내</td>\n",
       "      <td>NaN</td>\n",
       "      <td>N</td>\n",
       "      <td>N</td>\n",
       "      <td>1.993131e+08</td>\n",
       "      <td>2.208254e+08</td>\n",
       "      <td>Y</td>\n",
       "      <td>1220209690.0</td>\n",
       "    </tr>\n",
       "    <tr>\n",
       "      <th>34606</th>\n",
       "      <td>34606</td>\n",
       "      <td>20200429508</td>\n",
       "      <td>0</td>\n",
       "      <td>2020-04-21</td>\n",
       "      <td>방위사업청</td>\n",
       "      <td>1690000</td>\n",
       "      <td>국가기관</td>\n",
       "      <td>노트북컴퓨터[43211503]</td>\n",
       "      <td>노트북컴퓨터[4321150301]</td>\n",
       "      <td>1.0</td>\n",
       "      <td>2.458072e+09</td>\n",
       "      <td>1차 2020/07/29, 2차 2021/09/29</td>\n",
       "      <td>NaN</td>\n",
       "      <td>N</td>\n",
       "      <td>N</td>\n",
       "      <td>2.234611e+09</td>\n",
       "      <td>2.469999e+09</td>\n",
       "      <td>Y</td>\n",
       "      <td>1220814094.0</td>\n",
       "    </tr>\n",
       "  </tbody>\n",
       "</table>\n",
       "</div>"
      ],
      "text/plain": [
       "       index       입찰공고번호  입찰공고차수     공고게시일자  수요기관명   수요기관코드 수요기관구분  \\\n",
       "1305    1305  20200318789       0 2020-03-12  방위사업청  1690000   국가기관   \n",
       "34606  34606  20200429508       0 2020-04-21  방위사업청  1690000   국가기관   \n",
       "\n",
       "                   품명내용              세부품명내용  합계수량          합계금액  \\\n",
       "1305       토너[44103103]    정품토너[4410310302]   1.0  2.192444e+08   \n",
       "34606  노트북컴퓨터[43211503]  노트북컴퓨터[4321150301]   1.0  2.458072e+09   \n",
       "\n",
       "                               납품기한 긴급공고여부 정정공고여부 취소공고여부          추정가격  \\\n",
       "1305                    계약 후 10일 이내    NaN      N      N  1.993131e+08   \n",
       "34606  1차 2020/07/29, 2차 2021/09/29    NaN      N      N  2.234611e+09   \n",
       "\n",
       "               배정예산 재입찰허용여부        조달요청번호  \n",
       "1305   2.208254e+08       Y  1220209690.0  \n",
       "34606  2.469999e+09       Y  1220814094.0  "
      ]
     },
     "execution_count": 5,
     "metadata": {},
     "output_type": "execute_result"
    }
   ],
   "source": [
    "df_물품_입찰공고_내역.columns\n",
    "\n",
    "\n",
    "df_물품_입찰공고_내역_2 = df_물품_입찰공고_내역[[ '입찰공고번호', '입찰공고차수', '공고게시일자',  '수요기관명', '수요기관코드', '수요기관구분', '품명내용',\n",
    "       '세부품명내용', '합계수량', '합계금액', '납품기한', '긴급공고여부', '정정공고여부', '취소공고여부', '추정가격',\n",
    "       '배정예산',  '재입찰허용여부',\n",
    "       '조달요청번호']].copy()\n",
    "\n",
    "\n",
    "\n",
    "\n",
    "# In[259]:\n",
    "wbc= make_time_series_3(df_물품_입찰공고_내역_2['공고게시일자'])\n",
    "\n",
    "df_물품_입찰공고_내역_2.reset_index(inplace=True)\n",
    "df_물품_입찰공고_내역_2.loc[:,'공고게시일자'] =wbc\n",
    "\n",
    "df_물품_입찰공고_내역_2['수요기관코드'] = df_물품_입찰공고_내역_2['수요기관코드'].astype('str')\n",
    "\n",
    "df_test = df_물품_입찰공고_내역_2[df_물품_입찰공고_내역_2['수요기관코드'] == str(1690000)]\n",
    "df_test.head(2)"
   ]
  },
  {
   "cell_type": "code",
   "execution_count": 6,
   "metadata": {},
   "outputs": [],
   "source": [
    "df_물품_입찰공고_내역_new = pd.read_csv('물품_입찰공고_내역_2021.csv',encoding ='utf-8',error_bad_lines= False)\n",
    "\n",
    "df_물품_입찰공고_내역_new.columns\n",
    "\n",
    "\n",
    "# In[256]:\n",
    "\n",
    "\n",
    "df_물품_입찰공고_내역_new = df_물품_입찰공고_내역_new[ [ '입찰공고번호', '입찰공고차수', '공고게시일자',  '수요기관명', '수요기관코드', '수요기관구분', '품명내용',\n",
    "       '세부품명내용', '합계수량', '합계금액', '납품기한', '긴급공고여부', '정정공고여부', '취소공고여부', '추정가격',\n",
    "       '배정예산',  '재입찰허용여부',\n",
    "       '조달요청번호']].copy()\n",
    "\n",
    "df_물품_입찰공고_내역_new['공고게시일자'] = pd.DataFrame(make_time_series_3(df_물품_입찰공고_내역_new['공고게시일자']))\n",
    "# In[257]:\n",
    "\n",
    "\n",
    "\n",
    "# In[272]:\n",
    "\n",
    "\n",
    "df_test_2 = df_물품_입찰공고_내역_new[df_물품_입찰공고_내역_new['수요기관코드'] == str(1690000)]"
   ]
  },
  {
   "cell_type": "code",
   "execution_count": 23,
   "metadata": {},
   "outputs": [],
   "source": [
    "df = pd.read_csv('공공기관별_업무대상별_실적_2021.csv',encoding ='utf-8',error_bad_lines= False).iloc[[1]]\n",
    "df = pd.concat([df,pd.read_csv('공공기관별_업무대상별_실적_2020.csv',encoding ='utf-8',error_bad_lines= False).iloc[[1]]])\n",
    "df = pd.concat([df,pd.read_csv('공공기관별_업무대상별_실적_2019.csv',encoding ='utf-8',error_bad_lines= False).iloc[[1]]])\n",
    "df = pd.concat([df,pd.read_csv('공공기관별_업무대상별_실적_2018.csv',encoding ='utf-8',error_bad_lines= False).iloc[[1]]])\n",
    "df_공공기관별_업무대상별_실적 = pd.concat([df,pd.read_csv('공공기관별_업무대상별_실적_2017.csv',encoding ='utf-8',error_bad_lines= False).iloc[[1]]])"
   ]
  },
  {
   "cell_type": "code",
   "execution_count": 24,
   "metadata": {},
   "outputs": [],
   "source": [
    "df_공공기관별_업무대상별_실적.index = [2021,2020,2019,2018,2017]"
   ]
  },
  {
   "cell_type": "code",
   "execution_count": 25,
   "metadata": {},
   "outputs": [
    {
     "data": {
      "text/html": [
       "<div>\n",
       "<style scoped>\n",
       "    .dataframe tbody tr th:only-of-type {\n",
       "        vertical-align: middle;\n",
       "    }\n",
       "\n",
       "    .dataframe tbody tr th {\n",
       "        vertical-align: top;\n",
       "    }\n",
       "\n",
       "    .dataframe thead th {\n",
       "        text-align: right;\n",
       "    }\n",
       "</style>\n",
       "<table border=\"1\" class=\"dataframe\">\n",
       "  <thead>\n",
       "    <tr style=\"text-align: right;\">\n",
       "      <th></th>\n",
       "      <th>기관명</th>\n",
       "      <th>전체건수</th>\n",
       "      <th>전체금액</th>\n",
       "      <th>물품건수</th>\n",
       "      <th>물품금액</th>\n",
       "      <th>공사건수</th>\n",
       "      <th>공사금액</th>\n",
       "      <th>일반용역건수</th>\n",
       "      <th>일반용역금액</th>\n",
       "      <th>기술용역건수</th>\n",
       "      <th>기술용역금액</th>\n",
       "    </tr>\n",
       "  </thead>\n",
       "  <tbody>\n",
       "    <tr>\n",
       "      <th>2021</th>\n",
       "      <td>방위사업청</td>\n",
       "      <td>2471</td>\n",
       "      <td>12588957128187</td>\n",
       "      <td>2418</td>\n",
       "      <td>12562373238070</td>\n",
       "      <td>11</td>\n",
       "      <td>219821317</td>\n",
       "      <td>41</td>\n",
       "      <td>26202808800</td>\n",
       "      <td>1</td>\n",
       "      <td>161260000</td>\n",
       "    </tr>\n",
       "    <tr>\n",
       "      <th>2020</th>\n",
       "      <td>방위사업청</td>\n",
       "      <td>2534</td>\n",
       "      <td>10168315450867</td>\n",
       "      <td>2500</td>\n",
       "      <td>10149511443137</td>\n",
       "      <td>1</td>\n",
       "      <td>21886000</td>\n",
       "      <td>32</td>\n",
       "      <td>18332121730</td>\n",
       "      <td>1</td>\n",
       "      <td>450000000</td>\n",
       "    </tr>\n",
       "    <tr>\n",
       "      <th>2019</th>\n",
       "      <td>방위사업청</td>\n",
       "      <td>2407</td>\n",
       "      <td>12085901177043</td>\n",
       "      <td>2381</td>\n",
       "      <td>12069876576160</td>\n",
       "      <td>2</td>\n",
       "      <td>130723643</td>\n",
       "      <td>23</td>\n",
       "      <td>15544737240</td>\n",
       "      <td>1</td>\n",
       "      <td>349140000</td>\n",
       "    </tr>\n",
       "    <tr>\n",
       "      <th>2018</th>\n",
       "      <td>방위사업청</td>\n",
       "      <td>2400</td>\n",
       "      <td>11731372202662</td>\n",
       "      <td>2375</td>\n",
       "      <td>11718984051552</td>\n",
       "      <td>2</td>\n",
       "      <td>42493700</td>\n",
       "      <td>22</td>\n",
       "      <td>12155418410</td>\n",
       "      <td>1</td>\n",
       "      <td>190239000</td>\n",
       "    </tr>\n",
       "    <tr>\n",
       "      <th>2017</th>\n",
       "      <td>방위사업청</td>\n",
       "      <td>2838</td>\n",
       "      <td>9499060220825</td>\n",
       "      <td>2797</td>\n",
       "      <td>9485180233837</td>\n",
       "      <td>4</td>\n",
       "      <td>1152792648</td>\n",
       "      <td>36</td>\n",
       "      <td>12357194340</td>\n",
       "      <td>1</td>\n",
       "      <td>370000000</td>\n",
       "    </tr>\n",
       "  </tbody>\n",
       "</table>\n",
       "</div>"
      ],
      "text/plain": [
       "        기관명  전체건수            전체금액  물품건수            물품금액  공사건수        공사금액  \\\n",
       "2021  방위사업청  2471  12588957128187  2418  12562373238070    11   219821317   \n",
       "2020  방위사업청  2534  10168315450867  2500  10149511443137     1    21886000   \n",
       "2019  방위사업청  2407  12085901177043  2381  12069876576160     2   130723643   \n",
       "2018  방위사업청  2400  11731372202662  2375  11718984051552     2    42493700   \n",
       "2017  방위사업청  2838   9499060220825  2797   9485180233837     4  1152792648   \n",
       "\n",
       "      일반용역건수       일반용역금액  기술용역건수     기술용역금액  \n",
       "2021      41  26202808800       1  161260000  \n",
       "2020      32  18332121730       1  450000000  \n",
       "2019      23  15544737240       1  349140000  \n",
       "2018      22  12155418410       1  190239000  \n",
       "2017      36  12357194340       1  370000000  "
      ]
     },
     "execution_count": 25,
     "metadata": {},
     "output_type": "execute_result"
    }
   ],
   "source": [
    "df_공공기관별_업무대상별_실적"
   ]
  },
  {
   "cell_type": "code",
   "execution_count": 26,
   "metadata": {},
   "outputs": [
    {
     "data": {
      "text/html": [
       "<div>\n",
       "<style scoped>\n",
       "    .dataframe tbody tr th:only-of-type {\n",
       "        vertical-align: middle;\n",
       "    }\n",
       "\n",
       "    .dataframe tbody tr th {\n",
       "        vertical-align: top;\n",
       "    }\n",
       "\n",
       "    .dataframe thead th {\n",
       "        text-align: right;\n",
       "    }\n",
       "</style>\n",
       "<table border=\"1\" class=\"dataframe\">\n",
       "  <thead>\n",
       "    <tr style=\"text-align: right;\">\n",
       "      <th></th>\n",
       "      <th>물품금액</th>\n",
       "    </tr>\n",
       "  </thead>\n",
       "  <tbody>\n",
       "    <tr>\n",
       "      <th>count</th>\n",
       "      <td>4.000000e+00</td>\n",
       "    </tr>\n",
       "    <tr>\n",
       "      <th>mean</th>\n",
       "      <td>1.085589e+13</td>\n",
       "    </tr>\n",
       "    <tr>\n",
       "      <th>std</th>\n",
       "      <td>1.237809e+12</td>\n",
       "    </tr>\n",
       "    <tr>\n",
       "      <th>min</th>\n",
       "      <td>9.485180e+12</td>\n",
       "    </tr>\n",
       "    <tr>\n",
       "      <th>25%</th>\n",
       "      <td>9.983429e+12</td>\n",
       "    </tr>\n",
       "    <tr>\n",
       "      <th>50%</th>\n",
       "      <td>1.093425e+13</td>\n",
       "    </tr>\n",
       "    <tr>\n",
       "      <th>75%</th>\n",
       "      <td>1.180671e+13</td>\n",
       "    </tr>\n",
       "    <tr>\n",
       "      <th>max</th>\n",
       "      <td>1.206988e+13</td>\n",
       "    </tr>\n",
       "  </tbody>\n",
       "</table>\n",
       "</div>"
      ],
      "text/plain": [
       "               물품금액\n",
       "count  4.000000e+00\n",
       "mean   1.085589e+13\n",
       "std    1.237809e+12\n",
       "min    9.485180e+12\n",
       "25%    9.983429e+12\n",
       "50%    1.093425e+13\n",
       "75%    1.180671e+13\n",
       "max    1.206988e+13"
      ]
     },
     "execution_count": 26,
     "metadata": {},
     "output_type": "execute_result"
    }
   ],
   "source": [
    "df_공공기관별_업무대상별_실적.loc[2020:2017,].describe()[['물품금액']]"
   ]
  },
  {
   "cell_type": "code",
   "execution_count": 83,
   "metadata": {},
   "outputs": [
    {
     "data": {
      "text/plain": [
       "2021    1.085589e+13\n",
       "Name: 물품금액, dtype: float64"
      ]
     },
     "execution_count": 83,
     "metadata": {},
     "output_type": "execute_result"
    }
   ],
   "source": [
    "mean = pd.Series(df_공공기관별_업무대상별_실적.loc[2020:2017,]['물품금액'].agg({2021:'mean'}))\n",
    "mean"
   ]
  },
  {
   "cell_type": "code",
   "execution_count": 84,
   "metadata": {},
   "outputs": [
    {
     "data": {
      "text/html": [
       "<div>\n",
       "<style scoped>\n",
       "    .dataframe tbody tr th:only-of-type {\n",
       "        vertical-align: middle;\n",
       "    }\n",
       "\n",
       "    .dataframe tbody tr th {\n",
       "        vertical-align: top;\n",
       "    }\n",
       "\n",
       "    .dataframe thead th {\n",
       "        text-align: right;\n",
       "    }\n",
       "</style>\n",
       "<table border=\"1\" class=\"dataframe\">\n",
       "  <thead>\n",
       "    <tr style=\"text-align: right;\">\n",
       "      <th></th>\n",
       "      <th>물품금액</th>\n",
       "    </tr>\n",
       "  </thead>\n",
       "  <tbody>\n",
       "    <tr>\n",
       "      <th>2020</th>\n",
       "      <td>10149511443137</td>\n",
       "    </tr>\n",
       "    <tr>\n",
       "      <th>2019</th>\n",
       "      <td>12069876576160</td>\n",
       "    </tr>\n",
       "    <tr>\n",
       "      <th>2018</th>\n",
       "      <td>11718984051552</td>\n",
       "    </tr>\n",
       "    <tr>\n",
       "      <th>2017</th>\n",
       "      <td>9485180233837</td>\n",
       "    </tr>\n",
       "  </tbody>\n",
       "</table>\n",
       "</div>"
      ],
      "text/plain": [
       "                물품금액\n",
       "2020  10149511443137\n",
       "2019  12069876576160\n",
       "2018  11718984051552\n",
       "2017   9485180233837"
      ]
     },
     "execution_count": 84,
     "metadata": {},
     "output_type": "execute_result"
    }
   ],
   "source": [
    "df_공공기관별_업무대상별_실적.loc[2020:2017,][['물품금액']]"
   ]
  },
  {
   "cell_type": "code",
   "execution_count": 91,
   "metadata": {},
   "outputs": [],
   "source": [
    "df_실적_test = pd.DataFrame(df_공공기관별_업무대상별_실적.loc[2020:2017,]['물품금액'].append(mean))"
   ]
  },
  {
   "cell_type": "code",
   "execution_count": 96,
   "metadata": {},
   "outputs": [],
   "source": [
    "df_실적_test = df_실적_test / df_실적_test.loc[2021,'물품금액']"
   ]
  },
  {
   "cell_type": "code",
   "execution_count": 97,
   "metadata": {},
   "outputs": [
    {
     "data": {
      "text/html": [
       "<div>\n",
       "<style scoped>\n",
       "    .dataframe tbody tr th:only-of-type {\n",
       "        vertical-align: middle;\n",
       "    }\n",
       "\n",
       "    .dataframe tbody tr th {\n",
       "        vertical-align: top;\n",
       "    }\n",
       "\n",
       "    .dataframe thead th {\n",
       "        text-align: right;\n",
       "    }\n",
       "</style>\n",
       "<table border=\"1\" class=\"dataframe\">\n",
       "  <thead>\n",
       "    <tr style=\"text-align: right;\">\n",
       "      <th></th>\n",
       "      <th>물품금액</th>\n",
       "    </tr>\n",
       "  </thead>\n",
       "  <tbody>\n",
       "    <tr>\n",
       "      <th>2020</th>\n",
       "      <td>0.934931</td>\n",
       "    </tr>\n",
       "    <tr>\n",
       "      <th>2019</th>\n",
       "      <td>1.111828</td>\n",
       "    </tr>\n",
       "    <tr>\n",
       "      <th>2018</th>\n",
       "      <td>1.079505</td>\n",
       "    </tr>\n",
       "    <tr>\n",
       "      <th>2017</th>\n",
       "      <td>0.873736</td>\n",
       "    </tr>\n",
       "    <tr>\n",
       "      <th>2021</th>\n",
       "      <td>1.000000</td>\n",
       "    </tr>\n",
       "  </tbody>\n",
       "</table>\n",
       "</div>"
      ],
      "text/plain": [
       "          물품금액\n",
       "2020  0.934931\n",
       "2019  1.111828\n",
       "2018  1.079505\n",
       "2017  0.873736\n",
       "2021  1.000000"
      ]
     },
     "execution_count": 97,
     "metadata": {},
     "output_type": "execute_result"
    }
   ],
   "source": [
    "df_실적_test"
   ]
  },
  {
   "cell_type": "code",
   "execution_count": 101,
   "metadata": {},
   "outputs": [],
   "source": [
    "dt = pd.DatetimeIndex(df_test['공고게시일자'])\n",
    "\n",
    "df_test['day'] = dt.day\n",
    "df_test['month'] = dt.month\n",
    "df_test['year'] = dt.year\n",
    "df_test['hour'] = dt.hour\n",
    "df_test['dow'] = dt.dayofweek\n",
    "df_test['woy'] = dt.weekofyear\n",
    "\n",
    "\n",
    "dt = pd.DatetimeIndex(df_test_2['공고게시일자'])\n",
    "\n",
    "df_test_2['day'] = dt.day\n",
    "df_test_2['month'] = dt.month\n",
    "df_test_2['year'] = dt.year\n",
    "df_test_2['hour'] = dt.hour\n",
    "df_test_2['dow'] = dt.dayofweek\n",
    "df_test_2['woy'] = dt.weekofyear"
   ]
  },
  {
   "cell_type": "code",
   "execution_count": 134,
   "metadata": {},
   "outputs": [],
   "source": [
    "df_test_1_grouper = df_test.groupby(pd.Grouper(key = '공고게시일자',freq = '1W')).sum()\n",
    "df_test_2_grouper = df_test_2.groupby(pd.Grouper(key = '공고게시일자',freq = '1W')).sum()"
   ]
  },
  {
   "cell_type": "code",
   "execution_count": 135,
   "metadata": {},
   "outputs": [],
   "source": [
    "df_test_1_grouper['실적'] = 0"
   ]
  },
  {
   "cell_type": "code",
   "execution_count": 136,
   "metadata": {},
   "outputs": [
    {
     "data": {
      "text/html": [
       "<div>\n",
       "<style scoped>\n",
       "    .dataframe tbody tr th:only-of-type {\n",
       "        vertical-align: middle;\n",
       "    }\n",
       "\n",
       "    .dataframe tbody tr th {\n",
       "        vertical-align: top;\n",
       "    }\n",
       "\n",
       "    .dataframe thead th {\n",
       "        text-align: right;\n",
       "    }\n",
       "</style>\n",
       "<table border=\"1\" class=\"dataframe\">\n",
       "  <thead>\n",
       "    <tr style=\"text-align: right;\">\n",
       "      <th></th>\n",
       "      <th>index</th>\n",
       "      <th>입찰공고차수</th>\n",
       "      <th>합계수량</th>\n",
       "      <th>합계금액</th>\n",
       "      <th>추정가격</th>\n",
       "      <th>배정예산</th>\n",
       "      <th>day</th>\n",
       "      <th>month</th>\n",
       "      <th>year</th>\n",
       "      <th>hour</th>\n",
       "      <th>dow</th>\n",
       "      <th>woy</th>\n",
       "      <th>실적</th>\n",
       "    </tr>\n",
       "    <tr>\n",
       "      <th>공고게시일자</th>\n",
       "      <th></th>\n",
       "      <th></th>\n",
       "      <th></th>\n",
       "      <th></th>\n",
       "      <th></th>\n",
       "      <th></th>\n",
       "      <th></th>\n",
       "      <th></th>\n",
       "      <th></th>\n",
       "      <th></th>\n",
       "      <th></th>\n",
       "      <th></th>\n",
       "      <th></th>\n",
       "    </tr>\n",
       "  </thead>\n",
       "  <tbody>\n",
       "    <tr>\n",
       "      <th>2017-01-29</th>\n",
       "      <td>0</td>\n",
       "      <td>0</td>\n",
       "      <td>5.0</td>\n",
       "      <td>170000000.0</td>\n",
       "      <td>154545455.0</td>\n",
       "      <td>1.708266e+08</td>\n",
       "      <td>24</td>\n",
       "      <td>1</td>\n",
       "      <td>2017</td>\n",
       "      <td>0</td>\n",
       "      <td>1</td>\n",
       "      <td>4</td>\n",
       "      <td>0</td>\n",
       "    </tr>\n",
       "    <tr>\n",
       "      <th>2017-02-05</th>\n",
       "      <td>6</td>\n",
       "      <td>0</td>\n",
       "      <td>5.0</td>\n",
       "      <td>170000000.0</td>\n",
       "      <td>154545455.0</td>\n",
       "      <td>1.708266e+08</td>\n",
       "      <td>2</td>\n",
       "      <td>2</td>\n",
       "      <td>2017</td>\n",
       "      <td>0</td>\n",
       "      <td>3</td>\n",
       "      <td>5</td>\n",
       "      <td>0</td>\n",
       "    </tr>\n",
       "    <tr>\n",
       "      <th>2017-02-12</th>\n",
       "      <td>7</td>\n",
       "      <td>0</td>\n",
       "      <td>5.0</td>\n",
       "      <td>170000000.0</td>\n",
       "      <td>154545455.0</td>\n",
       "      <td>1.708266e+08</td>\n",
       "      <td>10</td>\n",
       "      <td>2</td>\n",
       "      <td>2017</td>\n",
       "      <td>0</td>\n",
       "      <td>4</td>\n",
       "      <td>6</td>\n",
       "      <td>0</td>\n",
       "    </tr>\n",
       "    <tr>\n",
       "      <th>2017-02-19</th>\n",
       "      <td>1</td>\n",
       "      <td>0</td>\n",
       "      <td>1.0</td>\n",
       "      <td>443847600.0</td>\n",
       "      <td>403497818.0</td>\n",
       "      <td>4.454314e+08</td>\n",
       "      <td>16</td>\n",
       "      <td>2</td>\n",
       "      <td>2017</td>\n",
       "      <td>0</td>\n",
       "      <td>3</td>\n",
       "      <td>7</td>\n",
       "      <td>0</td>\n",
       "    </tr>\n",
       "    <tr>\n",
       "      <th>2017-02-26</th>\n",
       "      <td>2</td>\n",
       "      <td>0</td>\n",
       "      <td>5.0</td>\n",
       "      <td>170000000.0</td>\n",
       "      <td>154545455.0</td>\n",
       "      <td>1.708266e+08</td>\n",
       "      <td>23</td>\n",
       "      <td>2</td>\n",
       "      <td>2017</td>\n",
       "      <td>0</td>\n",
       "      <td>3</td>\n",
       "      <td>8</td>\n",
       "      <td>0</td>\n",
       "    </tr>\n",
       "    <tr>\n",
       "      <th>...</th>\n",
       "      <td>...</td>\n",
       "      <td>...</td>\n",
       "      <td>...</td>\n",
       "      <td>...</td>\n",
       "      <td>...</td>\n",
       "      <td>...</td>\n",
       "      <td>...</td>\n",
       "      <td>...</td>\n",
       "      <td>...</td>\n",
       "      <td>...</td>\n",
       "      <td>...</td>\n",
       "      <td>...</td>\n",
       "      <td>...</td>\n",
       "    </tr>\n",
       "    <tr>\n",
       "      <th>2020-12-06</th>\n",
       "      <td>12618210</td>\n",
       "      <td>139</td>\n",
       "      <td>1.0</td>\n",
       "      <td>219910800.0</td>\n",
       "      <td>199918909.0</td>\n",
       "      <td>1.158117e+11</td>\n",
       "      <td>875</td>\n",
       "      <td>1262</td>\n",
       "      <td>216140</td>\n",
       "      <td>0</td>\n",
       "      <td>215</td>\n",
       "      <td>5243</td>\n",
       "      <td>0</td>\n",
       "    </tr>\n",
       "    <tr>\n",
       "      <th>2020-12-13</th>\n",
       "      <td>10687813</td>\n",
       "      <td>131</td>\n",
       "      <td>0.0</td>\n",
       "      <td>0.0</td>\n",
       "      <td>0.0</td>\n",
       "      <td>7.513172e+10</td>\n",
       "      <td>838</td>\n",
       "      <td>1080</td>\n",
       "      <td>181800</td>\n",
       "      <td>0</td>\n",
       "      <td>208</td>\n",
       "      <td>4500</td>\n",
       "      <td>0</td>\n",
       "    </tr>\n",
       "    <tr>\n",
       "      <th>2020-12-20</th>\n",
       "      <td>6544001</td>\n",
       "      <td>82</td>\n",
       "      <td>0.0</td>\n",
       "      <td>0.0</td>\n",
       "      <td>0.0</td>\n",
       "      <td>1.394417e+10</td>\n",
       "      <td>881</td>\n",
       "      <td>660</td>\n",
       "      <td>111100</td>\n",
       "      <td>0</td>\n",
       "      <td>111</td>\n",
       "      <td>2805</td>\n",
       "      <td>0</td>\n",
       "    </tr>\n",
       "    <tr>\n",
       "      <th>2020-12-27</th>\n",
       "      <td>2501113</td>\n",
       "      <td>29</td>\n",
       "      <td>0.0</td>\n",
       "      <td>0.0</td>\n",
       "      <td>0.0</td>\n",
       "      <td>3.735845e+09</td>\n",
       "      <td>471</td>\n",
       "      <td>252</td>\n",
       "      <td>42420</td>\n",
       "      <td>0</td>\n",
       "      <td>30</td>\n",
       "      <td>1092</td>\n",
       "      <td>0</td>\n",
       "    </tr>\n",
       "    <tr>\n",
       "      <th>2021-01-03</th>\n",
       "      <td>2022430</td>\n",
       "      <td>29</td>\n",
       "      <td>0.0</td>\n",
       "      <td>0.0</td>\n",
       "      <td>0.0</td>\n",
       "      <td>7.351718e+09</td>\n",
       "      <td>510</td>\n",
       "      <td>204</td>\n",
       "      <td>34340</td>\n",
       "      <td>0</td>\n",
       "      <td>34</td>\n",
       "      <td>901</td>\n",
       "      <td>0</td>\n",
       "    </tr>\n",
       "  </tbody>\n",
       "</table>\n",
       "<p>206 rows × 13 columns</p>\n",
       "</div>"
      ],
      "text/plain": [
       "               index  입찰공고차수  합계수량         합계금액         추정가격          배정예산  \\\n",
       "공고게시일자                                                                       \n",
       "2017-01-29         0       0   5.0  170000000.0  154545455.0  1.708266e+08   \n",
       "2017-02-05         6       0   5.0  170000000.0  154545455.0  1.708266e+08   \n",
       "2017-02-12         7       0   5.0  170000000.0  154545455.0  1.708266e+08   \n",
       "2017-02-19         1       0   1.0  443847600.0  403497818.0  4.454314e+08   \n",
       "2017-02-26         2       0   5.0  170000000.0  154545455.0  1.708266e+08   \n",
       "...              ...     ...   ...          ...          ...           ...   \n",
       "2020-12-06  12618210     139   1.0  219910800.0  199918909.0  1.158117e+11   \n",
       "2020-12-13  10687813     131   0.0          0.0          0.0  7.513172e+10   \n",
       "2020-12-20   6544001      82   0.0          0.0          0.0  1.394417e+10   \n",
       "2020-12-27   2501113      29   0.0          0.0          0.0  3.735845e+09   \n",
       "2021-01-03   2022430      29   0.0          0.0          0.0  7.351718e+09   \n",
       "\n",
       "            day  month    year  hour  dow   woy  실적  \n",
       "공고게시일자                                               \n",
       "2017-01-29   24      1    2017     0    1     4   0  \n",
       "2017-02-05    2      2    2017     0    3     5   0  \n",
       "2017-02-12   10      2    2017     0    4     6   0  \n",
       "2017-02-19   16      2    2017     0    3     7   0  \n",
       "2017-02-26   23      2    2017     0    3     8   0  \n",
       "...         ...    ...     ...   ...  ...   ...  ..  \n",
       "2020-12-06  875   1262  216140     0  215  5243   0  \n",
       "2020-12-13  838   1080  181800     0  208  4500   0  \n",
       "2020-12-20  881    660  111100     0  111  2805   0  \n",
       "2020-12-27  471    252   42420     0   30  1092   0  \n",
       "2021-01-03  510    204   34340     0   34   901   0  \n",
       "\n",
       "[206 rows x 13 columns]"
      ]
     },
     "execution_count": 136,
     "metadata": {},
     "output_type": "execute_result"
    }
   ],
   "source": [
    "df_test_1_grouper"
   ]
  },
  {
   "cell_type": "code",
   "execution_count": 137,
   "metadata": {},
   "outputs": [
    {
     "data": {
      "text/plain": [
       "2017    0.873736\n",
       "Name: 물품금액, dtype: float64"
      ]
     },
     "execution_count": 137,
     "metadata": {},
     "output_type": "execute_result"
    }
   ],
   "source": [
    "df_실적_test.loc[df_실적_test.index == 2017 ,'물품금액']"
   ]
  },
  {
   "cell_type": "code",
   "execution_count": 138,
   "metadata": {},
   "outputs": [],
   "source": [
    "df_test_1_grouper.loc[df_test_1_grouper.index[0],'실적'] =1 "
   ]
  },
  {
   "cell_type": "code",
   "execution_count": 139,
   "metadata": {},
   "outputs": [
    {
     "data": {
      "text/plain": [
       "DatetimeIndex(['2017-01-29', '2017-02-05', '2017-02-12', '2017-02-19',\n",
       "               '2017-02-26', '2017-03-05', '2017-03-12', '2017-03-19',\n",
       "               '2017-03-26', '2017-04-02',\n",
       "               ...\n",
       "               '2020-11-01', '2020-11-08', '2020-11-15', '2020-11-22',\n",
       "               '2020-11-29', '2020-12-06', '2020-12-13', '2020-12-20',\n",
       "               '2020-12-27', '2021-01-03'],\n",
       "              dtype='datetime64[ns]', name='공고게시일자', length=206, freq='W-SUN')"
      ]
     },
     "execution_count": 139,
     "metadata": {},
     "output_type": "execute_result"
    }
   ],
   "source": [
    "df_test_1_grouper.index"
   ]
  },
  {
   "cell_type": "code",
   "execution_count": 146,
   "metadata": {},
   "outputs": [
    {
     "data": {
      "text/html": [
       "<div>\n",
       "<style scoped>\n",
       "    .dataframe tbody tr th:only-of-type {\n",
       "        vertical-align: middle;\n",
       "    }\n",
       "\n",
       "    .dataframe tbody tr th {\n",
       "        vertical-align: top;\n",
       "    }\n",
       "\n",
       "    .dataframe thead th {\n",
       "        text-align: right;\n",
       "    }\n",
       "</style>\n",
       "<table border=\"1\" class=\"dataframe\">\n",
       "  <thead>\n",
       "    <tr style=\"text-align: right;\">\n",
       "      <th></th>\n",
       "      <th>물품금액</th>\n",
       "    </tr>\n",
       "  </thead>\n",
       "  <tbody>\n",
       "    <tr>\n",
       "      <th>2020</th>\n",
       "      <td>0.934931</td>\n",
       "    </tr>\n",
       "    <tr>\n",
       "      <th>2019</th>\n",
       "      <td>1.111828</td>\n",
       "    </tr>\n",
       "    <tr>\n",
       "      <th>2018</th>\n",
       "      <td>1.079505</td>\n",
       "    </tr>\n",
       "    <tr>\n",
       "      <th>2017</th>\n",
       "      <td>0.873736</td>\n",
       "    </tr>\n",
       "    <tr>\n",
       "      <th>2021</th>\n",
       "      <td>1.000000</td>\n",
       "    </tr>\n",
       "  </tbody>\n",
       "</table>\n",
       "</div>"
      ],
      "text/plain": [
       "          물품금액\n",
       "2020  0.934931\n",
       "2019  1.111828\n",
       "2018  1.079505\n",
       "2017  0.873736\n",
       "2021  1.000000"
      ]
     },
     "execution_count": 146,
     "metadata": {},
     "output_type": "execute_result"
    }
   ],
   "source": [
    "df_실적_test"
   ]
  },
  {
   "cell_type": "code",
   "execution_count": 140,
   "metadata": {
    "scrolled": false
   },
   "outputs": [],
   "source": [
    "for j,i in enumerate(df_test_1_grouper.index): \n",
    "    if i.year == 2017:\n",
    "        df_test_1_grouper.loc[df_test_1_grouper.index[j],'실적'] = df_실적_test.loc[df_실적_test.index == 2017 ,'물품금액'].values\n",
    "    elif i.year == 2018:\n",
    "        df_test_1_grouper.loc[df_test_1_grouper.index[j],'실적'] = df_실적_test.loc[df_실적_test.index == 2018,'물품금액'].values\n",
    "    elif i.year == 2019:\n",
    "        df_test_1_grouper.loc[df_test_1_grouper.index[j],'실적'] = df_실적_test.loc[df_실적_test.index == 2019,'물품금액'].values\n",
    "    elif i.year == 2020:\n",
    "        df_test_1_grouper.loc[df_test_1_grouper.index[j],'실적'] = df_실적_test.loc[df_실적_test.index == 2020,'물품금액'].values\n",
    "    elif i.year == 2021:\n",
    "        df_test_1_grouper.loc[df_test_1_grouper.index[j],'실적'] = df_실적_test.loc[df_실적_test.index == 2021,'물품금액'].values\n"
   ]
  },
  {
   "cell_type": "code",
   "execution_count": 142,
   "metadata": {},
   "outputs": [],
   "source": [
    "for j,i in enumerate(df_test_2_grouper.index): \n",
    "    if i.year == 2017:\n",
    "        df_test_2_grouper.loc[df_test_2_grouper.index[j],'실적'] = df_실적_test.loc[df_실적_test.index == 2017 ,'물품금액'].values\n",
    "    elif i.year == 2018:\n",
    "        df_test_2_grouper.loc[df_test_2_grouper.index[j],'실적'] = df_실적_test.loc[df_실적_test.index == 2018,'물품금액'].values\n",
    "    elif i.year == 2019:\n",
    "        df_test_2_grouper.loc[df_test_2_grouper.index[j],'실적'] = df_실적_test.loc[df_실적_test.index == 2019,'물품금액'].values\n",
    "    elif i.year == 2020:\n",
    "        df_test_2_grouper.loc[df_test_2_grouper.index[j],'실적'] = df_실적_test.loc[df_실적_test.index == 2020,'물품금액'].values\n",
    "    elif i.year == 2021:\n",
    "        df_test_2_grouper.loc[df_test_2_grouper.index[j],'실적'] = df_실적_test.loc[df_실적_test.index == 2021,'물품금액'].values"
   ]
  },
  {
   "cell_type": "code",
   "execution_count": 145,
   "metadata": {},
   "outputs": [
    {
     "data": {
      "text/html": [
       "<div>\n",
       "<style scoped>\n",
       "    .dataframe tbody tr th:only-of-type {\n",
       "        vertical-align: middle;\n",
       "    }\n",
       "\n",
       "    .dataframe tbody tr th {\n",
       "        vertical-align: top;\n",
       "    }\n",
       "\n",
       "    .dataframe thead th {\n",
       "        text-align: right;\n",
       "    }\n",
       "</style>\n",
       "<table border=\"1\" class=\"dataframe\">\n",
       "  <thead>\n",
       "    <tr style=\"text-align: right;\">\n",
       "      <th></th>\n",
       "      <th>입찰공고차수</th>\n",
       "      <th>합계수량</th>\n",
       "      <th>합계금액</th>\n",
       "      <th>추정가격</th>\n",
       "      <th>배정예산</th>\n",
       "      <th>day</th>\n",
       "      <th>month</th>\n",
       "      <th>year</th>\n",
       "      <th>hour</th>\n",
       "      <th>dow</th>\n",
       "      <th>woy</th>\n",
       "      <th>실적</th>\n",
       "    </tr>\n",
       "    <tr>\n",
       "      <th>공고게시일자</th>\n",
       "      <th></th>\n",
       "      <th></th>\n",
       "      <th></th>\n",
       "      <th></th>\n",
       "      <th></th>\n",
       "      <th></th>\n",
       "      <th></th>\n",
       "      <th></th>\n",
       "      <th></th>\n",
       "      <th></th>\n",
       "      <th></th>\n",
       "      <th></th>\n",
       "    </tr>\n",
       "  </thead>\n",
       "  <tbody>\n",
       "    <tr>\n",
       "      <th>2022-01-02</th>\n",
       "      <td>18</td>\n",
       "      <td>0.0</td>\n",
       "      <td>0.0</td>\n",
       "      <td>0.0</td>\n",
       "      <td>2.377210e+09</td>\n",
       "      <td>446</td>\n",
       "      <td>180</td>\n",
       "      <td>30315</td>\n",
       "      <td>0</td>\n",
       "      <td>41</td>\n",
       "      <td>780</td>\n",
       "      <td>NaN</td>\n",
       "    </tr>\n",
       "    <tr>\n",
       "      <th>2022-01-09</th>\n",
       "      <td>30</td>\n",
       "      <td>0.0</td>\n",
       "      <td>0.0</td>\n",
       "      <td>0.0</td>\n",
       "      <td>2.735366e+09</td>\n",
       "      <td>107</td>\n",
       "      <td>18</td>\n",
       "      <td>36396</td>\n",
       "      <td>0</td>\n",
       "      <td>53</td>\n",
       "      <td>18</td>\n",
       "      <td>NaN</td>\n",
       "    </tr>\n",
       "    <tr>\n",
       "      <th>2022-01-16</th>\n",
       "      <td>44</td>\n",
       "      <td>0.0</td>\n",
       "      <td>0.0</td>\n",
       "      <td>0.0</td>\n",
       "      <td>1.169948e+10</td>\n",
       "      <td>401</td>\n",
       "      <td>32</td>\n",
       "      <td>64704</td>\n",
       "      <td>0</td>\n",
       "      <td>81</td>\n",
       "      <td>64</td>\n",
       "      <td>NaN</td>\n",
       "    </tr>\n",
       "    <tr>\n",
       "      <th>2022-01-23</th>\n",
       "      <td>8</td>\n",
       "      <td>0.0</td>\n",
       "      <td>0.0</td>\n",
       "      <td>0.0</td>\n",
       "      <td>4.061218e+08</td>\n",
       "      <td>69</td>\n",
       "      <td>4</td>\n",
       "      <td>8088</td>\n",
       "      <td>0</td>\n",
       "      <td>1</td>\n",
       "      <td>12</td>\n",
       "      <td>NaN</td>\n",
       "    </tr>\n",
       "  </tbody>\n",
       "</table>\n",
       "</div>"
      ],
      "text/plain": [
       "            입찰공고차수  합계수량  합계금액  추정가격          배정예산  day  month   year  hour  \\\n",
       "공고게시일자                                                                        \n",
       "2022-01-02      18   0.0   0.0   0.0  2.377210e+09  446    180  30315     0   \n",
       "2022-01-09      30   0.0   0.0   0.0  2.735366e+09  107     18  36396     0   \n",
       "2022-01-16      44   0.0   0.0   0.0  1.169948e+10  401     32  64704     0   \n",
       "2022-01-23       8   0.0   0.0   0.0  4.061218e+08   69      4   8088     0   \n",
       "\n",
       "            dow  woy  실적  \n",
       "공고게시일자                    \n",
       "2022-01-02   41  780 NaN  \n",
       "2022-01-09   53   18 NaN  \n",
       "2022-01-16   81   64 NaN  \n",
       "2022-01-23    1   12 NaN  "
      ]
     },
     "execution_count": 145,
     "metadata": {},
     "output_type": "execute_result"
    }
   ],
   "source": [
    "df_test_2_grouper[df_test_2_grouper['실적'].isnull()]"
   ]
  },
  {
   "cell_type": "code",
   "execution_count": 154,
   "metadata": {},
   "outputs": [
    {
     "data": {
      "text/plain": [
       "index     0\n",
       "입찰공고차수    0\n",
       "합계수량      0\n",
       "합계금액      0\n",
       "추정가격      0\n",
       "배정예산      0\n",
       "day       0\n",
       "month     0\n",
       "year      0\n",
       "hour      0\n",
       "dow       0\n",
       "woy       0\n",
       "실적        0\n",
       "dtype: int64"
      ]
     },
     "execution_count": 154,
     "metadata": {},
     "output_type": "execute_result"
    }
   ],
   "source": [
    "df_test_1_grouper.isnull().sum()"
   ]
  },
  {
   "cell_type": "code",
   "execution_count": 155,
   "metadata": {},
   "outputs": [],
   "source": [
    "df_test_1_grouper.dropna(subset=['실적'],inplace = True)"
   ]
  },
  {
   "cell_type": "code",
   "execution_count": 156,
   "metadata": {},
   "outputs": [
    {
     "data": {
      "text/plain": [
       "index     0\n",
       "입찰공고차수    0\n",
       "합계수량      0\n",
       "합계금액      0\n",
       "추정가격      0\n",
       "배정예산      0\n",
       "day       0\n",
       "month     0\n",
       "year      0\n",
       "hour      0\n",
       "dow       0\n",
       "woy       0\n",
       "실적        0\n",
       "dtype: int64"
      ]
     },
     "execution_count": 156,
     "metadata": {},
     "output_type": "execute_result"
    }
   ],
   "source": [
    "df_test_1_grouper.isnull().sum()"
   ]
  },
  {
   "cell_type": "code",
   "execution_count": 157,
   "metadata": {},
   "outputs": [
    {
     "data": {
      "text/plain": [
       "입찰공고차수    0\n",
       "합계수량      0\n",
       "합계금액      0\n",
       "추정가격      0\n",
       "배정예산      0\n",
       "day       0\n",
       "month     0\n",
       "year      0\n",
       "hour      0\n",
       "dow       0\n",
       "woy       0\n",
       "실적        0\n",
       "dtype: int64"
      ]
     },
     "execution_count": 157,
     "metadata": {},
     "output_type": "execute_result"
    }
   ],
   "source": [
    "df_test_2_grouper.isnull().sum()"
   ]
  },
  {
   "cell_type": "code",
   "execution_count": 158,
   "metadata": {},
   "outputs": [],
   "source": [
    "df_test_2_grouper.dropna(subset=['실적'],inplace = True)"
   ]
  },
  {
   "cell_type": "code",
   "execution_count": 159,
   "metadata": {},
   "outputs": [
    {
     "data": {
      "text/plain": [
       "입찰공고차수    0\n",
       "합계수량      0\n",
       "합계금액      0\n",
       "추정가격      0\n",
       "배정예산      0\n",
       "day       0\n",
       "month     0\n",
       "year      0\n",
       "hour      0\n",
       "dow       0\n",
       "woy       0\n",
       "실적        0\n",
       "dtype: int64"
      ]
     },
     "execution_count": 159,
     "metadata": {},
     "output_type": "execute_result"
    }
   ],
   "source": [
    "df_test_2_grouper.isnull().sum()"
   ]
  },
  {
   "cell_type": "code",
   "execution_count": 162,
   "metadata": {},
   "outputs": [],
   "source": [
    "ml_columns = [\n",
    "'day', 'month', 'year', 'hour', 'dow', 'woy','실적','입찰공고차수'\n",
    "]"
   ]
  },
  {
   "cell_type": "code",
   "execution_count": 163,
   "metadata": {},
   "outputs": [],
   "source": [
    "X_train = df_test_1_grouper[ml_columns].copy()\n",
    "y_train = df_test_1_grouper['배정예산'].copy()\n",
    "X_test = df_test_2_grouper[ml_columns].copy()\n",
    "y_test = df_test_2_grouper['배정예산'].copy()"
   ]
  },
  {
   "cell_type": "code",
   "execution_count": 166,
   "metadata": {},
   "outputs": [],
   "source": [
    "from sklearn.linear_model import LinearRegression\n",
    "\n",
    "model = LinearRegression()\n",
    "\n",
    "model_made_1 = model.fit(X_train, y_train)\n"
   ]
  },
  {
   "cell_type": "code",
   "execution_count": 167,
   "metadata": {},
   "outputs": [
    {
     "data": {
      "text/plain": [
       "array([4.38279224e+10, 1.42541443e+10, 2.40824456e+10, 7.46054052e+10,\n",
       "       1.27707786e+11, 5.85368880e+09, 2.09394541e+10, 5.63177804e+10,\n",
       "       9.71644567e+10, 7.05580972e+10, 6.80103259e+10, 8.83905655e+10,\n",
       "       9.82628772e+10, 9.40635202e+10, 7.73401097e+10, 1.16953434e+11,\n",
       "       8.71122676e+10, 1.14001974e+11, 8.45898000e+10, 7.70198650e+10,\n",
       "       1.03726405e+11, 1.01263092e+11, 8.14532429e+10, 7.41423480e+10,\n",
       "       8.11501522e+10, 8.12557455e+10, 9.08491061e+10, 8.70301350e+10,\n",
       "       8.94697387e+10, 8.57674155e+10, 1.04674035e+11, 1.19364742e+11,\n",
       "       1.42936916e+11, 1.45397275e+11, 4.82709894e+10, 1.02042099e+11,\n",
       "       1.07889670e+11, 9.74433455e+10, 1.30143801e+11, 1.15237290e+11,\n",
       "       1.25367738e+11, 1.22553650e+11, 1.04075659e+11, 9.93193705e+10,\n",
       "       1.05870714e+11, 2.02530965e+11, 1.47867605e+11, 6.64514211e+10])"
      ]
     },
     "execution_count": 167,
     "metadata": {},
     "output_type": "execute_result"
    }
   ],
   "source": [
    "model_made_1.predict(X_test)"
   ]
  },
  {
   "cell_type": "code",
   "execution_count": 169,
   "metadata": {},
   "outputs": [
    {
     "name": "stdout",
     "output_type": "stream",
     "text": [
      "mean_squared_log_error =  1.1006352434286615\n",
      "r2_score =  0.027563938800382992\n"
     ]
    }
   ],
   "source": [
    "score = make_scorer(mean_squared_log_error)\n",
    "\n",
    "print('mean_squared_log_error = ',score(model_made_1, X_test, y_test))\n",
    "\n",
    "score = make_scorer(r2_score)\n",
    "\n",
    "print('r2_score = ',score(model_made_1, X_test, y_test))"
   ]
  },
  {
   "cell_type": "code",
   "execution_count": 394,
   "metadata": {},
   "outputs": [
    {
     "name": "stdout",
     "output_type": "stream",
     "text": [
      "Fitting 5 folds for each of 162 candidates, totalling 810 fits\n",
      "[11:22:26] WARNING: C:/Users/Administrator/workspace/xgboost-win64_release_1.5.1/src/learner.cc:576: \n",
      "Parameters: { \"min_samples_leaf\" } might not be used.\n",
      "\n",
      "  This could be a false alarm, with some parameters getting used by language bindings but\n",
      "  then being mistakenly passed down to XGBoost core, or some parameter actually being used\n",
      "  but getting flagged wrongly here. Please open an issue if you find any such cases.\n",
      "\n",
      "\n",
      "{'learning_rate': 0.02, 'max_depth': 4, 'min_samples_leaf': 12, 'n_estimators': 200, 'subsample': 0.6}\n"
     ]
    }
   ],
   "source": [
    "n_estimators = [200, 500, 750]\n",
    "max_depth = [4, 5, 6]\n",
    "min_samples_leaf = [12, 15]\n",
    "learning_rate = [0.02, 0.05, 0.1]\n",
    "subsample = [0.6, 0.7, 0.8]\n",
    "\n",
    "hyperparams = {'n_estimators': n_estimators, 'max_depth': max_depth, \n",
    "                    'min_samples_leaf': min_samples_leaf,\n",
    "                    'learning_rate': learning_rate, 'subsample': subsample\n",
    "              }\n",
    "\n",
    "\n",
    "XGB_grid = GridSearchCV(estimator = XGBRegressor(), param_grid = hyperparams, \n",
    "                verbose=True, scoring=mean_squared_log_error, cv=5, n_jobs=-1)\n",
    "\n",
    "XGB_grid.fit(X_train, y_train)\n",
    "print(XGB_grid.best_params_)"
   ]
  },
  {
   "cell_type": "code",
   "execution_count": 395,
   "metadata": {},
   "outputs": [
    {
     "name": "stdout",
     "output_type": "stream",
     "text": [
      "[11:22:36] WARNING: C:/Users/Administrator/workspace/xgboost-win64_release_1.5.1/src/learner.cc:576: \n",
      "Parameters: { \"min_samples_leaf\" } might not be used.\n",
      "\n",
      "  This could be a false alarm, with some parameters getting used by language bindings but\n",
      "  then being mistakenly passed down to XGBoost core, or some parameter actually being used\n",
      "  but getting flagged wrongly here. Please open an issue if you find any such cases.\n",
      "\n",
      "\n"
     ]
    }
   ],
   "source": [
    "XGB_grid_1 = XGB_grid.best_estimator_\n",
    "XGB_grid_2 = XGB_grid_1.fit(X_train, y_train)\n",
    "XGB_grid_2_predict = XGB_grid_2.predict(X_test)"
   ]
  },
  {
   "cell_type": "code",
   "execution_count": 396,
   "metadata": {},
   "outputs": [
    {
     "data": {
      "application/vnd.plotly.v1+json": {
       "config": {
        "plotlyServerURL": "https://plot.ly"
       },
       "data": [
        {
         "type": "bar",
         "x": [
          "day",
          "month",
          "year",
          "hour",
          "dow",
          "woy",
          "실적",
          "입찰공고차수"
         ],
         "y": [
          0.1397443562746048,
          0.13017705082893372,
          0.14376525580883026,
          0,
          0.09000411629676819,
          0.17726419866085052,
          0.052870579063892365,
          0.26617446541786194
         ]
        }
       ],
       "layout": {
        "template": {
         "data": {
          "bar": [
           {
            "error_x": {
             "color": "#2a3f5f"
            },
            "error_y": {
             "color": "#2a3f5f"
            },
            "marker": {
             "line": {
              "color": "#E5ECF6",
              "width": 0.5
             },
             "pattern": {
              "fillmode": "overlay",
              "size": 10,
              "solidity": 0.2
             }
            },
            "type": "bar"
           }
          ],
          "barpolar": [
           {
            "marker": {
             "line": {
              "color": "#E5ECF6",
              "width": 0.5
             },
             "pattern": {
              "fillmode": "overlay",
              "size": 10,
              "solidity": 0.2
             }
            },
            "type": "barpolar"
           }
          ],
          "carpet": [
           {
            "aaxis": {
             "endlinecolor": "#2a3f5f",
             "gridcolor": "white",
             "linecolor": "white",
             "minorgridcolor": "white",
             "startlinecolor": "#2a3f5f"
            },
            "baxis": {
             "endlinecolor": "#2a3f5f",
             "gridcolor": "white",
             "linecolor": "white",
             "minorgridcolor": "white",
             "startlinecolor": "#2a3f5f"
            },
            "type": "carpet"
           }
          ],
          "choropleth": [
           {
            "colorbar": {
             "outlinewidth": 0,
             "ticks": ""
            },
            "type": "choropleth"
           }
          ],
          "contour": [
           {
            "colorbar": {
             "outlinewidth": 0,
             "ticks": ""
            },
            "colorscale": [
             [
              0,
              "#0d0887"
             ],
             [
              0.1111111111111111,
              "#46039f"
             ],
             [
              0.2222222222222222,
              "#7201a8"
             ],
             [
              0.3333333333333333,
              "#9c179e"
             ],
             [
              0.4444444444444444,
              "#bd3786"
             ],
             [
              0.5555555555555556,
              "#d8576b"
             ],
             [
              0.6666666666666666,
              "#ed7953"
             ],
             [
              0.7777777777777778,
              "#fb9f3a"
             ],
             [
              0.8888888888888888,
              "#fdca26"
             ],
             [
              1,
              "#f0f921"
             ]
            ],
            "type": "contour"
           }
          ],
          "contourcarpet": [
           {
            "colorbar": {
             "outlinewidth": 0,
             "ticks": ""
            },
            "type": "contourcarpet"
           }
          ],
          "heatmap": [
           {
            "colorbar": {
             "outlinewidth": 0,
             "ticks": ""
            },
            "colorscale": [
             [
              0,
              "#0d0887"
             ],
             [
              0.1111111111111111,
              "#46039f"
             ],
             [
              0.2222222222222222,
              "#7201a8"
             ],
             [
              0.3333333333333333,
              "#9c179e"
             ],
             [
              0.4444444444444444,
              "#bd3786"
             ],
             [
              0.5555555555555556,
              "#d8576b"
             ],
             [
              0.6666666666666666,
              "#ed7953"
             ],
             [
              0.7777777777777778,
              "#fb9f3a"
             ],
             [
              0.8888888888888888,
              "#fdca26"
             ],
             [
              1,
              "#f0f921"
             ]
            ],
            "type": "heatmap"
           }
          ],
          "heatmapgl": [
           {
            "colorbar": {
             "outlinewidth": 0,
             "ticks": ""
            },
            "colorscale": [
             [
              0,
              "#0d0887"
             ],
             [
              0.1111111111111111,
              "#46039f"
             ],
             [
              0.2222222222222222,
              "#7201a8"
             ],
             [
              0.3333333333333333,
              "#9c179e"
             ],
             [
              0.4444444444444444,
              "#bd3786"
             ],
             [
              0.5555555555555556,
              "#d8576b"
             ],
             [
              0.6666666666666666,
              "#ed7953"
             ],
             [
              0.7777777777777778,
              "#fb9f3a"
             ],
             [
              0.8888888888888888,
              "#fdca26"
             ],
             [
              1,
              "#f0f921"
             ]
            ],
            "type": "heatmapgl"
           }
          ],
          "histogram": [
           {
            "marker": {
             "pattern": {
              "fillmode": "overlay",
              "size": 10,
              "solidity": 0.2
             }
            },
            "type": "histogram"
           }
          ],
          "histogram2d": [
           {
            "colorbar": {
             "outlinewidth": 0,
             "ticks": ""
            },
            "colorscale": [
             [
              0,
              "#0d0887"
             ],
             [
              0.1111111111111111,
              "#46039f"
             ],
             [
              0.2222222222222222,
              "#7201a8"
             ],
             [
              0.3333333333333333,
              "#9c179e"
             ],
             [
              0.4444444444444444,
              "#bd3786"
             ],
             [
              0.5555555555555556,
              "#d8576b"
             ],
             [
              0.6666666666666666,
              "#ed7953"
             ],
             [
              0.7777777777777778,
              "#fb9f3a"
             ],
             [
              0.8888888888888888,
              "#fdca26"
             ],
             [
              1,
              "#f0f921"
             ]
            ],
            "type": "histogram2d"
           }
          ],
          "histogram2dcontour": [
           {
            "colorbar": {
             "outlinewidth": 0,
             "ticks": ""
            },
            "colorscale": [
             [
              0,
              "#0d0887"
             ],
             [
              0.1111111111111111,
              "#46039f"
             ],
             [
              0.2222222222222222,
              "#7201a8"
             ],
             [
              0.3333333333333333,
              "#9c179e"
             ],
             [
              0.4444444444444444,
              "#bd3786"
             ],
             [
              0.5555555555555556,
              "#d8576b"
             ],
             [
              0.6666666666666666,
              "#ed7953"
             ],
             [
              0.7777777777777778,
              "#fb9f3a"
             ],
             [
              0.8888888888888888,
              "#fdca26"
             ],
             [
              1,
              "#f0f921"
             ]
            ],
            "type": "histogram2dcontour"
           }
          ],
          "mesh3d": [
           {
            "colorbar": {
             "outlinewidth": 0,
             "ticks": ""
            },
            "type": "mesh3d"
           }
          ],
          "parcoords": [
           {
            "line": {
             "colorbar": {
              "outlinewidth": 0,
              "ticks": ""
             }
            },
            "type": "parcoords"
           }
          ],
          "pie": [
           {
            "automargin": true,
            "type": "pie"
           }
          ],
          "scatter": [
           {
            "marker": {
             "colorbar": {
              "outlinewidth": 0,
              "ticks": ""
             }
            },
            "type": "scatter"
           }
          ],
          "scatter3d": [
           {
            "line": {
             "colorbar": {
              "outlinewidth": 0,
              "ticks": ""
             }
            },
            "marker": {
             "colorbar": {
              "outlinewidth": 0,
              "ticks": ""
             }
            },
            "type": "scatter3d"
           }
          ],
          "scattercarpet": [
           {
            "marker": {
             "colorbar": {
              "outlinewidth": 0,
              "ticks": ""
             }
            },
            "type": "scattercarpet"
           }
          ],
          "scattergeo": [
           {
            "marker": {
             "colorbar": {
              "outlinewidth": 0,
              "ticks": ""
             }
            },
            "type": "scattergeo"
           }
          ],
          "scattergl": [
           {
            "marker": {
             "colorbar": {
              "outlinewidth": 0,
              "ticks": ""
             }
            },
            "type": "scattergl"
           }
          ],
          "scattermapbox": [
           {
            "marker": {
             "colorbar": {
              "outlinewidth": 0,
              "ticks": ""
             }
            },
            "type": "scattermapbox"
           }
          ],
          "scatterpolar": [
           {
            "marker": {
             "colorbar": {
              "outlinewidth": 0,
              "ticks": ""
             }
            },
            "type": "scatterpolar"
           }
          ],
          "scatterpolargl": [
           {
            "marker": {
             "colorbar": {
              "outlinewidth": 0,
              "ticks": ""
             }
            },
            "type": "scatterpolargl"
           }
          ],
          "scatterternary": [
           {
            "marker": {
             "colorbar": {
              "outlinewidth": 0,
              "ticks": ""
             }
            },
            "type": "scatterternary"
           }
          ],
          "surface": [
           {
            "colorbar": {
             "outlinewidth": 0,
             "ticks": ""
            },
            "colorscale": [
             [
              0,
              "#0d0887"
             ],
             [
              0.1111111111111111,
              "#46039f"
             ],
             [
              0.2222222222222222,
              "#7201a8"
             ],
             [
              0.3333333333333333,
              "#9c179e"
             ],
             [
              0.4444444444444444,
              "#bd3786"
             ],
             [
              0.5555555555555556,
              "#d8576b"
             ],
             [
              0.6666666666666666,
              "#ed7953"
             ],
             [
              0.7777777777777778,
              "#fb9f3a"
             ],
             [
              0.8888888888888888,
              "#fdca26"
             ],
             [
              1,
              "#f0f921"
             ]
            ],
            "type": "surface"
           }
          ],
          "table": [
           {
            "cells": {
             "fill": {
              "color": "#EBF0F8"
             },
             "line": {
              "color": "white"
             }
            },
            "header": {
             "fill": {
              "color": "#C8D4E3"
             },
             "line": {
              "color": "white"
             }
            },
            "type": "table"
           }
          ]
         },
         "layout": {
          "annotationdefaults": {
           "arrowcolor": "#2a3f5f",
           "arrowhead": 0,
           "arrowwidth": 1
          },
          "autotypenumbers": "strict",
          "coloraxis": {
           "colorbar": {
            "outlinewidth": 0,
            "ticks": ""
           }
          },
          "colorscale": {
           "diverging": [
            [
             0,
             "#8e0152"
            ],
            [
             0.1,
             "#c51b7d"
            ],
            [
             0.2,
             "#de77ae"
            ],
            [
             0.3,
             "#f1b6da"
            ],
            [
             0.4,
             "#fde0ef"
            ],
            [
             0.5,
             "#f7f7f7"
            ],
            [
             0.6,
             "#e6f5d0"
            ],
            [
             0.7,
             "#b8e186"
            ],
            [
             0.8,
             "#7fbc41"
            ],
            [
             0.9,
             "#4d9221"
            ],
            [
             1,
             "#276419"
            ]
           ],
           "sequential": [
            [
             0,
             "#0d0887"
            ],
            [
             0.1111111111111111,
             "#46039f"
            ],
            [
             0.2222222222222222,
             "#7201a8"
            ],
            [
             0.3333333333333333,
             "#9c179e"
            ],
            [
             0.4444444444444444,
             "#bd3786"
            ],
            [
             0.5555555555555556,
             "#d8576b"
            ],
            [
             0.6666666666666666,
             "#ed7953"
            ],
            [
             0.7777777777777778,
             "#fb9f3a"
            ],
            [
             0.8888888888888888,
             "#fdca26"
            ],
            [
             1,
             "#f0f921"
            ]
           ],
           "sequentialminus": [
            [
             0,
             "#0d0887"
            ],
            [
             0.1111111111111111,
             "#46039f"
            ],
            [
             0.2222222222222222,
             "#7201a8"
            ],
            [
             0.3333333333333333,
             "#9c179e"
            ],
            [
             0.4444444444444444,
             "#bd3786"
            ],
            [
             0.5555555555555556,
             "#d8576b"
            ],
            [
             0.6666666666666666,
             "#ed7953"
            ],
            [
             0.7777777777777778,
             "#fb9f3a"
            ],
            [
             0.8888888888888888,
             "#fdca26"
            ],
            [
             1,
             "#f0f921"
            ]
           ]
          },
          "colorway": [
           "#636efa",
           "#EF553B",
           "#00cc96",
           "#ab63fa",
           "#FFA15A",
           "#19d3f3",
           "#FF6692",
           "#B6E880",
           "#FF97FF",
           "#FECB52"
          ],
          "font": {
           "color": "#2a3f5f"
          },
          "geo": {
           "bgcolor": "white",
           "lakecolor": "white",
           "landcolor": "#E5ECF6",
           "showlakes": true,
           "showland": true,
           "subunitcolor": "white"
          },
          "hoverlabel": {
           "align": "left"
          },
          "hovermode": "closest",
          "mapbox": {
           "style": "light"
          },
          "paper_bgcolor": "white",
          "plot_bgcolor": "#E5ECF6",
          "polar": {
           "angularaxis": {
            "gridcolor": "white",
            "linecolor": "white",
            "ticks": ""
           },
           "bgcolor": "#E5ECF6",
           "radialaxis": {
            "gridcolor": "white",
            "linecolor": "white",
            "ticks": ""
           }
          },
          "scene": {
           "xaxis": {
            "backgroundcolor": "#E5ECF6",
            "gridcolor": "white",
            "gridwidth": 2,
            "linecolor": "white",
            "showbackground": true,
            "ticks": "",
            "zerolinecolor": "white"
           },
           "yaxis": {
            "backgroundcolor": "#E5ECF6",
            "gridcolor": "white",
            "gridwidth": 2,
            "linecolor": "white",
            "showbackground": true,
            "ticks": "",
            "zerolinecolor": "white"
           },
           "zaxis": {
            "backgroundcolor": "#E5ECF6",
            "gridcolor": "white",
            "gridwidth": 2,
            "linecolor": "white",
            "showbackground": true,
            "ticks": "",
            "zerolinecolor": "white"
           }
          },
          "shapedefaults": {
           "line": {
            "color": "#2a3f5f"
           }
          },
          "ternary": {
           "aaxis": {
            "gridcolor": "white",
            "linecolor": "white",
            "ticks": ""
           },
           "baxis": {
            "gridcolor": "white",
            "linecolor": "white",
            "ticks": ""
           },
           "bgcolor": "#E5ECF6",
           "caxis": {
            "gridcolor": "white",
            "linecolor": "white",
            "ticks": ""
           }
          },
          "title": {
           "x": 0.05
          },
          "xaxis": {
           "automargin": true,
           "gridcolor": "white",
           "linecolor": "white",
           "ticks": "",
           "title": {
            "standoff": 15
           },
           "zerolinecolor": "white",
           "zerolinewidth": 2
          },
          "yaxis": {
           "automargin": true,
           "gridcolor": "white",
           "linecolor": "white",
           "ticks": "",
           "title": {
            "standoff": 15
           },
           "zerolinecolor": "white",
           "zerolinewidth": 2
          }
         }
        },
        "title": {
         "text": "XGBoost에 대한 Feature importance"
        }
       }
      },
      "text/html": [
       "<div>                            <div id=\"665d51db-0591-46f2-8b2f-4c7d2a452290\" class=\"plotly-graph-div\" style=\"height:525px; width:100%;\"></div>            <script type=\"text/javascript\">                require([\"plotly\"], function(Plotly) {                    window.PLOTLYENV=window.PLOTLYENV || {};                                    if (document.getElementById(\"665d51db-0591-46f2-8b2f-4c7d2a452290\")) {                    Plotly.newPlot(                        \"665d51db-0591-46f2-8b2f-4c7d2a452290\",                        [{\"type\":\"bar\",\"x\":[\"day\",\"month\",\"year\",\"hour\",\"dow\",\"woy\",\"\\uc2e4\\uc801\",\"\\uc785\\ucc30\\uacf5\\uace0\\ucc28\\uc218\"],\"y\":[0.1397443562746048,0.13017705082893372,0.14376525580883026,0.0,0.09000411629676819,0.17726419866085052,0.052870579063892365,0.26617446541786194]}],                        {\"template\":{\"data\":{\"bar\":[{\"error_x\":{\"color\":\"#2a3f5f\"},\"error_y\":{\"color\":\"#2a3f5f\"},\"marker\":{\"line\":{\"color\":\"#E5ECF6\",\"width\":0.5},\"pattern\":{\"fillmode\":\"overlay\",\"size\":10,\"solidity\":0.2}},\"type\":\"bar\"}],\"barpolar\":[{\"marker\":{\"line\":{\"color\":\"#E5ECF6\",\"width\":0.5},\"pattern\":{\"fillmode\":\"overlay\",\"size\":10,\"solidity\":0.2}},\"type\":\"barpolar\"}],\"carpet\":[{\"aaxis\":{\"endlinecolor\":\"#2a3f5f\",\"gridcolor\":\"white\",\"linecolor\":\"white\",\"minorgridcolor\":\"white\",\"startlinecolor\":\"#2a3f5f\"},\"baxis\":{\"endlinecolor\":\"#2a3f5f\",\"gridcolor\":\"white\",\"linecolor\":\"white\",\"minorgridcolor\":\"white\",\"startlinecolor\":\"#2a3f5f\"},\"type\":\"carpet\"}],\"choropleth\":[{\"colorbar\":{\"outlinewidth\":0,\"ticks\":\"\"},\"type\":\"choropleth\"}],\"contour\":[{\"colorbar\":{\"outlinewidth\":0,\"ticks\":\"\"},\"colorscale\":[[0.0,\"#0d0887\"],[0.1111111111111111,\"#46039f\"],[0.2222222222222222,\"#7201a8\"],[0.3333333333333333,\"#9c179e\"],[0.4444444444444444,\"#bd3786\"],[0.5555555555555556,\"#d8576b\"],[0.6666666666666666,\"#ed7953\"],[0.7777777777777778,\"#fb9f3a\"],[0.8888888888888888,\"#fdca26\"],[1.0,\"#f0f921\"]],\"type\":\"contour\"}],\"contourcarpet\":[{\"colorbar\":{\"outlinewidth\":0,\"ticks\":\"\"},\"type\":\"contourcarpet\"}],\"heatmap\":[{\"colorbar\":{\"outlinewidth\":0,\"ticks\":\"\"},\"colorscale\":[[0.0,\"#0d0887\"],[0.1111111111111111,\"#46039f\"],[0.2222222222222222,\"#7201a8\"],[0.3333333333333333,\"#9c179e\"],[0.4444444444444444,\"#bd3786\"],[0.5555555555555556,\"#d8576b\"],[0.6666666666666666,\"#ed7953\"],[0.7777777777777778,\"#fb9f3a\"],[0.8888888888888888,\"#fdca26\"],[1.0,\"#f0f921\"]],\"type\":\"heatmap\"}],\"heatmapgl\":[{\"colorbar\":{\"outlinewidth\":0,\"ticks\":\"\"},\"colorscale\":[[0.0,\"#0d0887\"],[0.1111111111111111,\"#46039f\"],[0.2222222222222222,\"#7201a8\"],[0.3333333333333333,\"#9c179e\"],[0.4444444444444444,\"#bd3786\"],[0.5555555555555556,\"#d8576b\"],[0.6666666666666666,\"#ed7953\"],[0.7777777777777778,\"#fb9f3a\"],[0.8888888888888888,\"#fdca26\"],[1.0,\"#f0f921\"]],\"type\":\"heatmapgl\"}],\"histogram\":[{\"marker\":{\"pattern\":{\"fillmode\":\"overlay\",\"size\":10,\"solidity\":0.2}},\"type\":\"histogram\"}],\"histogram2d\":[{\"colorbar\":{\"outlinewidth\":0,\"ticks\":\"\"},\"colorscale\":[[0.0,\"#0d0887\"],[0.1111111111111111,\"#46039f\"],[0.2222222222222222,\"#7201a8\"],[0.3333333333333333,\"#9c179e\"],[0.4444444444444444,\"#bd3786\"],[0.5555555555555556,\"#d8576b\"],[0.6666666666666666,\"#ed7953\"],[0.7777777777777778,\"#fb9f3a\"],[0.8888888888888888,\"#fdca26\"],[1.0,\"#f0f921\"]],\"type\":\"histogram2d\"}],\"histogram2dcontour\":[{\"colorbar\":{\"outlinewidth\":0,\"ticks\":\"\"},\"colorscale\":[[0.0,\"#0d0887\"],[0.1111111111111111,\"#46039f\"],[0.2222222222222222,\"#7201a8\"],[0.3333333333333333,\"#9c179e\"],[0.4444444444444444,\"#bd3786\"],[0.5555555555555556,\"#d8576b\"],[0.6666666666666666,\"#ed7953\"],[0.7777777777777778,\"#fb9f3a\"],[0.8888888888888888,\"#fdca26\"],[1.0,\"#f0f921\"]],\"type\":\"histogram2dcontour\"}],\"mesh3d\":[{\"colorbar\":{\"outlinewidth\":0,\"ticks\":\"\"},\"type\":\"mesh3d\"}],\"parcoords\":[{\"line\":{\"colorbar\":{\"outlinewidth\":0,\"ticks\":\"\"}},\"type\":\"parcoords\"}],\"pie\":[{\"automargin\":true,\"type\":\"pie\"}],\"scatter\":[{\"marker\":{\"colorbar\":{\"outlinewidth\":0,\"ticks\":\"\"}},\"type\":\"scatter\"}],\"scatter3d\":[{\"line\":{\"colorbar\":{\"outlinewidth\":0,\"ticks\":\"\"}},\"marker\":{\"colorbar\":{\"outlinewidth\":0,\"ticks\":\"\"}},\"type\":\"scatter3d\"}],\"scattercarpet\":[{\"marker\":{\"colorbar\":{\"outlinewidth\":0,\"ticks\":\"\"}},\"type\":\"scattercarpet\"}],\"scattergeo\":[{\"marker\":{\"colorbar\":{\"outlinewidth\":0,\"ticks\":\"\"}},\"type\":\"scattergeo\"}],\"scattergl\":[{\"marker\":{\"colorbar\":{\"outlinewidth\":0,\"ticks\":\"\"}},\"type\":\"scattergl\"}],\"scattermapbox\":[{\"marker\":{\"colorbar\":{\"outlinewidth\":0,\"ticks\":\"\"}},\"type\":\"scattermapbox\"}],\"scatterpolar\":[{\"marker\":{\"colorbar\":{\"outlinewidth\":0,\"ticks\":\"\"}},\"type\":\"scatterpolar\"}],\"scatterpolargl\":[{\"marker\":{\"colorbar\":{\"outlinewidth\":0,\"ticks\":\"\"}},\"type\":\"scatterpolargl\"}],\"scatterternary\":[{\"marker\":{\"colorbar\":{\"outlinewidth\":0,\"ticks\":\"\"}},\"type\":\"scatterternary\"}],\"surface\":[{\"colorbar\":{\"outlinewidth\":0,\"ticks\":\"\"},\"colorscale\":[[0.0,\"#0d0887\"],[0.1111111111111111,\"#46039f\"],[0.2222222222222222,\"#7201a8\"],[0.3333333333333333,\"#9c179e\"],[0.4444444444444444,\"#bd3786\"],[0.5555555555555556,\"#d8576b\"],[0.6666666666666666,\"#ed7953\"],[0.7777777777777778,\"#fb9f3a\"],[0.8888888888888888,\"#fdca26\"],[1.0,\"#f0f921\"]],\"type\":\"surface\"}],\"table\":[{\"cells\":{\"fill\":{\"color\":\"#EBF0F8\"},\"line\":{\"color\":\"white\"}},\"header\":{\"fill\":{\"color\":\"#C8D4E3\"},\"line\":{\"color\":\"white\"}},\"type\":\"table\"}]},\"layout\":{\"annotationdefaults\":{\"arrowcolor\":\"#2a3f5f\",\"arrowhead\":0,\"arrowwidth\":1},\"autotypenumbers\":\"strict\",\"coloraxis\":{\"colorbar\":{\"outlinewidth\":0,\"ticks\":\"\"}},\"colorscale\":{\"diverging\":[[0,\"#8e0152\"],[0.1,\"#c51b7d\"],[0.2,\"#de77ae\"],[0.3,\"#f1b6da\"],[0.4,\"#fde0ef\"],[0.5,\"#f7f7f7\"],[0.6,\"#e6f5d0\"],[0.7,\"#b8e186\"],[0.8,\"#7fbc41\"],[0.9,\"#4d9221\"],[1,\"#276419\"]],\"sequential\":[[0.0,\"#0d0887\"],[0.1111111111111111,\"#46039f\"],[0.2222222222222222,\"#7201a8\"],[0.3333333333333333,\"#9c179e\"],[0.4444444444444444,\"#bd3786\"],[0.5555555555555556,\"#d8576b\"],[0.6666666666666666,\"#ed7953\"],[0.7777777777777778,\"#fb9f3a\"],[0.8888888888888888,\"#fdca26\"],[1.0,\"#f0f921\"]],\"sequentialminus\":[[0.0,\"#0d0887\"],[0.1111111111111111,\"#46039f\"],[0.2222222222222222,\"#7201a8\"],[0.3333333333333333,\"#9c179e\"],[0.4444444444444444,\"#bd3786\"],[0.5555555555555556,\"#d8576b\"],[0.6666666666666666,\"#ed7953\"],[0.7777777777777778,\"#fb9f3a\"],[0.8888888888888888,\"#fdca26\"],[1.0,\"#f0f921\"]]},\"colorway\":[\"#636efa\",\"#EF553B\",\"#00cc96\",\"#ab63fa\",\"#FFA15A\",\"#19d3f3\",\"#FF6692\",\"#B6E880\",\"#FF97FF\",\"#FECB52\"],\"font\":{\"color\":\"#2a3f5f\"},\"geo\":{\"bgcolor\":\"white\",\"lakecolor\":\"white\",\"landcolor\":\"#E5ECF6\",\"showlakes\":true,\"showland\":true,\"subunitcolor\":\"white\"},\"hoverlabel\":{\"align\":\"left\"},\"hovermode\":\"closest\",\"mapbox\":{\"style\":\"light\"},\"paper_bgcolor\":\"white\",\"plot_bgcolor\":\"#E5ECF6\",\"polar\":{\"angularaxis\":{\"gridcolor\":\"white\",\"linecolor\":\"white\",\"ticks\":\"\"},\"bgcolor\":\"#E5ECF6\",\"radialaxis\":{\"gridcolor\":\"white\",\"linecolor\":\"white\",\"ticks\":\"\"}},\"scene\":{\"xaxis\":{\"backgroundcolor\":\"#E5ECF6\",\"gridcolor\":\"white\",\"gridwidth\":2,\"linecolor\":\"white\",\"showbackground\":true,\"ticks\":\"\",\"zerolinecolor\":\"white\"},\"yaxis\":{\"backgroundcolor\":\"#E5ECF6\",\"gridcolor\":\"white\",\"gridwidth\":2,\"linecolor\":\"white\",\"showbackground\":true,\"ticks\":\"\",\"zerolinecolor\":\"white\"},\"zaxis\":{\"backgroundcolor\":\"#E5ECF6\",\"gridcolor\":\"white\",\"gridwidth\":2,\"linecolor\":\"white\",\"showbackground\":true,\"ticks\":\"\",\"zerolinecolor\":\"white\"}},\"shapedefaults\":{\"line\":{\"color\":\"#2a3f5f\"}},\"ternary\":{\"aaxis\":{\"gridcolor\":\"white\",\"linecolor\":\"white\",\"ticks\":\"\"},\"baxis\":{\"gridcolor\":\"white\",\"linecolor\":\"white\",\"ticks\":\"\"},\"bgcolor\":\"#E5ECF6\",\"caxis\":{\"gridcolor\":\"white\",\"linecolor\":\"white\",\"ticks\":\"\"}},\"title\":{\"x\":0.05},\"xaxis\":{\"automargin\":true,\"gridcolor\":\"white\",\"linecolor\":\"white\",\"ticks\":\"\",\"title\":{\"standoff\":15},\"zerolinecolor\":\"white\",\"zerolinewidth\":2},\"yaxis\":{\"automargin\":true,\"gridcolor\":\"white\",\"linecolor\":\"white\",\"ticks\":\"\",\"title\":{\"standoff\":15},\"zerolinecolor\":\"white\",\"zerolinewidth\":2}}},\"title\":{\"text\":\"XGBoost\\uc5d0 \\ub300\\ud55c Feature importance\"}},                        {\"responsive\": true}                    ).then(function(){\n",
       "                            \n",
       "var gd = document.getElementById('665d51db-0591-46f2-8b2f-4c7d2a452290');\n",
       "var x = new MutationObserver(function (mutations, observer) {{\n",
       "        var display = window.getComputedStyle(gd).display;\n",
       "        if (!display || display === 'none') {{\n",
       "            console.log([gd, 'removed!']);\n",
       "            Plotly.purge(gd);\n",
       "            observer.disconnect();\n",
       "        }}\n",
       "}});\n",
       "\n",
       "// Listen for the removal of the full notebook cells\n",
       "var notebookContainer = gd.closest('#notebook-container');\n",
       "if (notebookContainer) {{\n",
       "    x.observe(notebookContainer, {childList: true});\n",
       "}}\n",
       "\n",
       "// Listen for the clearing of the current output cell\n",
       "var outputEl = gd.closest('.output');\n",
       "if (outputEl) {{\n",
       "    x.observe(outputEl, {childList: true});\n",
       "}}\n",
       "\n",
       "                        })                };                });            </script>        </div>"
      ]
     },
     "metadata": {},
     "output_type": "display_data"
    }
   ],
   "source": [
    "fig = go.Figure()\n",
    "fig.add_trace(go.Bar(x =X_train.columns  , y =XGB_grid_2.feature_importances_ ))\n",
    "\n",
    "fig.update_layout(title = 'XGBoost에 대한 Feature importance')"
   ]
  },
  {
   "cell_type": "code",
   "execution_count": 397,
   "metadata": {},
   "outputs": [
    {
     "name": "stdout",
     "output_type": "stream",
     "text": [
      "mean_squared_log_error =  43.057487256537144\n",
      "r2_score =  0.8879474401287542\n"
     ]
    }
   ],
   "source": [
    "score = make_scorer(mean_squared_log_error)\n",
    "\n",
    "print('mean_squared_log_error = ', score(XGB_grid_2, X_train, y_train))\n",
    "\n",
    "\n",
    "score = make_scorer(r2_score)\n",
    "\n",
    "print('r2_score = ', score(XGB_grid_2, X_train, y_train))"
   ]
  },
  {
   "cell_type": "code",
   "execution_count": 398,
   "metadata": {},
   "outputs": [
    {
     "name": "stdout",
     "output_type": "stream",
     "text": [
      "mean_squared_log_error =  0.7375139895808069\n",
      "r2_score =  0.1154657863569597\n"
     ]
    }
   ],
   "source": [
    "score = make_scorer(mean_squared_log_error)\n",
    "\n",
    "print('mean_squared_log_error = ', score(XGB_grid_2, X_test, y_test))\n",
    "\n",
    "\n",
    "score = make_scorer(r2_score)\n",
    "\n",
    "print('r2_score = ', score(XGB_grid_2, X_test, y_test))"
   ]
  },
  {
   "cell_type": "code",
   "execution_count": 399,
   "metadata": {},
   "outputs": [],
   "source": [
    "XGB_grid_2_predict_train = XGB_grid_2.predict(X_train)"
   ]
  },
  {
   "cell_type": "code",
   "execution_count": 400,
   "metadata": {},
   "outputs": [],
   "source": [
    "df1 = pd.DataFrame(XGB_grid_2_predict,index=X_test.index)\n",
    "df2 = pd.DataFrame(y_test,index = X_test.index)\n",
    "df1_1 = pd.DataFrame(XGB_grid_2_predict_train,index=X_train.index)\n",
    "df2_1 = pd.DataFrame(y_train,index = X_train.index)"
   ]
  },
  {
   "cell_type": "code",
   "execution_count": 177,
   "metadata": {},
   "outputs": [
    {
     "name": "stdout",
     "output_type": "stream",
     "text": [
      "Fitting 5 folds for each of 81 candidates, totalling 405 fits\n",
      "{'max_depth': 10, 'min_samples_leaf': 4, 'min_samples_split': 4, 'n_estimators': 800}\n"
     ]
    }
   ],
   "source": [
    "\n",
    "n_estimators = [800, 1000, 1200]\n",
    "max_depth = [10, 12, 15]\n",
    "min_samples_split = [4, 5, 6]\n",
    "min_samples_leaf = [4, 5, 6]\n",
    "\n",
    "hyperparams = {'n_estimators': n_estimators, 'max_depth': max_depth, \n",
    "               'min_samples_split': min_samples_split, 'min_samples_leaf': min_samples_leaf}\n",
    "\n",
    "random_grid = GridSearchCV(estimator = RandomForestRegressor(), param_grid = hyperparams, \n",
    "                verbose=True, scoring=mean_squared_log_error, cv=5, n_jobs=-1)\n",
    "\n",
    "random_grid.fit(X_train, y_train)\n",
    "print(random_grid.best_params_)\n"
   ]
  },
  {
   "cell_type": "code",
   "execution_count": 178,
   "metadata": {},
   "outputs": [],
   "source": [
    "random_grid_1= random_grid.best_estimator_\n",
    "random_grid_2 = random_grid_1.fit(X_train, y_train)\n",
    "random_grid_2_predict = random_grid_2.predict(X_test)"
   ]
  },
  {
   "cell_type": "code",
   "execution_count": 194,
   "metadata": {},
   "outputs": [
    {
     "data": {
      "text/plain": [
       "Index(['day', 'month', 'year', 'hour', 'dow', 'woy', '실적', '입찰공고차수'], dtype='object')"
      ]
     },
     "execution_count": 194,
     "metadata": {},
     "output_type": "execute_result"
    }
   ],
   "source": []
  },
  {
   "cell_type": "code",
   "execution_count": 199,
   "metadata": {},
   "outputs": [
    {
     "data": {
      "application/vnd.plotly.v1+json": {
       "config": {
        "plotlyServerURL": "https://plot.ly"
       },
       "data": [
        {
         "type": "bar",
         "x": [
          "day",
          "month",
          "year",
          "hour",
          "dow",
          "woy",
          "실적",
          "입찰공고차수"
         ],
         "y": [
          0.1090434427583513,
          0.27587883503897626,
          0.10053193184356193,
          0,
          0.08364319046811221,
          0.25479419968373046,
          0.011443654448011794,
          0.16466474575925596
         ]
        }
       ],
       "layout": {
        "template": {
         "data": {
          "bar": [
           {
            "error_x": {
             "color": "#2a3f5f"
            },
            "error_y": {
             "color": "#2a3f5f"
            },
            "marker": {
             "line": {
              "color": "#E5ECF6",
              "width": 0.5
             },
             "pattern": {
              "fillmode": "overlay",
              "size": 10,
              "solidity": 0.2
             }
            },
            "type": "bar"
           }
          ],
          "barpolar": [
           {
            "marker": {
             "line": {
              "color": "#E5ECF6",
              "width": 0.5
             },
             "pattern": {
              "fillmode": "overlay",
              "size": 10,
              "solidity": 0.2
             }
            },
            "type": "barpolar"
           }
          ],
          "carpet": [
           {
            "aaxis": {
             "endlinecolor": "#2a3f5f",
             "gridcolor": "white",
             "linecolor": "white",
             "minorgridcolor": "white",
             "startlinecolor": "#2a3f5f"
            },
            "baxis": {
             "endlinecolor": "#2a3f5f",
             "gridcolor": "white",
             "linecolor": "white",
             "minorgridcolor": "white",
             "startlinecolor": "#2a3f5f"
            },
            "type": "carpet"
           }
          ],
          "choropleth": [
           {
            "colorbar": {
             "outlinewidth": 0,
             "ticks": ""
            },
            "type": "choropleth"
           }
          ],
          "contour": [
           {
            "colorbar": {
             "outlinewidth": 0,
             "ticks": ""
            },
            "colorscale": [
             [
              0,
              "#0d0887"
             ],
             [
              0.1111111111111111,
              "#46039f"
             ],
             [
              0.2222222222222222,
              "#7201a8"
             ],
             [
              0.3333333333333333,
              "#9c179e"
             ],
             [
              0.4444444444444444,
              "#bd3786"
             ],
             [
              0.5555555555555556,
              "#d8576b"
             ],
             [
              0.6666666666666666,
              "#ed7953"
             ],
             [
              0.7777777777777778,
              "#fb9f3a"
             ],
             [
              0.8888888888888888,
              "#fdca26"
             ],
             [
              1,
              "#f0f921"
             ]
            ],
            "type": "contour"
           }
          ],
          "contourcarpet": [
           {
            "colorbar": {
             "outlinewidth": 0,
             "ticks": ""
            },
            "type": "contourcarpet"
           }
          ],
          "heatmap": [
           {
            "colorbar": {
             "outlinewidth": 0,
             "ticks": ""
            },
            "colorscale": [
             [
              0,
              "#0d0887"
             ],
             [
              0.1111111111111111,
              "#46039f"
             ],
             [
              0.2222222222222222,
              "#7201a8"
             ],
             [
              0.3333333333333333,
              "#9c179e"
             ],
             [
              0.4444444444444444,
              "#bd3786"
             ],
             [
              0.5555555555555556,
              "#d8576b"
             ],
             [
              0.6666666666666666,
              "#ed7953"
             ],
             [
              0.7777777777777778,
              "#fb9f3a"
             ],
             [
              0.8888888888888888,
              "#fdca26"
             ],
             [
              1,
              "#f0f921"
             ]
            ],
            "type": "heatmap"
           }
          ],
          "heatmapgl": [
           {
            "colorbar": {
             "outlinewidth": 0,
             "ticks": ""
            },
            "colorscale": [
             [
              0,
              "#0d0887"
             ],
             [
              0.1111111111111111,
              "#46039f"
             ],
             [
              0.2222222222222222,
              "#7201a8"
             ],
             [
              0.3333333333333333,
              "#9c179e"
             ],
             [
              0.4444444444444444,
              "#bd3786"
             ],
             [
              0.5555555555555556,
              "#d8576b"
             ],
             [
              0.6666666666666666,
              "#ed7953"
             ],
             [
              0.7777777777777778,
              "#fb9f3a"
             ],
             [
              0.8888888888888888,
              "#fdca26"
             ],
             [
              1,
              "#f0f921"
             ]
            ],
            "type": "heatmapgl"
           }
          ],
          "histogram": [
           {
            "marker": {
             "pattern": {
              "fillmode": "overlay",
              "size": 10,
              "solidity": 0.2
             }
            },
            "type": "histogram"
           }
          ],
          "histogram2d": [
           {
            "colorbar": {
             "outlinewidth": 0,
             "ticks": ""
            },
            "colorscale": [
             [
              0,
              "#0d0887"
             ],
             [
              0.1111111111111111,
              "#46039f"
             ],
             [
              0.2222222222222222,
              "#7201a8"
             ],
             [
              0.3333333333333333,
              "#9c179e"
             ],
             [
              0.4444444444444444,
              "#bd3786"
             ],
             [
              0.5555555555555556,
              "#d8576b"
             ],
             [
              0.6666666666666666,
              "#ed7953"
             ],
             [
              0.7777777777777778,
              "#fb9f3a"
             ],
             [
              0.8888888888888888,
              "#fdca26"
             ],
             [
              1,
              "#f0f921"
             ]
            ],
            "type": "histogram2d"
           }
          ],
          "histogram2dcontour": [
           {
            "colorbar": {
             "outlinewidth": 0,
             "ticks": ""
            },
            "colorscale": [
             [
              0,
              "#0d0887"
             ],
             [
              0.1111111111111111,
              "#46039f"
             ],
             [
              0.2222222222222222,
              "#7201a8"
             ],
             [
              0.3333333333333333,
              "#9c179e"
             ],
             [
              0.4444444444444444,
              "#bd3786"
             ],
             [
              0.5555555555555556,
              "#d8576b"
             ],
             [
              0.6666666666666666,
              "#ed7953"
             ],
             [
              0.7777777777777778,
              "#fb9f3a"
             ],
             [
              0.8888888888888888,
              "#fdca26"
             ],
             [
              1,
              "#f0f921"
             ]
            ],
            "type": "histogram2dcontour"
           }
          ],
          "mesh3d": [
           {
            "colorbar": {
             "outlinewidth": 0,
             "ticks": ""
            },
            "type": "mesh3d"
           }
          ],
          "parcoords": [
           {
            "line": {
             "colorbar": {
              "outlinewidth": 0,
              "ticks": ""
             }
            },
            "type": "parcoords"
           }
          ],
          "pie": [
           {
            "automargin": true,
            "type": "pie"
           }
          ],
          "scatter": [
           {
            "marker": {
             "colorbar": {
              "outlinewidth": 0,
              "ticks": ""
             }
            },
            "type": "scatter"
           }
          ],
          "scatter3d": [
           {
            "line": {
             "colorbar": {
              "outlinewidth": 0,
              "ticks": ""
             }
            },
            "marker": {
             "colorbar": {
              "outlinewidth": 0,
              "ticks": ""
             }
            },
            "type": "scatter3d"
           }
          ],
          "scattercarpet": [
           {
            "marker": {
             "colorbar": {
              "outlinewidth": 0,
              "ticks": ""
             }
            },
            "type": "scattercarpet"
           }
          ],
          "scattergeo": [
           {
            "marker": {
             "colorbar": {
              "outlinewidth": 0,
              "ticks": ""
             }
            },
            "type": "scattergeo"
           }
          ],
          "scattergl": [
           {
            "marker": {
             "colorbar": {
              "outlinewidth": 0,
              "ticks": ""
             }
            },
            "type": "scattergl"
           }
          ],
          "scattermapbox": [
           {
            "marker": {
             "colorbar": {
              "outlinewidth": 0,
              "ticks": ""
             }
            },
            "type": "scattermapbox"
           }
          ],
          "scatterpolar": [
           {
            "marker": {
             "colorbar": {
              "outlinewidth": 0,
              "ticks": ""
             }
            },
            "type": "scatterpolar"
           }
          ],
          "scatterpolargl": [
           {
            "marker": {
             "colorbar": {
              "outlinewidth": 0,
              "ticks": ""
             }
            },
            "type": "scatterpolargl"
           }
          ],
          "scatterternary": [
           {
            "marker": {
             "colorbar": {
              "outlinewidth": 0,
              "ticks": ""
             }
            },
            "type": "scatterternary"
           }
          ],
          "surface": [
           {
            "colorbar": {
             "outlinewidth": 0,
             "ticks": ""
            },
            "colorscale": [
             [
              0,
              "#0d0887"
             ],
             [
              0.1111111111111111,
              "#46039f"
             ],
             [
              0.2222222222222222,
              "#7201a8"
             ],
             [
              0.3333333333333333,
              "#9c179e"
             ],
             [
              0.4444444444444444,
              "#bd3786"
             ],
             [
              0.5555555555555556,
              "#d8576b"
             ],
             [
              0.6666666666666666,
              "#ed7953"
             ],
             [
              0.7777777777777778,
              "#fb9f3a"
             ],
             [
              0.8888888888888888,
              "#fdca26"
             ],
             [
              1,
              "#f0f921"
             ]
            ],
            "type": "surface"
           }
          ],
          "table": [
           {
            "cells": {
             "fill": {
              "color": "#EBF0F8"
             },
             "line": {
              "color": "white"
             }
            },
            "header": {
             "fill": {
              "color": "#C8D4E3"
             },
             "line": {
              "color": "white"
             }
            },
            "type": "table"
           }
          ]
         },
         "layout": {
          "annotationdefaults": {
           "arrowcolor": "#2a3f5f",
           "arrowhead": 0,
           "arrowwidth": 1
          },
          "autotypenumbers": "strict",
          "coloraxis": {
           "colorbar": {
            "outlinewidth": 0,
            "ticks": ""
           }
          },
          "colorscale": {
           "diverging": [
            [
             0,
             "#8e0152"
            ],
            [
             0.1,
             "#c51b7d"
            ],
            [
             0.2,
             "#de77ae"
            ],
            [
             0.3,
             "#f1b6da"
            ],
            [
             0.4,
             "#fde0ef"
            ],
            [
             0.5,
             "#f7f7f7"
            ],
            [
             0.6,
             "#e6f5d0"
            ],
            [
             0.7,
             "#b8e186"
            ],
            [
             0.8,
             "#7fbc41"
            ],
            [
             0.9,
             "#4d9221"
            ],
            [
             1,
             "#276419"
            ]
           ],
           "sequential": [
            [
             0,
             "#0d0887"
            ],
            [
             0.1111111111111111,
             "#46039f"
            ],
            [
             0.2222222222222222,
             "#7201a8"
            ],
            [
             0.3333333333333333,
             "#9c179e"
            ],
            [
             0.4444444444444444,
             "#bd3786"
            ],
            [
             0.5555555555555556,
             "#d8576b"
            ],
            [
             0.6666666666666666,
             "#ed7953"
            ],
            [
             0.7777777777777778,
             "#fb9f3a"
            ],
            [
             0.8888888888888888,
             "#fdca26"
            ],
            [
             1,
             "#f0f921"
            ]
           ],
           "sequentialminus": [
            [
             0,
             "#0d0887"
            ],
            [
             0.1111111111111111,
             "#46039f"
            ],
            [
             0.2222222222222222,
             "#7201a8"
            ],
            [
             0.3333333333333333,
             "#9c179e"
            ],
            [
             0.4444444444444444,
             "#bd3786"
            ],
            [
             0.5555555555555556,
             "#d8576b"
            ],
            [
             0.6666666666666666,
             "#ed7953"
            ],
            [
             0.7777777777777778,
             "#fb9f3a"
            ],
            [
             0.8888888888888888,
             "#fdca26"
            ],
            [
             1,
             "#f0f921"
            ]
           ]
          },
          "colorway": [
           "#636efa",
           "#EF553B",
           "#00cc96",
           "#ab63fa",
           "#FFA15A",
           "#19d3f3",
           "#FF6692",
           "#B6E880",
           "#FF97FF",
           "#FECB52"
          ],
          "font": {
           "color": "#2a3f5f"
          },
          "geo": {
           "bgcolor": "white",
           "lakecolor": "white",
           "landcolor": "#E5ECF6",
           "showlakes": true,
           "showland": true,
           "subunitcolor": "white"
          },
          "hoverlabel": {
           "align": "left"
          },
          "hovermode": "closest",
          "mapbox": {
           "style": "light"
          },
          "paper_bgcolor": "white",
          "plot_bgcolor": "#E5ECF6",
          "polar": {
           "angularaxis": {
            "gridcolor": "white",
            "linecolor": "white",
            "ticks": ""
           },
           "bgcolor": "#E5ECF6",
           "radialaxis": {
            "gridcolor": "white",
            "linecolor": "white",
            "ticks": ""
           }
          },
          "scene": {
           "xaxis": {
            "backgroundcolor": "#E5ECF6",
            "gridcolor": "white",
            "gridwidth": 2,
            "linecolor": "white",
            "showbackground": true,
            "ticks": "",
            "zerolinecolor": "white"
           },
           "yaxis": {
            "backgroundcolor": "#E5ECF6",
            "gridcolor": "white",
            "gridwidth": 2,
            "linecolor": "white",
            "showbackground": true,
            "ticks": "",
            "zerolinecolor": "white"
           },
           "zaxis": {
            "backgroundcolor": "#E5ECF6",
            "gridcolor": "white",
            "gridwidth": 2,
            "linecolor": "white",
            "showbackground": true,
            "ticks": "",
            "zerolinecolor": "white"
           }
          },
          "shapedefaults": {
           "line": {
            "color": "#2a3f5f"
           }
          },
          "ternary": {
           "aaxis": {
            "gridcolor": "white",
            "linecolor": "white",
            "ticks": ""
           },
           "baxis": {
            "gridcolor": "white",
            "linecolor": "white",
            "ticks": ""
           },
           "bgcolor": "#E5ECF6",
           "caxis": {
            "gridcolor": "white",
            "linecolor": "white",
            "ticks": ""
           }
          },
          "title": {
           "x": 0.05
          },
          "xaxis": {
           "automargin": true,
           "gridcolor": "white",
           "linecolor": "white",
           "ticks": "",
           "title": {
            "standoff": 15
           },
           "zerolinecolor": "white",
           "zerolinewidth": 2
          },
          "yaxis": {
           "automargin": true,
           "gridcolor": "white",
           "linecolor": "white",
           "ticks": "",
           "title": {
            "standoff": 15
           },
           "zerolinecolor": "white",
           "zerolinewidth": 2
          }
         }
        },
        "title": {
         "text": "RandomForestRegressor에 대한 Feature importance"
        }
       }
      },
      "text/html": [
       "<div>                            <div id=\"f60437e4-8018-4fb1-8150-90d981466968\" class=\"plotly-graph-div\" style=\"height:525px; width:100%;\"></div>            <script type=\"text/javascript\">                require([\"plotly\"], function(Plotly) {                    window.PLOTLYENV=window.PLOTLYENV || {};                                    if (document.getElementById(\"f60437e4-8018-4fb1-8150-90d981466968\")) {                    Plotly.newPlot(                        \"f60437e4-8018-4fb1-8150-90d981466968\",                        [{\"type\":\"bar\",\"x\":[\"day\",\"month\",\"year\",\"hour\",\"dow\",\"woy\",\"\\uc2e4\\uc801\",\"\\uc785\\ucc30\\uacf5\\uace0\\ucc28\\uc218\"],\"y\":[0.1090434427583513,0.27587883503897626,0.10053193184356193,0.0,0.08364319046811221,0.25479419968373046,0.011443654448011794,0.16466474575925596]}],                        {\"template\":{\"data\":{\"bar\":[{\"error_x\":{\"color\":\"#2a3f5f\"},\"error_y\":{\"color\":\"#2a3f5f\"},\"marker\":{\"line\":{\"color\":\"#E5ECF6\",\"width\":0.5},\"pattern\":{\"fillmode\":\"overlay\",\"size\":10,\"solidity\":0.2}},\"type\":\"bar\"}],\"barpolar\":[{\"marker\":{\"line\":{\"color\":\"#E5ECF6\",\"width\":0.5},\"pattern\":{\"fillmode\":\"overlay\",\"size\":10,\"solidity\":0.2}},\"type\":\"barpolar\"}],\"carpet\":[{\"aaxis\":{\"endlinecolor\":\"#2a3f5f\",\"gridcolor\":\"white\",\"linecolor\":\"white\",\"minorgridcolor\":\"white\",\"startlinecolor\":\"#2a3f5f\"},\"baxis\":{\"endlinecolor\":\"#2a3f5f\",\"gridcolor\":\"white\",\"linecolor\":\"white\",\"minorgridcolor\":\"white\",\"startlinecolor\":\"#2a3f5f\"},\"type\":\"carpet\"}],\"choropleth\":[{\"colorbar\":{\"outlinewidth\":0,\"ticks\":\"\"},\"type\":\"choropleth\"}],\"contour\":[{\"colorbar\":{\"outlinewidth\":0,\"ticks\":\"\"},\"colorscale\":[[0.0,\"#0d0887\"],[0.1111111111111111,\"#46039f\"],[0.2222222222222222,\"#7201a8\"],[0.3333333333333333,\"#9c179e\"],[0.4444444444444444,\"#bd3786\"],[0.5555555555555556,\"#d8576b\"],[0.6666666666666666,\"#ed7953\"],[0.7777777777777778,\"#fb9f3a\"],[0.8888888888888888,\"#fdca26\"],[1.0,\"#f0f921\"]],\"type\":\"contour\"}],\"contourcarpet\":[{\"colorbar\":{\"outlinewidth\":0,\"ticks\":\"\"},\"type\":\"contourcarpet\"}],\"heatmap\":[{\"colorbar\":{\"outlinewidth\":0,\"ticks\":\"\"},\"colorscale\":[[0.0,\"#0d0887\"],[0.1111111111111111,\"#46039f\"],[0.2222222222222222,\"#7201a8\"],[0.3333333333333333,\"#9c179e\"],[0.4444444444444444,\"#bd3786\"],[0.5555555555555556,\"#d8576b\"],[0.6666666666666666,\"#ed7953\"],[0.7777777777777778,\"#fb9f3a\"],[0.8888888888888888,\"#fdca26\"],[1.0,\"#f0f921\"]],\"type\":\"heatmap\"}],\"heatmapgl\":[{\"colorbar\":{\"outlinewidth\":0,\"ticks\":\"\"},\"colorscale\":[[0.0,\"#0d0887\"],[0.1111111111111111,\"#46039f\"],[0.2222222222222222,\"#7201a8\"],[0.3333333333333333,\"#9c179e\"],[0.4444444444444444,\"#bd3786\"],[0.5555555555555556,\"#d8576b\"],[0.6666666666666666,\"#ed7953\"],[0.7777777777777778,\"#fb9f3a\"],[0.8888888888888888,\"#fdca26\"],[1.0,\"#f0f921\"]],\"type\":\"heatmapgl\"}],\"histogram\":[{\"marker\":{\"pattern\":{\"fillmode\":\"overlay\",\"size\":10,\"solidity\":0.2}},\"type\":\"histogram\"}],\"histogram2d\":[{\"colorbar\":{\"outlinewidth\":0,\"ticks\":\"\"},\"colorscale\":[[0.0,\"#0d0887\"],[0.1111111111111111,\"#46039f\"],[0.2222222222222222,\"#7201a8\"],[0.3333333333333333,\"#9c179e\"],[0.4444444444444444,\"#bd3786\"],[0.5555555555555556,\"#d8576b\"],[0.6666666666666666,\"#ed7953\"],[0.7777777777777778,\"#fb9f3a\"],[0.8888888888888888,\"#fdca26\"],[1.0,\"#f0f921\"]],\"type\":\"histogram2d\"}],\"histogram2dcontour\":[{\"colorbar\":{\"outlinewidth\":0,\"ticks\":\"\"},\"colorscale\":[[0.0,\"#0d0887\"],[0.1111111111111111,\"#46039f\"],[0.2222222222222222,\"#7201a8\"],[0.3333333333333333,\"#9c179e\"],[0.4444444444444444,\"#bd3786\"],[0.5555555555555556,\"#d8576b\"],[0.6666666666666666,\"#ed7953\"],[0.7777777777777778,\"#fb9f3a\"],[0.8888888888888888,\"#fdca26\"],[1.0,\"#f0f921\"]],\"type\":\"histogram2dcontour\"}],\"mesh3d\":[{\"colorbar\":{\"outlinewidth\":0,\"ticks\":\"\"},\"type\":\"mesh3d\"}],\"parcoords\":[{\"line\":{\"colorbar\":{\"outlinewidth\":0,\"ticks\":\"\"}},\"type\":\"parcoords\"}],\"pie\":[{\"automargin\":true,\"type\":\"pie\"}],\"scatter\":[{\"marker\":{\"colorbar\":{\"outlinewidth\":0,\"ticks\":\"\"}},\"type\":\"scatter\"}],\"scatter3d\":[{\"line\":{\"colorbar\":{\"outlinewidth\":0,\"ticks\":\"\"}},\"marker\":{\"colorbar\":{\"outlinewidth\":0,\"ticks\":\"\"}},\"type\":\"scatter3d\"}],\"scattercarpet\":[{\"marker\":{\"colorbar\":{\"outlinewidth\":0,\"ticks\":\"\"}},\"type\":\"scattercarpet\"}],\"scattergeo\":[{\"marker\":{\"colorbar\":{\"outlinewidth\":0,\"ticks\":\"\"}},\"type\":\"scattergeo\"}],\"scattergl\":[{\"marker\":{\"colorbar\":{\"outlinewidth\":0,\"ticks\":\"\"}},\"type\":\"scattergl\"}],\"scattermapbox\":[{\"marker\":{\"colorbar\":{\"outlinewidth\":0,\"ticks\":\"\"}},\"type\":\"scattermapbox\"}],\"scatterpolar\":[{\"marker\":{\"colorbar\":{\"outlinewidth\":0,\"ticks\":\"\"}},\"type\":\"scatterpolar\"}],\"scatterpolargl\":[{\"marker\":{\"colorbar\":{\"outlinewidth\":0,\"ticks\":\"\"}},\"type\":\"scatterpolargl\"}],\"scatterternary\":[{\"marker\":{\"colorbar\":{\"outlinewidth\":0,\"ticks\":\"\"}},\"type\":\"scatterternary\"}],\"surface\":[{\"colorbar\":{\"outlinewidth\":0,\"ticks\":\"\"},\"colorscale\":[[0.0,\"#0d0887\"],[0.1111111111111111,\"#46039f\"],[0.2222222222222222,\"#7201a8\"],[0.3333333333333333,\"#9c179e\"],[0.4444444444444444,\"#bd3786\"],[0.5555555555555556,\"#d8576b\"],[0.6666666666666666,\"#ed7953\"],[0.7777777777777778,\"#fb9f3a\"],[0.8888888888888888,\"#fdca26\"],[1.0,\"#f0f921\"]],\"type\":\"surface\"}],\"table\":[{\"cells\":{\"fill\":{\"color\":\"#EBF0F8\"},\"line\":{\"color\":\"white\"}},\"header\":{\"fill\":{\"color\":\"#C8D4E3\"},\"line\":{\"color\":\"white\"}},\"type\":\"table\"}]},\"layout\":{\"annotationdefaults\":{\"arrowcolor\":\"#2a3f5f\",\"arrowhead\":0,\"arrowwidth\":1},\"autotypenumbers\":\"strict\",\"coloraxis\":{\"colorbar\":{\"outlinewidth\":0,\"ticks\":\"\"}},\"colorscale\":{\"diverging\":[[0,\"#8e0152\"],[0.1,\"#c51b7d\"],[0.2,\"#de77ae\"],[0.3,\"#f1b6da\"],[0.4,\"#fde0ef\"],[0.5,\"#f7f7f7\"],[0.6,\"#e6f5d0\"],[0.7,\"#b8e186\"],[0.8,\"#7fbc41\"],[0.9,\"#4d9221\"],[1,\"#276419\"]],\"sequential\":[[0.0,\"#0d0887\"],[0.1111111111111111,\"#46039f\"],[0.2222222222222222,\"#7201a8\"],[0.3333333333333333,\"#9c179e\"],[0.4444444444444444,\"#bd3786\"],[0.5555555555555556,\"#d8576b\"],[0.6666666666666666,\"#ed7953\"],[0.7777777777777778,\"#fb9f3a\"],[0.8888888888888888,\"#fdca26\"],[1.0,\"#f0f921\"]],\"sequentialminus\":[[0.0,\"#0d0887\"],[0.1111111111111111,\"#46039f\"],[0.2222222222222222,\"#7201a8\"],[0.3333333333333333,\"#9c179e\"],[0.4444444444444444,\"#bd3786\"],[0.5555555555555556,\"#d8576b\"],[0.6666666666666666,\"#ed7953\"],[0.7777777777777778,\"#fb9f3a\"],[0.8888888888888888,\"#fdca26\"],[1.0,\"#f0f921\"]]},\"colorway\":[\"#636efa\",\"#EF553B\",\"#00cc96\",\"#ab63fa\",\"#FFA15A\",\"#19d3f3\",\"#FF6692\",\"#B6E880\",\"#FF97FF\",\"#FECB52\"],\"font\":{\"color\":\"#2a3f5f\"},\"geo\":{\"bgcolor\":\"white\",\"lakecolor\":\"white\",\"landcolor\":\"#E5ECF6\",\"showlakes\":true,\"showland\":true,\"subunitcolor\":\"white\"},\"hoverlabel\":{\"align\":\"left\"},\"hovermode\":\"closest\",\"mapbox\":{\"style\":\"light\"},\"paper_bgcolor\":\"white\",\"plot_bgcolor\":\"#E5ECF6\",\"polar\":{\"angularaxis\":{\"gridcolor\":\"white\",\"linecolor\":\"white\",\"ticks\":\"\"},\"bgcolor\":\"#E5ECF6\",\"radialaxis\":{\"gridcolor\":\"white\",\"linecolor\":\"white\",\"ticks\":\"\"}},\"scene\":{\"xaxis\":{\"backgroundcolor\":\"#E5ECF6\",\"gridcolor\":\"white\",\"gridwidth\":2,\"linecolor\":\"white\",\"showbackground\":true,\"ticks\":\"\",\"zerolinecolor\":\"white\"},\"yaxis\":{\"backgroundcolor\":\"#E5ECF6\",\"gridcolor\":\"white\",\"gridwidth\":2,\"linecolor\":\"white\",\"showbackground\":true,\"ticks\":\"\",\"zerolinecolor\":\"white\"},\"zaxis\":{\"backgroundcolor\":\"#E5ECF6\",\"gridcolor\":\"white\",\"gridwidth\":2,\"linecolor\":\"white\",\"showbackground\":true,\"ticks\":\"\",\"zerolinecolor\":\"white\"}},\"shapedefaults\":{\"line\":{\"color\":\"#2a3f5f\"}},\"ternary\":{\"aaxis\":{\"gridcolor\":\"white\",\"linecolor\":\"white\",\"ticks\":\"\"},\"baxis\":{\"gridcolor\":\"white\",\"linecolor\":\"white\",\"ticks\":\"\"},\"bgcolor\":\"#E5ECF6\",\"caxis\":{\"gridcolor\":\"white\",\"linecolor\":\"white\",\"ticks\":\"\"}},\"title\":{\"x\":0.05},\"xaxis\":{\"automargin\":true,\"gridcolor\":\"white\",\"linecolor\":\"white\",\"ticks\":\"\",\"title\":{\"standoff\":15},\"zerolinecolor\":\"white\",\"zerolinewidth\":2},\"yaxis\":{\"automargin\":true,\"gridcolor\":\"white\",\"linecolor\":\"white\",\"ticks\":\"\",\"title\":{\"standoff\":15},\"zerolinecolor\":\"white\",\"zerolinewidth\":2}}},\"title\":{\"text\":\"RandomForestRegressor\\uc5d0 \\ub300\\ud55c Feature importance\"}},                        {\"responsive\": true}                    ).then(function(){\n",
       "                            \n",
       "var gd = document.getElementById('f60437e4-8018-4fb1-8150-90d981466968');\n",
       "var x = new MutationObserver(function (mutations, observer) {{\n",
       "        var display = window.getComputedStyle(gd).display;\n",
       "        if (!display || display === 'none') {{\n",
       "            console.log([gd, 'removed!']);\n",
       "            Plotly.purge(gd);\n",
       "            observer.disconnect();\n",
       "        }}\n",
       "}});\n",
       "\n",
       "// Listen for the removal of the full notebook cells\n",
       "var notebookContainer = gd.closest('#notebook-container');\n",
       "if (notebookContainer) {{\n",
       "    x.observe(notebookContainer, {childList: true});\n",
       "}}\n",
       "\n",
       "// Listen for the clearing of the current output cell\n",
       "var outputEl = gd.closest('.output');\n",
       "if (outputEl) {{\n",
       "    x.observe(outputEl, {childList: true});\n",
       "}}\n",
       "\n",
       "                        })                };                });            </script>        </div>"
      ]
     },
     "metadata": {},
     "output_type": "display_data"
    }
   ],
   "source": [
    "fig = go.Figure()\n",
    "fig.add_trace(go.Bar(x =X_train.columns  , y =random_grid_1.feature_importances_ ))\n",
    "\n",
    "fig.update_layout(title = 'RandomForestRegressor에 대한 Feature importance')\n"
   ]
  },
  {
   "cell_type": "code",
   "execution_count": 179,
   "metadata": {},
   "outputs": [],
   "source": [
    "df3 = pd.DataFrame(random_grid_2_predict,index=X_test.index)\n",
    "df3_1 = pd.DataFrame(random_grid_2.predict(X_train),index=X_train.index)\n"
   ]
  },
  {
   "cell_type": "code",
   "execution_count": 183,
   "metadata": {},
   "outputs": [
    {
     "name": "stdout",
     "output_type": "stream",
     "text": [
      "mean_squared_log_error =  27.667707562547324\n",
      "r2_score =  0.5314713557217025\n"
     ]
    }
   ],
   "source": [
    "score = make_scorer(mean_squared_log_error)\n",
    "\n",
    "print('mean_squared_log_error = ', score(random_grid_2, X_train, y_train))\n",
    "\n",
    "\n",
    "score = make_scorer(r2_score)\n",
    "\n",
    "print('r2_score = ', score(random_grid_2, X_train, y_train))"
   ]
  },
  {
   "cell_type": "code",
   "execution_count": 184,
   "metadata": {},
   "outputs": [
    {
     "name": "stdout",
     "output_type": "stream",
     "text": [
      "mean_squared_log_error =  0.7770217224420554\n",
      "r2_score =  0.0806643561258743\n"
     ]
    }
   ],
   "source": [
    "score = make_scorer(mean_squared_log_error)\n",
    "\n",
    "print('mean_squared_log_error = ', score(random_grid_2, X_test, y_test))\n",
    "\n",
    "\n",
    "score = make_scorer(r2_score)\n",
    "\n",
    "print('r2_score = ', score(random_grid_2, X_test, y_test))"
   ]
  },
  {
   "cell_type": "code",
   "execution_count": 479,
   "metadata": {},
   "outputs": [
    {
     "name": "stdout",
     "output_type": "stream",
     "text": [
      "Fitting 5 folds for each of 162 candidates, totalling 810 fits\n",
      "[LightGBM] [Warning] min_data_in_leaf is set with min_child_samples=20, will be overridden by min_samples_leaf=12. Current value: min_data_in_leaf=12\n",
      "{'learning_rate': 0.02, 'max_depth': 4, 'min_samples_leaf': 12, 'n_estimators': 200, 'subsample': 0.6}\n"
     ]
    }
   ],
   "source": [
    "n_estimators = [200, 500, 750]\n",
    "max_depth = [4, 5, 6]\n",
    "min_samples_leaf = [12, 15]\n",
    "learning_rate = [0.02, 0.05, 0.1]\n",
    "subsample = [0.6, 0.7, 0.8]\n",
    "\n",
    "hyperparams = {'n_estimators': n_estimators, 'max_depth': max_depth, \n",
    "                    'min_samples_leaf': min_samples_leaf,\n",
    "                    'learning_rate': learning_rate, 'subsample': subsample\n",
    "              }\n",
    "\n",
    "\n",
    "LightGB_grid = GridSearchCV(estimator = LGBMRegressor(), param_grid = hyperparams, \n",
    "                verbose=True, scoring=mean_squared_log_error, cv=5, n_jobs=-1)\n",
    "\n",
    "LightGB_grid.fit(X_train, y_train)\n",
    "print(LightGB_grid.best_params_)"
   ]
  },
  {
   "cell_type": "code",
   "execution_count": 480,
   "metadata": {},
   "outputs": [],
   "source": [
    "LightGB_grid_1= LightGB_grid.best_estimator_\n",
    "LightGB_grid_2 = LightGB_grid_1.fit(X_train, y_train)\n",
    "LightGB_grid_2_predict = LightGB_grid_2.predict(X_test)"
   ]
  },
  {
   "cell_type": "code",
   "execution_count": 481,
   "metadata": {},
   "outputs": [
    {
     "data": {
      "application/vnd.plotly.v1+json": {
       "config": {
        "plotlyServerURL": "https://plot.ly"
       },
       "data": [
        {
         "type": "bar",
         "x": [
          "day",
          "month",
          "year",
          "hour",
          "dow",
          "woy",
          "실적",
          "입찰공고차수"
         ],
         "y": [
          223,
          327,
          212,
          0,
          75,
          399,
          56,
          137
         ]
        }
       ],
       "layout": {
        "template": {
         "data": {
          "bar": [
           {
            "error_x": {
             "color": "#2a3f5f"
            },
            "error_y": {
             "color": "#2a3f5f"
            },
            "marker": {
             "line": {
              "color": "#E5ECF6",
              "width": 0.5
             },
             "pattern": {
              "fillmode": "overlay",
              "size": 10,
              "solidity": 0.2
             }
            },
            "type": "bar"
           }
          ],
          "barpolar": [
           {
            "marker": {
             "line": {
              "color": "#E5ECF6",
              "width": 0.5
             },
             "pattern": {
              "fillmode": "overlay",
              "size": 10,
              "solidity": 0.2
             }
            },
            "type": "barpolar"
           }
          ],
          "carpet": [
           {
            "aaxis": {
             "endlinecolor": "#2a3f5f",
             "gridcolor": "white",
             "linecolor": "white",
             "minorgridcolor": "white",
             "startlinecolor": "#2a3f5f"
            },
            "baxis": {
             "endlinecolor": "#2a3f5f",
             "gridcolor": "white",
             "linecolor": "white",
             "minorgridcolor": "white",
             "startlinecolor": "#2a3f5f"
            },
            "type": "carpet"
           }
          ],
          "choropleth": [
           {
            "colorbar": {
             "outlinewidth": 0,
             "ticks": ""
            },
            "type": "choropleth"
           }
          ],
          "contour": [
           {
            "colorbar": {
             "outlinewidth": 0,
             "ticks": ""
            },
            "colorscale": [
             [
              0,
              "#0d0887"
             ],
             [
              0.1111111111111111,
              "#46039f"
             ],
             [
              0.2222222222222222,
              "#7201a8"
             ],
             [
              0.3333333333333333,
              "#9c179e"
             ],
             [
              0.4444444444444444,
              "#bd3786"
             ],
             [
              0.5555555555555556,
              "#d8576b"
             ],
             [
              0.6666666666666666,
              "#ed7953"
             ],
             [
              0.7777777777777778,
              "#fb9f3a"
             ],
             [
              0.8888888888888888,
              "#fdca26"
             ],
             [
              1,
              "#f0f921"
             ]
            ],
            "type": "contour"
           }
          ],
          "contourcarpet": [
           {
            "colorbar": {
             "outlinewidth": 0,
             "ticks": ""
            },
            "type": "contourcarpet"
           }
          ],
          "heatmap": [
           {
            "colorbar": {
             "outlinewidth": 0,
             "ticks": ""
            },
            "colorscale": [
             [
              0,
              "#0d0887"
             ],
             [
              0.1111111111111111,
              "#46039f"
             ],
             [
              0.2222222222222222,
              "#7201a8"
             ],
             [
              0.3333333333333333,
              "#9c179e"
             ],
             [
              0.4444444444444444,
              "#bd3786"
             ],
             [
              0.5555555555555556,
              "#d8576b"
             ],
             [
              0.6666666666666666,
              "#ed7953"
             ],
             [
              0.7777777777777778,
              "#fb9f3a"
             ],
             [
              0.8888888888888888,
              "#fdca26"
             ],
             [
              1,
              "#f0f921"
             ]
            ],
            "type": "heatmap"
           }
          ],
          "heatmapgl": [
           {
            "colorbar": {
             "outlinewidth": 0,
             "ticks": ""
            },
            "colorscale": [
             [
              0,
              "#0d0887"
             ],
             [
              0.1111111111111111,
              "#46039f"
             ],
             [
              0.2222222222222222,
              "#7201a8"
             ],
             [
              0.3333333333333333,
              "#9c179e"
             ],
             [
              0.4444444444444444,
              "#bd3786"
             ],
             [
              0.5555555555555556,
              "#d8576b"
             ],
             [
              0.6666666666666666,
              "#ed7953"
             ],
             [
              0.7777777777777778,
              "#fb9f3a"
             ],
             [
              0.8888888888888888,
              "#fdca26"
             ],
             [
              1,
              "#f0f921"
             ]
            ],
            "type": "heatmapgl"
           }
          ],
          "histogram": [
           {
            "marker": {
             "pattern": {
              "fillmode": "overlay",
              "size": 10,
              "solidity": 0.2
             }
            },
            "type": "histogram"
           }
          ],
          "histogram2d": [
           {
            "colorbar": {
             "outlinewidth": 0,
             "ticks": ""
            },
            "colorscale": [
             [
              0,
              "#0d0887"
             ],
             [
              0.1111111111111111,
              "#46039f"
             ],
             [
              0.2222222222222222,
              "#7201a8"
             ],
             [
              0.3333333333333333,
              "#9c179e"
             ],
             [
              0.4444444444444444,
              "#bd3786"
             ],
             [
              0.5555555555555556,
              "#d8576b"
             ],
             [
              0.6666666666666666,
              "#ed7953"
             ],
             [
              0.7777777777777778,
              "#fb9f3a"
             ],
             [
              0.8888888888888888,
              "#fdca26"
             ],
             [
              1,
              "#f0f921"
             ]
            ],
            "type": "histogram2d"
           }
          ],
          "histogram2dcontour": [
           {
            "colorbar": {
             "outlinewidth": 0,
             "ticks": ""
            },
            "colorscale": [
             [
              0,
              "#0d0887"
             ],
             [
              0.1111111111111111,
              "#46039f"
             ],
             [
              0.2222222222222222,
              "#7201a8"
             ],
             [
              0.3333333333333333,
              "#9c179e"
             ],
             [
              0.4444444444444444,
              "#bd3786"
             ],
             [
              0.5555555555555556,
              "#d8576b"
             ],
             [
              0.6666666666666666,
              "#ed7953"
             ],
             [
              0.7777777777777778,
              "#fb9f3a"
             ],
             [
              0.8888888888888888,
              "#fdca26"
             ],
             [
              1,
              "#f0f921"
             ]
            ],
            "type": "histogram2dcontour"
           }
          ],
          "mesh3d": [
           {
            "colorbar": {
             "outlinewidth": 0,
             "ticks": ""
            },
            "type": "mesh3d"
           }
          ],
          "parcoords": [
           {
            "line": {
             "colorbar": {
              "outlinewidth": 0,
              "ticks": ""
             }
            },
            "type": "parcoords"
           }
          ],
          "pie": [
           {
            "automargin": true,
            "type": "pie"
           }
          ],
          "scatter": [
           {
            "marker": {
             "colorbar": {
              "outlinewidth": 0,
              "ticks": ""
             }
            },
            "type": "scatter"
           }
          ],
          "scatter3d": [
           {
            "line": {
             "colorbar": {
              "outlinewidth": 0,
              "ticks": ""
             }
            },
            "marker": {
             "colorbar": {
              "outlinewidth": 0,
              "ticks": ""
             }
            },
            "type": "scatter3d"
           }
          ],
          "scattercarpet": [
           {
            "marker": {
             "colorbar": {
              "outlinewidth": 0,
              "ticks": ""
             }
            },
            "type": "scattercarpet"
           }
          ],
          "scattergeo": [
           {
            "marker": {
             "colorbar": {
              "outlinewidth": 0,
              "ticks": ""
             }
            },
            "type": "scattergeo"
           }
          ],
          "scattergl": [
           {
            "marker": {
             "colorbar": {
              "outlinewidth": 0,
              "ticks": ""
             }
            },
            "type": "scattergl"
           }
          ],
          "scattermapbox": [
           {
            "marker": {
             "colorbar": {
              "outlinewidth": 0,
              "ticks": ""
             }
            },
            "type": "scattermapbox"
           }
          ],
          "scatterpolar": [
           {
            "marker": {
             "colorbar": {
              "outlinewidth": 0,
              "ticks": ""
             }
            },
            "type": "scatterpolar"
           }
          ],
          "scatterpolargl": [
           {
            "marker": {
             "colorbar": {
              "outlinewidth": 0,
              "ticks": ""
             }
            },
            "type": "scatterpolargl"
           }
          ],
          "scatterternary": [
           {
            "marker": {
             "colorbar": {
              "outlinewidth": 0,
              "ticks": ""
             }
            },
            "type": "scatterternary"
           }
          ],
          "surface": [
           {
            "colorbar": {
             "outlinewidth": 0,
             "ticks": ""
            },
            "colorscale": [
             [
              0,
              "#0d0887"
             ],
             [
              0.1111111111111111,
              "#46039f"
             ],
             [
              0.2222222222222222,
              "#7201a8"
             ],
             [
              0.3333333333333333,
              "#9c179e"
             ],
             [
              0.4444444444444444,
              "#bd3786"
             ],
             [
              0.5555555555555556,
              "#d8576b"
             ],
             [
              0.6666666666666666,
              "#ed7953"
             ],
             [
              0.7777777777777778,
              "#fb9f3a"
             ],
             [
              0.8888888888888888,
              "#fdca26"
             ],
             [
              1,
              "#f0f921"
             ]
            ],
            "type": "surface"
           }
          ],
          "table": [
           {
            "cells": {
             "fill": {
              "color": "#EBF0F8"
             },
             "line": {
              "color": "white"
             }
            },
            "header": {
             "fill": {
              "color": "#C8D4E3"
             },
             "line": {
              "color": "white"
             }
            },
            "type": "table"
           }
          ]
         },
         "layout": {
          "annotationdefaults": {
           "arrowcolor": "#2a3f5f",
           "arrowhead": 0,
           "arrowwidth": 1
          },
          "autotypenumbers": "strict",
          "coloraxis": {
           "colorbar": {
            "outlinewidth": 0,
            "ticks": ""
           }
          },
          "colorscale": {
           "diverging": [
            [
             0,
             "#8e0152"
            ],
            [
             0.1,
             "#c51b7d"
            ],
            [
             0.2,
             "#de77ae"
            ],
            [
             0.3,
             "#f1b6da"
            ],
            [
             0.4,
             "#fde0ef"
            ],
            [
             0.5,
             "#f7f7f7"
            ],
            [
             0.6,
             "#e6f5d0"
            ],
            [
             0.7,
             "#b8e186"
            ],
            [
             0.8,
             "#7fbc41"
            ],
            [
             0.9,
             "#4d9221"
            ],
            [
             1,
             "#276419"
            ]
           ],
           "sequential": [
            [
             0,
             "#0d0887"
            ],
            [
             0.1111111111111111,
             "#46039f"
            ],
            [
             0.2222222222222222,
             "#7201a8"
            ],
            [
             0.3333333333333333,
             "#9c179e"
            ],
            [
             0.4444444444444444,
             "#bd3786"
            ],
            [
             0.5555555555555556,
             "#d8576b"
            ],
            [
             0.6666666666666666,
             "#ed7953"
            ],
            [
             0.7777777777777778,
             "#fb9f3a"
            ],
            [
             0.8888888888888888,
             "#fdca26"
            ],
            [
             1,
             "#f0f921"
            ]
           ],
           "sequentialminus": [
            [
             0,
             "#0d0887"
            ],
            [
             0.1111111111111111,
             "#46039f"
            ],
            [
             0.2222222222222222,
             "#7201a8"
            ],
            [
             0.3333333333333333,
             "#9c179e"
            ],
            [
             0.4444444444444444,
             "#bd3786"
            ],
            [
             0.5555555555555556,
             "#d8576b"
            ],
            [
             0.6666666666666666,
             "#ed7953"
            ],
            [
             0.7777777777777778,
             "#fb9f3a"
            ],
            [
             0.8888888888888888,
             "#fdca26"
            ],
            [
             1,
             "#f0f921"
            ]
           ]
          },
          "colorway": [
           "#636efa",
           "#EF553B",
           "#00cc96",
           "#ab63fa",
           "#FFA15A",
           "#19d3f3",
           "#FF6692",
           "#B6E880",
           "#FF97FF",
           "#FECB52"
          ],
          "font": {
           "color": "#2a3f5f"
          },
          "geo": {
           "bgcolor": "white",
           "lakecolor": "white",
           "landcolor": "#E5ECF6",
           "showlakes": true,
           "showland": true,
           "subunitcolor": "white"
          },
          "hoverlabel": {
           "align": "left"
          },
          "hovermode": "closest",
          "mapbox": {
           "style": "light"
          },
          "paper_bgcolor": "white",
          "plot_bgcolor": "#E5ECF6",
          "polar": {
           "angularaxis": {
            "gridcolor": "white",
            "linecolor": "white",
            "ticks": ""
           },
           "bgcolor": "#E5ECF6",
           "radialaxis": {
            "gridcolor": "white",
            "linecolor": "white",
            "ticks": ""
           }
          },
          "scene": {
           "xaxis": {
            "backgroundcolor": "#E5ECF6",
            "gridcolor": "white",
            "gridwidth": 2,
            "linecolor": "white",
            "showbackground": true,
            "ticks": "",
            "zerolinecolor": "white"
           },
           "yaxis": {
            "backgroundcolor": "#E5ECF6",
            "gridcolor": "white",
            "gridwidth": 2,
            "linecolor": "white",
            "showbackground": true,
            "ticks": "",
            "zerolinecolor": "white"
           },
           "zaxis": {
            "backgroundcolor": "#E5ECF6",
            "gridcolor": "white",
            "gridwidth": 2,
            "linecolor": "white",
            "showbackground": true,
            "ticks": "",
            "zerolinecolor": "white"
           }
          },
          "shapedefaults": {
           "line": {
            "color": "#2a3f5f"
           }
          },
          "ternary": {
           "aaxis": {
            "gridcolor": "white",
            "linecolor": "white",
            "ticks": ""
           },
           "baxis": {
            "gridcolor": "white",
            "linecolor": "white",
            "ticks": ""
           },
           "bgcolor": "#E5ECF6",
           "caxis": {
            "gridcolor": "white",
            "linecolor": "white",
            "ticks": ""
           }
          },
          "title": {
           "x": 0.05
          },
          "xaxis": {
           "automargin": true,
           "gridcolor": "white",
           "linecolor": "white",
           "ticks": "",
           "title": {
            "standoff": 15
           },
           "zerolinecolor": "white",
           "zerolinewidth": 2
          },
          "yaxis": {
           "automargin": true,
           "gridcolor": "white",
           "linecolor": "white",
           "ticks": "",
           "title": {
            "standoff": 15
           },
           "zerolinecolor": "white",
           "zerolinewidth": 2
          }
         }
        },
        "title": {
         "text": "LightGBM에 대한 Feature importance"
        }
       }
      },
      "text/html": [
       "<div>                            <div id=\"5f12b064-fb8e-409d-a7b7-89b745fa67e5\" class=\"plotly-graph-div\" style=\"height:525px; width:100%;\"></div>            <script type=\"text/javascript\">                require([\"plotly\"], function(Plotly) {                    window.PLOTLYENV=window.PLOTLYENV || {};                                    if (document.getElementById(\"5f12b064-fb8e-409d-a7b7-89b745fa67e5\")) {                    Plotly.newPlot(                        \"5f12b064-fb8e-409d-a7b7-89b745fa67e5\",                        [{\"type\":\"bar\",\"x\":[\"day\",\"month\",\"year\",\"hour\",\"dow\",\"woy\",\"\\uc2e4\\uc801\",\"\\uc785\\ucc30\\uacf5\\uace0\\ucc28\\uc218\"],\"y\":[223,327,212,0,75,399,56,137]}],                        {\"template\":{\"data\":{\"bar\":[{\"error_x\":{\"color\":\"#2a3f5f\"},\"error_y\":{\"color\":\"#2a3f5f\"},\"marker\":{\"line\":{\"color\":\"#E5ECF6\",\"width\":0.5},\"pattern\":{\"fillmode\":\"overlay\",\"size\":10,\"solidity\":0.2}},\"type\":\"bar\"}],\"barpolar\":[{\"marker\":{\"line\":{\"color\":\"#E5ECF6\",\"width\":0.5},\"pattern\":{\"fillmode\":\"overlay\",\"size\":10,\"solidity\":0.2}},\"type\":\"barpolar\"}],\"carpet\":[{\"aaxis\":{\"endlinecolor\":\"#2a3f5f\",\"gridcolor\":\"white\",\"linecolor\":\"white\",\"minorgridcolor\":\"white\",\"startlinecolor\":\"#2a3f5f\"},\"baxis\":{\"endlinecolor\":\"#2a3f5f\",\"gridcolor\":\"white\",\"linecolor\":\"white\",\"minorgridcolor\":\"white\",\"startlinecolor\":\"#2a3f5f\"},\"type\":\"carpet\"}],\"choropleth\":[{\"colorbar\":{\"outlinewidth\":0,\"ticks\":\"\"},\"type\":\"choropleth\"}],\"contour\":[{\"colorbar\":{\"outlinewidth\":0,\"ticks\":\"\"},\"colorscale\":[[0.0,\"#0d0887\"],[0.1111111111111111,\"#46039f\"],[0.2222222222222222,\"#7201a8\"],[0.3333333333333333,\"#9c179e\"],[0.4444444444444444,\"#bd3786\"],[0.5555555555555556,\"#d8576b\"],[0.6666666666666666,\"#ed7953\"],[0.7777777777777778,\"#fb9f3a\"],[0.8888888888888888,\"#fdca26\"],[1.0,\"#f0f921\"]],\"type\":\"contour\"}],\"contourcarpet\":[{\"colorbar\":{\"outlinewidth\":0,\"ticks\":\"\"},\"type\":\"contourcarpet\"}],\"heatmap\":[{\"colorbar\":{\"outlinewidth\":0,\"ticks\":\"\"},\"colorscale\":[[0.0,\"#0d0887\"],[0.1111111111111111,\"#46039f\"],[0.2222222222222222,\"#7201a8\"],[0.3333333333333333,\"#9c179e\"],[0.4444444444444444,\"#bd3786\"],[0.5555555555555556,\"#d8576b\"],[0.6666666666666666,\"#ed7953\"],[0.7777777777777778,\"#fb9f3a\"],[0.8888888888888888,\"#fdca26\"],[1.0,\"#f0f921\"]],\"type\":\"heatmap\"}],\"heatmapgl\":[{\"colorbar\":{\"outlinewidth\":0,\"ticks\":\"\"},\"colorscale\":[[0.0,\"#0d0887\"],[0.1111111111111111,\"#46039f\"],[0.2222222222222222,\"#7201a8\"],[0.3333333333333333,\"#9c179e\"],[0.4444444444444444,\"#bd3786\"],[0.5555555555555556,\"#d8576b\"],[0.6666666666666666,\"#ed7953\"],[0.7777777777777778,\"#fb9f3a\"],[0.8888888888888888,\"#fdca26\"],[1.0,\"#f0f921\"]],\"type\":\"heatmapgl\"}],\"histogram\":[{\"marker\":{\"pattern\":{\"fillmode\":\"overlay\",\"size\":10,\"solidity\":0.2}},\"type\":\"histogram\"}],\"histogram2d\":[{\"colorbar\":{\"outlinewidth\":0,\"ticks\":\"\"},\"colorscale\":[[0.0,\"#0d0887\"],[0.1111111111111111,\"#46039f\"],[0.2222222222222222,\"#7201a8\"],[0.3333333333333333,\"#9c179e\"],[0.4444444444444444,\"#bd3786\"],[0.5555555555555556,\"#d8576b\"],[0.6666666666666666,\"#ed7953\"],[0.7777777777777778,\"#fb9f3a\"],[0.8888888888888888,\"#fdca26\"],[1.0,\"#f0f921\"]],\"type\":\"histogram2d\"}],\"histogram2dcontour\":[{\"colorbar\":{\"outlinewidth\":0,\"ticks\":\"\"},\"colorscale\":[[0.0,\"#0d0887\"],[0.1111111111111111,\"#46039f\"],[0.2222222222222222,\"#7201a8\"],[0.3333333333333333,\"#9c179e\"],[0.4444444444444444,\"#bd3786\"],[0.5555555555555556,\"#d8576b\"],[0.6666666666666666,\"#ed7953\"],[0.7777777777777778,\"#fb9f3a\"],[0.8888888888888888,\"#fdca26\"],[1.0,\"#f0f921\"]],\"type\":\"histogram2dcontour\"}],\"mesh3d\":[{\"colorbar\":{\"outlinewidth\":0,\"ticks\":\"\"},\"type\":\"mesh3d\"}],\"parcoords\":[{\"line\":{\"colorbar\":{\"outlinewidth\":0,\"ticks\":\"\"}},\"type\":\"parcoords\"}],\"pie\":[{\"automargin\":true,\"type\":\"pie\"}],\"scatter\":[{\"marker\":{\"colorbar\":{\"outlinewidth\":0,\"ticks\":\"\"}},\"type\":\"scatter\"}],\"scatter3d\":[{\"line\":{\"colorbar\":{\"outlinewidth\":0,\"ticks\":\"\"}},\"marker\":{\"colorbar\":{\"outlinewidth\":0,\"ticks\":\"\"}},\"type\":\"scatter3d\"}],\"scattercarpet\":[{\"marker\":{\"colorbar\":{\"outlinewidth\":0,\"ticks\":\"\"}},\"type\":\"scattercarpet\"}],\"scattergeo\":[{\"marker\":{\"colorbar\":{\"outlinewidth\":0,\"ticks\":\"\"}},\"type\":\"scattergeo\"}],\"scattergl\":[{\"marker\":{\"colorbar\":{\"outlinewidth\":0,\"ticks\":\"\"}},\"type\":\"scattergl\"}],\"scattermapbox\":[{\"marker\":{\"colorbar\":{\"outlinewidth\":0,\"ticks\":\"\"}},\"type\":\"scattermapbox\"}],\"scatterpolar\":[{\"marker\":{\"colorbar\":{\"outlinewidth\":0,\"ticks\":\"\"}},\"type\":\"scatterpolar\"}],\"scatterpolargl\":[{\"marker\":{\"colorbar\":{\"outlinewidth\":0,\"ticks\":\"\"}},\"type\":\"scatterpolargl\"}],\"scatterternary\":[{\"marker\":{\"colorbar\":{\"outlinewidth\":0,\"ticks\":\"\"}},\"type\":\"scatterternary\"}],\"surface\":[{\"colorbar\":{\"outlinewidth\":0,\"ticks\":\"\"},\"colorscale\":[[0.0,\"#0d0887\"],[0.1111111111111111,\"#46039f\"],[0.2222222222222222,\"#7201a8\"],[0.3333333333333333,\"#9c179e\"],[0.4444444444444444,\"#bd3786\"],[0.5555555555555556,\"#d8576b\"],[0.6666666666666666,\"#ed7953\"],[0.7777777777777778,\"#fb9f3a\"],[0.8888888888888888,\"#fdca26\"],[1.0,\"#f0f921\"]],\"type\":\"surface\"}],\"table\":[{\"cells\":{\"fill\":{\"color\":\"#EBF0F8\"},\"line\":{\"color\":\"white\"}},\"header\":{\"fill\":{\"color\":\"#C8D4E3\"},\"line\":{\"color\":\"white\"}},\"type\":\"table\"}]},\"layout\":{\"annotationdefaults\":{\"arrowcolor\":\"#2a3f5f\",\"arrowhead\":0,\"arrowwidth\":1},\"autotypenumbers\":\"strict\",\"coloraxis\":{\"colorbar\":{\"outlinewidth\":0,\"ticks\":\"\"}},\"colorscale\":{\"diverging\":[[0,\"#8e0152\"],[0.1,\"#c51b7d\"],[0.2,\"#de77ae\"],[0.3,\"#f1b6da\"],[0.4,\"#fde0ef\"],[0.5,\"#f7f7f7\"],[0.6,\"#e6f5d0\"],[0.7,\"#b8e186\"],[0.8,\"#7fbc41\"],[0.9,\"#4d9221\"],[1,\"#276419\"]],\"sequential\":[[0.0,\"#0d0887\"],[0.1111111111111111,\"#46039f\"],[0.2222222222222222,\"#7201a8\"],[0.3333333333333333,\"#9c179e\"],[0.4444444444444444,\"#bd3786\"],[0.5555555555555556,\"#d8576b\"],[0.6666666666666666,\"#ed7953\"],[0.7777777777777778,\"#fb9f3a\"],[0.8888888888888888,\"#fdca26\"],[1.0,\"#f0f921\"]],\"sequentialminus\":[[0.0,\"#0d0887\"],[0.1111111111111111,\"#46039f\"],[0.2222222222222222,\"#7201a8\"],[0.3333333333333333,\"#9c179e\"],[0.4444444444444444,\"#bd3786\"],[0.5555555555555556,\"#d8576b\"],[0.6666666666666666,\"#ed7953\"],[0.7777777777777778,\"#fb9f3a\"],[0.8888888888888888,\"#fdca26\"],[1.0,\"#f0f921\"]]},\"colorway\":[\"#636efa\",\"#EF553B\",\"#00cc96\",\"#ab63fa\",\"#FFA15A\",\"#19d3f3\",\"#FF6692\",\"#B6E880\",\"#FF97FF\",\"#FECB52\"],\"font\":{\"color\":\"#2a3f5f\"},\"geo\":{\"bgcolor\":\"white\",\"lakecolor\":\"white\",\"landcolor\":\"#E5ECF6\",\"showlakes\":true,\"showland\":true,\"subunitcolor\":\"white\"},\"hoverlabel\":{\"align\":\"left\"},\"hovermode\":\"closest\",\"mapbox\":{\"style\":\"light\"},\"paper_bgcolor\":\"white\",\"plot_bgcolor\":\"#E5ECF6\",\"polar\":{\"angularaxis\":{\"gridcolor\":\"white\",\"linecolor\":\"white\",\"ticks\":\"\"},\"bgcolor\":\"#E5ECF6\",\"radialaxis\":{\"gridcolor\":\"white\",\"linecolor\":\"white\",\"ticks\":\"\"}},\"scene\":{\"xaxis\":{\"backgroundcolor\":\"#E5ECF6\",\"gridcolor\":\"white\",\"gridwidth\":2,\"linecolor\":\"white\",\"showbackground\":true,\"ticks\":\"\",\"zerolinecolor\":\"white\"},\"yaxis\":{\"backgroundcolor\":\"#E5ECF6\",\"gridcolor\":\"white\",\"gridwidth\":2,\"linecolor\":\"white\",\"showbackground\":true,\"ticks\":\"\",\"zerolinecolor\":\"white\"},\"zaxis\":{\"backgroundcolor\":\"#E5ECF6\",\"gridcolor\":\"white\",\"gridwidth\":2,\"linecolor\":\"white\",\"showbackground\":true,\"ticks\":\"\",\"zerolinecolor\":\"white\"}},\"shapedefaults\":{\"line\":{\"color\":\"#2a3f5f\"}},\"ternary\":{\"aaxis\":{\"gridcolor\":\"white\",\"linecolor\":\"white\",\"ticks\":\"\"},\"baxis\":{\"gridcolor\":\"white\",\"linecolor\":\"white\",\"ticks\":\"\"},\"bgcolor\":\"#E5ECF6\",\"caxis\":{\"gridcolor\":\"white\",\"linecolor\":\"white\",\"ticks\":\"\"}},\"title\":{\"x\":0.05},\"xaxis\":{\"automargin\":true,\"gridcolor\":\"white\",\"linecolor\":\"white\",\"ticks\":\"\",\"title\":{\"standoff\":15},\"zerolinecolor\":\"white\",\"zerolinewidth\":2},\"yaxis\":{\"automargin\":true,\"gridcolor\":\"white\",\"linecolor\":\"white\",\"ticks\":\"\",\"title\":{\"standoff\":15},\"zerolinecolor\":\"white\",\"zerolinewidth\":2}}},\"title\":{\"text\":\"LightGBM\\uc5d0 \\ub300\\ud55c Feature importance\"}},                        {\"responsive\": true}                    ).then(function(){\n",
       "                            \n",
       "var gd = document.getElementById('5f12b064-fb8e-409d-a7b7-89b745fa67e5');\n",
       "var x = new MutationObserver(function (mutations, observer) {{\n",
       "        var display = window.getComputedStyle(gd).display;\n",
       "        if (!display || display === 'none') {{\n",
       "            console.log([gd, 'removed!']);\n",
       "            Plotly.purge(gd);\n",
       "            observer.disconnect();\n",
       "        }}\n",
       "}});\n",
       "\n",
       "// Listen for the removal of the full notebook cells\n",
       "var notebookContainer = gd.closest('#notebook-container');\n",
       "if (notebookContainer) {{\n",
       "    x.observe(notebookContainer, {childList: true});\n",
       "}}\n",
       "\n",
       "// Listen for the clearing of the current output cell\n",
       "var outputEl = gd.closest('.output');\n",
       "if (outputEl) {{\n",
       "    x.observe(outputEl, {childList: true});\n",
       "}}\n",
       "\n",
       "                        })                };                });            </script>        </div>"
      ]
     },
     "metadata": {},
     "output_type": "display_data"
    }
   ],
   "source": [
    "fig = go.Figure()\n",
    "fig.add_trace(go.Bar(x =X_train.columns  , y =LightGB_grid_2.feature_importances_ ))\n",
    "\n",
    "fig.update_layout(title = 'LightGBM에 대한 Feature importance')\n"
   ]
  },
  {
   "cell_type": "code",
   "execution_count": 482,
   "metadata": {},
   "outputs": [
    {
     "name": "stdout",
     "output_type": "stream",
     "text": [
      "mean_squared_log_error =  46.173373511547645\n",
      "r2_score =  0.5816968793149475\n"
     ]
    }
   ],
   "source": [
    "score = make_scorer(mean_squared_log_error)\n",
    "\n",
    "print('mean_squared_log_error = ', score(LightGB_grid_2, X_train, y_train))\n",
    "\n",
    "\n",
    "score = make_scorer(r2_score)\n",
    "\n",
    "print('r2_score = ', score(LightGB_grid_2, X_train, y_train))"
   ]
  },
  {
   "cell_type": "code",
   "execution_count": 483,
   "metadata": {},
   "outputs": [
    {
     "name": "stdout",
     "output_type": "stream",
     "text": [
      "mean_squared_log_error =  0.655322514813211\n",
      "r2_score =  0.09825468391342451\n"
     ]
    }
   ],
   "source": [
    "score = make_scorer(mean_squared_log_error)\n",
    "\n",
    "print('mean_squared_log_error = ', score(LightGB_grid_2, X_test, y_test))\n",
    "\n",
    "\n",
    "score = make_scorer(r2_score)\n",
    "\n",
    "print('r2_score = ', score(LightGB_grid_2, X_test, y_test))"
   ]
  },
  {
   "cell_type": "code",
   "execution_count": 419,
   "metadata": {},
   "outputs": [],
   "source": [
    "LightGB_grid_2_predict_train = LightGB_grid_2.predict(X_train)\n",
    "LightGB_grid_2_predict_test = LightGB_grid_2_predict\n",
    "df4_1 = pd.DataFrame(LightGB_grid_2_predict_train,index=X_train.index)\n",
    "df4 = pd.DataFrame(LightGB_grid_2_predict_test,index = X_test.index)"
   ]
  },
  {
   "cell_type": "code",
   "execution_count": 423,
   "metadata": {},
   "outputs": [
    {
     "data": {
      "application/vnd.plotly.v1+json": {
       "config": {
        "plotlyServerURL": "https://plot.ly"
       },
       "data": [
        {
         "marker": {
          "color": "blue"
         },
         "name": "Test_실제값",
         "type": "scatter",
         "x": [
          "2021-01-31T00:00:00",
          "2021-02-07T00:00:00",
          "2021-02-14T00:00:00",
          "2021-02-21T00:00:00",
          "2021-02-28T00:00:00",
          "2021-03-07T00:00:00",
          "2021-03-14T00:00:00",
          "2021-03-21T00:00:00",
          "2021-03-28T00:00:00",
          "2021-04-04T00:00:00",
          "2021-04-11T00:00:00",
          "2021-04-18T00:00:00",
          "2021-04-25T00:00:00",
          "2021-05-02T00:00:00",
          "2021-05-09T00:00:00",
          "2021-05-16T00:00:00",
          "2021-05-23T00:00:00",
          "2021-05-30T00:00:00",
          "2021-06-06T00:00:00",
          "2021-06-13T00:00:00",
          "2021-06-20T00:00:00",
          "2021-06-27T00:00:00",
          "2021-07-04T00:00:00",
          "2021-07-11T00:00:00",
          "2021-07-18T00:00:00",
          "2021-07-25T00:00:00",
          "2021-08-01T00:00:00",
          "2021-08-08T00:00:00",
          "2021-08-15T00:00:00",
          "2021-08-22T00:00:00",
          "2021-08-29T00:00:00",
          "2021-09-05T00:00:00",
          "2021-09-12T00:00:00",
          "2021-09-19T00:00:00",
          "2021-09-26T00:00:00",
          "2021-10-03T00:00:00",
          "2021-10-10T00:00:00",
          "2021-10-17T00:00:00",
          "2021-10-24T00:00:00",
          "2021-10-31T00:00:00",
          "2021-11-07T00:00:00",
          "2021-11-14T00:00:00",
          "2021-11-21T00:00:00",
          "2021-11-28T00:00:00",
          "2021-12-05T00:00:00",
          "2021-12-12T00:00:00",
          "2021-12-19T00:00:00",
          "2021-12-26T00:00:00"
         ],
         "y": [
          7337225706,
          27347055003,
          5074479868,
          39264604792,
          36203780157,
          51839331058,
          30669673771.54,
          45739009942,
          73582825611.17,
          56964762272,
          30855048197,
          26942350541,
          64653359404.08,
          49508927648.24,
          49714439146,
          53517135863,
          61460840150,
          42946292795,
          49412901085.4,
          31304979748,
          141471893764,
          252291423985,
          56772959542.16,
          22215277994,
          64462815909.619995,
          34703041214,
          19283769822,
          49031605859,
          48234089592,
          1028963866214,
          40249971411,
          92184749828.35,
          109165867539,
          60023557380.68,
          14382099050,
          28947858720,
          27828632079,
          29967753378,
          666433590977,
          18579529460,
          40249474993,
          25579625559,
          56024163420,
          177803738211,
          544827856344,
          123515762088,
          133644678872,
          75255235013
         ]
        },
        {
         "marker": {
          "color": "blue"
         },
         "name": "Train_실제값",
         "type": "scatter",
         "x": [
          "2017-01-29T00:00:00",
          "2017-02-05T00:00:00",
          "2017-02-12T00:00:00",
          "2017-02-19T00:00:00",
          "2017-02-26T00:00:00",
          "2017-03-05T00:00:00",
          "2017-03-12T00:00:00",
          "2017-03-19T00:00:00",
          "2017-03-26T00:00:00",
          "2017-04-02T00:00:00",
          "2017-04-09T00:00:00",
          "2017-04-16T00:00:00",
          "2017-04-23T00:00:00",
          "2017-04-30T00:00:00",
          "2017-05-07T00:00:00",
          "2017-05-14T00:00:00",
          "2017-05-21T00:00:00",
          "2017-05-28T00:00:00",
          "2017-06-04T00:00:00",
          "2017-06-11T00:00:00",
          "2017-06-18T00:00:00",
          "2017-06-25T00:00:00",
          "2017-07-02T00:00:00",
          "2017-07-09T00:00:00",
          "2017-07-16T00:00:00",
          "2017-07-23T00:00:00",
          "2017-07-30T00:00:00",
          "2017-08-06T00:00:00",
          "2017-08-13T00:00:00",
          "2017-08-20T00:00:00",
          "2017-08-27T00:00:00",
          "2017-09-03T00:00:00",
          "2017-09-10T00:00:00",
          "2017-09-17T00:00:00",
          "2017-09-24T00:00:00",
          "2017-10-01T00:00:00",
          "2017-10-08T00:00:00",
          "2017-10-15T00:00:00",
          "2017-10-22T00:00:00",
          "2017-10-29T00:00:00",
          "2017-11-05T00:00:00",
          "2017-11-12T00:00:00",
          "2017-11-19T00:00:00",
          "2017-11-26T00:00:00",
          "2017-12-03T00:00:00",
          "2017-12-10T00:00:00",
          "2017-12-17T00:00:00",
          "2017-12-24T00:00:00",
          "2017-12-31T00:00:00",
          "2018-01-07T00:00:00",
          "2018-01-14T00:00:00",
          "2018-01-21T00:00:00",
          "2018-01-28T00:00:00",
          "2018-02-04T00:00:00",
          "2018-02-11T00:00:00",
          "2018-02-18T00:00:00",
          "2018-02-25T00:00:00",
          "2018-03-04T00:00:00",
          "2018-03-11T00:00:00",
          "2018-03-18T00:00:00",
          "2018-03-25T00:00:00",
          "2018-04-01T00:00:00",
          "2018-04-08T00:00:00",
          "2018-04-15T00:00:00",
          "2018-04-22T00:00:00",
          "2018-04-29T00:00:00",
          "2018-05-06T00:00:00",
          "2018-05-13T00:00:00",
          "2018-05-20T00:00:00",
          "2018-05-27T00:00:00",
          "2018-06-03T00:00:00",
          "2018-06-10T00:00:00",
          "2018-06-17T00:00:00",
          "2018-06-24T00:00:00",
          "2018-07-01T00:00:00",
          "2018-07-08T00:00:00",
          "2018-07-15T00:00:00",
          "2018-07-22T00:00:00",
          "2018-07-29T00:00:00",
          "2018-08-05T00:00:00",
          "2018-08-12T00:00:00",
          "2018-08-19T00:00:00",
          "2018-08-26T00:00:00",
          "2018-09-02T00:00:00",
          "2018-09-09T00:00:00",
          "2018-09-16T00:00:00",
          "2018-09-23T00:00:00",
          "2018-09-30T00:00:00",
          "2018-10-07T00:00:00",
          "2018-10-14T00:00:00",
          "2018-10-21T00:00:00",
          "2018-10-28T00:00:00",
          "2018-11-04T00:00:00",
          "2018-11-11T00:00:00",
          "2018-11-18T00:00:00",
          "2018-11-25T00:00:00",
          "2018-12-02T00:00:00",
          "2018-12-09T00:00:00",
          "2018-12-16T00:00:00",
          "2018-12-23T00:00:00",
          "2018-12-30T00:00:00",
          "2019-01-06T00:00:00",
          "2019-01-13T00:00:00",
          "2019-01-20T00:00:00",
          "2019-01-27T00:00:00",
          "2019-02-03T00:00:00",
          "2019-02-10T00:00:00",
          "2019-02-17T00:00:00",
          "2019-02-24T00:00:00",
          "2019-03-03T00:00:00",
          "2019-03-10T00:00:00",
          "2019-03-17T00:00:00",
          "2019-03-24T00:00:00",
          "2019-03-31T00:00:00",
          "2019-04-07T00:00:00",
          "2019-04-14T00:00:00",
          "2019-04-21T00:00:00",
          "2019-04-28T00:00:00",
          "2019-05-05T00:00:00",
          "2019-05-12T00:00:00",
          "2019-05-19T00:00:00",
          "2019-05-26T00:00:00",
          "2019-06-02T00:00:00",
          "2019-06-09T00:00:00",
          "2019-06-16T00:00:00",
          "2019-06-23T00:00:00",
          "2019-06-30T00:00:00",
          "2019-07-07T00:00:00",
          "2019-07-14T00:00:00",
          "2019-07-21T00:00:00",
          "2019-07-28T00:00:00",
          "2019-08-04T00:00:00",
          "2019-08-11T00:00:00",
          "2019-08-18T00:00:00",
          "2019-08-25T00:00:00",
          "2019-09-01T00:00:00",
          "2019-09-08T00:00:00",
          "2019-09-15T00:00:00",
          "2019-09-22T00:00:00",
          "2019-09-29T00:00:00",
          "2019-10-06T00:00:00",
          "2019-10-13T00:00:00",
          "2019-10-20T00:00:00",
          "2019-10-27T00:00:00",
          "2019-11-03T00:00:00",
          "2019-11-10T00:00:00",
          "2019-11-17T00:00:00",
          "2019-11-24T00:00:00",
          "2019-12-01T00:00:00",
          "2019-12-08T00:00:00",
          "2019-12-15T00:00:00",
          "2019-12-22T00:00:00",
          "2019-12-29T00:00:00",
          "2020-01-05T00:00:00",
          "2020-01-12T00:00:00",
          "2020-01-19T00:00:00",
          "2020-01-26T00:00:00",
          "2020-02-02T00:00:00",
          "2020-02-09T00:00:00",
          "2020-02-16T00:00:00",
          "2020-02-23T00:00:00",
          "2020-03-01T00:00:00",
          "2020-03-08T00:00:00",
          "2020-03-15T00:00:00",
          "2020-03-22T00:00:00",
          "2020-03-29T00:00:00",
          "2020-04-05T00:00:00",
          "2020-04-12T00:00:00",
          "2020-04-19T00:00:00",
          "2020-04-26T00:00:00",
          "2020-05-03T00:00:00",
          "2020-05-10T00:00:00",
          "2020-05-17T00:00:00",
          "2020-05-24T00:00:00",
          "2020-05-31T00:00:00",
          "2020-06-07T00:00:00",
          "2020-06-14T00:00:00",
          "2020-06-21T00:00:00",
          "2020-06-28T00:00:00",
          "2020-07-05T00:00:00",
          "2020-07-12T00:00:00",
          "2020-07-19T00:00:00",
          "2020-07-26T00:00:00",
          "2020-08-02T00:00:00",
          "2020-08-09T00:00:00",
          "2020-08-16T00:00:00",
          "2020-08-23T00:00:00",
          "2020-08-30T00:00:00",
          "2020-09-06T00:00:00",
          "2020-09-13T00:00:00",
          "2020-09-20T00:00:00",
          "2020-09-27T00:00:00",
          "2020-10-04T00:00:00",
          "2020-10-11T00:00:00",
          "2020-10-18T00:00:00",
          "2020-10-25T00:00:00",
          "2020-11-01T00:00:00",
          "2020-11-08T00:00:00",
          "2020-11-15T00:00:00",
          "2020-11-22T00:00:00",
          "2020-11-29T00:00:00",
          "2020-12-06T00:00:00",
          "2020-12-13T00:00:00",
          "2020-12-20T00:00:00",
          "2020-12-27T00:00:00",
          "2021-01-03T00:00:00"
         ],
         "y": [
          170826630,
          170826630,
          170826630,
          445431390,
          170826630,
          0,
          0,
          0,
          2387869360,
          0,
          727532840,
          727532840,
          0,
          727532840,
          0,
          727532840,
          98541070,
          0,
          211108940,
          0,
          0,
          0,
          0,
          590415660,
          1156470220,
          0,
          72156200,
          0,
          776162000,
          0,
          513707980,
          0,
          0,
          701817610,
          0,
          988659790,
          0,
          301709400,
          1444402100,
          1289108220,
          424064080,
          3031792560,
          1290369190,
          359571800,
          0,
          0,
          378152000,
          2396094000,
          802099990,
          688028200,
          3937926740,
          31268057506,
          41786664483,
          40488509132.4,
          51663041406,
          20921401313,
          36164116018.46,
          40321769095.73,
          36677548194,
          33937813240.04,
          41850717623.57,
          66779573268.15,
          50308832967.25,
          107947861705.81,
          90613602591.93,
          54651202251.87,
          70068589963.32,
          70286337456.03,
          65966784067.520004,
          52415031934.64,
          112671915781.45,
          50588734889.21,
          121819310360.08,
          122969728199.52,
          79117110498.64,
          38150719341.62,
          38825324697.78,
          72065051524.26,
          36087340169.41,
          24056261582,
          81106456800.38,
          44764421339.88,
          303683507494.34,
          25505752009.17,
          22369637240.37,
          252130636402.73,
          1004770618650.37,
          25343599052,
          72169912506.68,
          26580659096,
          991361555007,
          22390776568,
          103718661344,
          19539482233.01,
          749583264792.04,
          31848137085.6,
          46077592517.14,
          47332912387,
          22877271845.97,
          46033848280,
          10099363760,
          5667926781,
          8419101082,
          9813282217,
          9666224896,
          21390022641,
          8343103281,
          21221320502,
          35285782106.76,
          27782165259,
          27634818441.760002,
          22075695936.2,
          45140575284.25,
          32487925989.22,
          60358404319.24,
          107883422374.28,
          130777607980.47,
          128001318595.33,
          69797151830.66,
          94070151170.06,
          128735815671.95999,
          67379761323.34,
          104043005480.4,
          74532308254.56,
          88499660402.66,
          82529817270.92,
          45104254445,
          115538187832.20999,
          87993131695.86,
          99115537718.2,
          39950036971,
          104592870380,
          39121988306.18,
          360157437512.95996,
          32737171903,
          28607504589,
          335748561823.66003,
          6031000040,
          27102877969,
          322325444445,
          26707134393,
          26789998342,
          18499280240,
          51949279066,
          122149995517.38,
          48613426622,
          69448517104,
          60665582010,
          55734348470,
          84721566416,
          160418672150,
          27320793810,
          21302898348,
          5172795449,
          7702885197,
          25274736216,
          6724843232,
          6213574335,
          8474800384,
          42953151063,
          35209828528,
          39665941936,
          28167953744,
          195591495427,
          78170028033,
          84161759174.16,
          86538352666.13,
          114455285511.09,
          66731725414.24,
          87729777418.38,
          90046011568.63,
          121205998837.95,
          79052329091.29,
          114871442465.8,
          94826886143.34999,
          136582183668.77,
          89741411147.57,
          51842798798.94,
          40768554477,
          41880798080,
          31061333019.83,
          81117126095,
          38467722725,
          33603239350.010002,
          17365775983.95,
          25549276122.01,
          24901629452.46,
          57604651968.479996,
          241421447260,
          63402178320.76,
          193191383849.75,
          66326393371,
          14483652218,
          26751270276,
          30051514070,
          46513057885,
          118222432353,
          32829985696,
          65318671749,
          257215390385,
          144670220914.16998,
          115811718537,
          75131717958,
          13944171022,
          3735845397,
          7351718010
         ]
        },
        {
         "marker": {
          "color": "red"
         },
         "name": "Test_예측값_XGBOOST",
         "type": "scatter",
         "x": [
          "2021-01-31T00:00:00",
          "2021-02-07T00:00:00",
          "2021-02-14T00:00:00",
          "2021-02-21T00:00:00",
          "2021-02-28T00:00:00",
          "2021-03-07T00:00:00",
          "2021-03-14T00:00:00",
          "2021-03-21T00:00:00",
          "2021-03-28T00:00:00",
          "2021-04-04T00:00:00",
          "2021-04-11T00:00:00",
          "2021-04-18T00:00:00",
          "2021-04-25T00:00:00",
          "2021-05-02T00:00:00",
          "2021-05-09T00:00:00",
          "2021-05-16T00:00:00",
          "2021-05-23T00:00:00",
          "2021-05-30T00:00:00",
          "2021-06-06T00:00:00",
          "2021-06-13T00:00:00",
          "2021-06-20T00:00:00",
          "2021-06-27T00:00:00",
          "2021-07-04T00:00:00",
          "2021-07-11T00:00:00",
          "2021-07-18T00:00:00",
          "2021-07-25T00:00:00",
          "2021-08-01T00:00:00",
          "2021-08-08T00:00:00",
          "2021-08-15T00:00:00",
          "2021-08-22T00:00:00",
          "2021-08-29T00:00:00",
          "2021-09-05T00:00:00",
          "2021-09-12T00:00:00",
          "2021-09-19T00:00:00",
          "2021-09-26T00:00:00",
          "2021-10-03T00:00:00",
          "2021-10-10T00:00:00",
          "2021-10-17T00:00:00",
          "2021-10-24T00:00:00",
          "2021-10-31T00:00:00",
          "2021-11-07T00:00:00",
          "2021-11-14T00:00:00",
          "2021-11-21T00:00:00",
          "2021-11-28T00:00:00",
          "2021-12-05T00:00:00",
          "2021-12-12T00:00:00",
          "2021-12-19T00:00:00",
          "2021-12-26T00:00:00"
         ],
         "y": [
          43430019072,
          40483774464,
          8559711232,
          43351470080,
          41589661696,
          40286646272,
          39035293696,
          60081995776,
          66174234624,
          61914787840,
          52625862656,
          65481809920,
          63255216128,
          60530860032,
          48689242112,
          86469050368,
          99468689408,
          96808951808,
          46498217984,
          96812507136,
          84676059136,
          152111759360,
          44039860224,
          28180555776,
          193951744000,
          51231797248,
          53859287040,
          61056868352,
          93563994112,
          83086835712,
          97579606016,
          80136962048,
          86712418304,
          44449673216,
          16954434560,
          61906763776,
          86733873152,
          119023886336,
          208497000448,
          80883318784,
          111210020864,
          121782263808,
          105126051840,
          87437918208,
          127862939648,
          62432686080,
          110636392448,
          13541732352
         ]
        },
        {
         "marker": {
          "color": "red"
         },
         "name": "Train_예측값_XGBOOST",
         "type": "scatter",
         "x": [
          "2017-01-29T00:00:00",
          "2017-02-05T00:00:00",
          "2017-02-12T00:00:00",
          "2017-02-19T00:00:00",
          "2017-02-26T00:00:00",
          "2017-03-05T00:00:00",
          "2017-03-12T00:00:00",
          "2017-03-19T00:00:00",
          "2017-03-26T00:00:00",
          "2017-04-02T00:00:00",
          "2017-04-09T00:00:00",
          "2017-04-16T00:00:00",
          "2017-04-23T00:00:00",
          "2017-04-30T00:00:00",
          "2017-05-07T00:00:00",
          "2017-05-14T00:00:00",
          "2017-05-21T00:00:00",
          "2017-05-28T00:00:00",
          "2017-06-04T00:00:00",
          "2017-06-11T00:00:00",
          "2017-06-18T00:00:00",
          "2017-06-25T00:00:00",
          "2017-07-02T00:00:00",
          "2017-07-09T00:00:00",
          "2017-07-16T00:00:00",
          "2017-07-23T00:00:00",
          "2017-07-30T00:00:00",
          "2017-08-06T00:00:00",
          "2017-08-13T00:00:00",
          "2017-08-20T00:00:00",
          "2017-08-27T00:00:00",
          "2017-09-03T00:00:00",
          "2017-09-10T00:00:00",
          "2017-09-17T00:00:00",
          "2017-09-24T00:00:00",
          "2017-10-01T00:00:00",
          "2017-10-08T00:00:00",
          "2017-10-15T00:00:00",
          "2017-10-22T00:00:00",
          "2017-10-29T00:00:00",
          "2017-11-05T00:00:00",
          "2017-11-12T00:00:00",
          "2017-11-19T00:00:00",
          "2017-11-26T00:00:00",
          "2017-12-03T00:00:00",
          "2017-12-10T00:00:00",
          "2017-12-17T00:00:00",
          "2017-12-24T00:00:00",
          "2017-12-31T00:00:00",
          "2018-01-07T00:00:00",
          "2018-01-14T00:00:00",
          "2018-01-21T00:00:00",
          "2018-01-28T00:00:00",
          "2018-02-04T00:00:00",
          "2018-02-11T00:00:00",
          "2018-02-18T00:00:00",
          "2018-02-25T00:00:00",
          "2018-03-04T00:00:00",
          "2018-03-11T00:00:00",
          "2018-03-18T00:00:00",
          "2018-03-25T00:00:00",
          "2018-04-01T00:00:00",
          "2018-04-08T00:00:00",
          "2018-04-15T00:00:00",
          "2018-04-22T00:00:00",
          "2018-04-29T00:00:00",
          "2018-05-06T00:00:00",
          "2018-05-13T00:00:00",
          "2018-05-20T00:00:00",
          "2018-05-27T00:00:00",
          "2018-06-03T00:00:00",
          "2018-06-10T00:00:00",
          "2018-06-17T00:00:00",
          "2018-06-24T00:00:00",
          "2018-07-01T00:00:00",
          "2018-07-08T00:00:00",
          "2018-07-15T00:00:00",
          "2018-07-22T00:00:00",
          "2018-07-29T00:00:00",
          "2018-08-05T00:00:00",
          "2018-08-12T00:00:00",
          "2018-08-19T00:00:00",
          "2018-08-26T00:00:00",
          "2018-09-02T00:00:00",
          "2018-09-09T00:00:00",
          "2018-09-16T00:00:00",
          "2018-09-23T00:00:00",
          "2018-09-30T00:00:00",
          "2018-10-07T00:00:00",
          "2018-10-14T00:00:00",
          "2018-10-21T00:00:00",
          "2018-10-28T00:00:00",
          "2018-11-04T00:00:00",
          "2018-11-11T00:00:00",
          "2018-11-18T00:00:00",
          "2018-11-25T00:00:00",
          "2018-12-02T00:00:00",
          "2018-12-09T00:00:00",
          "2018-12-16T00:00:00",
          "2018-12-23T00:00:00",
          "2018-12-30T00:00:00",
          "2019-01-06T00:00:00",
          "2019-01-13T00:00:00",
          "2019-01-20T00:00:00",
          "2019-01-27T00:00:00",
          "2019-02-03T00:00:00",
          "2019-02-10T00:00:00",
          "2019-02-17T00:00:00",
          "2019-02-24T00:00:00",
          "2019-03-03T00:00:00",
          "2019-03-10T00:00:00",
          "2019-03-17T00:00:00",
          "2019-03-24T00:00:00",
          "2019-03-31T00:00:00",
          "2019-04-07T00:00:00",
          "2019-04-14T00:00:00",
          "2019-04-21T00:00:00",
          "2019-04-28T00:00:00",
          "2019-05-05T00:00:00",
          "2019-05-12T00:00:00",
          "2019-05-19T00:00:00",
          "2019-05-26T00:00:00",
          "2019-06-02T00:00:00",
          "2019-06-09T00:00:00",
          "2019-06-16T00:00:00",
          "2019-06-23T00:00:00",
          "2019-06-30T00:00:00",
          "2019-07-07T00:00:00",
          "2019-07-14T00:00:00",
          "2019-07-21T00:00:00",
          "2019-07-28T00:00:00",
          "2019-08-04T00:00:00",
          "2019-08-11T00:00:00",
          "2019-08-18T00:00:00",
          "2019-08-25T00:00:00",
          "2019-09-01T00:00:00",
          "2019-09-08T00:00:00",
          "2019-09-15T00:00:00",
          "2019-09-22T00:00:00",
          "2019-09-29T00:00:00",
          "2019-10-06T00:00:00",
          "2019-10-13T00:00:00",
          "2019-10-20T00:00:00",
          "2019-10-27T00:00:00",
          "2019-11-03T00:00:00",
          "2019-11-10T00:00:00",
          "2019-11-17T00:00:00",
          "2019-11-24T00:00:00",
          "2019-12-01T00:00:00",
          "2019-12-08T00:00:00",
          "2019-12-15T00:00:00",
          "2019-12-22T00:00:00",
          "2019-12-29T00:00:00",
          "2020-01-05T00:00:00",
          "2020-01-12T00:00:00",
          "2020-01-19T00:00:00",
          "2020-01-26T00:00:00",
          "2020-02-02T00:00:00",
          "2020-02-09T00:00:00",
          "2020-02-16T00:00:00",
          "2020-02-23T00:00:00",
          "2020-03-01T00:00:00",
          "2020-03-08T00:00:00",
          "2020-03-15T00:00:00",
          "2020-03-22T00:00:00",
          "2020-03-29T00:00:00",
          "2020-04-05T00:00:00",
          "2020-04-12T00:00:00",
          "2020-04-19T00:00:00",
          "2020-04-26T00:00:00",
          "2020-05-03T00:00:00",
          "2020-05-10T00:00:00",
          "2020-05-17T00:00:00",
          "2020-05-24T00:00:00",
          "2020-05-31T00:00:00",
          "2020-06-07T00:00:00",
          "2020-06-14T00:00:00",
          "2020-06-21T00:00:00",
          "2020-06-28T00:00:00",
          "2020-07-05T00:00:00",
          "2020-07-12T00:00:00",
          "2020-07-19T00:00:00",
          "2020-07-26T00:00:00",
          "2020-08-02T00:00:00",
          "2020-08-09T00:00:00",
          "2020-08-16T00:00:00",
          "2020-08-23T00:00:00",
          "2020-08-30T00:00:00",
          "2020-09-06T00:00:00",
          "2020-09-13T00:00:00",
          "2020-09-20T00:00:00",
          "2020-09-27T00:00:00",
          "2020-10-04T00:00:00",
          "2020-10-11T00:00:00",
          "2020-10-18T00:00:00",
          "2020-10-25T00:00:00",
          "2020-11-01T00:00:00",
          "2020-11-08T00:00:00",
          "2020-11-15T00:00:00",
          "2020-11-22T00:00:00",
          "2020-11-29T00:00:00",
          "2020-12-06T00:00:00",
          "2020-12-13T00:00:00",
          "2020-12-20T00:00:00",
          "2020-12-27T00:00:00",
          "2021-01-03T00:00:00"
         ],
         "y": [
          1271560064,
          1271560064,
          1271560064,
          1271560064,
          1271560064,
          1271560064,
          1271560064,
          1271560064,
          1738522240,
          1271560064,
          1301170560,
          1301170560,
          1271560064,
          1301170560,
          1271560064,
          1301170560,
          1301170560,
          1271560064,
          1301170560,
          1271560064,
          1271560064,
          1271560064,
          1271560064,
          1301170560,
          1301170560,
          1271560064,
          1301170560,
          1271560064,
          1343985536,
          1271560064,
          1368776064,
          1271560064,
          1271560064,
          1368776064,
          1271560064,
          1368776064,
          1271560064,
          1368776064,
          1368776064,
          1817183360,
          1520702848,
          1368776064,
          1368776064,
          1368776064,
          1271560064,
          1271560064,
          1368776064,
          2137839744,
          1368776064,
          1465030016,
          3557864192,
          30268186624,
          33580800000,
          38851039232,
          42566217728,
          48472965120,
          43344175104,
          47456047104,
          57674010624,
          45406875648,
          49746313216,
          47794122752,
          58048389120,
          74699350016,
          90850549760,
          59205038080,
          71040950272,
          81736081408,
          81004699648,
          123250999296,
          88213020672,
          52111945728,
          89059147776,
          102559793152,
          88226537472,
          88981340160,
          55825973248,
          63362138112,
          59270107136,
          61213847552,
          54534766592,
          53068578816,
          194405646336,
          79096840192,
          40059715584,
          231484391424,
          688052109312,
          41693229056,
          88724209664,
          60135792640,
          751128805376,
          72439537664,
          139808768000,
          11991096320,
          564981399552,
          97488052224,
          87480107008,
          102087663616,
          37176324096,
          38114877440,
          9383350272,
          4946990080,
          10016825344,
          21757880320,
          17763901440,
          15404107776,
          14331990016,
          35899981824,
          38627553280,
          36162605056,
          38037446656,
          35544780800,
          46508843008,
          42451972096,
          54236880896,
          103447494656,
          99178971136,
          100347297792,
          80136249344,
          91595079680,
          94845591552,
          80651116544,
          111003648000,
          67312336896,
          75938406400,
          88559665152,
          64660799488,
          91940052992,
          72321245184,
          114614870016,
          75089723392,
          109701079040,
          52336525312,
          197221662720,
          64235270144,
          35567095808,
          269849198592,
          11232768000,
          40773328896,
          226826502144,
          31423946752,
          78942011392,
          44943106048,
          55703752704,
          70424698880,
          47514124288,
          74875682816,
          77726253056,
          104191803392,
          67652513792,
          194730131456,
          67453194240,
          10899064832,
          3744880896,
          3962577408,
          31376881664,
          13885051904,
          24691900416,
          2411513088,
          46787473408,
          36002508800,
          43173400576,
          51261554688,
          96778665984,
          67574624256,
          66263273472,
          60552794112,
          90005037056,
          60459126784,
          102079594496,
          80976601088,
          95243698176,
          86997671936,
          101100060672,
          92455174144,
          109865132032,
          119496294400,
          56648843264,
          36843745280,
          46785171456,
          72043241472,
          60487757824,
          57019097088,
          43277832192,
          34620846080,
          38692229120,
          41940664320,
          53403947008,
          172499255296,
          45321150464,
          166972588032,
          58508963840,
          21877305344,
          59491434496,
          67977482240,
          70370762752,
          115196608512,
          63959392256,
          66907738112,
          156916613120,
          94902493184,
          101861408768,
          77106864128,
          19498692608,
          3646608128,
          4484490752
         ]
        },
        {
         "marker": {
          "color": "green"
         },
         "name": "Test_예측값_RandomForest",
         "type": "scatter",
         "x": [
          "2021-01-31T00:00:00",
          "2021-02-07T00:00:00",
          "2021-02-14T00:00:00",
          "2021-02-21T00:00:00",
          "2021-02-28T00:00:00",
          "2021-03-07T00:00:00",
          "2021-03-14T00:00:00",
          "2021-03-21T00:00:00",
          "2021-03-28T00:00:00",
          "2021-04-04T00:00:00",
          "2021-04-11T00:00:00",
          "2021-04-18T00:00:00",
          "2021-04-25T00:00:00",
          "2021-05-02T00:00:00",
          "2021-05-09T00:00:00",
          "2021-05-16T00:00:00",
          "2021-05-23T00:00:00",
          "2021-05-30T00:00:00",
          "2021-06-06T00:00:00",
          "2021-06-13T00:00:00",
          "2021-06-20T00:00:00",
          "2021-06-27T00:00:00",
          "2021-07-04T00:00:00",
          "2021-07-11T00:00:00",
          "2021-07-18T00:00:00",
          "2021-07-25T00:00:00",
          "2021-08-01T00:00:00",
          "2021-08-08T00:00:00",
          "2021-08-15T00:00:00",
          "2021-08-22T00:00:00",
          "2021-08-29T00:00:00",
          "2021-09-05T00:00:00",
          "2021-09-12T00:00:00",
          "2021-09-19T00:00:00",
          "2021-09-26T00:00:00",
          "2021-10-03T00:00:00",
          "2021-10-10T00:00:00",
          "2021-10-17T00:00:00",
          "2021-10-24T00:00:00",
          "2021-10-31T00:00:00",
          "2021-11-07T00:00:00",
          "2021-11-14T00:00:00",
          "2021-11-21T00:00:00",
          "2021-11-28T00:00:00",
          "2021-12-05T00:00:00",
          "2021-12-12T00:00:00",
          "2021-12-19T00:00:00",
          "2021-12-26T00:00:00"
         ],
         "y": [
          30842185663.872074,
          28623023561.94829,
          11419040550.258667,
          32912892332.740326,
          44242433914.23182,
          63090563151.63692,
          49436635702.66191,
          55558270626.158356,
          68653417588.39316,
          39783358239.904755,
          38927559460.9291,
          42806464732.83328,
          64968804177.61318,
          65591307727.43991,
          56729275770.73832,
          100401126166.0056,
          98972603041.62927,
          95384187388.77422,
          54078225874.096565,
          97580566933.15121,
          94723205399.91869,
          142465650672.53262,
          56543975139.72266,
          48769000252.060524,
          142550126276.48288,
          103695699803.46245,
          59974051037.09373,
          87855401721.17497,
          96268359864.35849,
          73568565758.58871,
          84272951785.90361,
          115101520466.8863,
          99359020560.7348,
          117018371791.60193,
          24343383008.072445,
          76664373052.86177,
          95943707481.89635,
          111579318436.99757,
          168888431582.508,
          105241288970.30615,
          123495146845.85541,
          141909666457.87204,
          106900987877.0313,
          102391455675.14919,
          132214410729.7208,
          132150817304.9301,
          130808502813.64049,
          19746040737.15438
         ]
        },
        {
         "marker": {
          "color": "green"
         },
         "name": "Train_예측값_RandomForest",
         "type": "scatter",
         "x": [
          "2017-01-29T00:00:00",
          "2017-02-05T00:00:00",
          "2017-02-12T00:00:00",
          "2017-02-19T00:00:00",
          "2017-02-26T00:00:00",
          "2017-03-05T00:00:00",
          "2017-03-12T00:00:00",
          "2017-03-19T00:00:00",
          "2017-03-26T00:00:00",
          "2017-04-02T00:00:00",
          "2017-04-09T00:00:00",
          "2017-04-16T00:00:00",
          "2017-04-23T00:00:00",
          "2017-04-30T00:00:00",
          "2017-05-07T00:00:00",
          "2017-05-14T00:00:00",
          "2017-05-21T00:00:00",
          "2017-05-28T00:00:00",
          "2017-06-04T00:00:00",
          "2017-06-11T00:00:00",
          "2017-06-18T00:00:00",
          "2017-06-25T00:00:00",
          "2017-07-02T00:00:00",
          "2017-07-09T00:00:00",
          "2017-07-16T00:00:00",
          "2017-07-23T00:00:00",
          "2017-07-30T00:00:00",
          "2017-08-06T00:00:00",
          "2017-08-13T00:00:00",
          "2017-08-20T00:00:00",
          "2017-08-27T00:00:00",
          "2017-09-03T00:00:00",
          "2017-09-10T00:00:00",
          "2017-09-17T00:00:00",
          "2017-09-24T00:00:00",
          "2017-10-01T00:00:00",
          "2017-10-08T00:00:00",
          "2017-10-15T00:00:00",
          "2017-10-22T00:00:00",
          "2017-10-29T00:00:00",
          "2017-11-05T00:00:00",
          "2017-11-12T00:00:00",
          "2017-11-19T00:00:00",
          "2017-11-26T00:00:00",
          "2017-12-03T00:00:00",
          "2017-12-10T00:00:00",
          "2017-12-17T00:00:00",
          "2017-12-24T00:00:00",
          "2017-12-31T00:00:00",
          "2018-01-07T00:00:00",
          "2018-01-14T00:00:00",
          "2018-01-21T00:00:00",
          "2018-01-28T00:00:00",
          "2018-02-04T00:00:00",
          "2018-02-11T00:00:00",
          "2018-02-18T00:00:00",
          "2018-02-25T00:00:00",
          "2018-03-04T00:00:00",
          "2018-03-11T00:00:00",
          "2018-03-18T00:00:00",
          "2018-03-25T00:00:00",
          "2018-04-01T00:00:00",
          "2018-04-08T00:00:00",
          "2018-04-15T00:00:00",
          "2018-04-22T00:00:00",
          "2018-04-29T00:00:00",
          "2018-05-06T00:00:00",
          "2018-05-13T00:00:00",
          "2018-05-20T00:00:00",
          "2018-05-27T00:00:00",
          "2018-06-03T00:00:00",
          "2018-06-10T00:00:00",
          "2018-06-17T00:00:00",
          "2018-06-24T00:00:00",
          "2018-07-01T00:00:00",
          "2018-07-08T00:00:00",
          "2018-07-15T00:00:00",
          "2018-07-22T00:00:00",
          "2018-07-29T00:00:00",
          "2018-08-05T00:00:00",
          "2018-08-12T00:00:00",
          "2018-08-19T00:00:00",
          "2018-08-26T00:00:00",
          "2018-09-02T00:00:00",
          "2018-09-09T00:00:00",
          "2018-09-16T00:00:00",
          "2018-09-23T00:00:00",
          "2018-09-30T00:00:00",
          "2018-10-07T00:00:00",
          "2018-10-14T00:00:00",
          "2018-10-21T00:00:00",
          "2018-10-28T00:00:00",
          "2018-11-04T00:00:00",
          "2018-11-11T00:00:00",
          "2018-11-18T00:00:00",
          "2018-11-25T00:00:00",
          "2018-12-02T00:00:00",
          "2018-12-09T00:00:00",
          "2018-12-16T00:00:00",
          "2018-12-23T00:00:00",
          "2018-12-30T00:00:00",
          "2019-01-06T00:00:00",
          "2019-01-13T00:00:00",
          "2019-01-20T00:00:00",
          "2019-01-27T00:00:00",
          "2019-02-03T00:00:00",
          "2019-02-10T00:00:00",
          "2019-02-17T00:00:00",
          "2019-02-24T00:00:00",
          "2019-03-03T00:00:00",
          "2019-03-10T00:00:00",
          "2019-03-17T00:00:00",
          "2019-03-24T00:00:00",
          "2019-03-31T00:00:00",
          "2019-04-07T00:00:00",
          "2019-04-14T00:00:00",
          "2019-04-21T00:00:00",
          "2019-04-28T00:00:00",
          "2019-05-05T00:00:00",
          "2019-05-12T00:00:00",
          "2019-05-19T00:00:00",
          "2019-05-26T00:00:00",
          "2019-06-02T00:00:00",
          "2019-06-09T00:00:00",
          "2019-06-16T00:00:00",
          "2019-06-23T00:00:00",
          "2019-06-30T00:00:00",
          "2019-07-07T00:00:00",
          "2019-07-14T00:00:00",
          "2019-07-21T00:00:00",
          "2019-07-28T00:00:00",
          "2019-08-04T00:00:00",
          "2019-08-11T00:00:00",
          "2019-08-18T00:00:00",
          "2019-08-25T00:00:00",
          "2019-09-01T00:00:00",
          "2019-09-08T00:00:00",
          "2019-09-15T00:00:00",
          "2019-09-22T00:00:00",
          "2019-09-29T00:00:00",
          "2019-10-06T00:00:00",
          "2019-10-13T00:00:00",
          "2019-10-20T00:00:00",
          "2019-10-27T00:00:00",
          "2019-11-03T00:00:00",
          "2019-11-10T00:00:00",
          "2019-11-17T00:00:00",
          "2019-11-24T00:00:00",
          "2019-12-01T00:00:00",
          "2019-12-08T00:00:00",
          "2019-12-15T00:00:00",
          "2019-12-22T00:00:00",
          "2019-12-29T00:00:00",
          "2020-01-05T00:00:00",
          "2020-01-12T00:00:00",
          "2020-01-19T00:00:00",
          "2020-01-26T00:00:00",
          "2020-02-02T00:00:00",
          "2020-02-09T00:00:00",
          "2020-02-16T00:00:00",
          "2020-02-23T00:00:00",
          "2020-03-01T00:00:00",
          "2020-03-08T00:00:00",
          "2020-03-15T00:00:00",
          "2020-03-22T00:00:00",
          "2020-03-29T00:00:00",
          "2020-04-05T00:00:00",
          "2020-04-12T00:00:00",
          "2020-04-19T00:00:00",
          "2020-04-26T00:00:00",
          "2020-05-03T00:00:00",
          "2020-05-10T00:00:00",
          "2020-05-17T00:00:00",
          "2020-05-24T00:00:00",
          "2020-05-31T00:00:00",
          "2020-06-07T00:00:00",
          "2020-06-14T00:00:00",
          "2020-06-21T00:00:00",
          "2020-06-28T00:00:00",
          "2020-07-05T00:00:00",
          "2020-07-12T00:00:00",
          "2020-07-19T00:00:00",
          "2020-07-26T00:00:00",
          "2020-08-02T00:00:00",
          "2020-08-09T00:00:00",
          "2020-08-16T00:00:00",
          "2020-08-23T00:00:00",
          "2020-08-30T00:00:00",
          "2020-09-06T00:00:00",
          "2020-09-13T00:00:00",
          "2020-09-20T00:00:00",
          "2020-09-27T00:00:00",
          "2020-10-04T00:00:00",
          "2020-10-11T00:00:00",
          "2020-10-18T00:00:00",
          "2020-10-25T00:00:00",
          "2020-11-01T00:00:00",
          "2020-11-08T00:00:00",
          "2020-11-15T00:00:00",
          "2020-11-22T00:00:00",
          "2020-11-29T00:00:00",
          "2020-12-06T00:00:00",
          "2020-12-13T00:00:00",
          "2020-12-20T00:00:00",
          "2020-12-27T00:00:00",
          "2021-01-03T00:00:00"
         ],
         "y": [
          151002213.02852163,
          132160431.1588779,
          268642092.62654585,
          271732857.16762483,
          273988252.1626241,
          18996277.16880758,
          18996277.16880758,
          18996277.16880758,
          1654730239.9294958,
          18996277.16880758,
          657955991.2419206,
          562779764.7487805,
          18996277.16880758,
          513718075.695637,
          18996277.16880758,
          601732893.324968,
          492912929.3924948,
          18996277.16880758,
          523782804.9502053,
          18996277.16880758,
          18996277.16880758,
          18996277.16880758,
          18996277.16880758,
          676881426.6891938,
          750715807.9899684,
          18996277.16880758,
          619881021.5467991,
          18996277.16880758,
          814827714.6329451,
          18996277.16880758,
          1026692551.9848738,
          18996277.16880758,
          18996277.16880758,
          1033532069.1511346,
          18996277.16880758,
          966307385.9719812,
          18996277.16880758,
          990598582.6332431,
          1118195324.0885124,
          1844284470.874778,
          1291883629.6952012,
          1181528368.024624,
          998891375.8405936,
          1010536912.8496945,
          18996277.16880758,
          18996277.16880758,
          1001662320.5473002,
          2273860598.328606,
          1198230489.5952652,
          1105687661.4984882,
          5706457811.006203,
          26915663894.39746,
          29646946218.111996,
          34330110555.74025,
          41246042706.372116,
          28393265290.607567,
          38593299104.55076,
          44032379214.56183,
          64366414331.5525,
          44284072734.965935,
          48169838087.71533,
          49890965910.30758,
          72117956679.46442,
          88607406749.59108,
          103422421757.48055,
          60201220328.610596,
          76692968922.06097,
          86997752338.08018,
          88607477771.23883,
          102497737242.13115,
          97197638914.24774,
          64257279974.11883,
          99209216407.77803,
          116770148224.49742,
          94727633022.9824,
          89780676129.97203,
          68748128709.12978,
          103590351748.43756,
          78128619113.40947,
          97514022744.04541,
          86895641040.58229,
          82630891923.8766,
          156759895022.5007,
          97560760307.31029,
          76805988684.84184,
          242744189597.8464,
          316699652201.0437,
          74408760018.61588,
          99963563452.86635,
          127858681123.22937,
          355197202535.85345,
          127932916257.0959,
          153337116456.35358,
          69810067069.65016,
          308686304481.3611,
          196991757703.0419,
          160705940513.32538,
          193767654965.9134,
          64191348797.96848,
          45416545123.11557,
          16515738582.672619,
          6602578938.413092,
          11148398479.999912,
          12468540996.71712,
          15209775274.441093,
          22093731349.323166,
          14414154332.99073,
          30868858849.91212,
          36298687343.60282,
          33062207298.381283,
          43967186236.40462,
          50347866535.85565,
          46170104820.52427,
          36844840970.269806,
          55252665237.39261,
          117377038902.1995,
          115021314007.64418,
          105656701490.31161,
          87442187453.4699,
          95242322572.4094,
          110826041557.1999,
          107216211814.78172,
          117121506143.73984,
          89409428554.98724,
          83532263884.27277,
          97622090162.85646,
          63113255536.2946,
          115906502421.8893,
          84854392831.13306,
          138774601097.1669,
          105870042629.93701,
          127429718459.28612,
          71801957392.59457,
          149514690525.91827,
          85043104532.65466,
          37102415429.153465,
          225623119586.98196,
          17531899846.477047,
          71534421758.95898,
          238942450082.61365,
          67507072045.55273,
          124392204362.19432,
          103058932309.67004,
          104629943324.79507,
          110462597473.91699,
          102613946317.2507,
          136292637956.38426,
          114993883026.99072,
          110992244426.63329,
          117985141720.70941,
          247102309844.3447,
          79315375909.57565,
          14146209262.565481,
          5542385502.499081,
          6625465133.45542,
          14255596142.867083,
          12347004985.904028,
          16507568728.09679,
          12115681298.666399,
          40426336598.15079,
          42085691858.096565,
          46143407785.30991,
          71656065695.73982,
          104613185279.7043,
          69831295580.29689,
          65898292481.63013,
          59593515488.158226,
          99053686561.36661,
          64123483137.42996,
          102956345142.29727,
          79699311869.78653,
          98008528033.98868,
          90674779736.13203,
          100971767750.86533,
          94532082694.53067,
          119570661422.92703,
          131696702074.10109,
          63083239950.33464,
          41936897427.32084,
          53830087709.981415,
          92620386625.34813,
          61876013669.11104,
          78242473628.91562,
          66879250750.33919,
          68226063789.09759,
          61209705898.36208,
          66595090499.23876,
          59930491514.786064,
          135098557033.88988,
          55450406753.336136,
          140037337878.08054,
          85239277604.17548,
          28188587485.93772,
          107329297613.7449,
          132752389345.82399,
          114906151880.32625,
          113107013145.99591,
          92785741203.83244,
          99324452208.16525,
          142142862382.92554,
          139756644878.92133,
          112002143171.73737,
          88082037943.84285,
          27601041101.552505,
          6099374447.169838,
          7481291272.245118
         ]
        },
        {
         "marker": {
          "color": "orange"
         },
         "name": "Test_예측값_LightGB",
         "type": "scatter",
         "x": [
          "2021-01-31T00:00:00",
          "2021-02-07T00:00:00",
          "2021-02-14T00:00:00",
          "2021-02-21T00:00:00",
          "2021-02-28T00:00:00",
          "2021-03-07T00:00:00",
          "2021-03-14T00:00:00",
          "2021-03-21T00:00:00",
          "2021-03-28T00:00:00",
          "2021-04-04T00:00:00",
          "2021-04-11T00:00:00",
          "2021-04-18T00:00:00",
          "2021-04-25T00:00:00",
          "2021-05-02T00:00:00",
          "2021-05-09T00:00:00",
          "2021-05-16T00:00:00",
          "2021-05-23T00:00:00",
          "2021-05-30T00:00:00",
          "2021-06-06T00:00:00",
          "2021-06-13T00:00:00",
          "2021-06-20T00:00:00",
          "2021-06-27T00:00:00",
          "2021-07-04T00:00:00",
          "2021-07-11T00:00:00",
          "2021-07-18T00:00:00",
          "2021-07-25T00:00:00",
          "2021-08-01T00:00:00",
          "2021-08-08T00:00:00",
          "2021-08-15T00:00:00",
          "2021-08-22T00:00:00",
          "2021-08-29T00:00:00",
          "2021-09-05T00:00:00",
          "2021-09-12T00:00:00",
          "2021-09-19T00:00:00",
          "2021-09-26T00:00:00",
          "2021-10-03T00:00:00",
          "2021-10-10T00:00:00",
          "2021-10-17T00:00:00",
          "2021-10-24T00:00:00",
          "2021-10-31T00:00:00",
          "2021-11-07T00:00:00",
          "2021-11-14T00:00:00",
          "2021-11-21T00:00:00",
          "2021-11-28T00:00:00",
          "2021-12-05T00:00:00",
          "2021-12-12T00:00:00",
          "2021-12-19T00:00:00",
          "2021-12-26T00:00:00"
         ],
         "y": [
          43430019072,
          40483774464,
          8559711232,
          43351470080,
          41589661696,
          40286646272,
          39035293696,
          60081995776,
          66174234624,
          61914787840,
          52625862656,
          65481809920,
          63255216128,
          60530860032,
          48689242112,
          86469050368,
          99468689408,
          96808951808,
          46498217984,
          96812507136,
          84676059136,
          152111759360,
          44039860224,
          28180555776,
          193951744000,
          51231797248,
          53859287040,
          61056868352,
          93563994112,
          83086835712,
          97579606016,
          80136962048,
          86712418304,
          44449673216,
          16954434560,
          61906763776,
          86733873152,
          119023886336,
          208497000448,
          80883318784,
          111210020864,
          121782263808,
          105126051840,
          87437918208,
          127862939648,
          62432686080,
          110636392448,
          13541732352
         ]
        },
        {
         "marker": {
          "color": "orange"
         },
         "name": "Train_예측값_LightGB",
         "type": "scatter",
         "x": [
          "2017-01-29T00:00:00",
          "2017-02-05T00:00:00",
          "2017-02-12T00:00:00",
          "2017-02-19T00:00:00",
          "2017-02-26T00:00:00",
          "2017-03-05T00:00:00",
          "2017-03-12T00:00:00",
          "2017-03-19T00:00:00",
          "2017-03-26T00:00:00",
          "2017-04-02T00:00:00",
          "2017-04-09T00:00:00",
          "2017-04-16T00:00:00",
          "2017-04-23T00:00:00",
          "2017-04-30T00:00:00",
          "2017-05-07T00:00:00",
          "2017-05-14T00:00:00",
          "2017-05-21T00:00:00",
          "2017-05-28T00:00:00",
          "2017-06-04T00:00:00",
          "2017-06-11T00:00:00",
          "2017-06-18T00:00:00",
          "2017-06-25T00:00:00",
          "2017-07-02T00:00:00",
          "2017-07-09T00:00:00",
          "2017-07-16T00:00:00",
          "2017-07-23T00:00:00",
          "2017-07-30T00:00:00",
          "2017-08-06T00:00:00",
          "2017-08-13T00:00:00",
          "2017-08-20T00:00:00",
          "2017-08-27T00:00:00",
          "2017-09-03T00:00:00",
          "2017-09-10T00:00:00",
          "2017-09-17T00:00:00",
          "2017-09-24T00:00:00",
          "2017-10-01T00:00:00",
          "2017-10-08T00:00:00",
          "2017-10-15T00:00:00",
          "2017-10-22T00:00:00",
          "2017-10-29T00:00:00",
          "2017-11-05T00:00:00",
          "2017-11-12T00:00:00",
          "2017-11-19T00:00:00",
          "2017-11-26T00:00:00",
          "2017-12-03T00:00:00",
          "2017-12-10T00:00:00",
          "2017-12-17T00:00:00",
          "2017-12-24T00:00:00",
          "2017-12-31T00:00:00",
          "2018-01-07T00:00:00",
          "2018-01-14T00:00:00",
          "2018-01-21T00:00:00",
          "2018-01-28T00:00:00",
          "2018-02-04T00:00:00",
          "2018-02-11T00:00:00",
          "2018-02-18T00:00:00",
          "2018-02-25T00:00:00",
          "2018-03-04T00:00:00",
          "2018-03-11T00:00:00",
          "2018-03-18T00:00:00",
          "2018-03-25T00:00:00",
          "2018-04-01T00:00:00",
          "2018-04-08T00:00:00",
          "2018-04-15T00:00:00",
          "2018-04-22T00:00:00",
          "2018-04-29T00:00:00",
          "2018-05-06T00:00:00",
          "2018-05-13T00:00:00",
          "2018-05-20T00:00:00",
          "2018-05-27T00:00:00",
          "2018-06-03T00:00:00",
          "2018-06-10T00:00:00",
          "2018-06-17T00:00:00",
          "2018-06-24T00:00:00",
          "2018-07-01T00:00:00",
          "2018-07-08T00:00:00",
          "2018-07-15T00:00:00",
          "2018-07-22T00:00:00",
          "2018-07-29T00:00:00",
          "2018-08-05T00:00:00",
          "2018-08-12T00:00:00",
          "2018-08-19T00:00:00",
          "2018-08-26T00:00:00",
          "2018-09-02T00:00:00",
          "2018-09-09T00:00:00",
          "2018-09-16T00:00:00",
          "2018-09-23T00:00:00",
          "2018-09-30T00:00:00",
          "2018-10-07T00:00:00",
          "2018-10-14T00:00:00",
          "2018-10-21T00:00:00",
          "2018-10-28T00:00:00",
          "2018-11-04T00:00:00",
          "2018-11-11T00:00:00",
          "2018-11-18T00:00:00",
          "2018-11-25T00:00:00",
          "2018-12-02T00:00:00",
          "2018-12-09T00:00:00",
          "2018-12-16T00:00:00",
          "2018-12-23T00:00:00",
          "2018-12-30T00:00:00",
          "2019-01-06T00:00:00",
          "2019-01-13T00:00:00",
          "2019-01-20T00:00:00",
          "2019-01-27T00:00:00",
          "2019-02-03T00:00:00",
          "2019-02-10T00:00:00",
          "2019-02-17T00:00:00",
          "2019-02-24T00:00:00",
          "2019-03-03T00:00:00",
          "2019-03-10T00:00:00",
          "2019-03-17T00:00:00",
          "2019-03-24T00:00:00",
          "2019-03-31T00:00:00",
          "2019-04-07T00:00:00",
          "2019-04-14T00:00:00",
          "2019-04-21T00:00:00",
          "2019-04-28T00:00:00",
          "2019-05-05T00:00:00",
          "2019-05-12T00:00:00",
          "2019-05-19T00:00:00",
          "2019-05-26T00:00:00",
          "2019-06-02T00:00:00",
          "2019-06-09T00:00:00",
          "2019-06-16T00:00:00",
          "2019-06-23T00:00:00",
          "2019-06-30T00:00:00",
          "2019-07-07T00:00:00",
          "2019-07-14T00:00:00",
          "2019-07-21T00:00:00",
          "2019-07-28T00:00:00",
          "2019-08-04T00:00:00",
          "2019-08-11T00:00:00",
          "2019-08-18T00:00:00",
          "2019-08-25T00:00:00",
          "2019-09-01T00:00:00",
          "2019-09-08T00:00:00",
          "2019-09-15T00:00:00",
          "2019-09-22T00:00:00",
          "2019-09-29T00:00:00",
          "2019-10-06T00:00:00",
          "2019-10-13T00:00:00",
          "2019-10-20T00:00:00",
          "2019-10-27T00:00:00",
          "2019-11-03T00:00:00",
          "2019-11-10T00:00:00",
          "2019-11-17T00:00:00",
          "2019-11-24T00:00:00",
          "2019-12-01T00:00:00",
          "2019-12-08T00:00:00",
          "2019-12-15T00:00:00",
          "2019-12-22T00:00:00",
          "2019-12-29T00:00:00",
          "2020-01-05T00:00:00",
          "2020-01-12T00:00:00",
          "2020-01-19T00:00:00",
          "2020-01-26T00:00:00",
          "2020-02-02T00:00:00",
          "2020-02-09T00:00:00",
          "2020-02-16T00:00:00",
          "2020-02-23T00:00:00",
          "2020-03-01T00:00:00",
          "2020-03-08T00:00:00",
          "2020-03-15T00:00:00",
          "2020-03-22T00:00:00",
          "2020-03-29T00:00:00",
          "2020-04-05T00:00:00",
          "2020-04-12T00:00:00",
          "2020-04-19T00:00:00",
          "2020-04-26T00:00:00",
          "2020-05-03T00:00:00",
          "2020-05-10T00:00:00",
          "2020-05-17T00:00:00",
          "2020-05-24T00:00:00",
          "2020-05-31T00:00:00",
          "2020-06-07T00:00:00",
          "2020-06-14T00:00:00",
          "2020-06-21T00:00:00",
          "2020-06-28T00:00:00",
          "2020-07-05T00:00:00",
          "2020-07-12T00:00:00",
          "2020-07-19T00:00:00",
          "2020-07-26T00:00:00",
          "2020-08-02T00:00:00",
          "2020-08-09T00:00:00",
          "2020-08-16T00:00:00",
          "2020-08-23T00:00:00",
          "2020-08-30T00:00:00",
          "2020-09-06T00:00:00",
          "2020-09-13T00:00:00",
          "2020-09-20T00:00:00",
          "2020-09-27T00:00:00",
          "2020-10-04T00:00:00",
          "2020-10-11T00:00:00",
          "2020-10-18T00:00:00",
          "2020-10-25T00:00:00",
          "2020-11-01T00:00:00",
          "2020-11-08T00:00:00",
          "2020-11-15T00:00:00",
          "2020-11-22T00:00:00",
          "2020-11-29T00:00:00",
          "2020-12-06T00:00:00",
          "2020-12-13T00:00:00",
          "2020-12-20T00:00:00",
          "2020-12-27T00:00:00",
          "2021-01-03T00:00:00"
         ],
         "y": [
          1271560064,
          1271560064,
          1271560064,
          1271560064,
          1271560064,
          1271560064,
          1271560064,
          1271560064,
          1738522240,
          1271560064,
          1301170560,
          1301170560,
          1271560064,
          1301170560,
          1271560064,
          1301170560,
          1301170560,
          1271560064,
          1301170560,
          1271560064,
          1271560064,
          1271560064,
          1271560064,
          1301170560,
          1301170560,
          1271560064,
          1301170560,
          1271560064,
          1343985536,
          1271560064,
          1368776064,
          1271560064,
          1271560064,
          1368776064,
          1271560064,
          1368776064,
          1271560064,
          1368776064,
          1368776064,
          1817183360,
          1520702848,
          1368776064,
          1368776064,
          1368776064,
          1271560064,
          1271560064,
          1368776064,
          2137839744,
          1368776064,
          1465030016,
          3557864192,
          30268186624,
          33580800000,
          38851039232,
          42566217728,
          48472965120,
          43344175104,
          47456047104,
          57674010624,
          45406875648,
          49746313216,
          47794122752,
          58048389120,
          74699350016,
          90850549760,
          59205038080,
          71040950272,
          81736081408,
          81004699648,
          123250999296,
          88213020672,
          52111945728,
          89059147776,
          102559793152,
          88226537472,
          88981340160,
          55825973248,
          63362138112,
          59270107136,
          61213847552,
          54534766592,
          53068578816,
          194405646336,
          79096840192,
          40059715584,
          231484391424,
          688052109312,
          41693229056,
          88724209664,
          60135792640,
          751128805376,
          72439537664,
          139808768000,
          11991096320,
          564981399552,
          97488052224,
          87480107008,
          102087663616,
          37176324096,
          38114877440,
          9383350272,
          4946990080,
          10016825344,
          21757880320,
          17763901440,
          15404107776,
          14331990016,
          35899981824,
          38627553280,
          36162605056,
          38037446656,
          35544780800,
          46508843008,
          42451972096,
          54236880896,
          103447494656,
          99178971136,
          100347297792,
          80136249344,
          91595079680,
          94845591552,
          80651116544,
          111003648000,
          67312336896,
          75938406400,
          88559665152,
          64660799488,
          91940052992,
          72321245184,
          114614870016,
          75089723392,
          109701079040,
          52336525312,
          197221662720,
          64235270144,
          35567095808,
          269849198592,
          11232768000,
          40773328896,
          226826502144,
          31423946752,
          78942011392,
          44943106048,
          55703752704,
          70424698880,
          47514124288,
          74875682816,
          77726253056,
          104191803392,
          67652513792,
          194730131456,
          67453194240,
          10899064832,
          3744880896,
          3962577408,
          31376881664,
          13885051904,
          24691900416,
          2411513088,
          46787473408,
          36002508800,
          43173400576,
          51261554688,
          96778665984,
          67574624256,
          66263273472,
          60552794112,
          90005037056,
          60459126784,
          102079594496,
          80976601088,
          95243698176,
          86997671936,
          101100060672,
          92455174144,
          109865132032,
          119496294400,
          56648843264,
          36843745280,
          46785171456,
          72043241472,
          60487757824,
          57019097088,
          43277832192,
          34620846080,
          38692229120,
          41940664320,
          53403947008,
          172499255296,
          45321150464,
          166972588032,
          58508963840,
          21877305344,
          59491434496,
          67977482240,
          70370762752,
          115196608512,
          63959392256,
          66907738112,
          156916613120,
          94902493184,
          101861408768,
          77106864128,
          19498692608,
          3646608128,
          4484490752
         ]
        }
       ],
       "layout": {
        "annotations": [
         {
          "align": "center",
          "ax": 40,
          "ay": -30,
          "font": {
           "color": "black",
           "size": 15
          },
          "showarrow": false,
          "text": "<b>Test</b>",
          "x": "2021-02-20",
          "y": 1000000000000
         },
         {
          "align": "center",
          "ax": 40,
          "ay": -30,
          "font": {
           "color": "black",
           "size": 15
          },
          "showarrow": false,
          "text": "<b>Train</b>",
          "x": "2020-11-15",
          "y": 1000000000000
         }
        ],
        "autosize": false,
        "height": 800,
        "shapes": [
         {
          "line": {
           "dash": "dash"
          },
          "type": "line",
          "x0": "2021-01-01",
          "x1": "2021-01-01",
          "xref": "x",
          "y0": 0,
          "y1": 1,
          "yref": "y domain"
         }
        ],
        "template": {
         "data": {
          "bar": [
           {
            "error_x": {
             "color": "#2a3f5f"
            },
            "error_y": {
             "color": "#2a3f5f"
            },
            "marker": {
             "line": {
              "color": "#E5ECF6",
              "width": 0.5
             },
             "pattern": {
              "fillmode": "overlay",
              "size": 10,
              "solidity": 0.2
             }
            },
            "type": "bar"
           }
          ],
          "barpolar": [
           {
            "marker": {
             "line": {
              "color": "#E5ECF6",
              "width": 0.5
             },
             "pattern": {
              "fillmode": "overlay",
              "size": 10,
              "solidity": 0.2
             }
            },
            "type": "barpolar"
           }
          ],
          "carpet": [
           {
            "aaxis": {
             "endlinecolor": "#2a3f5f",
             "gridcolor": "white",
             "linecolor": "white",
             "minorgridcolor": "white",
             "startlinecolor": "#2a3f5f"
            },
            "baxis": {
             "endlinecolor": "#2a3f5f",
             "gridcolor": "white",
             "linecolor": "white",
             "minorgridcolor": "white",
             "startlinecolor": "#2a3f5f"
            },
            "type": "carpet"
           }
          ],
          "choropleth": [
           {
            "colorbar": {
             "outlinewidth": 0,
             "ticks": ""
            },
            "type": "choropleth"
           }
          ],
          "contour": [
           {
            "colorbar": {
             "outlinewidth": 0,
             "ticks": ""
            },
            "colorscale": [
             [
              0,
              "#0d0887"
             ],
             [
              0.1111111111111111,
              "#46039f"
             ],
             [
              0.2222222222222222,
              "#7201a8"
             ],
             [
              0.3333333333333333,
              "#9c179e"
             ],
             [
              0.4444444444444444,
              "#bd3786"
             ],
             [
              0.5555555555555556,
              "#d8576b"
             ],
             [
              0.6666666666666666,
              "#ed7953"
             ],
             [
              0.7777777777777778,
              "#fb9f3a"
             ],
             [
              0.8888888888888888,
              "#fdca26"
             ],
             [
              1,
              "#f0f921"
             ]
            ],
            "type": "contour"
           }
          ],
          "contourcarpet": [
           {
            "colorbar": {
             "outlinewidth": 0,
             "ticks": ""
            },
            "type": "contourcarpet"
           }
          ],
          "heatmap": [
           {
            "colorbar": {
             "outlinewidth": 0,
             "ticks": ""
            },
            "colorscale": [
             [
              0,
              "#0d0887"
             ],
             [
              0.1111111111111111,
              "#46039f"
             ],
             [
              0.2222222222222222,
              "#7201a8"
             ],
             [
              0.3333333333333333,
              "#9c179e"
             ],
             [
              0.4444444444444444,
              "#bd3786"
             ],
             [
              0.5555555555555556,
              "#d8576b"
             ],
             [
              0.6666666666666666,
              "#ed7953"
             ],
             [
              0.7777777777777778,
              "#fb9f3a"
             ],
             [
              0.8888888888888888,
              "#fdca26"
             ],
             [
              1,
              "#f0f921"
             ]
            ],
            "type": "heatmap"
           }
          ],
          "heatmapgl": [
           {
            "colorbar": {
             "outlinewidth": 0,
             "ticks": ""
            },
            "colorscale": [
             [
              0,
              "#0d0887"
             ],
             [
              0.1111111111111111,
              "#46039f"
             ],
             [
              0.2222222222222222,
              "#7201a8"
             ],
             [
              0.3333333333333333,
              "#9c179e"
             ],
             [
              0.4444444444444444,
              "#bd3786"
             ],
             [
              0.5555555555555556,
              "#d8576b"
             ],
             [
              0.6666666666666666,
              "#ed7953"
             ],
             [
              0.7777777777777778,
              "#fb9f3a"
             ],
             [
              0.8888888888888888,
              "#fdca26"
             ],
             [
              1,
              "#f0f921"
             ]
            ],
            "type": "heatmapgl"
           }
          ],
          "histogram": [
           {
            "marker": {
             "pattern": {
              "fillmode": "overlay",
              "size": 10,
              "solidity": 0.2
             }
            },
            "type": "histogram"
           }
          ],
          "histogram2d": [
           {
            "colorbar": {
             "outlinewidth": 0,
             "ticks": ""
            },
            "colorscale": [
             [
              0,
              "#0d0887"
             ],
             [
              0.1111111111111111,
              "#46039f"
             ],
             [
              0.2222222222222222,
              "#7201a8"
             ],
             [
              0.3333333333333333,
              "#9c179e"
             ],
             [
              0.4444444444444444,
              "#bd3786"
             ],
             [
              0.5555555555555556,
              "#d8576b"
             ],
             [
              0.6666666666666666,
              "#ed7953"
             ],
             [
              0.7777777777777778,
              "#fb9f3a"
             ],
             [
              0.8888888888888888,
              "#fdca26"
             ],
             [
              1,
              "#f0f921"
             ]
            ],
            "type": "histogram2d"
           }
          ],
          "histogram2dcontour": [
           {
            "colorbar": {
             "outlinewidth": 0,
             "ticks": ""
            },
            "colorscale": [
             [
              0,
              "#0d0887"
             ],
             [
              0.1111111111111111,
              "#46039f"
             ],
             [
              0.2222222222222222,
              "#7201a8"
             ],
             [
              0.3333333333333333,
              "#9c179e"
             ],
             [
              0.4444444444444444,
              "#bd3786"
             ],
             [
              0.5555555555555556,
              "#d8576b"
             ],
             [
              0.6666666666666666,
              "#ed7953"
             ],
             [
              0.7777777777777778,
              "#fb9f3a"
             ],
             [
              0.8888888888888888,
              "#fdca26"
             ],
             [
              1,
              "#f0f921"
             ]
            ],
            "type": "histogram2dcontour"
           }
          ],
          "mesh3d": [
           {
            "colorbar": {
             "outlinewidth": 0,
             "ticks": ""
            },
            "type": "mesh3d"
           }
          ],
          "parcoords": [
           {
            "line": {
             "colorbar": {
              "outlinewidth": 0,
              "ticks": ""
             }
            },
            "type": "parcoords"
           }
          ],
          "pie": [
           {
            "automargin": true,
            "type": "pie"
           }
          ],
          "scatter": [
           {
            "marker": {
             "colorbar": {
              "outlinewidth": 0,
              "ticks": ""
             }
            },
            "type": "scatter"
           }
          ],
          "scatter3d": [
           {
            "line": {
             "colorbar": {
              "outlinewidth": 0,
              "ticks": ""
             }
            },
            "marker": {
             "colorbar": {
              "outlinewidth": 0,
              "ticks": ""
             }
            },
            "type": "scatter3d"
           }
          ],
          "scattercarpet": [
           {
            "marker": {
             "colorbar": {
              "outlinewidth": 0,
              "ticks": ""
             }
            },
            "type": "scattercarpet"
           }
          ],
          "scattergeo": [
           {
            "marker": {
             "colorbar": {
              "outlinewidth": 0,
              "ticks": ""
             }
            },
            "type": "scattergeo"
           }
          ],
          "scattergl": [
           {
            "marker": {
             "colorbar": {
              "outlinewidth": 0,
              "ticks": ""
             }
            },
            "type": "scattergl"
           }
          ],
          "scattermapbox": [
           {
            "marker": {
             "colorbar": {
              "outlinewidth": 0,
              "ticks": ""
             }
            },
            "type": "scattermapbox"
           }
          ],
          "scatterpolar": [
           {
            "marker": {
             "colorbar": {
              "outlinewidth": 0,
              "ticks": ""
             }
            },
            "type": "scatterpolar"
           }
          ],
          "scatterpolargl": [
           {
            "marker": {
             "colorbar": {
              "outlinewidth": 0,
              "ticks": ""
             }
            },
            "type": "scatterpolargl"
           }
          ],
          "scatterternary": [
           {
            "marker": {
             "colorbar": {
              "outlinewidth": 0,
              "ticks": ""
             }
            },
            "type": "scatterternary"
           }
          ],
          "surface": [
           {
            "colorbar": {
             "outlinewidth": 0,
             "ticks": ""
            },
            "colorscale": [
             [
              0,
              "#0d0887"
             ],
             [
              0.1111111111111111,
              "#46039f"
             ],
             [
              0.2222222222222222,
              "#7201a8"
             ],
             [
              0.3333333333333333,
              "#9c179e"
             ],
             [
              0.4444444444444444,
              "#bd3786"
             ],
             [
              0.5555555555555556,
              "#d8576b"
             ],
             [
              0.6666666666666666,
              "#ed7953"
             ],
             [
              0.7777777777777778,
              "#fb9f3a"
             ],
             [
              0.8888888888888888,
              "#fdca26"
             ],
             [
              1,
              "#f0f921"
             ]
            ],
            "type": "surface"
           }
          ],
          "table": [
           {
            "cells": {
             "fill": {
              "color": "#EBF0F8"
             },
             "line": {
              "color": "white"
             }
            },
            "header": {
             "fill": {
              "color": "#C8D4E3"
             },
             "line": {
              "color": "white"
             }
            },
            "type": "table"
           }
          ]
         },
         "layout": {
          "annotationdefaults": {
           "arrowcolor": "#2a3f5f",
           "arrowhead": 0,
           "arrowwidth": 1
          },
          "autotypenumbers": "strict",
          "coloraxis": {
           "colorbar": {
            "outlinewidth": 0,
            "ticks": ""
           }
          },
          "colorscale": {
           "diverging": [
            [
             0,
             "#8e0152"
            ],
            [
             0.1,
             "#c51b7d"
            ],
            [
             0.2,
             "#de77ae"
            ],
            [
             0.3,
             "#f1b6da"
            ],
            [
             0.4,
             "#fde0ef"
            ],
            [
             0.5,
             "#f7f7f7"
            ],
            [
             0.6,
             "#e6f5d0"
            ],
            [
             0.7,
             "#b8e186"
            ],
            [
             0.8,
             "#7fbc41"
            ],
            [
             0.9,
             "#4d9221"
            ],
            [
             1,
             "#276419"
            ]
           ],
           "sequential": [
            [
             0,
             "#0d0887"
            ],
            [
             0.1111111111111111,
             "#46039f"
            ],
            [
             0.2222222222222222,
             "#7201a8"
            ],
            [
             0.3333333333333333,
             "#9c179e"
            ],
            [
             0.4444444444444444,
             "#bd3786"
            ],
            [
             0.5555555555555556,
             "#d8576b"
            ],
            [
             0.6666666666666666,
             "#ed7953"
            ],
            [
             0.7777777777777778,
             "#fb9f3a"
            ],
            [
             0.8888888888888888,
             "#fdca26"
            ],
            [
             1,
             "#f0f921"
            ]
           ],
           "sequentialminus": [
            [
             0,
             "#0d0887"
            ],
            [
             0.1111111111111111,
             "#46039f"
            ],
            [
             0.2222222222222222,
             "#7201a8"
            ],
            [
             0.3333333333333333,
             "#9c179e"
            ],
            [
             0.4444444444444444,
             "#bd3786"
            ],
            [
             0.5555555555555556,
             "#d8576b"
            ],
            [
             0.6666666666666666,
             "#ed7953"
            ],
            [
             0.7777777777777778,
             "#fb9f3a"
            ],
            [
             0.8888888888888888,
             "#fdca26"
            ],
            [
             1,
             "#f0f921"
            ]
           ]
          },
          "colorway": [
           "#636efa",
           "#EF553B",
           "#00cc96",
           "#ab63fa",
           "#FFA15A",
           "#19d3f3",
           "#FF6692",
           "#B6E880",
           "#FF97FF",
           "#FECB52"
          ],
          "font": {
           "color": "#2a3f5f"
          },
          "geo": {
           "bgcolor": "white",
           "lakecolor": "white",
           "landcolor": "#E5ECF6",
           "showlakes": true,
           "showland": true,
           "subunitcolor": "white"
          },
          "hoverlabel": {
           "align": "left"
          },
          "hovermode": "closest",
          "mapbox": {
           "style": "light"
          },
          "paper_bgcolor": "white",
          "plot_bgcolor": "#E5ECF6",
          "polar": {
           "angularaxis": {
            "gridcolor": "white",
            "linecolor": "white",
            "ticks": ""
           },
           "bgcolor": "#E5ECF6",
           "radialaxis": {
            "gridcolor": "white",
            "linecolor": "white",
            "ticks": ""
           }
          },
          "scene": {
           "xaxis": {
            "backgroundcolor": "#E5ECF6",
            "gridcolor": "white",
            "gridwidth": 2,
            "linecolor": "white",
            "showbackground": true,
            "ticks": "",
            "zerolinecolor": "white"
           },
           "yaxis": {
            "backgroundcolor": "#E5ECF6",
            "gridcolor": "white",
            "gridwidth": 2,
            "linecolor": "white",
            "showbackground": true,
            "ticks": "",
            "zerolinecolor": "white"
           },
           "zaxis": {
            "backgroundcolor": "#E5ECF6",
            "gridcolor": "white",
            "gridwidth": 2,
            "linecolor": "white",
            "showbackground": true,
            "ticks": "",
            "zerolinecolor": "white"
           }
          },
          "shapedefaults": {
           "line": {
            "color": "#2a3f5f"
           }
          },
          "ternary": {
           "aaxis": {
            "gridcolor": "white",
            "linecolor": "white",
            "ticks": ""
           },
           "baxis": {
            "gridcolor": "white",
            "linecolor": "white",
            "ticks": ""
           },
           "bgcolor": "#E5ECF6",
           "caxis": {
            "gridcolor": "white",
            "linecolor": "white",
            "ticks": ""
           }
          },
          "title": {
           "x": 0.05
          },
          "xaxis": {
           "automargin": true,
           "gridcolor": "white",
           "linecolor": "white",
           "ticks": "",
           "title": {
            "standoff": 15
           },
           "zerolinecolor": "white",
           "zerolinewidth": 2
          },
          "yaxis": {
           "automargin": true,
           "gridcolor": "white",
           "linecolor": "white",
           "ticks": "",
           "title": {
            "standoff": 15
           },
           "zerolinecolor": "white",
           "zerolinewidth": 2
          }
         }
        },
        "title": {
         "text": "물품 : 방위사업청 대한 수요예측 "
        },
        "width": 1600,
        "xaxis": {
         "title": {
          "text": "주 단위 시계열 (2020/01/05 ~ 2021/01/23)"
         }
        },
        "yaxis": {
         "title": {
          "text": "주별 예산 총액"
         }
        }
       }
      },
      "text/html": [
       "<div>                            <div id=\"4fcfbef9-13b6-4a83-8758-aaf84e318210\" class=\"plotly-graph-div\" style=\"height:800px; width:1600px;\"></div>            <script type=\"text/javascript\">                require([\"plotly\"], function(Plotly) {                    window.PLOTLYENV=window.PLOTLYENV || {};                                    if (document.getElementById(\"4fcfbef9-13b6-4a83-8758-aaf84e318210\")) {                    Plotly.newPlot(                        \"4fcfbef9-13b6-4a83-8758-aaf84e318210\",                        [{\"marker\":{\"color\":\"blue\"},\"name\":\"Test_\\uc2e4\\uc81c\\uac12\",\"type\":\"scatter\",\"x\":[\"2021-01-31T00:00:00\",\"2021-02-07T00:00:00\",\"2021-02-14T00:00:00\",\"2021-02-21T00:00:00\",\"2021-02-28T00:00:00\",\"2021-03-07T00:00:00\",\"2021-03-14T00:00:00\",\"2021-03-21T00:00:00\",\"2021-03-28T00:00:00\",\"2021-04-04T00:00:00\",\"2021-04-11T00:00:00\",\"2021-04-18T00:00:00\",\"2021-04-25T00:00:00\",\"2021-05-02T00:00:00\",\"2021-05-09T00:00:00\",\"2021-05-16T00:00:00\",\"2021-05-23T00:00:00\",\"2021-05-30T00:00:00\",\"2021-06-06T00:00:00\",\"2021-06-13T00:00:00\",\"2021-06-20T00:00:00\",\"2021-06-27T00:00:00\",\"2021-07-04T00:00:00\",\"2021-07-11T00:00:00\",\"2021-07-18T00:00:00\",\"2021-07-25T00:00:00\",\"2021-08-01T00:00:00\",\"2021-08-08T00:00:00\",\"2021-08-15T00:00:00\",\"2021-08-22T00:00:00\",\"2021-08-29T00:00:00\",\"2021-09-05T00:00:00\",\"2021-09-12T00:00:00\",\"2021-09-19T00:00:00\",\"2021-09-26T00:00:00\",\"2021-10-03T00:00:00\",\"2021-10-10T00:00:00\",\"2021-10-17T00:00:00\",\"2021-10-24T00:00:00\",\"2021-10-31T00:00:00\",\"2021-11-07T00:00:00\",\"2021-11-14T00:00:00\",\"2021-11-21T00:00:00\",\"2021-11-28T00:00:00\",\"2021-12-05T00:00:00\",\"2021-12-12T00:00:00\",\"2021-12-19T00:00:00\",\"2021-12-26T00:00:00\"],\"y\":[7337225706.0,27347055003.0,5074479868.0,39264604792.0,36203780157.0,51839331058.0,30669673771.54,45739009942.0,73582825611.17,56964762272.0,30855048197.0,26942350541.0,64653359404.08,49508927648.24,49714439146.0,53517135863.0,61460840150.0,42946292795.0,49412901085.4,31304979748.0,141471893764.0,252291423985.0,56772959542.16,22215277994.0,64462815909.619995,34703041214.0,19283769822.0,49031605859.0,48234089592.0,1028963866214.0,40249971411.0,92184749828.35,109165867539.0,60023557380.68,14382099050.0,28947858720.0,27828632079.0,29967753378.0,666433590977.0,18579529460.0,40249474993.0,25579625559.0,56024163420.0,177803738211.0,544827856344.0,123515762088.0,133644678872.0,75255235013.0]},{\"marker\":{\"color\":\"blue\"},\"name\":\"Train_\\uc2e4\\uc81c\\uac12\",\"type\":\"scatter\",\"x\":[\"2017-01-29T00:00:00\",\"2017-02-05T00:00:00\",\"2017-02-12T00:00:00\",\"2017-02-19T00:00:00\",\"2017-02-26T00:00:00\",\"2017-03-05T00:00:00\",\"2017-03-12T00:00:00\",\"2017-03-19T00:00:00\",\"2017-03-26T00:00:00\",\"2017-04-02T00:00:00\",\"2017-04-09T00:00:00\",\"2017-04-16T00:00:00\",\"2017-04-23T00:00:00\",\"2017-04-30T00:00:00\",\"2017-05-07T00:00:00\",\"2017-05-14T00:00:00\",\"2017-05-21T00:00:00\",\"2017-05-28T00:00:00\",\"2017-06-04T00:00:00\",\"2017-06-11T00:00:00\",\"2017-06-18T00:00:00\",\"2017-06-25T00:00:00\",\"2017-07-02T00:00:00\",\"2017-07-09T00:00:00\",\"2017-07-16T00:00:00\",\"2017-07-23T00:00:00\",\"2017-07-30T00:00:00\",\"2017-08-06T00:00:00\",\"2017-08-13T00:00:00\",\"2017-08-20T00:00:00\",\"2017-08-27T00:00:00\",\"2017-09-03T00:00:00\",\"2017-09-10T00:00:00\",\"2017-09-17T00:00:00\",\"2017-09-24T00:00:00\",\"2017-10-01T00:00:00\",\"2017-10-08T00:00:00\",\"2017-10-15T00:00:00\",\"2017-10-22T00:00:00\",\"2017-10-29T00:00:00\",\"2017-11-05T00:00:00\",\"2017-11-12T00:00:00\",\"2017-11-19T00:00:00\",\"2017-11-26T00:00:00\",\"2017-12-03T00:00:00\",\"2017-12-10T00:00:00\",\"2017-12-17T00:00:00\",\"2017-12-24T00:00:00\",\"2017-12-31T00:00:00\",\"2018-01-07T00:00:00\",\"2018-01-14T00:00:00\",\"2018-01-21T00:00:00\",\"2018-01-28T00:00:00\",\"2018-02-04T00:00:00\",\"2018-02-11T00:00:00\",\"2018-02-18T00:00:00\",\"2018-02-25T00:00:00\",\"2018-03-04T00:00:00\",\"2018-03-11T00:00:00\",\"2018-03-18T00:00:00\",\"2018-03-25T00:00:00\",\"2018-04-01T00:00:00\",\"2018-04-08T00:00:00\",\"2018-04-15T00:00:00\",\"2018-04-22T00:00:00\",\"2018-04-29T00:00:00\",\"2018-05-06T00:00:00\",\"2018-05-13T00:00:00\",\"2018-05-20T00:00:00\",\"2018-05-27T00:00:00\",\"2018-06-03T00:00:00\",\"2018-06-10T00:00:00\",\"2018-06-17T00:00:00\",\"2018-06-24T00:00:00\",\"2018-07-01T00:00:00\",\"2018-07-08T00:00:00\",\"2018-07-15T00:00:00\",\"2018-07-22T00:00:00\",\"2018-07-29T00:00:00\",\"2018-08-05T00:00:00\",\"2018-08-12T00:00:00\",\"2018-08-19T00:00:00\",\"2018-08-26T00:00:00\",\"2018-09-02T00:00:00\",\"2018-09-09T00:00:00\",\"2018-09-16T00:00:00\",\"2018-09-23T00:00:00\",\"2018-09-30T00:00:00\",\"2018-10-07T00:00:00\",\"2018-10-14T00:00:00\",\"2018-10-21T00:00:00\",\"2018-10-28T00:00:00\",\"2018-11-04T00:00:00\",\"2018-11-11T00:00:00\",\"2018-11-18T00:00:00\",\"2018-11-25T00:00:00\",\"2018-12-02T00:00:00\",\"2018-12-09T00:00:00\",\"2018-12-16T00:00:00\",\"2018-12-23T00:00:00\",\"2018-12-30T00:00:00\",\"2019-01-06T00:00:00\",\"2019-01-13T00:00:00\",\"2019-01-20T00:00:00\",\"2019-01-27T00:00:00\",\"2019-02-03T00:00:00\",\"2019-02-10T00:00:00\",\"2019-02-17T00:00:00\",\"2019-02-24T00:00:00\",\"2019-03-03T00:00:00\",\"2019-03-10T00:00:00\",\"2019-03-17T00:00:00\",\"2019-03-24T00:00:00\",\"2019-03-31T00:00:00\",\"2019-04-07T00:00:00\",\"2019-04-14T00:00:00\",\"2019-04-21T00:00:00\",\"2019-04-28T00:00:00\",\"2019-05-05T00:00:00\",\"2019-05-12T00:00:00\",\"2019-05-19T00:00:00\",\"2019-05-26T00:00:00\",\"2019-06-02T00:00:00\",\"2019-06-09T00:00:00\",\"2019-06-16T00:00:00\",\"2019-06-23T00:00:00\",\"2019-06-30T00:00:00\",\"2019-07-07T00:00:00\",\"2019-07-14T00:00:00\",\"2019-07-21T00:00:00\",\"2019-07-28T00:00:00\",\"2019-08-04T00:00:00\",\"2019-08-11T00:00:00\",\"2019-08-18T00:00:00\",\"2019-08-25T00:00:00\",\"2019-09-01T00:00:00\",\"2019-09-08T00:00:00\",\"2019-09-15T00:00:00\",\"2019-09-22T00:00:00\",\"2019-09-29T00:00:00\",\"2019-10-06T00:00:00\",\"2019-10-13T00:00:00\",\"2019-10-20T00:00:00\",\"2019-10-27T00:00:00\",\"2019-11-03T00:00:00\",\"2019-11-10T00:00:00\",\"2019-11-17T00:00:00\",\"2019-11-24T00:00:00\",\"2019-12-01T00:00:00\",\"2019-12-08T00:00:00\",\"2019-12-15T00:00:00\",\"2019-12-22T00:00:00\",\"2019-12-29T00:00:00\",\"2020-01-05T00:00:00\",\"2020-01-12T00:00:00\",\"2020-01-19T00:00:00\",\"2020-01-26T00:00:00\",\"2020-02-02T00:00:00\",\"2020-02-09T00:00:00\",\"2020-02-16T00:00:00\",\"2020-02-23T00:00:00\",\"2020-03-01T00:00:00\",\"2020-03-08T00:00:00\",\"2020-03-15T00:00:00\",\"2020-03-22T00:00:00\",\"2020-03-29T00:00:00\",\"2020-04-05T00:00:00\",\"2020-04-12T00:00:00\",\"2020-04-19T00:00:00\",\"2020-04-26T00:00:00\",\"2020-05-03T00:00:00\",\"2020-05-10T00:00:00\",\"2020-05-17T00:00:00\",\"2020-05-24T00:00:00\",\"2020-05-31T00:00:00\",\"2020-06-07T00:00:00\",\"2020-06-14T00:00:00\",\"2020-06-21T00:00:00\",\"2020-06-28T00:00:00\",\"2020-07-05T00:00:00\",\"2020-07-12T00:00:00\",\"2020-07-19T00:00:00\",\"2020-07-26T00:00:00\",\"2020-08-02T00:00:00\",\"2020-08-09T00:00:00\",\"2020-08-16T00:00:00\",\"2020-08-23T00:00:00\",\"2020-08-30T00:00:00\",\"2020-09-06T00:00:00\",\"2020-09-13T00:00:00\",\"2020-09-20T00:00:00\",\"2020-09-27T00:00:00\",\"2020-10-04T00:00:00\",\"2020-10-11T00:00:00\",\"2020-10-18T00:00:00\",\"2020-10-25T00:00:00\",\"2020-11-01T00:00:00\",\"2020-11-08T00:00:00\",\"2020-11-15T00:00:00\",\"2020-11-22T00:00:00\",\"2020-11-29T00:00:00\",\"2020-12-06T00:00:00\",\"2020-12-13T00:00:00\",\"2020-12-20T00:00:00\",\"2020-12-27T00:00:00\",\"2021-01-03T00:00:00\"],\"y\":[170826630.0,170826630.0,170826630.0,445431390.0,170826630.0,0.0,0.0,0.0,2387869360.0,0.0,727532840.0,727532840.0,0.0,727532840.0,0.0,727532840.0,98541070.0,0.0,211108940.0,0.0,0.0,0.0,0.0,590415660.0,1156470220.0,0.0,72156200.0,0.0,776162000.0,0.0,513707980.0,0.0,0.0,701817610.0,0.0,988659790.0,0.0,301709400.0,1444402100.0,1289108220.0,424064080.0,3031792560.0,1290369190.0,359571800.0,0.0,0.0,378152000.0,2396094000.0,802099990.0,688028200.0,3937926740.0,31268057506.0,41786664483.0,40488509132.4,51663041406.0,20921401313.0,36164116018.46,40321769095.73,36677548194.0,33937813240.04,41850717623.57,66779573268.15,50308832967.25,107947861705.81,90613602591.93,54651202251.87,70068589963.32,70286337456.03,65966784067.520004,52415031934.64,112671915781.45,50588734889.21,121819310360.08,122969728199.52,79117110498.64,38150719341.62,38825324697.78,72065051524.26,36087340169.41,24056261582.0,81106456800.38,44764421339.88,303683507494.34,25505752009.17,22369637240.37,252130636402.73,1004770618650.37,25343599052.0,72169912506.68,26580659096.0,991361555007.0,22390776568.0,103718661344.0,19539482233.01,749583264792.04,31848137085.6,46077592517.14,47332912387.0,22877271845.97,46033848280.0,10099363760.0,5667926781.0,8419101082.0,9813282217.0,9666224896.0,21390022641.0,8343103281.0,21221320502.0,35285782106.76,27782165259.0,27634818441.760002,22075695936.2,45140575284.25,32487925989.22,60358404319.24,107883422374.28,130777607980.47,128001318595.33,69797151830.66,94070151170.06,128735815671.95999,67379761323.34,104043005480.4,74532308254.56,88499660402.66,82529817270.92,45104254445.0,115538187832.20999,87993131695.86,99115537718.2,39950036971.0,104592870380.0,39121988306.18,360157437512.95996,32737171903.0,28607504589.0,335748561823.66003,6031000040.0,27102877969.0,322325444445.0,26707134393.0,26789998342.0,18499280240.0,51949279066.0,122149995517.38,48613426622.0,69448517104.0,60665582010.0,55734348470.0,84721566416.0,160418672150.0,27320793810.0,21302898348.0,5172795449.0,7702885197.0,25274736216.0,6724843232.0,6213574335.0,8474800384.0,42953151063.0,35209828528.0,39665941936.0,28167953744.0,195591495427.0,78170028033.0,84161759174.16,86538352666.13,114455285511.09,66731725414.24,87729777418.38,90046011568.63,121205998837.95,79052329091.29,114871442465.8,94826886143.34999,136582183668.77,89741411147.57,51842798798.94,40768554477.0,41880798080.0,31061333019.83,81117126095.0,38467722725.0,33603239350.010002,17365775983.95,25549276122.01,24901629452.46,57604651968.479996,241421447260.0,63402178320.76,193191383849.75,66326393371.0,14483652218.0,26751270276.0,30051514070.0,46513057885.0,118222432353.0,32829985696.0,65318671749.0,257215390385.0,144670220914.16998,115811718537.0,75131717958.0,13944171022.0,3735845397.0,7351718010.0]},{\"marker\":{\"color\":\"red\"},\"name\":\"Test_\\uc608\\uce21\\uac12_XGBOOST\",\"type\":\"scatter\",\"x\":[\"2021-01-31T00:00:00\",\"2021-02-07T00:00:00\",\"2021-02-14T00:00:00\",\"2021-02-21T00:00:00\",\"2021-02-28T00:00:00\",\"2021-03-07T00:00:00\",\"2021-03-14T00:00:00\",\"2021-03-21T00:00:00\",\"2021-03-28T00:00:00\",\"2021-04-04T00:00:00\",\"2021-04-11T00:00:00\",\"2021-04-18T00:00:00\",\"2021-04-25T00:00:00\",\"2021-05-02T00:00:00\",\"2021-05-09T00:00:00\",\"2021-05-16T00:00:00\",\"2021-05-23T00:00:00\",\"2021-05-30T00:00:00\",\"2021-06-06T00:00:00\",\"2021-06-13T00:00:00\",\"2021-06-20T00:00:00\",\"2021-06-27T00:00:00\",\"2021-07-04T00:00:00\",\"2021-07-11T00:00:00\",\"2021-07-18T00:00:00\",\"2021-07-25T00:00:00\",\"2021-08-01T00:00:00\",\"2021-08-08T00:00:00\",\"2021-08-15T00:00:00\",\"2021-08-22T00:00:00\",\"2021-08-29T00:00:00\",\"2021-09-05T00:00:00\",\"2021-09-12T00:00:00\",\"2021-09-19T00:00:00\",\"2021-09-26T00:00:00\",\"2021-10-03T00:00:00\",\"2021-10-10T00:00:00\",\"2021-10-17T00:00:00\",\"2021-10-24T00:00:00\",\"2021-10-31T00:00:00\",\"2021-11-07T00:00:00\",\"2021-11-14T00:00:00\",\"2021-11-21T00:00:00\",\"2021-11-28T00:00:00\",\"2021-12-05T00:00:00\",\"2021-12-12T00:00:00\",\"2021-12-19T00:00:00\",\"2021-12-26T00:00:00\"],\"y\":[43430019072.0,40483774464.0,8559711232.0,43351470080.0,41589661696.0,40286646272.0,39035293696.0,60081995776.0,66174234624.0,61914787840.0,52625862656.0,65481809920.0,63255216128.0,60530860032.0,48689242112.0,86469050368.0,99468689408.0,96808951808.0,46498217984.0,96812507136.0,84676059136.0,152111759360.0,44039860224.0,28180555776.0,193951744000.0,51231797248.0,53859287040.0,61056868352.0,93563994112.0,83086835712.0,97579606016.0,80136962048.0,86712418304.0,44449673216.0,16954434560.0,61906763776.0,86733873152.0,119023886336.0,208497000448.0,80883318784.0,111210020864.0,121782263808.0,105126051840.0,87437918208.0,127862939648.0,62432686080.0,110636392448.0,13541732352.0]},{\"marker\":{\"color\":\"red\"},\"name\":\"Train_\\uc608\\uce21\\uac12_XGBOOST\",\"type\":\"scatter\",\"x\":[\"2017-01-29T00:00:00\",\"2017-02-05T00:00:00\",\"2017-02-12T00:00:00\",\"2017-02-19T00:00:00\",\"2017-02-26T00:00:00\",\"2017-03-05T00:00:00\",\"2017-03-12T00:00:00\",\"2017-03-19T00:00:00\",\"2017-03-26T00:00:00\",\"2017-04-02T00:00:00\",\"2017-04-09T00:00:00\",\"2017-04-16T00:00:00\",\"2017-04-23T00:00:00\",\"2017-04-30T00:00:00\",\"2017-05-07T00:00:00\",\"2017-05-14T00:00:00\",\"2017-05-21T00:00:00\",\"2017-05-28T00:00:00\",\"2017-06-04T00:00:00\",\"2017-06-11T00:00:00\",\"2017-06-18T00:00:00\",\"2017-06-25T00:00:00\",\"2017-07-02T00:00:00\",\"2017-07-09T00:00:00\",\"2017-07-16T00:00:00\",\"2017-07-23T00:00:00\",\"2017-07-30T00:00:00\",\"2017-08-06T00:00:00\",\"2017-08-13T00:00:00\",\"2017-08-20T00:00:00\",\"2017-08-27T00:00:00\",\"2017-09-03T00:00:00\",\"2017-09-10T00:00:00\",\"2017-09-17T00:00:00\",\"2017-09-24T00:00:00\",\"2017-10-01T00:00:00\",\"2017-10-08T00:00:00\",\"2017-10-15T00:00:00\",\"2017-10-22T00:00:00\",\"2017-10-29T00:00:00\",\"2017-11-05T00:00:00\",\"2017-11-12T00:00:00\",\"2017-11-19T00:00:00\",\"2017-11-26T00:00:00\",\"2017-12-03T00:00:00\",\"2017-12-10T00:00:00\",\"2017-12-17T00:00:00\",\"2017-12-24T00:00:00\",\"2017-12-31T00:00:00\",\"2018-01-07T00:00:00\",\"2018-01-14T00:00:00\",\"2018-01-21T00:00:00\",\"2018-01-28T00:00:00\",\"2018-02-04T00:00:00\",\"2018-02-11T00:00:00\",\"2018-02-18T00:00:00\",\"2018-02-25T00:00:00\",\"2018-03-04T00:00:00\",\"2018-03-11T00:00:00\",\"2018-03-18T00:00:00\",\"2018-03-25T00:00:00\",\"2018-04-01T00:00:00\",\"2018-04-08T00:00:00\",\"2018-04-15T00:00:00\",\"2018-04-22T00:00:00\",\"2018-04-29T00:00:00\",\"2018-05-06T00:00:00\",\"2018-05-13T00:00:00\",\"2018-05-20T00:00:00\",\"2018-05-27T00:00:00\",\"2018-06-03T00:00:00\",\"2018-06-10T00:00:00\",\"2018-06-17T00:00:00\",\"2018-06-24T00:00:00\",\"2018-07-01T00:00:00\",\"2018-07-08T00:00:00\",\"2018-07-15T00:00:00\",\"2018-07-22T00:00:00\",\"2018-07-29T00:00:00\",\"2018-08-05T00:00:00\",\"2018-08-12T00:00:00\",\"2018-08-19T00:00:00\",\"2018-08-26T00:00:00\",\"2018-09-02T00:00:00\",\"2018-09-09T00:00:00\",\"2018-09-16T00:00:00\",\"2018-09-23T00:00:00\",\"2018-09-30T00:00:00\",\"2018-10-07T00:00:00\",\"2018-10-14T00:00:00\",\"2018-10-21T00:00:00\",\"2018-10-28T00:00:00\",\"2018-11-04T00:00:00\",\"2018-11-11T00:00:00\",\"2018-11-18T00:00:00\",\"2018-11-25T00:00:00\",\"2018-12-02T00:00:00\",\"2018-12-09T00:00:00\",\"2018-12-16T00:00:00\",\"2018-12-23T00:00:00\",\"2018-12-30T00:00:00\",\"2019-01-06T00:00:00\",\"2019-01-13T00:00:00\",\"2019-01-20T00:00:00\",\"2019-01-27T00:00:00\",\"2019-02-03T00:00:00\",\"2019-02-10T00:00:00\",\"2019-02-17T00:00:00\",\"2019-02-24T00:00:00\",\"2019-03-03T00:00:00\",\"2019-03-10T00:00:00\",\"2019-03-17T00:00:00\",\"2019-03-24T00:00:00\",\"2019-03-31T00:00:00\",\"2019-04-07T00:00:00\",\"2019-04-14T00:00:00\",\"2019-04-21T00:00:00\",\"2019-04-28T00:00:00\",\"2019-05-05T00:00:00\",\"2019-05-12T00:00:00\",\"2019-05-19T00:00:00\",\"2019-05-26T00:00:00\",\"2019-06-02T00:00:00\",\"2019-06-09T00:00:00\",\"2019-06-16T00:00:00\",\"2019-06-23T00:00:00\",\"2019-06-30T00:00:00\",\"2019-07-07T00:00:00\",\"2019-07-14T00:00:00\",\"2019-07-21T00:00:00\",\"2019-07-28T00:00:00\",\"2019-08-04T00:00:00\",\"2019-08-11T00:00:00\",\"2019-08-18T00:00:00\",\"2019-08-25T00:00:00\",\"2019-09-01T00:00:00\",\"2019-09-08T00:00:00\",\"2019-09-15T00:00:00\",\"2019-09-22T00:00:00\",\"2019-09-29T00:00:00\",\"2019-10-06T00:00:00\",\"2019-10-13T00:00:00\",\"2019-10-20T00:00:00\",\"2019-10-27T00:00:00\",\"2019-11-03T00:00:00\",\"2019-11-10T00:00:00\",\"2019-11-17T00:00:00\",\"2019-11-24T00:00:00\",\"2019-12-01T00:00:00\",\"2019-12-08T00:00:00\",\"2019-12-15T00:00:00\",\"2019-12-22T00:00:00\",\"2019-12-29T00:00:00\",\"2020-01-05T00:00:00\",\"2020-01-12T00:00:00\",\"2020-01-19T00:00:00\",\"2020-01-26T00:00:00\",\"2020-02-02T00:00:00\",\"2020-02-09T00:00:00\",\"2020-02-16T00:00:00\",\"2020-02-23T00:00:00\",\"2020-03-01T00:00:00\",\"2020-03-08T00:00:00\",\"2020-03-15T00:00:00\",\"2020-03-22T00:00:00\",\"2020-03-29T00:00:00\",\"2020-04-05T00:00:00\",\"2020-04-12T00:00:00\",\"2020-04-19T00:00:00\",\"2020-04-26T00:00:00\",\"2020-05-03T00:00:00\",\"2020-05-10T00:00:00\",\"2020-05-17T00:00:00\",\"2020-05-24T00:00:00\",\"2020-05-31T00:00:00\",\"2020-06-07T00:00:00\",\"2020-06-14T00:00:00\",\"2020-06-21T00:00:00\",\"2020-06-28T00:00:00\",\"2020-07-05T00:00:00\",\"2020-07-12T00:00:00\",\"2020-07-19T00:00:00\",\"2020-07-26T00:00:00\",\"2020-08-02T00:00:00\",\"2020-08-09T00:00:00\",\"2020-08-16T00:00:00\",\"2020-08-23T00:00:00\",\"2020-08-30T00:00:00\",\"2020-09-06T00:00:00\",\"2020-09-13T00:00:00\",\"2020-09-20T00:00:00\",\"2020-09-27T00:00:00\",\"2020-10-04T00:00:00\",\"2020-10-11T00:00:00\",\"2020-10-18T00:00:00\",\"2020-10-25T00:00:00\",\"2020-11-01T00:00:00\",\"2020-11-08T00:00:00\",\"2020-11-15T00:00:00\",\"2020-11-22T00:00:00\",\"2020-11-29T00:00:00\",\"2020-12-06T00:00:00\",\"2020-12-13T00:00:00\",\"2020-12-20T00:00:00\",\"2020-12-27T00:00:00\",\"2021-01-03T00:00:00\"],\"y\":[1271560064.0,1271560064.0,1271560064.0,1271560064.0,1271560064.0,1271560064.0,1271560064.0,1271560064.0,1738522240.0,1271560064.0,1301170560.0,1301170560.0,1271560064.0,1301170560.0,1271560064.0,1301170560.0,1301170560.0,1271560064.0,1301170560.0,1271560064.0,1271560064.0,1271560064.0,1271560064.0,1301170560.0,1301170560.0,1271560064.0,1301170560.0,1271560064.0,1343985536.0,1271560064.0,1368776064.0,1271560064.0,1271560064.0,1368776064.0,1271560064.0,1368776064.0,1271560064.0,1368776064.0,1368776064.0,1817183360.0,1520702848.0,1368776064.0,1368776064.0,1368776064.0,1271560064.0,1271560064.0,1368776064.0,2137839744.0,1368776064.0,1465030016.0,3557864192.0,30268186624.0,33580800000.0,38851039232.0,42566217728.0,48472965120.0,43344175104.0,47456047104.0,57674010624.0,45406875648.0,49746313216.0,47794122752.0,58048389120.0,74699350016.0,90850549760.0,59205038080.0,71040950272.0,81736081408.0,81004699648.0,123250999296.0,88213020672.0,52111945728.0,89059147776.0,102559793152.0,88226537472.0,88981340160.0,55825973248.0,63362138112.0,59270107136.0,61213847552.0,54534766592.0,53068578816.0,194405646336.0,79096840192.0,40059715584.0,231484391424.0,688052109312.0,41693229056.0,88724209664.0,60135792640.0,751128805376.0,72439537664.0,139808768000.0,11991096320.0,564981399552.0,97488052224.0,87480107008.0,102087663616.0,37176324096.0,38114877440.0,9383350272.0,4946990080.0,10016825344.0,21757880320.0,17763901440.0,15404107776.0,14331990016.0,35899981824.0,38627553280.0,36162605056.0,38037446656.0,35544780800.0,46508843008.0,42451972096.0,54236880896.0,103447494656.0,99178971136.0,100347297792.0,80136249344.0,91595079680.0,94845591552.0,80651116544.0,111003648000.0,67312336896.0,75938406400.0,88559665152.0,64660799488.0,91940052992.0,72321245184.0,114614870016.0,75089723392.0,109701079040.0,52336525312.0,197221662720.0,64235270144.0,35567095808.0,269849198592.0,11232768000.0,40773328896.0,226826502144.0,31423946752.0,78942011392.0,44943106048.0,55703752704.0,70424698880.0,47514124288.0,74875682816.0,77726253056.0,104191803392.0,67652513792.0,194730131456.0,67453194240.0,10899064832.0,3744880896.0,3962577408.0,31376881664.0,13885051904.0,24691900416.0,2411513088.0,46787473408.0,36002508800.0,43173400576.0,51261554688.0,96778665984.0,67574624256.0,66263273472.0,60552794112.0,90005037056.0,60459126784.0,102079594496.0,80976601088.0,95243698176.0,86997671936.0,101100060672.0,92455174144.0,109865132032.0,119496294400.0,56648843264.0,36843745280.0,46785171456.0,72043241472.0,60487757824.0,57019097088.0,43277832192.0,34620846080.0,38692229120.0,41940664320.0,53403947008.0,172499255296.0,45321150464.0,166972588032.0,58508963840.0,21877305344.0,59491434496.0,67977482240.0,70370762752.0,115196608512.0,63959392256.0,66907738112.0,156916613120.0,94902493184.0,101861408768.0,77106864128.0,19498692608.0,3646608128.0,4484490752.0]},{\"marker\":{\"color\":\"green\"},\"name\":\"Test_\\uc608\\uce21\\uac12_RandomForest\",\"type\":\"scatter\",\"x\":[\"2021-01-31T00:00:00\",\"2021-02-07T00:00:00\",\"2021-02-14T00:00:00\",\"2021-02-21T00:00:00\",\"2021-02-28T00:00:00\",\"2021-03-07T00:00:00\",\"2021-03-14T00:00:00\",\"2021-03-21T00:00:00\",\"2021-03-28T00:00:00\",\"2021-04-04T00:00:00\",\"2021-04-11T00:00:00\",\"2021-04-18T00:00:00\",\"2021-04-25T00:00:00\",\"2021-05-02T00:00:00\",\"2021-05-09T00:00:00\",\"2021-05-16T00:00:00\",\"2021-05-23T00:00:00\",\"2021-05-30T00:00:00\",\"2021-06-06T00:00:00\",\"2021-06-13T00:00:00\",\"2021-06-20T00:00:00\",\"2021-06-27T00:00:00\",\"2021-07-04T00:00:00\",\"2021-07-11T00:00:00\",\"2021-07-18T00:00:00\",\"2021-07-25T00:00:00\",\"2021-08-01T00:00:00\",\"2021-08-08T00:00:00\",\"2021-08-15T00:00:00\",\"2021-08-22T00:00:00\",\"2021-08-29T00:00:00\",\"2021-09-05T00:00:00\",\"2021-09-12T00:00:00\",\"2021-09-19T00:00:00\",\"2021-09-26T00:00:00\",\"2021-10-03T00:00:00\",\"2021-10-10T00:00:00\",\"2021-10-17T00:00:00\",\"2021-10-24T00:00:00\",\"2021-10-31T00:00:00\",\"2021-11-07T00:00:00\",\"2021-11-14T00:00:00\",\"2021-11-21T00:00:00\",\"2021-11-28T00:00:00\",\"2021-12-05T00:00:00\",\"2021-12-12T00:00:00\",\"2021-12-19T00:00:00\",\"2021-12-26T00:00:00\"],\"y\":[30842185663.872074,28623023561.94829,11419040550.258667,32912892332.740326,44242433914.23182,63090563151.63692,49436635702.66191,55558270626.158356,68653417588.39316,39783358239.904755,38927559460.9291,42806464732.83328,64968804177.61318,65591307727.43991,56729275770.73832,100401126166.0056,98972603041.62927,95384187388.77422,54078225874.096565,97580566933.15121,94723205399.91869,142465650672.53262,56543975139.72266,48769000252.060524,142550126276.48288,103695699803.46245,59974051037.09373,87855401721.17497,96268359864.35849,73568565758.58871,84272951785.90361,115101520466.8863,99359020560.7348,117018371791.60193,24343383008.072445,76664373052.86177,95943707481.89635,111579318436.99757,168888431582.508,105241288970.30615,123495146845.85541,141909666457.87204,106900987877.0313,102391455675.14919,132214410729.7208,132150817304.9301,130808502813.64049,19746040737.15438]},{\"marker\":{\"color\":\"green\"},\"name\":\"Train_\\uc608\\uce21\\uac12_RandomForest\",\"type\":\"scatter\",\"x\":[\"2017-01-29T00:00:00\",\"2017-02-05T00:00:00\",\"2017-02-12T00:00:00\",\"2017-02-19T00:00:00\",\"2017-02-26T00:00:00\",\"2017-03-05T00:00:00\",\"2017-03-12T00:00:00\",\"2017-03-19T00:00:00\",\"2017-03-26T00:00:00\",\"2017-04-02T00:00:00\",\"2017-04-09T00:00:00\",\"2017-04-16T00:00:00\",\"2017-04-23T00:00:00\",\"2017-04-30T00:00:00\",\"2017-05-07T00:00:00\",\"2017-05-14T00:00:00\",\"2017-05-21T00:00:00\",\"2017-05-28T00:00:00\",\"2017-06-04T00:00:00\",\"2017-06-11T00:00:00\",\"2017-06-18T00:00:00\",\"2017-06-25T00:00:00\",\"2017-07-02T00:00:00\",\"2017-07-09T00:00:00\",\"2017-07-16T00:00:00\",\"2017-07-23T00:00:00\",\"2017-07-30T00:00:00\",\"2017-08-06T00:00:00\",\"2017-08-13T00:00:00\",\"2017-08-20T00:00:00\",\"2017-08-27T00:00:00\",\"2017-09-03T00:00:00\",\"2017-09-10T00:00:00\",\"2017-09-17T00:00:00\",\"2017-09-24T00:00:00\",\"2017-10-01T00:00:00\",\"2017-10-08T00:00:00\",\"2017-10-15T00:00:00\",\"2017-10-22T00:00:00\",\"2017-10-29T00:00:00\",\"2017-11-05T00:00:00\",\"2017-11-12T00:00:00\",\"2017-11-19T00:00:00\",\"2017-11-26T00:00:00\",\"2017-12-03T00:00:00\",\"2017-12-10T00:00:00\",\"2017-12-17T00:00:00\",\"2017-12-24T00:00:00\",\"2017-12-31T00:00:00\",\"2018-01-07T00:00:00\",\"2018-01-14T00:00:00\",\"2018-01-21T00:00:00\",\"2018-01-28T00:00:00\",\"2018-02-04T00:00:00\",\"2018-02-11T00:00:00\",\"2018-02-18T00:00:00\",\"2018-02-25T00:00:00\",\"2018-03-04T00:00:00\",\"2018-03-11T00:00:00\",\"2018-03-18T00:00:00\",\"2018-03-25T00:00:00\",\"2018-04-01T00:00:00\",\"2018-04-08T00:00:00\",\"2018-04-15T00:00:00\",\"2018-04-22T00:00:00\",\"2018-04-29T00:00:00\",\"2018-05-06T00:00:00\",\"2018-05-13T00:00:00\",\"2018-05-20T00:00:00\",\"2018-05-27T00:00:00\",\"2018-06-03T00:00:00\",\"2018-06-10T00:00:00\",\"2018-06-17T00:00:00\",\"2018-06-24T00:00:00\",\"2018-07-01T00:00:00\",\"2018-07-08T00:00:00\",\"2018-07-15T00:00:00\",\"2018-07-22T00:00:00\",\"2018-07-29T00:00:00\",\"2018-08-05T00:00:00\",\"2018-08-12T00:00:00\",\"2018-08-19T00:00:00\",\"2018-08-26T00:00:00\",\"2018-09-02T00:00:00\",\"2018-09-09T00:00:00\",\"2018-09-16T00:00:00\",\"2018-09-23T00:00:00\",\"2018-09-30T00:00:00\",\"2018-10-07T00:00:00\",\"2018-10-14T00:00:00\",\"2018-10-21T00:00:00\",\"2018-10-28T00:00:00\",\"2018-11-04T00:00:00\",\"2018-11-11T00:00:00\",\"2018-11-18T00:00:00\",\"2018-11-25T00:00:00\",\"2018-12-02T00:00:00\",\"2018-12-09T00:00:00\",\"2018-12-16T00:00:00\",\"2018-12-23T00:00:00\",\"2018-12-30T00:00:00\",\"2019-01-06T00:00:00\",\"2019-01-13T00:00:00\",\"2019-01-20T00:00:00\",\"2019-01-27T00:00:00\",\"2019-02-03T00:00:00\",\"2019-02-10T00:00:00\",\"2019-02-17T00:00:00\",\"2019-02-24T00:00:00\",\"2019-03-03T00:00:00\",\"2019-03-10T00:00:00\",\"2019-03-17T00:00:00\",\"2019-03-24T00:00:00\",\"2019-03-31T00:00:00\",\"2019-04-07T00:00:00\",\"2019-04-14T00:00:00\",\"2019-04-21T00:00:00\",\"2019-04-28T00:00:00\",\"2019-05-05T00:00:00\",\"2019-05-12T00:00:00\",\"2019-05-19T00:00:00\",\"2019-05-26T00:00:00\",\"2019-06-02T00:00:00\",\"2019-06-09T00:00:00\",\"2019-06-16T00:00:00\",\"2019-06-23T00:00:00\",\"2019-06-30T00:00:00\",\"2019-07-07T00:00:00\",\"2019-07-14T00:00:00\",\"2019-07-21T00:00:00\",\"2019-07-28T00:00:00\",\"2019-08-04T00:00:00\",\"2019-08-11T00:00:00\",\"2019-08-18T00:00:00\",\"2019-08-25T00:00:00\",\"2019-09-01T00:00:00\",\"2019-09-08T00:00:00\",\"2019-09-15T00:00:00\",\"2019-09-22T00:00:00\",\"2019-09-29T00:00:00\",\"2019-10-06T00:00:00\",\"2019-10-13T00:00:00\",\"2019-10-20T00:00:00\",\"2019-10-27T00:00:00\",\"2019-11-03T00:00:00\",\"2019-11-10T00:00:00\",\"2019-11-17T00:00:00\",\"2019-11-24T00:00:00\",\"2019-12-01T00:00:00\",\"2019-12-08T00:00:00\",\"2019-12-15T00:00:00\",\"2019-12-22T00:00:00\",\"2019-12-29T00:00:00\",\"2020-01-05T00:00:00\",\"2020-01-12T00:00:00\",\"2020-01-19T00:00:00\",\"2020-01-26T00:00:00\",\"2020-02-02T00:00:00\",\"2020-02-09T00:00:00\",\"2020-02-16T00:00:00\",\"2020-02-23T00:00:00\",\"2020-03-01T00:00:00\",\"2020-03-08T00:00:00\",\"2020-03-15T00:00:00\",\"2020-03-22T00:00:00\",\"2020-03-29T00:00:00\",\"2020-04-05T00:00:00\",\"2020-04-12T00:00:00\",\"2020-04-19T00:00:00\",\"2020-04-26T00:00:00\",\"2020-05-03T00:00:00\",\"2020-05-10T00:00:00\",\"2020-05-17T00:00:00\",\"2020-05-24T00:00:00\",\"2020-05-31T00:00:00\",\"2020-06-07T00:00:00\",\"2020-06-14T00:00:00\",\"2020-06-21T00:00:00\",\"2020-06-28T00:00:00\",\"2020-07-05T00:00:00\",\"2020-07-12T00:00:00\",\"2020-07-19T00:00:00\",\"2020-07-26T00:00:00\",\"2020-08-02T00:00:00\",\"2020-08-09T00:00:00\",\"2020-08-16T00:00:00\",\"2020-08-23T00:00:00\",\"2020-08-30T00:00:00\",\"2020-09-06T00:00:00\",\"2020-09-13T00:00:00\",\"2020-09-20T00:00:00\",\"2020-09-27T00:00:00\",\"2020-10-04T00:00:00\",\"2020-10-11T00:00:00\",\"2020-10-18T00:00:00\",\"2020-10-25T00:00:00\",\"2020-11-01T00:00:00\",\"2020-11-08T00:00:00\",\"2020-11-15T00:00:00\",\"2020-11-22T00:00:00\",\"2020-11-29T00:00:00\",\"2020-12-06T00:00:00\",\"2020-12-13T00:00:00\",\"2020-12-20T00:00:00\",\"2020-12-27T00:00:00\",\"2021-01-03T00:00:00\"],\"y\":[151002213.02852163,132160431.1588779,268642092.62654585,271732857.16762483,273988252.1626241,18996277.16880758,18996277.16880758,18996277.16880758,1654730239.9294958,18996277.16880758,657955991.2419206,562779764.7487805,18996277.16880758,513718075.695637,18996277.16880758,601732893.324968,492912929.3924948,18996277.16880758,523782804.9502053,18996277.16880758,18996277.16880758,18996277.16880758,18996277.16880758,676881426.6891938,750715807.9899684,18996277.16880758,619881021.5467991,18996277.16880758,814827714.6329451,18996277.16880758,1026692551.9848738,18996277.16880758,18996277.16880758,1033532069.1511346,18996277.16880758,966307385.9719812,18996277.16880758,990598582.6332431,1118195324.0885124,1844284470.874778,1291883629.6952012,1181528368.024624,998891375.8405936,1010536912.8496945,18996277.16880758,18996277.16880758,1001662320.5473002,2273860598.328606,1198230489.5952652,1105687661.4984882,5706457811.006203,26915663894.39746,29646946218.111996,34330110555.74025,41246042706.372116,28393265290.607567,38593299104.55076,44032379214.56183,64366414331.5525,44284072734.965935,48169838087.71533,49890965910.30758,72117956679.46442,88607406749.59108,103422421757.48055,60201220328.610596,76692968922.06097,86997752338.08018,88607477771.23883,102497737242.13115,97197638914.24774,64257279974.11883,99209216407.77803,116770148224.49742,94727633022.9824,89780676129.97203,68748128709.12978,103590351748.43756,78128619113.40947,97514022744.04541,86895641040.58229,82630891923.8766,156759895022.5007,97560760307.31029,76805988684.84184,242744189597.8464,316699652201.0437,74408760018.61588,99963563452.86635,127858681123.22937,355197202535.85345,127932916257.0959,153337116456.35358,69810067069.65016,308686304481.3611,196991757703.0419,160705940513.32538,193767654965.9134,64191348797.96848,45416545123.11557,16515738582.672619,6602578938.413092,11148398479.999912,12468540996.71712,15209775274.441093,22093731349.323166,14414154332.99073,30868858849.91212,36298687343.60282,33062207298.381283,43967186236.40462,50347866535.85565,46170104820.52427,36844840970.269806,55252665237.39261,117377038902.1995,115021314007.64418,105656701490.31161,87442187453.4699,95242322572.4094,110826041557.1999,107216211814.78172,117121506143.73984,89409428554.98724,83532263884.27277,97622090162.85646,63113255536.2946,115906502421.8893,84854392831.13306,138774601097.1669,105870042629.93701,127429718459.28612,71801957392.59457,149514690525.91827,85043104532.65466,37102415429.153465,225623119586.98196,17531899846.477047,71534421758.95898,238942450082.61365,67507072045.55273,124392204362.19432,103058932309.67004,104629943324.79507,110462597473.91699,102613946317.2507,136292637956.38426,114993883026.99072,110992244426.63329,117985141720.70941,247102309844.3447,79315375909.57565,14146209262.565481,5542385502.499081,6625465133.45542,14255596142.867083,12347004985.904028,16507568728.09679,12115681298.666399,40426336598.15079,42085691858.096565,46143407785.30991,71656065695.73982,104613185279.7043,69831295580.29689,65898292481.63013,59593515488.158226,99053686561.36661,64123483137.42996,102956345142.29727,79699311869.78653,98008528033.98868,90674779736.13203,100971767750.86533,94532082694.53067,119570661422.92703,131696702074.10109,63083239950.33464,41936897427.32084,53830087709.981415,92620386625.34813,61876013669.11104,78242473628.91562,66879250750.33919,68226063789.09759,61209705898.36208,66595090499.23876,59930491514.786064,135098557033.88988,55450406753.336136,140037337878.08054,85239277604.17548,28188587485.93772,107329297613.7449,132752389345.82399,114906151880.32625,113107013145.99591,92785741203.83244,99324452208.16525,142142862382.92554,139756644878.92133,112002143171.73737,88082037943.84285,27601041101.552505,6099374447.169838,7481291272.245118]},{\"marker\":{\"color\":\"orange\"},\"name\":\"Test_\\uc608\\uce21\\uac12_LightGB\",\"type\":\"scatter\",\"x\":[\"2021-01-31T00:00:00\",\"2021-02-07T00:00:00\",\"2021-02-14T00:00:00\",\"2021-02-21T00:00:00\",\"2021-02-28T00:00:00\",\"2021-03-07T00:00:00\",\"2021-03-14T00:00:00\",\"2021-03-21T00:00:00\",\"2021-03-28T00:00:00\",\"2021-04-04T00:00:00\",\"2021-04-11T00:00:00\",\"2021-04-18T00:00:00\",\"2021-04-25T00:00:00\",\"2021-05-02T00:00:00\",\"2021-05-09T00:00:00\",\"2021-05-16T00:00:00\",\"2021-05-23T00:00:00\",\"2021-05-30T00:00:00\",\"2021-06-06T00:00:00\",\"2021-06-13T00:00:00\",\"2021-06-20T00:00:00\",\"2021-06-27T00:00:00\",\"2021-07-04T00:00:00\",\"2021-07-11T00:00:00\",\"2021-07-18T00:00:00\",\"2021-07-25T00:00:00\",\"2021-08-01T00:00:00\",\"2021-08-08T00:00:00\",\"2021-08-15T00:00:00\",\"2021-08-22T00:00:00\",\"2021-08-29T00:00:00\",\"2021-09-05T00:00:00\",\"2021-09-12T00:00:00\",\"2021-09-19T00:00:00\",\"2021-09-26T00:00:00\",\"2021-10-03T00:00:00\",\"2021-10-10T00:00:00\",\"2021-10-17T00:00:00\",\"2021-10-24T00:00:00\",\"2021-10-31T00:00:00\",\"2021-11-07T00:00:00\",\"2021-11-14T00:00:00\",\"2021-11-21T00:00:00\",\"2021-11-28T00:00:00\",\"2021-12-05T00:00:00\",\"2021-12-12T00:00:00\",\"2021-12-19T00:00:00\",\"2021-12-26T00:00:00\"],\"y\":[43430019072.0,40483774464.0,8559711232.0,43351470080.0,41589661696.0,40286646272.0,39035293696.0,60081995776.0,66174234624.0,61914787840.0,52625862656.0,65481809920.0,63255216128.0,60530860032.0,48689242112.0,86469050368.0,99468689408.0,96808951808.0,46498217984.0,96812507136.0,84676059136.0,152111759360.0,44039860224.0,28180555776.0,193951744000.0,51231797248.0,53859287040.0,61056868352.0,93563994112.0,83086835712.0,97579606016.0,80136962048.0,86712418304.0,44449673216.0,16954434560.0,61906763776.0,86733873152.0,119023886336.0,208497000448.0,80883318784.0,111210020864.0,121782263808.0,105126051840.0,87437918208.0,127862939648.0,62432686080.0,110636392448.0,13541732352.0]},{\"marker\":{\"color\":\"orange\"},\"name\":\"Train_\\uc608\\uce21\\uac12_LightGB\",\"type\":\"scatter\",\"x\":[\"2017-01-29T00:00:00\",\"2017-02-05T00:00:00\",\"2017-02-12T00:00:00\",\"2017-02-19T00:00:00\",\"2017-02-26T00:00:00\",\"2017-03-05T00:00:00\",\"2017-03-12T00:00:00\",\"2017-03-19T00:00:00\",\"2017-03-26T00:00:00\",\"2017-04-02T00:00:00\",\"2017-04-09T00:00:00\",\"2017-04-16T00:00:00\",\"2017-04-23T00:00:00\",\"2017-04-30T00:00:00\",\"2017-05-07T00:00:00\",\"2017-05-14T00:00:00\",\"2017-05-21T00:00:00\",\"2017-05-28T00:00:00\",\"2017-06-04T00:00:00\",\"2017-06-11T00:00:00\",\"2017-06-18T00:00:00\",\"2017-06-25T00:00:00\",\"2017-07-02T00:00:00\",\"2017-07-09T00:00:00\",\"2017-07-16T00:00:00\",\"2017-07-23T00:00:00\",\"2017-07-30T00:00:00\",\"2017-08-06T00:00:00\",\"2017-08-13T00:00:00\",\"2017-08-20T00:00:00\",\"2017-08-27T00:00:00\",\"2017-09-03T00:00:00\",\"2017-09-10T00:00:00\",\"2017-09-17T00:00:00\",\"2017-09-24T00:00:00\",\"2017-10-01T00:00:00\",\"2017-10-08T00:00:00\",\"2017-10-15T00:00:00\",\"2017-10-22T00:00:00\",\"2017-10-29T00:00:00\",\"2017-11-05T00:00:00\",\"2017-11-12T00:00:00\",\"2017-11-19T00:00:00\",\"2017-11-26T00:00:00\",\"2017-12-03T00:00:00\",\"2017-12-10T00:00:00\",\"2017-12-17T00:00:00\",\"2017-12-24T00:00:00\",\"2017-12-31T00:00:00\",\"2018-01-07T00:00:00\",\"2018-01-14T00:00:00\",\"2018-01-21T00:00:00\",\"2018-01-28T00:00:00\",\"2018-02-04T00:00:00\",\"2018-02-11T00:00:00\",\"2018-02-18T00:00:00\",\"2018-02-25T00:00:00\",\"2018-03-04T00:00:00\",\"2018-03-11T00:00:00\",\"2018-03-18T00:00:00\",\"2018-03-25T00:00:00\",\"2018-04-01T00:00:00\",\"2018-04-08T00:00:00\",\"2018-04-15T00:00:00\",\"2018-04-22T00:00:00\",\"2018-04-29T00:00:00\",\"2018-05-06T00:00:00\",\"2018-05-13T00:00:00\",\"2018-05-20T00:00:00\",\"2018-05-27T00:00:00\",\"2018-06-03T00:00:00\",\"2018-06-10T00:00:00\",\"2018-06-17T00:00:00\",\"2018-06-24T00:00:00\",\"2018-07-01T00:00:00\",\"2018-07-08T00:00:00\",\"2018-07-15T00:00:00\",\"2018-07-22T00:00:00\",\"2018-07-29T00:00:00\",\"2018-08-05T00:00:00\",\"2018-08-12T00:00:00\",\"2018-08-19T00:00:00\",\"2018-08-26T00:00:00\",\"2018-09-02T00:00:00\",\"2018-09-09T00:00:00\",\"2018-09-16T00:00:00\",\"2018-09-23T00:00:00\",\"2018-09-30T00:00:00\",\"2018-10-07T00:00:00\",\"2018-10-14T00:00:00\",\"2018-10-21T00:00:00\",\"2018-10-28T00:00:00\",\"2018-11-04T00:00:00\",\"2018-11-11T00:00:00\",\"2018-11-18T00:00:00\",\"2018-11-25T00:00:00\",\"2018-12-02T00:00:00\",\"2018-12-09T00:00:00\",\"2018-12-16T00:00:00\",\"2018-12-23T00:00:00\",\"2018-12-30T00:00:00\",\"2019-01-06T00:00:00\",\"2019-01-13T00:00:00\",\"2019-01-20T00:00:00\",\"2019-01-27T00:00:00\",\"2019-02-03T00:00:00\",\"2019-02-10T00:00:00\",\"2019-02-17T00:00:00\",\"2019-02-24T00:00:00\",\"2019-03-03T00:00:00\",\"2019-03-10T00:00:00\",\"2019-03-17T00:00:00\",\"2019-03-24T00:00:00\",\"2019-03-31T00:00:00\",\"2019-04-07T00:00:00\",\"2019-04-14T00:00:00\",\"2019-04-21T00:00:00\",\"2019-04-28T00:00:00\",\"2019-05-05T00:00:00\",\"2019-05-12T00:00:00\",\"2019-05-19T00:00:00\",\"2019-05-26T00:00:00\",\"2019-06-02T00:00:00\",\"2019-06-09T00:00:00\",\"2019-06-16T00:00:00\",\"2019-06-23T00:00:00\",\"2019-06-30T00:00:00\",\"2019-07-07T00:00:00\",\"2019-07-14T00:00:00\",\"2019-07-21T00:00:00\",\"2019-07-28T00:00:00\",\"2019-08-04T00:00:00\",\"2019-08-11T00:00:00\",\"2019-08-18T00:00:00\",\"2019-08-25T00:00:00\",\"2019-09-01T00:00:00\",\"2019-09-08T00:00:00\",\"2019-09-15T00:00:00\",\"2019-09-22T00:00:00\",\"2019-09-29T00:00:00\",\"2019-10-06T00:00:00\",\"2019-10-13T00:00:00\",\"2019-10-20T00:00:00\",\"2019-10-27T00:00:00\",\"2019-11-03T00:00:00\",\"2019-11-10T00:00:00\",\"2019-11-17T00:00:00\",\"2019-11-24T00:00:00\",\"2019-12-01T00:00:00\",\"2019-12-08T00:00:00\",\"2019-12-15T00:00:00\",\"2019-12-22T00:00:00\",\"2019-12-29T00:00:00\",\"2020-01-05T00:00:00\",\"2020-01-12T00:00:00\",\"2020-01-19T00:00:00\",\"2020-01-26T00:00:00\",\"2020-02-02T00:00:00\",\"2020-02-09T00:00:00\",\"2020-02-16T00:00:00\",\"2020-02-23T00:00:00\",\"2020-03-01T00:00:00\",\"2020-03-08T00:00:00\",\"2020-03-15T00:00:00\",\"2020-03-22T00:00:00\",\"2020-03-29T00:00:00\",\"2020-04-05T00:00:00\",\"2020-04-12T00:00:00\",\"2020-04-19T00:00:00\",\"2020-04-26T00:00:00\",\"2020-05-03T00:00:00\",\"2020-05-10T00:00:00\",\"2020-05-17T00:00:00\",\"2020-05-24T00:00:00\",\"2020-05-31T00:00:00\",\"2020-06-07T00:00:00\",\"2020-06-14T00:00:00\",\"2020-06-21T00:00:00\",\"2020-06-28T00:00:00\",\"2020-07-05T00:00:00\",\"2020-07-12T00:00:00\",\"2020-07-19T00:00:00\",\"2020-07-26T00:00:00\",\"2020-08-02T00:00:00\",\"2020-08-09T00:00:00\",\"2020-08-16T00:00:00\",\"2020-08-23T00:00:00\",\"2020-08-30T00:00:00\",\"2020-09-06T00:00:00\",\"2020-09-13T00:00:00\",\"2020-09-20T00:00:00\",\"2020-09-27T00:00:00\",\"2020-10-04T00:00:00\",\"2020-10-11T00:00:00\",\"2020-10-18T00:00:00\",\"2020-10-25T00:00:00\",\"2020-11-01T00:00:00\",\"2020-11-08T00:00:00\",\"2020-11-15T00:00:00\",\"2020-11-22T00:00:00\",\"2020-11-29T00:00:00\",\"2020-12-06T00:00:00\",\"2020-12-13T00:00:00\",\"2020-12-20T00:00:00\",\"2020-12-27T00:00:00\",\"2021-01-03T00:00:00\"],\"y\":[1271560064.0,1271560064.0,1271560064.0,1271560064.0,1271560064.0,1271560064.0,1271560064.0,1271560064.0,1738522240.0,1271560064.0,1301170560.0,1301170560.0,1271560064.0,1301170560.0,1271560064.0,1301170560.0,1301170560.0,1271560064.0,1301170560.0,1271560064.0,1271560064.0,1271560064.0,1271560064.0,1301170560.0,1301170560.0,1271560064.0,1301170560.0,1271560064.0,1343985536.0,1271560064.0,1368776064.0,1271560064.0,1271560064.0,1368776064.0,1271560064.0,1368776064.0,1271560064.0,1368776064.0,1368776064.0,1817183360.0,1520702848.0,1368776064.0,1368776064.0,1368776064.0,1271560064.0,1271560064.0,1368776064.0,2137839744.0,1368776064.0,1465030016.0,3557864192.0,30268186624.0,33580800000.0,38851039232.0,42566217728.0,48472965120.0,43344175104.0,47456047104.0,57674010624.0,45406875648.0,49746313216.0,47794122752.0,58048389120.0,74699350016.0,90850549760.0,59205038080.0,71040950272.0,81736081408.0,81004699648.0,123250999296.0,88213020672.0,52111945728.0,89059147776.0,102559793152.0,88226537472.0,88981340160.0,55825973248.0,63362138112.0,59270107136.0,61213847552.0,54534766592.0,53068578816.0,194405646336.0,79096840192.0,40059715584.0,231484391424.0,688052109312.0,41693229056.0,88724209664.0,60135792640.0,751128805376.0,72439537664.0,139808768000.0,11991096320.0,564981399552.0,97488052224.0,87480107008.0,102087663616.0,37176324096.0,38114877440.0,9383350272.0,4946990080.0,10016825344.0,21757880320.0,17763901440.0,15404107776.0,14331990016.0,35899981824.0,38627553280.0,36162605056.0,38037446656.0,35544780800.0,46508843008.0,42451972096.0,54236880896.0,103447494656.0,99178971136.0,100347297792.0,80136249344.0,91595079680.0,94845591552.0,80651116544.0,111003648000.0,67312336896.0,75938406400.0,88559665152.0,64660799488.0,91940052992.0,72321245184.0,114614870016.0,75089723392.0,109701079040.0,52336525312.0,197221662720.0,64235270144.0,35567095808.0,269849198592.0,11232768000.0,40773328896.0,226826502144.0,31423946752.0,78942011392.0,44943106048.0,55703752704.0,70424698880.0,47514124288.0,74875682816.0,77726253056.0,104191803392.0,67652513792.0,194730131456.0,67453194240.0,10899064832.0,3744880896.0,3962577408.0,31376881664.0,13885051904.0,24691900416.0,2411513088.0,46787473408.0,36002508800.0,43173400576.0,51261554688.0,96778665984.0,67574624256.0,66263273472.0,60552794112.0,90005037056.0,60459126784.0,102079594496.0,80976601088.0,95243698176.0,86997671936.0,101100060672.0,92455174144.0,109865132032.0,119496294400.0,56648843264.0,36843745280.0,46785171456.0,72043241472.0,60487757824.0,57019097088.0,43277832192.0,34620846080.0,38692229120.0,41940664320.0,53403947008.0,172499255296.0,45321150464.0,166972588032.0,58508963840.0,21877305344.0,59491434496.0,67977482240.0,70370762752.0,115196608512.0,63959392256.0,66907738112.0,156916613120.0,94902493184.0,101861408768.0,77106864128.0,19498692608.0,3646608128.0,4484490752.0]}],                        {\"annotations\":[{\"align\":\"center\",\"ax\":40,\"ay\":-30,\"font\":{\"color\":\"black\",\"size\":15},\"showarrow\":false,\"text\":\"<b>Test</b>\",\"x\":\"2021-02-20\",\"y\":1000000000000},{\"align\":\"center\",\"ax\":40,\"ay\":-30,\"font\":{\"color\":\"black\",\"size\":15},\"showarrow\":false,\"text\":\"<b>Train</b>\",\"x\":\"2020-11-15\",\"y\":1000000000000}],\"autosize\":false,\"height\":800,\"shapes\":[{\"line\":{\"dash\":\"dash\"},\"type\":\"line\",\"x0\":\"2021-01-01\",\"x1\":\"2021-01-01\",\"xref\":\"x\",\"y0\":0,\"y1\":1,\"yref\":\"y domain\"}],\"template\":{\"data\":{\"bar\":[{\"error_x\":{\"color\":\"#2a3f5f\"},\"error_y\":{\"color\":\"#2a3f5f\"},\"marker\":{\"line\":{\"color\":\"#E5ECF6\",\"width\":0.5},\"pattern\":{\"fillmode\":\"overlay\",\"size\":10,\"solidity\":0.2}},\"type\":\"bar\"}],\"barpolar\":[{\"marker\":{\"line\":{\"color\":\"#E5ECF6\",\"width\":0.5},\"pattern\":{\"fillmode\":\"overlay\",\"size\":10,\"solidity\":0.2}},\"type\":\"barpolar\"}],\"carpet\":[{\"aaxis\":{\"endlinecolor\":\"#2a3f5f\",\"gridcolor\":\"white\",\"linecolor\":\"white\",\"minorgridcolor\":\"white\",\"startlinecolor\":\"#2a3f5f\"},\"baxis\":{\"endlinecolor\":\"#2a3f5f\",\"gridcolor\":\"white\",\"linecolor\":\"white\",\"minorgridcolor\":\"white\",\"startlinecolor\":\"#2a3f5f\"},\"type\":\"carpet\"}],\"choropleth\":[{\"colorbar\":{\"outlinewidth\":0,\"ticks\":\"\"},\"type\":\"choropleth\"}],\"contour\":[{\"colorbar\":{\"outlinewidth\":0,\"ticks\":\"\"},\"colorscale\":[[0.0,\"#0d0887\"],[0.1111111111111111,\"#46039f\"],[0.2222222222222222,\"#7201a8\"],[0.3333333333333333,\"#9c179e\"],[0.4444444444444444,\"#bd3786\"],[0.5555555555555556,\"#d8576b\"],[0.6666666666666666,\"#ed7953\"],[0.7777777777777778,\"#fb9f3a\"],[0.8888888888888888,\"#fdca26\"],[1.0,\"#f0f921\"]],\"type\":\"contour\"}],\"contourcarpet\":[{\"colorbar\":{\"outlinewidth\":0,\"ticks\":\"\"},\"type\":\"contourcarpet\"}],\"heatmap\":[{\"colorbar\":{\"outlinewidth\":0,\"ticks\":\"\"},\"colorscale\":[[0.0,\"#0d0887\"],[0.1111111111111111,\"#46039f\"],[0.2222222222222222,\"#7201a8\"],[0.3333333333333333,\"#9c179e\"],[0.4444444444444444,\"#bd3786\"],[0.5555555555555556,\"#d8576b\"],[0.6666666666666666,\"#ed7953\"],[0.7777777777777778,\"#fb9f3a\"],[0.8888888888888888,\"#fdca26\"],[1.0,\"#f0f921\"]],\"type\":\"heatmap\"}],\"heatmapgl\":[{\"colorbar\":{\"outlinewidth\":0,\"ticks\":\"\"},\"colorscale\":[[0.0,\"#0d0887\"],[0.1111111111111111,\"#46039f\"],[0.2222222222222222,\"#7201a8\"],[0.3333333333333333,\"#9c179e\"],[0.4444444444444444,\"#bd3786\"],[0.5555555555555556,\"#d8576b\"],[0.6666666666666666,\"#ed7953\"],[0.7777777777777778,\"#fb9f3a\"],[0.8888888888888888,\"#fdca26\"],[1.0,\"#f0f921\"]],\"type\":\"heatmapgl\"}],\"histogram\":[{\"marker\":{\"pattern\":{\"fillmode\":\"overlay\",\"size\":10,\"solidity\":0.2}},\"type\":\"histogram\"}],\"histogram2d\":[{\"colorbar\":{\"outlinewidth\":0,\"ticks\":\"\"},\"colorscale\":[[0.0,\"#0d0887\"],[0.1111111111111111,\"#46039f\"],[0.2222222222222222,\"#7201a8\"],[0.3333333333333333,\"#9c179e\"],[0.4444444444444444,\"#bd3786\"],[0.5555555555555556,\"#d8576b\"],[0.6666666666666666,\"#ed7953\"],[0.7777777777777778,\"#fb9f3a\"],[0.8888888888888888,\"#fdca26\"],[1.0,\"#f0f921\"]],\"type\":\"histogram2d\"}],\"histogram2dcontour\":[{\"colorbar\":{\"outlinewidth\":0,\"ticks\":\"\"},\"colorscale\":[[0.0,\"#0d0887\"],[0.1111111111111111,\"#46039f\"],[0.2222222222222222,\"#7201a8\"],[0.3333333333333333,\"#9c179e\"],[0.4444444444444444,\"#bd3786\"],[0.5555555555555556,\"#d8576b\"],[0.6666666666666666,\"#ed7953\"],[0.7777777777777778,\"#fb9f3a\"],[0.8888888888888888,\"#fdca26\"],[1.0,\"#f0f921\"]],\"type\":\"histogram2dcontour\"}],\"mesh3d\":[{\"colorbar\":{\"outlinewidth\":0,\"ticks\":\"\"},\"type\":\"mesh3d\"}],\"parcoords\":[{\"line\":{\"colorbar\":{\"outlinewidth\":0,\"ticks\":\"\"}},\"type\":\"parcoords\"}],\"pie\":[{\"automargin\":true,\"type\":\"pie\"}],\"scatter\":[{\"marker\":{\"colorbar\":{\"outlinewidth\":0,\"ticks\":\"\"}},\"type\":\"scatter\"}],\"scatter3d\":[{\"line\":{\"colorbar\":{\"outlinewidth\":0,\"ticks\":\"\"}},\"marker\":{\"colorbar\":{\"outlinewidth\":0,\"ticks\":\"\"}},\"type\":\"scatter3d\"}],\"scattercarpet\":[{\"marker\":{\"colorbar\":{\"outlinewidth\":0,\"ticks\":\"\"}},\"type\":\"scattercarpet\"}],\"scattergeo\":[{\"marker\":{\"colorbar\":{\"outlinewidth\":0,\"ticks\":\"\"}},\"type\":\"scattergeo\"}],\"scattergl\":[{\"marker\":{\"colorbar\":{\"outlinewidth\":0,\"ticks\":\"\"}},\"type\":\"scattergl\"}],\"scattermapbox\":[{\"marker\":{\"colorbar\":{\"outlinewidth\":0,\"ticks\":\"\"}},\"type\":\"scattermapbox\"}],\"scatterpolar\":[{\"marker\":{\"colorbar\":{\"outlinewidth\":0,\"ticks\":\"\"}},\"type\":\"scatterpolar\"}],\"scatterpolargl\":[{\"marker\":{\"colorbar\":{\"outlinewidth\":0,\"ticks\":\"\"}},\"type\":\"scatterpolargl\"}],\"scatterternary\":[{\"marker\":{\"colorbar\":{\"outlinewidth\":0,\"ticks\":\"\"}},\"type\":\"scatterternary\"}],\"surface\":[{\"colorbar\":{\"outlinewidth\":0,\"ticks\":\"\"},\"colorscale\":[[0.0,\"#0d0887\"],[0.1111111111111111,\"#46039f\"],[0.2222222222222222,\"#7201a8\"],[0.3333333333333333,\"#9c179e\"],[0.4444444444444444,\"#bd3786\"],[0.5555555555555556,\"#d8576b\"],[0.6666666666666666,\"#ed7953\"],[0.7777777777777778,\"#fb9f3a\"],[0.8888888888888888,\"#fdca26\"],[1.0,\"#f0f921\"]],\"type\":\"surface\"}],\"table\":[{\"cells\":{\"fill\":{\"color\":\"#EBF0F8\"},\"line\":{\"color\":\"white\"}},\"header\":{\"fill\":{\"color\":\"#C8D4E3\"},\"line\":{\"color\":\"white\"}},\"type\":\"table\"}]},\"layout\":{\"annotationdefaults\":{\"arrowcolor\":\"#2a3f5f\",\"arrowhead\":0,\"arrowwidth\":1},\"autotypenumbers\":\"strict\",\"coloraxis\":{\"colorbar\":{\"outlinewidth\":0,\"ticks\":\"\"}},\"colorscale\":{\"diverging\":[[0,\"#8e0152\"],[0.1,\"#c51b7d\"],[0.2,\"#de77ae\"],[0.3,\"#f1b6da\"],[0.4,\"#fde0ef\"],[0.5,\"#f7f7f7\"],[0.6,\"#e6f5d0\"],[0.7,\"#b8e186\"],[0.8,\"#7fbc41\"],[0.9,\"#4d9221\"],[1,\"#276419\"]],\"sequential\":[[0.0,\"#0d0887\"],[0.1111111111111111,\"#46039f\"],[0.2222222222222222,\"#7201a8\"],[0.3333333333333333,\"#9c179e\"],[0.4444444444444444,\"#bd3786\"],[0.5555555555555556,\"#d8576b\"],[0.6666666666666666,\"#ed7953\"],[0.7777777777777778,\"#fb9f3a\"],[0.8888888888888888,\"#fdca26\"],[1.0,\"#f0f921\"]],\"sequentialminus\":[[0.0,\"#0d0887\"],[0.1111111111111111,\"#46039f\"],[0.2222222222222222,\"#7201a8\"],[0.3333333333333333,\"#9c179e\"],[0.4444444444444444,\"#bd3786\"],[0.5555555555555556,\"#d8576b\"],[0.6666666666666666,\"#ed7953\"],[0.7777777777777778,\"#fb9f3a\"],[0.8888888888888888,\"#fdca26\"],[1.0,\"#f0f921\"]]},\"colorway\":[\"#636efa\",\"#EF553B\",\"#00cc96\",\"#ab63fa\",\"#FFA15A\",\"#19d3f3\",\"#FF6692\",\"#B6E880\",\"#FF97FF\",\"#FECB52\"],\"font\":{\"color\":\"#2a3f5f\"},\"geo\":{\"bgcolor\":\"white\",\"lakecolor\":\"white\",\"landcolor\":\"#E5ECF6\",\"showlakes\":true,\"showland\":true,\"subunitcolor\":\"white\"},\"hoverlabel\":{\"align\":\"left\"},\"hovermode\":\"closest\",\"mapbox\":{\"style\":\"light\"},\"paper_bgcolor\":\"white\",\"plot_bgcolor\":\"#E5ECF6\",\"polar\":{\"angularaxis\":{\"gridcolor\":\"white\",\"linecolor\":\"white\",\"ticks\":\"\"},\"bgcolor\":\"#E5ECF6\",\"radialaxis\":{\"gridcolor\":\"white\",\"linecolor\":\"white\",\"ticks\":\"\"}},\"scene\":{\"xaxis\":{\"backgroundcolor\":\"#E5ECF6\",\"gridcolor\":\"white\",\"gridwidth\":2,\"linecolor\":\"white\",\"showbackground\":true,\"ticks\":\"\",\"zerolinecolor\":\"white\"},\"yaxis\":{\"backgroundcolor\":\"#E5ECF6\",\"gridcolor\":\"white\",\"gridwidth\":2,\"linecolor\":\"white\",\"showbackground\":true,\"ticks\":\"\",\"zerolinecolor\":\"white\"},\"zaxis\":{\"backgroundcolor\":\"#E5ECF6\",\"gridcolor\":\"white\",\"gridwidth\":2,\"linecolor\":\"white\",\"showbackground\":true,\"ticks\":\"\",\"zerolinecolor\":\"white\"}},\"shapedefaults\":{\"line\":{\"color\":\"#2a3f5f\"}},\"ternary\":{\"aaxis\":{\"gridcolor\":\"white\",\"linecolor\":\"white\",\"ticks\":\"\"},\"baxis\":{\"gridcolor\":\"white\",\"linecolor\":\"white\",\"ticks\":\"\"},\"bgcolor\":\"#E5ECF6\",\"caxis\":{\"gridcolor\":\"white\",\"linecolor\":\"white\",\"ticks\":\"\"}},\"title\":{\"x\":0.05},\"xaxis\":{\"automargin\":true,\"gridcolor\":\"white\",\"linecolor\":\"white\",\"ticks\":\"\",\"title\":{\"standoff\":15},\"zerolinecolor\":\"white\",\"zerolinewidth\":2},\"yaxis\":{\"automargin\":true,\"gridcolor\":\"white\",\"linecolor\":\"white\",\"ticks\":\"\",\"title\":{\"standoff\":15},\"zerolinecolor\":\"white\",\"zerolinewidth\":2}}},\"title\":{\"text\":\"\\ubb3c\\ud488 : \\ubc29\\uc704\\uc0ac\\uc5c5\\uccad \\ub300\\ud55c \\uc218\\uc694\\uc608\\uce21 \"},\"width\":1600,\"xaxis\":{\"title\":{\"text\":\"\\uc8fc \\ub2e8\\uc704 \\uc2dc\\uacc4\\uc5f4 (2020/01/05 ~ 2021/01/23)\"}},\"yaxis\":{\"title\":{\"text\":\"\\uc8fc\\ubcc4 \\uc608\\uc0b0 \\ucd1d\\uc561\"}}},                        {\"responsive\": true}                    ).then(function(){\n",
       "                            \n",
       "var gd = document.getElementById('4fcfbef9-13b6-4a83-8758-aaf84e318210');\n",
       "var x = new MutationObserver(function (mutations, observer) {{\n",
       "        var display = window.getComputedStyle(gd).display;\n",
       "        if (!display || display === 'none') {{\n",
       "            console.log([gd, 'removed!']);\n",
       "            Plotly.purge(gd);\n",
       "            observer.disconnect();\n",
       "        }}\n",
       "}});\n",
       "\n",
       "// Listen for the removal of the full notebook cells\n",
       "var notebookContainer = gd.closest('#notebook-container');\n",
       "if (notebookContainer) {{\n",
       "    x.observe(notebookContainer, {childList: true});\n",
       "}}\n",
       "\n",
       "// Listen for the clearing of the current output cell\n",
       "var outputEl = gd.closest('.output');\n",
       "if (outputEl) {{\n",
       "    x.observe(outputEl, {childList: true});\n",
       "}}\n",
       "\n",
       "                        })                };                });            </script>        </div>"
      ]
     },
     "metadata": {},
     "output_type": "display_data"
    }
   ],
   "source": [
    "# Total\n",
    "fig = go.Figure()\n",
    "\n",
    "fig.add_trace(go.Scatter(x = df2.index, y = df2[df2_1.columns[0]],name = 'Test_실제값',marker_color = 'blue'))\n",
    "fig.add_trace(go.Scatter(x = df2_1.index, y = df2_1[df2_1.columns[0]],name = 'Train_실제값',marker_color = 'blue'))\n",
    "fig.add_trace(go.Scatter(x = df1.index, y = df1[0], name = 'Test_예측값_XGBOOST',marker_color = 'red'))#,mode='lines+markers'\n",
    "\n",
    "fig.add_trace(go.Scatter(x = df1_1.index, y = df1_1[0], name = 'Train_예측값_XGBOOST',marker_color = 'red'))\n",
    "\n",
    "\n",
    "fig.add_trace(go.Scatter(x = df3.index, y = df3[0], name = 'Test_예측값_RandomForest',marker_color = 'green'))\n",
    "\n",
    "fig.add_trace(go.Scatter(x = df3_1.index, y = df3_1[0], name = 'Train_예측값_RandomForest',marker_color = 'green'))\n",
    "\n",
    "fig.add_trace(go.Scatter(x = df4.index, y = df4[0], name = 'Test_예측값_LightGB',marker_color = 'orange'))\n",
    "\n",
    "fig.add_trace(go.Scatter(x = df4_1.index, y = df4_1[0], name = 'Train_예측값_LightGB',marker_color = 'orange'))\n",
    "\n",
    "\n",
    "fig.add_vline(x = '2021-01-01',line_dash=\"dash\")\n",
    "fig.add_annotation(\n",
    "            x=\"2021-02-20\",\n",
    "            y=10**12,\n",
    "            text=\"<b>Test</b>\",\n",
    "            showarrow=False,\n",
    "            font=dict(\n",
    "                size=15,\n",
    "                color = 'black'\n",
    "                ),\n",
    "            align=\"center\",\n",
    "            ax=40,\n",
    "            ay=-30,\n",
    "\n",
    ")\n",
    "fig.add_annotation(\n",
    "            x=\"2020-11-15\",\n",
    "            y=10**12,\n",
    "            text=\"<b>Train</b>\",\n",
    "            showarrow=False,\n",
    "            font=dict(\n",
    "                size=15,\n",
    "                color = 'black'\n",
    "                ),\n",
    "            align=\"center\",\n",
    "            ax=40,\n",
    "            ay=-30,\n",
    "\n",
    ")\n",
    "\n",
    "fig.update_layout(\n",
    "    autosize=False,\n",
    "    width=1600,\n",
    "    height=800,\n",
    "    title= '물품 : 방위사업청 대한 수요예측 '\n",
    "    )\n",
    "\n",
    "fig.update_xaxes(title = '주 단위 시계열 (2020/01/05 ~ 2021/01/23)')\n",
    "fig.update_yaxes(title = '주별 예산 총액')\n",
    "\n",
    "fig.write_html(\"주별.html\")\n",
    "fig.show()"
   ]
  },
  {
   "cell_type": "code",
   "execution_count": 203,
   "metadata": {},
   "outputs": [
    {
     "data": {
      "text/plain": [
       "['XGB_grid.pkl']"
      ]
     },
     "execution_count": 203,
     "metadata": {},
     "output_type": "execute_result"
    }
   ],
   "source": [
    "# import joblib\n",
    "\n",
    "# joblib.dump(model_made_1, 'Linear_predict.pkl')\n",
    "\n",
    "\n",
    "# joblib.dump(random_grid_2, 'random_grid.pkl')\n",
    "\n",
    "# joblib.dump(XGB_grid_2, 'XGB_grid.pkl')"
   ]
  },
  {
   "cell_type": "markdown",
   "metadata": {},
   "source": [
    "## 생각했던 것보다 모델의 성능이 좋아지지 않았다. 또한, XGBoost에서와 Random Forest에서 중요하게 보는 변수가 많이 달랐다. \n",
    "\n",
    "- 1) 다른 모형 (Extra Trees regression, SVR \n",
    "- 2) 그러므로 이를 혼합한 Voting regression을 사용하여 보자."
   ]
  },
  {
   "cell_type": "code",
   "execution_count": 215,
   "metadata": {},
   "outputs": [],
   "source": [
    "import pandas as pd\n",
    "import numpy as np # 각 모델에서 내부적으로 관련 라이브러리 사용 가능\n",
    "\n",
    "from sklearn.model_selection import cross_val_score\n",
    "from sklearn.model_selection import GridSearchCV\n",
    "from sklearn.model_selection import RandomizedSearchCV\n",
    "from scipy import stats\n",
    "\n",
    "from sklearn.neighbors import KNeighborsClassifier             # 1. K-Nearest Neighbor(KNN)\n",
    "from sklearn.linear_model import LogisticRegression            # 2. Logistic Regression\n",
    "from sklearn.svm import SVC                                                # 3. SVC\n",
    "from sklearn.tree import DecisionTreeClassifier                   # 4. Decision Tree\n",
    "from sklearn.ensemble import RandomForestClassifier       # 5. Random Forest\n",
    "from sklearn.ensemble import ExtraTreesClassifier  # 6. ExtraTrees\n",
    "from sklearn.ensemble import ExtraTreesRegressor\n",
    "from sklearn.ensemble import GradientBoostingClassifier # 7. GBM\n",
    "from sklearn.naive_bayes import GaussianNB                     # 8. GaussianNB\n",
    "from xgboost import XGBClassifier                                     # 9. XGBoost\n",
    "from lightgbm import LGBMClassifier                                 # 10. LightGBM\n",
    "import warnings\n",
    "from sklearn.svm import SVR  "
   ]
  },
  {
   "cell_type": "code",
   "execution_count": 220,
   "metadata": {},
   "outputs": [
    {
     "name": "stdout",
     "output_type": "stream",
     "text": [
      "Fitting 5 folds for each of 42 candidates, totalling 210 fits\n",
      "[LibSVM]{'C': 50, 'gamma': 0.001}\n",
      "[LibSVM]"
     ]
    }
   ],
   "source": [
    "# 파라미터 그리드 셋팅\n",
    "hyperparams = {\n",
    "    'C': [10, 15, 20, 23, 25, 30, 50], \n",
    "    'gamma' : [0.001, 0.01, 0.05, 0.06, 0.07, 0.1]\n",
    "}\n",
    "\n",
    "# 교차검증\n",
    "gd=GridSearchCV(\n",
    "    estimator = SVR(verbose=True), \n",
    "    param_grid = hyperparams, \n",
    "    verbose=True, \n",
    "    cv=5,   # 내부적으로 (Stratified)KFold 사용\n",
    "    scoring = \"neg_mean_squared_log_error\", \n",
    "    n_jobs=-1\n",
    ")\n",
    "\n",
    "# 모델 fiting 및 결과\n",
    "gb_1 = gd.fit(X_train, y_train)\n",
    "\n",
    "\n",
    "print(gd.best_params_)\n",
    "\n",
    "gd_1 = gd.best_estimator_\n",
    "gd_2 = gd_1.fit(X_train, y_train)"
   ]
  },
  {
   "cell_type": "code",
   "execution_count": 221,
   "metadata": {},
   "outputs": [
    {
     "name": "stdout",
     "output_type": "stream",
     "text": [
      "mean_squared_log_error =  1.142244863228683\n",
      "r2_score =  -0.13313119262317397\n"
     ]
    }
   ],
   "source": [
    "score = make_scorer(mean_squared_log_error)\n",
    "\n",
    "print('mean_squared_log_error = ', score(gd_1, X_test, y_test))\n",
    "\n",
    "\n",
    "score = make_scorer(r2_score)\n",
    "\n",
    "print('r2_score = ', score(gd_1, X_test, y_test))"
   ]
  },
  {
   "cell_type": "code",
   "execution_count": 217,
   "metadata": {},
   "outputs": [
    {
     "name": "stdout",
     "output_type": "stream",
     "text": [
      "Fitting 5 folds for each of 81 candidates, totalling 405 fits\n",
      "{'max_depth': 10, 'min_samples_leaf': 4, 'min_samples_split': 4, 'n_estimators': 800}\n"
     ]
    }
   ],
   "source": [
    "\n",
    "n_estimators = [800, 1000, 1200]\n",
    "max_depth = [10, 12, 15]\n",
    "min_samples_split = [4, 5, 6]\n",
    "min_samples_leaf = [4, 5, 6]\n",
    "\n",
    "hyperparams = {'n_estimators': n_estimators, 'max_depth': max_depth, \n",
    "               'min_samples_split': min_samples_split, 'min_samples_leaf': min_samples_leaf}\n",
    "\n",
    "random_grid_extra = GridSearchCV(estimator = ExtraTreesRegressor(), param_grid = hyperparams, \n",
    "                verbose=True, scoring=mean_squared_log_error, cv=5, n_jobs=-1)\n",
    "\n",
    "random_grid_extra.fit(X_train, y_train)\n",
    "print(random_grid_extra.best_params_)"
   ]
  },
  {
   "cell_type": "code",
   "execution_count": 218,
   "metadata": {},
   "outputs": [],
   "source": [
    "random_grid_extra_1= random_grid_extra.best_estimator_\n",
    "random_grid_extra_2 = random_grid_extra_1.fit(X_train, y_train)\n",
    "random_grid_extra_2_predict = random_grid_extra_2.predict(X_test)"
   ]
  },
  {
   "cell_type": "code",
   "execution_count": 219,
   "metadata": {},
   "outputs": [
    {
     "name": "stdout",
     "output_type": "stream",
     "text": [
      "mean_squared_log_error =  0.7893187087938293\n",
      "r2_score =  0.036750090526203594\n"
     ]
    }
   ],
   "source": [
    "score = make_scorer(mean_squared_log_error)\n",
    "\n",
    "print('mean_squared_log_error = ', score(random_grid_extra_2, X_test, y_test))\n",
    "\n",
    "\n",
    "score = make_scorer(r2_score)\n",
    "\n",
    "print('r2_score = ', score(random_grid_extra_2, X_test, y_test))"
   ]
  },
  {
   "cell_type": "code",
   "execution_count": null,
   "metadata": {},
   "outputs": [],
   "source": []
  },
  {
   "cell_type": "markdown",
   "metadata": {},
   "source": [
    "\n",
    "### Bayesian Optimization XGBoost 적용"
   ]
  },
  {
   "cell_type": "code",
   "execution_count": 346,
   "metadata": {},
   "outputs": [
    {
     "name": "stdout",
     "output_type": "stream",
     "text": [
      "|   iter    |  target   | colsam... |   gamma   | learni... | max_depth | min_ch... | n_esti... | subsample |\n",
      "-------------------------------------------------------------------------------------------------------------\n",
      "| \u001b[0m 1       \u001b[0m | \u001b[0m-0.8491  \u001b[0m | \u001b[0m 0.7085  \u001b[0m | \u001b[0m 3.63    \u001b[0m | \u001b[0m 0.01006 \u001b[0m | \u001b[0m 5.116   \u001b[0m | \u001b[0m 2.935   \u001b[0m | \u001b[0m 183.1   \u001b[0m | \u001b[0m 0.5931  \u001b[0m |\n",
      "| \u001b[0m 2       \u001b[0m | \u001b[0m-2.194   \u001b[0m | \u001b[0m 0.6728  \u001b[0m | \u001b[0m 2.044   \u001b[0m | \u001b[0m 0.274   \u001b[0m | \u001b[0m 5.934   \u001b[0m | \u001b[0m 13.7    \u001b[0m | \u001b[0m 284.0   \u001b[0m | \u001b[0m 0.9391  \u001b[0m |\n",
      "| \u001b[95m 3       \u001b[0m | \u001b[95m-0.7995  \u001b[0m | \u001b[95m 0.5137  \u001b[0m | \u001b[95m 3.385   \u001b[0m | \u001b[95m 0.2145  \u001b[0m | \u001b[95m 6.911   \u001b[0m | \u001b[95m 2.808   \u001b[0m | \u001b[95m 278.3   \u001b[0m | \u001b[95m 0.9004  \u001b[0m |\n",
      "| \u001b[0m 4       \u001b[0m | \u001b[0m-13.47   \u001b[0m | \u001b[0m 0.9841  \u001b[0m | \u001b[0m 1.636   \u001b[0m | \u001b[0m 0.3492  \u001b[0m | \u001b[0m 9.135   \u001b[0m | \u001b[0m 17.89   \u001b[0m | \u001b[0m 176.5   \u001b[0m | \u001b[0m 0.5195  \u001b[0m |\n",
      "| \u001b[0m 5       \u001b[0m | \u001b[0m-1.479   \u001b[0m | \u001b[0m 0.5849  \u001b[0m | \u001b[0m 4.403   \u001b[0m | \u001b[0m 0.05819 \u001b[0m | \u001b[0m 5.948   \u001b[0m | \u001b[0m 19.16   \u001b[0m | \u001b[0m 579.8   \u001b[0m | \u001b[0m 0.8459  \u001b[0m |\n",
      "| \u001b[0m 6       \u001b[0m | \u001b[0m-2.477   \u001b[0m | \u001b[0m 0.6578  \u001b[0m | \u001b[0m 3.464   \u001b[0m | \u001b[0m 0.419   \u001b[0m | \u001b[0m 3.128   \u001b[0m | \u001b[0m 15.0    \u001b[0m | \u001b[0m 990.0   \u001b[0m | \u001b[0m 0.8741  \u001b[0m |\n",
      "| \u001b[0m 7       \u001b[0m | \u001b[0m-19.28   \u001b[0m | \u001b[0m 0.6402  \u001b[0m | \u001b[0m 3.967   \u001b[0m | \u001b[0m 0.06058 \u001b[0m | \u001b[0m 6.135   \u001b[0m | \u001b[0m 18.17   \u001b[0m | \u001b[0m 364.3   \u001b[0m | \u001b[0m 0.6439  \u001b[0m |\n",
      "| \u001b[0m 8       \u001b[0m | \u001b[0m-1.75    \u001b[0m | \u001b[0m 0.565   \u001b[0m | \u001b[0m 0.1949  \u001b[0m | \u001b[0m 0.3426  \u001b[0m | \u001b[0m 4.481   \u001b[0m | \u001b[0m 5.311   \u001b[0m | \u001b[0m 542.4   \u001b[0m | \u001b[0m 0.5267  \u001b[0m |\n",
      "| \u001b[0m 9       \u001b[0m | \u001b[0m-1.054   \u001b[0m | \u001b[0m 0.7871  \u001b[0m | \u001b[0m 0.819   \u001b[0m | \u001b[0m 0.2988  \u001b[0m | \u001b[0m 7.898   \u001b[0m | \u001b[0m 2.047   \u001b[0m | \u001b[0m 472.7   \u001b[0m | \u001b[0m 0.8472  \u001b[0m |\n",
      "| \u001b[0m 10      \u001b[0m | \u001b[0m-1.658   \u001b[0m | \u001b[0m 0.7071  \u001b[0m | \u001b[0m 0.3448  \u001b[0m | \u001b[0m 0.2726  \u001b[0m | \u001b[0m 7.647   \u001b[0m | \u001b[0m 10.3    \u001b[0m | \u001b[0m 950.1   \u001b[0m | \u001b[0m 0.7933  \u001b[0m |\n",
      "| \u001b[0m 11      \u001b[0m | \u001b[0m-1.097   \u001b[0m | \u001b[0m 0.7806  \u001b[0m | \u001b[0m 2.42    \u001b[0m | \u001b[0m 0.2536  \u001b[0m | \u001b[0m 6.873   \u001b[0m | \u001b[0m 3.439   \u001b[0m | \u001b[0m 277.6   \u001b[0m | \u001b[0m 0.993   \u001b[0m |\n",
      "| \u001b[0m 12      \u001b[0m | \u001b[0m-14.94   \u001b[0m | \u001b[0m 0.5     \u001b[0m | \u001b[0m 5.0     \u001b[0m | \u001b[0m 0.01    \u001b[0m | \u001b[0m 3.0     \u001b[0m | \u001b[0m 0.0     \u001b[0m | \u001b[0m 191.8   \u001b[0m | \u001b[0m 0.6904  \u001b[0m |\n",
      "| \u001b[0m 13      \u001b[0m | \u001b[0m-0.8481  \u001b[0m | \u001b[0m 0.7036  \u001b[0m | \u001b[0m 2.527   \u001b[0m | \u001b[0m 0.2569  \u001b[0m | \u001b[0m 6.125   \u001b[0m | \u001b[0m 1.225   \u001b[0m | \u001b[0m 179.0   \u001b[0m | \u001b[0m 0.6946  \u001b[0m |\n",
      "| \u001b[0m 14      \u001b[0m | \u001b[0m-1.329   \u001b[0m | \u001b[0m 0.5     \u001b[0m | \u001b[0m 2.519   \u001b[0m | \u001b[0m 0.24    \u001b[0m | \u001b[0m 5.607   \u001b[0m | \u001b[0m 4.553   \u001b[0m | \u001b[0m 284.6   \u001b[0m | \u001b[0m 0.6306  \u001b[0m |\n",
      "| \u001b[0m 15      \u001b[0m | \u001b[0m-4.524   \u001b[0m | \u001b[0m 0.5     \u001b[0m | \u001b[0m 5.0     \u001b[0m | \u001b[0m 0.01    \u001b[0m | \u001b[0m 10.0    \u001b[0m | \u001b[0m 7.42    \u001b[0m | \u001b[0m 280.7   \u001b[0m | \u001b[0m 0.5     \u001b[0m |\n",
      "| \u001b[0m 16      \u001b[0m | \u001b[0m-1.323   \u001b[0m | \u001b[0m 0.9525  \u001b[0m | \u001b[0m 3.169   \u001b[0m | \u001b[0m 0.3555  \u001b[0m | \u001b[0m 3.259   \u001b[0m | \u001b[0m 1.377   \u001b[0m | \u001b[0m 279.2   \u001b[0m | \u001b[0m 0.8414  \u001b[0m |\n",
      "| \u001b[0m 17      \u001b[0m | \u001b[0m-1.082   \u001b[0m | \u001b[0m 0.8152  \u001b[0m | \u001b[0m 0.8184  \u001b[0m | \u001b[0m 0.2591  \u001b[0m | \u001b[0m 6.307   \u001b[0m | \u001b[0m 3.971   \u001b[0m | \u001b[0m 480.9   \u001b[0m | \u001b[0m 0.7733  \u001b[0m |\n",
      "| \u001b[0m 18      \u001b[0m | \u001b[0m-1.169   \u001b[0m | \u001b[0m 0.99    \u001b[0m | \u001b[0m 2.671   \u001b[0m | \u001b[0m 0.1856  \u001b[0m | \u001b[0m 6.761   \u001b[0m | \u001b[0m 10.45   \u001b[0m | \u001b[0m 474.9   \u001b[0m | \u001b[0m 0.9958  \u001b[0m |\n",
      "| \u001b[0m 19      \u001b[0m | \u001b[0m-1.775   \u001b[0m | \u001b[0m 0.5     \u001b[0m | \u001b[0m 5.0     \u001b[0m | \u001b[0m 0.5     \u001b[0m | \u001b[0m 3.0     \u001b[0m | \u001b[0m 3.596   \u001b[0m | \u001b[0m 475.5   \u001b[0m | \u001b[0m 0.5     \u001b[0m |\n",
      "| \u001b[0m 20      \u001b[0m | \u001b[0m-2.462   \u001b[0m | \u001b[0m 0.5     \u001b[0m | \u001b[0m 0.1     \u001b[0m | \u001b[0m 0.5     \u001b[0m | \u001b[0m 10.0    \u001b[0m | \u001b[0m 13.31   \u001b[0m | \u001b[0m 484.5   \u001b[0m | \u001b[0m 0.5     \u001b[0m |\n",
      "| \u001b[0m 21      \u001b[0m | \u001b[0m-1.222   \u001b[0m | \u001b[0m 0.5     \u001b[0m | \u001b[0m 0.1     \u001b[0m | \u001b[0m 0.5     \u001b[0m | \u001b[0m 3.0     \u001b[0m | \u001b[0m 10.15   \u001b[0m | \u001b[0m 294.1   \u001b[0m | \u001b[0m 1.0     \u001b[0m |\n",
      "| \u001b[0m 22      \u001b[0m | \u001b[0m-0.8165  \u001b[0m | \u001b[0m 0.5     \u001b[0m | \u001b[0m 0.1     \u001b[0m | \u001b[0m 0.5     \u001b[0m | \u001b[0m 4.444   \u001b[0m | \u001b[0m 0.0     \u001b[0m | \u001b[0m 293.4   \u001b[0m | \u001b[0m 1.0     \u001b[0m |\n",
      "| \u001b[95m 23      \u001b[0m | \u001b[95m-0.07763 \u001b[0m | \u001b[95m 0.5     \u001b[0m | \u001b[95m 5.0     \u001b[0m | \u001b[95m 0.01    \u001b[0m | \u001b[95m 8.468   \u001b[0m | \u001b[95m 0.0     \u001b[0m | \u001b[95m 270.6   \u001b[0m | \u001b[95m 1.0     \u001b[0m |\n",
      "| \u001b[0m 24      \u001b[0m | \u001b[0m-0.8165  \u001b[0m | \u001b[0m 0.5     \u001b[0m | \u001b[0m 4.527   \u001b[0m | \u001b[0m 0.5     \u001b[0m | \u001b[0m 4.706   \u001b[0m | \u001b[0m 0.0     \u001b[0m | \u001b[0m 261.0   \u001b[0m | \u001b[0m 1.0     \u001b[0m |\n",
      "| \u001b[0m 25      \u001b[0m | \u001b[0m-0.1912  \u001b[0m | \u001b[0m 0.5     \u001b[0m | \u001b[0m 0.1     \u001b[0m | \u001b[0m 0.01    \u001b[0m | \u001b[0m 10.0    \u001b[0m | \u001b[0m 5.567   \u001b[0m | \u001b[0m 262.4   \u001b[0m | \u001b[0m 1.0     \u001b[0m |\n",
      "| \u001b[0m 26      \u001b[0m | \u001b[0m-0.6358  \u001b[0m | \u001b[0m 0.5     \u001b[0m | \u001b[0m 5.0     \u001b[0m | \u001b[0m 0.01    \u001b[0m | \u001b[0m 10.0    \u001b[0m | \u001b[0m 8.655   \u001b[0m | \u001b[0m 254.2   \u001b[0m | \u001b[0m 1.0     \u001b[0m |\n",
      "| \u001b[0m 27      \u001b[0m | \u001b[0m-2.268   \u001b[0m | \u001b[0m 0.5137  \u001b[0m | \u001b[0m 3.956   \u001b[0m | \u001b[0m 0.3908  \u001b[0m | \u001b[0m 3.403   \u001b[0m | \u001b[0m 11.76   \u001b[0m | \u001b[0m 261.8   \u001b[0m | \u001b[0m 0.927   \u001b[0m |\n",
      "| \u001b[0m 28      \u001b[0m | \u001b[0m-0.5766  \u001b[0m | \u001b[0m 0.7775  \u001b[0m | \u001b[0m 1.222   \u001b[0m | \u001b[0m 0.2467  \u001b[0m | \u001b[0m 8.588   \u001b[0m | \u001b[0m 1.539   \u001b[0m | \u001b[0m 252.1   \u001b[0m | \u001b[0m 0.8424  \u001b[0m |\n",
      "| \u001b[0m 29      \u001b[0m | \u001b[0m-1.155   \u001b[0m | \u001b[0m 0.7865  \u001b[0m | \u001b[0m 1.074   \u001b[0m | \u001b[0m 0.06901 \u001b[0m | \u001b[0m 9.555   \u001b[0m | \u001b[0m 9.376   \u001b[0m | \u001b[0m 242.8   \u001b[0m | \u001b[0m 0.9781  \u001b[0m |\n",
      "| \u001b[0m 30      \u001b[0m | \u001b[0m-3.049   \u001b[0m | \u001b[0m 1.0     \u001b[0m | \u001b[0m 0.1     \u001b[0m | \u001b[0m 0.01    \u001b[0m | \u001b[0m 10.0    \u001b[0m | \u001b[0m 10.7    \u001b[0m | \u001b[0m 460.9   \u001b[0m | \u001b[0m 1.0     \u001b[0m |\n",
      "| \u001b[0m 31      \u001b[0m | \u001b[0m-1.808   \u001b[0m | \u001b[0m 0.8163  \u001b[0m | \u001b[0m 3.434   \u001b[0m | \u001b[0m 0.4357  \u001b[0m | \u001b[0m 3.121   \u001b[0m | \u001b[0m 0.286   \u001b[0m | \u001b[0m 239.3   \u001b[0m | \u001b[0m 0.5135  \u001b[0m |\n",
      "| \u001b[0m 32      \u001b[0m | \u001b[0m-0.2195  \u001b[0m | \u001b[0m 0.5     \u001b[0m | \u001b[0m 0.1     \u001b[0m | \u001b[0m 0.01    \u001b[0m | \u001b[0m 10.0    \u001b[0m | \u001b[0m 1.173   \u001b[0m | \u001b[0m 305.8   \u001b[0m | \u001b[0m 1.0     \u001b[0m |\n",
      "| \u001b[0m 33      \u001b[0m | \u001b[0m-2.201   \u001b[0m | \u001b[0m 0.8369  \u001b[0m | \u001b[0m 4.956   \u001b[0m | \u001b[0m 0.1418  \u001b[0m | \u001b[0m 3.698   \u001b[0m | \u001b[0m 5.577   \u001b[0m | \u001b[0m 309.2   \u001b[0m | \u001b[0m 0.7588  \u001b[0m |\n",
      "| \u001b[0m 34      \u001b[0m | \u001b[0m-0.4032  \u001b[0m | \u001b[0m 0.5     \u001b[0m | \u001b[0m 5.0     \u001b[0m | \u001b[0m 0.5     \u001b[0m | \u001b[0m 10.0    \u001b[0m | \u001b[0m 0.0     \u001b[0m | \u001b[0m 299.3   \u001b[0m | \u001b[0m 1.0     \u001b[0m |\n",
      "| \u001b[0m 35      \u001b[0m | \u001b[0m-0.3477  \u001b[0m | \u001b[0m 1.0     \u001b[0m | \u001b[0m 0.1     \u001b[0m | \u001b[0m 0.01    \u001b[0m | \u001b[0m 10.0    \u001b[0m | \u001b[0m 6.57    \u001b[0m | \u001b[0m 300.0   \u001b[0m | \u001b[0m 1.0     \u001b[0m |\n",
      "| \u001b[0m 36      \u001b[0m | \u001b[0m-3.486   \u001b[0m | \u001b[0m 0.5764  \u001b[0m | \u001b[0m 2.57    \u001b[0m | \u001b[0m 0.1823  \u001b[0m | \u001b[0m 5.312   \u001b[0m | \u001b[0m 13.13   \u001b[0m | \u001b[0m 563.5   \u001b[0m | \u001b[0m 0.7072  \u001b[0m |\n",
      "| \u001b[0m 37      \u001b[0m | \u001b[0m-2.16    \u001b[0m | \u001b[0m 0.5     \u001b[0m | \u001b[0m 0.1     \u001b[0m | \u001b[0m 0.5     \u001b[0m | \u001b[0m 10.0    \u001b[0m | \u001b[0m 20.0    \u001b[0m | \u001b[0m 302.6   \u001b[0m | \u001b[0m 1.0     \u001b[0m |\n",
      "| \u001b[0m 38      \u001b[0m | \u001b[0m-12.82   \u001b[0m | \u001b[0m 0.648   \u001b[0m | \u001b[0m 4.954   \u001b[0m | \u001b[0m 0.1504  \u001b[0m | \u001b[0m 4.285   \u001b[0m | \u001b[0m 19.89   \u001b[0m | \u001b[0m 594.5   \u001b[0m | \u001b[0m 0.5533  \u001b[0m |\n",
      "| \u001b[0m 39      \u001b[0m | \u001b[0m-0.08416 \u001b[0m | \u001b[0m 0.5     \u001b[0m | \u001b[0m 0.1     \u001b[0m | \u001b[0m 0.01    \u001b[0m | \u001b[0m 10.0    \u001b[0m | \u001b[0m 0.0     \u001b[0m | \u001b[0m 265.6   \u001b[0m | \u001b[0m 1.0     \u001b[0m |\n",
      "| \u001b[0m 40      \u001b[0m | \u001b[0m-3.142   \u001b[0m | \u001b[0m 0.9957  \u001b[0m | \u001b[0m 2.351   \u001b[0m | \u001b[0m 0.2292  \u001b[0m | \u001b[0m 9.44    \u001b[0m | \u001b[0m 12.62   \u001b[0m | \u001b[0m 966.6   \u001b[0m | \u001b[0m 0.6022  \u001b[0m |\n",
      "| \u001b[0m 41      \u001b[0m | \u001b[0m-36.28   \u001b[0m | \u001b[0m 1.0     \u001b[0m | \u001b[0m 5.0     \u001b[0m | \u001b[0m 0.5     \u001b[0m | \u001b[0m 3.0     \u001b[0m | \u001b[0m 20.0    \u001b[0m | \u001b[0m 243.6   \u001b[0m | \u001b[0m 0.5     \u001b[0m |\n",
      "| \u001b[0m 42      \u001b[0m | \u001b[0m-1.017   \u001b[0m | \u001b[0m 0.5688  \u001b[0m | \u001b[0m 0.6013  \u001b[0m | \u001b[0m 0.351   \u001b[0m | \u001b[0m 9.368   \u001b[0m | \u001b[0m 0.7195  \u001b[0m | \u001b[0m 241.1   \u001b[0m | \u001b[0m 0.5489  \u001b[0m |\n",
      "| \u001b[0m 43      \u001b[0m | \u001b[0m-1.434   \u001b[0m | \u001b[0m 0.6116  \u001b[0m | \u001b[0m 1.593   \u001b[0m | \u001b[0m 0.4569  \u001b[0m | \u001b[0m 9.88    \u001b[0m | \u001b[0m 4.854   \u001b[0m | \u001b[0m 245.5   \u001b[0m | \u001b[0m 0.7539  \u001b[0m |\n",
      "| \u001b[0m 44      \u001b[0m | \u001b[0m-0.364   \u001b[0m | \u001b[0m 0.8712  \u001b[0m | \u001b[0m 0.7478  \u001b[0m | \u001b[0m 0.01616 \u001b[0m | \u001b[0m 8.623   \u001b[0m | \u001b[0m 3.296   \u001b[0m | \u001b[0m 228.5   \u001b[0m | \u001b[0m 0.9862  \u001b[0m |\n"
     ]
    },
    {
     "name": "stdout",
     "output_type": "stream",
     "text": [
      "| \u001b[0m 45      \u001b[0m | \u001b[0m-1.092   \u001b[0m | \u001b[0m 0.7086  \u001b[0m | \u001b[0m 1.032   \u001b[0m | \u001b[0m 0.3877  \u001b[0m | \u001b[0m 9.867   \u001b[0m | \u001b[0m 6.314   \u001b[0m | \u001b[0m 237.0   \u001b[0m | \u001b[0m 0.686   \u001b[0m |\n",
      "| \u001b[0m 46      \u001b[0m | \u001b[0m-0.7038  \u001b[0m | \u001b[0m 0.8048  \u001b[0m | \u001b[0m 2.075   \u001b[0m | \u001b[0m 0.2923  \u001b[0m | \u001b[0m 5.885   \u001b[0m | \u001b[0m 0.4002  \u001b[0m | \u001b[0m 937.2   \u001b[0m | \u001b[0m 0.8274  \u001b[0m |\n",
      "| \u001b[0m 47      \u001b[0m | \u001b[0m-2.33    \u001b[0m | \u001b[0m 0.6576  \u001b[0m | \u001b[0m 0.1488  \u001b[0m | \u001b[0m 0.23    \u001b[0m | \u001b[0m 9.006   \u001b[0m | \u001b[0m 13.01   \u001b[0m | \u001b[0m 934.2   \u001b[0m | \u001b[0m 0.7271  \u001b[0m |\n",
      "| \u001b[0m 48      \u001b[0m | \u001b[0m-2.331   \u001b[0m | \u001b[0m 0.9043  \u001b[0m | \u001b[0m 3.215   \u001b[0m | \u001b[0m 0.3923  \u001b[0m | \u001b[0m 3.976   \u001b[0m | \u001b[0m 0.1069  \u001b[0m | \u001b[0m 923.7   \u001b[0m | \u001b[0m 0.5957  \u001b[0m |\n",
      "| \u001b[0m 49      \u001b[0m | \u001b[0m-1.425   \u001b[0m | \u001b[0m 0.9554  \u001b[0m | \u001b[0m 4.442   \u001b[0m | \u001b[0m 0.1849  \u001b[0m | \u001b[0m 9.186   \u001b[0m | \u001b[0m 0.2508  \u001b[0m | \u001b[0m 949.8   \u001b[0m | \u001b[0m 0.5515  \u001b[0m |\n",
      "| \u001b[0m 50      \u001b[0m | \u001b[0m-2.018   \u001b[0m | \u001b[0m 0.9383  \u001b[0m | \u001b[0m 0.3617  \u001b[0m | \u001b[0m 0.3638  \u001b[0m | \u001b[0m 8.496   \u001b[0m | \u001b[0m 3.457   \u001b[0m | \u001b[0m 526.1   \u001b[0m | \u001b[0m 0.583   \u001b[0m |\n",
      "| \u001b[0m 51      \u001b[0m | \u001b[0m-0.8258  \u001b[0m | \u001b[0m 0.6039  \u001b[0m | \u001b[0m 4.949   \u001b[0m | \u001b[0m 0.186   \u001b[0m | \u001b[0m 9.915   \u001b[0m | \u001b[0m 2.378   \u001b[0m | \u001b[0m 260.9   \u001b[0m | \u001b[0m 0.9528  \u001b[0m |\n",
      "| \u001b[0m 52      \u001b[0m | \u001b[0m-3.766   \u001b[0m | \u001b[0m 0.5     \u001b[0m | \u001b[0m 0.1     \u001b[0m | \u001b[0m 0.5     \u001b[0m | \u001b[0m 3.0     \u001b[0m | \u001b[0m 19.39   \u001b[0m | \u001b[0m 532.6   \u001b[0m | \u001b[0m 0.5     \u001b[0m |\n",
      "| \u001b[0m 53      \u001b[0m | \u001b[0m-0.3789  \u001b[0m | \u001b[0m 1.0     \u001b[0m | \u001b[0m 0.1     \u001b[0m | \u001b[0m 0.01    \u001b[0m | \u001b[0m 10.0    \u001b[0m | \u001b[0m 0.0     \u001b[0m | \u001b[0m 220.3   \u001b[0m | \u001b[0m 1.0     \u001b[0m |\n",
      "| \u001b[0m 54      \u001b[0m | \u001b[0m-21.34   \u001b[0m | \u001b[0m 1.0     \u001b[0m | \u001b[0m 0.1     \u001b[0m | \u001b[0m 0.01    \u001b[0m | \u001b[0m 3.114   \u001b[0m | \u001b[0m 0.0     \u001b[0m | \u001b[0m 499.9   \u001b[0m | \u001b[0m 1.0     \u001b[0m |\n",
      "| \u001b[0m 55      \u001b[0m | \u001b[0m-0.4032  \u001b[0m | \u001b[0m 0.5     \u001b[0m | \u001b[0m 0.1     \u001b[0m | \u001b[0m 0.5     \u001b[0m | \u001b[0m 10.0    \u001b[0m | \u001b[0m 0.0     \u001b[0m | \u001b[0m 322.4   \u001b[0m | \u001b[0m 1.0     \u001b[0m |\n",
      "| \u001b[0m 56      \u001b[0m | \u001b[0m-1.846   \u001b[0m | \u001b[0m 0.5     \u001b[0m | \u001b[0m 0.1     \u001b[0m | \u001b[0m 0.5     \u001b[0m | \u001b[0m 10.0    \u001b[0m | \u001b[0m 12.49   \u001b[0m | \u001b[0m 322.3   \u001b[0m | \u001b[0m 1.0     \u001b[0m |\n",
      "| \u001b[0m 57      \u001b[0m | \u001b[0m-2.97    \u001b[0m | \u001b[0m 0.6345  \u001b[0m | \u001b[0m 4.625   \u001b[0m | \u001b[0m 0.1073  \u001b[0m | \u001b[0m 3.249   \u001b[0m | \u001b[0m 1.113   \u001b[0m | \u001b[0m 329.5   \u001b[0m | \u001b[0m 0.5278  \u001b[0m |\n",
      "| \u001b[0m 58      \u001b[0m | \u001b[0m-1.057   \u001b[0m | \u001b[0m 1.0     \u001b[0m | \u001b[0m 0.1     \u001b[0m | \u001b[0m 0.01    \u001b[0m | \u001b[0m 10.0    \u001b[0m | \u001b[0m 0.0     \u001b[0m | \u001b[0m 1e+03   \u001b[0m | \u001b[0m 1.0     \u001b[0m |\n",
      "| \u001b[0m 59      \u001b[0m | \u001b[0m-0.772   \u001b[0m | \u001b[0m 0.542   \u001b[0m | \u001b[0m 1.035   \u001b[0m | \u001b[0m 0.09731 \u001b[0m | \u001b[0m 5.336   \u001b[0m | \u001b[0m 0.2285  \u001b[0m | \u001b[0m 986.1   \u001b[0m | \u001b[0m 0.5937  \u001b[0m |\n",
      "| \u001b[0m 60      \u001b[0m | \u001b[0m-1.907   \u001b[0m | \u001b[0m 0.8067  \u001b[0m | \u001b[0m 4.132   \u001b[0m | \u001b[0m 0.342   \u001b[0m | \u001b[0m 3.494   \u001b[0m | \u001b[0m 0.06381 \u001b[0m | \u001b[0m 993.9   \u001b[0m | \u001b[0m 0.626   \u001b[0m |\n",
      "| \u001b[0m 61      \u001b[0m | \u001b[0m-1.071   \u001b[0m | \u001b[0m 0.944   \u001b[0m | \u001b[0m 0.7053  \u001b[0m | \u001b[0m 0.07511 \u001b[0m | \u001b[0m 4.125   \u001b[0m | \u001b[0m 0.3868  \u001b[0m | \u001b[0m 972.3   \u001b[0m | \u001b[0m 0.9322  \u001b[0m |\n",
      "| \u001b[0m 62      \u001b[0m | \u001b[0m-1.372   \u001b[0m | \u001b[0m 0.738   \u001b[0m | \u001b[0m 4.464   \u001b[0m | \u001b[0m 0.3687  \u001b[0m | \u001b[0m 3.102   \u001b[0m | \u001b[0m 0.1944  \u001b[0m | \u001b[0m 223.3   \u001b[0m | \u001b[0m 0.778   \u001b[0m |\n",
      "| \u001b[0m 63      \u001b[0m | \u001b[0m-5.959   \u001b[0m | \u001b[0m 0.5449  \u001b[0m | \u001b[0m 3.328   \u001b[0m | \u001b[0m 0.08375 \u001b[0m | \u001b[0m 7.284   \u001b[0m | \u001b[0m 19.09   \u001b[0m | \u001b[0m 905.0   \u001b[0m | \u001b[0m 0.6455  \u001b[0m |\n",
      "| \u001b[0m 64      \u001b[0m | \u001b[0m-1.603   \u001b[0m | \u001b[0m 0.73    \u001b[0m | \u001b[0m 1.26    \u001b[0m | \u001b[0m 0.4528  \u001b[0m | \u001b[0m 3.883   \u001b[0m | \u001b[0m 1.789   \u001b[0m | \u001b[0m 753.4   \u001b[0m | \u001b[0m 0.8948  \u001b[0m |\n",
      "| \u001b[0m 65      \u001b[0m | \u001b[0m-0.7749  \u001b[0m | \u001b[0m 0.7998  \u001b[0m | \u001b[0m 2.674   \u001b[0m | \u001b[0m 0.3406  \u001b[0m | \u001b[0m 5.909   \u001b[0m | \u001b[0m 6.272   \u001b[0m | \u001b[0m 737.6   \u001b[0m | \u001b[0m 0.7717  \u001b[0m |\n",
      "| \u001b[0m 66      \u001b[0m | \u001b[0m-3.022   \u001b[0m | \u001b[0m 0.5363  \u001b[0m | \u001b[0m 1.199   \u001b[0m | \u001b[0m 0.4098  \u001b[0m | \u001b[0m 6.87    \u001b[0m | \u001b[0m 16.45   \u001b[0m | \u001b[0m 745.8   \u001b[0m | \u001b[0m 0.7841  \u001b[0m |\n",
      "| \u001b[0m 67      \u001b[0m | \u001b[0m-10.85   \u001b[0m | \u001b[0m 1.0     \u001b[0m | \u001b[0m 0.1     \u001b[0m | \u001b[0m 0.01    \u001b[0m | \u001b[0m 3.0     \u001b[0m | \u001b[0m 0.0     \u001b[0m | \u001b[0m 726.7   \u001b[0m | \u001b[0m 1.0     \u001b[0m |\n",
      "| \u001b[0m 68      \u001b[0m | \u001b[0m-1.091   \u001b[0m | \u001b[0m 0.5679  \u001b[0m | \u001b[0m 4.129   \u001b[0m | \u001b[0m 0.08124 \u001b[0m | \u001b[0m 9.528   \u001b[0m | \u001b[0m 4.653   \u001b[0m | \u001b[0m 744.3   \u001b[0m | \u001b[0m 0.763   \u001b[0m |\n",
      "| \u001b[0m 69      \u001b[0m | \u001b[0m-2.638   \u001b[0m | \u001b[0m 0.5     \u001b[0m | \u001b[0m 0.1     \u001b[0m | \u001b[0m 0.5     \u001b[0m | \u001b[0m 10.0    \u001b[0m | \u001b[0m 20.0    \u001b[0m | \u001b[0m 573.2   \u001b[0m | \u001b[0m 0.5     \u001b[0m |\n",
      "| \u001b[0m 70      \u001b[0m | \u001b[0m-1.341   \u001b[0m | \u001b[0m 0.9714  \u001b[0m | \u001b[0m 2.244   \u001b[0m | \u001b[0m 0.2584  \u001b[0m | \u001b[0m 4.156   \u001b[0m | \u001b[0m 1.63    \u001b[0m | \u001b[0m 771.5   \u001b[0m | \u001b[0m 0.5139  \u001b[0m |\n",
      "| \u001b[0m 71      \u001b[0m | \u001b[0m-3.72    \u001b[0m | \u001b[0m 1.0     \u001b[0m | \u001b[0m 5.0     \u001b[0m | \u001b[0m 0.01    \u001b[0m | \u001b[0m 10.0    \u001b[0m | \u001b[0m 15.02   \u001b[0m | \u001b[0m 774.1   \u001b[0m | \u001b[0m 1.0     \u001b[0m |\n",
      "| \u001b[0m 72      \u001b[0m | \u001b[0m-1.728   \u001b[0m | \u001b[0m 0.5     \u001b[0m | \u001b[0m 0.1     \u001b[0m | \u001b[0m 0.5     \u001b[0m | \u001b[0m 3.0     \u001b[0m | \u001b[0m 0.0     \u001b[0m | \u001b[0m 786.8   \u001b[0m | \u001b[0m 0.5     \u001b[0m |\n",
      "| \u001b[0m 73      \u001b[0m | \u001b[0m-1.791   \u001b[0m | \u001b[0m 0.7143  \u001b[0m | \u001b[0m 4.694   \u001b[0m | \u001b[0m 0.4292  \u001b[0m | \u001b[0m 9.852   \u001b[0m | \u001b[0m 4.767   \u001b[0m | \u001b[0m 981.5   \u001b[0m | \u001b[0m 0.618   \u001b[0m |\n",
      "| \u001b[0m 74      \u001b[0m | \u001b[0m-0.7892  \u001b[0m | \u001b[0m 0.747   \u001b[0m | \u001b[0m 3.278   \u001b[0m | \u001b[0m 0.2741  \u001b[0m | \u001b[0m 5.068   \u001b[0m | \u001b[0m 1.355   \u001b[0m | \u001b[0m 805.0   \u001b[0m | \u001b[0m 0.8631  \u001b[0m |\n",
      "| \u001b[0m 75      \u001b[0m | \u001b[0m-4.143   \u001b[0m | \u001b[0m 0.5     \u001b[0m | \u001b[0m 0.1     \u001b[0m | \u001b[0m 0.5     \u001b[0m | \u001b[0m 3.0     \u001b[0m | \u001b[0m 12.72   \u001b[0m | \u001b[0m 800.5   \u001b[0m | \u001b[0m 0.5     \u001b[0m |\n",
      "| \u001b[0m 76      \u001b[0m | \u001b[0m-1.03    \u001b[0m | \u001b[0m 1.0     \u001b[0m | \u001b[0m 5.0     \u001b[0m | \u001b[0m 0.01    \u001b[0m | \u001b[0m 10.0    \u001b[0m | \u001b[0m 0.0     \u001b[0m | \u001b[0m 816.3   \u001b[0m | \u001b[0m 1.0     \u001b[0m |\n",
      "| \u001b[0m 77      \u001b[0m | \u001b[0m-3.596   \u001b[0m | \u001b[0m 0.8084  \u001b[0m | \u001b[0m 3.335   \u001b[0m | \u001b[0m 0.0414  \u001b[0m | \u001b[0m 3.241   \u001b[0m | \u001b[0m 10.82   \u001b[0m | \u001b[0m 824.1   \u001b[0m | \u001b[0m 1.0     \u001b[0m |\n",
      "| \u001b[0m 78      \u001b[0m | \u001b[0m-2.449   \u001b[0m | \u001b[0m 0.9792  \u001b[0m | \u001b[0m 1.781   \u001b[0m | \u001b[0m 0.4411  \u001b[0m | \u001b[0m 8.292   \u001b[0m | \u001b[0m 1.846   \u001b[0m | \u001b[0m 100.9   \u001b[0m | \u001b[0m 0.6766  \u001b[0m |\n",
      "| \u001b[0m 79      \u001b[0m | \u001b[0m-1.473   \u001b[0m | \u001b[0m 0.9778  \u001b[0m | \u001b[0m 1.967   \u001b[0m | \u001b[0m 0.2735  \u001b[0m | \u001b[0m 5.251   \u001b[0m | \u001b[0m 19.24   \u001b[0m | \u001b[0m 111.7   \u001b[0m | \u001b[0m 0.749   \u001b[0m |\n",
      "| \u001b[0m 80      \u001b[0m | \u001b[0m-4.897   \u001b[0m | \u001b[0m 0.5     \u001b[0m | \u001b[0m 5.0     \u001b[0m | \u001b[0m 0.01    \u001b[0m | \u001b[0m 3.0     \u001b[0m | \u001b[0m 7.188   \u001b[0m | \u001b[0m 120.3   \u001b[0m | \u001b[0m 1.0     \u001b[0m |\n",
      "| \u001b[0m 81      \u001b[0m | \u001b[0m-79.73   \u001b[0m | \u001b[0m 0.5     \u001b[0m | \u001b[0m 5.0     \u001b[0m | \u001b[0m 0.5     \u001b[0m | \u001b[0m 10.0    \u001b[0m | \u001b[0m 20.0    \u001b[0m | \u001b[0m 100.0   \u001b[0m | \u001b[0m 0.5     \u001b[0m |\n",
      "| \u001b[0m 82      \u001b[0m | \u001b[0m-1.289   \u001b[0m | \u001b[0m 0.6466  \u001b[0m | \u001b[0m 2.006   \u001b[0m | \u001b[0m 0.3537  \u001b[0m | \u001b[0m 4.407   \u001b[0m | \u001b[0m 18.55   \u001b[0m | \u001b[0m 117.7   \u001b[0m | \u001b[0m 0.9858  \u001b[0m |\n",
      "| \u001b[0m 83      \u001b[0m | \u001b[0m-2.858   \u001b[0m | \u001b[0m 1.0     \u001b[0m | \u001b[0m 0.1     \u001b[0m | \u001b[0m 0.1292  \u001b[0m | \u001b[0m 3.0     \u001b[0m | \u001b[0m 0.0     \u001b[0m | \u001b[0m 108.0   \u001b[0m | \u001b[0m 0.9327  \u001b[0m |\n",
      "| \u001b[0m 84      \u001b[0m | \u001b[0m-1.025   \u001b[0m | \u001b[0m 1.0     \u001b[0m | \u001b[0m 5.0     \u001b[0m | \u001b[0m 0.01    \u001b[0m | \u001b[0m 10.0    \u001b[0m | \u001b[0m 0.0     \u001b[0m | \u001b[0m 795.3   \u001b[0m | \u001b[0m 1.0     \u001b[0m |\n",
      "| \u001b[0m 85      \u001b[0m | \u001b[0m-5.506   \u001b[0m | \u001b[0m 0.9387  \u001b[0m | \u001b[0m 0.194   \u001b[0m | \u001b[0m 0.3971  \u001b[0m | \u001b[0m 4.814   \u001b[0m | \u001b[0m 19.36   \u001b[0m | \u001b[0m 114.5   \u001b[0m | \u001b[0m 0.7296  \u001b[0m |\n",
      "| \u001b[0m 86      \u001b[0m | \u001b[0m-3.77    \u001b[0m | \u001b[0m 0.8317  \u001b[0m | \u001b[0m 4.593   \u001b[0m | \u001b[0m 0.04187 \u001b[0m | \u001b[0m 3.603   \u001b[0m | \u001b[0m 17.5    \u001b[0m | \u001b[0m 113.3   \u001b[0m | \u001b[0m 0.9969  \u001b[0m |\n",
      "| \u001b[0m 87      \u001b[0m | \u001b[0m-31.29   \u001b[0m | \u001b[0m 0.7619  \u001b[0m | \u001b[0m 3.416   \u001b[0m | \u001b[0m 0.1444  \u001b[0m | \u001b[0m 6.621   \u001b[0m | \u001b[0m 18.25   \u001b[0m | \u001b[0m 125.0   \u001b[0m | \u001b[0m 0.5832  \u001b[0m |\n",
      "| \u001b[0m 88      \u001b[0m | \u001b[0m-1.003   \u001b[0m | \u001b[0m 0.5     \u001b[0m | \u001b[0m 0.1     \u001b[0m | \u001b[0m 0.5     \u001b[0m | \u001b[0m 10.0    \u001b[0m | \u001b[0m 4.524   \u001b[0m | \u001b[0m 315.1   \u001b[0m | \u001b[0m 1.0     \u001b[0m |\n",
      "| \u001b[0m 89      \u001b[0m | \u001b[0m-1.309   \u001b[0m | \u001b[0m 0.9017  \u001b[0m | \u001b[0m 0.355   \u001b[0m | \u001b[0m 0.09776 \u001b[0m | \u001b[0m 3.452   \u001b[0m | \u001b[0m 2.244   \u001b[0m | \u001b[0m 300.7   \u001b[0m | \u001b[0m 0.7683  \u001b[0m |\n",
      "| \u001b[0m 90      \u001b[0m | \u001b[0m-2.27    \u001b[0m | \u001b[0m 0.7885  \u001b[0m | \u001b[0m 0.1442  \u001b[0m | \u001b[0m 0.03284 \u001b[0m | \u001b[0m 3.479   \u001b[0m | \u001b[0m 4.402   \u001b[0m | \u001b[0m 944.6   \u001b[0m | \u001b[0m 0.918   \u001b[0m |\n"
     ]
    },
    {
     "name": "stdout",
     "output_type": "stream",
     "text": [
      "| \u001b[0m 91      \u001b[0m | \u001b[0m-16.61   \u001b[0m | \u001b[0m 0.5     \u001b[0m | \u001b[0m 0.1     \u001b[0m | \u001b[0m 0.01    \u001b[0m | \u001b[0m 3.0     \u001b[0m | \u001b[0m 3.229   \u001b[0m | \u001b[0m 267.6   \u001b[0m | \u001b[0m 0.5     \u001b[0m |\n",
      "| \u001b[0m 92      \u001b[0m | \u001b[0m-1.053   \u001b[0m | \u001b[0m 0.6057  \u001b[0m | \u001b[0m 2.606   \u001b[0m | \u001b[0m 0.2423  \u001b[0m | \u001b[0m 8.744   \u001b[0m | \u001b[0m 6.879   \u001b[0m | \u001b[0m 220.8   \u001b[0m | \u001b[0m 0.9479  \u001b[0m |\n",
      "| \u001b[0m 93      \u001b[0m | \u001b[0m-1.043   \u001b[0m | \u001b[0m 1.0     \u001b[0m | \u001b[0m 0.1     \u001b[0m | \u001b[0m 0.5     \u001b[0m | \u001b[0m 10.0    \u001b[0m | \u001b[0m 6.353   \u001b[0m | \u001b[0m 256.6   \u001b[0m | \u001b[0m 1.0     \u001b[0m |\n",
      "| \u001b[0m 94      \u001b[0m | \u001b[0m-1.147   \u001b[0m | \u001b[0m 0.5394  \u001b[0m | \u001b[0m 2.679   \u001b[0m | \u001b[0m 0.04024 \u001b[0m | \u001b[0m 9.999   \u001b[0m | \u001b[0m 5.965   \u001b[0m | \u001b[0m 993.2   \u001b[0m | \u001b[0m 0.7189  \u001b[0m |\n",
      "| \u001b[0m 95      \u001b[0m | \u001b[0m-1.183   \u001b[0m | \u001b[0m 0.918   \u001b[0m | \u001b[0m 4.435   \u001b[0m | \u001b[0m 0.1677  \u001b[0m | \u001b[0m 3.124   \u001b[0m | \u001b[0m 0.1951  \u001b[0m | \u001b[0m 254.7   \u001b[0m | \u001b[0m 0.8643  \u001b[0m |\n",
      "| \u001b[0m 96      \u001b[0m | \u001b[0m-2.105   \u001b[0m | \u001b[0m 1.0     \u001b[0m | \u001b[0m 0.1     \u001b[0m | \u001b[0m 0.5     \u001b[0m | \u001b[0m 10.0    \u001b[0m | \u001b[0m 5.086   \u001b[0m | \u001b[0m 810.6   \u001b[0m | \u001b[0m 0.5     \u001b[0m |\n",
      "| \u001b[0m 97      \u001b[0m | \u001b[0m-1.539   \u001b[0m | \u001b[0m 0.5     \u001b[0m | \u001b[0m 5.0     \u001b[0m | \u001b[0m 0.5     \u001b[0m | \u001b[0m 10.0    \u001b[0m | \u001b[0m 6.249   \u001b[0m | \u001b[0m 941.2   \u001b[0m | \u001b[0m 0.5     \u001b[0m |\n",
      "| \u001b[0m 98      \u001b[0m | \u001b[0m-1.089   \u001b[0m | \u001b[0m 0.7191  \u001b[0m | \u001b[0m 4.994   \u001b[0m | \u001b[0m 0.3255  \u001b[0m | \u001b[0m 8.966   \u001b[0m | \u001b[0m 7.195   \u001b[0m | \u001b[0m 295.8   \u001b[0m | \u001b[0m 0.8     \u001b[0m |\n",
      "| \u001b[0m 99      \u001b[0m | \u001b[0m-0.7564  \u001b[0m | \u001b[0m 0.7255  \u001b[0m | \u001b[0m 0.4749  \u001b[0m | \u001b[0m 0.3397  \u001b[0m | \u001b[0m 4.069   \u001b[0m | \u001b[0m 8.518   \u001b[0m | \u001b[0m 978.8   \u001b[0m | \u001b[0m 0.9951  \u001b[0m |\n",
      "| \u001b[0m 100     \u001b[0m | \u001b[0m-13.64   \u001b[0m | \u001b[0m 1.0     \u001b[0m | \u001b[0m 0.1     \u001b[0m | \u001b[0m 0.01    \u001b[0m | \u001b[0m 3.0     \u001b[0m | \u001b[0m 6.215   \u001b[0m | \u001b[0m 744.7   \u001b[0m | \u001b[0m 0.5     \u001b[0m |\n",
      "| \u001b[0m 101     \u001b[0m | \u001b[0m-2.352   \u001b[0m | \u001b[0m 0.9064  \u001b[0m | \u001b[0m 4.541   \u001b[0m | \u001b[0m 0.1838  \u001b[0m | \u001b[0m 9.798   \u001b[0m | \u001b[0m 11.79   \u001b[0m | \u001b[0m 738.6   \u001b[0m | \u001b[0m 0.5418  \u001b[0m |\n",
      "| \u001b[0m 102     \u001b[0m | \u001b[0m-1.139   \u001b[0m | \u001b[0m 0.6325  \u001b[0m | \u001b[0m 1.414   \u001b[0m | \u001b[0m 0.3498  \u001b[0m | \u001b[0m 5.51    \u001b[0m | \u001b[0m 0.1002  \u001b[0m | \u001b[0m 761.3   \u001b[0m | \u001b[0m 0.7641  \u001b[0m |\n",
      "| \u001b[0m 103     \u001b[0m | \u001b[0m-0.884   \u001b[0m | \u001b[0m 0.6567  \u001b[0m | \u001b[0m 4.318   \u001b[0m | \u001b[0m 0.229   \u001b[0m | \u001b[0m 9.652   \u001b[0m | \u001b[0m 1.994   \u001b[0m | \u001b[0m 756.0   \u001b[0m | \u001b[0m 0.757   \u001b[0m |\n",
      "| \u001b[0m 104     \u001b[0m | \u001b[0m-1.406   \u001b[0m | \u001b[0m 0.7481  \u001b[0m | \u001b[0m 4.268   \u001b[0m | \u001b[0m 0.3327  \u001b[0m | \u001b[0m 9.027   \u001b[0m | \u001b[0m 0.09652 \u001b[0m | \u001b[0m 739.0   \u001b[0m | \u001b[0m 0.5325  \u001b[0m |\n",
      "| \u001b[0m 105     \u001b[0m | \u001b[0m-3.374   \u001b[0m | \u001b[0m 0.5     \u001b[0m | \u001b[0m 5.0     \u001b[0m | \u001b[0m 0.5     \u001b[0m | \u001b[0m 10.0    \u001b[0m | \u001b[0m 10.83   \u001b[0m | \u001b[0m 305.7   \u001b[0m | \u001b[0m 0.5     \u001b[0m |\n",
      "| \u001b[0m 106     \u001b[0m | \u001b[0m-2.099   \u001b[0m | \u001b[0m 0.6384  \u001b[0m | \u001b[0m 2.925   \u001b[0m | \u001b[0m 0.03227 \u001b[0m | \u001b[0m 5.083   \u001b[0m | \u001b[0m 9.516   \u001b[0m | \u001b[0m 761.3   \u001b[0m | \u001b[0m 0.7845  \u001b[0m |\n",
      "| \u001b[0m 107     \u001b[0m | \u001b[0m-1.105   \u001b[0m | \u001b[0m 0.5     \u001b[0m | \u001b[0m 5.0     \u001b[0m | \u001b[0m 0.5     \u001b[0m | \u001b[0m 10.0    \u001b[0m | \u001b[0m 5.479   \u001b[0m | \u001b[0m 735.9   \u001b[0m | \u001b[0m 1.0     \u001b[0m |\n",
      "| \u001b[0m 108     \u001b[0m | \u001b[0m-9.748   \u001b[0m | \u001b[0m 1.0     \u001b[0m | \u001b[0m 0.1     \u001b[0m | \u001b[0m 0.01    \u001b[0m | \u001b[0m 3.0     \u001b[0m | \u001b[0m 0.0     \u001b[0m | \u001b[0m 797.1   \u001b[0m | \u001b[0m 1.0     \u001b[0m |\n",
      "| \u001b[0m 109     \u001b[0m | \u001b[0m-1.648   \u001b[0m | \u001b[0m 0.6535  \u001b[0m | \u001b[0m 5.0     \u001b[0m | \u001b[0m 0.3983  \u001b[0m | \u001b[0m 10.0    \u001b[0m | \u001b[0m 0.2197  \u001b[0m | \u001b[0m 783.6   \u001b[0m | \u001b[0m 0.5695  \u001b[0m |\n",
      "| \u001b[0m 110     \u001b[0m | \u001b[0m-2.112   \u001b[0m | \u001b[0m 0.6732  \u001b[0m | \u001b[0m 2.565   \u001b[0m | \u001b[0m 0.4597  \u001b[0m | \u001b[0m 3.142   \u001b[0m | \u001b[0m 1.227   \u001b[0m | \u001b[0m 814.5   \u001b[0m | \u001b[0m 0.8028  \u001b[0m |\n",
      "=============================================================================================================\n"
     ]
    }
   ],
   "source": [
    "import numpy as np\n",
    "from xgboost import XGBClassifier\n",
    "from bayes_opt import BayesianOptimization\n",
    "from sklearn.model_selection import cross_val_score\n",
    "\n",
    "pbounds = {  \n",
    "    'learning_rate': (0.01, 0.5),  \n",
    "    'n_estimators': (100, 1000), \n",
    "    'max_depth': (3, 10),\n",
    "    'min_child_weight': (0, 20),\n",
    "    'subsample': (0.5, 1.0),  \n",
    "    'colsample_bytree': (0.5, 1.0),   \n",
    "    'gamma': (0.1, 5)\n",
    "    # 'reg_lambda': (0, 1000, 'log-uniform'),\n",
    "    # 'reg_alpha': (0, 1.0, 'log-uniform')    \n",
    "}\n",
    "\n",
    "def xgboost_hyper_param(learning_rate, n_estimators, max_depth, min_child_weight, subsample, colsample_bytree, gamma):\n",
    "    max_depth = int(max_depth)\n",
    "    n_estimators = int(n_estimators)\n",
    "    clf = XGBRegressor(\n",
    "        max_depth=max_depth, \n",
    "        min_child_weight= min_child_weight,\n",
    "        learning_rate=learning_rate, \n",
    "        n_estimators=n_estimators, \n",
    "        subsample=subsample, \n",
    "        colsample_bytree=colsample_bytree, \n",
    "        gamma=gamma,\n",
    "        random_state=1,\n",
    "        eval_metric='logloss'\n",
    "        # reg_alpha=reg_alpha,\n",
    "        # reg_lambda=reg_lambda\n",
    "    )\n",
    "    return np.mean(cross_val_score(clf, X_train, y_train, cv=5, scoring='r2'))\n",
    "\n",
    "\n",
    "optimizer_baysein_xgboost = BayesianOptimization( f=xgboost_hyper_param, pbounds=pbounds, random_state=1)\n",
    "# init_points: 초기 랜덤 포인트 갯수\n",
    "# acq='ei': Expected Improvement \n",
    "# xi=0.01: exploration(불확실성이 가장 높은 점 근처에 최적값이 존재할 것이라는 가정으로 계산된 값) 강도 (보통 0.01) \n",
    "optimizer_baysein_xgboost.maximize(init_points=10, n_iter=100, acq='ei', xi=0.01)\n",
    "\n",
    "\n"
   ]
  },
  {
   "cell_type": "code",
   "execution_count": 424,
   "metadata": {
    "scrolled": true
   },
   "outputs": [
    {
     "data": {
      "text/plain": [
       "{'target': -0.07763262940259368,\n",
       " 'params': {'colsample_bytree': 0.5,\n",
       "  'gamma': 5.0,\n",
       "  'learning_rate': 0.01,\n",
       "  'max_depth': 8.467947985623375,\n",
       "  'min_child_weight': 0.0,\n",
       "  'n_estimators': 270.5892332626289,\n",
       "  'subsample': 1.0}}"
      ]
     },
     "execution_count": 424,
     "metadata": {},
     "output_type": "execute_result"
    }
   ],
   "source": [
    "optimizer_baysein_xgboost.max"
   ]
  },
  {
   "cell_type": "code",
   "execution_count": 428,
   "metadata": {},
   "outputs": [],
   "source": [
    "mode_baysein_xgboost = XGBRegressor(\n",
    " colsample_bytree= 0.5,\n",
    "  gamma = 5.0,\n",
    "  learning_rate= 0.01,\n",
    "  max_depth= int(8.467947985623375),\n",
    "  min_child_weight= 0.0,\n",
    "  n_estimators= round(270.5892332626289),\n",
    "  subsample= 1.0)"
   ]
  },
  {
   "cell_type": "code",
   "execution_count": 429,
   "metadata": {},
   "outputs": [],
   "source": [
    "mode_baysein_xgboost.fit(X_train,y_train)\n",
    "mode_baysein_xgboost_predict = mode_baysein_xgboost.predict(X_test)"
   ]
  },
  {
   "cell_type": "code",
   "execution_count": 431,
   "metadata": {},
   "outputs": [
    {
     "name": "stdout",
     "output_type": "stream",
     "text": [
      "mean_squared_log_error =  24.91537349565282\n",
      "r2_score =  0.9472038767192712\n"
     ]
    }
   ],
   "source": [
    "score = make_scorer(mean_squared_log_error)\n",
    "\n",
    "print('mean_squared_log_error = ', score(mode_baysein_xgboost, X_train, y_train))\n",
    "\n",
    "\n",
    "score = make_scorer(r2_score)\n",
    "\n",
    "print('r2_score = ', score(mode_baysein_xgboost, X_train, y_train))"
   ]
  },
  {
   "cell_type": "code",
   "execution_count": 430,
   "metadata": {},
   "outputs": [
    {
     "name": "stdout",
     "output_type": "stream",
     "text": [
      "mean_squared_log_error =  0.8345751184137513\n",
      "r2_score =  0.05151721471456683\n"
     ]
    }
   ],
   "source": [
    "score = make_scorer(mean_squared_log_error)\n",
    "\n",
    "print('mean_squared_log_error = ', score(mode_baysein_xgboost, X_test, y_test))\n",
    "\n",
    "\n",
    "score = make_scorer(r2_score)\n",
    "\n",
    "print('r2_score = ', score(mode_baysein_xgboost, X_test, y_test))"
   ]
  },
  {
   "cell_type": "markdown",
   "metadata": {},
   "source": [
    "### Bayesian Optimization LightGBM 적용"
   ]
  },
  {
   "cell_type": "code",
   "execution_count": 436,
   "metadata": {},
   "outputs": [
    {
     "name": "stdout",
     "output_type": "stream",
     "text": [
      "|   iter    |  target   | colsam... | learni... | max_depth | min_ch... | min_sa... | n_esti... | reg_alpha | reg_la... | subsample |\n",
      "-------------------------------------------------------------------------------------------------------------------------------------\n",
      "| \u001b[95m 2       \u001b[0m | \u001b[95m-1.716e+2\u001b[0m | \u001b[95m 0.7694  \u001b[0m | \u001b[95m 0.2154  \u001b[0m | \u001b[95m 7.797   \u001b[0m | \u001b[95m 2.045   \u001b[0m | \u001b[95m 17.68   \u001b[0m | \u001b[95m 124.6   \u001b[0m | \u001b[95m 0.6705  \u001b[0m | \u001b[95m 417.3   \u001b[0m | \u001b[95m 0.7793  \u001b[0m |\n",
      "| \u001b[95m 12      \u001b[0m | \u001b[95m-1.529e+2\u001b[0m | \u001b[95m 0.8678  \u001b[0m | \u001b[95m 0.1266  \u001b[0m | \u001b[95m 4.345   \u001b[0m | \u001b[95m 0.9895  \u001b[0m | \u001b[95m 4.37    \u001b[0m | \u001b[95m 100.4   \u001b[0m | \u001b[95m 0.3381  \u001b[0m | \u001b[95m 661.5   \u001b[0m | \u001b[95m 0.9486  \u001b[0m |\n",
      "| \u001b[95m 21      \u001b[0m | \u001b[95m-1.425e+2\u001b[0m | \u001b[95m 0.7062  \u001b[0m | \u001b[95m 0.04145 \u001b[0m | \u001b[95m 3.156   \u001b[0m | \u001b[95m 8.928   \u001b[0m | \u001b[95m 4.245   \u001b[0m | \u001b[95m 160.9   \u001b[0m | \u001b[95m 0.03734 \u001b[0m | \u001b[95m 957.5   \u001b[0m | \u001b[95m 0.6605  \u001b[0m |\n",
      "| \u001b[95m 28      \u001b[0m | \u001b[95m-1.416e+2\u001b[0m | \u001b[95m 0.8687  \u001b[0m | \u001b[95m 0.04259 \u001b[0m | \u001b[95m 3.496   \u001b[0m | \u001b[95m 3.538   \u001b[0m | \u001b[95m 18.78   \u001b[0m | \u001b[95m 119.0   \u001b[0m | \u001b[95m 0.5188  \u001b[0m | \u001b[95m 414.1   \u001b[0m | \u001b[95m 0.8207  \u001b[0m |\n",
      "| \u001b[95m 29      \u001b[0m | \u001b[95m-1.378e+2\u001b[0m | \u001b[95m 0.7361  \u001b[0m | \u001b[95m 0.01855 \u001b[0m | \u001b[95m 3.437   \u001b[0m | \u001b[95m 8.428   \u001b[0m | \u001b[95m 4.853   \u001b[0m | \u001b[95m 164.2   \u001b[0m | \u001b[95m 0.06892 \u001b[0m | \u001b[95m 956.5   \u001b[0m | \u001b[95m 0.699   \u001b[0m |\n",
      "| \u001b[95m 34      \u001b[0m | \u001b[95m-1.34e+22\u001b[0m | \u001b[95m 1.0     \u001b[0m | \u001b[95m 0.01    \u001b[0m | \u001b[95m 4.143   \u001b[0m | \u001b[95m 2.262   \u001b[0m | \u001b[95m 19.3    \u001b[0m | \u001b[95m 117.1   \u001b[0m | \u001b[95m 1.0     \u001b[0m | \u001b[95m 417.6   \u001b[0m | \u001b[95m 0.8422  \u001b[0m |\n",
      "| \u001b[95m 40      \u001b[0m | \u001b[95m-1.339e+2\u001b[0m | \u001b[95m 1.0     \u001b[0m | \u001b[95m 0.01    \u001b[0m | \u001b[95m 3.0     \u001b[0m | \u001b[95m 0.5155  \u001b[0m | \u001b[95m 16.38   \u001b[0m | \u001b[95m 116.5   \u001b[0m | \u001b[95m 1.0     \u001b[0m | \u001b[95m 419.7   \u001b[0m | \u001b[95m 1.0     \u001b[0m |\n",
      "| \u001b[95m 42      \u001b[0m | \u001b[95m-1.339e+2\u001b[0m | \u001b[95m 1.0     \u001b[0m | \u001b[95m 0.01    \u001b[0m | \u001b[95m 3.0     \u001b[0m | \u001b[95m 1.527   \u001b[0m | \u001b[95m 16.75   \u001b[0m | \u001b[95m 117.1   \u001b[0m | \u001b[95m 1.0     \u001b[0m | \u001b[95m 417.0   \u001b[0m | \u001b[95m 1.0     \u001b[0m |\n",
      "=====================================================================================================================================\n"
     ]
    }
   ],
   "source": [
    "import numpy as np\n",
    "from xgboost import XGBRegressor\n",
    "from bayes_opt import BayesianOptimization\n",
    "from sklearn.model_selection import cross_val_score\n",
    "from lightgbm import LGBMRegressor\n",
    "pbounds = {  \n",
    "    'learning_rate': (0.01, 0.5),  \n",
    "    'n_estimators': (100, 1000), \n",
    "    'max_depth': (3, 10),\n",
    "    'min_child_weight': (0, 10),    \n",
    "    'subsample': (0.5, 1.0),\n",
    "    'min_samples_leaf' : (1,20),\n",
    "    'colsample_bytree': (0.5, 1.0),\n",
    "    'reg_lambda': (0, 1000),\n",
    "    'reg_alpha': (0, 1.0)\n",
    "}\n",
    "\n",
    "def lgbm_hyper_param(learning_rate, n_estimators, max_depth, min_child_weight, subsample, colsample_bytree,min_samples_leaf,reg_lambda,reg_alpha):\n",
    "    max_depth = int(max_depth)\n",
    "    n_estimators = int(n_estimators)\n",
    "    clf = LGBMRegressor(\n",
    "        max_depth=max_depth,\n",
    "        min_child_weight=min_child_weight,\n",
    "        learning_rate=learning_rate, \n",
    "        n_estimators=n_estimators, \n",
    "        subsample=subsample, \n",
    "        colsample_bytree=colsample_bytree,\n",
    "        random_state=1\n",
    "        # reg_lambda=reg_lambda,        \n",
    "        # reg_alpha=reg_alpha\n",
    "    )\n",
    "    return np.mean(cross_val_score(clf, X_train, y_train, cv=5, scoring='neg_mean_squared_error'))   # cv 도 숫자로 작성하여, 내부적으로 (Stratified)KFold 사용함\n",
    "\n",
    "optimizer_baysein_lightgbm = BayesianOptimization( f=lgbm_hyper_param, pbounds=pbounds, verbose=1, random_state=1)\n",
    "optimizer_baysein_lightgbm.maximize(init_points=10, n_iter=100, acq='ei', xi=0.01)"
   ]
  },
  {
   "cell_type": "code",
   "execution_count": 437,
   "metadata": {},
   "outputs": [
    {
     "data": {
      "text/plain": [
       "{'target': -1.3386271152686441e+22,\n",
       " 'params': {'colsample_bytree': 1.0,\n",
       "  'learning_rate': 0.01,\n",
       "  'max_depth': 3.0,\n",
       "  'min_child_weight': 1.5265364971550224,\n",
       "  'min_samples_leaf': 16.74980264800236,\n",
       "  'n_estimators': 117.07033538647396,\n",
       "  'reg_alpha': 1.0,\n",
       "  'reg_lambda': 416.9833751876486,\n",
       "  'subsample': 1.0}}"
      ]
     },
     "execution_count": 437,
     "metadata": {},
     "output_type": "execute_result"
    }
   ],
   "source": [
    "optimizer_baysein_lightgbm.max"
   ]
  },
  {
   "cell_type": "code",
   "execution_count": 439,
   "metadata": {},
   "outputs": [
    {
     "name": "stdout",
     "output_type": "stream",
     "text": [
      "[16:35:57] WARNING: C:/Users/Administrator/workspace/xgboost-win64_release_1.5.1/src/learner.cc:576: \n",
      "Parameters: { \"min_samples_leaf\" } might not be used.\n",
      "\n",
      "  This could be a false alarm, with some parameters getting used by language bindings but\n",
      "  then being mistakenly passed down to XGBoost core, or some parameter actually being used\n",
      "  but getting flagged wrongly here. Please open an issue if you find any such cases.\n",
      "\n",
      "\n"
     ]
    }
   ],
   "source": [
    "params = {'colsample_bytree': round(0.9526337512385443),\n",
    "  'learning_rate': 0.010247647887474036,\n",
    "  'max_depth': round(7.89238235933958),\n",
    "  'min_child_weight': 8.626929257435314,\n",
    "  'min_samples_leaf': 13.108100454447696,\n",
    "  'n_estimators': round(446.34210021506914),\n",
    "  'reg_alpha': 0.2813365885218613,\n",
    "  'reg_lambda': 332.12650907659867,\n",
    "  'subsample': 0.7102827318607705}\n",
    "\n",
    "\n",
    "XGBR = XGBRegressor(colsample_bytree= 1,\n",
    "  learning_rate= 0.01,\n",
    "  max_depth =  3,\n",
    "  min_child_weight= 1.5265364971550224,\n",
    "  min_samples_leaf= 16.74980264800236,\n",
    "  n_estimators= round(117.07033538647396),\n",
    "  reg_alpha= 1.0,\n",
    "  reg_lambda= 416.9833751876486,\n",
    "  subsample= 1.0).fit(X_train, y_train)\n",
    "XGBR_predict = XGBR.predict(X_test)"
   ]
  },
  {
   "cell_type": "code",
   "execution_count": 440,
   "metadata": {},
   "outputs": [
    {
     "name": "stdout",
     "output_type": "stream",
     "text": [
      "mean_squared_log_error =  1.623172241991888e+22\n",
      "r2_score =  -0.09867275490565808\n"
     ]
    }
   ],
   "source": [
    "score = make_scorer(mean_squared_error)\n",
    "\n",
    "print('mean_squared_log_error = ', score(XGBR, X_train, y_train))\n",
    "\n",
    "\n",
    "score = make_scorer(r2_score)\n",
    "\n",
    "print('r2_score = ', score(XGBR, X_train, y_train))"
   ]
  },
  {
   "cell_type": "code",
   "execution_count": 385,
   "metadata": {},
   "outputs": [
    {
     "data": {
      "text/plain": [
       "array([1.6854599e+10, 2.3762844e+10, 7.5164590e+09, 2.1715263e+10,\n",
       "       4.1527009e+10, 5.3517980e+10, 4.7246561e+10, 4.9657266e+10,\n",
       "       5.3039051e+10, 3.6335395e+10, 4.1463636e+10, 4.3321049e+10,\n",
       "       5.4074991e+10, 5.3881614e+10, 5.3006209e+10, 6.3147790e+10,\n",
       "       6.3368098e+10, 6.3368098e+10, 5.3355381e+10, 6.3368098e+10,\n",
       "       6.3368098e+10, 6.3368098e+10, 5.3646447e+10, 5.3112787e+10,\n",
       "       6.2686499e+10, 6.2193959e+10, 5.2146606e+10, 5.8774327e+10,\n",
       "       6.2091592e+10, 5.7696088e+10, 6.3368098e+10, 6.3368098e+10,\n",
       "       6.2061724e+10, 6.2134579e+10, 3.0089038e+10, 5.9419673e+10,\n",
       "       6.1239525e+10, 6.2223208e+10, 6.2959665e+10, 6.1525987e+10,\n",
       "       6.0729328e+10, 6.1873725e+10, 5.6168657e+10, 5.9067113e+10,\n",
       "       6.1516095e+10, 6.1721076e+10, 6.1245092e+10, 1.6184718e+10],\n",
       "      dtype=float32)"
      ]
     },
     "execution_count": 385,
     "metadata": {},
     "output_type": "execute_result"
    }
   ],
   "source": [
    "XGBR_predict"
   ]
  },
  {
   "cell_type": "markdown",
   "metadata": {},
   "source": [
    "### Bayesian Optimization Random Forest 적용"
   ]
  },
  {
   "cell_type": "code",
   "execution_count": 255,
   "metadata": {},
   "outputs": [
    {
     "data": {
      "text/plain": [
       "day       0\n",
       "month     0\n",
       "year      0\n",
       "hour      0\n",
       "dow       0\n",
       "woy       0\n",
       "실적        0\n",
       "입찰공고차수    0\n",
       "dtype: int64"
      ]
     },
     "execution_count": 255,
     "metadata": {},
     "output_type": "execute_result"
    }
   ],
   "source": [
    "X_train.isnull().sum()"
   ]
  },
  {
   "cell_type": "code",
   "execution_count": 271,
   "metadata": {
    "scrolled": false
   },
   "outputs": [
    {
     "name": "stdout",
     "output_type": "stream",
     "text": [
      "|   iter    |  target   | max_depth | min_sa... | n_esti... |\n",
      "-------------------------------------------------------------\n"
     ]
    }
   ],
   "source": [
    "# import numpy as np\n",
    "# from xgboost import XGBRegressor\n",
    "# from bayes_opt import BayesianOptimization\n",
    "# from sklearn.model_selection import cross_val_score\n",
    "# from lightgbm import LGBMRegressor\n",
    "# pbounds = {\"n_estimators\": (10, 1000),\n",
    "#               \"max_depth\": (1, 150),\n",
    "#               \"min_samples_split\": (2, 10),\n",
    "# }\n",
    "\n",
    "# def RandomForest_hyper_param(n_estimators, max_depth, min_samples_split):\n",
    "#     max_depth = max_depth\n",
    "#     n_estimators = n_estimators\n",
    "#     clf = RandomForestRegressor(\n",
    "#         max_depth=max_depth,\n",
    "#         n_estimators=n_estimators, \n",
    "#         min_samples_split=min_samples_split,\n",
    "#         random_state=1,\n",
    "#         # reg_lambda=reg_lambda,        \n",
    "#         # reg_alpha=reg_alpha\n",
    "#     )\n",
    "#     return np.mean(cross_val_score(clf, X_train, y_train, cv=5, scoring='r2'))   # cv 도 숫자로 작성하여, 내부적으로 (Stratified)KFold 사용함\n",
    "\n",
    "\n",
    "# try:\n",
    "#     optimizer_baysein_randomforest = BayesianOptimization( f=RandomForest_hyper_param, pbounds=pbounds, verbose=1, random_state=1)\n",
    "#     optimizer_baysein_randomforest.maximize(init_points=10, n_iter=100,acq='ei', xi=0.01)\n",
    "# except:\n",
    "#     pass\n"
   ]
  },
  {
   "cell_type": "code",
   "execution_count": 444,
   "metadata": {},
   "outputs": [],
   "source": [
    "mode_baysein_xgboost_model = mode_baysein_xgboost"
   ]
  },
  {
   "cell_type": "code",
   "execution_count": 445,
   "metadata": {},
   "outputs": [],
   "source": [
    "random_model = random_grid_2\n",
    "extra_model = ExtraTreesRegressor(max_depth= 10, min_samples_leaf= 4, min_samples_split= 4, n_estimators=800)"
   ]
  },
  {
   "cell_type": "code",
   "execution_count": 451,
   "metadata": {
    "scrolled": true
   },
   "outputs": [
    {
     "data": {
      "text/plain": [
       "VotingRegressor(estimators=[('XGBoost',\n",
       "                             XGBRegressor(base_score=0.5, booster='gbtree',\n",
       "                                          colsample_bylevel=1,\n",
       "                                          colsample_bynode=1,\n",
       "                                          colsample_bytree=1,\n",
       "                                          enable_categorical=False, gamma=0,\n",
       "                                          gpu_id=-1, importance_type=None,\n",
       "                                          interaction_constraints='',\n",
       "                                          learning_rate=0.02, max_delta_step=0,\n",
       "                                          max_depth=4, min_child_weight=1,\n",
       "                                          min_samples_leaf=12, missing=nan,\n",
       "                                          monotone_constrain...\n",
       "                                          gpu_id=-1, importance_type=None,\n",
       "                                          interaction_constraints='',\n",
       "                                          learning_rate=0.01, max_delta_step=0,\n",
       "                                          max_depth=8, min_child_weight=0.0,\n",
       "                                          missing=nan,\n",
       "                                          monotone_constraints='()',\n",
       "                                          n_estimators=271, n_jobs=12,\n",
       "                                          num_parallel_tree=1, predictor='auto',\n",
       "                                          random_state=0, reg_alpha=0,\n",
       "                                          reg_lambda=1, scale_pos_weight=1,\n",
       "                                          subsample=1.0, tree_method='exact',\n",
       "                                          validate_parameters=1,\n",
       "                                          verbosity=None))],\n",
       "                n_jobs=-1)"
      ]
     },
     "execution_count": 451,
     "metadata": {},
     "output_type": "execute_result"
    }
   ],
   "source": [
    "from sklearn.ensemble import VotingRegressor\n",
    "\n",
    "Voting = VotingRegressor(estimators = [\n",
    "\n",
    "        ('XGBoost', XGB_grid_2),\n",
    "        ('Random Forest', random_model), \n",
    "        ('Extra Trees', extra_model),\n",
    "        ('Baysein_XGboost_model',mode_baysein_xgboost_model)\n",
    "    \n",
    "    ],n_jobs=-1)\n",
    "\n",
    "Voting"
   ]
  },
  {
   "cell_type": "code",
   "execution_count": 452,
   "metadata": {
    "scrolled": false
   },
   "outputs": [
    {
     "data": {
      "text/plain": [
       "VotingRegressor(estimators=[('XGBoost',\n",
       "                             XGBRegressor(base_score=0.5, booster='gbtree',\n",
       "                                          colsample_bylevel=1,\n",
       "                                          colsample_bynode=1,\n",
       "                                          colsample_bytree=1,\n",
       "                                          enable_categorical=False, gamma=0,\n",
       "                                          gpu_id=-1, importance_type=None,\n",
       "                                          interaction_constraints='',\n",
       "                                          learning_rate=0.02, max_delta_step=0,\n",
       "                                          max_depth=4, min_child_weight=1,\n",
       "                                          min_samples_leaf=12, missing=nan,\n",
       "                                          monotone_constrain...\n",
       "                                          gpu_id=-1, importance_type=None,\n",
       "                                          interaction_constraints='',\n",
       "                                          learning_rate=0.01, max_delta_step=0,\n",
       "                                          max_depth=8, min_child_weight=0.0,\n",
       "                                          missing=nan,\n",
       "                                          monotone_constraints='()',\n",
       "                                          n_estimators=271, n_jobs=12,\n",
       "                                          num_parallel_tree=1, predictor='auto',\n",
       "                                          random_state=0, reg_alpha=0,\n",
       "                                          reg_lambda=1, scale_pos_weight=1,\n",
       "                                          subsample=1.0, tree_method='exact',\n",
       "                                          validate_parameters=1,\n",
       "                                          verbosity=None))],\n",
       "                n_jobs=-1)"
      ]
     },
     "execution_count": 452,
     "metadata": {},
     "output_type": "execute_result"
    }
   ],
   "source": [
    "Voting.fit(X_train, y_train)"
   ]
  },
  {
   "cell_type": "code",
   "execution_count": 453,
   "metadata": {},
   "outputs": [],
   "source": [
    "voting_pred = grid_hard.predict(X_test)"
   ]
  },
  {
   "cell_type": "code",
   "execution_count": 454,
   "metadata": {},
   "outputs": [
    {
     "name": "stdout",
     "output_type": "stream",
     "text": [
      "mean_squared_log_error =  37.725463080548295\n",
      "r2_score =  0.7793467732452257\n"
     ]
    }
   ],
   "source": [
    "score = make_scorer(mean_squared_log_error)\n",
    "\n",
    "print('mean_squared_log_error = ', score(Voting, X_train, y_train))\n",
    "\n",
    "\n",
    "score = make_scorer(r2_score)\n",
    "\n",
    "print('r2_score = ', score(Voting, X_train, y_train))"
   ]
  },
  {
   "cell_type": "code",
   "execution_count": 474,
   "metadata": {},
   "outputs": [
    {
     "name": "stdout",
     "output_type": "stream",
     "text": [
      "mean_squared_log_error =  0.7478927526867113\n",
      "r2_score =  0.08150440835384931\n"
     ]
    }
   ],
   "source": [
    "score = make_scorer(mean_squared_log_error)\n",
    "\n",
    "print('mean_squared_log_error = ', score(Voting, X_test, y_test))\n",
    "\n",
    "\n",
    "score = make_scorer(r2_score)\n",
    "\n",
    "print('r2_score = ', score(Voting, X_test, y_test))"
   ]
  },
  {
   "cell_type": "code",
   "execution_count": null,
   "metadata": {},
   "outputs": [],
   "source": []
  },
  {
   "cell_type": "markdown",
   "metadata": {},
   "source": [
    "# 이상치를 포함한 채로 분석을 진행하면 너무 performance가 낮게 나온다...!\n"
   ]
  },
  {
   "cell_type": "code",
   "execution_count": 498,
   "metadata": {},
   "outputs": [],
   "source": [
    "df_mode_baysein_xgboost_train =  pd.DataFrame(mode_baysein_xgboost.predict(X_train),index=X_train.index)\n",
    "df_mode_baysein_xgboost_test =  pd.DataFrame(mode_baysein_xgboost.predict(X_test),index=X_test.index)\n",
    "\n",
    "df_random_grid_extra_2_train =  pd.DataFrame(random_grid_extra_2.predict(X_train),index=X_train.index)\n",
    "df_random_grid_extra_2_test =  pd.DataFrame(random_grid_extra_2.predict(X_test),index=X_test.index)\n",
    "\n",
    "df_Voting_train =  pd.DataFrame(mode_baysein_xgboost.predict(X_train),index=X_train.index)\n",
    "df_Voting_test =  pd.DataFrame(mode_baysein_xgboost.predict(X_test),index=X_test.index)"
   ]
  },
  {
   "cell_type": "code",
   "execution_count": 510,
   "metadata": {},
   "outputs": [
    {
     "data": {
      "application/vnd.plotly.v1+json": {
       "config": {
        "plotlyServerURL": "https://plot.ly"
       },
       "data": [
        {
         "marker": {
          "color": "black"
         },
         "name": "Test_실제값",
         "type": "scatter",
         "x": [
          "2021-01-31T00:00:00",
          "2021-02-07T00:00:00",
          "2021-02-14T00:00:00",
          "2021-02-21T00:00:00",
          "2021-02-28T00:00:00",
          "2021-03-07T00:00:00",
          "2021-03-14T00:00:00",
          "2021-03-21T00:00:00",
          "2021-03-28T00:00:00",
          "2021-04-04T00:00:00",
          "2021-04-11T00:00:00",
          "2021-04-18T00:00:00",
          "2021-04-25T00:00:00",
          "2021-05-02T00:00:00",
          "2021-05-09T00:00:00",
          "2021-05-16T00:00:00",
          "2021-05-23T00:00:00",
          "2021-05-30T00:00:00",
          "2021-06-06T00:00:00",
          "2021-06-13T00:00:00",
          "2021-06-20T00:00:00",
          "2021-06-27T00:00:00",
          "2021-07-04T00:00:00",
          "2021-07-11T00:00:00",
          "2021-07-18T00:00:00",
          "2021-07-25T00:00:00",
          "2021-08-01T00:00:00",
          "2021-08-08T00:00:00",
          "2021-08-15T00:00:00",
          "2021-08-22T00:00:00",
          "2021-08-29T00:00:00",
          "2021-09-05T00:00:00",
          "2021-09-12T00:00:00",
          "2021-09-19T00:00:00",
          "2021-09-26T00:00:00",
          "2021-10-03T00:00:00",
          "2021-10-10T00:00:00",
          "2021-10-17T00:00:00",
          "2021-10-24T00:00:00",
          "2021-10-31T00:00:00",
          "2021-11-07T00:00:00",
          "2021-11-14T00:00:00",
          "2021-11-21T00:00:00",
          "2021-11-28T00:00:00",
          "2021-12-05T00:00:00",
          "2021-12-12T00:00:00",
          "2021-12-19T00:00:00",
          "2021-12-26T00:00:00"
         ],
         "y": [
          7337225706,
          27347055003,
          5074479868,
          39264604792,
          36203780157,
          51839331058,
          30669673771.54,
          45739009942,
          73582825611.17,
          56964762272,
          30855048197,
          26942350541,
          64653359404.08,
          49508927648.24,
          49714439146,
          53517135863,
          61460840150,
          42946292795,
          49412901085.4,
          31304979748,
          141471893764,
          252291423985,
          56772959542.16,
          22215277994,
          64462815909.619995,
          34703041214,
          19283769822,
          49031605859,
          48234089592,
          1028963866214,
          40249971411,
          92184749828.35,
          109165867539,
          60023557380.68,
          14382099050,
          28947858720,
          27828632079,
          29967753378,
          666433590977,
          18579529460,
          40249474993,
          25579625559,
          56024163420,
          177803738211,
          544827856344,
          123515762088,
          133644678872,
          75255235013
         ]
        },
        {
         "marker": {
          "color": "black"
         },
         "name": "Train_실제값",
         "type": "scatter",
         "x": [
          "2017-01-29T00:00:00",
          "2017-02-05T00:00:00",
          "2017-02-12T00:00:00",
          "2017-02-19T00:00:00",
          "2017-02-26T00:00:00",
          "2017-03-05T00:00:00",
          "2017-03-12T00:00:00",
          "2017-03-19T00:00:00",
          "2017-03-26T00:00:00",
          "2017-04-02T00:00:00",
          "2017-04-09T00:00:00",
          "2017-04-16T00:00:00",
          "2017-04-23T00:00:00",
          "2017-04-30T00:00:00",
          "2017-05-07T00:00:00",
          "2017-05-14T00:00:00",
          "2017-05-21T00:00:00",
          "2017-05-28T00:00:00",
          "2017-06-04T00:00:00",
          "2017-06-11T00:00:00",
          "2017-06-18T00:00:00",
          "2017-06-25T00:00:00",
          "2017-07-02T00:00:00",
          "2017-07-09T00:00:00",
          "2017-07-16T00:00:00",
          "2017-07-23T00:00:00",
          "2017-07-30T00:00:00",
          "2017-08-06T00:00:00",
          "2017-08-13T00:00:00",
          "2017-08-20T00:00:00",
          "2017-08-27T00:00:00",
          "2017-09-03T00:00:00",
          "2017-09-10T00:00:00",
          "2017-09-17T00:00:00",
          "2017-09-24T00:00:00",
          "2017-10-01T00:00:00",
          "2017-10-08T00:00:00",
          "2017-10-15T00:00:00",
          "2017-10-22T00:00:00",
          "2017-10-29T00:00:00",
          "2017-11-05T00:00:00",
          "2017-11-12T00:00:00",
          "2017-11-19T00:00:00",
          "2017-11-26T00:00:00",
          "2017-12-03T00:00:00",
          "2017-12-10T00:00:00",
          "2017-12-17T00:00:00",
          "2017-12-24T00:00:00",
          "2017-12-31T00:00:00",
          "2018-01-07T00:00:00",
          "2018-01-14T00:00:00",
          "2018-01-21T00:00:00",
          "2018-01-28T00:00:00",
          "2018-02-04T00:00:00",
          "2018-02-11T00:00:00",
          "2018-02-18T00:00:00",
          "2018-02-25T00:00:00",
          "2018-03-04T00:00:00",
          "2018-03-11T00:00:00",
          "2018-03-18T00:00:00",
          "2018-03-25T00:00:00",
          "2018-04-01T00:00:00",
          "2018-04-08T00:00:00",
          "2018-04-15T00:00:00",
          "2018-04-22T00:00:00",
          "2018-04-29T00:00:00",
          "2018-05-06T00:00:00",
          "2018-05-13T00:00:00",
          "2018-05-20T00:00:00",
          "2018-05-27T00:00:00",
          "2018-06-03T00:00:00",
          "2018-06-10T00:00:00",
          "2018-06-17T00:00:00",
          "2018-06-24T00:00:00",
          "2018-07-01T00:00:00",
          "2018-07-08T00:00:00",
          "2018-07-15T00:00:00",
          "2018-07-22T00:00:00",
          "2018-07-29T00:00:00",
          "2018-08-05T00:00:00",
          "2018-08-12T00:00:00",
          "2018-08-19T00:00:00",
          "2018-08-26T00:00:00",
          "2018-09-02T00:00:00",
          "2018-09-09T00:00:00",
          "2018-09-16T00:00:00",
          "2018-09-23T00:00:00",
          "2018-09-30T00:00:00",
          "2018-10-07T00:00:00",
          "2018-10-14T00:00:00",
          "2018-10-21T00:00:00",
          "2018-10-28T00:00:00",
          "2018-11-04T00:00:00",
          "2018-11-11T00:00:00",
          "2018-11-18T00:00:00",
          "2018-11-25T00:00:00",
          "2018-12-02T00:00:00",
          "2018-12-09T00:00:00",
          "2018-12-16T00:00:00",
          "2018-12-23T00:00:00",
          "2018-12-30T00:00:00",
          "2019-01-06T00:00:00",
          "2019-01-13T00:00:00",
          "2019-01-20T00:00:00",
          "2019-01-27T00:00:00",
          "2019-02-03T00:00:00",
          "2019-02-10T00:00:00",
          "2019-02-17T00:00:00",
          "2019-02-24T00:00:00",
          "2019-03-03T00:00:00",
          "2019-03-10T00:00:00",
          "2019-03-17T00:00:00",
          "2019-03-24T00:00:00",
          "2019-03-31T00:00:00",
          "2019-04-07T00:00:00",
          "2019-04-14T00:00:00",
          "2019-04-21T00:00:00",
          "2019-04-28T00:00:00",
          "2019-05-05T00:00:00",
          "2019-05-12T00:00:00",
          "2019-05-19T00:00:00",
          "2019-05-26T00:00:00",
          "2019-06-02T00:00:00",
          "2019-06-09T00:00:00",
          "2019-06-16T00:00:00",
          "2019-06-23T00:00:00",
          "2019-06-30T00:00:00",
          "2019-07-07T00:00:00",
          "2019-07-14T00:00:00",
          "2019-07-21T00:00:00",
          "2019-07-28T00:00:00",
          "2019-08-04T00:00:00",
          "2019-08-11T00:00:00",
          "2019-08-18T00:00:00",
          "2019-08-25T00:00:00",
          "2019-09-01T00:00:00",
          "2019-09-08T00:00:00",
          "2019-09-15T00:00:00",
          "2019-09-22T00:00:00",
          "2019-09-29T00:00:00",
          "2019-10-06T00:00:00",
          "2019-10-13T00:00:00",
          "2019-10-20T00:00:00",
          "2019-10-27T00:00:00",
          "2019-11-03T00:00:00",
          "2019-11-10T00:00:00",
          "2019-11-17T00:00:00",
          "2019-11-24T00:00:00",
          "2019-12-01T00:00:00",
          "2019-12-08T00:00:00",
          "2019-12-15T00:00:00",
          "2019-12-22T00:00:00",
          "2019-12-29T00:00:00",
          "2020-01-05T00:00:00",
          "2020-01-12T00:00:00",
          "2020-01-19T00:00:00",
          "2020-01-26T00:00:00",
          "2020-02-02T00:00:00",
          "2020-02-09T00:00:00",
          "2020-02-16T00:00:00",
          "2020-02-23T00:00:00",
          "2020-03-01T00:00:00",
          "2020-03-08T00:00:00",
          "2020-03-15T00:00:00",
          "2020-03-22T00:00:00",
          "2020-03-29T00:00:00",
          "2020-04-05T00:00:00",
          "2020-04-12T00:00:00",
          "2020-04-19T00:00:00",
          "2020-04-26T00:00:00",
          "2020-05-03T00:00:00",
          "2020-05-10T00:00:00",
          "2020-05-17T00:00:00",
          "2020-05-24T00:00:00",
          "2020-05-31T00:00:00",
          "2020-06-07T00:00:00",
          "2020-06-14T00:00:00",
          "2020-06-21T00:00:00",
          "2020-06-28T00:00:00",
          "2020-07-05T00:00:00",
          "2020-07-12T00:00:00",
          "2020-07-19T00:00:00",
          "2020-07-26T00:00:00",
          "2020-08-02T00:00:00",
          "2020-08-09T00:00:00",
          "2020-08-16T00:00:00",
          "2020-08-23T00:00:00",
          "2020-08-30T00:00:00",
          "2020-09-06T00:00:00",
          "2020-09-13T00:00:00",
          "2020-09-20T00:00:00",
          "2020-09-27T00:00:00",
          "2020-10-04T00:00:00",
          "2020-10-11T00:00:00",
          "2020-10-18T00:00:00",
          "2020-10-25T00:00:00",
          "2020-11-01T00:00:00",
          "2020-11-08T00:00:00",
          "2020-11-15T00:00:00",
          "2020-11-22T00:00:00",
          "2020-11-29T00:00:00",
          "2020-12-06T00:00:00",
          "2020-12-13T00:00:00",
          "2020-12-20T00:00:00",
          "2020-12-27T00:00:00",
          "2021-01-03T00:00:00"
         ],
         "y": [
          170826630,
          170826630,
          170826630,
          445431390,
          170826630,
          0,
          0,
          0,
          2387869360,
          0,
          727532840,
          727532840,
          0,
          727532840,
          0,
          727532840,
          98541070,
          0,
          211108940,
          0,
          0,
          0,
          0,
          590415660,
          1156470220,
          0,
          72156200,
          0,
          776162000,
          0,
          513707980,
          0,
          0,
          701817610,
          0,
          988659790,
          0,
          301709400,
          1444402100,
          1289108220,
          424064080,
          3031792560,
          1290369190,
          359571800,
          0,
          0,
          378152000,
          2396094000,
          802099990,
          688028200,
          3937926740,
          31268057506,
          41786664483,
          40488509132.4,
          51663041406,
          20921401313,
          36164116018.46,
          40321769095.73,
          36677548194,
          33937813240.04,
          41850717623.57,
          66779573268.15,
          50308832967.25,
          107947861705.81,
          90613602591.93,
          54651202251.87,
          70068589963.32,
          70286337456.03,
          65966784067.520004,
          52415031934.64,
          112671915781.45,
          50588734889.21,
          121819310360.08,
          122969728199.52,
          79117110498.64,
          38150719341.62,
          38825324697.78,
          72065051524.26,
          36087340169.41,
          24056261582,
          81106456800.38,
          44764421339.88,
          303683507494.34,
          25505752009.17,
          22369637240.37,
          252130636402.73,
          1004770618650.37,
          25343599052,
          72169912506.68,
          26580659096,
          991361555007,
          22390776568,
          103718661344,
          19539482233.01,
          749583264792.04,
          31848137085.6,
          46077592517.14,
          47332912387,
          22877271845.97,
          46033848280,
          10099363760,
          5667926781,
          8419101082,
          9813282217,
          9666224896,
          21390022641,
          8343103281,
          21221320502,
          35285782106.76,
          27782165259,
          27634818441.760002,
          22075695936.2,
          45140575284.25,
          32487925989.22,
          60358404319.24,
          107883422374.28,
          130777607980.47,
          128001318595.33,
          69797151830.66,
          94070151170.06,
          128735815671.95999,
          67379761323.34,
          104043005480.4,
          74532308254.56,
          88499660402.66,
          82529817270.92,
          45104254445,
          115538187832.20999,
          87993131695.86,
          99115537718.2,
          39950036971,
          104592870380,
          39121988306.18,
          360157437512.95996,
          32737171903,
          28607504589,
          335748561823.66003,
          6031000040,
          27102877969,
          322325444445,
          26707134393,
          26789998342,
          18499280240,
          51949279066,
          122149995517.38,
          48613426622,
          69448517104,
          60665582010,
          55734348470,
          84721566416,
          160418672150,
          27320793810,
          21302898348,
          5172795449,
          7702885197,
          25274736216,
          6724843232,
          6213574335,
          8474800384,
          42953151063,
          35209828528,
          39665941936,
          28167953744,
          195591495427,
          78170028033,
          84161759174.16,
          86538352666.13,
          114455285511.09,
          66731725414.24,
          87729777418.38,
          90046011568.63,
          121205998837.95,
          79052329091.29,
          114871442465.8,
          94826886143.34999,
          136582183668.77,
          89741411147.57,
          51842798798.94,
          40768554477,
          41880798080,
          31061333019.83,
          81117126095,
          38467722725,
          33603239350.010002,
          17365775983.95,
          25549276122.01,
          24901629452.46,
          57604651968.479996,
          241421447260,
          63402178320.76,
          193191383849.75,
          66326393371,
          14483652218,
          26751270276,
          30051514070,
          46513057885,
          118222432353,
          32829985696,
          65318671749,
          257215390385,
          144670220914.16998,
          115811718537,
          75131717958,
          13944171022,
          3735845397,
          7351718010
         ]
        },
        {
         "marker": {
          "color": "red"
         },
         "name": "Test_예측값_XGBOOST",
         "type": "scatter",
         "x": [
          "2021-01-31T00:00:00",
          "2021-02-07T00:00:00",
          "2021-02-14T00:00:00",
          "2021-02-21T00:00:00",
          "2021-02-28T00:00:00",
          "2021-03-07T00:00:00",
          "2021-03-14T00:00:00",
          "2021-03-21T00:00:00",
          "2021-03-28T00:00:00",
          "2021-04-04T00:00:00",
          "2021-04-11T00:00:00",
          "2021-04-18T00:00:00",
          "2021-04-25T00:00:00",
          "2021-05-02T00:00:00",
          "2021-05-09T00:00:00",
          "2021-05-16T00:00:00",
          "2021-05-23T00:00:00",
          "2021-05-30T00:00:00",
          "2021-06-06T00:00:00",
          "2021-06-13T00:00:00",
          "2021-06-20T00:00:00",
          "2021-06-27T00:00:00",
          "2021-07-04T00:00:00",
          "2021-07-11T00:00:00",
          "2021-07-18T00:00:00",
          "2021-07-25T00:00:00",
          "2021-08-01T00:00:00",
          "2021-08-08T00:00:00",
          "2021-08-15T00:00:00",
          "2021-08-22T00:00:00",
          "2021-08-29T00:00:00",
          "2021-09-05T00:00:00",
          "2021-09-12T00:00:00",
          "2021-09-19T00:00:00",
          "2021-09-26T00:00:00",
          "2021-10-03T00:00:00",
          "2021-10-10T00:00:00",
          "2021-10-17T00:00:00",
          "2021-10-24T00:00:00",
          "2021-10-31T00:00:00",
          "2021-11-07T00:00:00",
          "2021-11-14T00:00:00",
          "2021-11-21T00:00:00",
          "2021-11-28T00:00:00",
          "2021-12-05T00:00:00",
          "2021-12-12T00:00:00",
          "2021-12-19T00:00:00",
          "2021-12-26T00:00:00"
         ],
         "y": [
          43430019072,
          40483774464,
          8559711232,
          43351470080,
          41589661696,
          40286646272,
          39035293696,
          60081995776,
          66174234624,
          61914787840,
          52625862656,
          65481809920,
          63255216128,
          60530860032,
          48689242112,
          86469050368,
          99468689408,
          96808951808,
          46498217984,
          96812507136,
          84676059136,
          152111759360,
          44039860224,
          28180555776,
          193951744000,
          51231797248,
          53859287040,
          61056868352,
          93563994112,
          83086835712,
          97579606016,
          80136962048,
          86712418304,
          44449673216,
          16954434560,
          61906763776,
          86733873152,
          119023886336,
          208497000448,
          80883318784,
          111210020864,
          121782263808,
          105126051840,
          87437918208,
          127862939648,
          62432686080,
          110636392448,
          13541732352
         ]
        },
        {
         "marker": {
          "color": "red"
         },
         "name": "Train_예측값_XGBOOST",
         "type": "scatter",
         "x": [
          "2017-01-29T00:00:00",
          "2017-02-05T00:00:00",
          "2017-02-12T00:00:00",
          "2017-02-19T00:00:00",
          "2017-02-26T00:00:00",
          "2017-03-05T00:00:00",
          "2017-03-12T00:00:00",
          "2017-03-19T00:00:00",
          "2017-03-26T00:00:00",
          "2017-04-02T00:00:00",
          "2017-04-09T00:00:00",
          "2017-04-16T00:00:00",
          "2017-04-23T00:00:00",
          "2017-04-30T00:00:00",
          "2017-05-07T00:00:00",
          "2017-05-14T00:00:00",
          "2017-05-21T00:00:00",
          "2017-05-28T00:00:00",
          "2017-06-04T00:00:00",
          "2017-06-11T00:00:00",
          "2017-06-18T00:00:00",
          "2017-06-25T00:00:00",
          "2017-07-02T00:00:00",
          "2017-07-09T00:00:00",
          "2017-07-16T00:00:00",
          "2017-07-23T00:00:00",
          "2017-07-30T00:00:00",
          "2017-08-06T00:00:00",
          "2017-08-13T00:00:00",
          "2017-08-20T00:00:00",
          "2017-08-27T00:00:00",
          "2017-09-03T00:00:00",
          "2017-09-10T00:00:00",
          "2017-09-17T00:00:00",
          "2017-09-24T00:00:00",
          "2017-10-01T00:00:00",
          "2017-10-08T00:00:00",
          "2017-10-15T00:00:00",
          "2017-10-22T00:00:00",
          "2017-10-29T00:00:00",
          "2017-11-05T00:00:00",
          "2017-11-12T00:00:00",
          "2017-11-19T00:00:00",
          "2017-11-26T00:00:00",
          "2017-12-03T00:00:00",
          "2017-12-10T00:00:00",
          "2017-12-17T00:00:00",
          "2017-12-24T00:00:00",
          "2017-12-31T00:00:00",
          "2018-01-07T00:00:00",
          "2018-01-14T00:00:00",
          "2018-01-21T00:00:00",
          "2018-01-28T00:00:00",
          "2018-02-04T00:00:00",
          "2018-02-11T00:00:00",
          "2018-02-18T00:00:00",
          "2018-02-25T00:00:00",
          "2018-03-04T00:00:00",
          "2018-03-11T00:00:00",
          "2018-03-18T00:00:00",
          "2018-03-25T00:00:00",
          "2018-04-01T00:00:00",
          "2018-04-08T00:00:00",
          "2018-04-15T00:00:00",
          "2018-04-22T00:00:00",
          "2018-04-29T00:00:00",
          "2018-05-06T00:00:00",
          "2018-05-13T00:00:00",
          "2018-05-20T00:00:00",
          "2018-05-27T00:00:00",
          "2018-06-03T00:00:00",
          "2018-06-10T00:00:00",
          "2018-06-17T00:00:00",
          "2018-06-24T00:00:00",
          "2018-07-01T00:00:00",
          "2018-07-08T00:00:00",
          "2018-07-15T00:00:00",
          "2018-07-22T00:00:00",
          "2018-07-29T00:00:00",
          "2018-08-05T00:00:00",
          "2018-08-12T00:00:00",
          "2018-08-19T00:00:00",
          "2018-08-26T00:00:00",
          "2018-09-02T00:00:00",
          "2018-09-09T00:00:00",
          "2018-09-16T00:00:00",
          "2018-09-23T00:00:00",
          "2018-09-30T00:00:00",
          "2018-10-07T00:00:00",
          "2018-10-14T00:00:00",
          "2018-10-21T00:00:00",
          "2018-10-28T00:00:00",
          "2018-11-04T00:00:00",
          "2018-11-11T00:00:00",
          "2018-11-18T00:00:00",
          "2018-11-25T00:00:00",
          "2018-12-02T00:00:00",
          "2018-12-09T00:00:00",
          "2018-12-16T00:00:00",
          "2018-12-23T00:00:00",
          "2018-12-30T00:00:00",
          "2019-01-06T00:00:00",
          "2019-01-13T00:00:00",
          "2019-01-20T00:00:00",
          "2019-01-27T00:00:00",
          "2019-02-03T00:00:00",
          "2019-02-10T00:00:00",
          "2019-02-17T00:00:00",
          "2019-02-24T00:00:00",
          "2019-03-03T00:00:00",
          "2019-03-10T00:00:00",
          "2019-03-17T00:00:00",
          "2019-03-24T00:00:00",
          "2019-03-31T00:00:00",
          "2019-04-07T00:00:00",
          "2019-04-14T00:00:00",
          "2019-04-21T00:00:00",
          "2019-04-28T00:00:00",
          "2019-05-05T00:00:00",
          "2019-05-12T00:00:00",
          "2019-05-19T00:00:00",
          "2019-05-26T00:00:00",
          "2019-06-02T00:00:00",
          "2019-06-09T00:00:00",
          "2019-06-16T00:00:00",
          "2019-06-23T00:00:00",
          "2019-06-30T00:00:00",
          "2019-07-07T00:00:00",
          "2019-07-14T00:00:00",
          "2019-07-21T00:00:00",
          "2019-07-28T00:00:00",
          "2019-08-04T00:00:00",
          "2019-08-11T00:00:00",
          "2019-08-18T00:00:00",
          "2019-08-25T00:00:00",
          "2019-09-01T00:00:00",
          "2019-09-08T00:00:00",
          "2019-09-15T00:00:00",
          "2019-09-22T00:00:00",
          "2019-09-29T00:00:00",
          "2019-10-06T00:00:00",
          "2019-10-13T00:00:00",
          "2019-10-20T00:00:00",
          "2019-10-27T00:00:00",
          "2019-11-03T00:00:00",
          "2019-11-10T00:00:00",
          "2019-11-17T00:00:00",
          "2019-11-24T00:00:00",
          "2019-12-01T00:00:00",
          "2019-12-08T00:00:00",
          "2019-12-15T00:00:00",
          "2019-12-22T00:00:00",
          "2019-12-29T00:00:00",
          "2020-01-05T00:00:00",
          "2020-01-12T00:00:00",
          "2020-01-19T00:00:00",
          "2020-01-26T00:00:00",
          "2020-02-02T00:00:00",
          "2020-02-09T00:00:00",
          "2020-02-16T00:00:00",
          "2020-02-23T00:00:00",
          "2020-03-01T00:00:00",
          "2020-03-08T00:00:00",
          "2020-03-15T00:00:00",
          "2020-03-22T00:00:00",
          "2020-03-29T00:00:00",
          "2020-04-05T00:00:00",
          "2020-04-12T00:00:00",
          "2020-04-19T00:00:00",
          "2020-04-26T00:00:00",
          "2020-05-03T00:00:00",
          "2020-05-10T00:00:00",
          "2020-05-17T00:00:00",
          "2020-05-24T00:00:00",
          "2020-05-31T00:00:00",
          "2020-06-07T00:00:00",
          "2020-06-14T00:00:00",
          "2020-06-21T00:00:00",
          "2020-06-28T00:00:00",
          "2020-07-05T00:00:00",
          "2020-07-12T00:00:00",
          "2020-07-19T00:00:00",
          "2020-07-26T00:00:00",
          "2020-08-02T00:00:00",
          "2020-08-09T00:00:00",
          "2020-08-16T00:00:00",
          "2020-08-23T00:00:00",
          "2020-08-30T00:00:00",
          "2020-09-06T00:00:00",
          "2020-09-13T00:00:00",
          "2020-09-20T00:00:00",
          "2020-09-27T00:00:00",
          "2020-10-04T00:00:00",
          "2020-10-11T00:00:00",
          "2020-10-18T00:00:00",
          "2020-10-25T00:00:00",
          "2020-11-01T00:00:00",
          "2020-11-08T00:00:00",
          "2020-11-15T00:00:00",
          "2020-11-22T00:00:00",
          "2020-11-29T00:00:00",
          "2020-12-06T00:00:00",
          "2020-12-13T00:00:00",
          "2020-12-20T00:00:00",
          "2020-12-27T00:00:00",
          "2021-01-03T00:00:00"
         ],
         "y": [
          1271560064,
          1271560064,
          1271560064,
          1271560064,
          1271560064,
          1271560064,
          1271560064,
          1271560064,
          1738522240,
          1271560064,
          1301170560,
          1301170560,
          1271560064,
          1301170560,
          1271560064,
          1301170560,
          1301170560,
          1271560064,
          1301170560,
          1271560064,
          1271560064,
          1271560064,
          1271560064,
          1301170560,
          1301170560,
          1271560064,
          1301170560,
          1271560064,
          1343985536,
          1271560064,
          1368776064,
          1271560064,
          1271560064,
          1368776064,
          1271560064,
          1368776064,
          1271560064,
          1368776064,
          1368776064,
          1817183360,
          1520702848,
          1368776064,
          1368776064,
          1368776064,
          1271560064,
          1271560064,
          1368776064,
          2137839744,
          1368776064,
          1465030016,
          3557864192,
          30268186624,
          33580800000,
          38851039232,
          42566217728,
          48472965120,
          43344175104,
          47456047104,
          57674010624,
          45406875648,
          49746313216,
          47794122752,
          58048389120,
          74699350016,
          90850549760,
          59205038080,
          71040950272,
          81736081408,
          81004699648,
          123250999296,
          88213020672,
          52111945728,
          89059147776,
          102559793152,
          88226537472,
          88981340160,
          55825973248,
          63362138112,
          59270107136,
          61213847552,
          54534766592,
          53068578816,
          194405646336,
          79096840192,
          40059715584,
          231484391424,
          688052109312,
          41693229056,
          88724209664,
          60135792640,
          751128805376,
          72439537664,
          139808768000,
          11991096320,
          564981399552,
          97488052224,
          87480107008,
          102087663616,
          37176324096,
          38114877440,
          9383350272,
          4946990080,
          10016825344,
          21757880320,
          17763901440,
          15404107776,
          14331990016,
          35899981824,
          38627553280,
          36162605056,
          38037446656,
          35544780800,
          46508843008,
          42451972096,
          54236880896,
          103447494656,
          99178971136,
          100347297792,
          80136249344,
          91595079680,
          94845591552,
          80651116544,
          111003648000,
          67312336896,
          75938406400,
          88559665152,
          64660799488,
          91940052992,
          72321245184,
          114614870016,
          75089723392,
          109701079040,
          52336525312,
          197221662720,
          64235270144,
          35567095808,
          269849198592,
          11232768000,
          40773328896,
          226826502144,
          31423946752,
          78942011392,
          44943106048,
          55703752704,
          70424698880,
          47514124288,
          74875682816,
          77726253056,
          104191803392,
          67652513792,
          194730131456,
          67453194240,
          10899064832,
          3744880896,
          3962577408,
          31376881664,
          13885051904,
          24691900416,
          2411513088,
          46787473408,
          36002508800,
          43173400576,
          51261554688,
          96778665984,
          67574624256,
          66263273472,
          60552794112,
          90005037056,
          60459126784,
          102079594496,
          80976601088,
          95243698176,
          86997671936,
          101100060672,
          92455174144,
          109865132032,
          119496294400,
          56648843264,
          36843745280,
          46785171456,
          72043241472,
          60487757824,
          57019097088,
          43277832192,
          34620846080,
          38692229120,
          41940664320,
          53403947008,
          172499255296,
          45321150464,
          166972588032,
          58508963840,
          21877305344,
          59491434496,
          67977482240,
          70370762752,
          115196608512,
          63959392256,
          66907738112,
          156916613120,
          94902493184,
          101861408768,
          77106864128,
          19498692608,
          3646608128,
          4484490752
         ]
        },
        {
         "marker": {
          "color": "green"
         },
         "name": "Test_예측값_RandomForest",
         "type": "scatter",
         "x": [
          "2021-01-31T00:00:00",
          "2021-02-07T00:00:00",
          "2021-02-14T00:00:00",
          "2021-02-21T00:00:00",
          "2021-02-28T00:00:00",
          "2021-03-07T00:00:00",
          "2021-03-14T00:00:00",
          "2021-03-21T00:00:00",
          "2021-03-28T00:00:00",
          "2021-04-04T00:00:00",
          "2021-04-11T00:00:00",
          "2021-04-18T00:00:00",
          "2021-04-25T00:00:00",
          "2021-05-02T00:00:00",
          "2021-05-09T00:00:00",
          "2021-05-16T00:00:00",
          "2021-05-23T00:00:00",
          "2021-05-30T00:00:00",
          "2021-06-06T00:00:00",
          "2021-06-13T00:00:00",
          "2021-06-20T00:00:00",
          "2021-06-27T00:00:00",
          "2021-07-04T00:00:00",
          "2021-07-11T00:00:00",
          "2021-07-18T00:00:00",
          "2021-07-25T00:00:00",
          "2021-08-01T00:00:00",
          "2021-08-08T00:00:00",
          "2021-08-15T00:00:00",
          "2021-08-22T00:00:00",
          "2021-08-29T00:00:00",
          "2021-09-05T00:00:00",
          "2021-09-12T00:00:00",
          "2021-09-19T00:00:00",
          "2021-09-26T00:00:00",
          "2021-10-03T00:00:00",
          "2021-10-10T00:00:00",
          "2021-10-17T00:00:00",
          "2021-10-24T00:00:00",
          "2021-10-31T00:00:00",
          "2021-11-07T00:00:00",
          "2021-11-14T00:00:00",
          "2021-11-21T00:00:00",
          "2021-11-28T00:00:00",
          "2021-12-05T00:00:00",
          "2021-12-12T00:00:00",
          "2021-12-19T00:00:00",
          "2021-12-26T00:00:00"
         ],
         "y": [
          30842185663.872074,
          28623023561.94829,
          11419040550.258667,
          32912892332.740326,
          44242433914.23182,
          63090563151.63692,
          49436635702.66191,
          55558270626.158356,
          68653417588.39316,
          39783358239.904755,
          38927559460.9291,
          42806464732.83328,
          64968804177.61318,
          65591307727.43991,
          56729275770.73832,
          100401126166.0056,
          98972603041.62927,
          95384187388.77422,
          54078225874.096565,
          97580566933.15121,
          94723205399.91869,
          142465650672.53262,
          56543975139.72266,
          48769000252.060524,
          142550126276.48288,
          103695699803.46245,
          59974051037.09373,
          87855401721.17497,
          96268359864.35849,
          73568565758.58871,
          84272951785.90361,
          115101520466.8863,
          99359020560.7348,
          117018371791.60193,
          24343383008.072445,
          76664373052.86177,
          95943707481.89635,
          111579318436.99757,
          168888431582.508,
          105241288970.30615,
          123495146845.85541,
          141909666457.87204,
          106900987877.0313,
          102391455675.14919,
          132214410729.7208,
          132150817304.9301,
          130808502813.64049,
          19746040737.15438
         ]
        },
        {
         "marker": {
          "color": "green"
         },
         "name": "Train_예측값_RandomForest",
         "type": "scatter",
         "x": [
          "2017-01-29T00:00:00",
          "2017-02-05T00:00:00",
          "2017-02-12T00:00:00",
          "2017-02-19T00:00:00",
          "2017-02-26T00:00:00",
          "2017-03-05T00:00:00",
          "2017-03-12T00:00:00",
          "2017-03-19T00:00:00",
          "2017-03-26T00:00:00",
          "2017-04-02T00:00:00",
          "2017-04-09T00:00:00",
          "2017-04-16T00:00:00",
          "2017-04-23T00:00:00",
          "2017-04-30T00:00:00",
          "2017-05-07T00:00:00",
          "2017-05-14T00:00:00",
          "2017-05-21T00:00:00",
          "2017-05-28T00:00:00",
          "2017-06-04T00:00:00",
          "2017-06-11T00:00:00",
          "2017-06-18T00:00:00",
          "2017-06-25T00:00:00",
          "2017-07-02T00:00:00",
          "2017-07-09T00:00:00",
          "2017-07-16T00:00:00",
          "2017-07-23T00:00:00",
          "2017-07-30T00:00:00",
          "2017-08-06T00:00:00",
          "2017-08-13T00:00:00",
          "2017-08-20T00:00:00",
          "2017-08-27T00:00:00",
          "2017-09-03T00:00:00",
          "2017-09-10T00:00:00",
          "2017-09-17T00:00:00",
          "2017-09-24T00:00:00",
          "2017-10-01T00:00:00",
          "2017-10-08T00:00:00",
          "2017-10-15T00:00:00",
          "2017-10-22T00:00:00",
          "2017-10-29T00:00:00",
          "2017-11-05T00:00:00",
          "2017-11-12T00:00:00",
          "2017-11-19T00:00:00",
          "2017-11-26T00:00:00",
          "2017-12-03T00:00:00",
          "2017-12-10T00:00:00",
          "2017-12-17T00:00:00",
          "2017-12-24T00:00:00",
          "2017-12-31T00:00:00",
          "2018-01-07T00:00:00",
          "2018-01-14T00:00:00",
          "2018-01-21T00:00:00",
          "2018-01-28T00:00:00",
          "2018-02-04T00:00:00",
          "2018-02-11T00:00:00",
          "2018-02-18T00:00:00",
          "2018-02-25T00:00:00",
          "2018-03-04T00:00:00",
          "2018-03-11T00:00:00",
          "2018-03-18T00:00:00",
          "2018-03-25T00:00:00",
          "2018-04-01T00:00:00",
          "2018-04-08T00:00:00",
          "2018-04-15T00:00:00",
          "2018-04-22T00:00:00",
          "2018-04-29T00:00:00",
          "2018-05-06T00:00:00",
          "2018-05-13T00:00:00",
          "2018-05-20T00:00:00",
          "2018-05-27T00:00:00",
          "2018-06-03T00:00:00",
          "2018-06-10T00:00:00",
          "2018-06-17T00:00:00",
          "2018-06-24T00:00:00",
          "2018-07-01T00:00:00",
          "2018-07-08T00:00:00",
          "2018-07-15T00:00:00",
          "2018-07-22T00:00:00",
          "2018-07-29T00:00:00",
          "2018-08-05T00:00:00",
          "2018-08-12T00:00:00",
          "2018-08-19T00:00:00",
          "2018-08-26T00:00:00",
          "2018-09-02T00:00:00",
          "2018-09-09T00:00:00",
          "2018-09-16T00:00:00",
          "2018-09-23T00:00:00",
          "2018-09-30T00:00:00",
          "2018-10-07T00:00:00",
          "2018-10-14T00:00:00",
          "2018-10-21T00:00:00",
          "2018-10-28T00:00:00",
          "2018-11-04T00:00:00",
          "2018-11-11T00:00:00",
          "2018-11-18T00:00:00",
          "2018-11-25T00:00:00",
          "2018-12-02T00:00:00",
          "2018-12-09T00:00:00",
          "2018-12-16T00:00:00",
          "2018-12-23T00:00:00",
          "2018-12-30T00:00:00",
          "2019-01-06T00:00:00",
          "2019-01-13T00:00:00",
          "2019-01-20T00:00:00",
          "2019-01-27T00:00:00",
          "2019-02-03T00:00:00",
          "2019-02-10T00:00:00",
          "2019-02-17T00:00:00",
          "2019-02-24T00:00:00",
          "2019-03-03T00:00:00",
          "2019-03-10T00:00:00",
          "2019-03-17T00:00:00",
          "2019-03-24T00:00:00",
          "2019-03-31T00:00:00",
          "2019-04-07T00:00:00",
          "2019-04-14T00:00:00",
          "2019-04-21T00:00:00",
          "2019-04-28T00:00:00",
          "2019-05-05T00:00:00",
          "2019-05-12T00:00:00",
          "2019-05-19T00:00:00",
          "2019-05-26T00:00:00",
          "2019-06-02T00:00:00",
          "2019-06-09T00:00:00",
          "2019-06-16T00:00:00",
          "2019-06-23T00:00:00",
          "2019-06-30T00:00:00",
          "2019-07-07T00:00:00",
          "2019-07-14T00:00:00",
          "2019-07-21T00:00:00",
          "2019-07-28T00:00:00",
          "2019-08-04T00:00:00",
          "2019-08-11T00:00:00",
          "2019-08-18T00:00:00",
          "2019-08-25T00:00:00",
          "2019-09-01T00:00:00",
          "2019-09-08T00:00:00",
          "2019-09-15T00:00:00",
          "2019-09-22T00:00:00",
          "2019-09-29T00:00:00",
          "2019-10-06T00:00:00",
          "2019-10-13T00:00:00",
          "2019-10-20T00:00:00",
          "2019-10-27T00:00:00",
          "2019-11-03T00:00:00",
          "2019-11-10T00:00:00",
          "2019-11-17T00:00:00",
          "2019-11-24T00:00:00",
          "2019-12-01T00:00:00",
          "2019-12-08T00:00:00",
          "2019-12-15T00:00:00",
          "2019-12-22T00:00:00",
          "2019-12-29T00:00:00",
          "2020-01-05T00:00:00",
          "2020-01-12T00:00:00",
          "2020-01-19T00:00:00",
          "2020-01-26T00:00:00",
          "2020-02-02T00:00:00",
          "2020-02-09T00:00:00",
          "2020-02-16T00:00:00",
          "2020-02-23T00:00:00",
          "2020-03-01T00:00:00",
          "2020-03-08T00:00:00",
          "2020-03-15T00:00:00",
          "2020-03-22T00:00:00",
          "2020-03-29T00:00:00",
          "2020-04-05T00:00:00",
          "2020-04-12T00:00:00",
          "2020-04-19T00:00:00",
          "2020-04-26T00:00:00",
          "2020-05-03T00:00:00",
          "2020-05-10T00:00:00",
          "2020-05-17T00:00:00",
          "2020-05-24T00:00:00",
          "2020-05-31T00:00:00",
          "2020-06-07T00:00:00",
          "2020-06-14T00:00:00",
          "2020-06-21T00:00:00",
          "2020-06-28T00:00:00",
          "2020-07-05T00:00:00",
          "2020-07-12T00:00:00",
          "2020-07-19T00:00:00",
          "2020-07-26T00:00:00",
          "2020-08-02T00:00:00",
          "2020-08-09T00:00:00",
          "2020-08-16T00:00:00",
          "2020-08-23T00:00:00",
          "2020-08-30T00:00:00",
          "2020-09-06T00:00:00",
          "2020-09-13T00:00:00",
          "2020-09-20T00:00:00",
          "2020-09-27T00:00:00",
          "2020-10-04T00:00:00",
          "2020-10-11T00:00:00",
          "2020-10-18T00:00:00",
          "2020-10-25T00:00:00",
          "2020-11-01T00:00:00",
          "2020-11-08T00:00:00",
          "2020-11-15T00:00:00",
          "2020-11-22T00:00:00",
          "2020-11-29T00:00:00",
          "2020-12-06T00:00:00",
          "2020-12-13T00:00:00",
          "2020-12-20T00:00:00",
          "2020-12-27T00:00:00",
          "2021-01-03T00:00:00"
         ],
         "y": [
          151002213.02852163,
          132160431.1588779,
          268642092.62654585,
          271732857.16762483,
          273988252.1626241,
          18996277.16880758,
          18996277.16880758,
          18996277.16880758,
          1654730239.9294958,
          18996277.16880758,
          657955991.2419206,
          562779764.7487805,
          18996277.16880758,
          513718075.695637,
          18996277.16880758,
          601732893.324968,
          492912929.3924948,
          18996277.16880758,
          523782804.9502053,
          18996277.16880758,
          18996277.16880758,
          18996277.16880758,
          18996277.16880758,
          676881426.6891938,
          750715807.9899684,
          18996277.16880758,
          619881021.5467991,
          18996277.16880758,
          814827714.6329451,
          18996277.16880758,
          1026692551.9848738,
          18996277.16880758,
          18996277.16880758,
          1033532069.1511346,
          18996277.16880758,
          966307385.9719812,
          18996277.16880758,
          990598582.6332431,
          1118195324.0885124,
          1844284470.874778,
          1291883629.6952012,
          1181528368.024624,
          998891375.8405936,
          1010536912.8496945,
          18996277.16880758,
          18996277.16880758,
          1001662320.5473002,
          2273860598.328606,
          1198230489.5952652,
          1105687661.4984882,
          5706457811.006203,
          26915663894.39746,
          29646946218.111996,
          34330110555.74025,
          41246042706.372116,
          28393265290.607567,
          38593299104.55076,
          44032379214.56183,
          64366414331.5525,
          44284072734.965935,
          48169838087.71533,
          49890965910.30758,
          72117956679.46442,
          88607406749.59108,
          103422421757.48055,
          60201220328.610596,
          76692968922.06097,
          86997752338.08018,
          88607477771.23883,
          102497737242.13115,
          97197638914.24774,
          64257279974.11883,
          99209216407.77803,
          116770148224.49742,
          94727633022.9824,
          89780676129.97203,
          68748128709.12978,
          103590351748.43756,
          78128619113.40947,
          97514022744.04541,
          86895641040.58229,
          82630891923.8766,
          156759895022.5007,
          97560760307.31029,
          76805988684.84184,
          242744189597.8464,
          316699652201.0437,
          74408760018.61588,
          99963563452.86635,
          127858681123.22937,
          355197202535.85345,
          127932916257.0959,
          153337116456.35358,
          69810067069.65016,
          308686304481.3611,
          196991757703.0419,
          160705940513.32538,
          193767654965.9134,
          64191348797.96848,
          45416545123.11557,
          16515738582.672619,
          6602578938.413092,
          11148398479.999912,
          12468540996.71712,
          15209775274.441093,
          22093731349.323166,
          14414154332.99073,
          30868858849.91212,
          36298687343.60282,
          33062207298.381283,
          43967186236.40462,
          50347866535.85565,
          46170104820.52427,
          36844840970.269806,
          55252665237.39261,
          117377038902.1995,
          115021314007.64418,
          105656701490.31161,
          87442187453.4699,
          95242322572.4094,
          110826041557.1999,
          107216211814.78172,
          117121506143.73984,
          89409428554.98724,
          83532263884.27277,
          97622090162.85646,
          63113255536.2946,
          115906502421.8893,
          84854392831.13306,
          138774601097.1669,
          105870042629.93701,
          127429718459.28612,
          71801957392.59457,
          149514690525.91827,
          85043104532.65466,
          37102415429.153465,
          225623119586.98196,
          17531899846.477047,
          71534421758.95898,
          238942450082.61365,
          67507072045.55273,
          124392204362.19432,
          103058932309.67004,
          104629943324.79507,
          110462597473.91699,
          102613946317.2507,
          136292637956.38426,
          114993883026.99072,
          110992244426.63329,
          117985141720.70941,
          247102309844.3447,
          79315375909.57565,
          14146209262.565481,
          5542385502.499081,
          6625465133.45542,
          14255596142.867083,
          12347004985.904028,
          16507568728.09679,
          12115681298.666399,
          40426336598.15079,
          42085691858.096565,
          46143407785.30991,
          71656065695.73982,
          104613185279.7043,
          69831295580.29689,
          65898292481.63013,
          59593515488.158226,
          99053686561.36661,
          64123483137.42996,
          102956345142.29727,
          79699311869.78653,
          98008528033.98868,
          90674779736.13203,
          100971767750.86533,
          94532082694.53067,
          119570661422.92703,
          131696702074.10109,
          63083239950.33464,
          41936897427.32084,
          53830087709.981415,
          92620386625.34813,
          61876013669.11104,
          78242473628.91562,
          66879250750.33919,
          68226063789.09759,
          61209705898.36208,
          66595090499.23876,
          59930491514.786064,
          135098557033.88988,
          55450406753.336136,
          140037337878.08054,
          85239277604.17548,
          28188587485.93772,
          107329297613.7449,
          132752389345.82399,
          114906151880.32625,
          113107013145.99591,
          92785741203.83244,
          99324452208.16525,
          142142862382.92554,
          139756644878.92133,
          112002143171.73737,
          88082037943.84285,
          27601041101.552505,
          6099374447.169838,
          7481291272.245118
         ]
        },
        {
         "marker": {
          "color": "blue"
         },
         "name": "Test_예측값_LightGB",
         "type": "scatter",
         "x": [
          "2021-01-31T00:00:00",
          "2021-02-07T00:00:00",
          "2021-02-14T00:00:00",
          "2021-02-21T00:00:00",
          "2021-02-28T00:00:00",
          "2021-03-07T00:00:00",
          "2021-03-14T00:00:00",
          "2021-03-21T00:00:00",
          "2021-03-28T00:00:00",
          "2021-04-04T00:00:00",
          "2021-04-11T00:00:00",
          "2021-04-18T00:00:00",
          "2021-04-25T00:00:00",
          "2021-05-02T00:00:00",
          "2021-05-09T00:00:00",
          "2021-05-16T00:00:00",
          "2021-05-23T00:00:00",
          "2021-05-30T00:00:00",
          "2021-06-06T00:00:00",
          "2021-06-13T00:00:00",
          "2021-06-20T00:00:00",
          "2021-06-27T00:00:00",
          "2021-07-04T00:00:00",
          "2021-07-11T00:00:00",
          "2021-07-18T00:00:00",
          "2021-07-25T00:00:00",
          "2021-08-01T00:00:00",
          "2021-08-08T00:00:00",
          "2021-08-15T00:00:00",
          "2021-08-22T00:00:00",
          "2021-08-29T00:00:00",
          "2021-09-05T00:00:00",
          "2021-09-12T00:00:00",
          "2021-09-19T00:00:00",
          "2021-09-26T00:00:00",
          "2021-10-03T00:00:00",
          "2021-10-10T00:00:00",
          "2021-10-17T00:00:00",
          "2021-10-24T00:00:00",
          "2021-10-31T00:00:00",
          "2021-11-07T00:00:00",
          "2021-11-14T00:00:00",
          "2021-11-21T00:00:00",
          "2021-11-28T00:00:00",
          "2021-12-05T00:00:00",
          "2021-12-12T00:00:00",
          "2021-12-19T00:00:00",
          "2021-12-26T00:00:00"
         ],
         "y": [
          43430019072,
          40483774464,
          8559711232,
          43351470080,
          41589661696,
          40286646272,
          39035293696,
          60081995776,
          66174234624,
          61914787840,
          52625862656,
          65481809920,
          63255216128,
          60530860032,
          48689242112,
          86469050368,
          99468689408,
          96808951808,
          46498217984,
          96812507136,
          84676059136,
          152111759360,
          44039860224,
          28180555776,
          193951744000,
          51231797248,
          53859287040,
          61056868352,
          93563994112,
          83086835712,
          97579606016,
          80136962048,
          86712418304,
          44449673216,
          16954434560,
          61906763776,
          86733873152,
          119023886336,
          208497000448,
          80883318784,
          111210020864,
          121782263808,
          105126051840,
          87437918208,
          127862939648,
          62432686080,
          110636392448,
          13541732352
         ]
        },
        {
         "marker": {
          "color": "blue"
         },
         "name": "Train_예측값_LightGB",
         "type": "scatter",
         "x": [
          "2017-01-29T00:00:00",
          "2017-02-05T00:00:00",
          "2017-02-12T00:00:00",
          "2017-02-19T00:00:00",
          "2017-02-26T00:00:00",
          "2017-03-05T00:00:00",
          "2017-03-12T00:00:00",
          "2017-03-19T00:00:00",
          "2017-03-26T00:00:00",
          "2017-04-02T00:00:00",
          "2017-04-09T00:00:00",
          "2017-04-16T00:00:00",
          "2017-04-23T00:00:00",
          "2017-04-30T00:00:00",
          "2017-05-07T00:00:00",
          "2017-05-14T00:00:00",
          "2017-05-21T00:00:00",
          "2017-05-28T00:00:00",
          "2017-06-04T00:00:00",
          "2017-06-11T00:00:00",
          "2017-06-18T00:00:00",
          "2017-06-25T00:00:00",
          "2017-07-02T00:00:00",
          "2017-07-09T00:00:00",
          "2017-07-16T00:00:00",
          "2017-07-23T00:00:00",
          "2017-07-30T00:00:00",
          "2017-08-06T00:00:00",
          "2017-08-13T00:00:00",
          "2017-08-20T00:00:00",
          "2017-08-27T00:00:00",
          "2017-09-03T00:00:00",
          "2017-09-10T00:00:00",
          "2017-09-17T00:00:00",
          "2017-09-24T00:00:00",
          "2017-10-01T00:00:00",
          "2017-10-08T00:00:00",
          "2017-10-15T00:00:00",
          "2017-10-22T00:00:00",
          "2017-10-29T00:00:00",
          "2017-11-05T00:00:00",
          "2017-11-12T00:00:00",
          "2017-11-19T00:00:00",
          "2017-11-26T00:00:00",
          "2017-12-03T00:00:00",
          "2017-12-10T00:00:00",
          "2017-12-17T00:00:00",
          "2017-12-24T00:00:00",
          "2017-12-31T00:00:00",
          "2018-01-07T00:00:00",
          "2018-01-14T00:00:00",
          "2018-01-21T00:00:00",
          "2018-01-28T00:00:00",
          "2018-02-04T00:00:00",
          "2018-02-11T00:00:00",
          "2018-02-18T00:00:00",
          "2018-02-25T00:00:00",
          "2018-03-04T00:00:00",
          "2018-03-11T00:00:00",
          "2018-03-18T00:00:00",
          "2018-03-25T00:00:00",
          "2018-04-01T00:00:00",
          "2018-04-08T00:00:00",
          "2018-04-15T00:00:00",
          "2018-04-22T00:00:00",
          "2018-04-29T00:00:00",
          "2018-05-06T00:00:00",
          "2018-05-13T00:00:00",
          "2018-05-20T00:00:00",
          "2018-05-27T00:00:00",
          "2018-06-03T00:00:00",
          "2018-06-10T00:00:00",
          "2018-06-17T00:00:00",
          "2018-06-24T00:00:00",
          "2018-07-01T00:00:00",
          "2018-07-08T00:00:00",
          "2018-07-15T00:00:00",
          "2018-07-22T00:00:00",
          "2018-07-29T00:00:00",
          "2018-08-05T00:00:00",
          "2018-08-12T00:00:00",
          "2018-08-19T00:00:00",
          "2018-08-26T00:00:00",
          "2018-09-02T00:00:00",
          "2018-09-09T00:00:00",
          "2018-09-16T00:00:00",
          "2018-09-23T00:00:00",
          "2018-09-30T00:00:00",
          "2018-10-07T00:00:00",
          "2018-10-14T00:00:00",
          "2018-10-21T00:00:00",
          "2018-10-28T00:00:00",
          "2018-11-04T00:00:00",
          "2018-11-11T00:00:00",
          "2018-11-18T00:00:00",
          "2018-11-25T00:00:00",
          "2018-12-02T00:00:00",
          "2018-12-09T00:00:00",
          "2018-12-16T00:00:00",
          "2018-12-23T00:00:00",
          "2018-12-30T00:00:00",
          "2019-01-06T00:00:00",
          "2019-01-13T00:00:00",
          "2019-01-20T00:00:00",
          "2019-01-27T00:00:00",
          "2019-02-03T00:00:00",
          "2019-02-10T00:00:00",
          "2019-02-17T00:00:00",
          "2019-02-24T00:00:00",
          "2019-03-03T00:00:00",
          "2019-03-10T00:00:00",
          "2019-03-17T00:00:00",
          "2019-03-24T00:00:00",
          "2019-03-31T00:00:00",
          "2019-04-07T00:00:00",
          "2019-04-14T00:00:00",
          "2019-04-21T00:00:00",
          "2019-04-28T00:00:00",
          "2019-05-05T00:00:00",
          "2019-05-12T00:00:00",
          "2019-05-19T00:00:00",
          "2019-05-26T00:00:00",
          "2019-06-02T00:00:00",
          "2019-06-09T00:00:00",
          "2019-06-16T00:00:00",
          "2019-06-23T00:00:00",
          "2019-06-30T00:00:00",
          "2019-07-07T00:00:00",
          "2019-07-14T00:00:00",
          "2019-07-21T00:00:00",
          "2019-07-28T00:00:00",
          "2019-08-04T00:00:00",
          "2019-08-11T00:00:00",
          "2019-08-18T00:00:00",
          "2019-08-25T00:00:00",
          "2019-09-01T00:00:00",
          "2019-09-08T00:00:00",
          "2019-09-15T00:00:00",
          "2019-09-22T00:00:00",
          "2019-09-29T00:00:00",
          "2019-10-06T00:00:00",
          "2019-10-13T00:00:00",
          "2019-10-20T00:00:00",
          "2019-10-27T00:00:00",
          "2019-11-03T00:00:00",
          "2019-11-10T00:00:00",
          "2019-11-17T00:00:00",
          "2019-11-24T00:00:00",
          "2019-12-01T00:00:00",
          "2019-12-08T00:00:00",
          "2019-12-15T00:00:00",
          "2019-12-22T00:00:00",
          "2019-12-29T00:00:00",
          "2020-01-05T00:00:00",
          "2020-01-12T00:00:00",
          "2020-01-19T00:00:00",
          "2020-01-26T00:00:00",
          "2020-02-02T00:00:00",
          "2020-02-09T00:00:00",
          "2020-02-16T00:00:00",
          "2020-02-23T00:00:00",
          "2020-03-01T00:00:00",
          "2020-03-08T00:00:00",
          "2020-03-15T00:00:00",
          "2020-03-22T00:00:00",
          "2020-03-29T00:00:00",
          "2020-04-05T00:00:00",
          "2020-04-12T00:00:00",
          "2020-04-19T00:00:00",
          "2020-04-26T00:00:00",
          "2020-05-03T00:00:00",
          "2020-05-10T00:00:00",
          "2020-05-17T00:00:00",
          "2020-05-24T00:00:00",
          "2020-05-31T00:00:00",
          "2020-06-07T00:00:00",
          "2020-06-14T00:00:00",
          "2020-06-21T00:00:00",
          "2020-06-28T00:00:00",
          "2020-07-05T00:00:00",
          "2020-07-12T00:00:00",
          "2020-07-19T00:00:00",
          "2020-07-26T00:00:00",
          "2020-08-02T00:00:00",
          "2020-08-09T00:00:00",
          "2020-08-16T00:00:00",
          "2020-08-23T00:00:00",
          "2020-08-30T00:00:00",
          "2020-09-06T00:00:00",
          "2020-09-13T00:00:00",
          "2020-09-20T00:00:00",
          "2020-09-27T00:00:00",
          "2020-10-04T00:00:00",
          "2020-10-11T00:00:00",
          "2020-10-18T00:00:00",
          "2020-10-25T00:00:00",
          "2020-11-01T00:00:00",
          "2020-11-08T00:00:00",
          "2020-11-15T00:00:00",
          "2020-11-22T00:00:00",
          "2020-11-29T00:00:00",
          "2020-12-06T00:00:00",
          "2020-12-13T00:00:00",
          "2020-12-20T00:00:00",
          "2020-12-27T00:00:00",
          "2021-01-03T00:00:00"
         ],
         "y": [
          1271560064,
          1271560064,
          1271560064,
          1271560064,
          1271560064,
          1271560064,
          1271560064,
          1271560064,
          1738522240,
          1271560064,
          1301170560,
          1301170560,
          1271560064,
          1301170560,
          1271560064,
          1301170560,
          1301170560,
          1271560064,
          1301170560,
          1271560064,
          1271560064,
          1271560064,
          1271560064,
          1301170560,
          1301170560,
          1271560064,
          1301170560,
          1271560064,
          1343985536,
          1271560064,
          1368776064,
          1271560064,
          1271560064,
          1368776064,
          1271560064,
          1368776064,
          1271560064,
          1368776064,
          1368776064,
          1817183360,
          1520702848,
          1368776064,
          1368776064,
          1368776064,
          1271560064,
          1271560064,
          1368776064,
          2137839744,
          1368776064,
          1465030016,
          3557864192,
          30268186624,
          33580800000,
          38851039232,
          42566217728,
          48472965120,
          43344175104,
          47456047104,
          57674010624,
          45406875648,
          49746313216,
          47794122752,
          58048389120,
          74699350016,
          90850549760,
          59205038080,
          71040950272,
          81736081408,
          81004699648,
          123250999296,
          88213020672,
          52111945728,
          89059147776,
          102559793152,
          88226537472,
          88981340160,
          55825973248,
          63362138112,
          59270107136,
          61213847552,
          54534766592,
          53068578816,
          194405646336,
          79096840192,
          40059715584,
          231484391424,
          688052109312,
          41693229056,
          88724209664,
          60135792640,
          751128805376,
          72439537664,
          139808768000,
          11991096320,
          564981399552,
          97488052224,
          87480107008,
          102087663616,
          37176324096,
          38114877440,
          9383350272,
          4946990080,
          10016825344,
          21757880320,
          17763901440,
          15404107776,
          14331990016,
          35899981824,
          38627553280,
          36162605056,
          38037446656,
          35544780800,
          46508843008,
          42451972096,
          54236880896,
          103447494656,
          99178971136,
          100347297792,
          80136249344,
          91595079680,
          94845591552,
          80651116544,
          111003648000,
          67312336896,
          75938406400,
          88559665152,
          64660799488,
          91940052992,
          72321245184,
          114614870016,
          75089723392,
          109701079040,
          52336525312,
          197221662720,
          64235270144,
          35567095808,
          269849198592,
          11232768000,
          40773328896,
          226826502144,
          31423946752,
          78942011392,
          44943106048,
          55703752704,
          70424698880,
          47514124288,
          74875682816,
          77726253056,
          104191803392,
          67652513792,
          194730131456,
          67453194240,
          10899064832,
          3744880896,
          3962577408,
          31376881664,
          13885051904,
          24691900416,
          2411513088,
          46787473408,
          36002508800,
          43173400576,
          51261554688,
          96778665984,
          67574624256,
          66263273472,
          60552794112,
          90005037056,
          60459126784,
          102079594496,
          80976601088,
          95243698176,
          86997671936,
          101100060672,
          92455174144,
          109865132032,
          119496294400,
          56648843264,
          36843745280,
          46785171456,
          72043241472,
          60487757824,
          57019097088,
          43277832192,
          34620846080,
          38692229120,
          41940664320,
          53403947008,
          172499255296,
          45321150464,
          166972588032,
          58508963840,
          21877305344,
          59491434496,
          67977482240,
          70370762752,
          115196608512,
          63959392256,
          66907738112,
          156916613120,
          94902493184,
          101861408768,
          77106864128,
          19498692608,
          3646608128,
          4484490752
         ]
        },
        {
         "marker": {
          "color": "purple"
         },
         "name": "Test_예측값_Baysein_XGBoost",
         "type": "scatter",
         "x": [
          "2021-01-31T00:00:00",
          "2021-02-07T00:00:00",
          "2021-02-14T00:00:00",
          "2021-02-21T00:00:00",
          "2021-02-28T00:00:00",
          "2021-03-07T00:00:00",
          "2021-03-14T00:00:00",
          "2021-03-21T00:00:00",
          "2021-03-28T00:00:00",
          "2021-04-04T00:00:00",
          "2021-04-11T00:00:00",
          "2021-04-18T00:00:00",
          "2021-04-25T00:00:00",
          "2021-05-02T00:00:00",
          "2021-05-09T00:00:00",
          "2021-05-16T00:00:00",
          "2021-05-23T00:00:00",
          "2021-05-30T00:00:00",
          "2021-06-06T00:00:00",
          "2021-06-13T00:00:00",
          "2021-06-20T00:00:00",
          "2021-06-27T00:00:00",
          "2021-07-04T00:00:00",
          "2021-07-11T00:00:00",
          "2021-07-18T00:00:00",
          "2021-07-25T00:00:00",
          "2021-08-01T00:00:00",
          "2021-08-08T00:00:00",
          "2021-08-15T00:00:00",
          "2021-08-22T00:00:00",
          "2021-08-29T00:00:00",
          "2021-09-05T00:00:00",
          "2021-09-12T00:00:00",
          "2021-09-19T00:00:00",
          "2021-09-26T00:00:00",
          "2021-10-03T00:00:00",
          "2021-10-10T00:00:00",
          "2021-10-17T00:00:00",
          "2021-10-24T00:00:00",
          "2021-10-31T00:00:00",
          "2021-11-07T00:00:00",
          "2021-11-14T00:00:00",
          "2021-11-21T00:00:00",
          "2021-11-28T00:00:00",
          "2021-12-05T00:00:00",
          "2021-12-12T00:00:00",
          "2021-12-19T00:00:00",
          "2021-12-26T00:00:00"
         ],
         "y": [
          36906668032,
          32794480640,
          12687644672,
          29279348736,
          42511745024,
          35302486016,
          35310002176,
          55900999680,
          69322268672,
          65745489920,
          65813090304,
          74664738816,
          61180841984,
          58389454848,
          54347231232,
          98198847488,
          99413467136,
          96895336448,
          53549940736,
          101787557888,
          66257113088,
          154970636288,
          58724306944,
          51159998464,
          125660413952,
          45978079232,
          54387265536,
          96766574592,
          131147505664,
          87550328832,
          65059172352,
          100635860992,
          37800914944,
          71769120768,
          22108405760,
          45989023744,
          77983850496,
          106765082624,
          131655909376,
          77732265984,
          85137432576,
          104096874496,
          133256945664,
          72408522752,
          93551919104,
          37418201088,
          92554764288,
          11981001728
         ]
        },
        {
         "marker": {
          "color": "purple"
         },
         "name": "Train_예측값_Baysein_XGBoost",
         "type": "scatter",
         "x": [
          "2017-01-29T00:00:00",
          "2017-02-05T00:00:00",
          "2017-02-12T00:00:00",
          "2017-02-19T00:00:00",
          "2017-02-26T00:00:00",
          "2017-03-05T00:00:00",
          "2017-03-12T00:00:00",
          "2017-03-19T00:00:00",
          "2017-03-26T00:00:00",
          "2017-04-02T00:00:00",
          "2017-04-09T00:00:00",
          "2017-04-16T00:00:00",
          "2017-04-23T00:00:00",
          "2017-04-30T00:00:00",
          "2017-05-07T00:00:00",
          "2017-05-14T00:00:00",
          "2017-05-21T00:00:00",
          "2017-05-28T00:00:00",
          "2017-06-04T00:00:00",
          "2017-06-11T00:00:00",
          "2017-06-18T00:00:00",
          "2017-06-25T00:00:00",
          "2017-07-02T00:00:00",
          "2017-07-09T00:00:00",
          "2017-07-16T00:00:00",
          "2017-07-23T00:00:00",
          "2017-07-30T00:00:00",
          "2017-08-06T00:00:00",
          "2017-08-13T00:00:00",
          "2017-08-20T00:00:00",
          "2017-08-27T00:00:00",
          "2017-09-03T00:00:00",
          "2017-09-10T00:00:00",
          "2017-09-17T00:00:00",
          "2017-09-24T00:00:00",
          "2017-10-01T00:00:00",
          "2017-10-08T00:00:00",
          "2017-10-15T00:00:00",
          "2017-10-22T00:00:00",
          "2017-10-29T00:00:00",
          "2017-11-05T00:00:00",
          "2017-11-12T00:00:00",
          "2017-11-19T00:00:00",
          "2017-11-26T00:00:00",
          "2017-12-03T00:00:00",
          "2017-12-10T00:00:00",
          "2017-12-17T00:00:00",
          "2017-12-24T00:00:00",
          "2017-12-31T00:00:00",
          "2018-01-07T00:00:00",
          "2018-01-14T00:00:00",
          "2018-01-21T00:00:00",
          "2018-01-28T00:00:00",
          "2018-02-04T00:00:00",
          "2018-02-11T00:00:00",
          "2018-02-18T00:00:00",
          "2018-02-25T00:00:00",
          "2018-03-04T00:00:00",
          "2018-03-11T00:00:00",
          "2018-03-18T00:00:00",
          "2018-03-25T00:00:00",
          "2018-04-01T00:00:00",
          "2018-04-08T00:00:00",
          "2018-04-15T00:00:00",
          "2018-04-22T00:00:00",
          "2018-04-29T00:00:00",
          "2018-05-06T00:00:00",
          "2018-05-13T00:00:00",
          "2018-05-20T00:00:00",
          "2018-05-27T00:00:00",
          "2018-06-03T00:00:00",
          "2018-06-10T00:00:00",
          "2018-06-17T00:00:00",
          "2018-06-24T00:00:00",
          "2018-07-01T00:00:00",
          "2018-07-08T00:00:00",
          "2018-07-15T00:00:00",
          "2018-07-22T00:00:00",
          "2018-07-29T00:00:00",
          "2018-08-05T00:00:00",
          "2018-08-12T00:00:00",
          "2018-08-19T00:00:00",
          "2018-08-26T00:00:00",
          "2018-09-02T00:00:00",
          "2018-09-09T00:00:00",
          "2018-09-16T00:00:00",
          "2018-09-23T00:00:00",
          "2018-09-30T00:00:00",
          "2018-10-07T00:00:00",
          "2018-10-14T00:00:00",
          "2018-10-21T00:00:00",
          "2018-10-28T00:00:00",
          "2018-11-04T00:00:00",
          "2018-11-11T00:00:00",
          "2018-11-18T00:00:00",
          "2018-11-25T00:00:00",
          "2018-12-02T00:00:00",
          "2018-12-09T00:00:00",
          "2018-12-16T00:00:00",
          "2018-12-23T00:00:00",
          "2018-12-30T00:00:00",
          "2019-01-06T00:00:00",
          "2019-01-13T00:00:00",
          "2019-01-20T00:00:00",
          "2019-01-27T00:00:00",
          "2019-02-03T00:00:00",
          "2019-02-10T00:00:00",
          "2019-02-17T00:00:00",
          "2019-02-24T00:00:00",
          "2019-03-03T00:00:00",
          "2019-03-10T00:00:00",
          "2019-03-17T00:00:00",
          "2019-03-24T00:00:00",
          "2019-03-31T00:00:00",
          "2019-04-07T00:00:00",
          "2019-04-14T00:00:00",
          "2019-04-21T00:00:00",
          "2019-04-28T00:00:00",
          "2019-05-05T00:00:00",
          "2019-05-12T00:00:00",
          "2019-05-19T00:00:00",
          "2019-05-26T00:00:00",
          "2019-06-02T00:00:00",
          "2019-06-09T00:00:00",
          "2019-06-16T00:00:00",
          "2019-06-23T00:00:00",
          "2019-06-30T00:00:00",
          "2019-07-07T00:00:00",
          "2019-07-14T00:00:00",
          "2019-07-21T00:00:00",
          "2019-07-28T00:00:00",
          "2019-08-04T00:00:00",
          "2019-08-11T00:00:00",
          "2019-08-18T00:00:00",
          "2019-08-25T00:00:00",
          "2019-09-01T00:00:00",
          "2019-09-08T00:00:00",
          "2019-09-15T00:00:00",
          "2019-09-22T00:00:00",
          "2019-09-29T00:00:00",
          "2019-10-06T00:00:00",
          "2019-10-13T00:00:00",
          "2019-10-20T00:00:00",
          "2019-10-27T00:00:00",
          "2019-11-03T00:00:00",
          "2019-11-10T00:00:00",
          "2019-11-17T00:00:00",
          "2019-11-24T00:00:00",
          "2019-12-01T00:00:00",
          "2019-12-08T00:00:00",
          "2019-12-15T00:00:00",
          "2019-12-22T00:00:00",
          "2019-12-29T00:00:00",
          "2020-01-05T00:00:00",
          "2020-01-12T00:00:00",
          "2020-01-19T00:00:00",
          "2020-01-26T00:00:00",
          "2020-02-02T00:00:00",
          "2020-02-09T00:00:00",
          "2020-02-16T00:00:00",
          "2020-02-23T00:00:00",
          "2020-03-01T00:00:00",
          "2020-03-08T00:00:00",
          "2020-03-15T00:00:00",
          "2020-03-22T00:00:00",
          "2020-03-29T00:00:00",
          "2020-04-05T00:00:00",
          "2020-04-12T00:00:00",
          "2020-04-19T00:00:00",
          "2020-04-26T00:00:00",
          "2020-05-03T00:00:00",
          "2020-05-10T00:00:00",
          "2020-05-17T00:00:00",
          "2020-05-24T00:00:00",
          "2020-05-31T00:00:00",
          "2020-06-07T00:00:00",
          "2020-06-14T00:00:00",
          "2020-06-21T00:00:00",
          "2020-06-28T00:00:00",
          "2020-07-05T00:00:00",
          "2020-07-12T00:00:00",
          "2020-07-19T00:00:00",
          "2020-07-26T00:00:00",
          "2020-08-02T00:00:00",
          "2020-08-09T00:00:00",
          "2020-08-16T00:00:00",
          "2020-08-23T00:00:00",
          "2020-08-30T00:00:00",
          "2020-09-06T00:00:00",
          "2020-09-13T00:00:00",
          "2020-09-20T00:00:00",
          "2020-09-27T00:00:00",
          "2020-10-04T00:00:00",
          "2020-10-11T00:00:00",
          "2020-10-18T00:00:00",
          "2020-10-25T00:00:00",
          "2020-11-01T00:00:00",
          "2020-11-08T00:00:00",
          "2020-11-15T00:00:00",
          "2020-11-22T00:00:00",
          "2020-11-29T00:00:00",
          "2020-12-06T00:00:00",
          "2020-12-13T00:00:00",
          "2020-12-20T00:00:00",
          "2020-12-27T00:00:00",
          "2021-01-03T00:00:00"
         ],
         "y": [
          185339744,
          150577104,
          262336848,
          295942272,
          248731408,
          8924574,
          8924574,
          8924574,
          1748989824,
          8924574,
          635227456,
          556434240,
          8924574,
          556589568,
          8924574,
          591757184,
          331520960,
          8924574,
          285253696,
          8924574,
          8924574,
          8924574,
          8924574,
          541135488,
          693316864,
          8924574,
          395349120,
          8924574,
          658055424,
          8924574,
          727623936,
          8924574,
          8924574,
          665759168,
          8924574,
          916538112,
          8924574,
          699683776,
          1217562368,
          1258331392,
          518052096,
          2003178368,
          855129152,
          475096448,
          8924574,
          8924574,
          488799072,
          2157640192,
          625589696,
          577289088,
          3798786816,
          28977410048,
          32338843648,
          36492857344,
          44075614208,
          20375683072,
          35711381504,
          38126067712,
          32860649472,
          33682982912,
          43240701952,
          56541659136,
          48271208448,
          94107353088,
          88521670656,
          51100794880,
          68161212416,
          71179608064,
          70642507776,
          49537814528,
          95462645760,
          46161399808,
          97042382848,
          107106353152,
          73707962368,
          41281499136,
          39252144128,
          60759330816,
          37265227776,
          25550116864,
          64558116864,
          41551273984,
          240233349120,
          23615438848,
          31080544256,
          205535756288,
          760517361664,
          25195986944,
          65952956416,
          27336503296,
          777364045824,
          26935613440,
          86067404800,
          21564575744,
          641942880256,
          38485655552,
          42682392576,
          40709865472,
          23456192512,
          39683645440,
          10577734656,
          5228980224,
          8172634624,
          9608724480,
          9139725312,
          19206586368,
          8250160640,
          24324352000,
          34180257792,
          27891988480,
          25954820096,
          21213448192,
          43782508544,
          29386696704,
          54141235200,
          97029373952,
          109259014144,
          103081787392,
          68607131648,
          87146807296,
          105999761408,
          61491396608,
          95114321920,
          72569307136,
          79732244480,
          77574799360,
          41842388992,
          100739997696,
          76399894528,
          91278000128,
          42198818816,
          89523003392,
          42773917696,
          268617596928,
          29899276288,
          25450133504,
          270328119296,
          6090259456,
          25340614656,
          264202616832,
          28709224448,
          26359513088,
          21279164416,
          45248708608,
          92198428672,
          44443680768,
          59684237312,
          54658056192,
          49026748416,
          69377294336,
          131137036288,
          26113501184,
          16458438656,
          4827558912,
          5970503680,
          21200836608,
          7781356032,
          6195032576,
          7951865856,
          40416722944,
          32929660928,
          35301564416,
          25909024768,
          138940104704,
          70100803584,
          70774439936,
          69622964224,
          100661706752,
          63293173760,
          86168682496,
          77998137344,
          102297403392,
          77053771776,
          102249676800,
          87786307584,
          109619871744,
          85119950848,
          48446607360,
          41292038144,
          42776649728,
          30594220032,
          68616929280,
          39944384512,
          31923445760,
          17742755840,
          24072495104,
          25230026752,
          53720731648,
          206560411648,
          57293004800,
          174234189824,
          56868405248,
          13677168640,
          25064581120,
          28192995328,
          42573615104,
          100278378496,
          34481434624,
          58174967808,
          193395359744,
          108339183616,
          96242237440,
          66251108352,
          12716809216,
          3618931712,
          6092323328
         ]
        },
        {
         "marker": {
          "color": "gray"
         },
         "name": "Test_예측값_Extra",
         "type": "scatter",
         "x": [
          "2021-01-31T00:00:00",
          "2021-02-07T00:00:00",
          "2021-02-14T00:00:00",
          "2021-02-21T00:00:00",
          "2021-02-28T00:00:00",
          "2021-03-07T00:00:00",
          "2021-03-14T00:00:00",
          "2021-03-21T00:00:00",
          "2021-03-28T00:00:00",
          "2021-04-04T00:00:00",
          "2021-04-11T00:00:00",
          "2021-04-18T00:00:00",
          "2021-04-25T00:00:00",
          "2021-05-02T00:00:00",
          "2021-05-09T00:00:00",
          "2021-05-16T00:00:00",
          "2021-05-23T00:00:00",
          "2021-05-30T00:00:00",
          "2021-06-06T00:00:00",
          "2021-06-13T00:00:00",
          "2021-06-20T00:00:00",
          "2021-06-27T00:00:00",
          "2021-07-04T00:00:00",
          "2021-07-11T00:00:00",
          "2021-07-18T00:00:00",
          "2021-07-25T00:00:00",
          "2021-08-01T00:00:00",
          "2021-08-08T00:00:00",
          "2021-08-15T00:00:00",
          "2021-08-22T00:00:00",
          "2021-08-29T00:00:00",
          "2021-09-05T00:00:00",
          "2021-09-12T00:00:00",
          "2021-09-19T00:00:00",
          "2021-09-26T00:00:00",
          "2021-10-03T00:00:00",
          "2021-10-10T00:00:00",
          "2021-10-17T00:00:00",
          "2021-10-24T00:00:00",
          "2021-10-31T00:00:00",
          "2021-11-07T00:00:00",
          "2021-11-14T00:00:00",
          "2021-11-21T00:00:00",
          "2021-11-28T00:00:00",
          "2021-12-05T00:00:00",
          "2021-12-12T00:00:00",
          "2021-12-19T00:00:00",
          "2021-12-26T00:00:00"
         ],
         "y": [
          27744603945.97154,
          32095409347.76411,
          11274514780.540356,
          33550177985.679367,
          49278256672.383026,
          67262778045.35132,
          58032594318.635056,
          62446201499.6871,
          66670752388.10123,
          44541616833.000984,
          47711721478.83228,
          52507135730.33676,
          64446756596.89126,
          62850649422.40914,
          61166941046.57886,
          90770571019.9262,
          92400791965.47049,
          89603021467.99294,
          56910874347.94504,
          91609404621.8752,
          93594458759.50418,
          101281340456.09161,
          55166613613.195244,
          55016676945.932335,
          104964889643.79121,
          71292386632.0507,
          55264073552.327324,
          81294449867.3455,
          95347123846.99414,
          62590572020.16299,
          158256575768.8192,
          150612071113.5622,
          111974092102.30424,
          106000080703.78543,
          24931956587.780117,
          96201319681.19699,
          85859837520.8144,
          95440773620.78682,
          149548404234.71082,
          94627213069.10919,
          92393291282.13342,
          99162162876.80202,
          114359853701.04945,
          91639166141.31195,
          102581104689.32088,
          129010296800.10692,
          103733564465.0879,
          21741692507.3978
         ]
        },
        {
         "marker": {
          "color": "gray"
         },
         "name": "Train_예측값_Extra",
         "type": "scatter",
         "x": [
          "2017-01-29T00:00:00",
          "2017-02-05T00:00:00",
          "2017-02-12T00:00:00",
          "2017-02-19T00:00:00",
          "2017-02-26T00:00:00",
          "2017-03-05T00:00:00",
          "2017-03-12T00:00:00",
          "2017-03-19T00:00:00",
          "2017-03-26T00:00:00",
          "2017-04-02T00:00:00",
          "2017-04-09T00:00:00",
          "2017-04-16T00:00:00",
          "2017-04-23T00:00:00",
          "2017-04-30T00:00:00",
          "2017-05-07T00:00:00",
          "2017-05-14T00:00:00",
          "2017-05-21T00:00:00",
          "2017-05-28T00:00:00",
          "2017-06-04T00:00:00",
          "2017-06-11T00:00:00",
          "2017-06-18T00:00:00",
          "2017-06-25T00:00:00",
          "2017-07-02T00:00:00",
          "2017-07-09T00:00:00",
          "2017-07-16T00:00:00",
          "2017-07-23T00:00:00",
          "2017-07-30T00:00:00",
          "2017-08-06T00:00:00",
          "2017-08-13T00:00:00",
          "2017-08-20T00:00:00",
          "2017-08-27T00:00:00",
          "2017-09-03T00:00:00",
          "2017-09-10T00:00:00",
          "2017-09-17T00:00:00",
          "2017-09-24T00:00:00",
          "2017-10-01T00:00:00",
          "2017-10-08T00:00:00",
          "2017-10-15T00:00:00",
          "2017-10-22T00:00:00",
          "2017-10-29T00:00:00",
          "2017-11-05T00:00:00",
          "2017-11-12T00:00:00",
          "2017-11-19T00:00:00",
          "2017-11-26T00:00:00",
          "2017-12-03T00:00:00",
          "2017-12-10T00:00:00",
          "2017-12-17T00:00:00",
          "2017-12-24T00:00:00",
          "2017-12-31T00:00:00",
          "2018-01-07T00:00:00",
          "2018-01-14T00:00:00",
          "2018-01-21T00:00:00",
          "2018-01-28T00:00:00",
          "2018-02-04T00:00:00",
          "2018-02-11T00:00:00",
          "2018-02-18T00:00:00",
          "2018-02-25T00:00:00",
          "2018-03-04T00:00:00",
          "2018-03-11T00:00:00",
          "2018-03-18T00:00:00",
          "2018-03-25T00:00:00",
          "2018-04-01T00:00:00",
          "2018-04-08T00:00:00",
          "2018-04-15T00:00:00",
          "2018-04-22T00:00:00",
          "2018-04-29T00:00:00",
          "2018-05-06T00:00:00",
          "2018-05-13T00:00:00",
          "2018-05-20T00:00:00",
          "2018-05-27T00:00:00",
          "2018-06-03T00:00:00",
          "2018-06-10T00:00:00",
          "2018-06-17T00:00:00",
          "2018-06-24T00:00:00",
          "2018-07-01T00:00:00",
          "2018-07-08T00:00:00",
          "2018-07-15T00:00:00",
          "2018-07-22T00:00:00",
          "2018-07-29T00:00:00",
          "2018-08-05T00:00:00",
          "2018-08-12T00:00:00",
          "2018-08-19T00:00:00",
          "2018-08-26T00:00:00",
          "2018-09-02T00:00:00",
          "2018-09-09T00:00:00",
          "2018-09-16T00:00:00",
          "2018-09-23T00:00:00",
          "2018-09-30T00:00:00",
          "2018-10-07T00:00:00",
          "2018-10-14T00:00:00",
          "2018-10-21T00:00:00",
          "2018-10-28T00:00:00",
          "2018-11-04T00:00:00",
          "2018-11-11T00:00:00",
          "2018-11-18T00:00:00",
          "2018-11-25T00:00:00",
          "2018-12-02T00:00:00",
          "2018-12-09T00:00:00",
          "2018-12-16T00:00:00",
          "2018-12-23T00:00:00",
          "2018-12-30T00:00:00",
          "2019-01-06T00:00:00",
          "2019-01-13T00:00:00",
          "2019-01-20T00:00:00",
          "2019-01-27T00:00:00",
          "2019-02-03T00:00:00",
          "2019-02-10T00:00:00",
          "2019-02-17T00:00:00",
          "2019-02-24T00:00:00",
          "2019-03-03T00:00:00",
          "2019-03-10T00:00:00",
          "2019-03-17T00:00:00",
          "2019-03-24T00:00:00",
          "2019-03-31T00:00:00",
          "2019-04-07T00:00:00",
          "2019-04-14T00:00:00",
          "2019-04-21T00:00:00",
          "2019-04-28T00:00:00",
          "2019-05-05T00:00:00",
          "2019-05-12T00:00:00",
          "2019-05-19T00:00:00",
          "2019-05-26T00:00:00",
          "2019-06-02T00:00:00",
          "2019-06-09T00:00:00",
          "2019-06-16T00:00:00",
          "2019-06-23T00:00:00",
          "2019-06-30T00:00:00",
          "2019-07-07T00:00:00",
          "2019-07-14T00:00:00",
          "2019-07-21T00:00:00",
          "2019-07-28T00:00:00",
          "2019-08-04T00:00:00",
          "2019-08-11T00:00:00",
          "2019-08-18T00:00:00",
          "2019-08-25T00:00:00",
          "2019-09-01T00:00:00",
          "2019-09-08T00:00:00",
          "2019-09-15T00:00:00",
          "2019-09-22T00:00:00",
          "2019-09-29T00:00:00",
          "2019-10-06T00:00:00",
          "2019-10-13T00:00:00",
          "2019-10-20T00:00:00",
          "2019-10-27T00:00:00",
          "2019-11-03T00:00:00",
          "2019-11-10T00:00:00",
          "2019-11-17T00:00:00",
          "2019-11-24T00:00:00",
          "2019-12-01T00:00:00",
          "2019-12-08T00:00:00",
          "2019-12-15T00:00:00",
          "2019-12-22T00:00:00",
          "2019-12-29T00:00:00",
          "2020-01-05T00:00:00",
          "2020-01-12T00:00:00",
          "2020-01-19T00:00:00",
          "2020-01-26T00:00:00",
          "2020-02-02T00:00:00",
          "2020-02-09T00:00:00",
          "2020-02-16T00:00:00",
          "2020-02-23T00:00:00",
          "2020-03-01T00:00:00",
          "2020-03-08T00:00:00",
          "2020-03-15T00:00:00",
          "2020-03-22T00:00:00",
          "2020-03-29T00:00:00",
          "2020-04-05T00:00:00",
          "2020-04-12T00:00:00",
          "2020-04-19T00:00:00",
          "2020-04-26T00:00:00",
          "2020-05-03T00:00:00",
          "2020-05-10T00:00:00",
          "2020-05-17T00:00:00",
          "2020-05-24T00:00:00",
          "2020-05-31T00:00:00",
          "2020-06-07T00:00:00",
          "2020-06-14T00:00:00",
          "2020-06-21T00:00:00",
          "2020-06-28T00:00:00",
          "2020-07-05T00:00:00",
          "2020-07-12T00:00:00",
          "2020-07-19T00:00:00",
          "2020-07-26T00:00:00",
          "2020-08-02T00:00:00",
          "2020-08-09T00:00:00",
          "2020-08-16T00:00:00",
          "2020-08-23T00:00:00",
          "2020-08-30T00:00:00",
          "2020-09-06T00:00:00",
          "2020-09-13T00:00:00",
          "2020-09-20T00:00:00",
          "2020-09-27T00:00:00",
          "2020-10-04T00:00:00",
          "2020-10-11T00:00:00",
          "2020-10-18T00:00:00",
          "2020-10-25T00:00:00",
          "2020-11-01T00:00:00",
          "2020-11-08T00:00:00",
          "2020-11-15T00:00:00",
          "2020-11-22T00:00:00",
          "2020-11-29T00:00:00",
          "2020-12-06T00:00:00",
          "2020-12-13T00:00:00",
          "2020-12-20T00:00:00",
          "2020-12-27T00:00:00",
          "2021-01-03T00:00:00"
         ],
         "y": [
          306495222.62203443,
          308805747.6899035,
          380504939.84751624,
          363963920.91648054,
          364396142.8403187,
          57690553.56544025,
          57690553.56544025,
          57690553.56544025,
          1315941581.4845488,
          57690553.56544025,
          625036831.4346626,
          537988517.8649073,
          57690553.56544025,
          527722410.35545164,
          57690553.56544025,
          639305917.6442035,
          548506852.0536263,
          57690553.56544025,
          602461250.7622306,
          57690553.56544025,
          57690553.56544025,
          57690553.56544025,
          57690553.56544025,
          749946320.6397383,
          763217677.1485915,
          57690553.56544025,
          673901555.2353928,
          57690553.56544025,
          875287271.8467861,
          57690553.56544025,
          911761932.7967288,
          57690553.56544025,
          57690553.56544025,
          913441069.3890038,
          57690553.56544025,
          1041525486.1185367,
          57690553.56544025,
          1115012919.568018,
          1102742914.787028,
          1620516112.9178064,
          1151972517.168287,
          1182680376.5938272,
          819511249.8269401,
          931340534.3638576,
          57690553.56544025,
          57690553.56544025,
          850008761.5396076,
          2029189879.1048126,
          1040930124.6071959,
          1919401739.6171541,
          6209678334.469312,
          22919000760.201977,
          26469165992.522755,
          33702587942.926037,
          40889008707.035774,
          29212757314.252274,
          38303058690.464226,
          44745250555.90524,
          62965400366.89729,
          47013656360.20381,
          47700651702.51876,
          48899893056.55312,
          69198768813.62115,
          78147096736.39703,
          89572277676.78647,
          57309154656.63146,
          72378125737.72226,
          78595866226.89308,
          74738012829.00972,
          97381437228.63722,
          94551552676.4311,
          63753283693.37123,
          87818205894.01624,
          99324833127.31648,
          84581864243.6392,
          88419986872.01903,
          70870681695.92143,
          85635082603.47487,
          93554813313.5818,
          73850246415.62038,
          69117775990.55353,
          63203385701.61892,
          190755752050.31165,
          175401013275.0562,
          97350050735.31033,
          244772171683.7058,
          340454051938.50275,
          58231501763.467804,
          80958147368.1628,
          171102790336.1399,
          375553258097.20953,
          149186004766.2285,
          203974847041.20285,
          75027573796.25249,
          327010508528.2133,
          279541159515.45087,
          217263304316.97693,
          162866982035.50482,
          54943223491.464745,
          40460258817.852806,
          16900393133.372814,
          6340463871.623623,
          12182375486.249628,
          13371408605.886572,
          16772362387.189426,
          20840944550.495247,
          15037082556.614983,
          30634696111.54782,
          37140181793.27477,
          32916507818.50926,
          46421028917.92502,
          53066221656.881744,
          45163866668.04331,
          35121173401.47688,
          51407089174.463455,
          98424540259.0962,
          105939393597.83057,
          100407822676.09431,
          81446657279.60036,
          97115080789.90254,
          96780802467.49673,
          82669305276.6532,
          98972488877.32884,
          86556256666.23062,
          87375598349.69815,
          92756830156.3657,
          62785020489.46815,
          102846494434.87521,
          95856619088.47696,
          116951935775.3484,
          74934770079.42226,
          138096612575.24347,
          74242510781.20634,
          147093591129.04404,
          58311129311.92457,
          34057881808.90838,
          184948026650.47156,
          19451596177.308384,
          67014781419.76949,
          216251378403.62274,
          93798302465.6457,
          107192230263.9995,
          75944730336.4504,
          77674394859.61665,
          85565440379.08934,
          82083753701.56866,
          126349419936.59935,
          123210309305.86824,
          100056020229.8925,
          90821455644.40945,
          158882912624.62198,
          86672620088.1038,
          14648210749.07297,
          5042033006.968017,
          6784230082.796145,
          13613278038.327028,
          12829512431.670876,
          17522518245.373386,
          13121165333.104143,
          41441994833.2379,
          48588003881.845146,
          56193508504.11078,
          75611366559.2565,
          100945499245.78458,
          76254200467.22432,
          70730892467.31017,
          62925766371.48313,
          95300138328.08885,
          67980039931.13456,
          99720796181.09276,
          80069528976.10182,
          102152849885.34116,
          97620676119.01157,
          99686340760.76074,
          94300854103.09035,
          101837487586.33286,
          102901458687.9047,
          56398487024.747116,
          46503820081.59789,
          53460798817.760544,
          79751851557.59653,
          58064235722.58974,
          79893028478.06833,
          77793496414.96336,
          57925831473.92628,
          64103205881.13028,
          59732400568.23456,
          58793682735.49545,
          131307301621.11615,
          58573875480.33077,
          135942450891.9172,
          92886666137.92836,
          28716840367.729137,
          75302816956.52242,
          132164524907.7929,
          112349475459.42111,
          92336602537.01486,
          97440494677.10782,
          78093100874.53873,
          123476411535.85156,
          108966819315.08574,
          79959773338.99991,
          94949933976.76062,
          29908101446.37139,
          7524778824.826077,
          7170694563.631067
         ]
        },
        {
         "marker": {
          "color": "lightcoral"
         },
         "name": "Test_예측값_Voting",
         "type": "scatter",
         "x": [
          "2021-01-31T00:00:00",
          "2021-02-07T00:00:00",
          "2021-02-14T00:00:00",
          "2021-02-21T00:00:00",
          "2021-02-28T00:00:00",
          "2021-03-07T00:00:00",
          "2021-03-14T00:00:00",
          "2021-03-21T00:00:00",
          "2021-03-28T00:00:00",
          "2021-04-04T00:00:00",
          "2021-04-11T00:00:00",
          "2021-04-18T00:00:00",
          "2021-04-25T00:00:00",
          "2021-05-02T00:00:00",
          "2021-05-09T00:00:00",
          "2021-05-16T00:00:00",
          "2021-05-23T00:00:00",
          "2021-05-30T00:00:00",
          "2021-06-06T00:00:00",
          "2021-06-13T00:00:00",
          "2021-06-20T00:00:00",
          "2021-06-27T00:00:00",
          "2021-07-04T00:00:00",
          "2021-07-11T00:00:00",
          "2021-07-18T00:00:00",
          "2021-07-25T00:00:00",
          "2021-08-01T00:00:00",
          "2021-08-08T00:00:00",
          "2021-08-15T00:00:00",
          "2021-08-22T00:00:00",
          "2021-08-29T00:00:00",
          "2021-09-05T00:00:00",
          "2021-09-12T00:00:00",
          "2021-09-19T00:00:00",
          "2021-09-26T00:00:00",
          "2021-10-03T00:00:00",
          "2021-10-10T00:00:00",
          "2021-10-17T00:00:00",
          "2021-10-24T00:00:00",
          "2021-10-31T00:00:00",
          "2021-11-07T00:00:00",
          "2021-11-14T00:00:00",
          "2021-11-21T00:00:00",
          "2021-11-28T00:00:00",
          "2021-12-05T00:00:00",
          "2021-12-12T00:00:00",
          "2021-12-19T00:00:00",
          "2021-12-26T00:00:00"
         ],
         "y": [
          36906668032,
          32794480640,
          12687644672,
          29279348736,
          42511745024,
          35302486016,
          35310002176,
          55900999680,
          69322268672,
          65745489920,
          65813090304,
          74664738816,
          61180841984,
          58389454848,
          54347231232,
          98198847488,
          99413467136,
          96895336448,
          53549940736,
          101787557888,
          66257113088,
          154970636288,
          58724306944,
          51159998464,
          125660413952,
          45978079232,
          54387265536,
          96766574592,
          131147505664,
          87550328832,
          65059172352,
          100635860992,
          37800914944,
          71769120768,
          22108405760,
          45989023744,
          77983850496,
          106765082624,
          131655909376,
          77732265984,
          85137432576,
          104096874496,
          133256945664,
          72408522752,
          93551919104,
          37418201088,
          92554764288,
          11981001728
         ]
        },
        {
         "marker": {
          "color": "lightcoral"
         },
         "name": "Train_예측값_Voting",
         "type": "scatter",
         "x": [
          "2017-01-29T00:00:00",
          "2017-02-05T00:00:00",
          "2017-02-12T00:00:00",
          "2017-02-19T00:00:00",
          "2017-02-26T00:00:00",
          "2017-03-05T00:00:00",
          "2017-03-12T00:00:00",
          "2017-03-19T00:00:00",
          "2017-03-26T00:00:00",
          "2017-04-02T00:00:00",
          "2017-04-09T00:00:00",
          "2017-04-16T00:00:00",
          "2017-04-23T00:00:00",
          "2017-04-30T00:00:00",
          "2017-05-07T00:00:00",
          "2017-05-14T00:00:00",
          "2017-05-21T00:00:00",
          "2017-05-28T00:00:00",
          "2017-06-04T00:00:00",
          "2017-06-11T00:00:00",
          "2017-06-18T00:00:00",
          "2017-06-25T00:00:00",
          "2017-07-02T00:00:00",
          "2017-07-09T00:00:00",
          "2017-07-16T00:00:00",
          "2017-07-23T00:00:00",
          "2017-07-30T00:00:00",
          "2017-08-06T00:00:00",
          "2017-08-13T00:00:00",
          "2017-08-20T00:00:00",
          "2017-08-27T00:00:00",
          "2017-09-03T00:00:00",
          "2017-09-10T00:00:00",
          "2017-09-17T00:00:00",
          "2017-09-24T00:00:00",
          "2017-10-01T00:00:00",
          "2017-10-08T00:00:00",
          "2017-10-15T00:00:00",
          "2017-10-22T00:00:00",
          "2017-10-29T00:00:00",
          "2017-11-05T00:00:00",
          "2017-11-12T00:00:00",
          "2017-11-19T00:00:00",
          "2017-11-26T00:00:00",
          "2017-12-03T00:00:00",
          "2017-12-10T00:00:00",
          "2017-12-17T00:00:00",
          "2017-12-24T00:00:00",
          "2017-12-31T00:00:00",
          "2018-01-07T00:00:00",
          "2018-01-14T00:00:00",
          "2018-01-21T00:00:00",
          "2018-01-28T00:00:00",
          "2018-02-04T00:00:00",
          "2018-02-11T00:00:00",
          "2018-02-18T00:00:00",
          "2018-02-25T00:00:00",
          "2018-03-04T00:00:00",
          "2018-03-11T00:00:00",
          "2018-03-18T00:00:00",
          "2018-03-25T00:00:00",
          "2018-04-01T00:00:00",
          "2018-04-08T00:00:00",
          "2018-04-15T00:00:00",
          "2018-04-22T00:00:00",
          "2018-04-29T00:00:00",
          "2018-05-06T00:00:00",
          "2018-05-13T00:00:00",
          "2018-05-20T00:00:00",
          "2018-05-27T00:00:00",
          "2018-06-03T00:00:00",
          "2018-06-10T00:00:00",
          "2018-06-17T00:00:00",
          "2018-06-24T00:00:00",
          "2018-07-01T00:00:00",
          "2018-07-08T00:00:00",
          "2018-07-15T00:00:00",
          "2018-07-22T00:00:00",
          "2018-07-29T00:00:00",
          "2018-08-05T00:00:00",
          "2018-08-12T00:00:00",
          "2018-08-19T00:00:00",
          "2018-08-26T00:00:00",
          "2018-09-02T00:00:00",
          "2018-09-09T00:00:00",
          "2018-09-16T00:00:00",
          "2018-09-23T00:00:00",
          "2018-09-30T00:00:00",
          "2018-10-07T00:00:00",
          "2018-10-14T00:00:00",
          "2018-10-21T00:00:00",
          "2018-10-28T00:00:00",
          "2018-11-04T00:00:00",
          "2018-11-11T00:00:00",
          "2018-11-18T00:00:00",
          "2018-11-25T00:00:00",
          "2018-12-02T00:00:00",
          "2018-12-09T00:00:00",
          "2018-12-16T00:00:00",
          "2018-12-23T00:00:00",
          "2018-12-30T00:00:00",
          "2019-01-06T00:00:00",
          "2019-01-13T00:00:00",
          "2019-01-20T00:00:00",
          "2019-01-27T00:00:00",
          "2019-02-03T00:00:00",
          "2019-02-10T00:00:00",
          "2019-02-17T00:00:00",
          "2019-02-24T00:00:00",
          "2019-03-03T00:00:00",
          "2019-03-10T00:00:00",
          "2019-03-17T00:00:00",
          "2019-03-24T00:00:00",
          "2019-03-31T00:00:00",
          "2019-04-07T00:00:00",
          "2019-04-14T00:00:00",
          "2019-04-21T00:00:00",
          "2019-04-28T00:00:00",
          "2019-05-05T00:00:00",
          "2019-05-12T00:00:00",
          "2019-05-19T00:00:00",
          "2019-05-26T00:00:00",
          "2019-06-02T00:00:00",
          "2019-06-09T00:00:00",
          "2019-06-16T00:00:00",
          "2019-06-23T00:00:00",
          "2019-06-30T00:00:00",
          "2019-07-07T00:00:00",
          "2019-07-14T00:00:00",
          "2019-07-21T00:00:00",
          "2019-07-28T00:00:00",
          "2019-08-04T00:00:00",
          "2019-08-11T00:00:00",
          "2019-08-18T00:00:00",
          "2019-08-25T00:00:00",
          "2019-09-01T00:00:00",
          "2019-09-08T00:00:00",
          "2019-09-15T00:00:00",
          "2019-09-22T00:00:00",
          "2019-09-29T00:00:00",
          "2019-10-06T00:00:00",
          "2019-10-13T00:00:00",
          "2019-10-20T00:00:00",
          "2019-10-27T00:00:00",
          "2019-11-03T00:00:00",
          "2019-11-10T00:00:00",
          "2019-11-17T00:00:00",
          "2019-11-24T00:00:00",
          "2019-12-01T00:00:00",
          "2019-12-08T00:00:00",
          "2019-12-15T00:00:00",
          "2019-12-22T00:00:00",
          "2019-12-29T00:00:00",
          "2020-01-05T00:00:00",
          "2020-01-12T00:00:00",
          "2020-01-19T00:00:00",
          "2020-01-26T00:00:00",
          "2020-02-02T00:00:00",
          "2020-02-09T00:00:00",
          "2020-02-16T00:00:00",
          "2020-02-23T00:00:00",
          "2020-03-01T00:00:00",
          "2020-03-08T00:00:00",
          "2020-03-15T00:00:00",
          "2020-03-22T00:00:00",
          "2020-03-29T00:00:00",
          "2020-04-05T00:00:00",
          "2020-04-12T00:00:00",
          "2020-04-19T00:00:00",
          "2020-04-26T00:00:00",
          "2020-05-03T00:00:00",
          "2020-05-10T00:00:00",
          "2020-05-17T00:00:00",
          "2020-05-24T00:00:00",
          "2020-05-31T00:00:00",
          "2020-06-07T00:00:00",
          "2020-06-14T00:00:00",
          "2020-06-21T00:00:00",
          "2020-06-28T00:00:00",
          "2020-07-05T00:00:00",
          "2020-07-12T00:00:00",
          "2020-07-19T00:00:00",
          "2020-07-26T00:00:00",
          "2020-08-02T00:00:00",
          "2020-08-09T00:00:00",
          "2020-08-16T00:00:00",
          "2020-08-23T00:00:00",
          "2020-08-30T00:00:00",
          "2020-09-06T00:00:00",
          "2020-09-13T00:00:00",
          "2020-09-20T00:00:00",
          "2020-09-27T00:00:00",
          "2020-10-04T00:00:00",
          "2020-10-11T00:00:00",
          "2020-10-18T00:00:00",
          "2020-10-25T00:00:00",
          "2020-11-01T00:00:00",
          "2020-11-08T00:00:00",
          "2020-11-15T00:00:00",
          "2020-11-22T00:00:00",
          "2020-11-29T00:00:00",
          "2020-12-06T00:00:00",
          "2020-12-13T00:00:00",
          "2020-12-20T00:00:00",
          "2020-12-27T00:00:00",
          "2021-01-03T00:00:00"
         ],
         "y": [
          185339744,
          150577104,
          262336848,
          295942272,
          248731408,
          8924574,
          8924574,
          8924574,
          1748989824,
          8924574,
          635227456,
          556434240,
          8924574,
          556589568,
          8924574,
          591757184,
          331520960,
          8924574,
          285253696,
          8924574,
          8924574,
          8924574,
          8924574,
          541135488,
          693316864,
          8924574,
          395349120,
          8924574,
          658055424,
          8924574,
          727623936,
          8924574,
          8924574,
          665759168,
          8924574,
          916538112,
          8924574,
          699683776,
          1217562368,
          1258331392,
          518052096,
          2003178368,
          855129152,
          475096448,
          8924574,
          8924574,
          488799072,
          2157640192,
          625589696,
          577289088,
          3798786816,
          28977410048,
          32338843648,
          36492857344,
          44075614208,
          20375683072,
          35711381504,
          38126067712,
          32860649472,
          33682982912,
          43240701952,
          56541659136,
          48271208448,
          94107353088,
          88521670656,
          51100794880,
          68161212416,
          71179608064,
          70642507776,
          49537814528,
          95462645760,
          46161399808,
          97042382848,
          107106353152,
          73707962368,
          41281499136,
          39252144128,
          60759330816,
          37265227776,
          25550116864,
          64558116864,
          41551273984,
          240233349120,
          23615438848,
          31080544256,
          205535756288,
          760517361664,
          25195986944,
          65952956416,
          27336503296,
          777364045824,
          26935613440,
          86067404800,
          21564575744,
          641942880256,
          38485655552,
          42682392576,
          40709865472,
          23456192512,
          39683645440,
          10577734656,
          5228980224,
          8172634624,
          9608724480,
          9139725312,
          19206586368,
          8250160640,
          24324352000,
          34180257792,
          27891988480,
          25954820096,
          21213448192,
          43782508544,
          29386696704,
          54141235200,
          97029373952,
          109259014144,
          103081787392,
          68607131648,
          87146807296,
          105999761408,
          61491396608,
          95114321920,
          72569307136,
          79732244480,
          77574799360,
          41842388992,
          100739997696,
          76399894528,
          91278000128,
          42198818816,
          89523003392,
          42773917696,
          268617596928,
          29899276288,
          25450133504,
          270328119296,
          6090259456,
          25340614656,
          264202616832,
          28709224448,
          26359513088,
          21279164416,
          45248708608,
          92198428672,
          44443680768,
          59684237312,
          54658056192,
          49026748416,
          69377294336,
          131137036288,
          26113501184,
          16458438656,
          4827558912,
          5970503680,
          21200836608,
          7781356032,
          6195032576,
          7951865856,
          40416722944,
          32929660928,
          35301564416,
          25909024768,
          138940104704,
          70100803584,
          70774439936,
          69622964224,
          100661706752,
          63293173760,
          86168682496,
          77998137344,
          102297403392,
          77053771776,
          102249676800,
          87786307584,
          109619871744,
          85119950848,
          48446607360,
          41292038144,
          42776649728,
          30594220032,
          68616929280,
          39944384512,
          31923445760,
          17742755840,
          24072495104,
          25230026752,
          53720731648,
          206560411648,
          57293004800,
          174234189824,
          56868405248,
          13677168640,
          25064581120,
          28192995328,
          42573615104,
          100278378496,
          34481434624,
          58174967808,
          193395359744,
          108339183616,
          96242237440,
          66251108352,
          12716809216,
          3618931712,
          6092323328
         ]
        }
       ],
       "layout": {
        "annotations": [
         {
          "align": "center",
          "ax": 40,
          "ay": -30,
          "font": {
           "color": "black",
           "size": 15
          },
          "showarrow": false,
          "text": "<b>Test</b>",
          "x": "2021-02-20",
          "y": 1000000000000
         },
         {
          "align": "center",
          "ax": 40,
          "ay": -30,
          "font": {
           "color": "black",
           "size": 15
          },
          "showarrow": false,
          "text": "<b>Train</b>",
          "x": "2020-11-15",
          "y": 1000000000000
         }
        ],
        "autosize": false,
        "height": 800,
        "shapes": [
         {
          "line": {
           "dash": "dash"
          },
          "type": "line",
          "x0": "2021-01-01",
          "x1": "2021-01-01",
          "xref": "x",
          "y0": 0,
          "y1": 1,
          "yref": "y domain"
         }
        ],
        "template": {
         "data": {
          "bar": [
           {
            "error_x": {
             "color": "#2a3f5f"
            },
            "error_y": {
             "color": "#2a3f5f"
            },
            "marker": {
             "line": {
              "color": "#E5ECF6",
              "width": 0.5
             },
             "pattern": {
              "fillmode": "overlay",
              "size": 10,
              "solidity": 0.2
             }
            },
            "type": "bar"
           }
          ],
          "barpolar": [
           {
            "marker": {
             "line": {
              "color": "#E5ECF6",
              "width": 0.5
             },
             "pattern": {
              "fillmode": "overlay",
              "size": 10,
              "solidity": 0.2
             }
            },
            "type": "barpolar"
           }
          ],
          "carpet": [
           {
            "aaxis": {
             "endlinecolor": "#2a3f5f",
             "gridcolor": "white",
             "linecolor": "white",
             "minorgridcolor": "white",
             "startlinecolor": "#2a3f5f"
            },
            "baxis": {
             "endlinecolor": "#2a3f5f",
             "gridcolor": "white",
             "linecolor": "white",
             "minorgridcolor": "white",
             "startlinecolor": "#2a3f5f"
            },
            "type": "carpet"
           }
          ],
          "choropleth": [
           {
            "colorbar": {
             "outlinewidth": 0,
             "ticks": ""
            },
            "type": "choropleth"
           }
          ],
          "contour": [
           {
            "colorbar": {
             "outlinewidth": 0,
             "ticks": ""
            },
            "colorscale": [
             [
              0,
              "#0d0887"
             ],
             [
              0.1111111111111111,
              "#46039f"
             ],
             [
              0.2222222222222222,
              "#7201a8"
             ],
             [
              0.3333333333333333,
              "#9c179e"
             ],
             [
              0.4444444444444444,
              "#bd3786"
             ],
             [
              0.5555555555555556,
              "#d8576b"
             ],
             [
              0.6666666666666666,
              "#ed7953"
             ],
             [
              0.7777777777777778,
              "#fb9f3a"
             ],
             [
              0.8888888888888888,
              "#fdca26"
             ],
             [
              1,
              "#f0f921"
             ]
            ],
            "type": "contour"
           }
          ],
          "contourcarpet": [
           {
            "colorbar": {
             "outlinewidth": 0,
             "ticks": ""
            },
            "type": "contourcarpet"
           }
          ],
          "heatmap": [
           {
            "colorbar": {
             "outlinewidth": 0,
             "ticks": ""
            },
            "colorscale": [
             [
              0,
              "#0d0887"
             ],
             [
              0.1111111111111111,
              "#46039f"
             ],
             [
              0.2222222222222222,
              "#7201a8"
             ],
             [
              0.3333333333333333,
              "#9c179e"
             ],
             [
              0.4444444444444444,
              "#bd3786"
             ],
             [
              0.5555555555555556,
              "#d8576b"
             ],
             [
              0.6666666666666666,
              "#ed7953"
             ],
             [
              0.7777777777777778,
              "#fb9f3a"
             ],
             [
              0.8888888888888888,
              "#fdca26"
             ],
             [
              1,
              "#f0f921"
             ]
            ],
            "type": "heatmap"
           }
          ],
          "heatmapgl": [
           {
            "colorbar": {
             "outlinewidth": 0,
             "ticks": ""
            },
            "colorscale": [
             [
              0,
              "#0d0887"
             ],
             [
              0.1111111111111111,
              "#46039f"
             ],
             [
              0.2222222222222222,
              "#7201a8"
             ],
             [
              0.3333333333333333,
              "#9c179e"
             ],
             [
              0.4444444444444444,
              "#bd3786"
             ],
             [
              0.5555555555555556,
              "#d8576b"
             ],
             [
              0.6666666666666666,
              "#ed7953"
             ],
             [
              0.7777777777777778,
              "#fb9f3a"
             ],
             [
              0.8888888888888888,
              "#fdca26"
             ],
             [
              1,
              "#f0f921"
             ]
            ],
            "type": "heatmapgl"
           }
          ],
          "histogram": [
           {
            "marker": {
             "pattern": {
              "fillmode": "overlay",
              "size": 10,
              "solidity": 0.2
             }
            },
            "type": "histogram"
           }
          ],
          "histogram2d": [
           {
            "colorbar": {
             "outlinewidth": 0,
             "ticks": ""
            },
            "colorscale": [
             [
              0,
              "#0d0887"
             ],
             [
              0.1111111111111111,
              "#46039f"
             ],
             [
              0.2222222222222222,
              "#7201a8"
             ],
             [
              0.3333333333333333,
              "#9c179e"
             ],
             [
              0.4444444444444444,
              "#bd3786"
             ],
             [
              0.5555555555555556,
              "#d8576b"
             ],
             [
              0.6666666666666666,
              "#ed7953"
             ],
             [
              0.7777777777777778,
              "#fb9f3a"
             ],
             [
              0.8888888888888888,
              "#fdca26"
             ],
             [
              1,
              "#f0f921"
             ]
            ],
            "type": "histogram2d"
           }
          ],
          "histogram2dcontour": [
           {
            "colorbar": {
             "outlinewidth": 0,
             "ticks": ""
            },
            "colorscale": [
             [
              0,
              "#0d0887"
             ],
             [
              0.1111111111111111,
              "#46039f"
             ],
             [
              0.2222222222222222,
              "#7201a8"
             ],
             [
              0.3333333333333333,
              "#9c179e"
             ],
             [
              0.4444444444444444,
              "#bd3786"
             ],
             [
              0.5555555555555556,
              "#d8576b"
             ],
             [
              0.6666666666666666,
              "#ed7953"
             ],
             [
              0.7777777777777778,
              "#fb9f3a"
             ],
             [
              0.8888888888888888,
              "#fdca26"
             ],
             [
              1,
              "#f0f921"
             ]
            ],
            "type": "histogram2dcontour"
           }
          ],
          "mesh3d": [
           {
            "colorbar": {
             "outlinewidth": 0,
             "ticks": ""
            },
            "type": "mesh3d"
           }
          ],
          "parcoords": [
           {
            "line": {
             "colorbar": {
              "outlinewidth": 0,
              "ticks": ""
             }
            },
            "type": "parcoords"
           }
          ],
          "pie": [
           {
            "automargin": true,
            "type": "pie"
           }
          ],
          "scatter": [
           {
            "marker": {
             "colorbar": {
              "outlinewidth": 0,
              "ticks": ""
             }
            },
            "type": "scatter"
           }
          ],
          "scatter3d": [
           {
            "line": {
             "colorbar": {
              "outlinewidth": 0,
              "ticks": ""
             }
            },
            "marker": {
             "colorbar": {
              "outlinewidth": 0,
              "ticks": ""
             }
            },
            "type": "scatter3d"
           }
          ],
          "scattercarpet": [
           {
            "marker": {
             "colorbar": {
              "outlinewidth": 0,
              "ticks": ""
             }
            },
            "type": "scattercarpet"
           }
          ],
          "scattergeo": [
           {
            "marker": {
             "colorbar": {
              "outlinewidth": 0,
              "ticks": ""
             }
            },
            "type": "scattergeo"
           }
          ],
          "scattergl": [
           {
            "marker": {
             "colorbar": {
              "outlinewidth": 0,
              "ticks": ""
             }
            },
            "type": "scattergl"
           }
          ],
          "scattermapbox": [
           {
            "marker": {
             "colorbar": {
              "outlinewidth": 0,
              "ticks": ""
             }
            },
            "type": "scattermapbox"
           }
          ],
          "scatterpolar": [
           {
            "marker": {
             "colorbar": {
              "outlinewidth": 0,
              "ticks": ""
             }
            },
            "type": "scatterpolar"
           }
          ],
          "scatterpolargl": [
           {
            "marker": {
             "colorbar": {
              "outlinewidth": 0,
              "ticks": ""
             }
            },
            "type": "scatterpolargl"
           }
          ],
          "scatterternary": [
           {
            "marker": {
             "colorbar": {
              "outlinewidth": 0,
              "ticks": ""
             }
            },
            "type": "scatterternary"
           }
          ],
          "surface": [
           {
            "colorbar": {
             "outlinewidth": 0,
             "ticks": ""
            },
            "colorscale": [
             [
              0,
              "#0d0887"
             ],
             [
              0.1111111111111111,
              "#46039f"
             ],
             [
              0.2222222222222222,
              "#7201a8"
             ],
             [
              0.3333333333333333,
              "#9c179e"
             ],
             [
              0.4444444444444444,
              "#bd3786"
             ],
             [
              0.5555555555555556,
              "#d8576b"
             ],
             [
              0.6666666666666666,
              "#ed7953"
             ],
             [
              0.7777777777777778,
              "#fb9f3a"
             ],
             [
              0.8888888888888888,
              "#fdca26"
             ],
             [
              1,
              "#f0f921"
             ]
            ],
            "type": "surface"
           }
          ],
          "table": [
           {
            "cells": {
             "fill": {
              "color": "#EBF0F8"
             },
             "line": {
              "color": "white"
             }
            },
            "header": {
             "fill": {
              "color": "#C8D4E3"
             },
             "line": {
              "color": "white"
             }
            },
            "type": "table"
           }
          ]
         },
         "layout": {
          "annotationdefaults": {
           "arrowcolor": "#2a3f5f",
           "arrowhead": 0,
           "arrowwidth": 1
          },
          "autotypenumbers": "strict",
          "coloraxis": {
           "colorbar": {
            "outlinewidth": 0,
            "ticks": ""
           }
          },
          "colorscale": {
           "diverging": [
            [
             0,
             "#8e0152"
            ],
            [
             0.1,
             "#c51b7d"
            ],
            [
             0.2,
             "#de77ae"
            ],
            [
             0.3,
             "#f1b6da"
            ],
            [
             0.4,
             "#fde0ef"
            ],
            [
             0.5,
             "#f7f7f7"
            ],
            [
             0.6,
             "#e6f5d0"
            ],
            [
             0.7,
             "#b8e186"
            ],
            [
             0.8,
             "#7fbc41"
            ],
            [
             0.9,
             "#4d9221"
            ],
            [
             1,
             "#276419"
            ]
           ],
           "sequential": [
            [
             0,
             "#0d0887"
            ],
            [
             0.1111111111111111,
             "#46039f"
            ],
            [
             0.2222222222222222,
             "#7201a8"
            ],
            [
             0.3333333333333333,
             "#9c179e"
            ],
            [
             0.4444444444444444,
             "#bd3786"
            ],
            [
             0.5555555555555556,
             "#d8576b"
            ],
            [
             0.6666666666666666,
             "#ed7953"
            ],
            [
             0.7777777777777778,
             "#fb9f3a"
            ],
            [
             0.8888888888888888,
             "#fdca26"
            ],
            [
             1,
             "#f0f921"
            ]
           ],
           "sequentialminus": [
            [
             0,
             "#0d0887"
            ],
            [
             0.1111111111111111,
             "#46039f"
            ],
            [
             0.2222222222222222,
             "#7201a8"
            ],
            [
             0.3333333333333333,
             "#9c179e"
            ],
            [
             0.4444444444444444,
             "#bd3786"
            ],
            [
             0.5555555555555556,
             "#d8576b"
            ],
            [
             0.6666666666666666,
             "#ed7953"
            ],
            [
             0.7777777777777778,
             "#fb9f3a"
            ],
            [
             0.8888888888888888,
             "#fdca26"
            ],
            [
             1,
             "#f0f921"
            ]
           ]
          },
          "colorway": [
           "#636efa",
           "#EF553B",
           "#00cc96",
           "#ab63fa",
           "#FFA15A",
           "#19d3f3",
           "#FF6692",
           "#B6E880",
           "#FF97FF",
           "#FECB52"
          ],
          "font": {
           "color": "#2a3f5f"
          },
          "geo": {
           "bgcolor": "white",
           "lakecolor": "white",
           "landcolor": "#E5ECF6",
           "showlakes": true,
           "showland": true,
           "subunitcolor": "white"
          },
          "hoverlabel": {
           "align": "left"
          },
          "hovermode": "closest",
          "mapbox": {
           "style": "light"
          },
          "paper_bgcolor": "white",
          "plot_bgcolor": "#E5ECF6",
          "polar": {
           "angularaxis": {
            "gridcolor": "white",
            "linecolor": "white",
            "ticks": ""
           },
           "bgcolor": "#E5ECF6",
           "radialaxis": {
            "gridcolor": "white",
            "linecolor": "white",
            "ticks": ""
           }
          },
          "scene": {
           "xaxis": {
            "backgroundcolor": "#E5ECF6",
            "gridcolor": "white",
            "gridwidth": 2,
            "linecolor": "white",
            "showbackground": true,
            "ticks": "",
            "zerolinecolor": "white"
           },
           "yaxis": {
            "backgroundcolor": "#E5ECF6",
            "gridcolor": "white",
            "gridwidth": 2,
            "linecolor": "white",
            "showbackground": true,
            "ticks": "",
            "zerolinecolor": "white"
           },
           "zaxis": {
            "backgroundcolor": "#E5ECF6",
            "gridcolor": "white",
            "gridwidth": 2,
            "linecolor": "white",
            "showbackground": true,
            "ticks": "",
            "zerolinecolor": "white"
           }
          },
          "shapedefaults": {
           "line": {
            "color": "#2a3f5f"
           }
          },
          "ternary": {
           "aaxis": {
            "gridcolor": "white",
            "linecolor": "white",
            "ticks": ""
           },
           "baxis": {
            "gridcolor": "white",
            "linecolor": "white",
            "ticks": ""
           },
           "bgcolor": "#E5ECF6",
           "caxis": {
            "gridcolor": "white",
            "linecolor": "white",
            "ticks": ""
           }
          },
          "title": {
           "x": 0.05
          },
          "xaxis": {
           "automargin": true,
           "gridcolor": "white",
           "linecolor": "white",
           "ticks": "",
           "title": {
            "standoff": 15
           },
           "zerolinecolor": "white",
           "zerolinewidth": 2
          },
          "yaxis": {
           "automargin": true,
           "gridcolor": "white",
           "linecolor": "white",
           "ticks": "",
           "title": {
            "standoff": 15
           },
           "zerolinecolor": "white",
           "zerolinewidth": 2
          }
         }
        },
        "title": {
         "text": "물품 : 방위사업청 대한 수요예측 "
        },
        "width": 1600,
        "xaxis": {
         "title": {
          "text": "주 단위 시계열 (2017/01/05 ~ 2021/01/23)"
         }
        },
        "yaxis": {
         "title": {
          "text": "주별 예산 총액"
         }
        }
       }
      },
      "text/html": [
       "<div>                            <div id=\"517408c5-ae66-42c5-bd87-32e55db1fb3c\" class=\"plotly-graph-div\" style=\"height:800px; width:1600px;\"></div>            <script type=\"text/javascript\">                require([\"plotly\"], function(Plotly) {                    window.PLOTLYENV=window.PLOTLYENV || {};                                    if (document.getElementById(\"517408c5-ae66-42c5-bd87-32e55db1fb3c\")) {                    Plotly.newPlot(                        \"517408c5-ae66-42c5-bd87-32e55db1fb3c\",                        [{\"marker\":{\"color\":\"black\"},\"name\":\"Test_\\uc2e4\\uc81c\\uac12\",\"type\":\"scatter\",\"x\":[\"2021-01-31T00:00:00\",\"2021-02-07T00:00:00\",\"2021-02-14T00:00:00\",\"2021-02-21T00:00:00\",\"2021-02-28T00:00:00\",\"2021-03-07T00:00:00\",\"2021-03-14T00:00:00\",\"2021-03-21T00:00:00\",\"2021-03-28T00:00:00\",\"2021-04-04T00:00:00\",\"2021-04-11T00:00:00\",\"2021-04-18T00:00:00\",\"2021-04-25T00:00:00\",\"2021-05-02T00:00:00\",\"2021-05-09T00:00:00\",\"2021-05-16T00:00:00\",\"2021-05-23T00:00:00\",\"2021-05-30T00:00:00\",\"2021-06-06T00:00:00\",\"2021-06-13T00:00:00\",\"2021-06-20T00:00:00\",\"2021-06-27T00:00:00\",\"2021-07-04T00:00:00\",\"2021-07-11T00:00:00\",\"2021-07-18T00:00:00\",\"2021-07-25T00:00:00\",\"2021-08-01T00:00:00\",\"2021-08-08T00:00:00\",\"2021-08-15T00:00:00\",\"2021-08-22T00:00:00\",\"2021-08-29T00:00:00\",\"2021-09-05T00:00:00\",\"2021-09-12T00:00:00\",\"2021-09-19T00:00:00\",\"2021-09-26T00:00:00\",\"2021-10-03T00:00:00\",\"2021-10-10T00:00:00\",\"2021-10-17T00:00:00\",\"2021-10-24T00:00:00\",\"2021-10-31T00:00:00\",\"2021-11-07T00:00:00\",\"2021-11-14T00:00:00\",\"2021-11-21T00:00:00\",\"2021-11-28T00:00:00\",\"2021-12-05T00:00:00\",\"2021-12-12T00:00:00\",\"2021-12-19T00:00:00\",\"2021-12-26T00:00:00\"],\"y\":[7337225706.0,27347055003.0,5074479868.0,39264604792.0,36203780157.0,51839331058.0,30669673771.54,45739009942.0,73582825611.17,56964762272.0,30855048197.0,26942350541.0,64653359404.08,49508927648.24,49714439146.0,53517135863.0,61460840150.0,42946292795.0,49412901085.4,31304979748.0,141471893764.0,252291423985.0,56772959542.16,22215277994.0,64462815909.619995,34703041214.0,19283769822.0,49031605859.0,48234089592.0,1028963866214.0,40249971411.0,92184749828.35,109165867539.0,60023557380.68,14382099050.0,28947858720.0,27828632079.0,29967753378.0,666433590977.0,18579529460.0,40249474993.0,25579625559.0,56024163420.0,177803738211.0,544827856344.0,123515762088.0,133644678872.0,75255235013.0]},{\"marker\":{\"color\":\"black\"},\"name\":\"Train_\\uc2e4\\uc81c\\uac12\",\"type\":\"scatter\",\"x\":[\"2017-01-29T00:00:00\",\"2017-02-05T00:00:00\",\"2017-02-12T00:00:00\",\"2017-02-19T00:00:00\",\"2017-02-26T00:00:00\",\"2017-03-05T00:00:00\",\"2017-03-12T00:00:00\",\"2017-03-19T00:00:00\",\"2017-03-26T00:00:00\",\"2017-04-02T00:00:00\",\"2017-04-09T00:00:00\",\"2017-04-16T00:00:00\",\"2017-04-23T00:00:00\",\"2017-04-30T00:00:00\",\"2017-05-07T00:00:00\",\"2017-05-14T00:00:00\",\"2017-05-21T00:00:00\",\"2017-05-28T00:00:00\",\"2017-06-04T00:00:00\",\"2017-06-11T00:00:00\",\"2017-06-18T00:00:00\",\"2017-06-25T00:00:00\",\"2017-07-02T00:00:00\",\"2017-07-09T00:00:00\",\"2017-07-16T00:00:00\",\"2017-07-23T00:00:00\",\"2017-07-30T00:00:00\",\"2017-08-06T00:00:00\",\"2017-08-13T00:00:00\",\"2017-08-20T00:00:00\",\"2017-08-27T00:00:00\",\"2017-09-03T00:00:00\",\"2017-09-10T00:00:00\",\"2017-09-17T00:00:00\",\"2017-09-24T00:00:00\",\"2017-10-01T00:00:00\",\"2017-10-08T00:00:00\",\"2017-10-15T00:00:00\",\"2017-10-22T00:00:00\",\"2017-10-29T00:00:00\",\"2017-11-05T00:00:00\",\"2017-11-12T00:00:00\",\"2017-11-19T00:00:00\",\"2017-11-26T00:00:00\",\"2017-12-03T00:00:00\",\"2017-12-10T00:00:00\",\"2017-12-17T00:00:00\",\"2017-12-24T00:00:00\",\"2017-12-31T00:00:00\",\"2018-01-07T00:00:00\",\"2018-01-14T00:00:00\",\"2018-01-21T00:00:00\",\"2018-01-28T00:00:00\",\"2018-02-04T00:00:00\",\"2018-02-11T00:00:00\",\"2018-02-18T00:00:00\",\"2018-02-25T00:00:00\",\"2018-03-04T00:00:00\",\"2018-03-11T00:00:00\",\"2018-03-18T00:00:00\",\"2018-03-25T00:00:00\",\"2018-04-01T00:00:00\",\"2018-04-08T00:00:00\",\"2018-04-15T00:00:00\",\"2018-04-22T00:00:00\",\"2018-04-29T00:00:00\",\"2018-05-06T00:00:00\",\"2018-05-13T00:00:00\",\"2018-05-20T00:00:00\",\"2018-05-27T00:00:00\",\"2018-06-03T00:00:00\",\"2018-06-10T00:00:00\",\"2018-06-17T00:00:00\",\"2018-06-24T00:00:00\",\"2018-07-01T00:00:00\",\"2018-07-08T00:00:00\",\"2018-07-15T00:00:00\",\"2018-07-22T00:00:00\",\"2018-07-29T00:00:00\",\"2018-08-05T00:00:00\",\"2018-08-12T00:00:00\",\"2018-08-19T00:00:00\",\"2018-08-26T00:00:00\",\"2018-09-02T00:00:00\",\"2018-09-09T00:00:00\",\"2018-09-16T00:00:00\",\"2018-09-23T00:00:00\",\"2018-09-30T00:00:00\",\"2018-10-07T00:00:00\",\"2018-10-14T00:00:00\",\"2018-10-21T00:00:00\",\"2018-10-28T00:00:00\",\"2018-11-04T00:00:00\",\"2018-11-11T00:00:00\",\"2018-11-18T00:00:00\",\"2018-11-25T00:00:00\",\"2018-12-02T00:00:00\",\"2018-12-09T00:00:00\",\"2018-12-16T00:00:00\",\"2018-12-23T00:00:00\",\"2018-12-30T00:00:00\",\"2019-01-06T00:00:00\",\"2019-01-13T00:00:00\",\"2019-01-20T00:00:00\",\"2019-01-27T00:00:00\",\"2019-02-03T00:00:00\",\"2019-02-10T00:00:00\",\"2019-02-17T00:00:00\",\"2019-02-24T00:00:00\",\"2019-03-03T00:00:00\",\"2019-03-10T00:00:00\",\"2019-03-17T00:00:00\",\"2019-03-24T00:00:00\",\"2019-03-31T00:00:00\",\"2019-04-07T00:00:00\",\"2019-04-14T00:00:00\",\"2019-04-21T00:00:00\",\"2019-04-28T00:00:00\",\"2019-05-05T00:00:00\",\"2019-05-12T00:00:00\",\"2019-05-19T00:00:00\",\"2019-05-26T00:00:00\",\"2019-06-02T00:00:00\",\"2019-06-09T00:00:00\",\"2019-06-16T00:00:00\",\"2019-06-23T00:00:00\",\"2019-06-30T00:00:00\",\"2019-07-07T00:00:00\",\"2019-07-14T00:00:00\",\"2019-07-21T00:00:00\",\"2019-07-28T00:00:00\",\"2019-08-04T00:00:00\",\"2019-08-11T00:00:00\",\"2019-08-18T00:00:00\",\"2019-08-25T00:00:00\",\"2019-09-01T00:00:00\",\"2019-09-08T00:00:00\",\"2019-09-15T00:00:00\",\"2019-09-22T00:00:00\",\"2019-09-29T00:00:00\",\"2019-10-06T00:00:00\",\"2019-10-13T00:00:00\",\"2019-10-20T00:00:00\",\"2019-10-27T00:00:00\",\"2019-11-03T00:00:00\",\"2019-11-10T00:00:00\",\"2019-11-17T00:00:00\",\"2019-11-24T00:00:00\",\"2019-12-01T00:00:00\",\"2019-12-08T00:00:00\",\"2019-12-15T00:00:00\",\"2019-12-22T00:00:00\",\"2019-12-29T00:00:00\",\"2020-01-05T00:00:00\",\"2020-01-12T00:00:00\",\"2020-01-19T00:00:00\",\"2020-01-26T00:00:00\",\"2020-02-02T00:00:00\",\"2020-02-09T00:00:00\",\"2020-02-16T00:00:00\",\"2020-02-23T00:00:00\",\"2020-03-01T00:00:00\",\"2020-03-08T00:00:00\",\"2020-03-15T00:00:00\",\"2020-03-22T00:00:00\",\"2020-03-29T00:00:00\",\"2020-04-05T00:00:00\",\"2020-04-12T00:00:00\",\"2020-04-19T00:00:00\",\"2020-04-26T00:00:00\",\"2020-05-03T00:00:00\",\"2020-05-10T00:00:00\",\"2020-05-17T00:00:00\",\"2020-05-24T00:00:00\",\"2020-05-31T00:00:00\",\"2020-06-07T00:00:00\",\"2020-06-14T00:00:00\",\"2020-06-21T00:00:00\",\"2020-06-28T00:00:00\",\"2020-07-05T00:00:00\",\"2020-07-12T00:00:00\",\"2020-07-19T00:00:00\",\"2020-07-26T00:00:00\",\"2020-08-02T00:00:00\",\"2020-08-09T00:00:00\",\"2020-08-16T00:00:00\",\"2020-08-23T00:00:00\",\"2020-08-30T00:00:00\",\"2020-09-06T00:00:00\",\"2020-09-13T00:00:00\",\"2020-09-20T00:00:00\",\"2020-09-27T00:00:00\",\"2020-10-04T00:00:00\",\"2020-10-11T00:00:00\",\"2020-10-18T00:00:00\",\"2020-10-25T00:00:00\",\"2020-11-01T00:00:00\",\"2020-11-08T00:00:00\",\"2020-11-15T00:00:00\",\"2020-11-22T00:00:00\",\"2020-11-29T00:00:00\",\"2020-12-06T00:00:00\",\"2020-12-13T00:00:00\",\"2020-12-20T00:00:00\",\"2020-12-27T00:00:00\",\"2021-01-03T00:00:00\"],\"y\":[170826630.0,170826630.0,170826630.0,445431390.0,170826630.0,0.0,0.0,0.0,2387869360.0,0.0,727532840.0,727532840.0,0.0,727532840.0,0.0,727532840.0,98541070.0,0.0,211108940.0,0.0,0.0,0.0,0.0,590415660.0,1156470220.0,0.0,72156200.0,0.0,776162000.0,0.0,513707980.0,0.0,0.0,701817610.0,0.0,988659790.0,0.0,301709400.0,1444402100.0,1289108220.0,424064080.0,3031792560.0,1290369190.0,359571800.0,0.0,0.0,378152000.0,2396094000.0,802099990.0,688028200.0,3937926740.0,31268057506.0,41786664483.0,40488509132.4,51663041406.0,20921401313.0,36164116018.46,40321769095.73,36677548194.0,33937813240.04,41850717623.57,66779573268.15,50308832967.25,107947861705.81,90613602591.93,54651202251.87,70068589963.32,70286337456.03,65966784067.520004,52415031934.64,112671915781.45,50588734889.21,121819310360.08,122969728199.52,79117110498.64,38150719341.62,38825324697.78,72065051524.26,36087340169.41,24056261582.0,81106456800.38,44764421339.88,303683507494.34,25505752009.17,22369637240.37,252130636402.73,1004770618650.37,25343599052.0,72169912506.68,26580659096.0,991361555007.0,22390776568.0,103718661344.0,19539482233.01,749583264792.04,31848137085.6,46077592517.14,47332912387.0,22877271845.97,46033848280.0,10099363760.0,5667926781.0,8419101082.0,9813282217.0,9666224896.0,21390022641.0,8343103281.0,21221320502.0,35285782106.76,27782165259.0,27634818441.760002,22075695936.2,45140575284.25,32487925989.22,60358404319.24,107883422374.28,130777607980.47,128001318595.33,69797151830.66,94070151170.06,128735815671.95999,67379761323.34,104043005480.4,74532308254.56,88499660402.66,82529817270.92,45104254445.0,115538187832.20999,87993131695.86,99115537718.2,39950036971.0,104592870380.0,39121988306.18,360157437512.95996,32737171903.0,28607504589.0,335748561823.66003,6031000040.0,27102877969.0,322325444445.0,26707134393.0,26789998342.0,18499280240.0,51949279066.0,122149995517.38,48613426622.0,69448517104.0,60665582010.0,55734348470.0,84721566416.0,160418672150.0,27320793810.0,21302898348.0,5172795449.0,7702885197.0,25274736216.0,6724843232.0,6213574335.0,8474800384.0,42953151063.0,35209828528.0,39665941936.0,28167953744.0,195591495427.0,78170028033.0,84161759174.16,86538352666.13,114455285511.09,66731725414.24,87729777418.38,90046011568.63,121205998837.95,79052329091.29,114871442465.8,94826886143.34999,136582183668.77,89741411147.57,51842798798.94,40768554477.0,41880798080.0,31061333019.83,81117126095.0,38467722725.0,33603239350.010002,17365775983.95,25549276122.01,24901629452.46,57604651968.479996,241421447260.0,63402178320.76,193191383849.75,66326393371.0,14483652218.0,26751270276.0,30051514070.0,46513057885.0,118222432353.0,32829985696.0,65318671749.0,257215390385.0,144670220914.16998,115811718537.0,75131717958.0,13944171022.0,3735845397.0,7351718010.0]},{\"marker\":{\"color\":\"red\"},\"name\":\"Test_\\uc608\\uce21\\uac12_XGBOOST\",\"type\":\"scatter\",\"x\":[\"2021-01-31T00:00:00\",\"2021-02-07T00:00:00\",\"2021-02-14T00:00:00\",\"2021-02-21T00:00:00\",\"2021-02-28T00:00:00\",\"2021-03-07T00:00:00\",\"2021-03-14T00:00:00\",\"2021-03-21T00:00:00\",\"2021-03-28T00:00:00\",\"2021-04-04T00:00:00\",\"2021-04-11T00:00:00\",\"2021-04-18T00:00:00\",\"2021-04-25T00:00:00\",\"2021-05-02T00:00:00\",\"2021-05-09T00:00:00\",\"2021-05-16T00:00:00\",\"2021-05-23T00:00:00\",\"2021-05-30T00:00:00\",\"2021-06-06T00:00:00\",\"2021-06-13T00:00:00\",\"2021-06-20T00:00:00\",\"2021-06-27T00:00:00\",\"2021-07-04T00:00:00\",\"2021-07-11T00:00:00\",\"2021-07-18T00:00:00\",\"2021-07-25T00:00:00\",\"2021-08-01T00:00:00\",\"2021-08-08T00:00:00\",\"2021-08-15T00:00:00\",\"2021-08-22T00:00:00\",\"2021-08-29T00:00:00\",\"2021-09-05T00:00:00\",\"2021-09-12T00:00:00\",\"2021-09-19T00:00:00\",\"2021-09-26T00:00:00\",\"2021-10-03T00:00:00\",\"2021-10-10T00:00:00\",\"2021-10-17T00:00:00\",\"2021-10-24T00:00:00\",\"2021-10-31T00:00:00\",\"2021-11-07T00:00:00\",\"2021-11-14T00:00:00\",\"2021-11-21T00:00:00\",\"2021-11-28T00:00:00\",\"2021-12-05T00:00:00\",\"2021-12-12T00:00:00\",\"2021-12-19T00:00:00\",\"2021-12-26T00:00:00\"],\"y\":[43430019072.0,40483774464.0,8559711232.0,43351470080.0,41589661696.0,40286646272.0,39035293696.0,60081995776.0,66174234624.0,61914787840.0,52625862656.0,65481809920.0,63255216128.0,60530860032.0,48689242112.0,86469050368.0,99468689408.0,96808951808.0,46498217984.0,96812507136.0,84676059136.0,152111759360.0,44039860224.0,28180555776.0,193951744000.0,51231797248.0,53859287040.0,61056868352.0,93563994112.0,83086835712.0,97579606016.0,80136962048.0,86712418304.0,44449673216.0,16954434560.0,61906763776.0,86733873152.0,119023886336.0,208497000448.0,80883318784.0,111210020864.0,121782263808.0,105126051840.0,87437918208.0,127862939648.0,62432686080.0,110636392448.0,13541732352.0]},{\"marker\":{\"color\":\"red\"},\"name\":\"Train_\\uc608\\uce21\\uac12_XGBOOST\",\"type\":\"scatter\",\"x\":[\"2017-01-29T00:00:00\",\"2017-02-05T00:00:00\",\"2017-02-12T00:00:00\",\"2017-02-19T00:00:00\",\"2017-02-26T00:00:00\",\"2017-03-05T00:00:00\",\"2017-03-12T00:00:00\",\"2017-03-19T00:00:00\",\"2017-03-26T00:00:00\",\"2017-04-02T00:00:00\",\"2017-04-09T00:00:00\",\"2017-04-16T00:00:00\",\"2017-04-23T00:00:00\",\"2017-04-30T00:00:00\",\"2017-05-07T00:00:00\",\"2017-05-14T00:00:00\",\"2017-05-21T00:00:00\",\"2017-05-28T00:00:00\",\"2017-06-04T00:00:00\",\"2017-06-11T00:00:00\",\"2017-06-18T00:00:00\",\"2017-06-25T00:00:00\",\"2017-07-02T00:00:00\",\"2017-07-09T00:00:00\",\"2017-07-16T00:00:00\",\"2017-07-23T00:00:00\",\"2017-07-30T00:00:00\",\"2017-08-06T00:00:00\",\"2017-08-13T00:00:00\",\"2017-08-20T00:00:00\",\"2017-08-27T00:00:00\",\"2017-09-03T00:00:00\",\"2017-09-10T00:00:00\",\"2017-09-17T00:00:00\",\"2017-09-24T00:00:00\",\"2017-10-01T00:00:00\",\"2017-10-08T00:00:00\",\"2017-10-15T00:00:00\",\"2017-10-22T00:00:00\",\"2017-10-29T00:00:00\",\"2017-11-05T00:00:00\",\"2017-11-12T00:00:00\",\"2017-11-19T00:00:00\",\"2017-11-26T00:00:00\",\"2017-12-03T00:00:00\",\"2017-12-10T00:00:00\",\"2017-12-17T00:00:00\",\"2017-12-24T00:00:00\",\"2017-12-31T00:00:00\",\"2018-01-07T00:00:00\",\"2018-01-14T00:00:00\",\"2018-01-21T00:00:00\",\"2018-01-28T00:00:00\",\"2018-02-04T00:00:00\",\"2018-02-11T00:00:00\",\"2018-02-18T00:00:00\",\"2018-02-25T00:00:00\",\"2018-03-04T00:00:00\",\"2018-03-11T00:00:00\",\"2018-03-18T00:00:00\",\"2018-03-25T00:00:00\",\"2018-04-01T00:00:00\",\"2018-04-08T00:00:00\",\"2018-04-15T00:00:00\",\"2018-04-22T00:00:00\",\"2018-04-29T00:00:00\",\"2018-05-06T00:00:00\",\"2018-05-13T00:00:00\",\"2018-05-20T00:00:00\",\"2018-05-27T00:00:00\",\"2018-06-03T00:00:00\",\"2018-06-10T00:00:00\",\"2018-06-17T00:00:00\",\"2018-06-24T00:00:00\",\"2018-07-01T00:00:00\",\"2018-07-08T00:00:00\",\"2018-07-15T00:00:00\",\"2018-07-22T00:00:00\",\"2018-07-29T00:00:00\",\"2018-08-05T00:00:00\",\"2018-08-12T00:00:00\",\"2018-08-19T00:00:00\",\"2018-08-26T00:00:00\",\"2018-09-02T00:00:00\",\"2018-09-09T00:00:00\",\"2018-09-16T00:00:00\",\"2018-09-23T00:00:00\",\"2018-09-30T00:00:00\",\"2018-10-07T00:00:00\",\"2018-10-14T00:00:00\",\"2018-10-21T00:00:00\",\"2018-10-28T00:00:00\",\"2018-11-04T00:00:00\",\"2018-11-11T00:00:00\",\"2018-11-18T00:00:00\",\"2018-11-25T00:00:00\",\"2018-12-02T00:00:00\",\"2018-12-09T00:00:00\",\"2018-12-16T00:00:00\",\"2018-12-23T00:00:00\",\"2018-12-30T00:00:00\",\"2019-01-06T00:00:00\",\"2019-01-13T00:00:00\",\"2019-01-20T00:00:00\",\"2019-01-27T00:00:00\",\"2019-02-03T00:00:00\",\"2019-02-10T00:00:00\",\"2019-02-17T00:00:00\",\"2019-02-24T00:00:00\",\"2019-03-03T00:00:00\",\"2019-03-10T00:00:00\",\"2019-03-17T00:00:00\",\"2019-03-24T00:00:00\",\"2019-03-31T00:00:00\",\"2019-04-07T00:00:00\",\"2019-04-14T00:00:00\",\"2019-04-21T00:00:00\",\"2019-04-28T00:00:00\",\"2019-05-05T00:00:00\",\"2019-05-12T00:00:00\",\"2019-05-19T00:00:00\",\"2019-05-26T00:00:00\",\"2019-06-02T00:00:00\",\"2019-06-09T00:00:00\",\"2019-06-16T00:00:00\",\"2019-06-23T00:00:00\",\"2019-06-30T00:00:00\",\"2019-07-07T00:00:00\",\"2019-07-14T00:00:00\",\"2019-07-21T00:00:00\",\"2019-07-28T00:00:00\",\"2019-08-04T00:00:00\",\"2019-08-11T00:00:00\",\"2019-08-18T00:00:00\",\"2019-08-25T00:00:00\",\"2019-09-01T00:00:00\",\"2019-09-08T00:00:00\",\"2019-09-15T00:00:00\",\"2019-09-22T00:00:00\",\"2019-09-29T00:00:00\",\"2019-10-06T00:00:00\",\"2019-10-13T00:00:00\",\"2019-10-20T00:00:00\",\"2019-10-27T00:00:00\",\"2019-11-03T00:00:00\",\"2019-11-10T00:00:00\",\"2019-11-17T00:00:00\",\"2019-11-24T00:00:00\",\"2019-12-01T00:00:00\",\"2019-12-08T00:00:00\",\"2019-12-15T00:00:00\",\"2019-12-22T00:00:00\",\"2019-12-29T00:00:00\",\"2020-01-05T00:00:00\",\"2020-01-12T00:00:00\",\"2020-01-19T00:00:00\",\"2020-01-26T00:00:00\",\"2020-02-02T00:00:00\",\"2020-02-09T00:00:00\",\"2020-02-16T00:00:00\",\"2020-02-23T00:00:00\",\"2020-03-01T00:00:00\",\"2020-03-08T00:00:00\",\"2020-03-15T00:00:00\",\"2020-03-22T00:00:00\",\"2020-03-29T00:00:00\",\"2020-04-05T00:00:00\",\"2020-04-12T00:00:00\",\"2020-04-19T00:00:00\",\"2020-04-26T00:00:00\",\"2020-05-03T00:00:00\",\"2020-05-10T00:00:00\",\"2020-05-17T00:00:00\",\"2020-05-24T00:00:00\",\"2020-05-31T00:00:00\",\"2020-06-07T00:00:00\",\"2020-06-14T00:00:00\",\"2020-06-21T00:00:00\",\"2020-06-28T00:00:00\",\"2020-07-05T00:00:00\",\"2020-07-12T00:00:00\",\"2020-07-19T00:00:00\",\"2020-07-26T00:00:00\",\"2020-08-02T00:00:00\",\"2020-08-09T00:00:00\",\"2020-08-16T00:00:00\",\"2020-08-23T00:00:00\",\"2020-08-30T00:00:00\",\"2020-09-06T00:00:00\",\"2020-09-13T00:00:00\",\"2020-09-20T00:00:00\",\"2020-09-27T00:00:00\",\"2020-10-04T00:00:00\",\"2020-10-11T00:00:00\",\"2020-10-18T00:00:00\",\"2020-10-25T00:00:00\",\"2020-11-01T00:00:00\",\"2020-11-08T00:00:00\",\"2020-11-15T00:00:00\",\"2020-11-22T00:00:00\",\"2020-11-29T00:00:00\",\"2020-12-06T00:00:00\",\"2020-12-13T00:00:00\",\"2020-12-20T00:00:00\",\"2020-12-27T00:00:00\",\"2021-01-03T00:00:00\"],\"y\":[1271560064.0,1271560064.0,1271560064.0,1271560064.0,1271560064.0,1271560064.0,1271560064.0,1271560064.0,1738522240.0,1271560064.0,1301170560.0,1301170560.0,1271560064.0,1301170560.0,1271560064.0,1301170560.0,1301170560.0,1271560064.0,1301170560.0,1271560064.0,1271560064.0,1271560064.0,1271560064.0,1301170560.0,1301170560.0,1271560064.0,1301170560.0,1271560064.0,1343985536.0,1271560064.0,1368776064.0,1271560064.0,1271560064.0,1368776064.0,1271560064.0,1368776064.0,1271560064.0,1368776064.0,1368776064.0,1817183360.0,1520702848.0,1368776064.0,1368776064.0,1368776064.0,1271560064.0,1271560064.0,1368776064.0,2137839744.0,1368776064.0,1465030016.0,3557864192.0,30268186624.0,33580800000.0,38851039232.0,42566217728.0,48472965120.0,43344175104.0,47456047104.0,57674010624.0,45406875648.0,49746313216.0,47794122752.0,58048389120.0,74699350016.0,90850549760.0,59205038080.0,71040950272.0,81736081408.0,81004699648.0,123250999296.0,88213020672.0,52111945728.0,89059147776.0,102559793152.0,88226537472.0,88981340160.0,55825973248.0,63362138112.0,59270107136.0,61213847552.0,54534766592.0,53068578816.0,194405646336.0,79096840192.0,40059715584.0,231484391424.0,688052109312.0,41693229056.0,88724209664.0,60135792640.0,751128805376.0,72439537664.0,139808768000.0,11991096320.0,564981399552.0,97488052224.0,87480107008.0,102087663616.0,37176324096.0,38114877440.0,9383350272.0,4946990080.0,10016825344.0,21757880320.0,17763901440.0,15404107776.0,14331990016.0,35899981824.0,38627553280.0,36162605056.0,38037446656.0,35544780800.0,46508843008.0,42451972096.0,54236880896.0,103447494656.0,99178971136.0,100347297792.0,80136249344.0,91595079680.0,94845591552.0,80651116544.0,111003648000.0,67312336896.0,75938406400.0,88559665152.0,64660799488.0,91940052992.0,72321245184.0,114614870016.0,75089723392.0,109701079040.0,52336525312.0,197221662720.0,64235270144.0,35567095808.0,269849198592.0,11232768000.0,40773328896.0,226826502144.0,31423946752.0,78942011392.0,44943106048.0,55703752704.0,70424698880.0,47514124288.0,74875682816.0,77726253056.0,104191803392.0,67652513792.0,194730131456.0,67453194240.0,10899064832.0,3744880896.0,3962577408.0,31376881664.0,13885051904.0,24691900416.0,2411513088.0,46787473408.0,36002508800.0,43173400576.0,51261554688.0,96778665984.0,67574624256.0,66263273472.0,60552794112.0,90005037056.0,60459126784.0,102079594496.0,80976601088.0,95243698176.0,86997671936.0,101100060672.0,92455174144.0,109865132032.0,119496294400.0,56648843264.0,36843745280.0,46785171456.0,72043241472.0,60487757824.0,57019097088.0,43277832192.0,34620846080.0,38692229120.0,41940664320.0,53403947008.0,172499255296.0,45321150464.0,166972588032.0,58508963840.0,21877305344.0,59491434496.0,67977482240.0,70370762752.0,115196608512.0,63959392256.0,66907738112.0,156916613120.0,94902493184.0,101861408768.0,77106864128.0,19498692608.0,3646608128.0,4484490752.0]},{\"marker\":{\"color\":\"green\"},\"name\":\"Test_\\uc608\\uce21\\uac12_RandomForest\",\"type\":\"scatter\",\"x\":[\"2021-01-31T00:00:00\",\"2021-02-07T00:00:00\",\"2021-02-14T00:00:00\",\"2021-02-21T00:00:00\",\"2021-02-28T00:00:00\",\"2021-03-07T00:00:00\",\"2021-03-14T00:00:00\",\"2021-03-21T00:00:00\",\"2021-03-28T00:00:00\",\"2021-04-04T00:00:00\",\"2021-04-11T00:00:00\",\"2021-04-18T00:00:00\",\"2021-04-25T00:00:00\",\"2021-05-02T00:00:00\",\"2021-05-09T00:00:00\",\"2021-05-16T00:00:00\",\"2021-05-23T00:00:00\",\"2021-05-30T00:00:00\",\"2021-06-06T00:00:00\",\"2021-06-13T00:00:00\",\"2021-06-20T00:00:00\",\"2021-06-27T00:00:00\",\"2021-07-04T00:00:00\",\"2021-07-11T00:00:00\",\"2021-07-18T00:00:00\",\"2021-07-25T00:00:00\",\"2021-08-01T00:00:00\",\"2021-08-08T00:00:00\",\"2021-08-15T00:00:00\",\"2021-08-22T00:00:00\",\"2021-08-29T00:00:00\",\"2021-09-05T00:00:00\",\"2021-09-12T00:00:00\",\"2021-09-19T00:00:00\",\"2021-09-26T00:00:00\",\"2021-10-03T00:00:00\",\"2021-10-10T00:00:00\",\"2021-10-17T00:00:00\",\"2021-10-24T00:00:00\",\"2021-10-31T00:00:00\",\"2021-11-07T00:00:00\",\"2021-11-14T00:00:00\",\"2021-11-21T00:00:00\",\"2021-11-28T00:00:00\",\"2021-12-05T00:00:00\",\"2021-12-12T00:00:00\",\"2021-12-19T00:00:00\",\"2021-12-26T00:00:00\"],\"y\":[30842185663.872074,28623023561.94829,11419040550.258667,32912892332.740326,44242433914.23182,63090563151.63692,49436635702.66191,55558270626.158356,68653417588.39316,39783358239.904755,38927559460.9291,42806464732.83328,64968804177.61318,65591307727.43991,56729275770.73832,100401126166.0056,98972603041.62927,95384187388.77422,54078225874.096565,97580566933.15121,94723205399.91869,142465650672.53262,56543975139.72266,48769000252.060524,142550126276.48288,103695699803.46245,59974051037.09373,87855401721.17497,96268359864.35849,73568565758.58871,84272951785.90361,115101520466.8863,99359020560.7348,117018371791.60193,24343383008.072445,76664373052.86177,95943707481.89635,111579318436.99757,168888431582.508,105241288970.30615,123495146845.85541,141909666457.87204,106900987877.0313,102391455675.14919,132214410729.7208,132150817304.9301,130808502813.64049,19746040737.15438]},{\"marker\":{\"color\":\"green\"},\"name\":\"Train_\\uc608\\uce21\\uac12_RandomForest\",\"type\":\"scatter\",\"x\":[\"2017-01-29T00:00:00\",\"2017-02-05T00:00:00\",\"2017-02-12T00:00:00\",\"2017-02-19T00:00:00\",\"2017-02-26T00:00:00\",\"2017-03-05T00:00:00\",\"2017-03-12T00:00:00\",\"2017-03-19T00:00:00\",\"2017-03-26T00:00:00\",\"2017-04-02T00:00:00\",\"2017-04-09T00:00:00\",\"2017-04-16T00:00:00\",\"2017-04-23T00:00:00\",\"2017-04-30T00:00:00\",\"2017-05-07T00:00:00\",\"2017-05-14T00:00:00\",\"2017-05-21T00:00:00\",\"2017-05-28T00:00:00\",\"2017-06-04T00:00:00\",\"2017-06-11T00:00:00\",\"2017-06-18T00:00:00\",\"2017-06-25T00:00:00\",\"2017-07-02T00:00:00\",\"2017-07-09T00:00:00\",\"2017-07-16T00:00:00\",\"2017-07-23T00:00:00\",\"2017-07-30T00:00:00\",\"2017-08-06T00:00:00\",\"2017-08-13T00:00:00\",\"2017-08-20T00:00:00\",\"2017-08-27T00:00:00\",\"2017-09-03T00:00:00\",\"2017-09-10T00:00:00\",\"2017-09-17T00:00:00\",\"2017-09-24T00:00:00\",\"2017-10-01T00:00:00\",\"2017-10-08T00:00:00\",\"2017-10-15T00:00:00\",\"2017-10-22T00:00:00\",\"2017-10-29T00:00:00\",\"2017-11-05T00:00:00\",\"2017-11-12T00:00:00\",\"2017-11-19T00:00:00\",\"2017-11-26T00:00:00\",\"2017-12-03T00:00:00\",\"2017-12-10T00:00:00\",\"2017-12-17T00:00:00\",\"2017-12-24T00:00:00\",\"2017-12-31T00:00:00\",\"2018-01-07T00:00:00\",\"2018-01-14T00:00:00\",\"2018-01-21T00:00:00\",\"2018-01-28T00:00:00\",\"2018-02-04T00:00:00\",\"2018-02-11T00:00:00\",\"2018-02-18T00:00:00\",\"2018-02-25T00:00:00\",\"2018-03-04T00:00:00\",\"2018-03-11T00:00:00\",\"2018-03-18T00:00:00\",\"2018-03-25T00:00:00\",\"2018-04-01T00:00:00\",\"2018-04-08T00:00:00\",\"2018-04-15T00:00:00\",\"2018-04-22T00:00:00\",\"2018-04-29T00:00:00\",\"2018-05-06T00:00:00\",\"2018-05-13T00:00:00\",\"2018-05-20T00:00:00\",\"2018-05-27T00:00:00\",\"2018-06-03T00:00:00\",\"2018-06-10T00:00:00\",\"2018-06-17T00:00:00\",\"2018-06-24T00:00:00\",\"2018-07-01T00:00:00\",\"2018-07-08T00:00:00\",\"2018-07-15T00:00:00\",\"2018-07-22T00:00:00\",\"2018-07-29T00:00:00\",\"2018-08-05T00:00:00\",\"2018-08-12T00:00:00\",\"2018-08-19T00:00:00\",\"2018-08-26T00:00:00\",\"2018-09-02T00:00:00\",\"2018-09-09T00:00:00\",\"2018-09-16T00:00:00\",\"2018-09-23T00:00:00\",\"2018-09-30T00:00:00\",\"2018-10-07T00:00:00\",\"2018-10-14T00:00:00\",\"2018-10-21T00:00:00\",\"2018-10-28T00:00:00\",\"2018-11-04T00:00:00\",\"2018-11-11T00:00:00\",\"2018-11-18T00:00:00\",\"2018-11-25T00:00:00\",\"2018-12-02T00:00:00\",\"2018-12-09T00:00:00\",\"2018-12-16T00:00:00\",\"2018-12-23T00:00:00\",\"2018-12-30T00:00:00\",\"2019-01-06T00:00:00\",\"2019-01-13T00:00:00\",\"2019-01-20T00:00:00\",\"2019-01-27T00:00:00\",\"2019-02-03T00:00:00\",\"2019-02-10T00:00:00\",\"2019-02-17T00:00:00\",\"2019-02-24T00:00:00\",\"2019-03-03T00:00:00\",\"2019-03-10T00:00:00\",\"2019-03-17T00:00:00\",\"2019-03-24T00:00:00\",\"2019-03-31T00:00:00\",\"2019-04-07T00:00:00\",\"2019-04-14T00:00:00\",\"2019-04-21T00:00:00\",\"2019-04-28T00:00:00\",\"2019-05-05T00:00:00\",\"2019-05-12T00:00:00\",\"2019-05-19T00:00:00\",\"2019-05-26T00:00:00\",\"2019-06-02T00:00:00\",\"2019-06-09T00:00:00\",\"2019-06-16T00:00:00\",\"2019-06-23T00:00:00\",\"2019-06-30T00:00:00\",\"2019-07-07T00:00:00\",\"2019-07-14T00:00:00\",\"2019-07-21T00:00:00\",\"2019-07-28T00:00:00\",\"2019-08-04T00:00:00\",\"2019-08-11T00:00:00\",\"2019-08-18T00:00:00\",\"2019-08-25T00:00:00\",\"2019-09-01T00:00:00\",\"2019-09-08T00:00:00\",\"2019-09-15T00:00:00\",\"2019-09-22T00:00:00\",\"2019-09-29T00:00:00\",\"2019-10-06T00:00:00\",\"2019-10-13T00:00:00\",\"2019-10-20T00:00:00\",\"2019-10-27T00:00:00\",\"2019-11-03T00:00:00\",\"2019-11-10T00:00:00\",\"2019-11-17T00:00:00\",\"2019-11-24T00:00:00\",\"2019-12-01T00:00:00\",\"2019-12-08T00:00:00\",\"2019-12-15T00:00:00\",\"2019-12-22T00:00:00\",\"2019-12-29T00:00:00\",\"2020-01-05T00:00:00\",\"2020-01-12T00:00:00\",\"2020-01-19T00:00:00\",\"2020-01-26T00:00:00\",\"2020-02-02T00:00:00\",\"2020-02-09T00:00:00\",\"2020-02-16T00:00:00\",\"2020-02-23T00:00:00\",\"2020-03-01T00:00:00\",\"2020-03-08T00:00:00\",\"2020-03-15T00:00:00\",\"2020-03-22T00:00:00\",\"2020-03-29T00:00:00\",\"2020-04-05T00:00:00\",\"2020-04-12T00:00:00\",\"2020-04-19T00:00:00\",\"2020-04-26T00:00:00\",\"2020-05-03T00:00:00\",\"2020-05-10T00:00:00\",\"2020-05-17T00:00:00\",\"2020-05-24T00:00:00\",\"2020-05-31T00:00:00\",\"2020-06-07T00:00:00\",\"2020-06-14T00:00:00\",\"2020-06-21T00:00:00\",\"2020-06-28T00:00:00\",\"2020-07-05T00:00:00\",\"2020-07-12T00:00:00\",\"2020-07-19T00:00:00\",\"2020-07-26T00:00:00\",\"2020-08-02T00:00:00\",\"2020-08-09T00:00:00\",\"2020-08-16T00:00:00\",\"2020-08-23T00:00:00\",\"2020-08-30T00:00:00\",\"2020-09-06T00:00:00\",\"2020-09-13T00:00:00\",\"2020-09-20T00:00:00\",\"2020-09-27T00:00:00\",\"2020-10-04T00:00:00\",\"2020-10-11T00:00:00\",\"2020-10-18T00:00:00\",\"2020-10-25T00:00:00\",\"2020-11-01T00:00:00\",\"2020-11-08T00:00:00\",\"2020-11-15T00:00:00\",\"2020-11-22T00:00:00\",\"2020-11-29T00:00:00\",\"2020-12-06T00:00:00\",\"2020-12-13T00:00:00\",\"2020-12-20T00:00:00\",\"2020-12-27T00:00:00\",\"2021-01-03T00:00:00\"],\"y\":[151002213.02852163,132160431.1588779,268642092.62654585,271732857.16762483,273988252.1626241,18996277.16880758,18996277.16880758,18996277.16880758,1654730239.9294958,18996277.16880758,657955991.2419206,562779764.7487805,18996277.16880758,513718075.695637,18996277.16880758,601732893.324968,492912929.3924948,18996277.16880758,523782804.9502053,18996277.16880758,18996277.16880758,18996277.16880758,18996277.16880758,676881426.6891938,750715807.9899684,18996277.16880758,619881021.5467991,18996277.16880758,814827714.6329451,18996277.16880758,1026692551.9848738,18996277.16880758,18996277.16880758,1033532069.1511346,18996277.16880758,966307385.9719812,18996277.16880758,990598582.6332431,1118195324.0885124,1844284470.874778,1291883629.6952012,1181528368.024624,998891375.8405936,1010536912.8496945,18996277.16880758,18996277.16880758,1001662320.5473002,2273860598.328606,1198230489.5952652,1105687661.4984882,5706457811.006203,26915663894.39746,29646946218.111996,34330110555.74025,41246042706.372116,28393265290.607567,38593299104.55076,44032379214.56183,64366414331.5525,44284072734.965935,48169838087.71533,49890965910.30758,72117956679.46442,88607406749.59108,103422421757.48055,60201220328.610596,76692968922.06097,86997752338.08018,88607477771.23883,102497737242.13115,97197638914.24774,64257279974.11883,99209216407.77803,116770148224.49742,94727633022.9824,89780676129.97203,68748128709.12978,103590351748.43756,78128619113.40947,97514022744.04541,86895641040.58229,82630891923.8766,156759895022.5007,97560760307.31029,76805988684.84184,242744189597.8464,316699652201.0437,74408760018.61588,99963563452.86635,127858681123.22937,355197202535.85345,127932916257.0959,153337116456.35358,69810067069.65016,308686304481.3611,196991757703.0419,160705940513.32538,193767654965.9134,64191348797.96848,45416545123.11557,16515738582.672619,6602578938.413092,11148398479.999912,12468540996.71712,15209775274.441093,22093731349.323166,14414154332.99073,30868858849.91212,36298687343.60282,33062207298.381283,43967186236.40462,50347866535.85565,46170104820.52427,36844840970.269806,55252665237.39261,117377038902.1995,115021314007.64418,105656701490.31161,87442187453.4699,95242322572.4094,110826041557.1999,107216211814.78172,117121506143.73984,89409428554.98724,83532263884.27277,97622090162.85646,63113255536.2946,115906502421.8893,84854392831.13306,138774601097.1669,105870042629.93701,127429718459.28612,71801957392.59457,149514690525.91827,85043104532.65466,37102415429.153465,225623119586.98196,17531899846.477047,71534421758.95898,238942450082.61365,67507072045.55273,124392204362.19432,103058932309.67004,104629943324.79507,110462597473.91699,102613946317.2507,136292637956.38426,114993883026.99072,110992244426.63329,117985141720.70941,247102309844.3447,79315375909.57565,14146209262.565481,5542385502.499081,6625465133.45542,14255596142.867083,12347004985.904028,16507568728.09679,12115681298.666399,40426336598.15079,42085691858.096565,46143407785.30991,71656065695.73982,104613185279.7043,69831295580.29689,65898292481.63013,59593515488.158226,99053686561.36661,64123483137.42996,102956345142.29727,79699311869.78653,98008528033.98868,90674779736.13203,100971767750.86533,94532082694.53067,119570661422.92703,131696702074.10109,63083239950.33464,41936897427.32084,53830087709.981415,92620386625.34813,61876013669.11104,78242473628.91562,66879250750.33919,68226063789.09759,61209705898.36208,66595090499.23876,59930491514.786064,135098557033.88988,55450406753.336136,140037337878.08054,85239277604.17548,28188587485.93772,107329297613.7449,132752389345.82399,114906151880.32625,113107013145.99591,92785741203.83244,99324452208.16525,142142862382.92554,139756644878.92133,112002143171.73737,88082037943.84285,27601041101.552505,6099374447.169838,7481291272.245118]},{\"marker\":{\"color\":\"blue\"},\"name\":\"Test_\\uc608\\uce21\\uac12_LightGB\",\"type\":\"scatter\",\"x\":[\"2021-01-31T00:00:00\",\"2021-02-07T00:00:00\",\"2021-02-14T00:00:00\",\"2021-02-21T00:00:00\",\"2021-02-28T00:00:00\",\"2021-03-07T00:00:00\",\"2021-03-14T00:00:00\",\"2021-03-21T00:00:00\",\"2021-03-28T00:00:00\",\"2021-04-04T00:00:00\",\"2021-04-11T00:00:00\",\"2021-04-18T00:00:00\",\"2021-04-25T00:00:00\",\"2021-05-02T00:00:00\",\"2021-05-09T00:00:00\",\"2021-05-16T00:00:00\",\"2021-05-23T00:00:00\",\"2021-05-30T00:00:00\",\"2021-06-06T00:00:00\",\"2021-06-13T00:00:00\",\"2021-06-20T00:00:00\",\"2021-06-27T00:00:00\",\"2021-07-04T00:00:00\",\"2021-07-11T00:00:00\",\"2021-07-18T00:00:00\",\"2021-07-25T00:00:00\",\"2021-08-01T00:00:00\",\"2021-08-08T00:00:00\",\"2021-08-15T00:00:00\",\"2021-08-22T00:00:00\",\"2021-08-29T00:00:00\",\"2021-09-05T00:00:00\",\"2021-09-12T00:00:00\",\"2021-09-19T00:00:00\",\"2021-09-26T00:00:00\",\"2021-10-03T00:00:00\",\"2021-10-10T00:00:00\",\"2021-10-17T00:00:00\",\"2021-10-24T00:00:00\",\"2021-10-31T00:00:00\",\"2021-11-07T00:00:00\",\"2021-11-14T00:00:00\",\"2021-11-21T00:00:00\",\"2021-11-28T00:00:00\",\"2021-12-05T00:00:00\",\"2021-12-12T00:00:00\",\"2021-12-19T00:00:00\",\"2021-12-26T00:00:00\"],\"y\":[43430019072.0,40483774464.0,8559711232.0,43351470080.0,41589661696.0,40286646272.0,39035293696.0,60081995776.0,66174234624.0,61914787840.0,52625862656.0,65481809920.0,63255216128.0,60530860032.0,48689242112.0,86469050368.0,99468689408.0,96808951808.0,46498217984.0,96812507136.0,84676059136.0,152111759360.0,44039860224.0,28180555776.0,193951744000.0,51231797248.0,53859287040.0,61056868352.0,93563994112.0,83086835712.0,97579606016.0,80136962048.0,86712418304.0,44449673216.0,16954434560.0,61906763776.0,86733873152.0,119023886336.0,208497000448.0,80883318784.0,111210020864.0,121782263808.0,105126051840.0,87437918208.0,127862939648.0,62432686080.0,110636392448.0,13541732352.0]},{\"marker\":{\"color\":\"blue\"},\"name\":\"Train_\\uc608\\uce21\\uac12_LightGB\",\"type\":\"scatter\",\"x\":[\"2017-01-29T00:00:00\",\"2017-02-05T00:00:00\",\"2017-02-12T00:00:00\",\"2017-02-19T00:00:00\",\"2017-02-26T00:00:00\",\"2017-03-05T00:00:00\",\"2017-03-12T00:00:00\",\"2017-03-19T00:00:00\",\"2017-03-26T00:00:00\",\"2017-04-02T00:00:00\",\"2017-04-09T00:00:00\",\"2017-04-16T00:00:00\",\"2017-04-23T00:00:00\",\"2017-04-30T00:00:00\",\"2017-05-07T00:00:00\",\"2017-05-14T00:00:00\",\"2017-05-21T00:00:00\",\"2017-05-28T00:00:00\",\"2017-06-04T00:00:00\",\"2017-06-11T00:00:00\",\"2017-06-18T00:00:00\",\"2017-06-25T00:00:00\",\"2017-07-02T00:00:00\",\"2017-07-09T00:00:00\",\"2017-07-16T00:00:00\",\"2017-07-23T00:00:00\",\"2017-07-30T00:00:00\",\"2017-08-06T00:00:00\",\"2017-08-13T00:00:00\",\"2017-08-20T00:00:00\",\"2017-08-27T00:00:00\",\"2017-09-03T00:00:00\",\"2017-09-10T00:00:00\",\"2017-09-17T00:00:00\",\"2017-09-24T00:00:00\",\"2017-10-01T00:00:00\",\"2017-10-08T00:00:00\",\"2017-10-15T00:00:00\",\"2017-10-22T00:00:00\",\"2017-10-29T00:00:00\",\"2017-11-05T00:00:00\",\"2017-11-12T00:00:00\",\"2017-11-19T00:00:00\",\"2017-11-26T00:00:00\",\"2017-12-03T00:00:00\",\"2017-12-10T00:00:00\",\"2017-12-17T00:00:00\",\"2017-12-24T00:00:00\",\"2017-12-31T00:00:00\",\"2018-01-07T00:00:00\",\"2018-01-14T00:00:00\",\"2018-01-21T00:00:00\",\"2018-01-28T00:00:00\",\"2018-02-04T00:00:00\",\"2018-02-11T00:00:00\",\"2018-02-18T00:00:00\",\"2018-02-25T00:00:00\",\"2018-03-04T00:00:00\",\"2018-03-11T00:00:00\",\"2018-03-18T00:00:00\",\"2018-03-25T00:00:00\",\"2018-04-01T00:00:00\",\"2018-04-08T00:00:00\",\"2018-04-15T00:00:00\",\"2018-04-22T00:00:00\",\"2018-04-29T00:00:00\",\"2018-05-06T00:00:00\",\"2018-05-13T00:00:00\",\"2018-05-20T00:00:00\",\"2018-05-27T00:00:00\",\"2018-06-03T00:00:00\",\"2018-06-10T00:00:00\",\"2018-06-17T00:00:00\",\"2018-06-24T00:00:00\",\"2018-07-01T00:00:00\",\"2018-07-08T00:00:00\",\"2018-07-15T00:00:00\",\"2018-07-22T00:00:00\",\"2018-07-29T00:00:00\",\"2018-08-05T00:00:00\",\"2018-08-12T00:00:00\",\"2018-08-19T00:00:00\",\"2018-08-26T00:00:00\",\"2018-09-02T00:00:00\",\"2018-09-09T00:00:00\",\"2018-09-16T00:00:00\",\"2018-09-23T00:00:00\",\"2018-09-30T00:00:00\",\"2018-10-07T00:00:00\",\"2018-10-14T00:00:00\",\"2018-10-21T00:00:00\",\"2018-10-28T00:00:00\",\"2018-11-04T00:00:00\",\"2018-11-11T00:00:00\",\"2018-11-18T00:00:00\",\"2018-11-25T00:00:00\",\"2018-12-02T00:00:00\",\"2018-12-09T00:00:00\",\"2018-12-16T00:00:00\",\"2018-12-23T00:00:00\",\"2018-12-30T00:00:00\",\"2019-01-06T00:00:00\",\"2019-01-13T00:00:00\",\"2019-01-20T00:00:00\",\"2019-01-27T00:00:00\",\"2019-02-03T00:00:00\",\"2019-02-10T00:00:00\",\"2019-02-17T00:00:00\",\"2019-02-24T00:00:00\",\"2019-03-03T00:00:00\",\"2019-03-10T00:00:00\",\"2019-03-17T00:00:00\",\"2019-03-24T00:00:00\",\"2019-03-31T00:00:00\",\"2019-04-07T00:00:00\",\"2019-04-14T00:00:00\",\"2019-04-21T00:00:00\",\"2019-04-28T00:00:00\",\"2019-05-05T00:00:00\",\"2019-05-12T00:00:00\",\"2019-05-19T00:00:00\",\"2019-05-26T00:00:00\",\"2019-06-02T00:00:00\",\"2019-06-09T00:00:00\",\"2019-06-16T00:00:00\",\"2019-06-23T00:00:00\",\"2019-06-30T00:00:00\",\"2019-07-07T00:00:00\",\"2019-07-14T00:00:00\",\"2019-07-21T00:00:00\",\"2019-07-28T00:00:00\",\"2019-08-04T00:00:00\",\"2019-08-11T00:00:00\",\"2019-08-18T00:00:00\",\"2019-08-25T00:00:00\",\"2019-09-01T00:00:00\",\"2019-09-08T00:00:00\",\"2019-09-15T00:00:00\",\"2019-09-22T00:00:00\",\"2019-09-29T00:00:00\",\"2019-10-06T00:00:00\",\"2019-10-13T00:00:00\",\"2019-10-20T00:00:00\",\"2019-10-27T00:00:00\",\"2019-11-03T00:00:00\",\"2019-11-10T00:00:00\",\"2019-11-17T00:00:00\",\"2019-11-24T00:00:00\",\"2019-12-01T00:00:00\",\"2019-12-08T00:00:00\",\"2019-12-15T00:00:00\",\"2019-12-22T00:00:00\",\"2019-12-29T00:00:00\",\"2020-01-05T00:00:00\",\"2020-01-12T00:00:00\",\"2020-01-19T00:00:00\",\"2020-01-26T00:00:00\",\"2020-02-02T00:00:00\",\"2020-02-09T00:00:00\",\"2020-02-16T00:00:00\",\"2020-02-23T00:00:00\",\"2020-03-01T00:00:00\",\"2020-03-08T00:00:00\",\"2020-03-15T00:00:00\",\"2020-03-22T00:00:00\",\"2020-03-29T00:00:00\",\"2020-04-05T00:00:00\",\"2020-04-12T00:00:00\",\"2020-04-19T00:00:00\",\"2020-04-26T00:00:00\",\"2020-05-03T00:00:00\",\"2020-05-10T00:00:00\",\"2020-05-17T00:00:00\",\"2020-05-24T00:00:00\",\"2020-05-31T00:00:00\",\"2020-06-07T00:00:00\",\"2020-06-14T00:00:00\",\"2020-06-21T00:00:00\",\"2020-06-28T00:00:00\",\"2020-07-05T00:00:00\",\"2020-07-12T00:00:00\",\"2020-07-19T00:00:00\",\"2020-07-26T00:00:00\",\"2020-08-02T00:00:00\",\"2020-08-09T00:00:00\",\"2020-08-16T00:00:00\",\"2020-08-23T00:00:00\",\"2020-08-30T00:00:00\",\"2020-09-06T00:00:00\",\"2020-09-13T00:00:00\",\"2020-09-20T00:00:00\",\"2020-09-27T00:00:00\",\"2020-10-04T00:00:00\",\"2020-10-11T00:00:00\",\"2020-10-18T00:00:00\",\"2020-10-25T00:00:00\",\"2020-11-01T00:00:00\",\"2020-11-08T00:00:00\",\"2020-11-15T00:00:00\",\"2020-11-22T00:00:00\",\"2020-11-29T00:00:00\",\"2020-12-06T00:00:00\",\"2020-12-13T00:00:00\",\"2020-12-20T00:00:00\",\"2020-12-27T00:00:00\",\"2021-01-03T00:00:00\"],\"y\":[1271560064.0,1271560064.0,1271560064.0,1271560064.0,1271560064.0,1271560064.0,1271560064.0,1271560064.0,1738522240.0,1271560064.0,1301170560.0,1301170560.0,1271560064.0,1301170560.0,1271560064.0,1301170560.0,1301170560.0,1271560064.0,1301170560.0,1271560064.0,1271560064.0,1271560064.0,1271560064.0,1301170560.0,1301170560.0,1271560064.0,1301170560.0,1271560064.0,1343985536.0,1271560064.0,1368776064.0,1271560064.0,1271560064.0,1368776064.0,1271560064.0,1368776064.0,1271560064.0,1368776064.0,1368776064.0,1817183360.0,1520702848.0,1368776064.0,1368776064.0,1368776064.0,1271560064.0,1271560064.0,1368776064.0,2137839744.0,1368776064.0,1465030016.0,3557864192.0,30268186624.0,33580800000.0,38851039232.0,42566217728.0,48472965120.0,43344175104.0,47456047104.0,57674010624.0,45406875648.0,49746313216.0,47794122752.0,58048389120.0,74699350016.0,90850549760.0,59205038080.0,71040950272.0,81736081408.0,81004699648.0,123250999296.0,88213020672.0,52111945728.0,89059147776.0,102559793152.0,88226537472.0,88981340160.0,55825973248.0,63362138112.0,59270107136.0,61213847552.0,54534766592.0,53068578816.0,194405646336.0,79096840192.0,40059715584.0,231484391424.0,688052109312.0,41693229056.0,88724209664.0,60135792640.0,751128805376.0,72439537664.0,139808768000.0,11991096320.0,564981399552.0,97488052224.0,87480107008.0,102087663616.0,37176324096.0,38114877440.0,9383350272.0,4946990080.0,10016825344.0,21757880320.0,17763901440.0,15404107776.0,14331990016.0,35899981824.0,38627553280.0,36162605056.0,38037446656.0,35544780800.0,46508843008.0,42451972096.0,54236880896.0,103447494656.0,99178971136.0,100347297792.0,80136249344.0,91595079680.0,94845591552.0,80651116544.0,111003648000.0,67312336896.0,75938406400.0,88559665152.0,64660799488.0,91940052992.0,72321245184.0,114614870016.0,75089723392.0,109701079040.0,52336525312.0,197221662720.0,64235270144.0,35567095808.0,269849198592.0,11232768000.0,40773328896.0,226826502144.0,31423946752.0,78942011392.0,44943106048.0,55703752704.0,70424698880.0,47514124288.0,74875682816.0,77726253056.0,104191803392.0,67652513792.0,194730131456.0,67453194240.0,10899064832.0,3744880896.0,3962577408.0,31376881664.0,13885051904.0,24691900416.0,2411513088.0,46787473408.0,36002508800.0,43173400576.0,51261554688.0,96778665984.0,67574624256.0,66263273472.0,60552794112.0,90005037056.0,60459126784.0,102079594496.0,80976601088.0,95243698176.0,86997671936.0,101100060672.0,92455174144.0,109865132032.0,119496294400.0,56648843264.0,36843745280.0,46785171456.0,72043241472.0,60487757824.0,57019097088.0,43277832192.0,34620846080.0,38692229120.0,41940664320.0,53403947008.0,172499255296.0,45321150464.0,166972588032.0,58508963840.0,21877305344.0,59491434496.0,67977482240.0,70370762752.0,115196608512.0,63959392256.0,66907738112.0,156916613120.0,94902493184.0,101861408768.0,77106864128.0,19498692608.0,3646608128.0,4484490752.0]},{\"marker\":{\"color\":\"purple\"},\"name\":\"Test_\\uc608\\uce21\\uac12_Baysein_XGBoost\",\"type\":\"scatter\",\"x\":[\"2021-01-31T00:00:00\",\"2021-02-07T00:00:00\",\"2021-02-14T00:00:00\",\"2021-02-21T00:00:00\",\"2021-02-28T00:00:00\",\"2021-03-07T00:00:00\",\"2021-03-14T00:00:00\",\"2021-03-21T00:00:00\",\"2021-03-28T00:00:00\",\"2021-04-04T00:00:00\",\"2021-04-11T00:00:00\",\"2021-04-18T00:00:00\",\"2021-04-25T00:00:00\",\"2021-05-02T00:00:00\",\"2021-05-09T00:00:00\",\"2021-05-16T00:00:00\",\"2021-05-23T00:00:00\",\"2021-05-30T00:00:00\",\"2021-06-06T00:00:00\",\"2021-06-13T00:00:00\",\"2021-06-20T00:00:00\",\"2021-06-27T00:00:00\",\"2021-07-04T00:00:00\",\"2021-07-11T00:00:00\",\"2021-07-18T00:00:00\",\"2021-07-25T00:00:00\",\"2021-08-01T00:00:00\",\"2021-08-08T00:00:00\",\"2021-08-15T00:00:00\",\"2021-08-22T00:00:00\",\"2021-08-29T00:00:00\",\"2021-09-05T00:00:00\",\"2021-09-12T00:00:00\",\"2021-09-19T00:00:00\",\"2021-09-26T00:00:00\",\"2021-10-03T00:00:00\",\"2021-10-10T00:00:00\",\"2021-10-17T00:00:00\",\"2021-10-24T00:00:00\",\"2021-10-31T00:00:00\",\"2021-11-07T00:00:00\",\"2021-11-14T00:00:00\",\"2021-11-21T00:00:00\",\"2021-11-28T00:00:00\",\"2021-12-05T00:00:00\",\"2021-12-12T00:00:00\",\"2021-12-19T00:00:00\",\"2021-12-26T00:00:00\"],\"y\":[36906668032.0,32794480640.0,12687644672.0,29279348736.0,42511745024.0,35302486016.0,35310002176.0,55900999680.0,69322268672.0,65745489920.0,65813090304.0,74664738816.0,61180841984.0,58389454848.0,54347231232.0,98198847488.0,99413467136.0,96895336448.0,53549940736.0,101787557888.0,66257113088.0,154970636288.0,58724306944.0,51159998464.0,125660413952.0,45978079232.0,54387265536.0,96766574592.0,131147505664.0,87550328832.0,65059172352.0,100635860992.0,37800914944.0,71769120768.0,22108405760.0,45989023744.0,77983850496.0,106765082624.0,131655909376.0,77732265984.0,85137432576.0,104096874496.0,133256945664.0,72408522752.0,93551919104.0,37418201088.0,92554764288.0,11981001728.0]},{\"marker\":{\"color\":\"purple\"},\"name\":\"Train_\\uc608\\uce21\\uac12_Baysein_XGBoost\",\"type\":\"scatter\",\"x\":[\"2017-01-29T00:00:00\",\"2017-02-05T00:00:00\",\"2017-02-12T00:00:00\",\"2017-02-19T00:00:00\",\"2017-02-26T00:00:00\",\"2017-03-05T00:00:00\",\"2017-03-12T00:00:00\",\"2017-03-19T00:00:00\",\"2017-03-26T00:00:00\",\"2017-04-02T00:00:00\",\"2017-04-09T00:00:00\",\"2017-04-16T00:00:00\",\"2017-04-23T00:00:00\",\"2017-04-30T00:00:00\",\"2017-05-07T00:00:00\",\"2017-05-14T00:00:00\",\"2017-05-21T00:00:00\",\"2017-05-28T00:00:00\",\"2017-06-04T00:00:00\",\"2017-06-11T00:00:00\",\"2017-06-18T00:00:00\",\"2017-06-25T00:00:00\",\"2017-07-02T00:00:00\",\"2017-07-09T00:00:00\",\"2017-07-16T00:00:00\",\"2017-07-23T00:00:00\",\"2017-07-30T00:00:00\",\"2017-08-06T00:00:00\",\"2017-08-13T00:00:00\",\"2017-08-20T00:00:00\",\"2017-08-27T00:00:00\",\"2017-09-03T00:00:00\",\"2017-09-10T00:00:00\",\"2017-09-17T00:00:00\",\"2017-09-24T00:00:00\",\"2017-10-01T00:00:00\",\"2017-10-08T00:00:00\",\"2017-10-15T00:00:00\",\"2017-10-22T00:00:00\",\"2017-10-29T00:00:00\",\"2017-11-05T00:00:00\",\"2017-11-12T00:00:00\",\"2017-11-19T00:00:00\",\"2017-11-26T00:00:00\",\"2017-12-03T00:00:00\",\"2017-12-10T00:00:00\",\"2017-12-17T00:00:00\",\"2017-12-24T00:00:00\",\"2017-12-31T00:00:00\",\"2018-01-07T00:00:00\",\"2018-01-14T00:00:00\",\"2018-01-21T00:00:00\",\"2018-01-28T00:00:00\",\"2018-02-04T00:00:00\",\"2018-02-11T00:00:00\",\"2018-02-18T00:00:00\",\"2018-02-25T00:00:00\",\"2018-03-04T00:00:00\",\"2018-03-11T00:00:00\",\"2018-03-18T00:00:00\",\"2018-03-25T00:00:00\",\"2018-04-01T00:00:00\",\"2018-04-08T00:00:00\",\"2018-04-15T00:00:00\",\"2018-04-22T00:00:00\",\"2018-04-29T00:00:00\",\"2018-05-06T00:00:00\",\"2018-05-13T00:00:00\",\"2018-05-20T00:00:00\",\"2018-05-27T00:00:00\",\"2018-06-03T00:00:00\",\"2018-06-10T00:00:00\",\"2018-06-17T00:00:00\",\"2018-06-24T00:00:00\",\"2018-07-01T00:00:00\",\"2018-07-08T00:00:00\",\"2018-07-15T00:00:00\",\"2018-07-22T00:00:00\",\"2018-07-29T00:00:00\",\"2018-08-05T00:00:00\",\"2018-08-12T00:00:00\",\"2018-08-19T00:00:00\",\"2018-08-26T00:00:00\",\"2018-09-02T00:00:00\",\"2018-09-09T00:00:00\",\"2018-09-16T00:00:00\",\"2018-09-23T00:00:00\",\"2018-09-30T00:00:00\",\"2018-10-07T00:00:00\",\"2018-10-14T00:00:00\",\"2018-10-21T00:00:00\",\"2018-10-28T00:00:00\",\"2018-11-04T00:00:00\",\"2018-11-11T00:00:00\",\"2018-11-18T00:00:00\",\"2018-11-25T00:00:00\",\"2018-12-02T00:00:00\",\"2018-12-09T00:00:00\",\"2018-12-16T00:00:00\",\"2018-12-23T00:00:00\",\"2018-12-30T00:00:00\",\"2019-01-06T00:00:00\",\"2019-01-13T00:00:00\",\"2019-01-20T00:00:00\",\"2019-01-27T00:00:00\",\"2019-02-03T00:00:00\",\"2019-02-10T00:00:00\",\"2019-02-17T00:00:00\",\"2019-02-24T00:00:00\",\"2019-03-03T00:00:00\",\"2019-03-10T00:00:00\",\"2019-03-17T00:00:00\",\"2019-03-24T00:00:00\",\"2019-03-31T00:00:00\",\"2019-04-07T00:00:00\",\"2019-04-14T00:00:00\",\"2019-04-21T00:00:00\",\"2019-04-28T00:00:00\",\"2019-05-05T00:00:00\",\"2019-05-12T00:00:00\",\"2019-05-19T00:00:00\",\"2019-05-26T00:00:00\",\"2019-06-02T00:00:00\",\"2019-06-09T00:00:00\",\"2019-06-16T00:00:00\",\"2019-06-23T00:00:00\",\"2019-06-30T00:00:00\",\"2019-07-07T00:00:00\",\"2019-07-14T00:00:00\",\"2019-07-21T00:00:00\",\"2019-07-28T00:00:00\",\"2019-08-04T00:00:00\",\"2019-08-11T00:00:00\",\"2019-08-18T00:00:00\",\"2019-08-25T00:00:00\",\"2019-09-01T00:00:00\",\"2019-09-08T00:00:00\",\"2019-09-15T00:00:00\",\"2019-09-22T00:00:00\",\"2019-09-29T00:00:00\",\"2019-10-06T00:00:00\",\"2019-10-13T00:00:00\",\"2019-10-20T00:00:00\",\"2019-10-27T00:00:00\",\"2019-11-03T00:00:00\",\"2019-11-10T00:00:00\",\"2019-11-17T00:00:00\",\"2019-11-24T00:00:00\",\"2019-12-01T00:00:00\",\"2019-12-08T00:00:00\",\"2019-12-15T00:00:00\",\"2019-12-22T00:00:00\",\"2019-12-29T00:00:00\",\"2020-01-05T00:00:00\",\"2020-01-12T00:00:00\",\"2020-01-19T00:00:00\",\"2020-01-26T00:00:00\",\"2020-02-02T00:00:00\",\"2020-02-09T00:00:00\",\"2020-02-16T00:00:00\",\"2020-02-23T00:00:00\",\"2020-03-01T00:00:00\",\"2020-03-08T00:00:00\",\"2020-03-15T00:00:00\",\"2020-03-22T00:00:00\",\"2020-03-29T00:00:00\",\"2020-04-05T00:00:00\",\"2020-04-12T00:00:00\",\"2020-04-19T00:00:00\",\"2020-04-26T00:00:00\",\"2020-05-03T00:00:00\",\"2020-05-10T00:00:00\",\"2020-05-17T00:00:00\",\"2020-05-24T00:00:00\",\"2020-05-31T00:00:00\",\"2020-06-07T00:00:00\",\"2020-06-14T00:00:00\",\"2020-06-21T00:00:00\",\"2020-06-28T00:00:00\",\"2020-07-05T00:00:00\",\"2020-07-12T00:00:00\",\"2020-07-19T00:00:00\",\"2020-07-26T00:00:00\",\"2020-08-02T00:00:00\",\"2020-08-09T00:00:00\",\"2020-08-16T00:00:00\",\"2020-08-23T00:00:00\",\"2020-08-30T00:00:00\",\"2020-09-06T00:00:00\",\"2020-09-13T00:00:00\",\"2020-09-20T00:00:00\",\"2020-09-27T00:00:00\",\"2020-10-04T00:00:00\",\"2020-10-11T00:00:00\",\"2020-10-18T00:00:00\",\"2020-10-25T00:00:00\",\"2020-11-01T00:00:00\",\"2020-11-08T00:00:00\",\"2020-11-15T00:00:00\",\"2020-11-22T00:00:00\",\"2020-11-29T00:00:00\",\"2020-12-06T00:00:00\",\"2020-12-13T00:00:00\",\"2020-12-20T00:00:00\",\"2020-12-27T00:00:00\",\"2021-01-03T00:00:00\"],\"y\":[185339744.0,150577104.0,262336848.0,295942272.0,248731408.0,8924574.0,8924574.0,8924574.0,1748989824.0,8924574.0,635227456.0,556434240.0,8924574.0,556589568.0,8924574.0,591757184.0,331520960.0,8924574.0,285253696.0,8924574.0,8924574.0,8924574.0,8924574.0,541135488.0,693316864.0,8924574.0,395349120.0,8924574.0,658055424.0,8924574.0,727623936.0,8924574.0,8924574.0,665759168.0,8924574.0,916538112.0,8924574.0,699683776.0,1217562368.0,1258331392.0,518052096.0,2003178368.0,855129152.0,475096448.0,8924574.0,8924574.0,488799072.0,2157640192.0,625589696.0,577289088.0,3798786816.0,28977410048.0,32338843648.0,36492857344.0,44075614208.0,20375683072.0,35711381504.0,38126067712.0,32860649472.0,33682982912.0,43240701952.0,56541659136.0,48271208448.0,94107353088.0,88521670656.0,51100794880.0,68161212416.0,71179608064.0,70642507776.0,49537814528.0,95462645760.0,46161399808.0,97042382848.0,107106353152.0,73707962368.0,41281499136.0,39252144128.0,60759330816.0,37265227776.0,25550116864.0,64558116864.0,41551273984.0,240233349120.0,23615438848.0,31080544256.0,205535756288.0,760517361664.0,25195986944.0,65952956416.0,27336503296.0,777364045824.0,26935613440.0,86067404800.0,21564575744.0,641942880256.0,38485655552.0,42682392576.0,40709865472.0,23456192512.0,39683645440.0,10577734656.0,5228980224.0,8172634624.0,9608724480.0,9139725312.0,19206586368.0,8250160640.0,24324352000.0,34180257792.0,27891988480.0,25954820096.0,21213448192.0,43782508544.0,29386696704.0,54141235200.0,97029373952.0,109259014144.0,103081787392.0,68607131648.0,87146807296.0,105999761408.0,61491396608.0,95114321920.0,72569307136.0,79732244480.0,77574799360.0,41842388992.0,100739997696.0,76399894528.0,91278000128.0,42198818816.0,89523003392.0,42773917696.0,268617596928.0,29899276288.0,25450133504.0,270328119296.0,6090259456.0,25340614656.0,264202616832.0,28709224448.0,26359513088.0,21279164416.0,45248708608.0,92198428672.0,44443680768.0,59684237312.0,54658056192.0,49026748416.0,69377294336.0,131137036288.0,26113501184.0,16458438656.0,4827558912.0,5970503680.0,21200836608.0,7781356032.0,6195032576.0,7951865856.0,40416722944.0,32929660928.0,35301564416.0,25909024768.0,138940104704.0,70100803584.0,70774439936.0,69622964224.0,100661706752.0,63293173760.0,86168682496.0,77998137344.0,102297403392.0,77053771776.0,102249676800.0,87786307584.0,109619871744.0,85119950848.0,48446607360.0,41292038144.0,42776649728.0,30594220032.0,68616929280.0,39944384512.0,31923445760.0,17742755840.0,24072495104.0,25230026752.0,53720731648.0,206560411648.0,57293004800.0,174234189824.0,56868405248.0,13677168640.0,25064581120.0,28192995328.0,42573615104.0,100278378496.0,34481434624.0,58174967808.0,193395359744.0,108339183616.0,96242237440.0,66251108352.0,12716809216.0,3618931712.0,6092323328.0]},{\"marker\":{\"color\":\"gray\"},\"name\":\"Test_\\uc608\\uce21\\uac12_Extra\",\"type\":\"scatter\",\"x\":[\"2021-01-31T00:00:00\",\"2021-02-07T00:00:00\",\"2021-02-14T00:00:00\",\"2021-02-21T00:00:00\",\"2021-02-28T00:00:00\",\"2021-03-07T00:00:00\",\"2021-03-14T00:00:00\",\"2021-03-21T00:00:00\",\"2021-03-28T00:00:00\",\"2021-04-04T00:00:00\",\"2021-04-11T00:00:00\",\"2021-04-18T00:00:00\",\"2021-04-25T00:00:00\",\"2021-05-02T00:00:00\",\"2021-05-09T00:00:00\",\"2021-05-16T00:00:00\",\"2021-05-23T00:00:00\",\"2021-05-30T00:00:00\",\"2021-06-06T00:00:00\",\"2021-06-13T00:00:00\",\"2021-06-20T00:00:00\",\"2021-06-27T00:00:00\",\"2021-07-04T00:00:00\",\"2021-07-11T00:00:00\",\"2021-07-18T00:00:00\",\"2021-07-25T00:00:00\",\"2021-08-01T00:00:00\",\"2021-08-08T00:00:00\",\"2021-08-15T00:00:00\",\"2021-08-22T00:00:00\",\"2021-08-29T00:00:00\",\"2021-09-05T00:00:00\",\"2021-09-12T00:00:00\",\"2021-09-19T00:00:00\",\"2021-09-26T00:00:00\",\"2021-10-03T00:00:00\",\"2021-10-10T00:00:00\",\"2021-10-17T00:00:00\",\"2021-10-24T00:00:00\",\"2021-10-31T00:00:00\",\"2021-11-07T00:00:00\",\"2021-11-14T00:00:00\",\"2021-11-21T00:00:00\",\"2021-11-28T00:00:00\",\"2021-12-05T00:00:00\",\"2021-12-12T00:00:00\",\"2021-12-19T00:00:00\",\"2021-12-26T00:00:00\"],\"y\":[27744603945.97154,32095409347.76411,11274514780.540356,33550177985.679367,49278256672.383026,67262778045.35132,58032594318.635056,62446201499.6871,66670752388.10123,44541616833.000984,47711721478.83228,52507135730.33676,64446756596.89126,62850649422.40914,61166941046.57886,90770571019.9262,92400791965.47049,89603021467.99294,56910874347.94504,91609404621.8752,93594458759.50418,101281340456.09161,55166613613.195244,55016676945.932335,104964889643.79121,71292386632.0507,55264073552.327324,81294449867.3455,95347123846.99414,62590572020.16299,158256575768.8192,150612071113.5622,111974092102.30424,106000080703.78543,24931956587.780117,96201319681.19699,85859837520.8144,95440773620.78682,149548404234.71082,94627213069.10919,92393291282.13342,99162162876.80202,114359853701.04945,91639166141.31195,102581104689.32088,129010296800.10692,103733564465.0879,21741692507.3978]},{\"marker\":{\"color\":\"gray\"},\"name\":\"Train_\\uc608\\uce21\\uac12_Extra\",\"type\":\"scatter\",\"x\":[\"2017-01-29T00:00:00\",\"2017-02-05T00:00:00\",\"2017-02-12T00:00:00\",\"2017-02-19T00:00:00\",\"2017-02-26T00:00:00\",\"2017-03-05T00:00:00\",\"2017-03-12T00:00:00\",\"2017-03-19T00:00:00\",\"2017-03-26T00:00:00\",\"2017-04-02T00:00:00\",\"2017-04-09T00:00:00\",\"2017-04-16T00:00:00\",\"2017-04-23T00:00:00\",\"2017-04-30T00:00:00\",\"2017-05-07T00:00:00\",\"2017-05-14T00:00:00\",\"2017-05-21T00:00:00\",\"2017-05-28T00:00:00\",\"2017-06-04T00:00:00\",\"2017-06-11T00:00:00\",\"2017-06-18T00:00:00\",\"2017-06-25T00:00:00\",\"2017-07-02T00:00:00\",\"2017-07-09T00:00:00\",\"2017-07-16T00:00:00\",\"2017-07-23T00:00:00\",\"2017-07-30T00:00:00\",\"2017-08-06T00:00:00\",\"2017-08-13T00:00:00\",\"2017-08-20T00:00:00\",\"2017-08-27T00:00:00\",\"2017-09-03T00:00:00\",\"2017-09-10T00:00:00\",\"2017-09-17T00:00:00\",\"2017-09-24T00:00:00\",\"2017-10-01T00:00:00\",\"2017-10-08T00:00:00\",\"2017-10-15T00:00:00\",\"2017-10-22T00:00:00\",\"2017-10-29T00:00:00\",\"2017-11-05T00:00:00\",\"2017-11-12T00:00:00\",\"2017-11-19T00:00:00\",\"2017-11-26T00:00:00\",\"2017-12-03T00:00:00\",\"2017-12-10T00:00:00\",\"2017-12-17T00:00:00\",\"2017-12-24T00:00:00\",\"2017-12-31T00:00:00\",\"2018-01-07T00:00:00\",\"2018-01-14T00:00:00\",\"2018-01-21T00:00:00\",\"2018-01-28T00:00:00\",\"2018-02-04T00:00:00\",\"2018-02-11T00:00:00\",\"2018-02-18T00:00:00\",\"2018-02-25T00:00:00\",\"2018-03-04T00:00:00\",\"2018-03-11T00:00:00\",\"2018-03-18T00:00:00\",\"2018-03-25T00:00:00\",\"2018-04-01T00:00:00\",\"2018-04-08T00:00:00\",\"2018-04-15T00:00:00\",\"2018-04-22T00:00:00\",\"2018-04-29T00:00:00\",\"2018-05-06T00:00:00\",\"2018-05-13T00:00:00\",\"2018-05-20T00:00:00\",\"2018-05-27T00:00:00\",\"2018-06-03T00:00:00\",\"2018-06-10T00:00:00\",\"2018-06-17T00:00:00\",\"2018-06-24T00:00:00\",\"2018-07-01T00:00:00\",\"2018-07-08T00:00:00\",\"2018-07-15T00:00:00\",\"2018-07-22T00:00:00\",\"2018-07-29T00:00:00\",\"2018-08-05T00:00:00\",\"2018-08-12T00:00:00\",\"2018-08-19T00:00:00\",\"2018-08-26T00:00:00\",\"2018-09-02T00:00:00\",\"2018-09-09T00:00:00\",\"2018-09-16T00:00:00\",\"2018-09-23T00:00:00\",\"2018-09-30T00:00:00\",\"2018-10-07T00:00:00\",\"2018-10-14T00:00:00\",\"2018-10-21T00:00:00\",\"2018-10-28T00:00:00\",\"2018-11-04T00:00:00\",\"2018-11-11T00:00:00\",\"2018-11-18T00:00:00\",\"2018-11-25T00:00:00\",\"2018-12-02T00:00:00\",\"2018-12-09T00:00:00\",\"2018-12-16T00:00:00\",\"2018-12-23T00:00:00\",\"2018-12-30T00:00:00\",\"2019-01-06T00:00:00\",\"2019-01-13T00:00:00\",\"2019-01-20T00:00:00\",\"2019-01-27T00:00:00\",\"2019-02-03T00:00:00\",\"2019-02-10T00:00:00\",\"2019-02-17T00:00:00\",\"2019-02-24T00:00:00\",\"2019-03-03T00:00:00\",\"2019-03-10T00:00:00\",\"2019-03-17T00:00:00\",\"2019-03-24T00:00:00\",\"2019-03-31T00:00:00\",\"2019-04-07T00:00:00\",\"2019-04-14T00:00:00\",\"2019-04-21T00:00:00\",\"2019-04-28T00:00:00\",\"2019-05-05T00:00:00\",\"2019-05-12T00:00:00\",\"2019-05-19T00:00:00\",\"2019-05-26T00:00:00\",\"2019-06-02T00:00:00\",\"2019-06-09T00:00:00\",\"2019-06-16T00:00:00\",\"2019-06-23T00:00:00\",\"2019-06-30T00:00:00\",\"2019-07-07T00:00:00\",\"2019-07-14T00:00:00\",\"2019-07-21T00:00:00\",\"2019-07-28T00:00:00\",\"2019-08-04T00:00:00\",\"2019-08-11T00:00:00\",\"2019-08-18T00:00:00\",\"2019-08-25T00:00:00\",\"2019-09-01T00:00:00\",\"2019-09-08T00:00:00\",\"2019-09-15T00:00:00\",\"2019-09-22T00:00:00\",\"2019-09-29T00:00:00\",\"2019-10-06T00:00:00\",\"2019-10-13T00:00:00\",\"2019-10-20T00:00:00\",\"2019-10-27T00:00:00\",\"2019-11-03T00:00:00\",\"2019-11-10T00:00:00\",\"2019-11-17T00:00:00\",\"2019-11-24T00:00:00\",\"2019-12-01T00:00:00\",\"2019-12-08T00:00:00\",\"2019-12-15T00:00:00\",\"2019-12-22T00:00:00\",\"2019-12-29T00:00:00\",\"2020-01-05T00:00:00\",\"2020-01-12T00:00:00\",\"2020-01-19T00:00:00\",\"2020-01-26T00:00:00\",\"2020-02-02T00:00:00\",\"2020-02-09T00:00:00\",\"2020-02-16T00:00:00\",\"2020-02-23T00:00:00\",\"2020-03-01T00:00:00\",\"2020-03-08T00:00:00\",\"2020-03-15T00:00:00\",\"2020-03-22T00:00:00\",\"2020-03-29T00:00:00\",\"2020-04-05T00:00:00\",\"2020-04-12T00:00:00\",\"2020-04-19T00:00:00\",\"2020-04-26T00:00:00\",\"2020-05-03T00:00:00\",\"2020-05-10T00:00:00\",\"2020-05-17T00:00:00\",\"2020-05-24T00:00:00\",\"2020-05-31T00:00:00\",\"2020-06-07T00:00:00\",\"2020-06-14T00:00:00\",\"2020-06-21T00:00:00\",\"2020-06-28T00:00:00\",\"2020-07-05T00:00:00\",\"2020-07-12T00:00:00\",\"2020-07-19T00:00:00\",\"2020-07-26T00:00:00\",\"2020-08-02T00:00:00\",\"2020-08-09T00:00:00\",\"2020-08-16T00:00:00\",\"2020-08-23T00:00:00\",\"2020-08-30T00:00:00\",\"2020-09-06T00:00:00\",\"2020-09-13T00:00:00\",\"2020-09-20T00:00:00\",\"2020-09-27T00:00:00\",\"2020-10-04T00:00:00\",\"2020-10-11T00:00:00\",\"2020-10-18T00:00:00\",\"2020-10-25T00:00:00\",\"2020-11-01T00:00:00\",\"2020-11-08T00:00:00\",\"2020-11-15T00:00:00\",\"2020-11-22T00:00:00\",\"2020-11-29T00:00:00\",\"2020-12-06T00:00:00\",\"2020-12-13T00:00:00\",\"2020-12-20T00:00:00\",\"2020-12-27T00:00:00\",\"2021-01-03T00:00:00\"],\"y\":[306495222.62203443,308805747.6899035,380504939.84751624,363963920.91648054,364396142.8403187,57690553.56544025,57690553.56544025,57690553.56544025,1315941581.4845488,57690553.56544025,625036831.4346626,537988517.8649073,57690553.56544025,527722410.35545164,57690553.56544025,639305917.6442035,548506852.0536263,57690553.56544025,602461250.7622306,57690553.56544025,57690553.56544025,57690553.56544025,57690553.56544025,749946320.6397383,763217677.1485915,57690553.56544025,673901555.2353928,57690553.56544025,875287271.8467861,57690553.56544025,911761932.7967288,57690553.56544025,57690553.56544025,913441069.3890038,57690553.56544025,1041525486.1185367,57690553.56544025,1115012919.568018,1102742914.787028,1620516112.9178064,1151972517.168287,1182680376.5938272,819511249.8269401,931340534.3638576,57690553.56544025,57690553.56544025,850008761.5396076,2029189879.1048126,1040930124.6071959,1919401739.6171541,6209678334.469312,22919000760.201977,26469165992.522755,33702587942.926037,40889008707.035774,29212757314.252274,38303058690.464226,44745250555.90524,62965400366.89729,47013656360.20381,47700651702.51876,48899893056.55312,69198768813.62115,78147096736.39703,89572277676.78647,57309154656.63146,72378125737.72226,78595866226.89308,74738012829.00972,97381437228.63722,94551552676.4311,63753283693.37123,87818205894.01624,99324833127.31648,84581864243.6392,88419986872.01903,70870681695.92143,85635082603.47487,93554813313.5818,73850246415.62038,69117775990.55353,63203385701.61892,190755752050.31165,175401013275.0562,97350050735.31033,244772171683.7058,340454051938.50275,58231501763.467804,80958147368.1628,171102790336.1399,375553258097.20953,149186004766.2285,203974847041.20285,75027573796.25249,327010508528.2133,279541159515.45087,217263304316.97693,162866982035.50482,54943223491.464745,40460258817.852806,16900393133.372814,6340463871.623623,12182375486.249628,13371408605.886572,16772362387.189426,20840944550.495247,15037082556.614983,30634696111.54782,37140181793.27477,32916507818.50926,46421028917.92502,53066221656.881744,45163866668.04331,35121173401.47688,51407089174.463455,98424540259.0962,105939393597.83057,100407822676.09431,81446657279.60036,97115080789.90254,96780802467.49673,82669305276.6532,98972488877.32884,86556256666.23062,87375598349.69815,92756830156.3657,62785020489.46815,102846494434.87521,95856619088.47696,116951935775.3484,74934770079.42226,138096612575.24347,74242510781.20634,147093591129.04404,58311129311.92457,34057881808.90838,184948026650.47156,19451596177.308384,67014781419.76949,216251378403.62274,93798302465.6457,107192230263.9995,75944730336.4504,77674394859.61665,85565440379.08934,82083753701.56866,126349419936.59935,123210309305.86824,100056020229.8925,90821455644.40945,158882912624.62198,86672620088.1038,14648210749.07297,5042033006.968017,6784230082.796145,13613278038.327028,12829512431.670876,17522518245.373386,13121165333.104143,41441994833.2379,48588003881.845146,56193508504.11078,75611366559.2565,100945499245.78458,76254200467.22432,70730892467.31017,62925766371.48313,95300138328.08885,67980039931.13456,99720796181.09276,80069528976.10182,102152849885.34116,97620676119.01157,99686340760.76074,94300854103.09035,101837487586.33286,102901458687.9047,56398487024.747116,46503820081.59789,53460798817.760544,79751851557.59653,58064235722.58974,79893028478.06833,77793496414.96336,57925831473.92628,64103205881.13028,59732400568.23456,58793682735.49545,131307301621.11615,58573875480.33077,135942450891.9172,92886666137.92836,28716840367.729137,75302816956.52242,132164524907.7929,112349475459.42111,92336602537.01486,97440494677.10782,78093100874.53873,123476411535.85156,108966819315.08574,79959773338.99991,94949933976.76062,29908101446.37139,7524778824.826077,7170694563.631067]},{\"marker\":{\"color\":\"lightcoral\"},\"name\":\"Test_\\uc608\\uce21\\uac12_Voting\",\"type\":\"scatter\",\"x\":[\"2021-01-31T00:00:00\",\"2021-02-07T00:00:00\",\"2021-02-14T00:00:00\",\"2021-02-21T00:00:00\",\"2021-02-28T00:00:00\",\"2021-03-07T00:00:00\",\"2021-03-14T00:00:00\",\"2021-03-21T00:00:00\",\"2021-03-28T00:00:00\",\"2021-04-04T00:00:00\",\"2021-04-11T00:00:00\",\"2021-04-18T00:00:00\",\"2021-04-25T00:00:00\",\"2021-05-02T00:00:00\",\"2021-05-09T00:00:00\",\"2021-05-16T00:00:00\",\"2021-05-23T00:00:00\",\"2021-05-30T00:00:00\",\"2021-06-06T00:00:00\",\"2021-06-13T00:00:00\",\"2021-06-20T00:00:00\",\"2021-06-27T00:00:00\",\"2021-07-04T00:00:00\",\"2021-07-11T00:00:00\",\"2021-07-18T00:00:00\",\"2021-07-25T00:00:00\",\"2021-08-01T00:00:00\",\"2021-08-08T00:00:00\",\"2021-08-15T00:00:00\",\"2021-08-22T00:00:00\",\"2021-08-29T00:00:00\",\"2021-09-05T00:00:00\",\"2021-09-12T00:00:00\",\"2021-09-19T00:00:00\",\"2021-09-26T00:00:00\",\"2021-10-03T00:00:00\",\"2021-10-10T00:00:00\",\"2021-10-17T00:00:00\",\"2021-10-24T00:00:00\",\"2021-10-31T00:00:00\",\"2021-11-07T00:00:00\",\"2021-11-14T00:00:00\",\"2021-11-21T00:00:00\",\"2021-11-28T00:00:00\",\"2021-12-05T00:00:00\",\"2021-12-12T00:00:00\",\"2021-12-19T00:00:00\",\"2021-12-26T00:00:00\"],\"y\":[36906668032.0,32794480640.0,12687644672.0,29279348736.0,42511745024.0,35302486016.0,35310002176.0,55900999680.0,69322268672.0,65745489920.0,65813090304.0,74664738816.0,61180841984.0,58389454848.0,54347231232.0,98198847488.0,99413467136.0,96895336448.0,53549940736.0,101787557888.0,66257113088.0,154970636288.0,58724306944.0,51159998464.0,125660413952.0,45978079232.0,54387265536.0,96766574592.0,131147505664.0,87550328832.0,65059172352.0,100635860992.0,37800914944.0,71769120768.0,22108405760.0,45989023744.0,77983850496.0,106765082624.0,131655909376.0,77732265984.0,85137432576.0,104096874496.0,133256945664.0,72408522752.0,93551919104.0,37418201088.0,92554764288.0,11981001728.0]},{\"marker\":{\"color\":\"lightcoral\"},\"name\":\"Train_\\uc608\\uce21\\uac12_Voting\",\"type\":\"scatter\",\"x\":[\"2017-01-29T00:00:00\",\"2017-02-05T00:00:00\",\"2017-02-12T00:00:00\",\"2017-02-19T00:00:00\",\"2017-02-26T00:00:00\",\"2017-03-05T00:00:00\",\"2017-03-12T00:00:00\",\"2017-03-19T00:00:00\",\"2017-03-26T00:00:00\",\"2017-04-02T00:00:00\",\"2017-04-09T00:00:00\",\"2017-04-16T00:00:00\",\"2017-04-23T00:00:00\",\"2017-04-30T00:00:00\",\"2017-05-07T00:00:00\",\"2017-05-14T00:00:00\",\"2017-05-21T00:00:00\",\"2017-05-28T00:00:00\",\"2017-06-04T00:00:00\",\"2017-06-11T00:00:00\",\"2017-06-18T00:00:00\",\"2017-06-25T00:00:00\",\"2017-07-02T00:00:00\",\"2017-07-09T00:00:00\",\"2017-07-16T00:00:00\",\"2017-07-23T00:00:00\",\"2017-07-30T00:00:00\",\"2017-08-06T00:00:00\",\"2017-08-13T00:00:00\",\"2017-08-20T00:00:00\",\"2017-08-27T00:00:00\",\"2017-09-03T00:00:00\",\"2017-09-10T00:00:00\",\"2017-09-17T00:00:00\",\"2017-09-24T00:00:00\",\"2017-10-01T00:00:00\",\"2017-10-08T00:00:00\",\"2017-10-15T00:00:00\",\"2017-10-22T00:00:00\",\"2017-10-29T00:00:00\",\"2017-11-05T00:00:00\",\"2017-11-12T00:00:00\",\"2017-11-19T00:00:00\",\"2017-11-26T00:00:00\",\"2017-12-03T00:00:00\",\"2017-12-10T00:00:00\",\"2017-12-17T00:00:00\",\"2017-12-24T00:00:00\",\"2017-12-31T00:00:00\",\"2018-01-07T00:00:00\",\"2018-01-14T00:00:00\",\"2018-01-21T00:00:00\",\"2018-01-28T00:00:00\",\"2018-02-04T00:00:00\",\"2018-02-11T00:00:00\",\"2018-02-18T00:00:00\",\"2018-02-25T00:00:00\",\"2018-03-04T00:00:00\",\"2018-03-11T00:00:00\",\"2018-03-18T00:00:00\",\"2018-03-25T00:00:00\",\"2018-04-01T00:00:00\",\"2018-04-08T00:00:00\",\"2018-04-15T00:00:00\",\"2018-04-22T00:00:00\",\"2018-04-29T00:00:00\",\"2018-05-06T00:00:00\",\"2018-05-13T00:00:00\",\"2018-05-20T00:00:00\",\"2018-05-27T00:00:00\",\"2018-06-03T00:00:00\",\"2018-06-10T00:00:00\",\"2018-06-17T00:00:00\",\"2018-06-24T00:00:00\",\"2018-07-01T00:00:00\",\"2018-07-08T00:00:00\",\"2018-07-15T00:00:00\",\"2018-07-22T00:00:00\",\"2018-07-29T00:00:00\",\"2018-08-05T00:00:00\",\"2018-08-12T00:00:00\",\"2018-08-19T00:00:00\",\"2018-08-26T00:00:00\",\"2018-09-02T00:00:00\",\"2018-09-09T00:00:00\",\"2018-09-16T00:00:00\",\"2018-09-23T00:00:00\",\"2018-09-30T00:00:00\",\"2018-10-07T00:00:00\",\"2018-10-14T00:00:00\",\"2018-10-21T00:00:00\",\"2018-10-28T00:00:00\",\"2018-11-04T00:00:00\",\"2018-11-11T00:00:00\",\"2018-11-18T00:00:00\",\"2018-11-25T00:00:00\",\"2018-12-02T00:00:00\",\"2018-12-09T00:00:00\",\"2018-12-16T00:00:00\",\"2018-12-23T00:00:00\",\"2018-12-30T00:00:00\",\"2019-01-06T00:00:00\",\"2019-01-13T00:00:00\",\"2019-01-20T00:00:00\",\"2019-01-27T00:00:00\",\"2019-02-03T00:00:00\",\"2019-02-10T00:00:00\",\"2019-02-17T00:00:00\",\"2019-02-24T00:00:00\",\"2019-03-03T00:00:00\",\"2019-03-10T00:00:00\",\"2019-03-17T00:00:00\",\"2019-03-24T00:00:00\",\"2019-03-31T00:00:00\",\"2019-04-07T00:00:00\",\"2019-04-14T00:00:00\",\"2019-04-21T00:00:00\",\"2019-04-28T00:00:00\",\"2019-05-05T00:00:00\",\"2019-05-12T00:00:00\",\"2019-05-19T00:00:00\",\"2019-05-26T00:00:00\",\"2019-06-02T00:00:00\",\"2019-06-09T00:00:00\",\"2019-06-16T00:00:00\",\"2019-06-23T00:00:00\",\"2019-06-30T00:00:00\",\"2019-07-07T00:00:00\",\"2019-07-14T00:00:00\",\"2019-07-21T00:00:00\",\"2019-07-28T00:00:00\",\"2019-08-04T00:00:00\",\"2019-08-11T00:00:00\",\"2019-08-18T00:00:00\",\"2019-08-25T00:00:00\",\"2019-09-01T00:00:00\",\"2019-09-08T00:00:00\",\"2019-09-15T00:00:00\",\"2019-09-22T00:00:00\",\"2019-09-29T00:00:00\",\"2019-10-06T00:00:00\",\"2019-10-13T00:00:00\",\"2019-10-20T00:00:00\",\"2019-10-27T00:00:00\",\"2019-11-03T00:00:00\",\"2019-11-10T00:00:00\",\"2019-11-17T00:00:00\",\"2019-11-24T00:00:00\",\"2019-12-01T00:00:00\",\"2019-12-08T00:00:00\",\"2019-12-15T00:00:00\",\"2019-12-22T00:00:00\",\"2019-12-29T00:00:00\",\"2020-01-05T00:00:00\",\"2020-01-12T00:00:00\",\"2020-01-19T00:00:00\",\"2020-01-26T00:00:00\",\"2020-02-02T00:00:00\",\"2020-02-09T00:00:00\",\"2020-02-16T00:00:00\",\"2020-02-23T00:00:00\",\"2020-03-01T00:00:00\",\"2020-03-08T00:00:00\",\"2020-03-15T00:00:00\",\"2020-03-22T00:00:00\",\"2020-03-29T00:00:00\",\"2020-04-05T00:00:00\",\"2020-04-12T00:00:00\",\"2020-04-19T00:00:00\",\"2020-04-26T00:00:00\",\"2020-05-03T00:00:00\",\"2020-05-10T00:00:00\",\"2020-05-17T00:00:00\",\"2020-05-24T00:00:00\",\"2020-05-31T00:00:00\",\"2020-06-07T00:00:00\",\"2020-06-14T00:00:00\",\"2020-06-21T00:00:00\",\"2020-06-28T00:00:00\",\"2020-07-05T00:00:00\",\"2020-07-12T00:00:00\",\"2020-07-19T00:00:00\",\"2020-07-26T00:00:00\",\"2020-08-02T00:00:00\",\"2020-08-09T00:00:00\",\"2020-08-16T00:00:00\",\"2020-08-23T00:00:00\",\"2020-08-30T00:00:00\",\"2020-09-06T00:00:00\",\"2020-09-13T00:00:00\",\"2020-09-20T00:00:00\",\"2020-09-27T00:00:00\",\"2020-10-04T00:00:00\",\"2020-10-11T00:00:00\",\"2020-10-18T00:00:00\",\"2020-10-25T00:00:00\",\"2020-11-01T00:00:00\",\"2020-11-08T00:00:00\",\"2020-11-15T00:00:00\",\"2020-11-22T00:00:00\",\"2020-11-29T00:00:00\",\"2020-12-06T00:00:00\",\"2020-12-13T00:00:00\",\"2020-12-20T00:00:00\",\"2020-12-27T00:00:00\",\"2021-01-03T00:00:00\"],\"y\":[185339744.0,150577104.0,262336848.0,295942272.0,248731408.0,8924574.0,8924574.0,8924574.0,1748989824.0,8924574.0,635227456.0,556434240.0,8924574.0,556589568.0,8924574.0,591757184.0,331520960.0,8924574.0,285253696.0,8924574.0,8924574.0,8924574.0,8924574.0,541135488.0,693316864.0,8924574.0,395349120.0,8924574.0,658055424.0,8924574.0,727623936.0,8924574.0,8924574.0,665759168.0,8924574.0,916538112.0,8924574.0,699683776.0,1217562368.0,1258331392.0,518052096.0,2003178368.0,855129152.0,475096448.0,8924574.0,8924574.0,488799072.0,2157640192.0,625589696.0,577289088.0,3798786816.0,28977410048.0,32338843648.0,36492857344.0,44075614208.0,20375683072.0,35711381504.0,38126067712.0,32860649472.0,33682982912.0,43240701952.0,56541659136.0,48271208448.0,94107353088.0,88521670656.0,51100794880.0,68161212416.0,71179608064.0,70642507776.0,49537814528.0,95462645760.0,46161399808.0,97042382848.0,107106353152.0,73707962368.0,41281499136.0,39252144128.0,60759330816.0,37265227776.0,25550116864.0,64558116864.0,41551273984.0,240233349120.0,23615438848.0,31080544256.0,205535756288.0,760517361664.0,25195986944.0,65952956416.0,27336503296.0,777364045824.0,26935613440.0,86067404800.0,21564575744.0,641942880256.0,38485655552.0,42682392576.0,40709865472.0,23456192512.0,39683645440.0,10577734656.0,5228980224.0,8172634624.0,9608724480.0,9139725312.0,19206586368.0,8250160640.0,24324352000.0,34180257792.0,27891988480.0,25954820096.0,21213448192.0,43782508544.0,29386696704.0,54141235200.0,97029373952.0,109259014144.0,103081787392.0,68607131648.0,87146807296.0,105999761408.0,61491396608.0,95114321920.0,72569307136.0,79732244480.0,77574799360.0,41842388992.0,100739997696.0,76399894528.0,91278000128.0,42198818816.0,89523003392.0,42773917696.0,268617596928.0,29899276288.0,25450133504.0,270328119296.0,6090259456.0,25340614656.0,264202616832.0,28709224448.0,26359513088.0,21279164416.0,45248708608.0,92198428672.0,44443680768.0,59684237312.0,54658056192.0,49026748416.0,69377294336.0,131137036288.0,26113501184.0,16458438656.0,4827558912.0,5970503680.0,21200836608.0,7781356032.0,6195032576.0,7951865856.0,40416722944.0,32929660928.0,35301564416.0,25909024768.0,138940104704.0,70100803584.0,70774439936.0,69622964224.0,100661706752.0,63293173760.0,86168682496.0,77998137344.0,102297403392.0,77053771776.0,102249676800.0,87786307584.0,109619871744.0,85119950848.0,48446607360.0,41292038144.0,42776649728.0,30594220032.0,68616929280.0,39944384512.0,31923445760.0,17742755840.0,24072495104.0,25230026752.0,53720731648.0,206560411648.0,57293004800.0,174234189824.0,56868405248.0,13677168640.0,25064581120.0,28192995328.0,42573615104.0,100278378496.0,34481434624.0,58174967808.0,193395359744.0,108339183616.0,96242237440.0,66251108352.0,12716809216.0,3618931712.0,6092323328.0]}],                        {\"annotations\":[{\"align\":\"center\",\"ax\":40,\"ay\":-30,\"font\":{\"color\":\"black\",\"size\":15},\"showarrow\":false,\"text\":\"<b>Test</b>\",\"x\":\"2021-02-20\",\"y\":1000000000000},{\"align\":\"center\",\"ax\":40,\"ay\":-30,\"font\":{\"color\":\"black\",\"size\":15},\"showarrow\":false,\"text\":\"<b>Train</b>\",\"x\":\"2020-11-15\",\"y\":1000000000000}],\"autosize\":false,\"height\":800,\"shapes\":[{\"line\":{\"dash\":\"dash\"},\"type\":\"line\",\"x0\":\"2021-01-01\",\"x1\":\"2021-01-01\",\"xref\":\"x\",\"y0\":0,\"y1\":1,\"yref\":\"y domain\"}],\"template\":{\"data\":{\"bar\":[{\"error_x\":{\"color\":\"#2a3f5f\"},\"error_y\":{\"color\":\"#2a3f5f\"},\"marker\":{\"line\":{\"color\":\"#E5ECF6\",\"width\":0.5},\"pattern\":{\"fillmode\":\"overlay\",\"size\":10,\"solidity\":0.2}},\"type\":\"bar\"}],\"barpolar\":[{\"marker\":{\"line\":{\"color\":\"#E5ECF6\",\"width\":0.5},\"pattern\":{\"fillmode\":\"overlay\",\"size\":10,\"solidity\":0.2}},\"type\":\"barpolar\"}],\"carpet\":[{\"aaxis\":{\"endlinecolor\":\"#2a3f5f\",\"gridcolor\":\"white\",\"linecolor\":\"white\",\"minorgridcolor\":\"white\",\"startlinecolor\":\"#2a3f5f\"},\"baxis\":{\"endlinecolor\":\"#2a3f5f\",\"gridcolor\":\"white\",\"linecolor\":\"white\",\"minorgridcolor\":\"white\",\"startlinecolor\":\"#2a3f5f\"},\"type\":\"carpet\"}],\"choropleth\":[{\"colorbar\":{\"outlinewidth\":0,\"ticks\":\"\"},\"type\":\"choropleth\"}],\"contour\":[{\"colorbar\":{\"outlinewidth\":0,\"ticks\":\"\"},\"colorscale\":[[0.0,\"#0d0887\"],[0.1111111111111111,\"#46039f\"],[0.2222222222222222,\"#7201a8\"],[0.3333333333333333,\"#9c179e\"],[0.4444444444444444,\"#bd3786\"],[0.5555555555555556,\"#d8576b\"],[0.6666666666666666,\"#ed7953\"],[0.7777777777777778,\"#fb9f3a\"],[0.8888888888888888,\"#fdca26\"],[1.0,\"#f0f921\"]],\"type\":\"contour\"}],\"contourcarpet\":[{\"colorbar\":{\"outlinewidth\":0,\"ticks\":\"\"},\"type\":\"contourcarpet\"}],\"heatmap\":[{\"colorbar\":{\"outlinewidth\":0,\"ticks\":\"\"},\"colorscale\":[[0.0,\"#0d0887\"],[0.1111111111111111,\"#46039f\"],[0.2222222222222222,\"#7201a8\"],[0.3333333333333333,\"#9c179e\"],[0.4444444444444444,\"#bd3786\"],[0.5555555555555556,\"#d8576b\"],[0.6666666666666666,\"#ed7953\"],[0.7777777777777778,\"#fb9f3a\"],[0.8888888888888888,\"#fdca26\"],[1.0,\"#f0f921\"]],\"type\":\"heatmap\"}],\"heatmapgl\":[{\"colorbar\":{\"outlinewidth\":0,\"ticks\":\"\"},\"colorscale\":[[0.0,\"#0d0887\"],[0.1111111111111111,\"#46039f\"],[0.2222222222222222,\"#7201a8\"],[0.3333333333333333,\"#9c179e\"],[0.4444444444444444,\"#bd3786\"],[0.5555555555555556,\"#d8576b\"],[0.6666666666666666,\"#ed7953\"],[0.7777777777777778,\"#fb9f3a\"],[0.8888888888888888,\"#fdca26\"],[1.0,\"#f0f921\"]],\"type\":\"heatmapgl\"}],\"histogram\":[{\"marker\":{\"pattern\":{\"fillmode\":\"overlay\",\"size\":10,\"solidity\":0.2}},\"type\":\"histogram\"}],\"histogram2d\":[{\"colorbar\":{\"outlinewidth\":0,\"ticks\":\"\"},\"colorscale\":[[0.0,\"#0d0887\"],[0.1111111111111111,\"#46039f\"],[0.2222222222222222,\"#7201a8\"],[0.3333333333333333,\"#9c179e\"],[0.4444444444444444,\"#bd3786\"],[0.5555555555555556,\"#d8576b\"],[0.6666666666666666,\"#ed7953\"],[0.7777777777777778,\"#fb9f3a\"],[0.8888888888888888,\"#fdca26\"],[1.0,\"#f0f921\"]],\"type\":\"histogram2d\"}],\"histogram2dcontour\":[{\"colorbar\":{\"outlinewidth\":0,\"ticks\":\"\"},\"colorscale\":[[0.0,\"#0d0887\"],[0.1111111111111111,\"#46039f\"],[0.2222222222222222,\"#7201a8\"],[0.3333333333333333,\"#9c179e\"],[0.4444444444444444,\"#bd3786\"],[0.5555555555555556,\"#d8576b\"],[0.6666666666666666,\"#ed7953\"],[0.7777777777777778,\"#fb9f3a\"],[0.8888888888888888,\"#fdca26\"],[1.0,\"#f0f921\"]],\"type\":\"histogram2dcontour\"}],\"mesh3d\":[{\"colorbar\":{\"outlinewidth\":0,\"ticks\":\"\"},\"type\":\"mesh3d\"}],\"parcoords\":[{\"line\":{\"colorbar\":{\"outlinewidth\":0,\"ticks\":\"\"}},\"type\":\"parcoords\"}],\"pie\":[{\"automargin\":true,\"type\":\"pie\"}],\"scatter\":[{\"marker\":{\"colorbar\":{\"outlinewidth\":0,\"ticks\":\"\"}},\"type\":\"scatter\"}],\"scatter3d\":[{\"line\":{\"colorbar\":{\"outlinewidth\":0,\"ticks\":\"\"}},\"marker\":{\"colorbar\":{\"outlinewidth\":0,\"ticks\":\"\"}},\"type\":\"scatter3d\"}],\"scattercarpet\":[{\"marker\":{\"colorbar\":{\"outlinewidth\":0,\"ticks\":\"\"}},\"type\":\"scattercarpet\"}],\"scattergeo\":[{\"marker\":{\"colorbar\":{\"outlinewidth\":0,\"ticks\":\"\"}},\"type\":\"scattergeo\"}],\"scattergl\":[{\"marker\":{\"colorbar\":{\"outlinewidth\":0,\"ticks\":\"\"}},\"type\":\"scattergl\"}],\"scattermapbox\":[{\"marker\":{\"colorbar\":{\"outlinewidth\":0,\"ticks\":\"\"}},\"type\":\"scattermapbox\"}],\"scatterpolar\":[{\"marker\":{\"colorbar\":{\"outlinewidth\":0,\"ticks\":\"\"}},\"type\":\"scatterpolar\"}],\"scatterpolargl\":[{\"marker\":{\"colorbar\":{\"outlinewidth\":0,\"ticks\":\"\"}},\"type\":\"scatterpolargl\"}],\"scatterternary\":[{\"marker\":{\"colorbar\":{\"outlinewidth\":0,\"ticks\":\"\"}},\"type\":\"scatterternary\"}],\"surface\":[{\"colorbar\":{\"outlinewidth\":0,\"ticks\":\"\"},\"colorscale\":[[0.0,\"#0d0887\"],[0.1111111111111111,\"#46039f\"],[0.2222222222222222,\"#7201a8\"],[0.3333333333333333,\"#9c179e\"],[0.4444444444444444,\"#bd3786\"],[0.5555555555555556,\"#d8576b\"],[0.6666666666666666,\"#ed7953\"],[0.7777777777777778,\"#fb9f3a\"],[0.8888888888888888,\"#fdca26\"],[1.0,\"#f0f921\"]],\"type\":\"surface\"}],\"table\":[{\"cells\":{\"fill\":{\"color\":\"#EBF0F8\"},\"line\":{\"color\":\"white\"}},\"header\":{\"fill\":{\"color\":\"#C8D4E3\"},\"line\":{\"color\":\"white\"}},\"type\":\"table\"}]},\"layout\":{\"annotationdefaults\":{\"arrowcolor\":\"#2a3f5f\",\"arrowhead\":0,\"arrowwidth\":1},\"autotypenumbers\":\"strict\",\"coloraxis\":{\"colorbar\":{\"outlinewidth\":0,\"ticks\":\"\"}},\"colorscale\":{\"diverging\":[[0,\"#8e0152\"],[0.1,\"#c51b7d\"],[0.2,\"#de77ae\"],[0.3,\"#f1b6da\"],[0.4,\"#fde0ef\"],[0.5,\"#f7f7f7\"],[0.6,\"#e6f5d0\"],[0.7,\"#b8e186\"],[0.8,\"#7fbc41\"],[0.9,\"#4d9221\"],[1,\"#276419\"]],\"sequential\":[[0.0,\"#0d0887\"],[0.1111111111111111,\"#46039f\"],[0.2222222222222222,\"#7201a8\"],[0.3333333333333333,\"#9c179e\"],[0.4444444444444444,\"#bd3786\"],[0.5555555555555556,\"#d8576b\"],[0.6666666666666666,\"#ed7953\"],[0.7777777777777778,\"#fb9f3a\"],[0.8888888888888888,\"#fdca26\"],[1.0,\"#f0f921\"]],\"sequentialminus\":[[0.0,\"#0d0887\"],[0.1111111111111111,\"#46039f\"],[0.2222222222222222,\"#7201a8\"],[0.3333333333333333,\"#9c179e\"],[0.4444444444444444,\"#bd3786\"],[0.5555555555555556,\"#d8576b\"],[0.6666666666666666,\"#ed7953\"],[0.7777777777777778,\"#fb9f3a\"],[0.8888888888888888,\"#fdca26\"],[1.0,\"#f0f921\"]]},\"colorway\":[\"#636efa\",\"#EF553B\",\"#00cc96\",\"#ab63fa\",\"#FFA15A\",\"#19d3f3\",\"#FF6692\",\"#B6E880\",\"#FF97FF\",\"#FECB52\"],\"font\":{\"color\":\"#2a3f5f\"},\"geo\":{\"bgcolor\":\"white\",\"lakecolor\":\"white\",\"landcolor\":\"#E5ECF6\",\"showlakes\":true,\"showland\":true,\"subunitcolor\":\"white\"},\"hoverlabel\":{\"align\":\"left\"},\"hovermode\":\"closest\",\"mapbox\":{\"style\":\"light\"},\"paper_bgcolor\":\"white\",\"plot_bgcolor\":\"#E5ECF6\",\"polar\":{\"angularaxis\":{\"gridcolor\":\"white\",\"linecolor\":\"white\",\"ticks\":\"\"},\"bgcolor\":\"#E5ECF6\",\"radialaxis\":{\"gridcolor\":\"white\",\"linecolor\":\"white\",\"ticks\":\"\"}},\"scene\":{\"xaxis\":{\"backgroundcolor\":\"#E5ECF6\",\"gridcolor\":\"white\",\"gridwidth\":2,\"linecolor\":\"white\",\"showbackground\":true,\"ticks\":\"\",\"zerolinecolor\":\"white\"},\"yaxis\":{\"backgroundcolor\":\"#E5ECF6\",\"gridcolor\":\"white\",\"gridwidth\":2,\"linecolor\":\"white\",\"showbackground\":true,\"ticks\":\"\",\"zerolinecolor\":\"white\"},\"zaxis\":{\"backgroundcolor\":\"#E5ECF6\",\"gridcolor\":\"white\",\"gridwidth\":2,\"linecolor\":\"white\",\"showbackground\":true,\"ticks\":\"\",\"zerolinecolor\":\"white\"}},\"shapedefaults\":{\"line\":{\"color\":\"#2a3f5f\"}},\"ternary\":{\"aaxis\":{\"gridcolor\":\"white\",\"linecolor\":\"white\",\"ticks\":\"\"},\"baxis\":{\"gridcolor\":\"white\",\"linecolor\":\"white\",\"ticks\":\"\"},\"bgcolor\":\"#E5ECF6\",\"caxis\":{\"gridcolor\":\"white\",\"linecolor\":\"white\",\"ticks\":\"\"}},\"title\":{\"x\":0.05},\"xaxis\":{\"automargin\":true,\"gridcolor\":\"white\",\"linecolor\":\"white\",\"ticks\":\"\",\"title\":{\"standoff\":15},\"zerolinecolor\":\"white\",\"zerolinewidth\":2},\"yaxis\":{\"automargin\":true,\"gridcolor\":\"white\",\"linecolor\":\"white\",\"ticks\":\"\",\"title\":{\"standoff\":15},\"zerolinecolor\":\"white\",\"zerolinewidth\":2}}},\"title\":{\"text\":\"\\ubb3c\\ud488 : \\ubc29\\uc704\\uc0ac\\uc5c5\\uccad \\ub300\\ud55c \\uc218\\uc694\\uc608\\uce21 \"},\"width\":1600,\"xaxis\":{\"title\":{\"text\":\"\\uc8fc \\ub2e8\\uc704 \\uc2dc\\uacc4\\uc5f4 (2017/01/05 ~ 2021/01/23)\"}},\"yaxis\":{\"title\":{\"text\":\"\\uc8fc\\ubcc4 \\uc608\\uc0b0 \\ucd1d\\uc561\"}}},                        {\"responsive\": true}                    ).then(function(){\n",
       "                            \n",
       "var gd = document.getElementById('517408c5-ae66-42c5-bd87-32e55db1fb3c');\n",
       "var x = new MutationObserver(function (mutations, observer) {{\n",
       "        var display = window.getComputedStyle(gd).display;\n",
       "        if (!display || display === 'none') {{\n",
       "            console.log([gd, 'removed!']);\n",
       "            Plotly.purge(gd);\n",
       "            observer.disconnect();\n",
       "        }}\n",
       "}});\n",
       "\n",
       "// Listen for the removal of the full notebook cells\n",
       "var notebookContainer = gd.closest('#notebook-container');\n",
       "if (notebookContainer) {{\n",
       "    x.observe(notebookContainer, {childList: true});\n",
       "}}\n",
       "\n",
       "// Listen for the clearing of the current output cell\n",
       "var outputEl = gd.closest('.output');\n",
       "if (outputEl) {{\n",
       "    x.observe(outputEl, {childList: true});\n",
       "}}\n",
       "\n",
       "                        })                };                });            </script>        </div>"
      ]
     },
     "metadata": {},
     "output_type": "display_data"
    }
   ],
   "source": [
    "# Total\n",
    "fig = go.Figure()\n",
    "\n",
    "fig.add_trace(go.Scatter(x = df2.index, y = df2[df2_1.columns[0]],name = 'Test_실제값',marker_color = 'black'))\n",
    "fig.add_trace(go.Scatter(x = df2_1.index, y = df2_1[df2_1.columns[0]],name = 'Train_실제값',marker_color = 'black'))\n",
    "fig.add_trace(go.Scatter(x = df1.index, y = df1[0], name = 'Test_예측값_XGBOOST',marker_color = 'red'))#,mode='lines+markers'\n",
    "\n",
    "fig.add_trace(go.Scatter(x = df1_1.index, y = df1_1[0], name = 'Train_예측값_XGBOOST',marker_color = 'red'))\n",
    "\n",
    "\n",
    "fig.add_trace(go.Scatter(x = df3.index, y = df3[0], name = 'Test_예측값_RandomForest',marker_color = 'green'))\n",
    "\n",
    "fig.add_trace(go.Scatter(x = df3_1.index, y = df3_1[0], name = 'Train_예측값_RandomForest',marker_color = 'green'))\n",
    "\n",
    "fig.add_trace(go.Scatter(x = df4.index, y = df4[0], name = 'Test_예측값_LightGB',marker_color = 'blue'))\n",
    "\n",
    "fig.add_trace(go.Scatter(x = df4_1.index, y = df4_1[0], name = 'Train_예측값_LightGB',marker_color = 'blue'))\n",
    "\n",
    "\n",
    "\n",
    "fig.add_trace(go.Scatter(x = df_mode_baysein_xgboost_test.index, y = df_mode_baysein_xgboost_test[0], name = 'Test_예측값_Baysein_XGBoost',marker_color = 'purple'))\n",
    "\n",
    "fig.add_trace(go.Scatter(x = df_mode_baysein_xgboost_train.index, y = df_mode_baysein_xgboost_train[0], name = 'Train_예측값_Baysein_XGBoost',marker_color = 'purple'))\n",
    "\n",
    "\n",
    "\n",
    "fig.add_trace(go.Scatter(x = df_random_grid_extra_2_test.index, y =df_random_grid_extra_2_test[0], name = 'Test_예측값_Extra',marker_color = 'gray'))\n",
    "\n",
    "fig.add_trace(go.Scatter(x = df_random_grid_extra_2_train.index, y =df_random_grid_extra_2_train[0], name = 'Train_예측값_Extra',marker_color = 'gray'))\n",
    "\n",
    "\n",
    "\n",
    "fig.add_trace(go.Scatter(x = df_Voting_test.index, y = df_Voting_test[0], name = 'Test_예측값_Voting',marker_color = 'lightcoral'))\n",
    "\n",
    "fig.add_trace(go.Scatter(x = df_Voting_train.index, y = df_Voting_train[0], name = 'Train_예측값_Voting',marker_color = 'lightcoral'))\n",
    "\n",
    "\n",
    "\n",
    "fig.add_vline(x = '2021-01-01',line_dash=\"dash\")\n",
    "fig.add_annotation(\n",
    "            x=\"2021-02-20\",\n",
    "            y=10**12,\n",
    "            text=\"<b>Test</b>\",\n",
    "            showarrow=False,\n",
    "            font=dict(\n",
    "                size=15,\n",
    "                color = 'black'),\n",
    "            align=\"center\",\n",
    "            ax=40,\n",
    "            ay=-30,\n",
    "\n",
    ")\n",
    "fig.add_annotation(\n",
    "            x=\"2020-11-15\",\n",
    "            y=10**12,\n",
    "            text=\"<b>Train</b>\",\n",
    "            showarrow=False,\n",
    "            font=dict(\n",
    "                size=15,\n",
    "                color = 'black'\n",
    "                ),\n",
    "            align=\"center\",\n",
    "            ax=40,\n",
    "            ay=-30,\n",
    "\n",
    ")\n",
    "\n",
    "fig.update_layout(\n",
    "    autosize=False,\n",
    "    width=1600,\n",
    "    height=800,\n",
    "    title= '물품 : 방위사업청 대한 수요예측 '\n",
    "    )\n",
    "\n",
    "fig.update_xaxes(title = '주 단위 시계열 (2017/01/05 ~ 2021/01/23)')\n",
    "fig.update_yaxes(title = '주별 예산 총액')\n",
    "\n",
    "# fig.write_html(\"주별.html\")\n",
    "fig.show()"
   ]
  },
  {
   "cell_type": "code",
   "execution_count": 501,
   "metadata": {},
   "outputs": [],
   "source": [
    "lst_a = []\n",
    "lst_b = []\n",
    "\n",
    "score = make_scorer(mean_squared_log_error)\n",
    "\n",
    "lst_a.append(score(XGB_grid_2, X_train, y_train))\n",
    "lst_a.append(score(LightGB_grid_2, X_train, y_train))\n",
    "lst_a.append(score(mode_baysein_xgboost, X_train, y_train))\n",
    "lst_a.append(score(random_grid_extra_2, X_train, y_train))\n",
    "lst_a.append(score(random_grid_2, X_train, y_train))\n",
    "lst_a.append(score(Voting, X_test, y_test))\n",
    "\n",
    "score = make_scorer(r2_score)\n",
    "\n",
    "lst_b.append(score(XGB_grid_2, X_train, y_train))\n",
    "lst_b.append(score(LightGB_grid_2, X_train, y_train))\n",
    "lst_b.append(score(mode_baysein_xgboost, X_train, y_train))\n",
    "lst_b.append(score(random_grid_extra_2, X_train, y_train))\n",
    "lst_b.append(score(random_grid_2, X_train, y_train))\n",
    "lst_b.append(score(Voting, X_test, y_test))\n",
    "\n",
    "df_score_train = pd.DataFrame(np.array([lst_a,lst_b]).T,columns = ['mean_squared_log_error','r2_score'],index=['XGBoost','LightGBM','Baysein_XGBoost','Extra_model','Random_Forest','Voting_Regression'])"
   ]
  },
  {
   "cell_type": "code",
   "execution_count": 494,
   "metadata": {},
   "outputs": [],
   "source": [
    "lst_a = []\n",
    "lst_b = []\n",
    "\n",
    "score = make_scorer(mean_squared_log_error)\n",
    "\n",
    "lst_a.append(score(XGB_grid_2, X_test, y_test))\n",
    "lst_a.append(score(LightGB_grid_2, X_test, y_test))\n",
    "lst_a.append(score(mode_baysein_xgboost, X_test, y_test))\n",
    "lst_a.append(score(random_grid_extra_2, X_test, y_test))\n",
    "lst_a.append(score(random_grid_2, X_test, y_test))\n",
    "lst_a.append(score(Voting, X_test, y_test))\n",
    "\n",
    "\n",
    "score = make_scorer(r2_score)\n",
    "\n",
    "lst_b.append(score(XGB_grid_2, X_test, y_test))\n",
    "lst_b.append(score(LightGB_grid_2, X_test, y_test))\n",
    "lst_b.append(score(mode_baysein_xgboost, X_test, y_test))\n",
    "lst_b.append(score(random_grid_extra_2, X_test, y_test))\n",
    "lst_b.append(score(random_grid_2, X_test, y_test))\n",
    "lst_b.append(score(Voting, X_test, y_test))\n",
    "\n",
    "df_score_test = pd.DataFrame(np.array([lst_a,lst_b]).T,columns = ['mean_squared_log_error','r2_score'],index=['XGBoost','LightGBM','Baysein_XGBoost','Extra_model','Random_Forest','Voting_Regression'])"
   ]
  },
  {
   "cell_type": "code",
   "execution_count": 495,
   "metadata": {},
   "outputs": [
    {
     "data": {
      "text/html": [
       "<div>\n",
       "<style scoped>\n",
       "    .dataframe tbody tr th:only-of-type {\n",
       "        vertical-align: middle;\n",
       "    }\n",
       "\n",
       "    .dataframe tbody tr th {\n",
       "        vertical-align: top;\n",
       "    }\n",
       "\n",
       "    .dataframe thead th {\n",
       "        text-align: right;\n",
       "    }\n",
       "</style>\n",
       "<table border=\"1\" class=\"dataframe\">\n",
       "  <thead>\n",
       "    <tr style=\"text-align: right;\">\n",
       "      <th></th>\n",
       "      <th>mean_squared_log_error</th>\n",
       "      <th>r2_score</th>\n",
       "    </tr>\n",
       "  </thead>\n",
       "  <tbody>\n",
       "    <tr>\n",
       "      <th>XGBoost</th>\n",
       "      <td>43.057487</td>\n",
       "      <td>0.887947</td>\n",
       "    </tr>\n",
       "    <tr>\n",
       "      <th>LightGBM</th>\n",
       "      <td>46.173374</td>\n",
       "      <td>0.581697</td>\n",
       "    </tr>\n",
       "    <tr>\n",
       "      <th>Baysein_XGBoost</th>\n",
       "      <td>24.915373</td>\n",
       "      <td>0.947204</td>\n",
       "    </tr>\n",
       "    <tr>\n",
       "      <th>Extra_model</th>\n",
       "      <td>31.427397</td>\n",
       "      <td>0.532983</td>\n",
       "    </tr>\n",
       "    <tr>\n",
       "      <th>Random_Forest</th>\n",
       "      <td>27.667708</td>\n",
       "      <td>0.531471</td>\n",
       "    </tr>\n",
       "    <tr>\n",
       "      <th>Voting_Regression</th>\n",
       "      <td>0.747893</td>\n",
       "      <td>0.081504</td>\n",
       "    </tr>\n",
       "  </tbody>\n",
       "</table>\n",
       "</div>"
      ],
      "text/plain": [
       "                   mean_squared_log_error  r2_score\n",
       "XGBoost                         43.057487  0.887947\n",
       "LightGBM                        46.173374  0.581697\n",
       "Baysein_XGBoost                 24.915373  0.947204\n",
       "Extra_model                     31.427397  0.532983\n",
       "Random_Forest                   27.667708  0.531471\n",
       "Voting_Regression                0.747893  0.081504"
      ]
     },
     "execution_count": 495,
     "metadata": {},
     "output_type": "execute_result"
    }
   ],
   "source": [
    "df_score_train"
   ]
  },
  {
   "cell_type": "code",
   "execution_count": 497,
   "metadata": {},
   "outputs": [
    {
     "data": {
      "text/html": [
       "<div>\n",
       "<style scoped>\n",
       "    .dataframe tbody tr th:only-of-type {\n",
       "        vertical-align: middle;\n",
       "    }\n",
       "\n",
       "    .dataframe tbody tr th {\n",
       "        vertical-align: top;\n",
       "    }\n",
       "\n",
       "    .dataframe thead th {\n",
       "        text-align: right;\n",
       "    }\n",
       "</style>\n",
       "<table border=\"1\" class=\"dataframe\">\n",
       "  <thead>\n",
       "    <tr style=\"text-align: right;\">\n",
       "      <th></th>\n",
       "      <th>mean_squared_log_error</th>\n",
       "      <th>r2_score</th>\n",
       "    </tr>\n",
       "  </thead>\n",
       "  <tbody>\n",
       "    <tr>\n",
       "      <th>XGBoost</th>\n",
       "      <td>0.737514</td>\n",
       "      <td>0.115466</td>\n",
       "    </tr>\n",
       "    <tr>\n",
       "      <th>LightGBM</th>\n",
       "      <td>0.655323</td>\n",
       "      <td>0.098255</td>\n",
       "    </tr>\n",
       "    <tr>\n",
       "      <th>Baysein_XGBoost</th>\n",
       "      <td>0.834575</td>\n",
       "      <td>0.051517</td>\n",
       "    </tr>\n",
       "    <tr>\n",
       "      <th>Extra_model</th>\n",
       "      <td>0.789319</td>\n",
       "      <td>0.036750</td>\n",
       "    </tr>\n",
       "    <tr>\n",
       "      <th>Random_Forest</th>\n",
       "      <td>0.777022</td>\n",
       "      <td>0.080664</td>\n",
       "    </tr>\n",
       "    <tr>\n",
       "      <th>Voting_Regression</th>\n",
       "      <td>0.747893</td>\n",
       "      <td>0.081504</td>\n",
       "    </tr>\n",
       "  </tbody>\n",
       "</table>\n",
       "</div>"
      ],
      "text/plain": [
       "                   mean_squared_log_error  r2_score\n",
       "XGBoost                          0.737514  0.115466\n",
       "LightGBM                         0.655323  0.098255\n",
       "Baysein_XGBoost                  0.834575  0.051517\n",
       "Extra_model                      0.789319  0.036750\n",
       "Random_Forest                    0.777022  0.080664\n",
       "Voting_Regression                0.747893  0.081504"
      ]
     },
     "execution_count": 497,
     "metadata": {},
     "output_type": "execute_result"
    }
   ],
   "source": [
    "df_score_test"
   ]
  },
  {
   "cell_type": "code",
   "execution_count": 511,
   "metadata": {},
   "outputs": [
    {
     "data": {
      "text/html": [
       "<div>\n",
       "<style scoped>\n",
       "    .dataframe tbody tr th:only-of-type {\n",
       "        vertical-align: middle;\n",
       "    }\n",
       "\n",
       "    .dataframe tbody tr th {\n",
       "        vertical-align: top;\n",
       "    }\n",
       "\n",
       "    .dataframe thead th {\n",
       "        text-align: right;\n",
       "    }\n",
       "</style>\n",
       "<table border=\"1\" class=\"dataframe\">\n",
       "  <thead>\n",
       "    <tr style=\"text-align: right;\">\n",
       "      <th></th>\n",
       "      <th>index</th>\n",
       "      <th>입찰공고차수</th>\n",
       "      <th>합계수량</th>\n",
       "      <th>합계금액</th>\n",
       "      <th>추정가격</th>\n",
       "      <th>배정예산</th>\n",
       "      <th>day</th>\n",
       "      <th>month</th>\n",
       "      <th>year</th>\n",
       "      <th>hour</th>\n",
       "      <th>dow</th>\n",
       "      <th>woy</th>\n",
       "      <th>실적</th>\n",
       "    </tr>\n",
       "    <tr>\n",
       "      <th>공고게시일자</th>\n",
       "      <th></th>\n",
       "      <th></th>\n",
       "      <th></th>\n",
       "      <th></th>\n",
       "      <th></th>\n",
       "      <th></th>\n",
       "      <th></th>\n",
       "      <th></th>\n",
       "      <th></th>\n",
       "      <th></th>\n",
       "      <th></th>\n",
       "      <th></th>\n",
       "      <th></th>\n",
       "    </tr>\n",
       "  </thead>\n",
       "  <tbody>\n",
       "    <tr>\n",
       "      <th>2017-01-29</th>\n",
       "      <td>0</td>\n",
       "      <td>0</td>\n",
       "      <td>5.0</td>\n",
       "      <td>170000000.0</td>\n",
       "      <td>154545455.0</td>\n",
       "      <td>1.708266e+08</td>\n",
       "      <td>24</td>\n",
       "      <td>1</td>\n",
       "      <td>2017</td>\n",
       "      <td>0</td>\n",
       "      <td>1</td>\n",
       "      <td>4</td>\n",
       "      <td>0.873736</td>\n",
       "    </tr>\n",
       "    <tr>\n",
       "      <th>2017-02-05</th>\n",
       "      <td>6</td>\n",
       "      <td>0</td>\n",
       "      <td>5.0</td>\n",
       "      <td>170000000.0</td>\n",
       "      <td>154545455.0</td>\n",
       "      <td>1.708266e+08</td>\n",
       "      <td>2</td>\n",
       "      <td>2</td>\n",
       "      <td>2017</td>\n",
       "      <td>0</td>\n",
       "      <td>3</td>\n",
       "      <td>5</td>\n",
       "      <td>0.873736</td>\n",
       "    </tr>\n",
       "    <tr>\n",
       "      <th>2017-02-12</th>\n",
       "      <td>7</td>\n",
       "      <td>0</td>\n",
       "      <td>5.0</td>\n",
       "      <td>170000000.0</td>\n",
       "      <td>154545455.0</td>\n",
       "      <td>1.708266e+08</td>\n",
       "      <td>10</td>\n",
       "      <td>2</td>\n",
       "      <td>2017</td>\n",
       "      <td>0</td>\n",
       "      <td>4</td>\n",
       "      <td>6</td>\n",
       "      <td>0.873736</td>\n",
       "    </tr>\n",
       "    <tr>\n",
       "      <th>2017-02-19</th>\n",
       "      <td>1</td>\n",
       "      <td>0</td>\n",
       "      <td>1.0</td>\n",
       "      <td>443847600.0</td>\n",
       "      <td>403497818.0</td>\n",
       "      <td>4.454314e+08</td>\n",
       "      <td>16</td>\n",
       "      <td>2</td>\n",
       "      <td>2017</td>\n",
       "      <td>0</td>\n",
       "      <td>3</td>\n",
       "      <td>7</td>\n",
       "      <td>0.873736</td>\n",
       "    </tr>\n",
       "    <tr>\n",
       "      <th>2017-02-26</th>\n",
       "      <td>2</td>\n",
       "      <td>0</td>\n",
       "      <td>5.0</td>\n",
       "      <td>170000000.0</td>\n",
       "      <td>154545455.0</td>\n",
       "      <td>1.708266e+08</td>\n",
       "      <td>23</td>\n",
       "      <td>2</td>\n",
       "      <td>2017</td>\n",
       "      <td>0</td>\n",
       "      <td>3</td>\n",
       "      <td>8</td>\n",
       "      <td>0.873736</td>\n",
       "    </tr>\n",
       "    <tr>\n",
       "      <th>...</th>\n",
       "      <td>...</td>\n",
       "      <td>...</td>\n",
       "      <td>...</td>\n",
       "      <td>...</td>\n",
       "      <td>...</td>\n",
       "      <td>...</td>\n",
       "      <td>...</td>\n",
       "      <td>...</td>\n",
       "      <td>...</td>\n",
       "      <td>...</td>\n",
       "      <td>...</td>\n",
       "      <td>...</td>\n",
       "      <td>...</td>\n",
       "    </tr>\n",
       "    <tr>\n",
       "      <th>2020-12-06</th>\n",
       "      <td>12618210</td>\n",
       "      <td>139</td>\n",
       "      <td>1.0</td>\n",
       "      <td>219910800.0</td>\n",
       "      <td>199918909.0</td>\n",
       "      <td>1.158117e+11</td>\n",
       "      <td>875</td>\n",
       "      <td>1262</td>\n",
       "      <td>216140</td>\n",
       "      <td>0</td>\n",
       "      <td>215</td>\n",
       "      <td>5243</td>\n",
       "      <td>0.934931</td>\n",
       "    </tr>\n",
       "    <tr>\n",
       "      <th>2020-12-13</th>\n",
       "      <td>10687813</td>\n",
       "      <td>131</td>\n",
       "      <td>0.0</td>\n",
       "      <td>0.0</td>\n",
       "      <td>0.0</td>\n",
       "      <td>7.513172e+10</td>\n",
       "      <td>838</td>\n",
       "      <td>1080</td>\n",
       "      <td>181800</td>\n",
       "      <td>0</td>\n",
       "      <td>208</td>\n",
       "      <td>4500</td>\n",
       "      <td>0.934931</td>\n",
       "    </tr>\n",
       "    <tr>\n",
       "      <th>2020-12-20</th>\n",
       "      <td>6544001</td>\n",
       "      <td>82</td>\n",
       "      <td>0.0</td>\n",
       "      <td>0.0</td>\n",
       "      <td>0.0</td>\n",
       "      <td>1.394417e+10</td>\n",
       "      <td>881</td>\n",
       "      <td>660</td>\n",
       "      <td>111100</td>\n",
       "      <td>0</td>\n",
       "      <td>111</td>\n",
       "      <td>2805</td>\n",
       "      <td>0.934931</td>\n",
       "    </tr>\n",
       "    <tr>\n",
       "      <th>2020-12-27</th>\n",
       "      <td>2501113</td>\n",
       "      <td>29</td>\n",
       "      <td>0.0</td>\n",
       "      <td>0.0</td>\n",
       "      <td>0.0</td>\n",
       "      <td>3.735845e+09</td>\n",
       "      <td>471</td>\n",
       "      <td>252</td>\n",
       "      <td>42420</td>\n",
       "      <td>0</td>\n",
       "      <td>30</td>\n",
       "      <td>1092</td>\n",
       "      <td>0.934931</td>\n",
       "    </tr>\n",
       "    <tr>\n",
       "      <th>2021-01-03</th>\n",
       "      <td>2022430</td>\n",
       "      <td>29</td>\n",
       "      <td>0.0</td>\n",
       "      <td>0.0</td>\n",
       "      <td>0.0</td>\n",
       "      <td>7.351718e+09</td>\n",
       "      <td>510</td>\n",
       "      <td>204</td>\n",
       "      <td>34340</td>\n",
       "      <td>0</td>\n",
       "      <td>34</td>\n",
       "      <td>901</td>\n",
       "      <td>1.000000</td>\n",
       "    </tr>\n",
       "  </tbody>\n",
       "</table>\n",
       "<p>206 rows × 13 columns</p>\n",
       "</div>"
      ],
      "text/plain": [
       "               index  입찰공고차수  합계수량         합계금액         추정가격          배정예산  \\\n",
       "공고게시일자                                                                       \n",
       "2017-01-29         0       0   5.0  170000000.0  154545455.0  1.708266e+08   \n",
       "2017-02-05         6       0   5.0  170000000.0  154545455.0  1.708266e+08   \n",
       "2017-02-12         7       0   5.0  170000000.0  154545455.0  1.708266e+08   \n",
       "2017-02-19         1       0   1.0  443847600.0  403497818.0  4.454314e+08   \n",
       "2017-02-26         2       0   5.0  170000000.0  154545455.0  1.708266e+08   \n",
       "...              ...     ...   ...          ...          ...           ...   \n",
       "2020-12-06  12618210     139   1.0  219910800.0  199918909.0  1.158117e+11   \n",
       "2020-12-13  10687813     131   0.0          0.0          0.0  7.513172e+10   \n",
       "2020-12-20   6544001      82   0.0          0.0          0.0  1.394417e+10   \n",
       "2020-12-27   2501113      29   0.0          0.0          0.0  3.735845e+09   \n",
       "2021-01-03   2022430      29   0.0          0.0          0.0  7.351718e+09   \n",
       "\n",
       "            day  month    year  hour  dow   woy        실적  \n",
       "공고게시일자                                                     \n",
       "2017-01-29   24      1    2017     0    1     4  0.873736  \n",
       "2017-02-05    2      2    2017     0    3     5  0.873736  \n",
       "2017-02-12   10      2    2017     0    4     6  0.873736  \n",
       "2017-02-19   16      2    2017     0    3     7  0.873736  \n",
       "2017-02-26   23      2    2017     0    3     8  0.873736  \n",
       "...         ...    ...     ...   ...  ...   ...       ...  \n",
       "2020-12-06  875   1262  216140     0  215  5243  0.934931  \n",
       "2020-12-13  838   1080  181800     0  208  4500  0.934931  \n",
       "2020-12-20  881    660  111100     0  111  2805  0.934931  \n",
       "2020-12-27  471    252   42420     0   30  1092  0.934931  \n",
       "2021-01-03  510    204   34340     0   34   901  1.000000  \n",
       "\n",
       "[206 rows x 13 columns]"
      ]
     },
     "execution_count": 511,
     "metadata": {},
     "output_type": "execute_result"
    }
   ],
   "source": [
    "df_test_1_grouper"
   ]
  },
  {
   "cell_type": "code",
   "execution_count": null,
   "metadata": {},
   "outputs": [],
   "source": []
  },
  {
   "cell_type": "code",
   "execution_count": null,
   "metadata": {},
   "outputs": [],
   "source": []
  },
  {
   "cell_type": "code",
   "execution_count": null,
   "metadata": {},
   "outputs": [],
   "source": []
  },
  {
   "cell_type": "code",
   "execution_count": null,
   "metadata": {},
   "outputs": [],
   "source": []
  },
  {
   "cell_type": "code",
   "execution_count": null,
   "metadata": {},
   "outputs": [],
   "source": []
  },
  {
   "cell_type": "code",
   "execution_count": null,
   "metadata": {},
   "outputs": [],
   "source": []
  },
  {
   "cell_type": "code",
   "execution_count": null,
   "metadata": {},
   "outputs": [],
   "source": []
  },
  {
   "cell_type": "code",
   "execution_count": null,
   "metadata": {},
   "outputs": [],
   "source": []
  },
  {
   "cell_type": "code",
   "execution_count": null,
   "metadata": {},
   "outputs": [],
   "source": []
  },
  {
   "cell_type": "code",
   "execution_count": null,
   "metadata": {},
   "outputs": [],
   "source": []
  },
  {
   "cell_type": "code",
   "execution_count": null,
   "metadata": {},
   "outputs": [],
   "source": []
  },
  {
   "cell_type": "code",
   "execution_count": null,
   "metadata": {},
   "outputs": [],
   "source": []
  },
  {
   "cell_type": "code",
   "execution_count": null,
   "metadata": {},
   "outputs": [],
   "source": []
  },
  {
   "cell_type": "code",
   "execution_count": null,
   "metadata": {},
   "outputs": [],
   "source": []
  }
 ],
 "metadata": {
  "kernelspec": {
   "display_name": "Python 3",
   "language": "python",
   "name": "python3"
  },
  "language_info": {
   "codemirror_mode": {
    "name": "ipython",
    "version": 3
   },
   "file_extension": ".py",
   "mimetype": "text/x-python",
   "name": "python",
   "nbconvert_exporter": "python",
   "pygments_lexer": "ipython3",
   "version": "3.7.4"
  },
  "toc": {
   "base_numbering": 1,
   "nav_menu": {},
   "number_sections": false,
   "sideBar": true,
   "skip_h1_title": false,
   "title_cell": "Table of Contents",
   "title_sidebar": "Contents",
   "toc_cell": false,
   "toc_position": {},
   "toc_section_display": true,
   "toc_window_display": false
  },
  "varInspector": {
   "cols": {
    "lenName": 16,
    "lenType": 16,
    "lenVar": 40
   },
   "kernels_config": {
    "python": {
     "delete_cmd_postfix": "",
     "delete_cmd_prefix": "del ",
     "library": "var_list.py",
     "varRefreshCmd": "print(var_dic_list())"
    },
    "r": {
     "delete_cmd_postfix": ") ",
     "delete_cmd_prefix": "rm(",
     "library": "var_list.r",
     "varRefreshCmd": "cat(var_dic_list()) "
    }
   },
   "types_to_exclude": [
    "module",
    "function",
    "builtin_function_or_method",
    "instance",
    "_Feature"
   ],
   "window_display": false
  }
 },
 "nbformat": 4,
 "nbformat_minor": 2
}
