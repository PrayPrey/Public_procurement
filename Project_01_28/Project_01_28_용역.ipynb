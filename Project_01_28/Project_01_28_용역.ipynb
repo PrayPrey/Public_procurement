{
 "cells": [
  {
   "cell_type": "code",
   "execution_count": 1,
   "metadata": {},
   "outputs": [
    {
     "name": "stderr",
     "output_type": "stream",
     "text": [
      "D:\\anaconda\\lib\\site-packages\\statsmodels\\tools\\_testing.py:19: FutureWarning: pandas.util.testing is deprecated. Use the functions in the public API at pandas.testing instead.\n",
      "  import pandas.util.testing as tm\n"
     ]
    },
    {
     "data": {
      "text/html": [
       "        <script type=\"text/javascript\">\n",
       "        window.PlotlyConfig = {MathJaxConfig: 'local'};\n",
       "        if (window.MathJax) {MathJax.Hub.Config({SVG: {font: \"STIX-Web\"}});}\n",
       "        if (typeof require !== 'undefined') {\n",
       "        require.undef(\"plotly\");\n",
       "        requirejs.config({\n",
       "            paths: {\n",
       "                'plotly': ['https://cdn.plot.ly/plotly-2.4.2.min']\n",
       "            }\n",
       "        });\n",
       "        require(['plotly'], function(Plotly) {\n",
       "            window._Plotly = Plotly;\n",
       "        });\n",
       "        }\n",
       "        </script>\n",
       "        "
      ]
     },
     "metadata": {},
     "output_type": "display_data"
    },
    {
     "data": {
      "text/html": [
       "        <script type=\"text/javascript\">\n",
       "        window.PlotlyConfig = {MathJaxConfig: 'local'};\n",
       "        if (window.MathJax) {MathJax.Hub.Config({SVG: {font: \"STIX-Web\"}});}\n",
       "        if (typeof require !== 'undefined') {\n",
       "        require.undef(\"plotly\");\n",
       "        requirejs.config({\n",
       "            paths: {\n",
       "                'plotly': ['https://cdn.plot.ly/plotly-2.4.2.min']\n",
       "            }\n",
       "        });\n",
       "        require(['plotly'], function(Plotly) {\n",
       "            window._Plotly = Plotly;\n",
       "        });\n",
       "        }\n",
       "        </script>\n",
       "        "
      ]
     },
     "metadata": {},
     "output_type": "display_data"
    },
    {
     "data": {
      "text/html": [
       "<style>.container { width:100% !important; }</style>"
      ],
      "text/plain": [
       "<IPython.core.display.HTML object>"
      ]
     },
     "metadata": {},
     "output_type": "display_data"
    }
   ],
   "source": [
    "import numpy as np\n",
    "import pandas as pd\n",
    "\n",
    "from sklearn.ensemble import RandomForestRegressor, GradientBoostingRegressor\n",
    "from sklearn.preprocessing import OneHotEncoder, StandardScaler\n",
    "from sklearn.model_selection import StratifiedKFold\n",
    "from sklearn.metrics import accuracy_score\n",
    "\n",
    "import string\n",
    "import warnings\n",
    "import missingno\n",
    "warnings.filterwarnings('ignore')\n",
    "\n",
    "\n",
    "import pandas as pd\n",
    "import cufflinks as cf\n",
    "import chart_studio.plotly as py\n",
    "import plotly.graph_objects as go\n",
    "import numpy as np\n",
    "import pandas as pd\n",
    "import numpy as np\n",
    "from numpy.random import gamma\n",
    "from numpy.random import multivariate_normal\n",
    "# from scipy.stats import multivariate_t\n",
    "from scipy.stats import f\n",
    "import matplotlib.pyplot as plt\n",
    "\n",
    "\n",
    "\n",
    "cf.go_offline(connected = True)\n",
    "\n",
    "\n",
    "import pandas as pd\n",
    "import cufflinks as cf\n",
    "import chart_studio.plotly as py\n",
    "import plotly.graph_objects as go\n",
    "import numpy as np\n",
    "import pandas as pd\n",
    "import numpy as np\n",
    "from numpy.random import gamma\n",
    "from numpy.random import multivariate_normal\n",
    "# from scipy.stats import multivariate_t\n",
    "from scipy.stats import f\n",
    "import matplotlib.pyplot as plt\n",
    "import missingno\n",
    "\n",
    "\n",
    "cf.go_offline(connected = True)\n",
    "\n",
    "\n",
    "import numpy as np\n",
    "import matplotlib.pyplot as plt\n",
    "import pandas as pd\n",
    "import seaborn as sns\n",
    "\n",
    "from sklearn.linear_model import Ridge, Lasso\n",
    "from sklearn.model_selection import cross_val_score\n",
    "from sklearn.model_selection import train_test_split\n",
    "from sklearn.linear_model import LinearRegression\n",
    "from sklearn.metrics import r2_score\n",
    "from sklearn.metrics import mean_absolute_error\n",
    "from sklearn.metrics import mean_squared_error\n",
    "from sklearn.metrics import mean_squared_log_error\n",
    "from sklearn.metrics import make_scorer\n",
    "from sklearn.model_selection import KFold\n",
    "from sklearn.model_selection import cross_val_score\n",
    "\n",
    "import numpy as np\n",
    "import pandas as pd\n",
    "from sklearn.metrics import make_scorer\n",
    "from sklearn.ensemble import RandomForestRegressor, GradientBoostingRegressor\n",
    "from xgboost import XGBRegressor \n",
    "from sklearn.preprocessing import OneHotEncoder, StandardScaler\n",
    "from sklearn.model_selection import StratifiedKFold\n",
    "from sklearn.metrics import accuracy_score\n",
    "from sklearn.linear_model import LinearRegression\n",
    "from sklearn.linear_model import Lasso\n",
    "from sklearn.model_selection import GridSearchCV\n",
    "import string\n",
    "import warnings\n",
    "import missingno\n",
    "\n",
    "from IPython.core.display import display, HTML\n",
    "display(HTML(\"<style>.container { width:100% !important; }</style>\"))"
   ]
  },
  {
   "cell_type": "markdown",
   "metadata": {},
   "source": [
    "# 전체 프로세스\n",
    "\n",
    "- 1) 기관의 요청 or 기관이 직접 발주계획\n",
    "- 2) 입찰 공고\n",
    "- 3) 예비가격 생성 ( 예비 -> 예정 가격을 만들기 위한 과정 ; 복잡하다)\n",
    "- 4) PQ 검사 / 설명회\n",
    "- 5) 투찰 (참여 업체가 값을 적어 냄)\n",
    "- 6) 개찰 (참여 업체가 투찰한 금액을 염 이때 예정가격과 가장 비슷한 가격을 선택)\n",
    "- 7) 적격심사 대상 / 협상 대상 인 경우 확인\n",
    "- 8) 낙찰 완료\n",
    "\n",
    "\n",
    "\n",
    "\n",
    "> 입찰 :\t입찰은 낙찰 희망 가격을 서면으로 제출하는 것을 뜻합니다\n",
    "\n",
    "> 투찰 : \t투찰은 참가하여 가격을 써 내는 것을 의미합니다\n",
    "\n",
    "> 개찰 :\t개찰은 입찰한 결과를 조사하는것을 의미합니다\n",
    "\n",
    "> 낙찰 :\t낙찰은 경매 따위에서 물건이나 일이 어떤 사람이나 업체에 돌아가도록 결정되는것을 의미\n",
    "\n",
    "> 조달 :\t자금이나 물자 따위를 대어 준다는 뜻을 지칭\n",
    "\n",
    "> 발주 :\t물건을 보내달라고 하는 주문"
   ]
  },
  {
   "cell_type": "markdown",
   "metadata": {},
   "source": [
    "- <p style=\"font-size:15px\"><b>등록유형 :조달정보개방포털을 통해 제공되는 조달데이터의 원천 시스템을 나라장터와 자제전자조달시스템으로 구분 </b></p>\n",
    " * 나라장터 : 조달청이 운영하는  나라장터(중앙조달 및 자체조달) 실적 조회<br>\n",
    " * 자체전자조달시스템 : 나라장터 외 7개 자체전자조달시스템 운영 기관의 실적 조회<br>\n",
    " * ☞ 7개 자체전자조달시스템 : 한국전기연구원, 한국지역난방공사, 한국국토정보공사, 한국도로공사 , 한국조폐공사, 한국수자원공사, 방위사업청\n",
    " \n",
    " \n",
    "- <p style=\"font-size:15px\"><b>용역구분</b></p>\n",
    "    용역업무에 대한 구분으로 기술용역/ 일반용역을 구분\n",
    "  \n",
    "- <p style=\"font-size:15px\"><b>공고시스템명</b></p>\n",
    "    * 자체전자조달시스템을 사용하는 기관명\n",
    "\n",
    "\n",
    "- <p style=\"font-size:15px\"><b>입찰공고번호</b></p>\n",
    "    - 입찰공고를 관리하기 위한 번호로 <br>\n",
    "     - 나라장터 공고시 생성되는 번호규칙 : 공고년도(4)+공고월(2)+순번(5)<br>\n",
    "     - 자체전자조달시스템 보유기관은 각 기관별 형식 별도 사용\n",
    "     \n",
    "     \n",
    "- <p style=\"font-size:15px\"><b>입찰공고차수</b></p>     \n",
    "     - 입찰공고의 변경 및 취소 여부를 관리하는 숫자로 신규등록은 00, 정정공고 등이 발생할 때마다 1자리씩 증가\n",
    "\n",
    "\n",
    "     \n",
    "- <p style=\"font-size:15px\"><b>공고게시일자</b></p>   \n",
    "    - 입찰공고서 등을 나라장터시스템에 게시한 일자\n",
    "    \n",
    "    \n",
    "- <p style=\"font-size:15px\"><b>공고명</b></p>   \n",
    "    - 사업명이라고도 하며 공고 내용의 파악 등이 가능하도록 요약한 입찰(견적요청 등) 건의 명칭\n",
    "    \n",
    "    \n",
    "- <p style=\"font-size:15px\"><b>공고기관명</b></p>   \n",
    "    - 수요기관의 의뢰를 받아 입찰 등을 공고하는 기관\n",
    "    \n",
    "    \n",
    "- <p style=\"font-size:15px\"><b>공고기관코드</b></p>   \n",
    "    - 공고기관코드\n",
    "\n",
    "\n",
    "- <p style=\"font-size:15px\"><b>실수요기관명, 수요기관명, 수요기관코드, 수요기관구분</b></p>   \n",
    "    - 실수요부서(사업부서) 또는 실수요기관명,코드,구분\n",
    "    \n",
    "    \n",
    "    \n",
    "- <p style=\"font-size:15px\"><b>품명내용, 세부품명내용</b></p>   \n",
    "    - 품명\n",
    "    \n",
    "    \n",
    "- <p style=\"font-size:15px\"><b>합계수량, 합계금액</b></p>   \n",
    "    - 수량, 금액\n",
    "    \n",
    "    \n",
    "- <p style=\"font-size:15px\"><b>납품기한</b></p>   \n",
    "    - 물품 등이 납품(이행완료)되어야하는 기한\n",
    "    \n",
    "    \n",
    "- <p style=\"font-size:15px\"><b>긴급공고여부</b></p>   \n",
    "    - 긴급을 요하는 공고건에 대한 공고건<br>\n",
    "    - 긴급공고여부(Y/N)로 등록\n",
    "    \n",
    "    \n",
    "- <p style=\"font-size:15px\"><b>정정공고여부</b></p>   \n",
    "    - (입찰)공고에 대한 정정공고 여부\n",
    "\n",
    "\n",
    "- <p style=\"font-size:15px\"><b>취소공고여부</b></p>   \n",
    "    - (입찰)공고에 대한 취소공고 여부\n",
    "    \n",
    "    \n",
    "- <p style=\"font-size:15px\"><b>추정가격</b></p>   \n",
    "    - 계약을 체결함에 있어 예정가격이 결정되기 전에 산정된 가격으로, 「국가를 당사자로 하는 계약에 관한 법률」제4조에 의한 \n",
    "      국제입찰, 수의계약 및 지역제한 경쟁대상 등 여부를 파악하기 위한 기준이 되는 가격으로서 입찰공고서에 명시<br>\n",
    "          - 부가가치세와 관급자재금액 미포함\n",
    "        \n",
    "        \n",
    "- <p style=\"font-size:15px\"><b>배정예산</b></p>           \n",
    "    - 사업목적물을 달성하기 위하여 배정된 예산액 또는 설계금액\n",
    "    \n",
    "    \n",
    "- <p style=\"font-size:15px\"><b>입찰참가자격등록마감일자</b></p>           \n",
    "- <p style=\"font-size:15px\"><b>입찰서개시일자</b></p>      \n",
    "- <p style=\"font-size:15px\"><b>입찰서마감일자</b></p>          \n",
    "- <p style=\"font-size:15px\"><b>개찰일자</b></p>     \n",
    "    \n",
    "    \n",
    "- <p style=\"font-size:15px\"><b>입찰방식</b></p>    \n",
    "    - 입찰공고 건에 대하여 입찰서(또는 견적서)를 제출하는 방식을 정의<br>\n",
    "    - 예) 직찰(직접제출), 전자입찰, 직찰/우편/상시, 우편/상시, 전자시담, 직찰/우편, 전자시담(다자간)\n",
    "\n",
    "\n",
    "- <p style=\"font-size:15px\"><b>재입찰허용여부</b></p>    \n",
    "    -  경쟁입찰에 있어서 2인이상의 유효한 입찰자가 없거나 낙찰자가 없을 경우 같은 장소에서 다시 입찰을 허용하는지의 여부(Y/N)\n",
    "    \n",
    "    \n",
    "- <p style=\"font-size:15px\"><b>입찰계약방법</b></p>   \n",
    "    - 경쟁 형태(일반, 제한, 지명, 수의), 입찰 및 낙찰자결정방법 등에 따른 분류<br>\n",
    "     * 일반(총액, 단가, 3자단가, 규격가격동시, 협상에 의한 계약 등) 등\n",
    "     \n",
    "     \n",
    "- <p style=\"font-size:15px\"><b>낙찰자결정방법</b></p>    \n",
    "    - 경쟁입찰을 통하여 낙찰자를 결정하는 방법으로 주요 내용은 아래와 같음<br>\n",
    "             - 최저가낙찰제 : 예정가격 이하로서 최저가격으로 입찰한 자를 낙찰자로 결정<br>\n",
    "     - 적격심사낙찰제 : 예정가격이하로서 최저가격으로 입찰한 자의 순으로 당해계약이행능력을 심사하여 \n",
    "                              낙찰자를 결정<br>\n",
    "     - 2단계 경쟁등의 입찰 : 물품의 제조ㆍ구매 또는 용역계약(단순한 노무 용역 제외)의 경우 미리 적절한\n",
    "                                      규격등의 작성이 곤란하거나 기타 계약의 특성상 필요하다고 인정되는 경우에 적용<br>\n",
    "           * 2단계경쟁입찰 : 규격 또는 기술입찰을 실시한 후 적격자에 한하여 가격입찰을 실시\n",
    "                                 (규격 또는 기술 적합자가 1인인 경우 유찰)<br>\n",
    "       ** 규격가격동시입찰 : 규격과 가격 또는 기술과 가격입찰을 동시에 실시, 규격입찰 또는 기술입찰을\n",
    "                                        개찰한 결과 적격자로 확정된 자에 한하여 가격개찰<br>\n",
    "     - 협상에 의한 계약 :  물품·용역계약에 있어서 계약이행의 전문성·기술성·긴급성, 공공시설물의 안전성 및 \n",
    "                                  그 밖에 국가안보목적등의 이유로 필요하다고 인정되는 경우, 정보과학기술 등 집약도가\n",
    "                                  높은 지식을 활용하여 고부가가치를 창출하는 사업에 대하여 다수의 공급자들로부터 \n",
    "                                  제안서를 제출받아 평가한 후 협상절차를 통하여 국가에 가장 유리하다고 인정되는 자를\n",
    "                                  낙찰자로 선정<br>\n",
    "     - 종합심사낙찰제(국가계약법) : 공사에 대하여 입찰자의 입찰가격, 공사수행능력 및 사회적 책임 등을 종합 \n",
    "                                                  심사하여 합산점수가 가장 높은 자를 낙찰자로 결정<br>\n",
    "     - 종합평가낙찰제(지방계약법) : 공사에 대하여 적정한 능력을 갖춘 업체의 시공실적·시공품질·기술능력·경영상태\n",
    "                                                  및 신인도 등을 종합적으로 평가하여 가장 높은 점수를 받은 자를 낙찰자로 결정\n",
    "                                                  \n",
    "                                                  \n",
    "\n",
    "     \n",
    "- <p style=\"font-size:15px\"><b>낙찰하한율</b></p>    \n",
    "    - 적격심사제도나 중소기업간경쟁물품에 대한 계약이행능력심사시 입찰가격을 제외한 다른 항목은 모두 만점을 받을 경우를 가정하여 낙찰가능한 최소한의 예정가격 대비 가격 투찰율을 말하며 이 하한율 아래로 투찰하면 낙찰되지 못하는 비율\n",
    "    \n",
    "    \n",
    "- <p style=\"font-size:15px\"><b>예가방법</b></p>    \n",
    "    - 예가방법\n",
    "    \n",
    "    \n",
    "- <p style=\"font-size:15px\"><b>업종제한여부</b></p>    \n",
    "    - 업종제한이 적용된 경우 입찰 등에 참여할 수 있는 업종 명칭(코드 포함)을 나열\n",
    "    \n",
    "    \n",
    "- <p style=\"font-size:15px\"><b>업종제한내용</b></p>    \n",
    "    - 업종제한이 적용된 여부\n",
    "    \n",
    "    \n",
    "- <p style=\"font-size:15px\"><b>지역제한내용</b></p>    \n",
    "    - 지역제한이 적용된 경우 입찰 등에 참여할 수 있는 지역 소재지(코드 포함)\n",
    "    \n",
    "    \n",
    "- <p style=\"font-size:15px\"><b>공동도급구성방식명</b></p>  \n",
    "- <p style=\"font-size:15px\"><b>공동도급협정서접수방식</b></p>\n",
    "    - 공동도급협정서접수방식\n",
    "\n",
    "\n",
    "- <p style=\"font-size:15px\"><b>공동도급협정서접수마감일자</b></p>    \n",
    "    - 공동도급협정서접수마감일자\n",
    "    \n",
    "    \n",
    "- <p style=\"font-size:15px\"><b>국제입찰여부</b></p>    \n",
    "- <p style=\"font-size:15px\"><b>국제입찰사유</b></p>    \n",
    "\n",
    "\n",
    "- <p style=\"font-size:15px\"><b>낙찰자결정적용법규</b></p>    \n",
    "    - 낙찰자 선정시 적용되는 법규로 국가계약법, 지방계약법 등으로 구분됨.\n",
    "    \n",
    "    \n",
    "- <p style=\"font-size:15px\"><b>조항호코드</b></p> \n",
    "- <p style=\"font-size:15px\"><b>정보화사업여부</b></p>    \n",
    "- <p style=\"font-size:15px\"><b>기술평가대행여부</b></p>    \n",
    "- <p style=\"font-size:15px\"><b>SW분리발주대상구분</b></p>    \n",
    "- <p style=\"font-size:15px\"><b>SW분리발주적용구분</b></p>   \n",
    "\n",
    "\n",
    "- <p style=\"font-size:15px\"><b>참조번호</b></p>    \n",
    "    - 사용자(조달업체, 수요기관 등) 이 제출한 (전자)문서의 번호\n",
    "    \n",
    "    \n",
    "\n",
    "- <p style=\"font-size:15px\"><b>이전입찰공고번호</b></p>    \n",
    "- <p style=\"font-size:15px\"><b>조달요청번호</b></p>    \n",
    "\n",
    "\n",
    "- <p style=\"font-size:15px\"><b>발주계획통합번호</b></p>    \n",
    "        국가계약법, 지방계약법, 공기업.준정부기관 계약사무규칙, 계약예규, 지방자치단체 입찰 시 낙찰자 결정기준에 의거 발주계획을 등록시점에\n",
    "    생성되는 번호<br>\n",
    "    * 생성규칙 : 업무구분(1)-업무유형(1)-발주년도(4)-발주기관코드(7)-발주계획순번(6)<br>\n",
    "     ** 업무구분 참고내용<br>\n",
    "         - 1 : 물품/일반용역, 3 : 공사, 5 : 용역<br>\n",
    "      ex) 1-1-2017-1230000-000001 : 해당 기관(1230000)에서 2017년도에 물품(1)으로 발주계획 한 건 중 첫번째로 등록한 건<br>\n",
    "\n",
    "    ※ 자체전자조달시스템(한국지역난방공사, 한국생산기술연구원 등)의 경우 각 기관별 형식 별도 사용\n",
    "    \n",
    "    \n",
    "- <p style=\"font-size:15px\"><b>규격검토일자</b></p>   \n",
    "- <p style=\"font-size:15px\"><b>실적심사신청서</b></p>    \n",
    "- <p style=\"font-size:15px\"><b>실적심사신청서신청기한</b></p>    "
   ]
  },
  {
   "cell_type": "code",
   "execution_count": 11,
   "metadata": {},
   "outputs": [],
   "source": [
    "df = pd.read_csv('용역_입찰공고_내역_2020.csv',encoding ='utf-8',error_bad_lines= False)\n",
    "df = pd.concat([df,pd.read_csv('용역_입찰공고_내역_2019.csv',encoding ='utf-8',error_bad_lines= False)])\n",
    "df = pd.concat([df,pd.read_csv('용역_입찰공고_내역_2018.csv',encoding ='utf-8',error_bad_lines= False)])\n",
    "df_용역_입찰공고_내역 = pd.concat([df,pd.read_csv('용역_입찰공고_내역_2017.csv',encoding ='utf-8',error_bad_lines= False)])   \n"
   ]
  },
  {
   "cell_type": "code",
   "execution_count": 12,
   "metadata": {},
   "outputs": [
    {
     "data": {
      "text/html": [
       "<div>\n",
       "<style scoped>\n",
       "    .dataframe tbody tr th:only-of-type {\n",
       "        vertical-align: middle;\n",
       "    }\n",
       "\n",
       "    .dataframe tbody tr th {\n",
       "        vertical-align: top;\n",
       "    }\n",
       "\n",
       "    .dataframe thead th {\n",
       "        text-align: right;\n",
       "    }\n",
       "</style>\n",
       "<table border=\"1\" class=\"dataframe\">\n",
       "  <thead>\n",
       "    <tr style=\"text-align: right;\">\n",
       "      <th></th>\n",
       "      <th>등록유형</th>\n",
       "      <th>용역구분</th>\n",
       "      <th>조달구분</th>\n",
       "      <th>공고시스템명</th>\n",
       "      <th>입찰공고번호</th>\n",
       "      <th>입찰공고차수</th>\n",
       "      <th>공고게시일자</th>\n",
       "      <th>공고명</th>\n",
       "      <th>공고기관명</th>\n",
       "      <th>실수요기관명</th>\n",
       "      <th>...</th>\n",
       "      <th>SW분리발주대상구분</th>\n",
       "      <th>SW분리발주적용구분</th>\n",
       "      <th>참조번호</th>\n",
       "      <th>이전입찰공고번호</th>\n",
       "      <th>사전규격등록번호</th>\n",
       "      <th>조달요청번호</th>\n",
       "      <th>발주계획통합번호</th>\n",
       "      <th>규격검토일자</th>\n",
       "      <th>실적심사신청서</th>\n",
       "      <th>실적심사신청서신청기한</th>\n",
       "    </tr>\n",
       "  </thead>\n",
       "  <tbody>\n",
       "    <tr>\n",
       "      <th>0</th>\n",
       "      <td>나라장터(G2B)</td>\n",
       "      <td>기술용역</td>\n",
       "      <td>자체조달</td>\n",
       "      <td>NaN</td>\n",
       "      <td>20200357523</td>\n",
       "      <td>0</td>\n",
       "      <td>20200331</td>\n",
       "      <td>칠보면 소재지 도로정비사업 실시설계용역(긴급)</td>\n",
       "      <td>전라북도 정읍시</td>\n",
       "      <td>전라북도 정읍시</td>\n",
       "      <td>...</td>\n",
       "      <td>NaN</td>\n",
       "      <td>NaN</td>\n",
       "      <td>정읍시 공고 제2020-527호</td>\n",
       "      <td>NaN</td>\n",
       "      <td>NaN</td>\n",
       "      <td>NaN</td>\n",
       "      <td>5-1-2020-4690000-000046</td>\n",
       "      <td>NaN</td>\n",
       "      <td>없음</td>\n",
       "      <td>NaN</td>\n",
       "    </tr>\n",
       "    <tr>\n",
       "      <th>1</th>\n",
       "      <td>나라장터(G2B)</td>\n",
       "      <td>일반용역</td>\n",
       "      <td>자체조달</td>\n",
       "      <td>NaN</td>\n",
       "      <td>20200357509</td>\n",
       "      <td>0</td>\n",
       "      <td>20200331</td>\n",
       "      <td>제2차 울산광역시 북구 기후변화 적응대책 세부시행계획 수립 용역</td>\n",
       "      <td>울산광역시 북구</td>\n",
       "      <td>울산광역시 북구</td>\n",
       "      <td>...</td>\n",
       "      <td>NaN</td>\n",
       "      <td>NaN</td>\n",
       "      <td>울산광역시 북구  공고 제2020-425호</td>\n",
       "      <td>NaN</td>\n",
       "      <td>NaN</td>\n",
       "      <td>NaN</td>\n",
       "      <td>5-1-2020-3720000-000035</td>\n",
       "      <td>NaN</td>\n",
       "      <td>NaN</td>\n",
       "      <td>NaN</td>\n",
       "    </tr>\n",
       "    <tr>\n",
       "      <th>2</th>\n",
       "      <td>나라장터(G2B)</td>\n",
       "      <td>일반용역</td>\n",
       "      <td>자체조달</td>\n",
       "      <td>NaN</td>\n",
       "      <td>20200357474</td>\n",
       "      <td>0</td>\n",
       "      <td>20200331</td>\n",
       "      <td>2020년 찾아가는 에너지 놀이터 해로 프로그램 운영 용역</td>\n",
       "      <td>서울특별시</td>\n",
       "      <td>서울특별시</td>\n",
       "      <td>...</td>\n",
       "      <td>NaN</td>\n",
       "      <td>NaN</td>\n",
       "      <td>서울특별시 재무공고 제2020-1148호</td>\n",
       "      <td>NaN</td>\n",
       "      <td>NaN</td>\n",
       "      <td>NaN</td>\n",
       "      <td>5-1-2020-6110000-000925</td>\n",
       "      <td>NaN</td>\n",
       "      <td>수기</td>\n",
       "      <td>2020-04-07 18:00:00.0</td>\n",
       "    </tr>\n",
       "    <tr>\n",
       "      <th>3</th>\n",
       "      <td>나라장터(G2B)</td>\n",
       "      <td>기술용역</td>\n",
       "      <td>자체조달</td>\n",
       "      <td>NaN</td>\n",
       "      <td>20200357232</td>\n",
       "      <td>1</td>\n",
       "      <td>20200331</td>\n",
       "      <td>청풍초중 외 1교(제천덕산초중) 내진성능평가용역</td>\n",
       "      <td>충청북도교육청 충청북도제천교육지원청</td>\n",
       "      <td>충청북도교육청 충청북도제천교육지원청</td>\n",
       "      <td>...</td>\n",
       "      <td>NaN</td>\n",
       "      <td>NaN</td>\n",
       "      <td>내진-청풍</td>\n",
       "      <td>NaN</td>\n",
       "      <td>851650.0</td>\n",
       "      <td>NaN</td>\n",
       "      <td>5-1-2020-8031000-000023</td>\n",
       "      <td>NaN</td>\n",
       "      <td>없음</td>\n",
       "      <td>NaN</td>\n",
       "    </tr>\n",
       "    <tr>\n",
       "      <th>4</th>\n",
       "      <td>나라장터(G2B)</td>\n",
       "      <td>기술용역</td>\n",
       "      <td>자체조달</td>\n",
       "      <td>NaN</td>\n",
       "      <td>20200357443</td>\n",
       "      <td>0</td>\n",
       "      <td>20200331</td>\n",
       "      <td>[긴급]제천여중 본관 외 2동(제천여중 별관, 입석초 교사동) 내진성능평가용역</td>\n",
       "      <td>충청북도교육청 충청북도제천교육지원청</td>\n",
       "      <td>충청북도교육청 충청북도제천교육지원청</td>\n",
       "      <td>...</td>\n",
       "      <td>NaN</td>\n",
       "      <td>NaN</td>\n",
       "      <td>내진-여중</td>\n",
       "      <td>NaN</td>\n",
       "      <td>NaN</td>\n",
       "      <td>NaN</td>\n",
       "      <td>5-1-2020-8031000-000048</td>\n",
       "      <td>NaN</td>\n",
       "      <td>없음</td>\n",
       "      <td>NaN</td>\n",
       "    </tr>\n",
       "  </tbody>\n",
       "</table>\n",
       "<p>5 rows × 57 columns</p>\n",
       "</div>"
      ],
      "text/plain": [
       "        등록유형  용역구분  조달구분 공고시스템명       입찰공고번호  입찰공고차수    공고게시일자  \\\n",
       "0  나라장터(G2B)  기술용역  자체조달    NaN  20200357523       0  20200331   \n",
       "1  나라장터(G2B)  일반용역  자체조달    NaN  20200357509       0  20200331   \n",
       "2  나라장터(G2B)  일반용역  자체조달    NaN  20200357474       0  20200331   \n",
       "3  나라장터(G2B)  기술용역  자체조달    NaN  20200357232       1  20200331   \n",
       "4  나라장터(G2B)  기술용역  자체조달    NaN  20200357443       0  20200331   \n",
       "\n",
       "                                           공고명                공고기관명  \\\n",
       "0                    칠보면 소재지 도로정비사업 실시설계용역(긴급)             전라북도 정읍시   \n",
       "1          제2차 울산광역시 북구 기후변화 적응대책 세부시행계획 수립 용역             울산광역시 북구   \n",
       "2             2020년 찾아가는 에너지 놀이터 해로 프로그램 운영 용역                서울특별시   \n",
       "3                   청풍초중 외 1교(제천덕산초중) 내진성능평가용역  충청북도교육청 충청북도제천교육지원청   \n",
       "4  [긴급]제천여중 본관 외 2동(제천여중 별관, 입석초 교사동) 내진성능평가용역  충청북도교육청 충청북도제천교육지원청   \n",
       "\n",
       "                실수요기관명  ... SW분리발주대상구분 SW분리발주적용구분                     참조번호  \\\n",
       "0             전라북도 정읍시  ...        NaN        NaN        정읍시 공고 제2020-527호   \n",
       "1             울산광역시 북구  ...        NaN        NaN  울산광역시 북구  공고 제2020-425호   \n",
       "2                서울특별시  ...        NaN        NaN   서울특별시 재무공고 제2020-1148호   \n",
       "3  충청북도교육청 충청북도제천교육지원청  ...        NaN        NaN                    내진-청풍   \n",
       "4  충청북도교육청 충청북도제천교육지원청  ...        NaN        NaN                    내진-여중   \n",
       "\n",
       "  이전입찰공고번호  사전규격등록번호 조달요청번호                 발주계획통합번호  규격검토일자 실적심사신청서  \\\n",
       "0      NaN       NaN    NaN  5-1-2020-4690000-000046     NaN      없음   \n",
       "1      NaN       NaN    NaN  5-1-2020-3720000-000035     NaN     NaN   \n",
       "2      NaN       NaN    NaN  5-1-2020-6110000-000925     NaN      수기   \n",
       "3      NaN  851650.0    NaN  5-1-2020-8031000-000023     NaN      없음   \n",
       "4      NaN       NaN    NaN  5-1-2020-8031000-000048     NaN      없음   \n",
       "\n",
       "             실적심사신청서신청기한  \n",
       "0                    NaN  \n",
       "1                    NaN  \n",
       "2  2020-04-07 18:00:00.0  \n",
       "3                    NaN  \n",
       "4                    NaN  \n",
       "\n",
       "[5 rows x 57 columns]"
      ]
     },
     "execution_count": 12,
     "metadata": {},
     "output_type": "execute_result"
    }
   ],
   "source": [
    "df_용역_입찰공고_내역.head()"
   ]
  },
  {
   "cell_type": "code",
   "execution_count": 13,
   "metadata": {},
   "outputs": [
    {
     "data": {
      "text/plain": [
       "(627977, 57)"
      ]
     },
     "execution_count": 13,
     "metadata": {},
     "output_type": "execute_result"
    }
   ],
   "source": [
    "df_용역_입찰공고_내역.shape"
   ]
  },
  {
   "cell_type": "code",
   "execution_count": 14,
   "metadata": {},
   "outputs": [
    {
     "data": {
      "text/plain": [
       "Index(['등록유형', '용역구분', '조달구분', '공고시스템명', '입찰공고번호', '입찰공고차수', '공고게시일자', '공고명',\n",
       "       '공고기관명', '실수요기관명', '수요기관명', '수요기관코드', '수요기관구분', '수요기관지역명', '품명내용',\n",
       "       '세부품명내용', '합계수량', '합계금액', '납품기한', '긴급공고여부', '정정공고여부', '취소공고여부', '추정가격',\n",
       "       '배정예산', '입찰참가자격등록마감일자', '입찰서개시일자', '입찰서마감일자', '개찰일자', '입찰방식', '재입찰허용여부',\n",
       "       '입찰계약방법', '낙찰자결정방법', '낙찰하한율', '예가방법', '업종제한여부', '업종제한내용', '지역제한내용',\n",
       "       '공동도급구성방식명', '공동도급협정서접수방식', '공동도급협정서접수마감일자', '국제입찰여부', '국제입찰사유',\n",
       "       '낙찰자결정적용법규', '조항호코드', '조항호명', '정보화사업여부', '기술평가대행여부', 'SW분리발주대상구분',\n",
       "       'SW분리발주적용구분', '참조번호', '이전입찰공고번호', '사전규격등록번호', '조달요청번호', '발주계획통합번호',\n",
       "       '규격검토일자', '실적심사신청서', '실적심사신청서신청기한'],\n",
       "      dtype='object')"
      ]
     },
     "execution_count": 14,
     "metadata": {},
     "output_type": "execute_result"
    }
   ],
   "source": [
    "df_용역_입찰공고_내역.columns"
   ]
  },
  {
   "cell_type": "code",
   "execution_count": 16,
   "metadata": {},
   "outputs": [],
   "source": [
    "df_용역_입찰공고_내역_2 = df_용역_입찰공고_내역[['등록유형','공고게시일자'\n",
    ",'조달구분',\n",
    "'입찰공고차수',\n",
    "'수요기관명',\n",
    "'수요기관코드',\n",
    "'긴급공고여부',\n",
    "'정정공고여부',\n",
    "'취소공고여부',\n",
    "'추정가격',                                 \n",
    "'배정예산',\n",
    "'입찰방식',\n",
    "'재입찰허용여부',\n",
    "'낙찰자결정방법',\n",
    "'입찰계약방법',\n",
    "'예가방법',                                 \n",
    "'업종제한내용',\n",
    "'지역제한내용',\n",
    " ]].copy()"
   ]
  },
  {
   "cell_type": "code",
   "execution_count": 18,
   "metadata": {
    "scrolled": true
   },
   "outputs": [
    {
     "data": {
      "text/html": [
       "<div>\n",
       "<style scoped>\n",
       "    .dataframe tbody tr th:only-of-type {\n",
       "        vertical-align: middle;\n",
       "    }\n",
       "\n",
       "    .dataframe tbody tr th {\n",
       "        vertical-align: top;\n",
       "    }\n",
       "\n",
       "    .dataframe thead th {\n",
       "        text-align: right;\n",
       "    }\n",
       "</style>\n",
       "<table border=\"1\" class=\"dataframe\">\n",
       "  <thead>\n",
       "    <tr style=\"text-align: right;\">\n",
       "      <th></th>\n",
       "      <th>등록유형</th>\n",
       "      <th>공고게시일자</th>\n",
       "      <th>조달구분</th>\n",
       "      <th>입찰공고차수</th>\n",
       "      <th>수요기관명</th>\n",
       "      <th>수요기관코드</th>\n",
       "      <th>긴급공고여부</th>\n",
       "      <th>정정공고여부</th>\n",
       "      <th>취소공고여부</th>\n",
       "      <th>추정가격</th>\n",
       "      <th>배정예산</th>\n",
       "      <th>입찰방식</th>\n",
       "      <th>재입찰허용여부</th>\n",
       "      <th>낙찰자결정방법</th>\n",
       "      <th>입찰계약방법</th>\n",
       "      <th>예가방법</th>\n",
       "      <th>업종제한내용</th>\n",
       "      <th>지역제한내용</th>\n",
       "    </tr>\n",
       "  </thead>\n",
       "  <tbody>\n",
       "    <tr>\n",
       "      <th>0</th>\n",
       "      <td>나라장터(G2B)</td>\n",
       "      <td>20200331</td>\n",
       "      <td>자체조달</td>\n",
       "      <td>0</td>\n",
       "      <td>전라북도 정읍시</td>\n",
       "      <td>4690000</td>\n",
       "      <td>Y</td>\n",
       "      <td>N</td>\n",
       "      <td>N</td>\n",
       "      <td>87100000.0</td>\n",
       "      <td>95810000.0</td>\n",
       "      <td>전자입찰</td>\n",
       "      <td>Y</td>\n",
       "      <td>추정가격 1억미만(PQ비대상)</td>\n",
       "      <td>제한경쟁</td>\n",
       "      <td>복수예가</td>\n",
       "      <td>NaN</td>\n",
       "      <td>전라북도[45000]</td>\n",
       "    </tr>\n",
       "    <tr>\n",
       "      <th>1</th>\n",
       "      <td>나라장터(G2B)</td>\n",
       "      <td>20200331</td>\n",
       "      <td>자체조달</td>\n",
       "      <td>0</td>\n",
       "      <td>울산광역시 북구</td>\n",
       "      <td>3720000</td>\n",
       "      <td>N</td>\n",
       "      <td>N</td>\n",
       "      <td>N</td>\n",
       "      <td>42171818.0</td>\n",
       "      <td>46389000.0</td>\n",
       "      <td>전자입찰</td>\n",
       "      <td>Y</td>\n",
       "      <td>제한최저</td>\n",
       "      <td>수의(총액)소액수의</td>\n",
       "      <td>복수예가</td>\n",
       "      <td>[학술.연구용역(1169)]</td>\n",
       "      <td>부산광역시[26000], 울산광역시[31000], 경상남도[48000]</td>\n",
       "    </tr>\n",
       "    <tr>\n",
       "      <th>2</th>\n",
       "      <td>나라장터(G2B)</td>\n",
       "      <td>20200331</td>\n",
       "      <td>자체조달</td>\n",
       "      <td>0</td>\n",
       "      <td>서울특별시</td>\n",
       "      <td>6110000</td>\n",
       "      <td>N</td>\n",
       "      <td>N</td>\n",
       "      <td>N</td>\n",
       "      <td>50000000.0</td>\n",
       "      <td>55000000.0</td>\n",
       "      <td>전자입찰</td>\n",
       "      <td>N</td>\n",
       "      <td>제한최저</td>\n",
       "      <td>수의(총액)소액수의</td>\n",
       "      <td>복수예가</td>\n",
       "      <td>NaN</td>\n",
       "      <td>서울특별시[11000]</td>\n",
       "    </tr>\n",
       "    <tr>\n",
       "      <th>3</th>\n",
       "      <td>나라장터(G2B)</td>\n",
       "      <td>20200331</td>\n",
       "      <td>자체조달</td>\n",
       "      <td>1</td>\n",
       "      <td>충청북도교육청 충청북도제천교육지원청</td>\n",
       "      <td>8031000</td>\n",
       "      <td>Y</td>\n",
       "      <td>N</td>\n",
       "      <td>Y</td>\n",
       "      <td>62630000.0</td>\n",
       "      <td>68893000.0</td>\n",
       "      <td>전자입찰</td>\n",
       "      <td>Y</td>\n",
       "      <td>추정가격 1억미만(PQ비대상)</td>\n",
       "      <td>제한경쟁</td>\n",
       "      <td>복수예가</td>\n",
       "      <td>[안전진단전문기관(건축)(1397)]업종 또는[안전진단전문기관(종합)(4963)]</td>\n",
       "      <td>충청북도[43000]</td>\n",
       "    </tr>\n",
       "    <tr>\n",
       "      <th>4</th>\n",
       "      <td>나라장터(G2B)</td>\n",
       "      <td>20200331</td>\n",
       "      <td>자체조달</td>\n",
       "      <td>0</td>\n",
       "      <td>충청북도교육청 충청북도제천교육지원청</td>\n",
       "      <td>8031000</td>\n",
       "      <td>Y</td>\n",
       "      <td>N</td>\n",
       "      <td>N</td>\n",
       "      <td>70980000.0</td>\n",
       "      <td>78078000.0</td>\n",
       "      <td>전자입찰</td>\n",
       "      <td>Y</td>\n",
       "      <td>추정가격 1억미만(PQ비대상)</td>\n",
       "      <td>제한경쟁</td>\n",
       "      <td>복수예가</td>\n",
       "      <td>[안전진단전문기관(건축)(1397)]업종 또는[안전진단전문기관(종합)(4963)]</td>\n",
       "      <td>충청북도[43000]</td>\n",
       "    </tr>\n",
       "  </tbody>\n",
       "</table>\n",
       "</div>"
      ],
      "text/plain": [
       "        등록유형    공고게시일자  조달구분  입찰공고차수                수요기관명   수요기관코드 긴급공고여부  \\\n",
       "0  나라장터(G2B)  20200331  자체조달       0             전라북도 정읍시  4690000      Y   \n",
       "1  나라장터(G2B)  20200331  자체조달       0             울산광역시 북구  3720000      N   \n",
       "2  나라장터(G2B)  20200331  자체조달       0                서울특별시  6110000      N   \n",
       "3  나라장터(G2B)  20200331  자체조달       1  충청북도교육청 충청북도제천교육지원청  8031000      Y   \n",
       "4  나라장터(G2B)  20200331  자체조달       0  충청북도교육청 충청북도제천교육지원청  8031000      Y   \n",
       "\n",
       "  정정공고여부 취소공고여부        추정가격        배정예산  입찰방식 재입찰허용여부           낙찰자결정방법  \\\n",
       "0      N      N  87100000.0  95810000.0  전자입찰       Y  추정가격 1억미만(PQ비대상)   \n",
       "1      N      N  42171818.0  46389000.0  전자입찰       Y              제한최저   \n",
       "2      N      N  50000000.0  55000000.0  전자입찰       N              제한최저   \n",
       "3      N      Y  62630000.0  68893000.0  전자입찰       Y  추정가격 1억미만(PQ비대상)   \n",
       "4      N      N  70980000.0  78078000.0  전자입찰       Y  추정가격 1억미만(PQ비대상)   \n",
       "\n",
       "       입찰계약방법  예가방법                                         업종제한내용  \\\n",
       "0        제한경쟁  복수예가                                            NaN   \n",
       "1  수의(총액)소액수의  복수예가                                [학술.연구용역(1169)]   \n",
       "2  수의(총액)소액수의  복수예가                                            NaN   \n",
       "3        제한경쟁  복수예가  [안전진단전문기관(건축)(1397)]업종 또는[안전진단전문기관(종합)(4963)]   \n",
       "4        제한경쟁  복수예가  [안전진단전문기관(건축)(1397)]업종 또는[안전진단전문기관(종합)(4963)]   \n",
       "\n",
       "                                    지역제한내용  \n",
       "0                              전라북도[45000]  \n",
       "1  부산광역시[26000], 울산광역시[31000], 경상남도[48000]  \n",
       "2                             서울특별시[11000]  \n",
       "3                              충청북도[43000]  \n",
       "4                              충청북도[43000]  "
      ]
     },
     "execution_count": 18,
     "metadata": {},
     "output_type": "execute_result"
    }
   ],
   "source": [
    "df_용역_입찰공고_내역_2.head()"
   ]
  },
  {
   "cell_type": "code",
   "execution_count": 19,
   "metadata": {},
   "outputs": [],
   "source": [
    "def make_time_series_3(row):\n",
    "\n",
    "    i = str(row['공고게시일자'])\n",
    "    year = i[0:4]\n",
    "    month = i[4:6]\n",
    "    date =  i[6:8]\n",
    "\n",
    "    row['공고게시일자'] = pd.to_datetime(year+month+date,format='%Y%m%d')\n",
    "\n",
    "    return row"
   ]
  },
  {
   "cell_type": "code",
   "execution_count": 20,
   "metadata": {},
   "outputs": [],
   "source": [
    "df_용역_입찰공고_내역_2 = df_용역_입찰공고_내역_2.apply(make_time_series_3,axis=1)"
   ]
  },
  {
   "cell_type": "code",
   "execution_count": 21,
   "metadata": {},
   "outputs": [
    {
     "data": {
      "text/html": [
       "<div>\n",
       "<style scoped>\n",
       "    .dataframe tbody tr th:only-of-type {\n",
       "        vertical-align: middle;\n",
       "    }\n",
       "\n",
       "    .dataframe tbody tr th {\n",
       "        vertical-align: top;\n",
       "    }\n",
       "\n",
       "    .dataframe thead th {\n",
       "        text-align: right;\n",
       "    }\n",
       "</style>\n",
       "<table border=\"1\" class=\"dataframe\">\n",
       "  <thead>\n",
       "    <tr style=\"text-align: right;\">\n",
       "      <th></th>\n",
       "      <th>등록유형</th>\n",
       "      <th>공고게시일자</th>\n",
       "      <th>조달구분</th>\n",
       "      <th>입찰공고차수</th>\n",
       "      <th>수요기관명</th>\n",
       "      <th>수요기관코드</th>\n",
       "      <th>긴급공고여부</th>\n",
       "      <th>정정공고여부</th>\n",
       "      <th>취소공고여부</th>\n",
       "      <th>추정가격</th>\n",
       "      <th>배정예산</th>\n",
       "      <th>입찰방식</th>\n",
       "      <th>재입찰허용여부</th>\n",
       "      <th>낙찰자결정방법</th>\n",
       "      <th>입찰계약방법</th>\n",
       "      <th>예가방법</th>\n",
       "      <th>업종제한내용</th>\n",
       "      <th>지역제한내용</th>\n",
       "    </tr>\n",
       "  </thead>\n",
       "  <tbody>\n",
       "    <tr>\n",
       "      <th>0</th>\n",
       "      <td>0</td>\n",
       "      <td>0</td>\n",
       "      <td>0</td>\n",
       "      <td>0</td>\n",
       "      <td>0</td>\n",
       "      <td>0</td>\n",
       "      <td>47882</td>\n",
       "      <td>15</td>\n",
       "      <td>0</td>\n",
       "      <td>17045</td>\n",
       "      <td>15404</td>\n",
       "      <td>0</td>\n",
       "      <td>36</td>\n",
       "      <td>12937</td>\n",
       "      <td>47</td>\n",
       "      <td>14817</td>\n",
       "      <td>222119</td>\n",
       "      <td>299756</td>\n",
       "    </tr>\n",
       "  </tbody>\n",
       "</table>\n",
       "</div>"
      ],
      "text/plain": [
       "   등록유형  공고게시일자  조달구분  입찰공고차수  수요기관명  수요기관코드  긴급공고여부  정정공고여부  취소공고여부   추정가격  \\\n",
       "0     0       0     0       0      0       0   47882      15       0  17045   \n",
       "\n",
       "    배정예산  입찰방식  재입찰허용여부  낙찰자결정방법  입찰계약방법   예가방법  업종제한내용  지역제한내용  \n",
       "0  15404     0       36    12937      47  14817  222119  299756  "
      ]
     },
     "execution_count": 21,
     "metadata": {},
     "output_type": "execute_result"
    }
   ],
   "source": [
    "pd.DataFrame(df_용역_입찰공고_내역_2.isnull().sum()).T"
   ]
  },
  {
   "cell_type": "code",
   "execution_count": 22,
   "metadata": {},
   "outputs": [
    {
     "data": {
      "text/html": [
       "<div>\n",
       "<style scoped>\n",
       "    .dataframe tbody tr th:only-of-type {\n",
       "        vertical-align: middle;\n",
       "    }\n",
       "\n",
       "    .dataframe tbody tr th {\n",
       "        vertical-align: top;\n",
       "    }\n",
       "\n",
       "    .dataframe thead th {\n",
       "        text-align: right;\n",
       "    }\n",
       "</style>\n",
       "<table border=\"1\" class=\"dataframe\">\n",
       "  <thead>\n",
       "    <tr style=\"text-align: right;\">\n",
       "      <th></th>\n",
       "      <th>등록유형</th>\n",
       "      <th>공고게시일자</th>\n",
       "      <th>조달구분</th>\n",
       "      <th>입찰공고차수</th>\n",
       "      <th>수요기관명</th>\n",
       "      <th>수요기관코드</th>\n",
       "      <th>긴급공고여부</th>\n",
       "      <th>정정공고여부</th>\n",
       "      <th>취소공고여부</th>\n",
       "      <th>추정가격</th>\n",
       "      <th>배정예산</th>\n",
       "      <th>입찰방식</th>\n",
       "      <th>재입찰허용여부</th>\n",
       "      <th>낙찰자결정방법</th>\n",
       "      <th>입찰계약방법</th>\n",
       "      <th>예가방법</th>\n",
       "      <th>업종제한내용</th>\n",
       "      <th>지역제한내용</th>\n",
       "    </tr>\n",
       "  </thead>\n",
       "  <tbody>\n",
       "    <tr>\n",
       "      <th>0</th>\n",
       "      <td>나라장터(G2B)</td>\n",
       "      <td>2020-03-31</td>\n",
       "      <td>자체조달</td>\n",
       "      <td>0</td>\n",
       "      <td>전라북도 정읍시</td>\n",
       "      <td>4690000</td>\n",
       "      <td>Y</td>\n",
       "      <td>N</td>\n",
       "      <td>N</td>\n",
       "      <td>87100000.0</td>\n",
       "      <td>95810000.0</td>\n",
       "      <td>전자입찰</td>\n",
       "      <td>Y</td>\n",
       "      <td>추정가격 1억미만(PQ비대상)</td>\n",
       "      <td>제한경쟁</td>\n",
       "      <td>복수예가</td>\n",
       "      <td>NaN</td>\n",
       "      <td>전라북도[45000]</td>\n",
       "    </tr>\n",
       "    <tr>\n",
       "      <th>1</th>\n",
       "      <td>나라장터(G2B)</td>\n",
       "      <td>2020-03-31</td>\n",
       "      <td>자체조달</td>\n",
       "      <td>0</td>\n",
       "      <td>울산광역시 북구</td>\n",
       "      <td>3720000</td>\n",
       "      <td>N</td>\n",
       "      <td>N</td>\n",
       "      <td>N</td>\n",
       "      <td>42171818.0</td>\n",
       "      <td>46389000.0</td>\n",
       "      <td>전자입찰</td>\n",
       "      <td>Y</td>\n",
       "      <td>제한최저</td>\n",
       "      <td>수의(총액)소액수의</td>\n",
       "      <td>복수예가</td>\n",
       "      <td>[학술.연구용역(1169)]</td>\n",
       "      <td>부산광역시[26000], 울산광역시[31000], 경상남도[48000]</td>\n",
       "    </tr>\n",
       "    <tr>\n",
       "      <th>2</th>\n",
       "      <td>나라장터(G2B)</td>\n",
       "      <td>2020-03-31</td>\n",
       "      <td>자체조달</td>\n",
       "      <td>0</td>\n",
       "      <td>서울특별시</td>\n",
       "      <td>6110000</td>\n",
       "      <td>N</td>\n",
       "      <td>N</td>\n",
       "      <td>N</td>\n",
       "      <td>50000000.0</td>\n",
       "      <td>55000000.0</td>\n",
       "      <td>전자입찰</td>\n",
       "      <td>N</td>\n",
       "      <td>제한최저</td>\n",
       "      <td>수의(총액)소액수의</td>\n",
       "      <td>복수예가</td>\n",
       "      <td>NaN</td>\n",
       "      <td>서울특별시[11000]</td>\n",
       "    </tr>\n",
       "    <tr>\n",
       "      <th>3</th>\n",
       "      <td>나라장터(G2B)</td>\n",
       "      <td>2020-03-31</td>\n",
       "      <td>자체조달</td>\n",
       "      <td>1</td>\n",
       "      <td>충청북도교육청 충청북도제천교육지원청</td>\n",
       "      <td>8031000</td>\n",
       "      <td>Y</td>\n",
       "      <td>N</td>\n",
       "      <td>Y</td>\n",
       "      <td>62630000.0</td>\n",
       "      <td>68893000.0</td>\n",
       "      <td>전자입찰</td>\n",
       "      <td>Y</td>\n",
       "      <td>추정가격 1억미만(PQ비대상)</td>\n",
       "      <td>제한경쟁</td>\n",
       "      <td>복수예가</td>\n",
       "      <td>[안전진단전문기관(건축)(1397)]업종 또는[안전진단전문기관(종합)(4963)]</td>\n",
       "      <td>충청북도[43000]</td>\n",
       "    </tr>\n",
       "    <tr>\n",
       "      <th>4</th>\n",
       "      <td>나라장터(G2B)</td>\n",
       "      <td>2020-03-31</td>\n",
       "      <td>자체조달</td>\n",
       "      <td>0</td>\n",
       "      <td>충청북도교육청 충청북도제천교육지원청</td>\n",
       "      <td>8031000</td>\n",
       "      <td>Y</td>\n",
       "      <td>N</td>\n",
       "      <td>N</td>\n",
       "      <td>70980000.0</td>\n",
       "      <td>78078000.0</td>\n",
       "      <td>전자입찰</td>\n",
       "      <td>Y</td>\n",
       "      <td>추정가격 1억미만(PQ비대상)</td>\n",
       "      <td>제한경쟁</td>\n",
       "      <td>복수예가</td>\n",
       "      <td>[안전진단전문기관(건축)(1397)]업종 또는[안전진단전문기관(종합)(4963)]</td>\n",
       "      <td>충청북도[43000]</td>\n",
       "    </tr>\n",
       "  </tbody>\n",
       "</table>\n",
       "</div>"
      ],
      "text/plain": [
       "        등록유형     공고게시일자  조달구분  입찰공고차수                수요기관명   수요기관코드 긴급공고여부  \\\n",
       "0  나라장터(G2B) 2020-03-31  자체조달       0             전라북도 정읍시  4690000      Y   \n",
       "1  나라장터(G2B) 2020-03-31  자체조달       0             울산광역시 북구  3720000      N   \n",
       "2  나라장터(G2B) 2020-03-31  자체조달       0                서울특별시  6110000      N   \n",
       "3  나라장터(G2B) 2020-03-31  자체조달       1  충청북도교육청 충청북도제천교육지원청  8031000      Y   \n",
       "4  나라장터(G2B) 2020-03-31  자체조달       0  충청북도교육청 충청북도제천교육지원청  8031000      Y   \n",
       "\n",
       "  정정공고여부 취소공고여부        추정가격        배정예산  입찰방식 재입찰허용여부           낙찰자결정방법  \\\n",
       "0      N      N  87100000.0  95810000.0  전자입찰       Y  추정가격 1억미만(PQ비대상)   \n",
       "1      N      N  42171818.0  46389000.0  전자입찰       Y              제한최저   \n",
       "2      N      N  50000000.0  55000000.0  전자입찰       N              제한최저   \n",
       "3      N      Y  62630000.0  68893000.0  전자입찰       Y  추정가격 1억미만(PQ비대상)   \n",
       "4      N      N  70980000.0  78078000.0  전자입찰       Y  추정가격 1억미만(PQ비대상)   \n",
       "\n",
       "       입찰계약방법  예가방법                                         업종제한내용  \\\n",
       "0        제한경쟁  복수예가                                            NaN   \n",
       "1  수의(총액)소액수의  복수예가                                [학술.연구용역(1169)]   \n",
       "2  수의(총액)소액수의  복수예가                                            NaN   \n",
       "3        제한경쟁  복수예가  [안전진단전문기관(건축)(1397)]업종 또는[안전진단전문기관(종합)(4963)]   \n",
       "4        제한경쟁  복수예가  [안전진단전문기관(건축)(1397)]업종 또는[안전진단전문기관(종합)(4963)]   \n",
       "\n",
       "                                    지역제한내용  \n",
       "0                              전라북도[45000]  \n",
       "1  부산광역시[26000], 울산광역시[31000], 경상남도[48000]  \n",
       "2                             서울특별시[11000]  \n",
       "3                              충청북도[43000]  \n",
       "4                              충청북도[43000]  "
      ]
     },
     "execution_count": 22,
     "metadata": {},
     "output_type": "execute_result"
    }
   ],
   "source": [
    "df_용역_입찰공고_내역_2.head()"
   ]
  },
  {
   "cell_type": "code",
   "execution_count": 27,
   "metadata": {},
   "outputs": [],
   "source": [
    "df_용역_입찰공고_내역_2_mini = df_용역_입찰공고_내역_2.groupby(pd.Grouper(key = '공고게시일자', freq = '1W')).sum()[['입찰공고차수','배정예산']].copy()"
   ]
  },
  {
   "cell_type": "code",
   "execution_count": 28,
   "metadata": {},
   "outputs": [
    {
     "data": {
      "text/html": [
       "<div>\n",
       "<style scoped>\n",
       "    .dataframe tbody tr th:only-of-type {\n",
       "        vertical-align: middle;\n",
       "    }\n",
       "\n",
       "    .dataframe tbody tr th {\n",
       "        vertical-align: top;\n",
       "    }\n",
       "\n",
       "    .dataframe thead th {\n",
       "        text-align: right;\n",
       "    }\n",
       "</style>\n",
       "<table border=\"1\" class=\"dataframe\">\n",
       "  <thead>\n",
       "    <tr style=\"text-align: right;\">\n",
       "      <th></th>\n",
       "      <th>입찰공고차수</th>\n",
       "      <th>배정예산</th>\n",
       "    </tr>\n",
       "    <tr>\n",
       "      <th>공고게시일자</th>\n",
       "      <th></th>\n",
       "      <th></th>\n",
       "    </tr>\n",
       "  </thead>\n",
       "  <tbody>\n",
       "    <tr>\n",
       "      <th>2017-01-01</th>\n",
       "      <td>1</td>\n",
       "      <td>1.193722e+09</td>\n",
       "    </tr>\n",
       "    <tr>\n",
       "      <th>2017-01-08</th>\n",
       "      <td>456</td>\n",
       "      <td>7.477771e+11</td>\n",
       "    </tr>\n",
       "    <tr>\n",
       "      <th>2017-01-15</th>\n",
       "      <td>659</td>\n",
       "      <td>6.015613e+11</td>\n",
       "    </tr>\n",
       "    <tr>\n",
       "      <th>2017-01-22</th>\n",
       "      <td>704</td>\n",
       "      <td>6.124118e+11</td>\n",
       "    </tr>\n",
       "    <tr>\n",
       "      <th>2017-01-29</th>\n",
       "      <td>576</td>\n",
       "      <td>6.477951e+11</td>\n",
       "    </tr>\n",
       "    <tr>\n",
       "      <th>...</th>\n",
       "      <td>...</td>\n",
       "      <td>...</td>\n",
       "    </tr>\n",
       "    <tr>\n",
       "      <th>2020-12-06</th>\n",
       "      <td>669</td>\n",
       "      <td>1.665853e+12</td>\n",
       "    </tr>\n",
       "    <tr>\n",
       "      <th>2020-12-13</th>\n",
       "      <td>779</td>\n",
       "      <td>1.749512e+12</td>\n",
       "    </tr>\n",
       "    <tr>\n",
       "      <th>2020-12-20</th>\n",
       "      <td>779</td>\n",
       "      <td>1.604335e+12</td>\n",
       "    </tr>\n",
       "    <tr>\n",
       "      <th>2020-12-27</th>\n",
       "      <td>424</td>\n",
       "      <td>9.469837e+11</td>\n",
       "    </tr>\n",
       "    <tr>\n",
       "      <th>2021-01-03</th>\n",
       "      <td>303</td>\n",
       "      <td>6.780831e+11</td>\n",
       "    </tr>\n",
       "  </tbody>\n",
       "</table>\n",
       "<p>210 rows × 2 columns</p>\n",
       "</div>"
      ],
      "text/plain": [
       "            입찰공고차수          배정예산\n",
       "공고게시일자                          \n",
       "2017-01-01       1  1.193722e+09\n",
       "2017-01-08     456  7.477771e+11\n",
       "2017-01-15     659  6.015613e+11\n",
       "2017-01-22     704  6.124118e+11\n",
       "2017-01-29     576  6.477951e+11\n",
       "...            ...           ...\n",
       "2020-12-06     669  1.665853e+12\n",
       "2020-12-13     779  1.749512e+12\n",
       "2020-12-20     779  1.604335e+12\n",
       "2020-12-27     424  9.469837e+11\n",
       "2021-01-03     303  6.780831e+11\n",
       "\n",
       "[210 rows x 2 columns]"
      ]
     },
     "execution_count": 28,
     "metadata": {},
     "output_type": "execute_result"
    }
   ],
   "source": [
    "df_용역_입찰공고_내역_2_mini"
   ]
  },
  {
   "cell_type": "code",
   "execution_count": 41,
   "metadata": {},
   "outputs": [
    {
     "data": {
      "text/html": [
       "<div>\n",
       "<style scoped>\n",
       "    .dataframe tbody tr th:only-of-type {\n",
       "        vertical-align: middle;\n",
       "    }\n",
       "\n",
       "    .dataframe tbody tr th {\n",
       "        vertical-align: top;\n",
       "    }\n",
       "\n",
       "    .dataframe thead th {\n",
       "        text-align: right;\n",
       "    }\n",
       "</style>\n",
       "<table border=\"1\" class=\"dataframe\">\n",
       "  <thead>\n",
       "    <tr style=\"text-align: right;\">\n",
       "      <th></th>\n",
       "      <th>입찰공고차수</th>\n",
       "      <th>배정예산</th>\n",
       "    </tr>\n",
       "  </thead>\n",
       "  <tbody>\n",
       "    <tr>\n",
       "      <th>입찰공고차수</th>\n",
       "      <td>1.00000</td>\n",
       "      <td>0.18716</td>\n",
       "    </tr>\n",
       "    <tr>\n",
       "      <th>배정예산</th>\n",
       "      <td>0.18716</td>\n",
       "      <td>1.00000</td>\n",
       "    </tr>\n",
       "  </tbody>\n",
       "</table>\n",
       "</div>"
      ],
      "text/plain": [
       "         입찰공고차수     배정예산\n",
       "입찰공고차수  1.00000  0.18716\n",
       "배정예산    0.18716  1.00000"
      ]
     },
     "execution_count": 41,
     "metadata": {},
     "output_type": "execute_result"
    }
   ],
   "source": [
    "df_용역_입찰공고_내역_2_mini.corr()\n",
    "# 상관관계가 거의 없다"
   ]
  },
  {
   "cell_type": "code",
   "execution_count": 40,
   "metadata": {},
   "outputs": [
    {
     "data": {
      "application/vnd.plotly.v1+json": {
       "config": {
        "plotlyServerURL": "https://plot.ly"
       },
       "data": [
        {
         "mode": "markers",
         "type": "scatter",
         "x": [
          1,
          456,
          659,
          704,
          576,
          748,
          931,
          819,
          683,
          406,
          598,
          640,
          582,
          549,
          527,
          492,
          550,
          457,
          179,
          321,
          390,
          379,
          397,
          295,
          365,
          420,
          312,
          366,
          280,
          321,
          379,
          265,
          302,
          213,
          267,
          289,
          290,
          281,
          286,
          249,
          1,
          245,
          316,
          279,
          272,
          275,
          342,
          479,
          478,
          603,
          619,
          513,
          215,
          311,
          563,
          779,
          680,
          664,
          780,
          466,
          733,
          512,
          770,
          733,
          737,
          632,
          690,
          575,
          653,
          576,
          456,
          406,
          470,
          380,
          511,
          374,
          489,
          475,
          392,
          413,
          336,
          392,
          342,
          283,
          345,
          301,
          339,
          353,
          303,
          375,
          360,
          162,
          275,
          285,
          401,
          374,
          408,
          386,
          450,
          447,
          549,
          671,
          770,
          631,
          382,
          406,
          740,
          916,
          754,
          830,
          376,
          860,
          815,
          536,
          682,
          745,
          821,
          884,
          762,
          679,
          728,
          636,
          555,
          436,
          608,
          549,
          574,
          485,
          672,
          632,
          400,
          432,
          510,
          500,
          439,
          429,
          395,
          318,
          432,
          363,
          352,
          288,
          351,
          425,
          323,
          406,
          474,
          435,
          477,
          478,
          545,
          548,
          640,
          665,
          797,
          698,
          409,
          432,
          689,
          749,
          658,
          696,
          988,
          1014,
          1007,
          857,
          870,
          844,
          816,
          749,
          648,
          630,
          533,
          553,
          363,
          424,
          482,
          519,
          489,
          522,
          499,
          473,
          363,
          352,
          370,
          350,
          371,
          337,
          352,
          376,
          307,
          330,
          316,
          339,
          336,
          334,
          142,
          279,
          328,
          388,
          400,
          428,
          420,
          507,
          544,
          669,
          779,
          779,
          424,
          303
         ],
         "y": [
          1193721690,
          747777149027,
          601561319593,
          612411771309,
          647795148246,
          567795586501.08,
          831623008761,
          764298569886,
          638333376521,
          731870399830,
          843404282493.43,
          770711809648,
          726292493079,
          735910773214,
          595754342710.3359,
          684565323272,
          659540955893,
          655201291442,
          353053097266,
          522736338638,
          608802076197,
          608017534891,
          489043356975.5,
          557661744384,
          479924754064,
          496533434036,
          442108956843,
          456748108742,
          454921266610,
          430735317600,
          407439147254,
          382973845510,
          337499002415,
          320506596621,
          328442553960,
          490186296617,
          305634417899.8,
          388644328693,
          2249183381190,
          465331838004,
          1590768873,
          450095664111,
          484619186608,
          500579736666,
          539699762076,
          599784950265,
          1004541691247,
          1125469839089,
          1323112340533.96,
          1369544855972.2,
          1287506143919.24,
          1048886354322,
          567622245598.73,
          474034632207,
          558157570501.3,
          862256641035,
          697337443257,
          779823377544,
          648778794172,
          526604598526,
          1320665007966,
          527469301570,
          854855282403,
          689215515751,
          845117784278.1,
          731255123296,
          781358324291,
          779778936783.8,
          681988493798,
          649415246724,
          697241796094,
          538107568985,
          735182876318,
          561348670416,
          602012315578,
          682107550195.4,
          626109507479.275,
          553904517886.4,
          476474486187.9,
          530586927561.9,
          419845768970.2,
          489571318671,
          421783101105,
          376451812836,
          681359115545,
          278971010985,
          1319591850939,
          345378076583,
          315651242225,
          430546720499,
          405897103949,
          243133900903,
          720359198486.6,
          398079965625.5,
          616335830050.9,
          551138038846.9,
          714303862984,
          1132228083161.5,
          1123401806196,
          1100122133678,
          1161861351786.12,
          1276213724985,
          1447029171860,
          1316911128907,
          595457224930,
          703256649114.48,
          747324065210,
          983838472507,
          836935360919,
          1201671928874,
          367807876304,
          981429987541,
          908462819272,
          686427451301,
          1667915362113,
          849786478737,
          997820252892,
          1037845152473,
          865361439883,
          783981218266,
          1071633094546,
          747243788791,
          837699427482,
          685452463064,
          740341184937,
          733521652288.7,
          1724542152379,
          655329717331.7,
          726743417400,
          697801835771,
          784148051953,
          553003359531.2,
          560078850401,
          535723701080,
          859464292100,
          562098963302,
          619023282335,
          461376296075,
          865071335094,
          512202912123,
          565401104562,
          373913270380,
          533272555927,
          477209350994,
          543323694701,
          628940558824,
          818950553014,
          667470111809,
          1162458236295,
          860108546787,
          1065187506382,
          1387274684846,
          1617722581153,
          1774096197406,
          1501029545532,
          1438639899693,
          960979955215,
          649035547191,
          1043795494297,
          753312301051,
          927663806362,
          893961539900.11,
          1142825337285,
          957521654283,
          1018702707414,
          1025848465955.2,
          1181401213596,
          45747360966274,
          1190743562422,
          1138260010158.715,
          933959959650.7,
          935009688036,
          967994266553.2,
          967802676096,
          1146428620394,
          649855135793,
          823466612394,
          1136284469643,
          958280766051,
          731924624676,
          711052127025.7,
          720505891653,
          506863154762,
          552530134646,
          588683870560,
          630799393111,
          494736539835,
          528243164784,
          742816442631.4,
          582999801441,
          355684133279,
          535445770028.8,
          582326035243,
          691794178187,
          473627730153,
          671162587206.2,
          509148367759,
          573560491216,
          996958610364,
          783509038623,
          947359360898,
          942042472592,
          1148544942411.521,
          1318902090031,
          1519063369177.32,
          1665853028042.32,
          1749511785402,
          1604334502311,
          946983742225,
          678083090608
         ]
        }
       ],
       "layout": {
        "autosize": false,
        "font": {
         "color": "RebeccaPurple",
         "family": "Courier New, monospace",
         "size": 18
        },
        "height": 700,
        "template": {
         "data": {
          "bar": [
           {
            "error_x": {
             "color": "#2a3f5f"
            },
            "error_y": {
             "color": "#2a3f5f"
            },
            "marker": {
             "line": {
              "color": "#E5ECF6",
              "width": 0.5
             },
             "pattern": {
              "fillmode": "overlay",
              "size": 10,
              "solidity": 0.2
             }
            },
            "type": "bar"
           }
          ],
          "barpolar": [
           {
            "marker": {
             "line": {
              "color": "#E5ECF6",
              "width": 0.5
             },
             "pattern": {
              "fillmode": "overlay",
              "size": 10,
              "solidity": 0.2
             }
            },
            "type": "barpolar"
           }
          ],
          "carpet": [
           {
            "aaxis": {
             "endlinecolor": "#2a3f5f",
             "gridcolor": "white",
             "linecolor": "white",
             "minorgridcolor": "white",
             "startlinecolor": "#2a3f5f"
            },
            "baxis": {
             "endlinecolor": "#2a3f5f",
             "gridcolor": "white",
             "linecolor": "white",
             "minorgridcolor": "white",
             "startlinecolor": "#2a3f5f"
            },
            "type": "carpet"
           }
          ],
          "choropleth": [
           {
            "colorbar": {
             "outlinewidth": 0,
             "ticks": ""
            },
            "type": "choropleth"
           }
          ],
          "contour": [
           {
            "colorbar": {
             "outlinewidth": 0,
             "ticks": ""
            },
            "colorscale": [
             [
              0,
              "#0d0887"
             ],
             [
              0.1111111111111111,
              "#46039f"
             ],
             [
              0.2222222222222222,
              "#7201a8"
             ],
             [
              0.3333333333333333,
              "#9c179e"
             ],
             [
              0.4444444444444444,
              "#bd3786"
             ],
             [
              0.5555555555555556,
              "#d8576b"
             ],
             [
              0.6666666666666666,
              "#ed7953"
             ],
             [
              0.7777777777777778,
              "#fb9f3a"
             ],
             [
              0.8888888888888888,
              "#fdca26"
             ],
             [
              1,
              "#f0f921"
             ]
            ],
            "type": "contour"
           }
          ],
          "contourcarpet": [
           {
            "colorbar": {
             "outlinewidth": 0,
             "ticks": ""
            },
            "type": "contourcarpet"
           }
          ],
          "heatmap": [
           {
            "colorbar": {
             "outlinewidth": 0,
             "ticks": ""
            },
            "colorscale": [
             [
              0,
              "#0d0887"
             ],
             [
              0.1111111111111111,
              "#46039f"
             ],
             [
              0.2222222222222222,
              "#7201a8"
             ],
             [
              0.3333333333333333,
              "#9c179e"
             ],
             [
              0.4444444444444444,
              "#bd3786"
             ],
             [
              0.5555555555555556,
              "#d8576b"
             ],
             [
              0.6666666666666666,
              "#ed7953"
             ],
             [
              0.7777777777777778,
              "#fb9f3a"
             ],
             [
              0.8888888888888888,
              "#fdca26"
             ],
             [
              1,
              "#f0f921"
             ]
            ],
            "type": "heatmap"
           }
          ],
          "heatmapgl": [
           {
            "colorbar": {
             "outlinewidth": 0,
             "ticks": ""
            },
            "colorscale": [
             [
              0,
              "#0d0887"
             ],
             [
              0.1111111111111111,
              "#46039f"
             ],
             [
              0.2222222222222222,
              "#7201a8"
             ],
             [
              0.3333333333333333,
              "#9c179e"
             ],
             [
              0.4444444444444444,
              "#bd3786"
             ],
             [
              0.5555555555555556,
              "#d8576b"
             ],
             [
              0.6666666666666666,
              "#ed7953"
             ],
             [
              0.7777777777777778,
              "#fb9f3a"
             ],
             [
              0.8888888888888888,
              "#fdca26"
             ],
             [
              1,
              "#f0f921"
             ]
            ],
            "type": "heatmapgl"
           }
          ],
          "histogram": [
           {
            "marker": {
             "pattern": {
              "fillmode": "overlay",
              "size": 10,
              "solidity": 0.2
             }
            },
            "type": "histogram"
           }
          ],
          "histogram2d": [
           {
            "colorbar": {
             "outlinewidth": 0,
             "ticks": ""
            },
            "colorscale": [
             [
              0,
              "#0d0887"
             ],
             [
              0.1111111111111111,
              "#46039f"
             ],
             [
              0.2222222222222222,
              "#7201a8"
             ],
             [
              0.3333333333333333,
              "#9c179e"
             ],
             [
              0.4444444444444444,
              "#bd3786"
             ],
             [
              0.5555555555555556,
              "#d8576b"
             ],
             [
              0.6666666666666666,
              "#ed7953"
             ],
             [
              0.7777777777777778,
              "#fb9f3a"
             ],
             [
              0.8888888888888888,
              "#fdca26"
             ],
             [
              1,
              "#f0f921"
             ]
            ],
            "type": "histogram2d"
           }
          ],
          "histogram2dcontour": [
           {
            "colorbar": {
             "outlinewidth": 0,
             "ticks": ""
            },
            "colorscale": [
             [
              0,
              "#0d0887"
             ],
             [
              0.1111111111111111,
              "#46039f"
             ],
             [
              0.2222222222222222,
              "#7201a8"
             ],
             [
              0.3333333333333333,
              "#9c179e"
             ],
             [
              0.4444444444444444,
              "#bd3786"
             ],
             [
              0.5555555555555556,
              "#d8576b"
             ],
             [
              0.6666666666666666,
              "#ed7953"
             ],
             [
              0.7777777777777778,
              "#fb9f3a"
             ],
             [
              0.8888888888888888,
              "#fdca26"
             ],
             [
              1,
              "#f0f921"
             ]
            ],
            "type": "histogram2dcontour"
           }
          ],
          "mesh3d": [
           {
            "colorbar": {
             "outlinewidth": 0,
             "ticks": ""
            },
            "type": "mesh3d"
           }
          ],
          "parcoords": [
           {
            "line": {
             "colorbar": {
              "outlinewidth": 0,
              "ticks": ""
             }
            },
            "type": "parcoords"
           }
          ],
          "pie": [
           {
            "automargin": true,
            "type": "pie"
           }
          ],
          "scatter": [
           {
            "marker": {
             "colorbar": {
              "outlinewidth": 0,
              "ticks": ""
             }
            },
            "type": "scatter"
           }
          ],
          "scatter3d": [
           {
            "line": {
             "colorbar": {
              "outlinewidth": 0,
              "ticks": ""
             }
            },
            "marker": {
             "colorbar": {
              "outlinewidth": 0,
              "ticks": ""
             }
            },
            "type": "scatter3d"
           }
          ],
          "scattercarpet": [
           {
            "marker": {
             "colorbar": {
              "outlinewidth": 0,
              "ticks": ""
             }
            },
            "type": "scattercarpet"
           }
          ],
          "scattergeo": [
           {
            "marker": {
             "colorbar": {
              "outlinewidth": 0,
              "ticks": ""
             }
            },
            "type": "scattergeo"
           }
          ],
          "scattergl": [
           {
            "marker": {
             "colorbar": {
              "outlinewidth": 0,
              "ticks": ""
             }
            },
            "type": "scattergl"
           }
          ],
          "scattermapbox": [
           {
            "marker": {
             "colorbar": {
              "outlinewidth": 0,
              "ticks": ""
             }
            },
            "type": "scattermapbox"
           }
          ],
          "scatterpolar": [
           {
            "marker": {
             "colorbar": {
              "outlinewidth": 0,
              "ticks": ""
             }
            },
            "type": "scatterpolar"
           }
          ],
          "scatterpolargl": [
           {
            "marker": {
             "colorbar": {
              "outlinewidth": 0,
              "ticks": ""
             }
            },
            "type": "scatterpolargl"
           }
          ],
          "scatterternary": [
           {
            "marker": {
             "colorbar": {
              "outlinewidth": 0,
              "ticks": ""
             }
            },
            "type": "scatterternary"
           }
          ],
          "surface": [
           {
            "colorbar": {
             "outlinewidth": 0,
             "ticks": ""
            },
            "colorscale": [
             [
              0,
              "#0d0887"
             ],
             [
              0.1111111111111111,
              "#46039f"
             ],
             [
              0.2222222222222222,
              "#7201a8"
             ],
             [
              0.3333333333333333,
              "#9c179e"
             ],
             [
              0.4444444444444444,
              "#bd3786"
             ],
             [
              0.5555555555555556,
              "#d8576b"
             ],
             [
              0.6666666666666666,
              "#ed7953"
             ],
             [
              0.7777777777777778,
              "#fb9f3a"
             ],
             [
              0.8888888888888888,
              "#fdca26"
             ],
             [
              1,
              "#f0f921"
             ]
            ],
            "type": "surface"
           }
          ],
          "table": [
           {
            "cells": {
             "fill": {
              "color": "#EBF0F8"
             },
             "line": {
              "color": "white"
             }
            },
            "header": {
             "fill": {
              "color": "#C8D4E3"
             },
             "line": {
              "color": "white"
             }
            },
            "type": "table"
           }
          ]
         },
         "layout": {
          "annotationdefaults": {
           "arrowcolor": "#2a3f5f",
           "arrowhead": 0,
           "arrowwidth": 1
          },
          "autotypenumbers": "strict",
          "coloraxis": {
           "colorbar": {
            "outlinewidth": 0,
            "ticks": ""
           }
          },
          "colorscale": {
           "diverging": [
            [
             0,
             "#8e0152"
            ],
            [
             0.1,
             "#c51b7d"
            ],
            [
             0.2,
             "#de77ae"
            ],
            [
             0.3,
             "#f1b6da"
            ],
            [
             0.4,
             "#fde0ef"
            ],
            [
             0.5,
             "#f7f7f7"
            ],
            [
             0.6,
             "#e6f5d0"
            ],
            [
             0.7,
             "#b8e186"
            ],
            [
             0.8,
             "#7fbc41"
            ],
            [
             0.9,
             "#4d9221"
            ],
            [
             1,
             "#276419"
            ]
           ],
           "sequential": [
            [
             0,
             "#0d0887"
            ],
            [
             0.1111111111111111,
             "#46039f"
            ],
            [
             0.2222222222222222,
             "#7201a8"
            ],
            [
             0.3333333333333333,
             "#9c179e"
            ],
            [
             0.4444444444444444,
             "#bd3786"
            ],
            [
             0.5555555555555556,
             "#d8576b"
            ],
            [
             0.6666666666666666,
             "#ed7953"
            ],
            [
             0.7777777777777778,
             "#fb9f3a"
            ],
            [
             0.8888888888888888,
             "#fdca26"
            ],
            [
             1,
             "#f0f921"
            ]
           ],
           "sequentialminus": [
            [
             0,
             "#0d0887"
            ],
            [
             0.1111111111111111,
             "#46039f"
            ],
            [
             0.2222222222222222,
             "#7201a8"
            ],
            [
             0.3333333333333333,
             "#9c179e"
            ],
            [
             0.4444444444444444,
             "#bd3786"
            ],
            [
             0.5555555555555556,
             "#d8576b"
            ],
            [
             0.6666666666666666,
             "#ed7953"
            ],
            [
             0.7777777777777778,
             "#fb9f3a"
            ],
            [
             0.8888888888888888,
             "#fdca26"
            ],
            [
             1,
             "#f0f921"
            ]
           ]
          },
          "colorway": [
           "#636efa",
           "#EF553B",
           "#00cc96",
           "#ab63fa",
           "#FFA15A",
           "#19d3f3",
           "#FF6692",
           "#B6E880",
           "#FF97FF",
           "#FECB52"
          ],
          "font": {
           "color": "#2a3f5f"
          },
          "geo": {
           "bgcolor": "white",
           "lakecolor": "white",
           "landcolor": "#E5ECF6",
           "showlakes": true,
           "showland": true,
           "subunitcolor": "white"
          },
          "hoverlabel": {
           "align": "left"
          },
          "hovermode": "closest",
          "mapbox": {
           "style": "light"
          },
          "paper_bgcolor": "white",
          "plot_bgcolor": "#E5ECF6",
          "polar": {
           "angularaxis": {
            "gridcolor": "white",
            "linecolor": "white",
            "ticks": ""
           },
           "bgcolor": "#E5ECF6",
           "radialaxis": {
            "gridcolor": "white",
            "linecolor": "white",
            "ticks": ""
           }
          },
          "scene": {
           "xaxis": {
            "backgroundcolor": "#E5ECF6",
            "gridcolor": "white",
            "gridwidth": 2,
            "linecolor": "white",
            "showbackground": true,
            "ticks": "",
            "zerolinecolor": "white"
           },
           "yaxis": {
            "backgroundcolor": "#E5ECF6",
            "gridcolor": "white",
            "gridwidth": 2,
            "linecolor": "white",
            "showbackground": true,
            "ticks": "",
            "zerolinecolor": "white"
           },
           "zaxis": {
            "backgroundcolor": "#E5ECF6",
            "gridcolor": "white",
            "gridwidth": 2,
            "linecolor": "white",
            "showbackground": true,
            "ticks": "",
            "zerolinecolor": "white"
           }
          },
          "shapedefaults": {
           "line": {
            "color": "#2a3f5f"
           }
          },
          "ternary": {
           "aaxis": {
            "gridcolor": "white",
            "linecolor": "white",
            "ticks": ""
           },
           "baxis": {
            "gridcolor": "white",
            "linecolor": "white",
            "ticks": ""
           },
           "bgcolor": "#E5ECF6",
           "caxis": {
            "gridcolor": "white",
            "linecolor": "white",
            "ticks": ""
           }
          },
          "title": {
           "x": 0.05
          },
          "xaxis": {
           "automargin": true,
           "gridcolor": "white",
           "linecolor": "white",
           "ticks": "",
           "title": {
            "standoff": 15
           },
           "zerolinecolor": "white",
           "zerolinewidth": 2
          },
          "yaxis": {
           "automargin": true,
           "gridcolor": "white",
           "linecolor": "white",
           "ticks": "",
           "title": {
            "standoff": 15
           },
           "zerolinecolor": "white",
           "zerolinewidth": 2
          }
         }
        },
        "title": {
         "text": "입찰공고차수에 대한 배정예산의 산점도"
        },
        "width": 1500,
        "xaxis": {
         "title": {
          "text": "주 당 입찰공고차수"
         }
        },
        "yaxis": {
         "title": {
          "text": "배정예산"
         }
        }
       }
      },
      "text/html": [
       "<div>                            <div id=\"e5a90b5f-36de-472c-b718-071acd0a749c\" class=\"plotly-graph-div\" style=\"height:700px; width:1500px;\"></div>            <script type=\"text/javascript\">                require([\"plotly\"], function(Plotly) {                    window.PLOTLYENV=window.PLOTLYENV || {};                                    if (document.getElementById(\"e5a90b5f-36de-472c-b718-071acd0a749c\")) {                    Plotly.newPlot(                        \"e5a90b5f-36de-472c-b718-071acd0a749c\",                        [{\"mode\":\"markers\",\"type\":\"scatter\",\"x\":[1,456,659,704,576,748,931,819,683,406,598,640,582,549,527,492,550,457,179,321,390,379,397,295,365,420,312,366,280,321,379,265,302,213,267,289,290,281,286,249,1,245,316,279,272,275,342,479,478,603,619,513,215,311,563,779,680,664,780,466,733,512,770,733,737,632,690,575,653,576,456,406,470,380,511,374,489,475,392,413,336,392,342,283,345,301,339,353,303,375,360,162,275,285,401,374,408,386,450,447,549,671,770,631,382,406,740,916,754,830,376,860,815,536,682,745,821,884,762,679,728,636,555,436,608,549,574,485,672,632,400,432,510,500,439,429,395,318,432,363,352,288,351,425,323,406,474,435,477,478,545,548,640,665,797,698,409,432,689,749,658,696,988,1014,1007,857,870,844,816,749,648,630,533,553,363,424,482,519,489,522,499,473,363,352,370,350,371,337,352,376,307,330,316,339,336,334,142,279,328,388,400,428,420,507,544,669,779,779,424,303],\"y\":[1193721690.0,747777149027.0,601561319593.0,612411771309.0,647795148246.0,567795586501.08,831623008761.0,764298569886.0,638333376521.0,731870399830.0,843404282493.43,770711809648.0,726292493079.0,735910773214.0,595754342710.3359,684565323272.0,659540955893.0,655201291442.0,353053097266.0,522736338638.0,608802076197.0,608017534891.0,489043356975.5,557661744384.0,479924754064.0,496533434036.0,442108956843.0,456748108742.0,454921266610.0,430735317600.0,407439147254.0,382973845510.0,337499002415.0,320506596621.0,328442553960.0,490186296617.0,305634417899.8,388644328693.0,2249183381190.0,465331838004.0,1590768873.0,450095664111.0,484619186608.0,500579736666.0,539699762076.0,599784950265.0,1004541691247.0,1125469839089.0,1323112340533.96,1369544855972.2,1287506143919.24,1048886354322.0,567622245598.73,474034632207.0,558157570501.3,862256641035.0,697337443257.0,779823377544.0,648778794172.0,526604598526.0,1320665007966.0,527469301570.0,854855282403.0,689215515751.0,845117784278.1,731255123296.0,781358324291.0,779778936783.8,681988493798.0,649415246724.0,697241796094.0,538107568985.0,735182876318.0,561348670416.0,602012315578.0,682107550195.4,626109507479.275,553904517886.4,476474486187.9,530586927561.9,419845768970.2,489571318671.0,421783101105.0,376451812836.0,681359115545.0,278971010985.0,1319591850939.0,345378076583.0,315651242225.0,430546720499.0,405897103949.0,243133900903.0,720359198486.6,398079965625.5,616335830050.9,551138038846.9,714303862984.0,1132228083161.5,1123401806196.0,1100122133678.0,1161861351786.12,1276213724985.0,1447029171860.0,1316911128907.0,595457224930.0,703256649114.48,747324065210.0,983838472507.0,836935360919.0,1201671928874.0,367807876304.0,981429987541.0,908462819272.0,686427451301.0,1667915362113.0,849786478737.0,997820252892.0,1037845152473.0,865361439883.0,783981218266.0,1071633094546.0,747243788791.0,837699427482.0,685452463064.0,740341184937.0,733521652288.7,1724542152379.0,655329717331.7,726743417400.0,697801835771.0,784148051953.0,553003359531.2,560078850401.0,535723701080.0,859464292100.0,562098963302.0,619023282335.0,461376296075.0,865071335094.0,512202912123.0,565401104562.0,373913270380.0,533272555927.0,477209350994.0,543323694701.0,628940558824.0,818950553014.0,667470111809.0,1162458236295.0,860108546787.0,1065187506382.0,1387274684846.0,1617722581153.0,1774096197406.0,1501029545532.0,1438639899693.0,960979955215.0,649035547191.0,1043795494297.0,753312301051.0,927663806362.0,893961539900.11,1142825337285.0,957521654283.0,1018702707414.0,1025848465955.2,1181401213596.0,45747360966274.0,1190743562422.0,1138260010158.715,933959959650.7,935009688036.0,967994266553.2,967802676096.0,1146428620394.0,649855135793.0,823466612394.0,1136284469643.0,958280766051.0,731924624676.0,711052127025.7,720505891653.0,506863154762.0,552530134646.0,588683870560.0,630799393111.0,494736539835.0,528243164784.0,742816442631.4,582999801441.0,355684133279.0,535445770028.8,582326035243.0,691794178187.0,473627730153.0,671162587206.2,509148367759.0,573560491216.0,996958610364.0,783509038623.0,947359360898.0,942042472592.0,1148544942411.521,1318902090031.0,1519063369177.32,1665853028042.32,1749511785402.0,1604334502311.0,946983742225.0,678083090608.0]}],                        {\"autosize\":false,\"font\":{\"color\":\"RebeccaPurple\",\"family\":\"Courier New, monospace\",\"size\":18},\"height\":700,\"template\":{\"data\":{\"bar\":[{\"error_x\":{\"color\":\"#2a3f5f\"},\"error_y\":{\"color\":\"#2a3f5f\"},\"marker\":{\"line\":{\"color\":\"#E5ECF6\",\"width\":0.5},\"pattern\":{\"fillmode\":\"overlay\",\"size\":10,\"solidity\":0.2}},\"type\":\"bar\"}],\"barpolar\":[{\"marker\":{\"line\":{\"color\":\"#E5ECF6\",\"width\":0.5},\"pattern\":{\"fillmode\":\"overlay\",\"size\":10,\"solidity\":0.2}},\"type\":\"barpolar\"}],\"carpet\":[{\"aaxis\":{\"endlinecolor\":\"#2a3f5f\",\"gridcolor\":\"white\",\"linecolor\":\"white\",\"minorgridcolor\":\"white\",\"startlinecolor\":\"#2a3f5f\"},\"baxis\":{\"endlinecolor\":\"#2a3f5f\",\"gridcolor\":\"white\",\"linecolor\":\"white\",\"minorgridcolor\":\"white\",\"startlinecolor\":\"#2a3f5f\"},\"type\":\"carpet\"}],\"choropleth\":[{\"colorbar\":{\"outlinewidth\":0,\"ticks\":\"\"},\"type\":\"choropleth\"}],\"contour\":[{\"colorbar\":{\"outlinewidth\":0,\"ticks\":\"\"},\"colorscale\":[[0.0,\"#0d0887\"],[0.1111111111111111,\"#46039f\"],[0.2222222222222222,\"#7201a8\"],[0.3333333333333333,\"#9c179e\"],[0.4444444444444444,\"#bd3786\"],[0.5555555555555556,\"#d8576b\"],[0.6666666666666666,\"#ed7953\"],[0.7777777777777778,\"#fb9f3a\"],[0.8888888888888888,\"#fdca26\"],[1.0,\"#f0f921\"]],\"type\":\"contour\"}],\"contourcarpet\":[{\"colorbar\":{\"outlinewidth\":0,\"ticks\":\"\"},\"type\":\"contourcarpet\"}],\"heatmap\":[{\"colorbar\":{\"outlinewidth\":0,\"ticks\":\"\"},\"colorscale\":[[0.0,\"#0d0887\"],[0.1111111111111111,\"#46039f\"],[0.2222222222222222,\"#7201a8\"],[0.3333333333333333,\"#9c179e\"],[0.4444444444444444,\"#bd3786\"],[0.5555555555555556,\"#d8576b\"],[0.6666666666666666,\"#ed7953\"],[0.7777777777777778,\"#fb9f3a\"],[0.8888888888888888,\"#fdca26\"],[1.0,\"#f0f921\"]],\"type\":\"heatmap\"}],\"heatmapgl\":[{\"colorbar\":{\"outlinewidth\":0,\"ticks\":\"\"},\"colorscale\":[[0.0,\"#0d0887\"],[0.1111111111111111,\"#46039f\"],[0.2222222222222222,\"#7201a8\"],[0.3333333333333333,\"#9c179e\"],[0.4444444444444444,\"#bd3786\"],[0.5555555555555556,\"#d8576b\"],[0.6666666666666666,\"#ed7953\"],[0.7777777777777778,\"#fb9f3a\"],[0.8888888888888888,\"#fdca26\"],[1.0,\"#f0f921\"]],\"type\":\"heatmapgl\"}],\"histogram\":[{\"marker\":{\"pattern\":{\"fillmode\":\"overlay\",\"size\":10,\"solidity\":0.2}},\"type\":\"histogram\"}],\"histogram2d\":[{\"colorbar\":{\"outlinewidth\":0,\"ticks\":\"\"},\"colorscale\":[[0.0,\"#0d0887\"],[0.1111111111111111,\"#46039f\"],[0.2222222222222222,\"#7201a8\"],[0.3333333333333333,\"#9c179e\"],[0.4444444444444444,\"#bd3786\"],[0.5555555555555556,\"#d8576b\"],[0.6666666666666666,\"#ed7953\"],[0.7777777777777778,\"#fb9f3a\"],[0.8888888888888888,\"#fdca26\"],[1.0,\"#f0f921\"]],\"type\":\"histogram2d\"}],\"histogram2dcontour\":[{\"colorbar\":{\"outlinewidth\":0,\"ticks\":\"\"},\"colorscale\":[[0.0,\"#0d0887\"],[0.1111111111111111,\"#46039f\"],[0.2222222222222222,\"#7201a8\"],[0.3333333333333333,\"#9c179e\"],[0.4444444444444444,\"#bd3786\"],[0.5555555555555556,\"#d8576b\"],[0.6666666666666666,\"#ed7953\"],[0.7777777777777778,\"#fb9f3a\"],[0.8888888888888888,\"#fdca26\"],[1.0,\"#f0f921\"]],\"type\":\"histogram2dcontour\"}],\"mesh3d\":[{\"colorbar\":{\"outlinewidth\":0,\"ticks\":\"\"},\"type\":\"mesh3d\"}],\"parcoords\":[{\"line\":{\"colorbar\":{\"outlinewidth\":0,\"ticks\":\"\"}},\"type\":\"parcoords\"}],\"pie\":[{\"automargin\":true,\"type\":\"pie\"}],\"scatter\":[{\"marker\":{\"colorbar\":{\"outlinewidth\":0,\"ticks\":\"\"}},\"type\":\"scatter\"}],\"scatter3d\":[{\"line\":{\"colorbar\":{\"outlinewidth\":0,\"ticks\":\"\"}},\"marker\":{\"colorbar\":{\"outlinewidth\":0,\"ticks\":\"\"}},\"type\":\"scatter3d\"}],\"scattercarpet\":[{\"marker\":{\"colorbar\":{\"outlinewidth\":0,\"ticks\":\"\"}},\"type\":\"scattercarpet\"}],\"scattergeo\":[{\"marker\":{\"colorbar\":{\"outlinewidth\":0,\"ticks\":\"\"}},\"type\":\"scattergeo\"}],\"scattergl\":[{\"marker\":{\"colorbar\":{\"outlinewidth\":0,\"ticks\":\"\"}},\"type\":\"scattergl\"}],\"scattermapbox\":[{\"marker\":{\"colorbar\":{\"outlinewidth\":0,\"ticks\":\"\"}},\"type\":\"scattermapbox\"}],\"scatterpolar\":[{\"marker\":{\"colorbar\":{\"outlinewidth\":0,\"ticks\":\"\"}},\"type\":\"scatterpolar\"}],\"scatterpolargl\":[{\"marker\":{\"colorbar\":{\"outlinewidth\":0,\"ticks\":\"\"}},\"type\":\"scatterpolargl\"}],\"scatterternary\":[{\"marker\":{\"colorbar\":{\"outlinewidth\":0,\"ticks\":\"\"}},\"type\":\"scatterternary\"}],\"surface\":[{\"colorbar\":{\"outlinewidth\":0,\"ticks\":\"\"},\"colorscale\":[[0.0,\"#0d0887\"],[0.1111111111111111,\"#46039f\"],[0.2222222222222222,\"#7201a8\"],[0.3333333333333333,\"#9c179e\"],[0.4444444444444444,\"#bd3786\"],[0.5555555555555556,\"#d8576b\"],[0.6666666666666666,\"#ed7953\"],[0.7777777777777778,\"#fb9f3a\"],[0.8888888888888888,\"#fdca26\"],[1.0,\"#f0f921\"]],\"type\":\"surface\"}],\"table\":[{\"cells\":{\"fill\":{\"color\":\"#EBF0F8\"},\"line\":{\"color\":\"white\"}},\"header\":{\"fill\":{\"color\":\"#C8D4E3\"},\"line\":{\"color\":\"white\"}},\"type\":\"table\"}]},\"layout\":{\"annotationdefaults\":{\"arrowcolor\":\"#2a3f5f\",\"arrowhead\":0,\"arrowwidth\":1},\"autotypenumbers\":\"strict\",\"coloraxis\":{\"colorbar\":{\"outlinewidth\":0,\"ticks\":\"\"}},\"colorscale\":{\"diverging\":[[0,\"#8e0152\"],[0.1,\"#c51b7d\"],[0.2,\"#de77ae\"],[0.3,\"#f1b6da\"],[0.4,\"#fde0ef\"],[0.5,\"#f7f7f7\"],[0.6,\"#e6f5d0\"],[0.7,\"#b8e186\"],[0.8,\"#7fbc41\"],[0.9,\"#4d9221\"],[1,\"#276419\"]],\"sequential\":[[0.0,\"#0d0887\"],[0.1111111111111111,\"#46039f\"],[0.2222222222222222,\"#7201a8\"],[0.3333333333333333,\"#9c179e\"],[0.4444444444444444,\"#bd3786\"],[0.5555555555555556,\"#d8576b\"],[0.6666666666666666,\"#ed7953\"],[0.7777777777777778,\"#fb9f3a\"],[0.8888888888888888,\"#fdca26\"],[1.0,\"#f0f921\"]],\"sequentialminus\":[[0.0,\"#0d0887\"],[0.1111111111111111,\"#46039f\"],[0.2222222222222222,\"#7201a8\"],[0.3333333333333333,\"#9c179e\"],[0.4444444444444444,\"#bd3786\"],[0.5555555555555556,\"#d8576b\"],[0.6666666666666666,\"#ed7953\"],[0.7777777777777778,\"#fb9f3a\"],[0.8888888888888888,\"#fdca26\"],[1.0,\"#f0f921\"]]},\"colorway\":[\"#636efa\",\"#EF553B\",\"#00cc96\",\"#ab63fa\",\"#FFA15A\",\"#19d3f3\",\"#FF6692\",\"#B6E880\",\"#FF97FF\",\"#FECB52\"],\"font\":{\"color\":\"#2a3f5f\"},\"geo\":{\"bgcolor\":\"white\",\"lakecolor\":\"white\",\"landcolor\":\"#E5ECF6\",\"showlakes\":true,\"showland\":true,\"subunitcolor\":\"white\"},\"hoverlabel\":{\"align\":\"left\"},\"hovermode\":\"closest\",\"mapbox\":{\"style\":\"light\"},\"paper_bgcolor\":\"white\",\"plot_bgcolor\":\"#E5ECF6\",\"polar\":{\"angularaxis\":{\"gridcolor\":\"white\",\"linecolor\":\"white\",\"ticks\":\"\"},\"bgcolor\":\"#E5ECF6\",\"radialaxis\":{\"gridcolor\":\"white\",\"linecolor\":\"white\",\"ticks\":\"\"}},\"scene\":{\"xaxis\":{\"backgroundcolor\":\"#E5ECF6\",\"gridcolor\":\"white\",\"gridwidth\":2,\"linecolor\":\"white\",\"showbackground\":true,\"ticks\":\"\",\"zerolinecolor\":\"white\"},\"yaxis\":{\"backgroundcolor\":\"#E5ECF6\",\"gridcolor\":\"white\",\"gridwidth\":2,\"linecolor\":\"white\",\"showbackground\":true,\"ticks\":\"\",\"zerolinecolor\":\"white\"},\"zaxis\":{\"backgroundcolor\":\"#E5ECF6\",\"gridcolor\":\"white\",\"gridwidth\":2,\"linecolor\":\"white\",\"showbackground\":true,\"ticks\":\"\",\"zerolinecolor\":\"white\"}},\"shapedefaults\":{\"line\":{\"color\":\"#2a3f5f\"}},\"ternary\":{\"aaxis\":{\"gridcolor\":\"white\",\"linecolor\":\"white\",\"ticks\":\"\"},\"baxis\":{\"gridcolor\":\"white\",\"linecolor\":\"white\",\"ticks\":\"\"},\"bgcolor\":\"#E5ECF6\",\"caxis\":{\"gridcolor\":\"white\",\"linecolor\":\"white\",\"ticks\":\"\"}},\"title\":{\"x\":0.05},\"xaxis\":{\"automargin\":true,\"gridcolor\":\"white\",\"linecolor\":\"white\",\"ticks\":\"\",\"title\":{\"standoff\":15},\"zerolinecolor\":\"white\",\"zerolinewidth\":2},\"yaxis\":{\"automargin\":true,\"gridcolor\":\"white\",\"linecolor\":\"white\",\"ticks\":\"\",\"title\":{\"standoff\":15},\"zerolinecolor\":\"white\",\"zerolinewidth\":2}}},\"title\":{\"text\":\"\\uc785\\ucc30\\uacf5\\uace0\\ucc28\\uc218\\uc5d0 \\ub300\\ud55c \\ubc30\\uc815\\uc608\\uc0b0\\uc758 \\uc0b0\\uc810\\ub3c4\"},\"width\":1500,\"xaxis\":{\"title\":{\"text\":\"\\uc8fc \\ub2f9 \\uc785\\ucc30\\uacf5\\uace0\\ucc28\\uc218\"}},\"yaxis\":{\"title\":{\"text\":\"\\ubc30\\uc815\\uc608\\uc0b0\"}}},                        {\"responsive\": true}                    ).then(function(){\n",
       "                            \n",
       "var gd = document.getElementById('e5a90b5f-36de-472c-b718-071acd0a749c');\n",
       "var x = new MutationObserver(function (mutations, observer) {{\n",
       "        var display = window.getComputedStyle(gd).display;\n",
       "        if (!display || display === 'none') {{\n",
       "            console.log([gd, 'removed!']);\n",
       "            Plotly.purge(gd);\n",
       "            observer.disconnect();\n",
       "        }}\n",
       "}});\n",
       "\n",
       "// Listen for the removal of the full notebook cells\n",
       "var notebookContainer = gd.closest('#notebook-container');\n",
       "if (notebookContainer) {{\n",
       "    x.observe(notebookContainer, {childList: true});\n",
       "}}\n",
       "\n",
       "// Listen for the clearing of the current output cell\n",
       "var outputEl = gd.closest('.output');\n",
       "if (outputEl) {{\n",
       "    x.observe(outputEl, {childList: true});\n",
       "}}\n",
       "\n",
       "                        })                };                });            </script>        </div>"
      ]
     },
     "metadata": {},
     "output_type": "display_data"
    }
   ],
   "source": [
    "fig = go.Figure()\n",
    "fig.add_trace(go.Scatter(x = df_용역_입찰공고_내역_2_mini['입찰공고차수'], y = df_용역_입찰공고_내역_2_mini['배정예산'], mode = 'markers'))\n",
    "fig.update_layout(\n",
    "    autosize=False,\n",
    "    width=1500,\n",
    "    height=700,\n",
    "    title=\"입찰공고차수에 대한 배정예산의 산점도\",\n",
    "    xaxis_title=\"주 당 입찰공고차수\",\n",
    "    yaxis_title=\"배정예산\",\n",
    "    font=dict(\n",
    "        family=\"Courier New, monospace\",\n",
    "        size=18,\n",
    "        color=\"RebeccaPurple\"\n",
    "    )\n",
    ")\n",
    "\n",
    "\n",
    "fig.show()\n"
   ]
  },
  {
   "cell_type": "markdown",
   "metadata": {},
   "source": [
    "## 주 단위로 나누었을 때, 입찰공고수가 높다고 해서, 배정예산이 높지는 않다. \n",
    "## 입찰공고"
   ]
  }
 ],
 "metadata": {
  "kernelspec": {
   "display_name": "Python 3",
   "language": "python",
   "name": "python3"
  },
  "language_info": {
   "codemirror_mode": {
    "name": "ipython",
    "version": 3
   },
   "file_extension": ".py",
   "mimetype": "text/x-python",
   "name": "python",
   "nbconvert_exporter": "python",
   "pygments_lexer": "ipython3",
   "version": "3.7.4"
  },
  "toc": {
   "base_numbering": 1,
   "nav_menu": {},
   "number_sections": true,
   "sideBar": true,
   "skip_h1_title": false,
   "title_cell": "Table of Contents",
   "title_sidebar": "Contents",
   "toc_cell": false,
   "toc_position": {},
   "toc_section_display": true,
   "toc_window_display": false
  },
  "varInspector": {
   "cols": {
    "lenName": 16,
    "lenType": 16,
    "lenVar": 40
   },
   "kernels_config": {
    "python": {
     "delete_cmd_postfix": "",
     "delete_cmd_prefix": "del ",
     "library": "var_list.py",
     "varRefreshCmd": "print(var_dic_list())"
    },
    "r": {
     "delete_cmd_postfix": ") ",
     "delete_cmd_prefix": "rm(",
     "library": "var_list.r",
     "varRefreshCmd": "cat(var_dic_list()) "
    }
   },
   "types_to_exclude": [
    "module",
    "function",
    "builtin_function_or_method",
    "instance",
    "_Feature"
   ],
   "window_display": false
  }
 },
 "nbformat": 4,
 "nbformat_minor": 2
}
