{
 "cells": [
  {
   "cell_type": "code",
   "execution_count": 241,
   "metadata": {},
   "outputs": [
    {
     "data": {
      "text/html": [
       "        <script type=\"text/javascript\">\n",
       "        window.PlotlyConfig = {MathJaxConfig: 'local'};\n",
       "        if (window.MathJax) {MathJax.Hub.Config({SVG: {font: \"STIX-Web\"}});}\n",
       "        if (typeof require !== 'undefined') {\n",
       "        require.undef(\"plotly\");\n",
       "        requirejs.config({\n",
       "            paths: {\n",
       "                'plotly': ['https://cdn.plot.ly/plotly-2.4.2.min']\n",
       "            }\n",
       "        });\n",
       "        require(['plotly'], function(Plotly) {\n",
       "            window._Plotly = Plotly;\n",
       "        });\n",
       "        }\n",
       "        </script>\n",
       "        "
      ]
     },
     "metadata": {},
     "output_type": "display_data"
    },
    {
     "data": {
      "text/html": [
       "        <script type=\"text/javascript\">\n",
       "        window.PlotlyConfig = {MathJaxConfig: 'local'};\n",
       "        if (window.MathJax) {MathJax.Hub.Config({SVG: {font: \"STIX-Web\"}});}\n",
       "        if (typeof require !== 'undefined') {\n",
       "        require.undef(\"plotly\");\n",
       "        requirejs.config({\n",
       "            paths: {\n",
       "                'plotly': ['https://cdn.plot.ly/plotly-2.4.2.min']\n",
       "            }\n",
       "        });\n",
       "        require(['plotly'], function(Plotly) {\n",
       "            window._Plotly = Plotly;\n",
       "        });\n",
       "        }\n",
       "        </script>\n",
       "        "
      ]
     },
     "metadata": {},
     "output_type": "display_data"
    },
    {
     "data": {
      "text/html": [
       "<style>.container { width:100% !important; }</style>"
      ],
      "text/plain": [
       "<IPython.core.display.HTML object>"
      ]
     },
     "metadata": {},
     "output_type": "display_data"
    }
   ],
   "source": [
    "import numpy as np\n",
    "import pandas as pd\n",
    "\n",
    "from sklearn.ensemble import RandomForestRegressor, GradientBoostingRegressor\n",
    "from sklearn.preprocessing import OneHotEncoder, StandardScaler\n",
    "from sklearn.model_selection import StratifiedKFold\n",
    "from sklearn.metrics import accuracy_score\n",
    "\n",
    "import string\n",
    "import warnings\n",
    "import missingno\n",
    "warnings.filterwarnings('ignore')\n",
    "\n",
    "\n",
    "import pandas as pd\n",
    "import cufflinks as cf\n",
    "import chart_studio.plotly as py\n",
    "import plotly.graph_objects as go\n",
    "import numpy as np\n",
    "import pandas as pd\n",
    "import numpy as np\n",
    "from numpy.random import gamma\n",
    "from numpy.random import multivariate_normal\n",
    "from scipy.stats import multivariate_t\n",
    "from scipy.stats import f\n",
    "import matplotlib.pyplot as plt\n",
    "\n",
    "\n",
    "\n",
    "cf.go_offline(connected = True)\n",
    "\n",
    "\n",
    "import pandas as pd\n",
    "import cufflinks as cf\n",
    "import chart_studio.plotly as py\n",
    "import plotly.graph_objects as go\n",
    "import numpy as np\n",
    "import pandas as pd\n",
    "import numpy as np\n",
    "from numpy.random import gamma\n",
    "from numpy.random import multivariate_normal\n",
    "from scipy.stats import multivariate_t\n",
    "from scipy.stats import f\n",
    "import matplotlib.pyplot as plt\n",
    "import missingno\n",
    "\n",
    "\n",
    "cf.go_offline(connected = True)\n",
    "\n",
    "\n",
    "import numpy as np\n",
    "import matplotlib.pyplot as plt\n",
    "import pandas as pd\n",
    "import seaborn as sns\n",
    "\n",
    "from sklearn.linear_model import Ridge, Lasso\n",
    "from sklearn.model_selection import cross_val_score\n",
    "from sklearn.model_selection import train_test_split\n",
    "from sklearn.linear_model import LinearRegression\n",
    "from sklearn.metrics import r2_score\n",
    "from sklearn.metrics import mean_absolute_error\n",
    "from sklearn.metrics import mean_squared_error\n",
    "from sklearn.metrics import mean_squared_log_error\n",
    "from sklearn.metrics import make_scorer\n",
    "from sklearn.model_selection import KFold\n",
    "from sklearn.model_selection import cross_val_score\n",
    "\n",
    "import numpy as np\n",
    "import pandas as pd\n",
    "from sklearn.metrics import make_scorer\n",
    "from sklearn.ensemble import RandomForestRegressor, GradientBoostingRegressor\n",
    "from xgboost import XGBRegressor \n",
    "from sklearn.preprocessing import OneHotEncoder, StandardScaler\n",
    "from sklearn.model_selection import StratifiedKFold\n",
    "from sklearn.metrics import accuracy_score\n",
    "from sklearn.linear_model import LinearRegression\n",
    "from sklearn.linear_model import Lasso\n",
    "from sklearn.model_selection import GridSearchCV\n",
    "import string\n",
    "import warnings\n",
    "import missingno\n",
    "\n",
    "from IPython.core.display import display, HTML\n",
    "display(HTML(\"<style>.container { width:100% !important; }</style>\"))"
   ]
  },
  {
   "cell_type": "code",
   "execution_count": 242,
   "metadata": {},
   "outputs": [
    {
     "name": "stderr",
     "output_type": "stream",
     "text": [
      "b'Skipping line 114239: expected 55 fields, saw 56\\n'\n"
     ]
    }
   ],
   "source": [
    "# df = pd.read_csv('용역_입찰공고_내역_2020.csv',encoding ='utf-8',error_bad_lines= False)\n",
    "# df = pd.concat([df,pd.read_csv('용역_입찰공고_내역_2019.csv',encoding ='utf-8',error_bad_lines= False)])\n",
    "# df = pd.concat([df,pd.read_csv('용역_입찰공고_내역_2018.csv',encoding ='utf-8',error_bad_lines= False)])\n",
    "# df_용역_입찰공고_내역 = pd.concat([df,pd.read_csv('용역_입찰공고_내역_2017.csv',encoding ='utf-8',error_bad_lines= False)])   \n",
    "\n",
    "# df = pd.read_csv('공사_입찰공고_및_진행_내역_2020.csv',encoding ='utf-8',error_bad_lines= False)\n",
    "# df = pd.concat([df,pd.read_csv('공사_입찰공고_및_진행_내역_2019.csv',encoding ='utf-8',error_bad_lines= False)])\n",
    "# df = pd.concat([df,pd.read_csv('공사_입찰공고_및_진행_내역_2018.csv',encoding ='utf-8',error_bad_lines= False)])\n",
    "# df_공사_입찰공고_및_진행_내역 = pd.concat([df,pd.read_csv('공사_입찰공고_및_진행_내역_2017.csv',encoding ='utf-8',error_bad_lines= False)])   \n",
    "\n",
    "\n",
    "df = pd.read_csv('물품_입찰공고_내역_2020.csv',encoding ='utf-8',error_bad_lines= False)\n",
    "df = pd.concat([df,pd.read_csv('물품_입찰공고_내역_2019.csv',encoding ='utf-8',error_bad_lines= False)])\n",
    "df = pd.concat([df,pd.read_csv('물품_입찰공고_내역_2018.csv',encoding ='utf-8',error_bad_lines= False)])\n",
    "df_물품_입찰공고_내역 = pd.concat([df,pd.read_csv('물품_입찰공고_내역_2017.csv',encoding ='utf-8',error_bad_lines= False)])   \n",
    "# df_물품_입찰공고_내역 = pd.read_csv('물품_입찰공고_내역_2021.csv',encoding ='utf-8',error_bad_lines= False)"
   ]
  },
  {
   "cell_type": "code",
   "execution_count": 243,
   "metadata": {},
   "outputs": [],
   "source": [
    "def make_time_series_3(row):\n",
    "\n",
    "    i = str(row['공고게시일자'])\n",
    "    year = i[0:4]\n",
    "    month = i[4:6]\n",
    "    date =  i[6:8]\n",
    "\n",
    "    row['공고게시일자'] = pd.to_datetime(year+month+date,format='%Y%m%d')\n",
    "\n",
    "    return row"
   ]
  },
  {
   "cell_type": "code",
   "execution_count": 244,
   "metadata": {},
   "outputs": [],
   "source": [
    "# df_용역_입찰공고_내역_2 = df_용역_입찰공고_내역.apply(make_time_series_3,axis=1).copy()\n",
    "# df_공사_입찰공고_및_진행_내역_2 = df_공사_입찰공고_및_진행_내역.apply(make_time_series_3,axis=1).copy()\n",
    "# df_물품_입찰공고_내역_2 = df_물품_입찰공고_내역.apply(make_time_series_3,axis=1).copy()"
   ]
  },
  {
   "cell_type": "code",
   "execution_count": 245,
   "metadata": {},
   "outputs": [
    {
     "data": {
      "text/html": [
       "<div>\n",
       "<style scoped>\n",
       "    .dataframe tbody tr th:only-of-type {\n",
       "        vertical-align: middle;\n",
       "    }\n",
       "\n",
       "    .dataframe tbody tr th {\n",
       "        vertical-align: top;\n",
       "    }\n",
       "\n",
       "    .dataframe thead th {\n",
       "        text-align: right;\n",
       "    }\n",
       "</style>\n",
       "<table border=\"1\" class=\"dataframe\">\n",
       "  <thead>\n",
       "    <tr style=\"text-align: right;\">\n",
       "      <th></th>\n",
       "      <th>등록유형</th>\n",
       "      <th>조달구분</th>\n",
       "      <th>공고시스템명</th>\n",
       "      <th>입찰공고번호</th>\n",
       "      <th>입찰공고차수</th>\n",
       "      <th>공고게시일자</th>\n",
       "      <th>공고명</th>\n",
       "      <th>공고기관명</th>\n",
       "      <th>공고기관코드</th>\n",
       "      <th>실수요기관명</th>\n",
       "      <th>...</th>\n",
       "      <th>정보화사업여부</th>\n",
       "      <th>기술평가대행여부</th>\n",
       "      <th>SW분리발주대상구분</th>\n",
       "      <th>SW분리발주적용구분</th>\n",
       "      <th>참조번호</th>\n",
       "      <th>이전입찰공고번호</th>\n",
       "      <th>사전규격등록번호</th>\n",
       "      <th>조달요청번호</th>\n",
       "      <th>발주계획통합번호</th>\n",
       "      <th>규격검토일자</th>\n",
       "    </tr>\n",
       "  </thead>\n",
       "  <tbody>\n",
       "    <tr>\n",
       "      <th>0</th>\n",
       "      <td>나라장터(G2B)</td>\n",
       "      <td>자체조달</td>\n",
       "      <td>NaN</td>\n",
       "      <td>20200357516</td>\n",
       "      <td>0</td>\n",
       "      <td>2020-03-31</td>\n",
       "      <td>2020년 조사료 생산용 기계장비 지원/원형결속기</td>\n",
       "      <td>경상남도 산청군 농업기술센터</td>\n",
       "      <td>5450023</td>\n",
       "      <td>경상남도 산청군 농업기술센터</td>\n",
       "      <td>...</td>\n",
       "      <td>NaN</td>\n",
       "      <td>NaN</td>\n",
       "      <td>NaN</td>\n",
       "      <td>NaN</td>\n",
       "      <td>산청군농업기술센터 입찰공고 제2020-30호</td>\n",
       "      <td>NaN</td>\n",
       "      <td>848252.0</td>\n",
       "      <td>NaN</td>\n",
       "      <td>1-3-2020-5450023-000005</td>\n",
       "      <td>NaN</td>\n",
       "    </tr>\n",
       "    <tr>\n",
       "      <th>1</th>\n",
       "      <td>나라장터(G2B)</td>\n",
       "      <td>자체조달</td>\n",
       "      <td>NaN</td>\n",
       "      <td>20200357490</td>\n",
       "      <td>0</td>\n",
       "      <td>2020-03-31</td>\n",
       "      <td>2020년 북구 건강관리과 모자보건사업 의약품 구입</td>\n",
       "      <td>경상북도 포항시 북구보건소</td>\n",
       "      <td>5020056</td>\n",
       "      <td>경상북도 포항시 북구보건소</td>\n",
       "      <td>...</td>\n",
       "      <td>NaN</td>\n",
       "      <td>NaN</td>\n",
       "      <td>NaN</td>\n",
       "      <td>NaN</td>\n",
       "      <td>포항시 북구보건소 공고 제2020-28호</td>\n",
       "      <td>NaN</td>\n",
       "      <td>NaN</td>\n",
       "      <td>NaN</td>\n",
       "      <td>NaN</td>\n",
       "      <td>NaN</td>\n",
       "    </tr>\n",
       "    <tr>\n",
       "      <th>2</th>\n",
       "      <td>나라장터(G2B)</td>\n",
       "      <td>자체조달</td>\n",
       "      <td>NaN</td>\n",
       "      <td>20200356954</td>\n",
       "      <td>0</td>\n",
       "      <td>2020-03-31</td>\n",
       "      <td>부평구육아종합지원센터 도담도담장난감월드 열우물경기장점 장난감,도서,영상자료 구입</td>\n",
       "      <td>부평구 육아종합지원센터</td>\n",
       "      <td>Z024643</td>\n",
       "      <td>부평구 육아종합지원센터</td>\n",
       "      <td>...</td>\n",
       "      <td>NaN</td>\n",
       "      <td>NaN</td>\n",
       "      <td>NaN</td>\n",
       "      <td>NaN</td>\n",
       "      <td>2020-01호</td>\n",
       "      <td>NaN</td>\n",
       "      <td>NaN</td>\n",
       "      <td>NaN</td>\n",
       "      <td>1-3-2020-Z024643-000001</td>\n",
       "      <td>NaN</td>\n",
       "    </tr>\n",
       "    <tr>\n",
       "      <th>3</th>\n",
       "      <td>나라장터(G2B)</td>\n",
       "      <td>자체조달</td>\n",
       "      <td>NaN</td>\n",
       "      <td>20200357032</td>\n",
       "      <td>0</td>\n",
       "      <td>2020-03-31</td>\n",
       "      <td>전남도립대학교 Microsoft OVS-ES 연간 라이선스 구입</td>\n",
       "      <td>전라남도</td>\n",
       "      <td>6460000</td>\n",
       "      <td>전라남도</td>\n",
       "      <td>...</td>\n",
       "      <td>NaN</td>\n",
       "      <td>NaN</td>\n",
       "      <td>NaN</td>\n",
       "      <td>NaN</td>\n",
       "      <td>전라남도 공고 제2020-520호</td>\n",
       "      <td>NaN</td>\n",
       "      <td>NaN</td>\n",
       "      <td>NaN</td>\n",
       "      <td>1-3-2020-6460000-000409</td>\n",
       "      <td>NaN</td>\n",
       "    </tr>\n",
       "    <tr>\n",
       "      <th>4</th>\n",
       "      <td>나라장터(G2B)</td>\n",
       "      <td>자체조달</td>\n",
       "      <td>NaN</td>\n",
       "      <td>20200356296</td>\n",
       "      <td>1</td>\n",
       "      <td>2020-03-31</td>\n",
       "      <td>축산물이력제 DNA동일성 검사 초자 구매</td>\n",
       "      <td>축산물품질평가원</td>\n",
       "      <td>Z001419</td>\n",
       "      <td>축산물품질평가원</td>\n",
       "      <td>...</td>\n",
       "      <td>NaN</td>\n",
       "      <td>NaN</td>\n",
       "      <td>NaN</td>\n",
       "      <td>NaN</td>\n",
       "      <td>유전자분석처</td>\n",
       "      <td>NaN</td>\n",
       "      <td>851366.0</td>\n",
       "      <td>NaN</td>\n",
       "      <td>1-3-2020-Z001419-000003</td>\n",
       "      <td>NaN</td>\n",
       "    </tr>\n",
       "  </tbody>\n",
       "</table>\n",
       "<p>5 rows × 55 columns</p>\n",
       "</div>"
      ],
      "text/plain": [
       "        등록유형  조달구분 공고시스템명       입찰공고번호  입찰공고차수     공고게시일자  \\\n",
       "0  나라장터(G2B)  자체조달    NaN  20200357516       0 2020-03-31   \n",
       "1  나라장터(G2B)  자체조달    NaN  20200357490       0 2020-03-31   \n",
       "2  나라장터(G2B)  자체조달    NaN  20200356954       0 2020-03-31   \n",
       "3  나라장터(G2B)  자체조달    NaN  20200357032       0 2020-03-31   \n",
       "4  나라장터(G2B)  자체조달    NaN  20200356296       1 2020-03-31   \n",
       "\n",
       "                                            공고명            공고기관명   공고기관코드  \\\n",
       "0                   2020년 조사료 생산용 기계장비 지원/원형결속기  경상남도 산청군 농업기술센터  5450023   \n",
       "1                  2020년 북구 건강관리과 모자보건사업 의약품 구입   경상북도 포항시 북구보건소  5020056   \n",
       "2  부평구육아종합지원센터 도담도담장난감월드 열우물경기장점 장난감,도서,영상자료 구입     부평구 육아종합지원센터  Z024643   \n",
       "3           전남도립대학교 Microsoft OVS-ES 연간 라이선스 구입             전라남도  6460000   \n",
       "4                        축산물이력제 DNA동일성 검사 초자 구매         축산물품질평가원  Z001419   \n",
       "\n",
       "            실수요기관명  ... 정보화사업여부 기술평가대행여부 SW분리발주대상구분 SW분리발주적용구분  \\\n",
       "0  경상남도 산청군 농업기술센터  ...     NaN      NaN        NaN        NaN   \n",
       "1   경상북도 포항시 북구보건소  ...     NaN      NaN        NaN        NaN   \n",
       "2     부평구 육아종합지원센터  ...     NaN      NaN        NaN        NaN   \n",
       "3             전라남도  ...     NaN      NaN        NaN        NaN   \n",
       "4         축산물품질평가원  ...     NaN      NaN        NaN        NaN   \n",
       "\n",
       "                       참조번호 이전입찰공고번호  사전규격등록번호  조달요청번호  \\\n",
       "0  산청군농업기술센터 입찰공고 제2020-30호      NaN  848252.0     NaN   \n",
       "1    포항시 북구보건소 공고 제2020-28호      NaN       NaN     NaN   \n",
       "2                  2020-01호      NaN       NaN     NaN   \n",
       "3        전라남도 공고 제2020-520호      NaN       NaN     NaN   \n",
       "4                    유전자분석처      NaN  851366.0     NaN   \n",
       "\n",
       "                  발주계획통합번호 규격검토일자  \n",
       "0  1-3-2020-5450023-000005    NaN  \n",
       "1                      NaN    NaN  \n",
       "2  1-3-2020-Z024643-000001    NaN  \n",
       "3  1-3-2020-6460000-000409    NaN  \n",
       "4  1-3-2020-Z001419-000003    NaN  \n",
       "\n",
       "[5 rows x 55 columns]"
      ]
     },
     "execution_count": 245,
     "metadata": {},
     "output_type": "execute_result"
    }
   ],
   "source": [
    "df_물품_입찰공고_내역_2.head()"
   ]
  },
  {
   "cell_type": "code",
   "execution_count": 246,
   "metadata": {},
   "outputs": [],
   "source": [
    "df_물품_입찰공고_내역_new = df_물품_입찰공고_내역_2[ [ '등록유형', '조달구분','입찰공고번호', '입찰공고차수',  '수요기관명', '수요기관코드', '수요기관구분', '품명내용',\n",
    "       '세부품명내용', '합계수량', '합계금액', '납품기한', '긴급공고여부', '정정공고여부', '취소공고여부', '추정가격',\n",
    "       '배정예산',  '재입찰허용여부',\n",
    "       '조달요청번호']].copy()"
   ]
  },
  {
   "cell_type": "code",
   "execution_count": 247,
   "metadata": {},
   "outputs": [],
   "source": [
    "df_물품_입찰공고_내역_new['수요기관코드'] = df_물품_입찰공고_내역_new['수요기관코드'].astype('str')"
   ]
  },
  {
   "cell_type": "code",
   "execution_count": 248,
   "metadata": {},
   "outputs": [
    {
     "data": {
      "text/html": [
       "<div>\n",
       "<style scoped>\n",
       "    .dataframe tbody tr th:only-of-type {\n",
       "        vertical-align: middle;\n",
       "    }\n",
       "\n",
       "    .dataframe tbody tr th {\n",
       "        vertical-align: top;\n",
       "    }\n",
       "\n",
       "    .dataframe thead th {\n",
       "        text-align: right;\n",
       "    }\n",
       "</style>\n",
       "<table border=\"1\" class=\"dataframe\">\n",
       "  <thead>\n",
       "    <tr style=\"text-align: right;\">\n",
       "      <th></th>\n",
       "      <th>등록유형</th>\n",
       "      <th>조달구분</th>\n",
       "      <th>입찰공고번호</th>\n",
       "      <th>입찰공고차수</th>\n",
       "      <th>수요기관명</th>\n",
       "      <th>수요기관코드</th>\n",
       "      <th>수요기관구분</th>\n",
       "      <th>품명내용</th>\n",
       "      <th>세부품명내용</th>\n",
       "      <th>합계수량</th>\n",
       "      <th>합계금액</th>\n",
       "      <th>납품기한</th>\n",
       "      <th>긴급공고여부</th>\n",
       "      <th>정정공고여부</th>\n",
       "      <th>취소공고여부</th>\n",
       "      <th>추정가격</th>\n",
       "      <th>배정예산</th>\n",
       "      <th>재입찰허용여부</th>\n",
       "      <th>조달요청번호</th>\n",
       "    </tr>\n",
       "  </thead>\n",
       "  <tbody>\n",
       "    <tr>\n",
       "      <th>0</th>\n",
       "      <td>나라장터(G2B)</td>\n",
       "      <td>자체조달</td>\n",
       "      <td>20200357516</td>\n",
       "      <td>0</td>\n",
       "      <td>경상남도 산청군 농업기술센터</td>\n",
       "      <td>5450023</td>\n",
       "      <td>지자체</td>\n",
       "      <td>목초결속기[21101709]</td>\n",
       "      <td>목초결속기[2110170901]</td>\n",
       "      <td>1.0</td>\n",
       "      <td>NaN</td>\n",
       "      <td>NaN</td>\n",
       "      <td>Y</td>\n",
       "      <td>N</td>\n",
       "      <td>N</td>\n",
       "      <td>157500000.0</td>\n",
       "      <td>157500000.0</td>\n",
       "      <td>Y</td>\n",
       "      <td>NaN</td>\n",
       "    </tr>\n",
       "    <tr>\n",
       "      <th>1</th>\n",
       "      <td>나라장터(G2B)</td>\n",
       "      <td>자체조달</td>\n",
       "      <td>20200357490</td>\n",
       "      <td>0</td>\n",
       "      <td>경상북도 포항시 북구보건소</td>\n",
       "      <td>5020056</td>\n",
       "      <td>지자체</td>\n",
       "      <td>기타개개기관용의약품[51270701]</td>\n",
       "      <td>기타의개개의기관용의약품[5127070101]</td>\n",
       "      <td>1.0</td>\n",
       "      <td>NaN</td>\n",
       "      <td>NaN</td>\n",
       "      <td>N</td>\n",
       "      <td>N</td>\n",
       "      <td>N</td>\n",
       "      <td>25008000.0</td>\n",
       "      <td>27508800.0</td>\n",
       "      <td>N</td>\n",
       "      <td>NaN</td>\n",
       "    </tr>\n",
       "    <tr>\n",
       "      <th>2</th>\n",
       "      <td>나라장터(G2B)</td>\n",
       "      <td>자체조달</td>\n",
       "      <td>20200356954</td>\n",
       "      <td>0</td>\n",
       "      <td>부평구 육아종합지원센터</td>\n",
       "      <td>Z024643</td>\n",
       "      <td>기타기관</td>\n",
       "      <td>운송놀이장난감[60141010]</td>\n",
       "      <td>운송놀이장난감[6014101001]</td>\n",
       "      <td>3366.0</td>\n",
       "      <td>NaN</td>\n",
       "      <td>NaN</td>\n",
       "      <td>N</td>\n",
       "      <td>N</td>\n",
       "      <td>N</td>\n",
       "      <td>138181818.0</td>\n",
       "      <td>152000000.0</td>\n",
       "      <td>Y</td>\n",
       "      <td>NaN</td>\n",
       "    </tr>\n",
       "    <tr>\n",
       "      <th>3</th>\n",
       "      <td>나라장터(G2B)</td>\n",
       "      <td>자체조달</td>\n",
       "      <td>20200357032</td>\n",
       "      <td>0</td>\n",
       "      <td>전라남도</td>\n",
       "      <td>6460000</td>\n",
       "      <td>지자체</td>\n",
       "      <td>수업보조용소프트웨어[43233599]</td>\n",
       "      <td>수업보조용소프트웨어[4323359901]</td>\n",
       "      <td>1.0</td>\n",
       "      <td>NaN</td>\n",
       "      <td>NaN</td>\n",
       "      <td>N</td>\n",
       "      <td>N</td>\n",
       "      <td>N</td>\n",
       "      <td>19909090.0</td>\n",
       "      <td>21900000.0</td>\n",
       "      <td>N</td>\n",
       "      <td>NaN</td>\n",
       "    </tr>\n",
       "    <tr>\n",
       "      <th>4</th>\n",
       "      <td>나라장터(G2B)</td>\n",
       "      <td>자체조달</td>\n",
       "      <td>20200356296</td>\n",
       "      <td>1</td>\n",
       "      <td>축산물품질평가원</td>\n",
       "      <td>Z001419</td>\n",
       "      <td>준정부기관</td>\n",
       "      <td>수동식단채널공기치환형피페터[41121504]</td>\n",
       "      <td>피펫팅머신[4112150401]</td>\n",
       "      <td>1.0</td>\n",
       "      <td>NaN</td>\n",
       "      <td>NaN</td>\n",
       "      <td>N</td>\n",
       "      <td>N</td>\n",
       "      <td>Y</td>\n",
       "      <td>358760909.0</td>\n",
       "      <td>394637000.0</td>\n",
       "      <td>Y</td>\n",
       "      <td>NaN</td>\n",
       "    </tr>\n",
       "  </tbody>\n",
       "</table>\n",
       "</div>"
      ],
      "text/plain": [
       "        등록유형  조달구분       입찰공고번호  입찰공고차수            수요기관명   수요기관코드 수요기관구분  \\\n",
       "0  나라장터(G2B)  자체조달  20200357516       0  경상남도 산청군 농업기술센터  5450023    지자체   \n",
       "1  나라장터(G2B)  자체조달  20200357490       0   경상북도 포항시 북구보건소  5020056    지자체   \n",
       "2  나라장터(G2B)  자체조달  20200356954       0     부평구 육아종합지원센터  Z024643   기타기관   \n",
       "3  나라장터(G2B)  자체조달  20200357032       0             전라남도  6460000    지자체   \n",
       "4  나라장터(G2B)  자체조달  20200356296       1         축산물품질평가원  Z001419  준정부기관   \n",
       "\n",
       "                       품명내용                    세부품명내용    합계수량  합계금액 납품기한  \\\n",
       "0           목초결속기[21101709]         목초결속기[2110170901]     1.0   NaN  NaN   \n",
       "1      기타개개기관용의약품[51270701]  기타의개개의기관용의약품[5127070101]     1.0   NaN  NaN   \n",
       "2         운송놀이장난감[60141010]       운송놀이장난감[6014101001]  3366.0   NaN  NaN   \n",
       "3      수업보조용소프트웨어[43233599]    수업보조용소프트웨어[4323359901]     1.0   NaN  NaN   \n",
       "4  수동식단채널공기치환형피페터[41121504]         피펫팅머신[4112150401]     1.0   NaN  NaN   \n",
       "\n",
       "  긴급공고여부 정정공고여부 취소공고여부         추정가격         배정예산 재입찰허용여부 조달요청번호  \n",
       "0      Y      N      N  157500000.0  157500000.0       Y    NaN  \n",
       "1      N      N      N   25008000.0   27508800.0       N    NaN  \n",
       "2      N      N      N  138181818.0  152000000.0       Y    NaN  \n",
       "3      N      N      N   19909090.0   21900000.0       N    NaN  \n",
       "4      N      N      Y  358760909.0  394637000.0       Y    NaN  "
      ]
     },
     "execution_count": 248,
     "metadata": {},
     "output_type": "execute_result"
    }
   ],
   "source": [
    "df_물품_입찰공고_내역_new.head()"
   ]
  },
  {
   "cell_type": "code",
   "execution_count": 249,
   "metadata": {},
   "outputs": [],
   "source": [
    "df_기관 = df_물품_입찰공고_내역_new.loc[df_물품_입찰공고_내역_new['수요기관코드'] == 'B500001'].copy()"
   ]
  },
  {
   "cell_type": "code",
   "execution_count": 250,
   "metadata": {},
   "outputs": [
    {
     "data": {
      "text/plain": [
       "(229, 19)"
      ]
     },
     "execution_count": 250,
     "metadata": {},
     "output_type": "execute_result"
    }
   ],
   "source": [
    "df_기관[df_기관['추정가격'] == 0].shape"
   ]
  },
  {
   "cell_type": "code",
   "execution_count": 251,
   "metadata": {},
   "outputs": [
    {
     "data": {
      "text/plain": [
       "등록유형         0\n",
       "조달구분         0\n",
       "입찰공고번호       0\n",
       "입찰공고차수       0\n",
       "수요기관명        0\n",
       "수요기관코드       0\n",
       "수요기관구분     229\n",
       "품명내용       229\n",
       "세부품명내용     229\n",
       "합계수량       229\n",
       "합계금액       229\n",
       "납품기한       229\n",
       "긴급공고여부       0\n",
       "정정공고여부       0\n",
       "취소공고여부       0\n",
       "추정가격         0\n",
       "배정예산       229\n",
       "재입찰허용여부      0\n",
       "조달요청번호     229\n",
       "dtype: int64"
      ]
     },
     "execution_count": 251,
     "metadata": {},
     "output_type": "execute_result"
    }
   ],
   "source": [
    "df_기관[df_기관['추정가격'] == 0].isnull().sum() #  추정금액이 정해지지 않은 것은 아예 품명자체가 정해지지 않은 것으로 볼 수 있으므로 빼기로 하자."
   ]
  },
  {
   "cell_type": "code",
   "execution_count": 252,
   "metadata": {},
   "outputs": [],
   "source": [
    "df_기관_2 = df_기관[df_기관['추정가격'] != 0].copy()"
   ]
  },
  {
   "cell_type": "code",
   "execution_count": 253,
   "metadata": {},
   "outputs": [
    {
     "data": {
      "text/html": [
       "<div>\n",
       "<style scoped>\n",
       "    .dataframe tbody tr th:only-of-type {\n",
       "        vertical-align: middle;\n",
       "    }\n",
       "\n",
       "    .dataframe tbody tr th {\n",
       "        vertical-align: top;\n",
       "    }\n",
       "\n",
       "    .dataframe thead th {\n",
       "        text-align: right;\n",
       "    }\n",
       "</style>\n",
       "<table border=\"1\" class=\"dataframe\">\n",
       "  <thead>\n",
       "    <tr style=\"text-align: right;\">\n",
       "      <th></th>\n",
       "      <th>등록유형</th>\n",
       "      <th>조달구분</th>\n",
       "      <th>입찰공고번호</th>\n",
       "      <th>입찰공고차수</th>\n",
       "      <th>수요기관명</th>\n",
       "      <th>수요기관코드</th>\n",
       "      <th>수요기관구분</th>\n",
       "      <th>품명내용</th>\n",
       "      <th>세부품명내용</th>\n",
       "      <th>합계수량</th>\n",
       "      <th>합계금액</th>\n",
       "      <th>납품기한</th>\n",
       "      <th>긴급공고여부</th>\n",
       "      <th>정정공고여부</th>\n",
       "      <th>취소공고여부</th>\n",
       "      <th>추정가격</th>\n",
       "      <th>배정예산</th>\n",
       "      <th>재입찰허용여부</th>\n",
       "      <th>조달요청번호</th>\n",
       "    </tr>\n",
       "  </thead>\n",
       "  <tbody>\n",
       "    <tr>\n",
       "      <th>1532</th>\n",
       "      <td>나라장터(G2B)</td>\n",
       "      <td>중앙조달</td>\n",
       "      <td>20200327747</td>\n",
       "      <td>0</td>\n",
       "      <td>한국수자원공사</td>\n",
       "      <td>B500001</td>\n",
       "      <td>공기업</td>\n",
       "      <td>레미콘[30111505]</td>\n",
       "      <td>레미콘[3011150501]</td>\n",
       "      <td>1.0</td>\n",
       "      <td>3.230722e+08</td>\n",
       "      <td>계약 후 365일 이내</td>\n",
       "      <td>NaN</td>\n",
       "      <td>N</td>\n",
       "      <td>N</td>\n",
       "      <td>2.937020e+08</td>\n",
       "      <td>3.258375e+08</td>\n",
       "      <td>Y</td>\n",
       "      <td>3320307660.0</td>\n",
       "    </tr>\n",
       "    <tr>\n",
       "      <th>7148</th>\n",
       "      <td>나라장터(G2B)</td>\n",
       "      <td>중앙조달</td>\n",
       "      <td>20200101219</td>\n",
       "      <td>0</td>\n",
       "      <td>한국수자원공사</td>\n",
       "      <td>B500001</td>\n",
       "      <td>공기업</td>\n",
       "      <td>피복강관이음[40142384]</td>\n",
       "      <td>폴리에틸렌피복강관이음관[4014238401]</td>\n",
       "      <td>1.0</td>\n",
       "      <td>5.027330e+08</td>\n",
       "      <td>계약 후 365일 이내</td>\n",
       "      <td>NaN</td>\n",
       "      <td>N</td>\n",
       "      <td>N</td>\n",
       "      <td>4.570300e+08</td>\n",
       "      <td>5.068638e+08</td>\n",
       "      <td>Y</td>\n",
       "      <td>3319372151.0</td>\n",
       "    </tr>\n",
       "    <tr>\n",
       "      <th>7149</th>\n",
       "      <td>나라장터(G2B)</td>\n",
       "      <td>중앙조달</td>\n",
       "      <td>20200101298</td>\n",
       "      <td>0</td>\n",
       "      <td>한국수자원공사</td>\n",
       "      <td>B500001</td>\n",
       "      <td>공기업</td>\n",
       "      <td>피복강관이음[40142384]</td>\n",
       "      <td>폴리에틸렌피복강관이음관[4014238401]</td>\n",
       "      <td>1.0</td>\n",
       "      <td>3.840320e+08</td>\n",
       "      <td>계약 후 365일 이내</td>\n",
       "      <td>NaN</td>\n",
       "      <td>N</td>\n",
       "      <td>N</td>\n",
       "      <td>3.491200e+08</td>\n",
       "      <td>3.872606e+08</td>\n",
       "      <td>Y</td>\n",
       "      <td>3319372379.0</td>\n",
       "    </tr>\n",
       "    <tr>\n",
       "      <th>9372</th>\n",
       "      <td>나라장터(G2B)</td>\n",
       "      <td>중앙조달</td>\n",
       "      <td>20200300590</td>\n",
       "      <td>0</td>\n",
       "      <td>한국수자원공사</td>\n",
       "      <td>B500001</td>\n",
       "      <td>공기업</td>\n",
       "      <td>탈수및배수장치[47101525]</td>\n",
       "      <td>벨트프레스탈수기[4710152501]</td>\n",
       "      <td>1.0</td>\n",
       "      <td>6.195200e+08</td>\n",
       "      <td>계약 후 180일 이내</td>\n",
       "      <td>NaN</td>\n",
       "      <td>N</td>\n",
       "      <td>N</td>\n",
       "      <td>5.632000e+08</td>\n",
       "      <td>6.245384e+08</td>\n",
       "      <td>Y</td>\n",
       "      <td>2420309763.0</td>\n",
       "    </tr>\n",
       "    <tr>\n",
       "      <th>11709</th>\n",
       "      <td>나라장터(G2B)</td>\n",
       "      <td>중앙조달</td>\n",
       "      <td>20200217076</td>\n",
       "      <td>0</td>\n",
       "      <td>한국수자원공사</td>\n",
       "      <td>B500001</td>\n",
       "      <td>공기업</td>\n",
       "      <td>피복강관이음[40142384]</td>\n",
       "      <td>폴리에틸렌피복강관이음관[4014238401]</td>\n",
       "      <td>1.0</td>\n",
       "      <td>4.164523e+08</td>\n",
       "      <td>계약 후 365일 이내</td>\n",
       "      <td>NaN</td>\n",
       "      <td>N</td>\n",
       "      <td>N</td>\n",
       "      <td>3.785930e+08</td>\n",
       "      <td>4.199273e+08</td>\n",
       "      <td>Y</td>\n",
       "      <td>3320305714.0</td>\n",
       "    </tr>\n",
       "    <tr>\n",
       "      <th>...</th>\n",
       "      <td>...</td>\n",
       "      <td>...</td>\n",
       "      <td>...</td>\n",
       "      <td>...</td>\n",
       "      <td>...</td>\n",
       "      <td>...</td>\n",
       "      <td>...</td>\n",
       "      <td>...</td>\n",
       "      <td>...</td>\n",
       "      <td>...</td>\n",
       "      <td>...</td>\n",
       "      <td>...</td>\n",
       "      <td>...</td>\n",
       "      <td>...</td>\n",
       "      <td>...</td>\n",
       "      <td>...</td>\n",
       "      <td>...</td>\n",
       "      <td>...</td>\n",
       "      <td>...</td>\n",
       "    </tr>\n",
       "    <tr>\n",
       "      <th>110104</th>\n",
       "      <td>나라장터(G2B)</td>\n",
       "      <td>중앙조달</td>\n",
       "      <td>20171001418</td>\n",
       "      <td>0</td>\n",
       "      <td>한국수자원공사</td>\n",
       "      <td>B500001</td>\n",
       "      <td>공기업</td>\n",
       "      <td>배전반[39121103]</td>\n",
       "      <td>폐쇄형배전반[3912110301]</td>\n",
       "      <td>1.0</td>\n",
       "      <td>8.739500e+08</td>\n",
       "      <td>계약 후 480일 이내</td>\n",
       "      <td>NaN</td>\n",
       "      <td>N</td>\n",
       "      <td>N</td>\n",
       "      <td>7.945000e+08</td>\n",
       "      <td>8.805544e+08</td>\n",
       "      <td>Y</td>\n",
       "      <td>17302514.0</td>\n",
       "    </tr>\n",
       "    <tr>\n",
       "      <th>113649</th>\n",
       "      <td>나라장터(G2B)</td>\n",
       "      <td>자체조달</td>\n",
       "      <td>20171119989</td>\n",
       "      <td>0</td>\n",
       "      <td>한국수자원공사</td>\n",
       "      <td>B500001</td>\n",
       "      <td>공기업</td>\n",
       "      <td>계장제어장치[39121189]</td>\n",
       "      <td>계장제어장치[3912118901]</td>\n",
       "      <td>1.0</td>\n",
       "      <td>NaN</td>\n",
       "      <td>NaN</td>\n",
       "      <td>N</td>\n",
       "      <td>N</td>\n",
       "      <td>N</td>\n",
       "      <td>8.250000e+07</td>\n",
       "      <td>9.075000e+07</td>\n",
       "      <td>Y</td>\n",
       "      <td>NaN</td>\n",
       "    </tr>\n",
       "    <tr>\n",
       "      <th>114183</th>\n",
       "      <td>나라장터(G2B)</td>\n",
       "      <td>중앙조달</td>\n",
       "      <td>20171112711</td>\n",
       "      <td>0</td>\n",
       "      <td>한국수자원공사</td>\n",
       "      <td>B500001</td>\n",
       "      <td>공기업</td>\n",
       "      <td>피복강관[40142189]</td>\n",
       "      <td>폴리에틸렌피복강관[4014218902]</td>\n",
       "      <td>1.0</td>\n",
       "      <td>1.989680e+09</td>\n",
       "      <td>계약 후 365일 이내</td>\n",
       "      <td>NaN</td>\n",
       "      <td>N</td>\n",
       "      <td>N</td>\n",
       "      <td>1.808800e+09</td>\n",
       "      <td>2.000024e+09</td>\n",
       "      <td>Y</td>\n",
       "      <td>2517395925.0</td>\n",
       "    </tr>\n",
       "    <tr>\n",
       "      <th>114589</th>\n",
       "      <td>나라장터(G2B)</td>\n",
       "      <td>중앙조달</td>\n",
       "      <td>20171107217</td>\n",
       "      <td>0</td>\n",
       "      <td>한국수자원공사</td>\n",
       "      <td>B500001</td>\n",
       "      <td>공기업</td>\n",
       "      <td>피복강관[40142189]</td>\n",
       "      <td>폴리에틸렌피복강관[4014218902]</td>\n",
       "      <td>1.0</td>\n",
       "      <td>6.219290e+08</td>\n",
       "      <td>계약 후 365일 이내</td>\n",
       "      <td>NaN</td>\n",
       "      <td>N</td>\n",
       "      <td>N</td>\n",
       "      <td>5.653900e+08</td>\n",
       "      <td>6.260440e+08</td>\n",
       "      <td>Y</td>\n",
       "      <td>2517395920.0</td>\n",
       "    </tr>\n",
       "    <tr>\n",
       "      <th>115341</th>\n",
       "      <td>나라장터(G2B)</td>\n",
       "      <td>중앙조달</td>\n",
       "      <td>20171019894</td>\n",
       "      <td>1</td>\n",
       "      <td>한국수자원공사</td>\n",
       "      <td>B500001</td>\n",
       "      <td>공기업</td>\n",
       "      <td>구내방송장치[45111705]</td>\n",
       "      <td>구내방송장치[4511170501]</td>\n",
       "      <td>1.0</td>\n",
       "      <td>1.263900e+09</td>\n",
       "      <td>계약 후 300일 이내</td>\n",
       "      <td>NaN</td>\n",
       "      <td>Y</td>\n",
       "      <td>N</td>\n",
       "      <td>1.149000e+09</td>\n",
       "      <td>1.272618e+09</td>\n",
       "      <td>Y</td>\n",
       "      <td>17302475.0</td>\n",
       "    </tr>\n",
       "  </tbody>\n",
       "</table>\n",
       "<p>2873 rows × 19 columns</p>\n",
       "</div>"
      ],
      "text/plain": [
       "             등록유형  조달구분       입찰공고번호  입찰공고차수    수요기관명   수요기관코드 수요기관구분  \\\n",
       "1532    나라장터(G2B)  중앙조달  20200327747       0  한국수자원공사  B500001    공기업   \n",
       "7148    나라장터(G2B)  중앙조달  20200101219       0  한국수자원공사  B500001    공기업   \n",
       "7149    나라장터(G2B)  중앙조달  20200101298       0  한국수자원공사  B500001    공기업   \n",
       "9372    나라장터(G2B)  중앙조달  20200300590       0  한국수자원공사  B500001    공기업   \n",
       "11709   나라장터(G2B)  중앙조달  20200217076       0  한국수자원공사  B500001    공기업   \n",
       "...           ...   ...          ...     ...      ...      ...    ...   \n",
       "110104  나라장터(G2B)  중앙조달  20171001418       0  한국수자원공사  B500001    공기업   \n",
       "113649  나라장터(G2B)  자체조달  20171119989       0  한국수자원공사  B500001    공기업   \n",
       "114183  나라장터(G2B)  중앙조달  20171112711       0  한국수자원공사  B500001    공기업   \n",
       "114589  나라장터(G2B)  중앙조달  20171107217       0  한국수자원공사  B500001    공기업   \n",
       "115341  나라장터(G2B)  중앙조달  20171019894       1  한국수자원공사  B500001    공기업   \n",
       "\n",
       "                     품명내용                    세부품명내용  합계수량          합계금액  \\\n",
       "1532        레미콘[30111505]           레미콘[3011150501]   1.0  3.230722e+08   \n",
       "7148     피복강관이음[40142384]  폴리에틸렌피복강관이음관[4014238401]   1.0  5.027330e+08   \n",
       "7149     피복강관이음[40142384]  폴리에틸렌피복강관이음관[4014238401]   1.0  3.840320e+08   \n",
       "9372    탈수및배수장치[47101525]      벨트프레스탈수기[4710152501]   1.0  6.195200e+08   \n",
       "11709    피복강관이음[40142384]  폴리에틸렌피복강관이음관[4014238401]   1.0  4.164523e+08   \n",
       "...                   ...                       ...   ...           ...   \n",
       "110104      배전반[39121103]        폐쇄형배전반[3912110301]   1.0  8.739500e+08   \n",
       "113649   계장제어장치[39121189]        계장제어장치[3912118901]   1.0           NaN   \n",
       "114183     피복강관[40142189]     폴리에틸렌피복강관[4014218902]   1.0  1.989680e+09   \n",
       "114589     피복강관[40142189]     폴리에틸렌피복강관[4014218902]   1.0  6.219290e+08   \n",
       "115341   구내방송장치[45111705]        구내방송장치[4511170501]   1.0  1.263900e+09   \n",
       "\n",
       "                납품기한 긴급공고여부 정정공고여부 취소공고여부          추정가격          배정예산 재입찰허용여부  \\\n",
       "1532    계약 후 365일 이내    NaN      N      N  2.937020e+08  3.258375e+08       Y   \n",
       "7148    계약 후 365일 이내    NaN      N      N  4.570300e+08  5.068638e+08       Y   \n",
       "7149    계약 후 365일 이내    NaN      N      N  3.491200e+08  3.872606e+08       Y   \n",
       "9372    계약 후 180일 이내    NaN      N      N  5.632000e+08  6.245384e+08       Y   \n",
       "11709   계약 후 365일 이내    NaN      N      N  3.785930e+08  4.199273e+08       Y   \n",
       "...              ...    ...    ...    ...           ...           ...     ...   \n",
       "110104  계약 후 480일 이내    NaN      N      N  7.945000e+08  8.805544e+08       Y   \n",
       "113649           NaN      N      N      N  8.250000e+07  9.075000e+07       Y   \n",
       "114183  계약 후 365일 이내    NaN      N      N  1.808800e+09  2.000024e+09       Y   \n",
       "114589  계약 후 365일 이내    NaN      N      N  5.653900e+08  6.260440e+08       Y   \n",
       "115341  계약 후 300일 이내    NaN      Y      N  1.149000e+09  1.272618e+09       Y   \n",
       "\n",
       "              조달요청번호  \n",
       "1532    3320307660.0  \n",
       "7148    3319372151.0  \n",
       "7149    3319372379.0  \n",
       "9372    2420309763.0  \n",
       "11709   3320305714.0  \n",
       "...              ...  \n",
       "110104    17302514.0  \n",
       "113649           NaN  \n",
       "114183  2517395925.0  \n",
       "114589  2517395920.0  \n",
       "115341    17302475.0  \n",
       "\n",
       "[2873 rows x 19 columns]"
      ]
     },
     "execution_count": 253,
     "metadata": {},
     "output_type": "execute_result"
    }
   ],
   "source": [
    "df_기관_2"
   ]
  },
  {
   "cell_type": "code",
   "execution_count": 421,
   "metadata": {},
   "outputs": [],
   "source": [
    "df_물품_입찰공고_내역_3 =  pd.read_csv('Project_01_27_EDA_물품_0_1.csv',encoding='cp949').iloc[:,1:]"
   ]
  },
  {
   "cell_type": "code",
   "execution_count": 423,
   "metadata": {},
   "outputs": [
    {
     "data": {
      "text/html": [
       "<div>\n",
       "<style scoped>\n",
       "    .dataframe tbody tr th:only-of-type {\n",
       "        vertical-align: middle;\n",
       "    }\n",
       "\n",
       "    .dataframe tbody tr th {\n",
       "        vertical-align: top;\n",
       "    }\n",
       "\n",
       "    .dataframe thead th {\n",
       "        text-align: right;\n",
       "    }\n",
       "</style>\n",
       "<table border=\"1\" class=\"dataframe\">\n",
       "  <thead>\n",
       "    <tr style=\"text-align: right;\">\n",
       "      <th></th>\n",
       "      <th>공고게시일자</th>\n",
       "      <th>등록유형</th>\n",
       "      <th>조달구분</th>\n",
       "      <th>입찰공고차수</th>\n",
       "      <th>수요기관코드</th>\n",
       "      <th>세부품명내용</th>\n",
       "      <th>합계수량</th>\n",
       "      <th>합계수량_여부</th>\n",
       "      <th>긴급공고여부</th>\n",
       "      <th>정정공고여부</th>\n",
       "      <th>취소공고여부</th>\n",
       "      <th>추정가격</th>\n",
       "      <th>입찰방식</th>\n",
       "      <th>재입찰허용여부</th>\n",
       "      <th>낙찰자결정방법</th>\n",
       "      <th>입찰계약방법</th>\n",
       "      <th>업종제한내용</th>\n",
       "      <th>지역제한내용</th>\n",
       "      <th>국제입찰여부</th>\n",
       "    </tr>\n",
       "  </thead>\n",
       "  <tbody>\n",
       "    <tr>\n",
       "      <th>0</th>\n",
       "      <td>2020-03-31</td>\n",
       "      <td>나라장터(G2B)</td>\n",
       "      <td>자체조달</td>\n",
       "      <td>0</td>\n",
       "      <td>5450023</td>\n",
       "      <td>21</td>\n",
       "      <td>1.0</td>\n",
       "      <td>1</td>\n",
       "      <td>Y</td>\n",
       "      <td>N</td>\n",
       "      <td>N</td>\n",
       "      <td>157500000.0</td>\n",
       "      <td>전자입찰</td>\n",
       "      <td>Y</td>\n",
       "      <td>적격심사제</td>\n",
       "      <td>제한(총액)</td>\n",
       "      <td>Y</td>\n",
       "      <td>Y</td>\n",
       "      <td>N</td>\n",
       "    </tr>\n",
       "    <tr>\n",
       "      <th>1</th>\n",
       "      <td>2020-03-31</td>\n",
       "      <td>나라장터(G2B)</td>\n",
       "      <td>자체조달</td>\n",
       "      <td>0</td>\n",
       "      <td>5020056</td>\n",
       "      <td>51</td>\n",
       "      <td>1.0</td>\n",
       "      <td>1</td>\n",
       "      <td>N</td>\n",
       "      <td>N</td>\n",
       "      <td>N</td>\n",
       "      <td>25008000.0</td>\n",
       "      <td>전자입찰</td>\n",
       "      <td>N</td>\n",
       "      <td>제한적최저가</td>\n",
       "      <td>수의(단가)</td>\n",
       "      <td>Y</td>\n",
       "      <td>Y</td>\n",
       "      <td>N</td>\n",
       "    </tr>\n",
       "    <tr>\n",
       "      <th>2</th>\n",
       "      <td>2020-03-31</td>\n",
       "      <td>나라장터(G2B)</td>\n",
       "      <td>자체조달</td>\n",
       "      <td>0</td>\n",
       "      <td>Z024643</td>\n",
       "      <td>60</td>\n",
       "      <td>3366.0</td>\n",
       "      <td>1</td>\n",
       "      <td>N</td>\n",
       "      <td>N</td>\n",
       "      <td>N</td>\n",
       "      <td>138181818.0</td>\n",
       "      <td>전자입찰</td>\n",
       "      <td>Y</td>\n",
       "      <td>적격심사제</td>\n",
       "      <td>제한(총액)</td>\n",
       "      <td>N</td>\n",
       "      <td>Y</td>\n",
       "      <td>N</td>\n",
       "    </tr>\n",
       "    <tr>\n",
       "      <th>3</th>\n",
       "      <td>2020-03-31</td>\n",
       "      <td>나라장터(G2B)</td>\n",
       "      <td>자체조달</td>\n",
       "      <td>0</td>\n",
       "      <td>6460000</td>\n",
       "      <td>43</td>\n",
       "      <td>1.0</td>\n",
       "      <td>1</td>\n",
       "      <td>N</td>\n",
       "      <td>N</td>\n",
       "      <td>N</td>\n",
       "      <td>19909090.0</td>\n",
       "      <td>전자입찰</td>\n",
       "      <td>N</td>\n",
       "      <td>제한적최저가</td>\n",
       "      <td>수의(총액)</td>\n",
       "      <td>Y</td>\n",
       "      <td>N</td>\n",
       "      <td>N</td>\n",
       "    </tr>\n",
       "    <tr>\n",
       "      <th>4</th>\n",
       "      <td>2020-03-31</td>\n",
       "      <td>나라장터(G2B)</td>\n",
       "      <td>자체조달</td>\n",
       "      <td>1</td>\n",
       "      <td>Z001419</td>\n",
       "      <td>41</td>\n",
       "      <td>1.0</td>\n",
       "      <td>1</td>\n",
       "      <td>N</td>\n",
       "      <td>N</td>\n",
       "      <td>Y</td>\n",
       "      <td>358760909.0</td>\n",
       "      <td>전자입찰</td>\n",
       "      <td>Y</td>\n",
       "      <td>적격심사제</td>\n",
       "      <td>제한(총액)</td>\n",
       "      <td>Y</td>\n",
       "      <td>N</td>\n",
       "      <td>N</td>\n",
       "    </tr>\n",
       "    <tr>\n",
       "      <th>...</th>\n",
       "      <td>...</td>\n",
       "      <td>...</td>\n",
       "      <td>...</td>\n",
       "      <td>...</td>\n",
       "      <td>...</td>\n",
       "      <td>...</td>\n",
       "      <td>...</td>\n",
       "      <td>...</td>\n",
       "      <td>...</td>\n",
       "      <td>...</td>\n",
       "      <td>...</td>\n",
       "      <td>...</td>\n",
       "      <td>...</td>\n",
       "      <td>...</td>\n",
       "      <td>...</td>\n",
       "      <td>...</td>\n",
       "      <td>...</td>\n",
       "      <td>...</td>\n",
       "      <td>...</td>\n",
       "    </tr>\n",
       "    <tr>\n",
       "      <th>452055</th>\n",
       "      <td>2017-12-27</td>\n",
       "      <td>자체전자조달시스템</td>\n",
       "      <td>자체조달</td>\n",
       "      <td>0</td>\n",
       "      <td>B500001</td>\n",
       "      <td>0</td>\n",
       "      <td>0.0</td>\n",
       "      <td>0</td>\n",
       "      <td>N</td>\n",
       "      <td>N</td>\n",
       "      <td>N</td>\n",
       "      <td>0.0</td>\n",
       "      <td>전자입찰</td>\n",
       "      <td>N</td>\n",
       "      <td>적격심사제</td>\n",
       "      <td>지명(총액)</td>\n",
       "      <td>N</td>\n",
       "      <td>N</td>\n",
       "      <td>N</td>\n",
       "    </tr>\n",
       "    <tr>\n",
       "      <th>452056</th>\n",
       "      <td>2017-12-27</td>\n",
       "      <td>자체전자조달시스템</td>\n",
       "      <td>자체조달</td>\n",
       "      <td>0</td>\n",
       "      <td>B500004</td>\n",
       "      <td>0</td>\n",
       "      <td>0.0</td>\n",
       "      <td>0</td>\n",
       "      <td>N</td>\n",
       "      <td>N</td>\n",
       "      <td>N</td>\n",
       "      <td>0.0</td>\n",
       "      <td>전자입찰</td>\n",
       "      <td>N</td>\n",
       "      <td>희망수량경쟁입찰</td>\n",
       "      <td>일반(단가)</td>\n",
       "      <td>N</td>\n",
       "      <td>N</td>\n",
       "      <td>N</td>\n",
       "    </tr>\n",
       "    <tr>\n",
       "      <th>452057</th>\n",
       "      <td>2017-12-27</td>\n",
       "      <td>자체전자조달시스템</td>\n",
       "      <td>자체조달</td>\n",
       "      <td>0</td>\n",
       "      <td>B500004</td>\n",
       "      <td>0</td>\n",
       "      <td>0.0</td>\n",
       "      <td>0</td>\n",
       "      <td>N</td>\n",
       "      <td>N</td>\n",
       "      <td>N</td>\n",
       "      <td>0.0</td>\n",
       "      <td>전자입찰</td>\n",
       "      <td>N</td>\n",
       "      <td>희망수량경쟁입찰</td>\n",
       "      <td>제한(단가)</td>\n",
       "      <td>N</td>\n",
       "      <td>N</td>\n",
       "      <td>N</td>\n",
       "    </tr>\n",
       "    <tr>\n",
       "      <th>452058</th>\n",
       "      <td>2017-12-28</td>\n",
       "      <td>자체전자조달시스템</td>\n",
       "      <td>자체조달</td>\n",
       "      <td>0</td>\n",
       "      <td>B500001</td>\n",
       "      <td>0</td>\n",
       "      <td>0.0</td>\n",
       "      <td>0</td>\n",
       "      <td>N</td>\n",
       "      <td>N</td>\n",
       "      <td>N</td>\n",
       "      <td>0.0</td>\n",
       "      <td>전자입찰</td>\n",
       "      <td>N</td>\n",
       "      <td>적격심사제</td>\n",
       "      <td>제한(총액)</td>\n",
       "      <td>N</td>\n",
       "      <td>N</td>\n",
       "      <td>N</td>\n",
       "    </tr>\n",
       "    <tr>\n",
       "      <th>452059</th>\n",
       "      <td>2017-12-29</td>\n",
       "      <td>자체전자조달시스템</td>\n",
       "      <td>자체조달</td>\n",
       "      <td>0</td>\n",
       "      <td>B500004</td>\n",
       "      <td>0</td>\n",
       "      <td>0.0</td>\n",
       "      <td>0</td>\n",
       "      <td>N</td>\n",
       "      <td>N</td>\n",
       "      <td>N</td>\n",
       "      <td>0.0</td>\n",
       "      <td>전자입찰</td>\n",
       "      <td>N</td>\n",
       "      <td>희망수량경쟁입찰</td>\n",
       "      <td>제한(단가)</td>\n",
       "      <td>N</td>\n",
       "      <td>N</td>\n",
       "      <td>N</td>\n",
       "    </tr>\n",
       "  </tbody>\n",
       "</table>\n",
       "<p>452060 rows × 19 columns</p>\n",
       "</div>"
      ],
      "text/plain": [
       "            공고게시일자       등록유형  조달구분  입찰공고차수   수요기관코드  세부품명내용    합계수량  합계수량_여부  \\\n",
       "0       2020-03-31  나라장터(G2B)  자체조달       0  5450023      21     1.0        1   \n",
       "1       2020-03-31  나라장터(G2B)  자체조달       0  5020056      51     1.0        1   \n",
       "2       2020-03-31  나라장터(G2B)  자체조달       0  Z024643      60  3366.0        1   \n",
       "3       2020-03-31  나라장터(G2B)  자체조달       0  6460000      43     1.0        1   \n",
       "4       2020-03-31  나라장터(G2B)  자체조달       1  Z001419      41     1.0        1   \n",
       "...            ...        ...   ...     ...      ...     ...     ...      ...   \n",
       "452055  2017-12-27  자체전자조달시스템  자체조달       0  B500001       0     0.0        0   \n",
       "452056  2017-12-27  자체전자조달시스템  자체조달       0  B500004       0     0.0        0   \n",
       "452057  2017-12-27  자체전자조달시스템  자체조달       0  B500004       0     0.0        0   \n",
       "452058  2017-12-28  자체전자조달시스템  자체조달       0  B500001       0     0.0        0   \n",
       "452059  2017-12-29  자체전자조달시스템  자체조달       0  B500004       0     0.0        0   \n",
       "\n",
       "       긴급공고여부 정정공고여부 취소공고여부         추정가격  입찰방식 재입찰허용여부   낙찰자결정방법  입찰계약방법  \\\n",
       "0           Y      N      N  157500000.0  전자입찰       Y     적격심사제  제한(총액)   \n",
       "1           N      N      N   25008000.0  전자입찰       N    제한적최저가  수의(단가)   \n",
       "2           N      N      N  138181818.0  전자입찰       Y     적격심사제  제한(총액)   \n",
       "3           N      N      N   19909090.0  전자입찰       N    제한적최저가  수의(총액)   \n",
       "4           N      N      Y  358760909.0  전자입찰       Y     적격심사제  제한(총액)   \n",
       "...       ...    ...    ...          ...   ...     ...       ...     ...   \n",
       "452055      N      N      N          0.0  전자입찰       N     적격심사제  지명(총액)   \n",
       "452056      N      N      N          0.0  전자입찰       N  희망수량경쟁입찰  일반(단가)   \n",
       "452057      N      N      N          0.0  전자입찰       N  희망수량경쟁입찰  제한(단가)   \n",
       "452058      N      N      N          0.0  전자입찰       N     적격심사제  제한(총액)   \n",
       "452059      N      N      N          0.0  전자입찰       N  희망수량경쟁입찰  제한(단가)   \n",
       "\n",
       "       업종제한내용 지역제한내용 국제입찰여부  \n",
       "0           Y      Y      N  \n",
       "1           Y      Y      N  \n",
       "2           N      Y      N  \n",
       "3           Y      N      N  \n",
       "4           Y      N      N  \n",
       "...       ...    ...    ...  \n",
       "452055      N      N      N  \n",
       "452056      N      N      N  \n",
       "452057      N      N      N  \n",
       "452058      N      N      N  \n",
       "452059      N      N      N  \n",
       "\n",
       "[452060 rows x 19 columns]"
      ]
     },
     "execution_count": 423,
     "metadata": {},
     "output_type": "execute_result"
    }
   ],
   "source": [
    "df_물품_입찰공고_내역_3"
   ]
  },
  {
   "cell_type": "code",
   "execution_count": 424,
   "metadata": {},
   "outputs": [],
   "source": [
    "df_B5 = df_물품_입찰공고_내역_3[df_물품_입찰공고_내역_3['수요기관코드'] =='B500001' ].copy()"
   ]
  },
  {
   "cell_type": "code",
   "execution_count": 425,
   "metadata": {},
   "outputs": [],
   "source": [
    "df_B5_2 = df_B5[df_B5['추정가격'] != 0].copy()"
   ]
  },
  {
   "cell_type": "code",
   "execution_count": 426,
   "metadata": {},
   "outputs": [],
   "source": [
    "df_B5_2_groupby = df_B5_2.groupby('등록유형').mean()[['추정가격']].T.copy()"
   ]
  },
  {
   "cell_type": "code",
   "execution_count": 427,
   "metadata": {},
   "outputs": [
    {
     "data": {
      "application/vnd.plotly.v1+json": {
       "config": {
        "linkText": "Export to plot.ly",
        "plotlyServerURL": "https://plot.ly",
        "showLink": true
       },
       "data": [
        {
         "marker": {
          "color": "rgba(255, 153, 51, 0.6)",
          "line": {
           "color": "rgba(255, 153, 51, 1.0)",
           "width": 1
          }
         },
         "name": "나라장터(G2B)",
         "orientation": "v",
         "text": "",
         "type": "bar",
         "x": [
          "추정가격"
         ],
         "y": [
          679263018.3073771
         ]
        },
        {
         "marker": {
          "color": "rgba(55, 128, 191, 0.6)",
          "line": {
           "color": "rgba(55, 128, 191, 1.0)",
           "width": 1
          }
         },
         "name": "자체전자조달시스템",
         "orientation": "v",
         "text": "",
         "type": "bar",
         "x": [
          "추정가격"
         ],
         "y": [
          209624758.6458492
         ]
        }
       ],
       "layout": {
        "legend": {
         "bgcolor": "#F5F6F9",
         "font": {
          "color": "#4D5663"
         }
        },
        "paper_bgcolor": "#F5F6F9",
        "plot_bgcolor": "#F5F6F9",
        "template": {
         "data": {
          "bar": [
           {
            "error_x": {
             "color": "#2a3f5f"
            },
            "error_y": {
             "color": "#2a3f5f"
            },
            "marker": {
             "line": {
              "color": "#E5ECF6",
              "width": 0.5
             },
             "pattern": {
              "fillmode": "overlay",
              "size": 10,
              "solidity": 0.2
             }
            },
            "type": "bar"
           }
          ],
          "barpolar": [
           {
            "marker": {
             "line": {
              "color": "#E5ECF6",
              "width": 0.5
             },
             "pattern": {
              "fillmode": "overlay",
              "size": 10,
              "solidity": 0.2
             }
            },
            "type": "barpolar"
           }
          ],
          "carpet": [
           {
            "aaxis": {
             "endlinecolor": "#2a3f5f",
             "gridcolor": "white",
             "linecolor": "white",
             "minorgridcolor": "white",
             "startlinecolor": "#2a3f5f"
            },
            "baxis": {
             "endlinecolor": "#2a3f5f",
             "gridcolor": "white",
             "linecolor": "white",
             "minorgridcolor": "white",
             "startlinecolor": "#2a3f5f"
            },
            "type": "carpet"
           }
          ],
          "choropleth": [
           {
            "colorbar": {
             "outlinewidth": 0,
             "ticks": ""
            },
            "type": "choropleth"
           }
          ],
          "contour": [
           {
            "colorbar": {
             "outlinewidth": 0,
             "ticks": ""
            },
            "colorscale": [
             [
              0,
              "#0d0887"
             ],
             [
              0.1111111111111111,
              "#46039f"
             ],
             [
              0.2222222222222222,
              "#7201a8"
             ],
             [
              0.3333333333333333,
              "#9c179e"
             ],
             [
              0.4444444444444444,
              "#bd3786"
             ],
             [
              0.5555555555555556,
              "#d8576b"
             ],
             [
              0.6666666666666666,
              "#ed7953"
             ],
             [
              0.7777777777777778,
              "#fb9f3a"
             ],
             [
              0.8888888888888888,
              "#fdca26"
             ],
             [
              1,
              "#f0f921"
             ]
            ],
            "type": "contour"
           }
          ],
          "contourcarpet": [
           {
            "colorbar": {
             "outlinewidth": 0,
             "ticks": ""
            },
            "type": "contourcarpet"
           }
          ],
          "heatmap": [
           {
            "colorbar": {
             "outlinewidth": 0,
             "ticks": ""
            },
            "colorscale": [
             [
              0,
              "#0d0887"
             ],
             [
              0.1111111111111111,
              "#46039f"
             ],
             [
              0.2222222222222222,
              "#7201a8"
             ],
             [
              0.3333333333333333,
              "#9c179e"
             ],
             [
              0.4444444444444444,
              "#bd3786"
             ],
             [
              0.5555555555555556,
              "#d8576b"
             ],
             [
              0.6666666666666666,
              "#ed7953"
             ],
             [
              0.7777777777777778,
              "#fb9f3a"
             ],
             [
              0.8888888888888888,
              "#fdca26"
             ],
             [
              1,
              "#f0f921"
             ]
            ],
            "type": "heatmap"
           }
          ],
          "heatmapgl": [
           {
            "colorbar": {
             "outlinewidth": 0,
             "ticks": ""
            },
            "colorscale": [
             [
              0,
              "#0d0887"
             ],
             [
              0.1111111111111111,
              "#46039f"
             ],
             [
              0.2222222222222222,
              "#7201a8"
             ],
             [
              0.3333333333333333,
              "#9c179e"
             ],
             [
              0.4444444444444444,
              "#bd3786"
             ],
             [
              0.5555555555555556,
              "#d8576b"
             ],
             [
              0.6666666666666666,
              "#ed7953"
             ],
             [
              0.7777777777777778,
              "#fb9f3a"
             ],
             [
              0.8888888888888888,
              "#fdca26"
             ],
             [
              1,
              "#f0f921"
             ]
            ],
            "type": "heatmapgl"
           }
          ],
          "histogram": [
           {
            "marker": {
             "pattern": {
              "fillmode": "overlay",
              "size": 10,
              "solidity": 0.2
             }
            },
            "type": "histogram"
           }
          ],
          "histogram2d": [
           {
            "colorbar": {
             "outlinewidth": 0,
             "ticks": ""
            },
            "colorscale": [
             [
              0,
              "#0d0887"
             ],
             [
              0.1111111111111111,
              "#46039f"
             ],
             [
              0.2222222222222222,
              "#7201a8"
             ],
             [
              0.3333333333333333,
              "#9c179e"
             ],
             [
              0.4444444444444444,
              "#bd3786"
             ],
             [
              0.5555555555555556,
              "#d8576b"
             ],
             [
              0.6666666666666666,
              "#ed7953"
             ],
             [
              0.7777777777777778,
              "#fb9f3a"
             ],
             [
              0.8888888888888888,
              "#fdca26"
             ],
             [
              1,
              "#f0f921"
             ]
            ],
            "type": "histogram2d"
           }
          ],
          "histogram2dcontour": [
           {
            "colorbar": {
             "outlinewidth": 0,
             "ticks": ""
            },
            "colorscale": [
             [
              0,
              "#0d0887"
             ],
             [
              0.1111111111111111,
              "#46039f"
             ],
             [
              0.2222222222222222,
              "#7201a8"
             ],
             [
              0.3333333333333333,
              "#9c179e"
             ],
             [
              0.4444444444444444,
              "#bd3786"
             ],
             [
              0.5555555555555556,
              "#d8576b"
             ],
             [
              0.6666666666666666,
              "#ed7953"
             ],
             [
              0.7777777777777778,
              "#fb9f3a"
             ],
             [
              0.8888888888888888,
              "#fdca26"
             ],
             [
              1,
              "#f0f921"
             ]
            ],
            "type": "histogram2dcontour"
           }
          ],
          "mesh3d": [
           {
            "colorbar": {
             "outlinewidth": 0,
             "ticks": ""
            },
            "type": "mesh3d"
           }
          ],
          "parcoords": [
           {
            "line": {
             "colorbar": {
              "outlinewidth": 0,
              "ticks": ""
             }
            },
            "type": "parcoords"
           }
          ],
          "pie": [
           {
            "automargin": true,
            "type": "pie"
           }
          ],
          "scatter": [
           {
            "marker": {
             "colorbar": {
              "outlinewidth": 0,
              "ticks": ""
             }
            },
            "type": "scatter"
           }
          ],
          "scatter3d": [
           {
            "line": {
             "colorbar": {
              "outlinewidth": 0,
              "ticks": ""
             }
            },
            "marker": {
             "colorbar": {
              "outlinewidth": 0,
              "ticks": ""
             }
            },
            "type": "scatter3d"
           }
          ],
          "scattercarpet": [
           {
            "marker": {
             "colorbar": {
              "outlinewidth": 0,
              "ticks": ""
             }
            },
            "type": "scattercarpet"
           }
          ],
          "scattergeo": [
           {
            "marker": {
             "colorbar": {
              "outlinewidth": 0,
              "ticks": ""
             }
            },
            "type": "scattergeo"
           }
          ],
          "scattergl": [
           {
            "marker": {
             "colorbar": {
              "outlinewidth": 0,
              "ticks": ""
             }
            },
            "type": "scattergl"
           }
          ],
          "scattermapbox": [
           {
            "marker": {
             "colorbar": {
              "outlinewidth": 0,
              "ticks": ""
             }
            },
            "type": "scattermapbox"
           }
          ],
          "scatterpolar": [
           {
            "marker": {
             "colorbar": {
              "outlinewidth": 0,
              "ticks": ""
             }
            },
            "type": "scatterpolar"
           }
          ],
          "scatterpolargl": [
           {
            "marker": {
             "colorbar": {
              "outlinewidth": 0,
              "ticks": ""
             }
            },
            "type": "scatterpolargl"
           }
          ],
          "scatterternary": [
           {
            "marker": {
             "colorbar": {
              "outlinewidth": 0,
              "ticks": ""
             }
            },
            "type": "scatterternary"
           }
          ],
          "surface": [
           {
            "colorbar": {
             "outlinewidth": 0,
             "ticks": ""
            },
            "colorscale": [
             [
              0,
              "#0d0887"
             ],
             [
              0.1111111111111111,
              "#46039f"
             ],
             [
              0.2222222222222222,
              "#7201a8"
             ],
             [
              0.3333333333333333,
              "#9c179e"
             ],
             [
              0.4444444444444444,
              "#bd3786"
             ],
             [
              0.5555555555555556,
              "#d8576b"
             ],
             [
              0.6666666666666666,
              "#ed7953"
             ],
             [
              0.7777777777777778,
              "#fb9f3a"
             ],
             [
              0.8888888888888888,
              "#fdca26"
             ],
             [
              1,
              "#f0f921"
             ]
            ],
            "type": "surface"
           }
          ],
          "table": [
           {
            "cells": {
             "fill": {
              "color": "#EBF0F8"
             },
             "line": {
              "color": "white"
             }
            },
            "header": {
             "fill": {
              "color": "#C8D4E3"
             },
             "line": {
              "color": "white"
             }
            },
            "type": "table"
           }
          ]
         },
         "layout": {
          "annotationdefaults": {
           "arrowcolor": "#2a3f5f",
           "arrowhead": 0,
           "arrowwidth": 1
          },
          "autotypenumbers": "strict",
          "coloraxis": {
           "colorbar": {
            "outlinewidth": 0,
            "ticks": ""
           }
          },
          "colorscale": {
           "diverging": [
            [
             0,
             "#8e0152"
            ],
            [
             0.1,
             "#c51b7d"
            ],
            [
             0.2,
             "#de77ae"
            ],
            [
             0.3,
             "#f1b6da"
            ],
            [
             0.4,
             "#fde0ef"
            ],
            [
             0.5,
             "#f7f7f7"
            ],
            [
             0.6,
             "#e6f5d0"
            ],
            [
             0.7,
             "#b8e186"
            ],
            [
             0.8,
             "#7fbc41"
            ],
            [
             0.9,
             "#4d9221"
            ],
            [
             1,
             "#276419"
            ]
           ],
           "sequential": [
            [
             0,
             "#0d0887"
            ],
            [
             0.1111111111111111,
             "#46039f"
            ],
            [
             0.2222222222222222,
             "#7201a8"
            ],
            [
             0.3333333333333333,
             "#9c179e"
            ],
            [
             0.4444444444444444,
             "#bd3786"
            ],
            [
             0.5555555555555556,
             "#d8576b"
            ],
            [
             0.6666666666666666,
             "#ed7953"
            ],
            [
             0.7777777777777778,
             "#fb9f3a"
            ],
            [
             0.8888888888888888,
             "#fdca26"
            ],
            [
             1,
             "#f0f921"
            ]
           ],
           "sequentialminus": [
            [
             0,
             "#0d0887"
            ],
            [
             0.1111111111111111,
             "#46039f"
            ],
            [
             0.2222222222222222,
             "#7201a8"
            ],
            [
             0.3333333333333333,
             "#9c179e"
            ],
            [
             0.4444444444444444,
             "#bd3786"
            ],
            [
             0.5555555555555556,
             "#d8576b"
            ],
            [
             0.6666666666666666,
             "#ed7953"
            ],
            [
             0.7777777777777778,
             "#fb9f3a"
            ],
            [
             0.8888888888888888,
             "#fdca26"
            ],
            [
             1,
             "#f0f921"
            ]
           ]
          },
          "colorway": [
           "#636efa",
           "#EF553B",
           "#00cc96",
           "#ab63fa",
           "#FFA15A",
           "#19d3f3",
           "#FF6692",
           "#B6E880",
           "#FF97FF",
           "#FECB52"
          ],
          "font": {
           "color": "#2a3f5f"
          },
          "geo": {
           "bgcolor": "white",
           "lakecolor": "white",
           "landcolor": "#E5ECF6",
           "showlakes": true,
           "showland": true,
           "subunitcolor": "white"
          },
          "hoverlabel": {
           "align": "left"
          },
          "hovermode": "closest",
          "mapbox": {
           "style": "light"
          },
          "paper_bgcolor": "white",
          "plot_bgcolor": "#E5ECF6",
          "polar": {
           "angularaxis": {
            "gridcolor": "white",
            "linecolor": "white",
            "ticks": ""
           },
           "bgcolor": "#E5ECF6",
           "radialaxis": {
            "gridcolor": "white",
            "linecolor": "white",
            "ticks": ""
           }
          },
          "scene": {
           "xaxis": {
            "backgroundcolor": "#E5ECF6",
            "gridcolor": "white",
            "gridwidth": 2,
            "linecolor": "white",
            "showbackground": true,
            "ticks": "",
            "zerolinecolor": "white"
           },
           "yaxis": {
            "backgroundcolor": "#E5ECF6",
            "gridcolor": "white",
            "gridwidth": 2,
            "linecolor": "white",
            "showbackground": true,
            "ticks": "",
            "zerolinecolor": "white"
           },
           "zaxis": {
            "backgroundcolor": "#E5ECF6",
            "gridcolor": "white",
            "gridwidth": 2,
            "linecolor": "white",
            "showbackground": true,
            "ticks": "",
            "zerolinecolor": "white"
           }
          },
          "shapedefaults": {
           "line": {
            "color": "#2a3f5f"
           }
          },
          "ternary": {
           "aaxis": {
            "gridcolor": "white",
            "linecolor": "white",
            "ticks": ""
           },
           "baxis": {
            "gridcolor": "white",
            "linecolor": "white",
            "ticks": ""
           },
           "bgcolor": "#E5ECF6",
           "caxis": {
            "gridcolor": "white",
            "linecolor": "white",
            "ticks": ""
           }
          },
          "title": {
           "x": 0.05
          },
          "xaxis": {
           "automargin": true,
           "gridcolor": "white",
           "linecolor": "white",
           "ticks": "",
           "title": {
            "standoff": 15
           },
           "zerolinecolor": "white",
           "zerolinewidth": 2
          },
          "yaxis": {
           "automargin": true,
           "gridcolor": "white",
           "linecolor": "white",
           "ticks": "",
           "title": {
            "standoff": 15
           },
           "zerolinecolor": "white",
           "zerolinewidth": 2
          }
         }
        },
        "title": {
         "font": {
          "color": "#4D5663"
         }
        },
        "xaxis": {
         "gridcolor": "#E1E5ED",
         "showgrid": true,
         "tickfont": {
          "color": "#4D5663"
         },
         "title": {
          "font": {
           "color": "#4D5663"
          },
          "text": ""
         },
         "zerolinecolor": "#E1E5ED"
        },
        "yaxis": {
         "gridcolor": "#E1E5ED",
         "showgrid": true,
         "tickfont": {
          "color": "#4D5663"
         },
         "title": {
          "font": {
           "color": "#4D5663"
          },
          "text": ""
         },
         "zerolinecolor": "#E1E5ED"
        }
       }
      },
      "text/html": [
       "<div>                            <div id=\"24f0eeb2-3428-4b21-8a41-4abff9c23b8a\" class=\"plotly-graph-div\" style=\"height:525px; width:100%;\"></div>            <script type=\"text/javascript\">                require([\"plotly\"], function(Plotly) {                    window.PLOTLYENV=window.PLOTLYENV || {};\n",
       "                    window.PLOTLYENV.BASE_URL='https://plot.ly';                                    if (document.getElementById(\"24f0eeb2-3428-4b21-8a41-4abff9c23b8a\")) {                    Plotly.newPlot(                        \"24f0eeb2-3428-4b21-8a41-4abff9c23b8a\",                        [{\"marker\":{\"color\":\"rgba(255, 153, 51, 0.6)\",\"line\":{\"color\":\"rgba(255, 153, 51, 1.0)\",\"width\":1}},\"name\":\"\\ub098\\ub77c\\uc7a5\\ud130(G2B)\",\"orientation\":\"v\",\"text\":\"\",\"type\":\"bar\",\"x\":[\"\\ucd94\\uc815\\uac00\\uaca9\"],\"y\":[679263018.3073771]},{\"marker\":{\"color\":\"rgba(55, 128, 191, 0.6)\",\"line\":{\"color\":\"rgba(55, 128, 191, 1.0)\",\"width\":1}},\"name\":\"\\uc790\\uccb4\\uc804\\uc790\\uc870\\ub2ec\\uc2dc\\uc2a4\\ud15c\",\"orientation\":\"v\",\"text\":\"\",\"type\":\"bar\",\"x\":[\"\\ucd94\\uc815\\uac00\\uaca9\"],\"y\":[209624758.6458492]}],                        {\"legend\":{\"bgcolor\":\"#F5F6F9\",\"font\":{\"color\":\"#4D5663\"}},\"paper_bgcolor\":\"#F5F6F9\",\"plot_bgcolor\":\"#F5F6F9\",\"template\":{\"data\":{\"bar\":[{\"error_x\":{\"color\":\"#2a3f5f\"},\"error_y\":{\"color\":\"#2a3f5f\"},\"marker\":{\"line\":{\"color\":\"#E5ECF6\",\"width\":0.5},\"pattern\":{\"fillmode\":\"overlay\",\"size\":10,\"solidity\":0.2}},\"type\":\"bar\"}],\"barpolar\":[{\"marker\":{\"line\":{\"color\":\"#E5ECF6\",\"width\":0.5},\"pattern\":{\"fillmode\":\"overlay\",\"size\":10,\"solidity\":0.2}},\"type\":\"barpolar\"}],\"carpet\":[{\"aaxis\":{\"endlinecolor\":\"#2a3f5f\",\"gridcolor\":\"white\",\"linecolor\":\"white\",\"minorgridcolor\":\"white\",\"startlinecolor\":\"#2a3f5f\"},\"baxis\":{\"endlinecolor\":\"#2a3f5f\",\"gridcolor\":\"white\",\"linecolor\":\"white\",\"minorgridcolor\":\"white\",\"startlinecolor\":\"#2a3f5f\"},\"type\":\"carpet\"}],\"choropleth\":[{\"colorbar\":{\"outlinewidth\":0,\"ticks\":\"\"},\"type\":\"choropleth\"}],\"contour\":[{\"colorbar\":{\"outlinewidth\":0,\"ticks\":\"\"},\"colorscale\":[[0.0,\"#0d0887\"],[0.1111111111111111,\"#46039f\"],[0.2222222222222222,\"#7201a8\"],[0.3333333333333333,\"#9c179e\"],[0.4444444444444444,\"#bd3786\"],[0.5555555555555556,\"#d8576b\"],[0.6666666666666666,\"#ed7953\"],[0.7777777777777778,\"#fb9f3a\"],[0.8888888888888888,\"#fdca26\"],[1.0,\"#f0f921\"]],\"type\":\"contour\"}],\"contourcarpet\":[{\"colorbar\":{\"outlinewidth\":0,\"ticks\":\"\"},\"type\":\"contourcarpet\"}],\"heatmap\":[{\"colorbar\":{\"outlinewidth\":0,\"ticks\":\"\"},\"colorscale\":[[0.0,\"#0d0887\"],[0.1111111111111111,\"#46039f\"],[0.2222222222222222,\"#7201a8\"],[0.3333333333333333,\"#9c179e\"],[0.4444444444444444,\"#bd3786\"],[0.5555555555555556,\"#d8576b\"],[0.6666666666666666,\"#ed7953\"],[0.7777777777777778,\"#fb9f3a\"],[0.8888888888888888,\"#fdca26\"],[1.0,\"#f0f921\"]],\"type\":\"heatmap\"}],\"heatmapgl\":[{\"colorbar\":{\"outlinewidth\":0,\"ticks\":\"\"},\"colorscale\":[[0.0,\"#0d0887\"],[0.1111111111111111,\"#46039f\"],[0.2222222222222222,\"#7201a8\"],[0.3333333333333333,\"#9c179e\"],[0.4444444444444444,\"#bd3786\"],[0.5555555555555556,\"#d8576b\"],[0.6666666666666666,\"#ed7953\"],[0.7777777777777778,\"#fb9f3a\"],[0.8888888888888888,\"#fdca26\"],[1.0,\"#f0f921\"]],\"type\":\"heatmapgl\"}],\"histogram\":[{\"marker\":{\"pattern\":{\"fillmode\":\"overlay\",\"size\":10,\"solidity\":0.2}},\"type\":\"histogram\"}],\"histogram2d\":[{\"colorbar\":{\"outlinewidth\":0,\"ticks\":\"\"},\"colorscale\":[[0.0,\"#0d0887\"],[0.1111111111111111,\"#46039f\"],[0.2222222222222222,\"#7201a8\"],[0.3333333333333333,\"#9c179e\"],[0.4444444444444444,\"#bd3786\"],[0.5555555555555556,\"#d8576b\"],[0.6666666666666666,\"#ed7953\"],[0.7777777777777778,\"#fb9f3a\"],[0.8888888888888888,\"#fdca26\"],[1.0,\"#f0f921\"]],\"type\":\"histogram2d\"}],\"histogram2dcontour\":[{\"colorbar\":{\"outlinewidth\":0,\"ticks\":\"\"},\"colorscale\":[[0.0,\"#0d0887\"],[0.1111111111111111,\"#46039f\"],[0.2222222222222222,\"#7201a8\"],[0.3333333333333333,\"#9c179e\"],[0.4444444444444444,\"#bd3786\"],[0.5555555555555556,\"#d8576b\"],[0.6666666666666666,\"#ed7953\"],[0.7777777777777778,\"#fb9f3a\"],[0.8888888888888888,\"#fdca26\"],[1.0,\"#f0f921\"]],\"type\":\"histogram2dcontour\"}],\"mesh3d\":[{\"colorbar\":{\"outlinewidth\":0,\"ticks\":\"\"},\"type\":\"mesh3d\"}],\"parcoords\":[{\"line\":{\"colorbar\":{\"outlinewidth\":0,\"ticks\":\"\"}},\"type\":\"parcoords\"}],\"pie\":[{\"automargin\":true,\"type\":\"pie\"}],\"scatter\":[{\"marker\":{\"colorbar\":{\"outlinewidth\":0,\"ticks\":\"\"}},\"type\":\"scatter\"}],\"scatter3d\":[{\"line\":{\"colorbar\":{\"outlinewidth\":0,\"ticks\":\"\"}},\"marker\":{\"colorbar\":{\"outlinewidth\":0,\"ticks\":\"\"}},\"type\":\"scatter3d\"}],\"scattercarpet\":[{\"marker\":{\"colorbar\":{\"outlinewidth\":0,\"ticks\":\"\"}},\"type\":\"scattercarpet\"}],\"scattergeo\":[{\"marker\":{\"colorbar\":{\"outlinewidth\":0,\"ticks\":\"\"}},\"type\":\"scattergeo\"}],\"scattergl\":[{\"marker\":{\"colorbar\":{\"outlinewidth\":0,\"ticks\":\"\"}},\"type\":\"scattergl\"}],\"scattermapbox\":[{\"marker\":{\"colorbar\":{\"outlinewidth\":0,\"ticks\":\"\"}},\"type\":\"scattermapbox\"}],\"scatterpolar\":[{\"marker\":{\"colorbar\":{\"outlinewidth\":0,\"ticks\":\"\"}},\"type\":\"scatterpolar\"}],\"scatterpolargl\":[{\"marker\":{\"colorbar\":{\"outlinewidth\":0,\"ticks\":\"\"}},\"type\":\"scatterpolargl\"}],\"scatterternary\":[{\"marker\":{\"colorbar\":{\"outlinewidth\":0,\"ticks\":\"\"}},\"type\":\"scatterternary\"}],\"surface\":[{\"colorbar\":{\"outlinewidth\":0,\"ticks\":\"\"},\"colorscale\":[[0.0,\"#0d0887\"],[0.1111111111111111,\"#46039f\"],[0.2222222222222222,\"#7201a8\"],[0.3333333333333333,\"#9c179e\"],[0.4444444444444444,\"#bd3786\"],[0.5555555555555556,\"#d8576b\"],[0.6666666666666666,\"#ed7953\"],[0.7777777777777778,\"#fb9f3a\"],[0.8888888888888888,\"#fdca26\"],[1.0,\"#f0f921\"]],\"type\":\"surface\"}],\"table\":[{\"cells\":{\"fill\":{\"color\":\"#EBF0F8\"},\"line\":{\"color\":\"white\"}},\"header\":{\"fill\":{\"color\":\"#C8D4E3\"},\"line\":{\"color\":\"white\"}},\"type\":\"table\"}]},\"layout\":{\"annotationdefaults\":{\"arrowcolor\":\"#2a3f5f\",\"arrowhead\":0,\"arrowwidth\":1},\"autotypenumbers\":\"strict\",\"coloraxis\":{\"colorbar\":{\"outlinewidth\":0,\"ticks\":\"\"}},\"colorscale\":{\"diverging\":[[0,\"#8e0152\"],[0.1,\"#c51b7d\"],[0.2,\"#de77ae\"],[0.3,\"#f1b6da\"],[0.4,\"#fde0ef\"],[0.5,\"#f7f7f7\"],[0.6,\"#e6f5d0\"],[0.7,\"#b8e186\"],[0.8,\"#7fbc41\"],[0.9,\"#4d9221\"],[1,\"#276419\"]],\"sequential\":[[0.0,\"#0d0887\"],[0.1111111111111111,\"#46039f\"],[0.2222222222222222,\"#7201a8\"],[0.3333333333333333,\"#9c179e\"],[0.4444444444444444,\"#bd3786\"],[0.5555555555555556,\"#d8576b\"],[0.6666666666666666,\"#ed7953\"],[0.7777777777777778,\"#fb9f3a\"],[0.8888888888888888,\"#fdca26\"],[1.0,\"#f0f921\"]],\"sequentialminus\":[[0.0,\"#0d0887\"],[0.1111111111111111,\"#46039f\"],[0.2222222222222222,\"#7201a8\"],[0.3333333333333333,\"#9c179e\"],[0.4444444444444444,\"#bd3786\"],[0.5555555555555556,\"#d8576b\"],[0.6666666666666666,\"#ed7953\"],[0.7777777777777778,\"#fb9f3a\"],[0.8888888888888888,\"#fdca26\"],[1.0,\"#f0f921\"]]},\"colorway\":[\"#636efa\",\"#EF553B\",\"#00cc96\",\"#ab63fa\",\"#FFA15A\",\"#19d3f3\",\"#FF6692\",\"#B6E880\",\"#FF97FF\",\"#FECB52\"],\"font\":{\"color\":\"#2a3f5f\"},\"geo\":{\"bgcolor\":\"white\",\"lakecolor\":\"white\",\"landcolor\":\"#E5ECF6\",\"showlakes\":true,\"showland\":true,\"subunitcolor\":\"white\"},\"hoverlabel\":{\"align\":\"left\"},\"hovermode\":\"closest\",\"mapbox\":{\"style\":\"light\"},\"paper_bgcolor\":\"white\",\"plot_bgcolor\":\"#E5ECF6\",\"polar\":{\"angularaxis\":{\"gridcolor\":\"white\",\"linecolor\":\"white\",\"ticks\":\"\"},\"bgcolor\":\"#E5ECF6\",\"radialaxis\":{\"gridcolor\":\"white\",\"linecolor\":\"white\",\"ticks\":\"\"}},\"scene\":{\"xaxis\":{\"backgroundcolor\":\"#E5ECF6\",\"gridcolor\":\"white\",\"gridwidth\":2,\"linecolor\":\"white\",\"showbackground\":true,\"ticks\":\"\",\"zerolinecolor\":\"white\"},\"yaxis\":{\"backgroundcolor\":\"#E5ECF6\",\"gridcolor\":\"white\",\"gridwidth\":2,\"linecolor\":\"white\",\"showbackground\":true,\"ticks\":\"\",\"zerolinecolor\":\"white\"},\"zaxis\":{\"backgroundcolor\":\"#E5ECF6\",\"gridcolor\":\"white\",\"gridwidth\":2,\"linecolor\":\"white\",\"showbackground\":true,\"ticks\":\"\",\"zerolinecolor\":\"white\"}},\"shapedefaults\":{\"line\":{\"color\":\"#2a3f5f\"}},\"ternary\":{\"aaxis\":{\"gridcolor\":\"white\",\"linecolor\":\"white\",\"ticks\":\"\"},\"baxis\":{\"gridcolor\":\"white\",\"linecolor\":\"white\",\"ticks\":\"\"},\"bgcolor\":\"#E5ECF6\",\"caxis\":{\"gridcolor\":\"white\",\"linecolor\":\"white\",\"ticks\":\"\"}},\"title\":{\"x\":0.05},\"xaxis\":{\"automargin\":true,\"gridcolor\":\"white\",\"linecolor\":\"white\",\"ticks\":\"\",\"title\":{\"standoff\":15},\"zerolinecolor\":\"white\",\"zerolinewidth\":2},\"yaxis\":{\"automargin\":true,\"gridcolor\":\"white\",\"linecolor\":\"white\",\"ticks\":\"\",\"title\":{\"standoff\":15},\"zerolinecolor\":\"white\",\"zerolinewidth\":2}}},\"title\":{\"font\":{\"color\":\"#4D5663\"}},\"xaxis\":{\"gridcolor\":\"#E1E5ED\",\"showgrid\":true,\"tickfont\":{\"color\":\"#4D5663\"},\"title\":{\"font\":{\"color\":\"#4D5663\"},\"text\":\"\"},\"zerolinecolor\":\"#E1E5ED\"},\"yaxis\":{\"gridcolor\":\"#E1E5ED\",\"showgrid\":true,\"tickfont\":{\"color\":\"#4D5663\"},\"title\":{\"font\":{\"color\":\"#4D5663\"},\"text\":\"\"},\"zerolinecolor\":\"#E1E5ED\"}},                        {\"showLink\": true, \"linkText\": \"Export to plot.ly\", \"plotlyServerURL\": \"https://plot.ly\", \"responsive\": true}                    ).then(function(){\n",
       "                            \n",
       "var gd = document.getElementById('24f0eeb2-3428-4b21-8a41-4abff9c23b8a');\n",
       "var x = new MutationObserver(function (mutations, observer) {{\n",
       "        var display = window.getComputedStyle(gd).display;\n",
       "        if (!display || display === 'none') {{\n",
       "            console.log([gd, 'removed!']);\n",
       "            Plotly.purge(gd);\n",
       "            observer.disconnect();\n",
       "        }}\n",
       "}});\n",
       "\n",
       "// Listen for the removal of the full notebook cells\n",
       "var notebookContainer = gd.closest('#notebook-container');\n",
       "if (notebookContainer) {{\n",
       "    x.observe(notebookContainer, {childList: true});\n",
       "}}\n",
       "\n",
       "// Listen for the clearing of the current output cell\n",
       "var outputEl = gd.closest('.output');\n",
       "if (outputEl) {{\n",
       "    x.observe(outputEl, {childList: true});\n",
       "}}\n",
       "\n",
       "                        })                };                });            </script>        </div>"
      ]
     },
     "metadata": {},
     "output_type": "display_data"
    }
   ],
   "source": [
    "df_B5_2_groupby.iplot(kind = 'bar')"
   ]
  },
  {
   "cell_type": "code",
   "execution_count": 429,
   "metadata": {},
   "outputs": [
    {
     "data": {
      "text/html": [
       "<div>\n",
       "<style scoped>\n",
       "    .dataframe tbody tr th:only-of-type {\n",
       "        vertical-align: middle;\n",
       "    }\n",
       "\n",
       "    .dataframe tbody tr th {\n",
       "        vertical-align: top;\n",
       "    }\n",
       "\n",
       "    .dataframe thead th {\n",
       "        text-align: right;\n",
       "    }\n",
       "</style>\n",
       "<table border=\"1\" class=\"dataframe\">\n",
       "  <thead>\n",
       "    <tr style=\"text-align: right;\">\n",
       "      <th></th>\n",
       "      <th>공고게시일자</th>\n",
       "      <th>등록유형</th>\n",
       "      <th>조달구분</th>\n",
       "      <th>입찰공고차수</th>\n",
       "      <th>수요기관코드</th>\n",
       "      <th>세부품명내용</th>\n",
       "      <th>합계수량</th>\n",
       "      <th>합계수량_여부</th>\n",
       "      <th>긴급공고여부</th>\n",
       "      <th>정정공고여부</th>\n",
       "      <th>취소공고여부</th>\n",
       "      <th>추정가격</th>\n",
       "      <th>입찰방식</th>\n",
       "      <th>재입찰허용여부</th>\n",
       "      <th>낙찰자결정방법</th>\n",
       "      <th>입찰계약방법</th>\n",
       "      <th>업종제한내용</th>\n",
       "      <th>지역제한내용</th>\n",
       "      <th>국제입찰여부</th>\n",
       "    </tr>\n",
       "  </thead>\n",
       "  <tbody>\n",
       "    <tr>\n",
       "      <th>1495</th>\n",
       "      <td>2020-03-16</td>\n",
       "      <td>나라장터(G2B)</td>\n",
       "      <td>중앙조달</td>\n",
       "      <td>0</td>\n",
       "      <td>B500001</td>\n",
       "      <td>30</td>\n",
       "      <td>1.0</td>\n",
       "      <td>1</td>\n",
       "      <td>기한존재</td>\n",
       "      <td>N</td>\n",
       "      <td>N</td>\n",
       "      <td>2.937020e+08</td>\n",
       "      <td>전자입찰</td>\n",
       "      <td>Y</td>\n",
       "      <td>알수없음</td>\n",
       "      <td>제한(총액)</td>\n",
       "      <td>N</td>\n",
       "      <td>N</td>\n",
       "      <td>N</td>\n",
       "    </tr>\n",
       "    <tr>\n",
       "      <th>6945</th>\n",
       "      <td>2020-01-03</td>\n",
       "      <td>나라장터(G2B)</td>\n",
       "      <td>중앙조달</td>\n",
       "      <td>0</td>\n",
       "      <td>B500001</td>\n",
       "      <td>40</td>\n",
       "      <td>1.0</td>\n",
       "      <td>1</td>\n",
       "      <td>기한존재</td>\n",
       "      <td>N</td>\n",
       "      <td>N</td>\n",
       "      <td>4.570300e+08</td>\n",
       "      <td>전자입찰</td>\n",
       "      <td>Y</td>\n",
       "      <td>알수없음</td>\n",
       "      <td>지명(총액)</td>\n",
       "      <td>N</td>\n",
       "      <td>N</td>\n",
       "      <td>N</td>\n",
       "    </tr>\n",
       "    <tr>\n",
       "      <th>6946</th>\n",
       "      <td>2020-01-03</td>\n",
       "      <td>나라장터(G2B)</td>\n",
       "      <td>중앙조달</td>\n",
       "      <td>0</td>\n",
       "      <td>B500001</td>\n",
       "      <td>40</td>\n",
       "      <td>1.0</td>\n",
       "      <td>1</td>\n",
       "      <td>기한존재</td>\n",
       "      <td>N</td>\n",
       "      <td>N</td>\n",
       "      <td>3.491200e+08</td>\n",
       "      <td>전자입찰</td>\n",
       "      <td>Y</td>\n",
       "      <td>알수없음</td>\n",
       "      <td>지명(총액)</td>\n",
       "      <td>N</td>\n",
       "      <td>N</td>\n",
       "      <td>N</td>\n",
       "    </tr>\n",
       "    <tr>\n",
       "      <th>9114</th>\n",
       "      <td>2020-03-05</td>\n",
       "      <td>나라장터(G2B)</td>\n",
       "      <td>중앙조달</td>\n",
       "      <td>0</td>\n",
       "      <td>B500001</td>\n",
       "      <td>47</td>\n",
       "      <td>1.0</td>\n",
       "      <td>1</td>\n",
       "      <td>기한존재</td>\n",
       "      <td>N</td>\n",
       "      <td>N</td>\n",
       "      <td>5.632000e+08</td>\n",
       "      <td>전자입찰</td>\n",
       "      <td>Y</td>\n",
       "      <td>중기간 경쟁물품 계약이행능력심사</td>\n",
       "      <td>제한(총액)</td>\n",
       "      <td>Y</td>\n",
       "      <td>N</td>\n",
       "      <td>N</td>\n",
       "    </tr>\n",
       "    <tr>\n",
       "      <th>11413</th>\n",
       "      <td>2020-02-13</td>\n",
       "      <td>나라장터(G2B)</td>\n",
       "      <td>중앙조달</td>\n",
       "      <td>0</td>\n",
       "      <td>B500001</td>\n",
       "      <td>40</td>\n",
       "      <td>1.0</td>\n",
       "      <td>1</td>\n",
       "      <td>기한존재</td>\n",
       "      <td>N</td>\n",
       "      <td>N</td>\n",
       "      <td>3.785930e+08</td>\n",
       "      <td>전자입찰</td>\n",
       "      <td>Y</td>\n",
       "      <td>알수없음</td>\n",
       "      <td>지명(총액)</td>\n",
       "      <td>N</td>\n",
       "      <td>N</td>\n",
       "      <td>N</td>\n",
       "    </tr>\n",
       "    <tr>\n",
       "      <th>...</th>\n",
       "      <td>...</td>\n",
       "      <td>...</td>\n",
       "      <td>...</td>\n",
       "      <td>...</td>\n",
       "      <td>...</td>\n",
       "      <td>...</td>\n",
       "      <td>...</td>\n",
       "      <td>...</td>\n",
       "      <td>...</td>\n",
       "      <td>...</td>\n",
       "      <td>...</td>\n",
       "      <td>...</td>\n",
       "      <td>...</td>\n",
       "      <td>...</td>\n",
       "      <td>...</td>\n",
       "      <td>...</td>\n",
       "      <td>...</td>\n",
       "      <td>...</td>\n",
       "      <td>...</td>\n",
       "    </tr>\n",
       "    <tr>\n",
       "      <th>445078</th>\n",
       "      <td>2017-10-10</td>\n",
       "      <td>나라장터(G2B)</td>\n",
       "      <td>중앙조달</td>\n",
       "      <td>0</td>\n",
       "      <td>B500001</td>\n",
       "      <td>39</td>\n",
       "      <td>1.0</td>\n",
       "      <td>1</td>\n",
       "      <td>기한존재</td>\n",
       "      <td>N</td>\n",
       "      <td>N</td>\n",
       "      <td>7.945000e+08</td>\n",
       "      <td>전자시담</td>\n",
       "      <td>Y</td>\n",
       "      <td>최저가낙찰자결정</td>\n",
       "      <td>수의(총액)</td>\n",
       "      <td>N</td>\n",
       "      <td>N</td>\n",
       "      <td>N</td>\n",
       "    </tr>\n",
       "    <tr>\n",
       "      <th>448487</th>\n",
       "      <td>2017-11-16</td>\n",
       "      <td>나라장터(G2B)</td>\n",
       "      <td>자체조달</td>\n",
       "      <td>0</td>\n",
       "      <td>B500001</td>\n",
       "      <td>39</td>\n",
       "      <td>1.0</td>\n",
       "      <td>1</td>\n",
       "      <td>N</td>\n",
       "      <td>N</td>\n",
       "      <td>N</td>\n",
       "      <td>8.250000e+07</td>\n",
       "      <td>전자입찰</td>\n",
       "      <td>Y</td>\n",
       "      <td>제한적최저가</td>\n",
       "      <td>지명(총액)</td>\n",
       "      <td>N</td>\n",
       "      <td>N</td>\n",
       "      <td>N</td>\n",
       "    </tr>\n",
       "    <tr>\n",
       "      <th>449005</th>\n",
       "      <td>2017-11-13</td>\n",
       "      <td>나라장터(G2B)</td>\n",
       "      <td>중앙조달</td>\n",
       "      <td>0</td>\n",
       "      <td>B500001</td>\n",
       "      <td>40</td>\n",
       "      <td>1.0</td>\n",
       "      <td>1</td>\n",
       "      <td>기한존재</td>\n",
       "      <td>N</td>\n",
       "      <td>N</td>\n",
       "      <td>1.808800e+09</td>\n",
       "      <td>전자입찰</td>\n",
       "      <td>Y</td>\n",
       "      <td>중기간 경쟁물품 계약이행능력심사</td>\n",
       "      <td>제한(총액)</td>\n",
       "      <td>N</td>\n",
       "      <td>N</td>\n",
       "      <td>N</td>\n",
       "    </tr>\n",
       "    <tr>\n",
       "      <th>449392</th>\n",
       "      <td>2017-11-08</td>\n",
       "      <td>나라장터(G2B)</td>\n",
       "      <td>중앙조달</td>\n",
       "      <td>0</td>\n",
       "      <td>B500001</td>\n",
       "      <td>40</td>\n",
       "      <td>1.0</td>\n",
       "      <td>1</td>\n",
       "      <td>기한존재</td>\n",
       "      <td>N</td>\n",
       "      <td>N</td>\n",
       "      <td>5.653900e+08</td>\n",
       "      <td>전자입찰</td>\n",
       "      <td>Y</td>\n",
       "      <td>중기간 경쟁물품 계약이행능력심사</td>\n",
       "      <td>제한(총액)</td>\n",
       "      <td>N</td>\n",
       "      <td>N</td>\n",
       "      <td>N</td>\n",
       "    </tr>\n",
       "    <tr>\n",
       "      <th>450119</th>\n",
       "      <td>2017-10-27</td>\n",
       "      <td>나라장터(G2B)</td>\n",
       "      <td>중앙조달</td>\n",
       "      <td>1</td>\n",
       "      <td>B500001</td>\n",
       "      <td>45</td>\n",
       "      <td>1.0</td>\n",
       "      <td>1</td>\n",
       "      <td>기한존재</td>\n",
       "      <td>Y</td>\n",
       "      <td>N</td>\n",
       "      <td>1.149000e+09</td>\n",
       "      <td>전자입찰</td>\n",
       "      <td>Y</td>\n",
       "      <td>중기간 경쟁물품 계약이행능력심사</td>\n",
       "      <td>제한(총액)</td>\n",
       "      <td>Y</td>\n",
       "      <td>N</td>\n",
       "      <td>N</td>\n",
       "    </tr>\n",
       "  </tbody>\n",
       "</table>\n",
       "<p>2870 rows × 19 columns</p>\n",
       "</div>"
      ],
      "text/plain": [
       "            공고게시일자       등록유형  조달구분  입찰공고차수   수요기관코드  세부품명내용  합계수량  합계수량_여부  \\\n",
       "1495    2020-03-16  나라장터(G2B)  중앙조달       0  B500001      30   1.0        1   \n",
       "6945    2020-01-03  나라장터(G2B)  중앙조달       0  B500001      40   1.0        1   \n",
       "6946    2020-01-03  나라장터(G2B)  중앙조달       0  B500001      40   1.0        1   \n",
       "9114    2020-03-05  나라장터(G2B)  중앙조달       0  B500001      47   1.0        1   \n",
       "11413   2020-02-13  나라장터(G2B)  중앙조달       0  B500001      40   1.0        1   \n",
       "...            ...        ...   ...     ...      ...     ...   ...      ...   \n",
       "445078  2017-10-10  나라장터(G2B)  중앙조달       0  B500001      39   1.0        1   \n",
       "448487  2017-11-16  나라장터(G2B)  자체조달       0  B500001      39   1.0        1   \n",
       "449005  2017-11-13  나라장터(G2B)  중앙조달       0  B500001      40   1.0        1   \n",
       "449392  2017-11-08  나라장터(G2B)  중앙조달       0  B500001      40   1.0        1   \n",
       "450119  2017-10-27  나라장터(G2B)  중앙조달       1  B500001      45   1.0        1   \n",
       "\n",
       "       긴급공고여부 정정공고여부 취소공고여부          추정가격  입찰방식 재입찰허용여부            낙찰자결정방법  \\\n",
       "1495     기한존재      N      N  2.937020e+08  전자입찰       Y               알수없음   \n",
       "6945     기한존재      N      N  4.570300e+08  전자입찰       Y               알수없음   \n",
       "6946     기한존재      N      N  3.491200e+08  전자입찰       Y               알수없음   \n",
       "9114     기한존재      N      N  5.632000e+08  전자입찰       Y  중기간 경쟁물품 계약이행능력심사   \n",
       "11413    기한존재      N      N  3.785930e+08  전자입찰       Y               알수없음   \n",
       "...       ...    ...    ...           ...   ...     ...                ...   \n",
       "445078   기한존재      N      N  7.945000e+08  전자시담       Y           최저가낙찰자결정   \n",
       "448487      N      N      N  8.250000e+07  전자입찰       Y             제한적최저가   \n",
       "449005   기한존재      N      N  1.808800e+09  전자입찰       Y  중기간 경쟁물품 계약이행능력심사   \n",
       "449392   기한존재      N      N  5.653900e+08  전자입찰       Y  중기간 경쟁물품 계약이행능력심사   \n",
       "450119   기한존재      Y      N  1.149000e+09  전자입찰       Y  중기간 경쟁물품 계약이행능력심사   \n",
       "\n",
       "        입찰계약방법 업종제한내용 지역제한내용 국제입찰여부  \n",
       "1495    제한(총액)      N      N      N  \n",
       "6945    지명(총액)      N      N      N  \n",
       "6946    지명(총액)      N      N      N  \n",
       "9114    제한(총액)      Y      N      N  \n",
       "11413   지명(총액)      N      N      N  \n",
       "...        ...    ...    ...    ...  \n",
       "445078  수의(총액)      N      N      N  \n",
       "448487  지명(총액)      N      N      N  \n",
       "449005  제한(총액)      N      N      N  \n",
       "449392  제한(총액)      N      N      N  \n",
       "450119  제한(총액)      Y      N      N  \n",
       "\n",
       "[2870 rows x 19 columns]"
      ]
     },
     "execution_count": 429,
     "metadata": {},
     "output_type": "execute_result"
    }
   ],
   "source": [
    "df_B5_2"
   ]
  },
  {
   "cell_type": "code",
   "execution_count": 430,
   "metadata": {},
   "outputs": [
    {
     "data": {
      "text/plain": [
       "1"
      ]
     },
     "execution_count": 430,
     "metadata": {},
     "output_type": "execute_result"
    }
   ],
   "source": [
    "df_test = pd.DataFrame([1,2,3])\n",
    "df_test.loc[0,0] "
   ]
  },
  {
   "cell_type": "code",
   "execution_count": 431,
   "metadata": {},
   "outputs": [],
   "source": [
    "## FDR 을 수행하는 함수; 정규분포를 따르지 않을 때 bootstrap으로 사용한다.\n",
    "def FDR_boosting_two_kind(df,column,normal,bs_size):\n",
    "    \n",
    "    df['구분'] = 0\n",
    "    df_sort = df[[column,'추정가격']].sort_values(by = column,ascending = True)\n",
    "    if df_sort.loc[0,column] == normal:\n",
    "        pass\n",
    "    else:\n",
    "        df_sort = df[[column,'추정가격']].sort_values(by = column,ascending = False)\n",
    "\n",
    "    many = 0\n",
    "    length = df.loc[df[str(column)] == normal , :].shape[0]\n",
    "    T_x1 =  sum(df.loc[:length,'추정가격']) / sum(df.loc[length:,'추정가격'])\n",
    "    \n",
    "    for i in range(bs_size):\n",
    "        df_random = pd.DataFrame(np.random.choice(np.array(df['추정가격']),size = df.shape[0], replace = True))\n",
    "        \n",
    "        diff = sum(df_random.iloc[:length,0]) / sum(df_random.iloc[length:,0])\n",
    "        if T_x1 < diff:\n",
    "            many += 1\n",
    "\n",
    "\n",
    "    return many / bs_size\n",
    "        \n",
    "    "
   ]
  },
  {
   "cell_type": "markdown",
   "metadata": {},
   "source": [
    "## FDR을 수행한다 : 기관번호가 B500001에서 유효하다.\n",
    "\n",
    "###  H0 : 등록유형 차이가 추정가격에 영향을 끼치지 않았다 (차이가 없음)  / H1 : 등록유형 차이가 추정가격에 영향을 끼쳤다"
   ]
  },
  {
   "cell_type": "code",
   "execution_count": 432,
   "metadata": {},
   "outputs": [],
   "source": [
    "df_B5_3 = df_B5_2.reset_index().copy()"
   ]
  },
  {
   "cell_type": "code",
   "execution_count": 433,
   "metadata": {},
   "outputs": [],
   "source": [
    "p_value_all = []\n",
    "idx = []"
   ]
  },
  {
   "cell_type": "code",
   "execution_count": 434,
   "metadata": {},
   "outputs": [
    {
     "data": {
      "text/plain": [
       "0.027"
      ]
     },
     "execution_count": 434,
     "metadata": {},
     "output_type": "execute_result"
    }
   ],
   "source": [
    "p_value_등록유형 = FDR_boosting_two_kind(df_B5_3, '등록유형','나라장터(G2B)',1000) \n",
    "p_value_all.append(p_value_등록유형)\n",
    "idx.append('p_value_등록유형')\n",
    "p_value_등록유형"
   ]
  },
  {
   "cell_type": "code",
   "execution_count": 435,
   "metadata": {},
   "outputs": [
    {
     "data": {
      "text/plain": [
       "0.017"
      ]
     },
     "execution_count": 435,
     "metadata": {},
     "output_type": "execute_result"
    }
   ],
   "source": [
    "p_value_조달구분 = FDR_boosting_two_kind(df_B5_3, '조달구분','중앙조달',1000)  # 조달 구분은 추정가격에 영향을 끼친다\n",
    "p_value_all.append(p_value_조달구분)\n",
    "idx.append('p_value_조달구분')\n",
    "p_value_조달구분"
   ]
  },
  {
   "cell_type": "code",
   "execution_count": 436,
   "metadata": {},
   "outputs": [],
   "source": [
    "df_B5_3['입찰공고차수'] = df_B5_3['입찰공고차수'].astype('str')"
   ]
  },
  {
   "cell_type": "markdown",
   "metadata": {},
   "source": [
    "# 입찰공고차수는 연속형이다."
   ]
  },
  {
   "cell_type": "code",
   "execution_count": 437,
   "metadata": {},
   "outputs": [],
   "source": [
    "#  p_value_입찰공고차수_0 = FDR_boosting_two_kind(df_B5_3, '입찰공고차수','0',1000) # 입찰공고차수가 0인 것은 영향을 끼치지 않는다\n",
    "# p_value_all.append(p_value_입찰공고차수_0)\n",
    "# idx.append('p_value_입찰공고차수_0')\n",
    "# p_value_입찰공고차수_0"
   ]
  },
  {
   "cell_type": "code",
   "execution_count": 438,
   "metadata": {},
   "outputs": [],
   "source": [
    "#  p_value_입찰공고차수_1 = FDR_boosting_two_kind(df_B5_3, '입찰공고차수','1',1000) # 입찰공고차수가 1인 것은 영향을 끼친다\n",
    "# p_value_all.append(p_value_입찰공고차수_1)\n",
    "# idx.append('p_value_입찰공고차수_1')\n",
    "# p_value_입찰공고차수_1"
   ]
  },
  {
   "cell_type": "code",
   "execution_count": 439,
   "metadata": {},
   "outputs": [],
   "source": [
    "#  p_value_입찰공고차수_2 = FDR_boosting_two_kind(df_B5_3, '입찰공고차수','2',1000) # 입찰공고차수가 2인 것은 영향을 끼친다\n",
    "# p_value_all.append(p_value_입찰공고차수_2)\n",
    "# idx.append('p_value_입찰공고차수_2')\n",
    "# p_value_입찰공고차수_2"
   ]
  },
  {
   "cell_type": "code",
   "execution_count": 440,
   "metadata": {},
   "outputs": [],
   "source": [
    "#  p_value_입찰공고차수_3 = FDR_boosting_two_kind(df_B5_3, '입찰공고차수','3',1000) # 입찰공고차수가 3인 것은 영향을 끼치지 않는다\n",
    "# p_value_all.append(p_value_입찰공고차수_3)\n",
    "# idx.append('p_value_입찰공고차수_3')\n",
    "# p_value_입찰공고차수_3"
   ]
  },
  {
   "cell_type": "code",
   "execution_count": 441,
   "metadata": {},
   "outputs": [],
   "source": [
    "#  p_value_입찰공고차수_4 = FDR_boosting_two_kind(df_B5_3, '입찰공고차수','4',1000) # 입찰공고차수가 4인 것은 영향을 끼친다\n",
    "# p_value_all.append(p_value_입찰공고차수_4)\n",
    "# idx.append('p_value_입찰공고차수_4')\n",
    "# p_value_입찰공고차수_4"
   ]
  },
  {
   "cell_type": "code",
   "execution_count": 442,
   "metadata": {},
   "outputs": [],
   "source": [
    "df_B5_3['세부품명내용'] = df_B5_3['세부품명내용'].astype('str')"
   ]
  },
  {
   "cell_type": "code",
   "execution_count": 443,
   "metadata": {},
   "outputs": [
    {
     "data": {
      "text/plain": [
       "0.045"
      ]
     },
     "execution_count": 443,
     "metadata": {},
     "output_type": "execute_result"
    }
   ],
   "source": [
    "p_value_세부품명내용_30 = FDR_boosting_two_kind(df_B5_3, '세부품명내용','30',1000)  # 세부품명내용이 30인 것은 영향을 끼친다\n",
    "p_value_all.append(p_value_세부품명내용_30)\n",
    "idx.append('p_value_세부품명내용_30')\n",
    "p_value_세부품명내용_30"
   ]
  },
  {
   "cell_type": "code",
   "execution_count": 444,
   "metadata": {},
   "outputs": [
    {
     "data": {
      "text/plain": [
       "0.166"
      ]
     },
     "execution_count": 444,
     "metadata": {},
     "output_type": "execute_result"
    }
   ],
   "source": [
    "p_value_세부품명내용_40 = FDR_boosting_two_kind(df_B5_3, '세부품명내용','40',1000) # 세부품명내용이 40인 것은 영향을 끼치지 않는다\n",
    "p_value_all.append(p_value_세부품명내용_40)\n",
    "idx.append('p_value_세부품명내용_40')\n",
    "p_value_세부품명내용_40"
   ]
  },
  {
   "cell_type": "code",
   "execution_count": 445,
   "metadata": {},
   "outputs": [
    {
     "data": {
      "text/plain": [
       "0.059"
      ]
     },
     "execution_count": 445,
     "metadata": {},
     "output_type": "execute_result"
    }
   ],
   "source": [
    "p_value_세부품명내용_47 = FDR_boosting_two_kind(df_B5_3, '세부품명내용','47',1000) # 세부품명내용이 47인 것은 영향을 끼친다\n",
    "p_value_all.append(p_value_세부품명내용_47)\n",
    "idx.append('p_value_세부품명내용_47')\n",
    "p_value_세부품명내용_47"
   ]
  },
  {
   "cell_type": "code",
   "execution_count": 446,
   "metadata": {},
   "outputs": [
    {
     "data": {
      "text/plain": [
       "0.071"
      ]
     },
     "execution_count": 446,
     "metadata": {},
     "output_type": "execute_result"
    }
   ],
   "source": [
    "p_value_세부품명내용_39 = FDR_boosting_two_kind(df_B5_3, '세부품명내용','39',1000) # 세부품명내용이 39인 것은 영향을 끼치지 않는다\n",
    "p_value_all.append(p_value_세부품명내용_39)\n",
    "idx.append('p_value_세부품명내용_39')\n",
    "p_value_세부품명내용_39"
   ]
  },
  {
   "cell_type": "code",
   "execution_count": 447,
   "metadata": {},
   "outputs": [
    {
     "data": {
      "text/plain": [
       "0.128"
      ]
     },
     "execution_count": 447,
     "metadata": {},
     "output_type": "execute_result"
    }
   ],
   "source": [
    "p_value_세부품명내용_24 = FDR_boosting_two_kind(df_B5_3, '세부품명내용','24',1000) # 세부품명내용이 24인 것은 영향을 끼치지 않는다\n",
    "p_value_all.append(p_value_세부품명내용_24)\n",
    "idx.append('p_value_세부품명내용_24')\n",
    "p_value_세부품명내용_24"
   ]
  },
  {
   "cell_type": "code",
   "execution_count": 448,
   "metadata": {},
   "outputs": [
    {
     "data": {
      "text/plain": [
       "array(['30', '40', '47', '39', '24', '60', '25', '0', '26', '55', '46',\n",
       "       '43', '45'], dtype=object)"
      ]
     },
     "execution_count": 448,
     "metadata": {},
     "output_type": "execute_result"
    }
   ],
   "source": [
    "df_B5_3['세부품명내용'].unique()"
   ]
  },
  {
   "cell_type": "code",
   "execution_count": 449,
   "metadata": {},
   "outputs": [
    {
     "data": {
      "text/plain": [
       "0.083"
      ]
     },
     "execution_count": 449,
     "metadata": {},
     "output_type": "execute_result"
    }
   ],
   "source": [
    "p_value_세부품명내용_60 = FDR_boosting_two_kind(df_B5_3, '세부품명내용','60',1000) # 세부품명내용이 60인 것은 영향을 끼치지 않는다\n",
    "p_value_all.append(p_value_세부품명내용_60)\n",
    "idx.append('p_value_세부품명내용_60')\n",
    "p_value_세부품명내용_60"
   ]
  },
  {
   "cell_type": "code",
   "execution_count": 450,
   "metadata": {},
   "outputs": [
    {
     "data": {
      "text/plain": [
       "0.101"
      ]
     },
     "execution_count": 450,
     "metadata": {},
     "output_type": "execute_result"
    }
   ],
   "source": [
    "p_value_세부품명내용_25 = FDR_boosting_two_kind(df_B5_3, '세부품명내용','25',1000) # 세부품명내용이 25인 것은 영향을 끼치지 않는다\n",
    "p_value_all.append(p_value_세부품명내용_25)\n",
    "idx.append('p_value_세부품명내용_25')\n",
    "p_value_세부품명내용_25"
   ]
  },
  {
   "cell_type": "code",
   "execution_count": 451,
   "metadata": {},
   "outputs": [
    {
     "data": {
      "text/plain": [
       "0.927"
      ]
     },
     "execution_count": 451,
     "metadata": {},
     "output_type": "execute_result"
    }
   ],
   "source": [
    "p_value_세부품명내용_0 = FDR_boosting_two_kind(df_B5_3, '세부품명내용','0',1000) # 세부품명내용이 0인 것은 영향을 끼치지 않는다\n",
    "p_value_all.append(p_value_세부품명내용_0)\n",
    "idx.append('p_value_세부품명내용_0')\n",
    "p_value_세부품명내용_0"
   ]
  },
  {
   "cell_type": "code",
   "execution_count": 452,
   "metadata": {},
   "outputs": [
    {
     "data": {
      "text/plain": [
       "0.08"
      ]
     },
     "execution_count": 452,
     "metadata": {},
     "output_type": "execute_result"
    }
   ],
   "source": [
    "p_value_세부품명내용_26 = FDR_boosting_two_kind(df_B5_3, '세부품명내용','26',1000) # 세부품명내용이 26인 것은 영향을 끼치지 않는다\n",
    "p_value_all.append(p_value_세부품명내용_26)\n",
    "idx.append('p_value_세부품명내용_26')\n",
    "p_value_세부품명내용_26"
   ]
  },
  {
   "cell_type": "code",
   "execution_count": 453,
   "metadata": {},
   "outputs": [
    {
     "data": {
      "text/plain": [
       "0.081"
      ]
     },
     "execution_count": 453,
     "metadata": {},
     "output_type": "execute_result"
    }
   ],
   "source": [
    "p_value_세부품명내용_55 = FDR_boosting_two_kind(df_B5_3, '세부품명내용','55',1000) # 세부품명내용이 55인 것은 영향을 끼치지 않는다\n",
    "p_value_all.append(p_value_세부품명내용_55)\n",
    "idx.append('p_value_세부품명내용_55')\n",
    "p_value_세부품명내용_55"
   ]
  },
  {
   "cell_type": "code",
   "execution_count": 454,
   "metadata": {},
   "outputs": [
    {
     "data": {
      "text/plain": [
       "0.057"
      ]
     },
     "execution_count": 454,
     "metadata": {},
     "output_type": "execute_result"
    }
   ],
   "source": [
    "p_value_세부품명내용_46 = FDR_boosting_two_kind(df_B5_3, '세부품명내용','46',1000) # 세부품명내용이 46인 것은 영향을 끼친다\n",
    "p_value_all.append(p_value_세부품명내용_46)\n",
    "idx.append('p_value_세부품명내용_46')\n",
    "p_value_세부품명내용_46"
   ]
  },
  {
   "cell_type": "code",
   "execution_count": 455,
   "metadata": {},
   "outputs": [
    {
     "data": {
      "text/plain": [
       "0.0585"
      ]
     },
     "execution_count": 455,
     "metadata": {},
     "output_type": "execute_result"
    }
   ],
   "source": [
    "p_value_세부품명내용_43 = FDR_boosting_two_kind(df_B5_3, '세부품명내용','43',2000) # 세부품명내용이 43인 것은 영향을 끼친다\n",
    "p_value_all.append(p_value_세부품명내용_43)\n",
    "idx.append('p_value_세부품명내용_43')\n",
    "p_value_세부품명내용_43"
   ]
  },
  {
   "cell_type": "code",
   "execution_count": 456,
   "metadata": {},
   "outputs": [
    {
     "data": {
      "text/plain": [
       "0.071"
      ]
     },
     "execution_count": 456,
     "metadata": {},
     "output_type": "execute_result"
    }
   ],
   "source": [
    "p_value_세부품명내용_45 = FDR_boosting_two_kind(df_B5_3, '세부품명내용','45',1000) # 세부품명내용이 45인 것은 영향을 끼친다\n",
    "p_value_all.append(p_value_세부품명내용_45)\n",
    "idx.append('p_value_세부품명내용_45')\n",
    "p_value_세부품명내용_45"
   ]
  },
  {
   "cell_type": "code",
   "execution_count": 457,
   "metadata": {},
   "outputs": [
    {
     "data": {
      "text/plain": [
       "0.02"
      ]
     },
     "execution_count": 457,
     "metadata": {},
     "output_type": "execute_result"
    }
   ],
   "source": [
    "p_value_긴급공고여부_기한존재 = FDR_boosting_two_kind(df_B5_3, '긴급공고여부','기한존재',1000) # 긴급공고여부가 Y인 것은 영향을 끼친다\n",
    "p_value_all.append(p_value_긴급공고여부_기한존재)\n",
    "idx.append('p_value_긴급공고여부_기한존재')\n",
    "p_value_긴급공고여부_기한존재"
   ]
  },
  {
   "cell_type": "code",
   "execution_count": 458,
   "metadata": {},
   "outputs": [
    {
     "data": {
      "text/plain": [
       "0.106"
      ]
     },
     "execution_count": 458,
     "metadata": {},
     "output_type": "execute_result"
    }
   ],
   "source": [
    "p_value_긴급공고여부_Y = FDR_boosting_two_kind(df_B5_3, '긴급공고여부','Y',1000) # 긴급공고여부가 Y인 것은 영향을 끼치지 않는다\n",
    "p_value_all.append(p_value_긴급공고여부_Y)\n",
    "idx.append('p_value_긴급공고여부_Y')\n",
    "p_value_긴급공고여부_Y"
   ]
  },
  {
   "cell_type": "code",
   "execution_count": 459,
   "metadata": {},
   "outputs": [
    {
     "data": {
      "text/plain": [
       "0.958"
      ]
     },
     "execution_count": 459,
     "metadata": {},
     "output_type": "execute_result"
    }
   ],
   "source": [
    "p_value_긴급공고여부_N = FDR_boosting_two_kind(df_B5_3, '긴급공고여부','N',1000) # 긴급공고여부가 N인 것은 영향을 끼치지 않는다\n",
    "p_value_all.append(p_value_긴급공고여부_N)\n",
    "idx.append('p_value_긴급공고여부_N')\n",
    "p_value_긴급공고여부_N"
   ]
  },
  {
   "cell_type": "code",
   "execution_count": 460,
   "metadata": {},
   "outputs": [
    {
     "data": {
      "text/plain": [
       "0.03"
      ]
     },
     "execution_count": 460,
     "metadata": {},
     "output_type": "execute_result"
    }
   ],
   "source": [
    "p_value_정정공고여부 = FDR_boosting_two_kind(df_B5_3, '정정공고여부','Y',1000) # 정정공고여부는 영향을 끼친다.\n",
    "p_value_all.append(p_value_정정공고여부)\n",
    "idx.append('p_value_정정공고여부')\n",
    "p_value_정정공고여부"
   ]
  },
  {
   "cell_type": "code",
   "execution_count": 461,
   "metadata": {},
   "outputs": [
    {
     "data": {
      "text/plain": [
       "0.019"
      ]
     },
     "execution_count": 461,
     "metadata": {},
     "output_type": "execute_result"
    }
   ],
   "source": [
    "p_value_취소공고여부 = FDR_boosting_two_kind(df_B5_3, '취소공고여부','Y',1000) # 취소공고여부는 영향을 끼친다.\n",
    "p_value_all.append(p_value_취소공고여부)\n",
    "idx.append('p_value_취소공고여부')\n",
    "p_value_취소공고여부"
   ]
  },
  {
   "cell_type": "code",
   "execution_count": 462,
   "metadata": {},
   "outputs": [
    {
     "data": {
      "text/plain": [
       "0.981"
      ]
     },
     "execution_count": 462,
     "metadata": {},
     "output_type": "execute_result"
    }
   ],
   "source": [
    "p_value_입찰방식_전자입찰 = FDR_boosting_two_kind(df_B5_3, '입찰방식','전자입찰',1000) \n",
    "p_value_all.append(p_value_입찰방식_전자입찰)\n",
    "idx.append('p_value_입찰방식_전자입찰')\n",
    "p_value_입찰방식_전자입찰"
   ]
  },
  {
   "cell_type": "code",
   "execution_count": 463,
   "metadata": {},
   "outputs": [
    {
     "data": {
      "text/plain": [
       "0.981"
      ]
     },
     "execution_count": 463,
     "metadata": {},
     "output_type": "execute_result"
    }
   ],
   "source": [
    "p_value_입찰방식_전자시담 = FDR_boosting_two_kind(df_B5_3, '입찰방식','전자시담',1000) \n",
    "p_value_all.append(p_value_입찰방식_전자시담)\n",
    "idx.append('p_value_입찰방식_전자시담')\n",
    "p_value_입찰방식_전자입찰"
   ]
  },
  {
   "cell_type": "code",
   "execution_count": 464,
   "metadata": {},
   "outputs": [
    {
     "data": {
      "text/plain": [
       "0.091"
      ]
     },
     "execution_count": 464,
     "metadata": {},
     "output_type": "execute_result"
    }
   ],
   "source": [
    "p_value_입찰방식_전자입찰_직찰 = FDR_boosting_two_kind(df_B5_3, '입찰방식','전자입찰/직찰',1000)\n",
    "p_value_all.append(p_value_입찰방식_전자입찰_직찰)\n",
    "idx.append('p_value_입찰방식_전자입찰_직찰')\n",
    "p_value_입찰방식_전자입찰_직찰"
   ]
  },
  {
   "cell_type": "code",
   "execution_count": 465,
   "metadata": {},
   "outputs": [
    {
     "data": {
      "text/plain": [
       "0.063"
      ]
     },
     "execution_count": 465,
     "metadata": {},
     "output_type": "execute_result"
    }
   ],
   "source": [
    "p_value_입찰방식_전자시담_다자간 = FDR_boosting_two_kind(df_B5_3, '입찰방식','전자시담(다자간)',1000) \n",
    "p_value_all.append(p_value_입찰방식_전자시담_다자간)\n",
    "idx.append('p_value_입찰방식_전자시담_다자간')\n",
    "p_value_입찰방식_전자시담_다자간"
   ]
  },
  {
   "cell_type": "code",
   "execution_count": 466,
   "metadata": {},
   "outputs": [
    {
     "data": {
      "text/plain": [
       "0.037"
      ]
     },
     "execution_count": 466,
     "metadata": {},
     "output_type": "execute_result"
    }
   ],
   "source": [
    "p_value_재입찰허용여부 = FDR_boosting_two_kind(df_B5_3, '재입찰허용여부','Y',1000) # 취소공고여부는 영향을 끼친다.\n",
    "p_value_all.append(p_value_재입찰허용여부)\n",
    "idx.append('p_value_재입찰허용여부')\n",
    "p_value_재입찰허용여부"
   ]
  },
  {
   "cell_type": "code",
   "execution_count": 467,
   "metadata": {},
   "outputs": [
    {
     "data": {
      "text/plain": [
       "0.045"
      ]
     },
     "execution_count": 467,
     "metadata": {},
     "output_type": "execute_result"
    }
   ],
   "source": [
    "p_value_낙찰자결정방법_알수없음 = FDR_boosting_two_kind(df_B5_3, '낙찰자결정방법','알수없음',1000) # 취소공고여부는 영향을 끼친다.\n",
    "p_value_all.append(p_value_낙찰자결정방법_알수없음)\n",
    "idx.append('p_value_낙찰자결정방법_알수없음')\n",
    "p_value_낙찰자결정방법_알수없음"
   ]
  },
  {
   "cell_type": "code",
   "execution_count": 468,
   "metadata": {},
   "outputs": [
    {
     "data": {
      "text/plain": [
       "0.007"
      ]
     },
     "execution_count": 468,
     "metadata": {},
     "output_type": "execute_result"
    }
   ],
   "source": [
    "p_value_낙찰자결정방법_중기간_경쟁물품_계약이행능력심사 = FDR_boosting_two_kind(df_B5_3, '낙찰자결정방법','중기간 경쟁물품 계약이행능력심사',1000) # 취소공고여부는 영향을 끼친다.\n",
    "p_value_all.append(p_value_낙찰자결정방법_중기간_경쟁물품_계약이행능력심사)\n",
    "idx.append('p_value_낙찰자결정방법_중기간_경쟁물품_계약이행능력심사')\n",
    "p_value_낙찰자결정방법_중기간_경쟁물품_계약이행능력심사"
   ]
  },
  {
   "cell_type": "code",
   "execution_count": 469,
   "metadata": {},
   "outputs": [
    {
     "data": {
      "text/plain": [
       "0.053"
      ]
     },
     "execution_count": 469,
     "metadata": {},
     "output_type": "execute_result"
    }
   ],
   "source": [
    "p_value_낙찰자결정방법_제한적최저가 = FDR_boosting_two_kind(df_B5_3, '낙찰자결정방법','제한적최저가',1000) # 취소공고여부는 영향을 끼친다.\n",
    "p_value_all.append(p_value_낙찰자결정방법_제한적최저가)\n",
    "idx.append('p_value_낙찰자결정방법_제한적최저가')\n",
    "p_value_낙찰자결정방법_제한적최저가"
   ]
  },
  {
   "cell_type": "code",
   "execution_count": 470,
   "metadata": {},
   "outputs": [
    {
     "data": {
      "text/plain": [
       "0.007"
      ]
     },
     "execution_count": 470,
     "metadata": {},
     "output_type": "execute_result"
    }
   ],
   "source": [
    "p_value_낙찰자결정방법_수의 = FDR_boosting_two_kind(df_B5_3, '낙찰자결정방법','수의',1000) # 취소공고여부는 영향을 끼친다.\n",
    "p_value_all.append(p_value_낙찰자결정방법_수의)\n",
    "idx.append('p_value_낙찰자결정방법_수의')\n",
    "p_value_낙찰자결정방법_수의"
   ]
  },
  {
   "cell_type": "code",
   "execution_count": 471,
   "metadata": {},
   "outputs": [
    {
     "data": {
      "text/plain": [
       "0.912"
      ]
     },
     "execution_count": 471,
     "metadata": {},
     "output_type": "execute_result"
    }
   ],
   "source": [
    "p_value_낙찰자결정방법_적격심사제 = FDR_boosting_two_kind(df_B5_3, '낙찰자결정방법','적격심사제',1000) # 취소공고여부는 영향을 끼친다.\n",
    "p_value_all.append(p_value_낙찰자결정방법_적격심사제)\n",
    "idx.append('p_value_낙찰자결정방법_적격심사제')\n",
    "p_value_낙찰자결정방법_적격심사제"
   ]
  },
  {
   "cell_type": "code",
   "execution_count": 472,
   "metadata": {},
   "outputs": [
    {
     "data": {
      "text/plain": [
       "0.045"
      ]
     },
     "execution_count": 472,
     "metadata": {},
     "output_type": "execute_result"
    }
   ],
   "source": [
    "p_value_낙찰자결정방법_협상에_의한_낙찰자_결정 = FDR_boosting_two_kind(df_B5_3, '낙찰자결정방법','협상에 의한 낙찰자 결정',1000) # 취소공고여부는 영향을 끼친다.\n",
    "p_value_all.append(p_value_낙찰자결정방법_협상에_의한_낙찰자_결정)\n",
    "idx.append('p_value_낙찰자결정방법_협상에_의한_낙찰자_결정')\n",
    "p_value_낙찰자결정방법_협상에_의한_낙찰자_결정"
   ]
  },
  {
   "cell_type": "code",
   "execution_count": 473,
   "metadata": {},
   "outputs": [
    {
     "data": {
      "text/plain": [
       "0.003"
      ]
     },
     "execution_count": 473,
     "metadata": {},
     "output_type": "execute_result"
    }
   ],
   "source": [
    "p_value_낙찰자결정방법_최저가낙찰자결정 = FDR_boosting_two_kind(df_B5_3, '낙찰자결정방법','최저가낙찰자결정',1000) # 취소공고여부는 영향을 끼친다.\n",
    "p_value_all.append(p_value_낙찰자결정방법_최저가낙찰자결정)\n",
    "idx.append('p_value_낙찰자결정방법_최저가낙찰자결정')\n",
    "p_value_낙찰자결정방법_최저가낙찰자결정"
   ]
  },
  {
   "cell_type": "code",
   "execution_count": 474,
   "metadata": {},
   "outputs": [
    {
     "data": {
      "text/plain": [
       "0.09"
      ]
     },
     "execution_count": 474,
     "metadata": {},
     "output_type": "execute_result"
    }
   ],
   "source": [
    "p_value_낙찰자결정방법_2단계입찰 = FDR_boosting_two_kind(df_B5_3, '낙찰자결정방법','2단계입찰',1000) # 취소공고여부는 영향을 끼친다.\n",
    "p_value_all.append(p_value_낙찰자결정방법_2단계입찰)\n",
    "idx.append('p_value_낙찰자결정방법_2단계입찰')\n",
    "p_value_낙찰자결정방법_2단계입찰"
   ]
  },
  {
   "cell_type": "code",
   "execution_count": 475,
   "metadata": {},
   "outputs": [
    {
     "data": {
      "text/plain": [
       "0.049"
      ]
     },
     "execution_count": 475,
     "metadata": {},
     "output_type": "execute_result"
    }
   ],
   "source": [
    "p_value_낙찰자결정방법_종합낙찰자결정 = FDR_boosting_two_kind(df_B5_3, '낙찰자결정방법','종합낙찰자결정',1000) # 취소공고여부는 영향을 끼친다.\n",
    "p_value_all.append(p_value_낙찰자결정방법_종합낙찰자결정)\n",
    "idx.append('p_value_낙찰자결정방법_종합낙찰자결정')\n",
    "p_value_낙찰자결정방법_종합낙찰자결정"
   ]
  },
  {
   "cell_type": "code",
   "execution_count": 476,
   "metadata": {},
   "outputs": [
    {
     "data": {
      "text/plain": [
       "0.073"
      ]
     },
     "execution_count": 476,
     "metadata": {},
     "output_type": "execute_result"
    }
   ],
   "source": [
    "p_value_낙찰자결정방법_중기간_경쟁물품_계약이행능력심사_기술등급적용 = FDR_boosting_two_kind(df_B5_3, '낙찰자결정방법','중기간 경쟁물품 계약이행능력심사-기술등급적용',1000) # 취소공고여부는 영향을 끼친다.\n",
    "p_value_all.append(p_value_낙찰자결정방법_중기간_경쟁물품_계약이행능력심사_기술등급적용)\n",
    "idx.append('p_value_낙찰자결정방법_중기간_경쟁물품_계약이행능력심사_기술등급적용')\n",
    "p_value_낙찰자결정방법_중기간_경쟁물품_계약이행능력심사_기술등급적용"
   ]
  },
  {
   "cell_type": "code",
   "execution_count": 477,
   "metadata": {},
   "outputs": [
    {
     "data": {
      "text/plain": [
       "0.027"
      ]
     },
     "execution_count": 477,
     "metadata": {},
     "output_type": "execute_result"
    }
   ],
   "source": [
    "p_value_입찰계약방법_제한_총액 = FDR_boosting_two_kind(df_B5_3, '입찰계약방법','제한(총액)',1000) # 취소공고여부는 영향을 끼친다.\n",
    "p_value_all.append(p_value_입찰계약방법_제한_총액)\n",
    "idx.append('p_value_입찰계약방법_제한_총액')\n",
    "p_value_입찰계약방법_제한_총액"
   ]
  },
  {
   "cell_type": "code",
   "execution_count": 478,
   "metadata": {},
   "outputs": [
    {
     "data": {
      "text/plain": [
       "0.005"
      ]
     },
     "execution_count": 478,
     "metadata": {},
     "output_type": "execute_result"
    }
   ],
   "source": [
    "p_value_입찰계약방법_지명_총액 = FDR_boosting_two_kind(df_B5_3, '입찰계약방법','지명(총액)',1000) # 취소공고여부는 영향을 끼친다.\n",
    "p_value_all.append(p_value_입찰계약방법_지명_총액)\n",
    "idx.append('p_value_입찰계약방법_지명_총액')\n",
    "p_value_입찰계약방법_지명_총액"
   ]
  },
  {
   "cell_type": "code",
   "execution_count": 479,
   "metadata": {},
   "outputs": [
    {
     "data": {
      "text/plain": [
       "0.004"
      ]
     },
     "execution_count": 479,
     "metadata": {},
     "output_type": "execute_result"
    }
   ],
   "source": [
    "p_value_입찰계약방법_수의_총액 = FDR_boosting_two_kind(df_B5_3, '입찰계약방법','수의(총액)',1000) # 취소공고여부는 영향을 끼친다.\n",
    "p_value_all.append(p_value_입찰계약방법_수의_총액)\n",
    "idx.append('p_value_입찰계약방법_수의_총액')\n",
    "p_value_입찰계약방법_수의_총액"
   ]
  },
  {
   "cell_type": "code",
   "execution_count": 480,
   "metadata": {},
   "outputs": [
    {
     "data": {
      "text/plain": [
       "0.007"
      ]
     },
     "execution_count": 480,
     "metadata": {},
     "output_type": "execute_result"
    }
   ],
   "source": [
    "p_value_입찰계약방법_일반_총액 = FDR_boosting_two_kind(df_B5_3, '입찰계약방법','일반(총액)',1000) # 취소공고여부는 영향을 끼친다.\n",
    "p_value_all.append(p_value_입찰계약방법_일반_총액)\n",
    "idx.append('p_value_입찰계약방법_일반_총액')\n",
    "p_value_입찰계약방법_일반_총액"
   ]
  },
  {
   "cell_type": "code",
   "execution_count": 481,
   "metadata": {},
   "outputs": [
    {
     "data": {
      "text/plain": [
       "0.099"
      ]
     },
     "execution_count": 481,
     "metadata": {},
     "output_type": "execute_result"
    }
   ],
   "source": [
    "p_value_입찰계약방법_수의_총액 = FDR_boosting_two_kind(df_B5_3, '입찰계약방법','일반(단가)',1000) # 취소공고여부는 영향을 끼친다.\n",
    "p_value_all.append(p_value_입찰계약방법_수의_총액)\n",
    "idx.append('p_value_입찰계약방법_수의_총액')\n",
    "p_value_입찰계약방법_수의_총액"
   ]
  },
  {
   "cell_type": "code",
   "execution_count": 482,
   "metadata": {},
   "outputs": [
    {
     "data": {
      "text/plain": [
       "0.101"
      ]
     },
     "execution_count": 482,
     "metadata": {},
     "output_type": "execute_result"
    }
   ],
   "source": [
    "p_value_입찰계약방법_지명_단가 = FDR_boosting_two_kind(df_B5_3, '입찰계약방법','지명(단가)',1000) # 취소공고여부는 영향을 끼친다.\n",
    "p_value_all.append(p_value_입찰계약방법_지명_단가)\n",
    "idx.append('p_value_입찰계약방법_지명_단가')\n",
    "p_value_입찰계약방법_지명_단가"
   ]
  },
  {
   "cell_type": "code",
   "execution_count": 483,
   "metadata": {},
   "outputs": [
    {
     "data": {
      "text/plain": [
       "0.065"
      ]
     },
     "execution_count": 483,
     "metadata": {},
     "output_type": "execute_result"
    }
   ],
   "source": [
    "p_value_입찰계약방법_제한_삼자단가 = FDR_boosting_two_kind(df_B5_3, '입찰계약방법','제한(3자단가)',1000) # 취소공고여부는 영향을 끼친다.\n",
    "p_value_all.append(p_value_입찰계약방법_제한_삼자단가)\n",
    "idx.append('p_value_입찰계약방법_제한_삼자단가')\n",
    "p_value_입찰계약방법_제한_삼자단가"
   ]
  },
  {
   "cell_type": "code",
   "execution_count": 484,
   "metadata": {},
   "outputs": [
    {
     "data": {
      "text/plain": [
       "0.077"
      ]
     },
     "execution_count": 484,
     "metadata": {},
     "output_type": "execute_result"
    }
   ],
   "source": [
    "p_value_입찰계약방법_제한_수의_단가 = FDR_boosting_two_kind(df_B5_3, '입찰계약방법','수의(단가)',1000) # 취소공고여부는 영향을 끼친다.\n",
    "p_value_all.append(p_value_입찰계약방법_제한_수의_단가)\n",
    "idx.append('p_value_입찰계약방법_제한_수의_단가')\n",
    "p_value_입찰계약방법_제한_수의_단가"
   ]
  },
  {
   "cell_type": "code",
   "execution_count": 485,
   "metadata": {},
   "outputs": [
    {
     "data": {
      "text/plain": [
       "0.042"
      ]
     },
     "execution_count": 485,
     "metadata": {},
     "output_type": "execute_result"
    }
   ],
   "source": [
    "p_value_업종제한내용 = FDR_boosting_two_kind(df_B5_3, '업종제한내용','Y',1000) # 취소공고여부는 영향을 끼친다.\n",
    "p_value_all.append(p_value_업종제한내용)\n",
    "idx.append('p_value_업종제한내용')\n",
    "p_value_업종제한내용"
   ]
  },
  {
   "cell_type": "code",
   "execution_count": 486,
   "metadata": {},
   "outputs": [
    {
     "data": {
      "text/plain": [
       "0.003"
      ]
     },
     "execution_count": 486,
     "metadata": {},
     "output_type": "execute_result"
    }
   ],
   "source": [
    "p_value_지역제한내용 = FDR_boosting_two_kind(df_B5_3, '지역제한내용','Y',1000) # 취소공고여부는 영향을 끼친다.\n",
    "p_value_all.append(p_value_지역제한내용)\n",
    "idx.append('p_value_지역제한내용')\n",
    "p_value_지역제한내용"
   ]
  },
  {
   "cell_type": "code",
   "execution_count": 487,
   "metadata": {},
   "outputs": [
    {
     "data": {
      "text/plain": [
       "0.079"
      ]
     },
     "execution_count": 487,
     "metadata": {},
     "output_type": "execute_result"
    }
   ],
   "source": [
    "p_value_국제입찰여부 = FDR_boosting_two_kind(df_B5_3, '국제입찰여부','Y',1000) # 취소공고여부는 영향을 끼친다.\n",
    "p_value_all.append(p_value_국제입찰여부)\n",
    "idx.append('p_value_국제입찰여부')\n",
    "p_value_국제입찰여부"
   ]
  },
  {
   "cell_type": "code",
   "execution_count": 488,
   "metadata": {},
   "outputs": [],
   "source": [
    "df_B5_3['합계수량_여부'] = df_B5_3['합계수량_여부'].astype('str')"
   ]
  },
  {
   "cell_type": "code",
   "execution_count": 489,
   "metadata": {},
   "outputs": [
    {
     "data": {
      "text/plain": [
       "0.045"
      ]
     },
     "execution_count": 489,
     "metadata": {},
     "output_type": "execute_result"
    }
   ],
   "source": [
    "p_value_합계수량_여부 = FDR_boosting_two_kind(df_B5_3, '합계수량_여부','1',1000) # 취소공고여부는 영향을 끼친다.\n",
    "p_value_all.append(p_value_합계수량_여부)\n",
    "idx.append('p_value_합계수량_여부')\n",
    "p_value_합계수량_여부"
   ]
  },
  {
   "cell_type": "code",
   "execution_count": null,
   "metadata": {},
   "outputs": [],
   "source": []
  },
  {
   "cell_type": "code",
   "execution_count": 490,
   "metadata": {},
   "outputs": [],
   "source": [
    "df_p_value_all = pd.DataFrame(p_value_all,index= idx,columns = ['P_value'])"
   ]
  },
  {
   "cell_type": "markdown",
   "metadata": {},
   "source": [
    "# 직접 FDR을 수행한다."
   ]
  },
  {
   "cell_type": "code",
   "execution_count": 491,
   "metadata": {
    "scrolled": true
   },
   "outputs": [],
   "source": [
    "df_p_value_all = df_p_value_all.sort_values(by = 'P_value')"
   ]
  },
  {
   "cell_type": "code",
   "execution_count": 492,
   "metadata": {},
   "outputs": [
    {
     "data": {
      "text/html": [
       "<div>\n",
       "<style scoped>\n",
       "    .dataframe tbody tr th:only-of-type {\n",
       "        vertical-align: middle;\n",
       "    }\n",
       "\n",
       "    .dataframe tbody tr th {\n",
       "        vertical-align: top;\n",
       "    }\n",
       "\n",
       "    .dataframe thead th {\n",
       "        text-align: right;\n",
       "    }\n",
       "</style>\n",
       "<table border=\"1\" class=\"dataframe\">\n",
       "  <thead>\n",
       "    <tr style=\"text-align: right;\">\n",
       "      <th></th>\n",
       "      <th>P_value</th>\n",
       "    </tr>\n",
       "  </thead>\n",
       "  <tbody>\n",
       "    <tr>\n",
       "      <th>p_value_낙찰자결정방법_최저가낙찰자결정</th>\n",
       "      <td>0.003</td>\n",
       "    </tr>\n",
       "    <tr>\n",
       "      <th>p_value_지역제한내용</th>\n",
       "      <td>0.003</td>\n",
       "    </tr>\n",
       "    <tr>\n",
       "      <th>p_value_입찰계약방법_수의_총액</th>\n",
       "      <td>0.004</td>\n",
       "    </tr>\n",
       "    <tr>\n",
       "      <th>p_value_입찰계약방법_지명_총액</th>\n",
       "      <td>0.005</td>\n",
       "    </tr>\n",
       "    <tr>\n",
       "      <th>p_value_입찰계약방법_일반_총액</th>\n",
       "      <td>0.007</td>\n",
       "    </tr>\n",
       "  </tbody>\n",
       "</table>\n",
       "</div>"
      ],
      "text/plain": [
       "                          P_value\n",
       "p_value_낙찰자결정방법_최저가낙찰자결정    0.003\n",
       "p_value_지역제한내용              0.003\n",
       "p_value_입찰계약방법_수의_총액        0.004\n",
       "p_value_입찰계약방법_지명_총액        0.005\n",
       "p_value_입찰계약방법_일반_총액        0.007"
      ]
     },
     "execution_count": 492,
     "metadata": {},
     "output_type": "execute_result"
    }
   ],
   "source": [
    "df_p_value_all.head()"
   ]
  },
  {
   "cell_type": "code",
   "execution_count": 493,
   "metadata": {},
   "outputs": [],
   "source": [
    "alpha = 0.05"
   ]
  },
  {
   "cell_type": "markdown",
   "metadata": {},
   "source": [
    "### alpha = p_value threshold >> FDR : 기각된 가설 중 잘못 기각된 가설이 차지하는 평균 비율"
   ]
  },
  {
   "cell_type": "code",
   "execution_count": 494,
   "metadata": {},
   "outputs": [],
   "source": [
    "df_p_value_all['i/m*a'] = [((i+1)/df_p_value_all.shape[0]) * (alpha / 1) for i,j in enumerate(df_p_value_all['P_value'])] # 여기서 alpha Type I과 다르다.\n"
   ]
  },
  {
   "cell_type": "code",
   "execution_count": 504,
   "metadata": {},
   "outputs": [
    {
     "data": {
      "text/plain": [
       "Index(['p_value_낙찰자결정방법_수의'], dtype='object')"
      ]
     },
     "execution_count": 504,
     "metadata": {},
     "output_type": "execute_result"
    }
   ],
   "source": [
    "df_p_value_all[df_p_value_all['P_value'] < df_p_value_all['i/m*a']].index"
   ]
  },
  {
   "cell_type": "code",
   "execution_count": 496,
   "metadata": {
    "scrolled": true
   },
   "outputs": [
    {
     "data": {
      "text/html": [
       "<div>\n",
       "<style scoped>\n",
       "    .dataframe tbody tr th:only-of-type {\n",
       "        vertical-align: middle;\n",
       "    }\n",
       "\n",
       "    .dataframe tbody tr th {\n",
       "        vertical-align: top;\n",
       "    }\n",
       "\n",
       "    .dataframe thead th {\n",
       "        text-align: right;\n",
       "    }\n",
       "</style>\n",
       "<table border=\"1\" class=\"dataframe\">\n",
       "  <thead>\n",
       "    <tr style=\"text-align: right;\">\n",
       "      <th></th>\n",
       "      <th>P_value</th>\n",
       "      <th>i/m*a</th>\n",
       "    </tr>\n",
       "  </thead>\n",
       "  <tbody>\n",
       "    <tr>\n",
       "      <th>p_value_낙찰자결정방법_최저가낙찰자결정</th>\n",
       "      <td>0.0030</td>\n",
       "      <td>0.001064</td>\n",
       "    </tr>\n",
       "    <tr>\n",
       "      <th>p_value_지역제한내용</th>\n",
       "      <td>0.0030</td>\n",
       "      <td>0.002128</td>\n",
       "    </tr>\n",
       "    <tr>\n",
       "      <th>p_value_입찰계약방법_수의_총액</th>\n",
       "      <td>0.0040</td>\n",
       "      <td>0.003191</td>\n",
       "    </tr>\n",
       "    <tr>\n",
       "      <th>p_value_입찰계약방법_지명_총액</th>\n",
       "      <td>0.0050</td>\n",
       "      <td>0.004255</td>\n",
       "    </tr>\n",
       "    <tr>\n",
       "      <th>p_value_입찰계약방법_일반_총액</th>\n",
       "      <td>0.0070</td>\n",
       "      <td>0.005319</td>\n",
       "    </tr>\n",
       "    <tr>\n",
       "      <th>p_value_낙찰자결정방법_중기간_경쟁물품_계약이행능력심사</th>\n",
       "      <td>0.0070</td>\n",
       "      <td>0.006383</td>\n",
       "    </tr>\n",
       "    <tr>\n",
       "      <th>p_value_낙찰자결정방법_수의</th>\n",
       "      <td>0.0070</td>\n",
       "      <td>0.007447</td>\n",
       "    </tr>\n",
       "    <tr>\n",
       "      <th>p_value_조달구분</th>\n",
       "      <td>0.0170</td>\n",
       "      <td>0.008511</td>\n",
       "    </tr>\n",
       "    <tr>\n",
       "      <th>p_value_취소공고여부</th>\n",
       "      <td>0.0190</td>\n",
       "      <td>0.009574</td>\n",
       "    </tr>\n",
       "    <tr>\n",
       "      <th>p_value_긴급공고여부_기한존재</th>\n",
       "      <td>0.0200</td>\n",
       "      <td>0.010638</td>\n",
       "    </tr>\n",
       "    <tr>\n",
       "      <th>p_value_등록유형</th>\n",
       "      <td>0.0270</td>\n",
       "      <td>0.011702</td>\n",
       "    </tr>\n",
       "    <tr>\n",
       "      <th>p_value_입찰계약방법_제한_총액</th>\n",
       "      <td>0.0270</td>\n",
       "      <td>0.012766</td>\n",
       "    </tr>\n",
       "    <tr>\n",
       "      <th>p_value_정정공고여부</th>\n",
       "      <td>0.0300</td>\n",
       "      <td>0.013830</td>\n",
       "    </tr>\n",
       "    <tr>\n",
       "      <th>p_value_재입찰허용여부</th>\n",
       "      <td>0.0370</td>\n",
       "      <td>0.014894</td>\n",
       "    </tr>\n",
       "    <tr>\n",
       "      <th>p_value_업종제한내용</th>\n",
       "      <td>0.0420</td>\n",
       "      <td>0.015957</td>\n",
       "    </tr>\n",
       "    <tr>\n",
       "      <th>p_value_낙찰자결정방법_알수없음</th>\n",
       "      <td>0.0450</td>\n",
       "      <td>0.017021</td>\n",
       "    </tr>\n",
       "    <tr>\n",
       "      <th>p_value_낙찰자결정방법_협상에_의한_낙찰자_결정</th>\n",
       "      <td>0.0450</td>\n",
       "      <td>0.018085</td>\n",
       "    </tr>\n",
       "    <tr>\n",
       "      <th>p_value_합계수량_여부</th>\n",
       "      <td>0.0450</td>\n",
       "      <td>0.019149</td>\n",
       "    </tr>\n",
       "    <tr>\n",
       "      <th>p_value_세부품명내용_30</th>\n",
       "      <td>0.0450</td>\n",
       "      <td>0.020213</td>\n",
       "    </tr>\n",
       "    <tr>\n",
       "      <th>p_value_낙찰자결정방법_종합낙찰자결정</th>\n",
       "      <td>0.0490</td>\n",
       "      <td>0.021277</td>\n",
       "    </tr>\n",
       "    <tr>\n",
       "      <th>p_value_낙찰자결정방법_제한적최저가</th>\n",
       "      <td>0.0530</td>\n",
       "      <td>0.022340</td>\n",
       "    </tr>\n",
       "    <tr>\n",
       "      <th>p_value_세부품명내용_46</th>\n",
       "      <td>0.0570</td>\n",
       "      <td>0.023404</td>\n",
       "    </tr>\n",
       "    <tr>\n",
       "      <th>p_value_세부품명내용_43</th>\n",
       "      <td>0.0585</td>\n",
       "      <td>0.024468</td>\n",
       "    </tr>\n",
       "    <tr>\n",
       "      <th>p_value_세부품명내용_47</th>\n",
       "      <td>0.0590</td>\n",
       "      <td>0.025532</td>\n",
       "    </tr>\n",
       "    <tr>\n",
       "      <th>p_value_입찰방식_전자시담_다자간</th>\n",
       "      <td>0.0630</td>\n",
       "      <td>0.026596</td>\n",
       "    </tr>\n",
       "    <tr>\n",
       "      <th>p_value_입찰계약방법_제한_삼자단가</th>\n",
       "      <td>0.0650</td>\n",
       "      <td>0.027660</td>\n",
       "    </tr>\n",
       "    <tr>\n",
       "      <th>p_value_입찰방식_전자시담</th>\n",
       "      <td>0.0690</td>\n",
       "      <td>0.028723</td>\n",
       "    </tr>\n",
       "    <tr>\n",
       "      <th>p_value_세부품명내용_45</th>\n",
       "      <td>0.0710</td>\n",
       "      <td>0.029787</td>\n",
       "    </tr>\n",
       "    <tr>\n",
       "      <th>p_value_세부품명내용_39</th>\n",
       "      <td>0.0710</td>\n",
       "      <td>0.030851</td>\n",
       "    </tr>\n",
       "    <tr>\n",
       "      <th>p_value_낙찰자결정방법_중기간_경쟁물품_계약이행능력심사_기술등급적용</th>\n",
       "      <td>0.0730</td>\n",
       "      <td>0.031915</td>\n",
       "    </tr>\n",
       "    <tr>\n",
       "      <th>p_value_입찰계약방법_제한_수의_단가</th>\n",
       "      <td>0.0770</td>\n",
       "      <td>0.032979</td>\n",
       "    </tr>\n",
       "    <tr>\n",
       "      <th>p_value_국제입찰여부</th>\n",
       "      <td>0.0790</td>\n",
       "      <td>0.034043</td>\n",
       "    </tr>\n",
       "    <tr>\n",
       "      <th>p_value_세부품명내용_26</th>\n",
       "      <td>0.0800</td>\n",
       "      <td>0.035106</td>\n",
       "    </tr>\n",
       "    <tr>\n",
       "      <th>p_value_세부품명내용_55</th>\n",
       "      <td>0.0810</td>\n",
       "      <td>0.036170</td>\n",
       "    </tr>\n",
       "    <tr>\n",
       "      <th>p_value_세부품명내용_60</th>\n",
       "      <td>0.0830</td>\n",
       "      <td>0.037234</td>\n",
       "    </tr>\n",
       "    <tr>\n",
       "      <th>p_value_낙찰자결정방법_2단계입찰</th>\n",
       "      <td>0.0900</td>\n",
       "      <td>0.038298</td>\n",
       "    </tr>\n",
       "    <tr>\n",
       "      <th>p_value_입찰방식_전자입찰_직찰</th>\n",
       "      <td>0.0910</td>\n",
       "      <td>0.039362</td>\n",
       "    </tr>\n",
       "    <tr>\n",
       "      <th>p_value_입찰계약방법_수의_총액</th>\n",
       "      <td>0.0990</td>\n",
       "      <td>0.040426</td>\n",
       "    </tr>\n",
       "    <tr>\n",
       "      <th>p_value_세부품명내용_25</th>\n",
       "      <td>0.1010</td>\n",
       "      <td>0.041489</td>\n",
       "    </tr>\n",
       "    <tr>\n",
       "      <th>p_value_입찰계약방법_지명_단가</th>\n",
       "      <td>0.1010</td>\n",
       "      <td>0.042553</td>\n",
       "    </tr>\n",
       "    <tr>\n",
       "      <th>p_value_긴급공고여부_Y</th>\n",
       "      <td>0.1060</td>\n",
       "      <td>0.043617</td>\n",
       "    </tr>\n",
       "    <tr>\n",
       "      <th>p_value_세부품명내용_24</th>\n",
       "      <td>0.1280</td>\n",
       "      <td>0.044681</td>\n",
       "    </tr>\n",
       "    <tr>\n",
       "      <th>p_value_세부품명내용_40</th>\n",
       "      <td>0.1660</td>\n",
       "      <td>0.045745</td>\n",
       "    </tr>\n",
       "    <tr>\n",
       "      <th>p_value_낙찰자결정방법_적격심사제</th>\n",
       "      <td>0.9120</td>\n",
       "      <td>0.046809</td>\n",
       "    </tr>\n",
       "    <tr>\n",
       "      <th>p_value_세부품명내용_0</th>\n",
       "      <td>0.9270</td>\n",
       "      <td>0.047872</td>\n",
       "    </tr>\n",
       "    <tr>\n",
       "      <th>p_value_긴급공고여부_N</th>\n",
       "      <td>0.9580</td>\n",
       "      <td>0.048936</td>\n",
       "    </tr>\n",
       "    <tr>\n",
       "      <th>p_value_입찰방식_전자입찰</th>\n",
       "      <td>0.9810</td>\n",
       "      <td>0.050000</td>\n",
       "    </tr>\n",
       "  </tbody>\n",
       "</table>\n",
       "</div>"
      ],
      "text/plain": [
       "                                          P_value     i/m*a\n",
       "p_value_낙찰자결정방법_최저가낙찰자결정                   0.0030  0.001064\n",
       "p_value_지역제한내용                             0.0030  0.002128\n",
       "p_value_입찰계약방법_수의_총액                       0.0040  0.003191\n",
       "p_value_입찰계약방법_지명_총액                       0.0050  0.004255\n",
       "p_value_입찰계약방법_일반_총액                       0.0070  0.005319\n",
       "p_value_낙찰자결정방법_중기간_경쟁물품_계약이행능력심사          0.0070  0.006383\n",
       "p_value_낙찰자결정방법_수의                         0.0070  0.007447\n",
       "p_value_조달구분                               0.0170  0.008511\n",
       "p_value_취소공고여부                             0.0190  0.009574\n",
       "p_value_긴급공고여부_기한존재                        0.0200  0.010638\n",
       "p_value_등록유형                               0.0270  0.011702\n",
       "p_value_입찰계약방법_제한_총액                       0.0270  0.012766\n",
       "p_value_정정공고여부                             0.0300  0.013830\n",
       "p_value_재입찰허용여부                            0.0370  0.014894\n",
       "p_value_업종제한내용                             0.0420  0.015957\n",
       "p_value_낙찰자결정방법_알수없음                       0.0450  0.017021\n",
       "p_value_낙찰자결정방법_협상에_의한_낙찰자_결정              0.0450  0.018085\n",
       "p_value_합계수량_여부                            0.0450  0.019149\n",
       "p_value_세부품명내용_30                          0.0450  0.020213\n",
       "p_value_낙찰자결정방법_종합낙찰자결정                    0.0490  0.021277\n",
       "p_value_낙찰자결정방법_제한적최저가                     0.0530  0.022340\n",
       "p_value_세부품명내용_46                          0.0570  0.023404\n",
       "p_value_세부품명내용_43                          0.0585  0.024468\n",
       "p_value_세부품명내용_47                          0.0590  0.025532\n",
       "p_value_입찰방식_전자시담_다자간                      0.0630  0.026596\n",
       "p_value_입찰계약방법_제한_삼자단가                     0.0650  0.027660\n",
       "p_value_입찰방식_전자시담                          0.0690  0.028723\n",
       "p_value_세부품명내용_45                          0.0710  0.029787\n",
       "p_value_세부품명내용_39                          0.0710  0.030851\n",
       "p_value_낙찰자결정방법_중기간_경쟁물품_계약이행능력심사_기술등급적용   0.0730  0.031915\n",
       "p_value_입찰계약방법_제한_수의_단가                    0.0770  0.032979\n",
       "p_value_국제입찰여부                             0.0790  0.034043\n",
       "p_value_세부품명내용_26                          0.0800  0.035106\n",
       "p_value_세부품명내용_55                          0.0810  0.036170\n",
       "p_value_세부품명내용_60                          0.0830  0.037234\n",
       "p_value_낙찰자결정방법_2단계입찰                      0.0900  0.038298\n",
       "p_value_입찰방식_전자입찰_직찰                       0.0910  0.039362\n",
       "p_value_입찰계약방법_수의_총액                       0.0990  0.040426\n",
       "p_value_세부품명내용_25                          0.1010  0.041489\n",
       "p_value_입찰계약방법_지명_단가                       0.1010  0.042553\n",
       "p_value_긴급공고여부_Y                           0.1060  0.043617\n",
       "p_value_세부품명내용_24                          0.1280  0.044681\n",
       "p_value_세부품명내용_40                          0.1660  0.045745\n",
       "p_value_낙찰자결정방법_적격심사제                      0.9120  0.046809\n",
       "p_value_세부품명내용_0                           0.9270  0.047872\n",
       "p_value_긴급공고여부_N                           0.9580  0.048936\n",
       "p_value_입찰방식_전자입찰                          0.9810  0.050000"
      ]
     },
     "execution_count": 496,
     "metadata": {},
     "output_type": "execute_result"
    }
   ],
   "source": [
    "df_p_value_all"
   ]
  },
  {
   "cell_type": "code",
   "execution_count": 497,
   "metadata": {},
   "outputs": [
    {
     "data": {
      "text/html": [
       "<div>\n",
       "<style scoped>\n",
       "    .dataframe tbody tr th:only-of-type {\n",
       "        vertical-align: middle;\n",
       "    }\n",
       "\n",
       "    .dataframe tbody tr th {\n",
       "        vertical-align: top;\n",
       "    }\n",
       "\n",
       "    .dataframe thead th {\n",
       "        text-align: right;\n",
       "    }\n",
       "</style>\n",
       "<table border=\"1\" class=\"dataframe\">\n",
       "  <thead>\n",
       "    <tr style=\"text-align: right;\">\n",
       "      <th></th>\n",
       "      <th>P_value</th>\n",
       "      <th>i/m*a</th>\n",
       "    </tr>\n",
       "  </thead>\n",
       "  <tbody>\n",
       "    <tr>\n",
       "      <th>p_value_낙찰자결정방법_최저가낙찰자결정</th>\n",
       "      <td>0.003</td>\n",
       "      <td>0.001064</td>\n",
       "    </tr>\n",
       "    <tr>\n",
       "      <th>p_value_지역제한내용</th>\n",
       "      <td>0.003</td>\n",
       "      <td>0.002128</td>\n",
       "    </tr>\n",
       "    <tr>\n",
       "      <th>p_value_입찰계약방법_수의_총액</th>\n",
       "      <td>0.004</td>\n",
       "      <td>0.003191</td>\n",
       "    </tr>\n",
       "    <tr>\n",
       "      <th>p_value_입찰계약방법_지명_총액</th>\n",
       "      <td>0.005</td>\n",
       "      <td>0.004255</td>\n",
       "    </tr>\n",
       "    <tr>\n",
       "      <th>p_value_입찰계약방법_일반_총액</th>\n",
       "      <td>0.007</td>\n",
       "      <td>0.005319</td>\n",
       "    </tr>\n",
       "    <tr>\n",
       "      <th>p_value_낙찰자결정방법_중기간_경쟁물품_계약이행능력심사</th>\n",
       "      <td>0.007</td>\n",
       "      <td>0.006383</td>\n",
       "    </tr>\n",
       "  </tbody>\n",
       "</table>\n",
       "</div>"
      ],
      "text/plain": [
       "                                   P_value     i/m*a\n",
       "p_value_낙찰자결정방법_최저가낙찰자결정             0.003  0.001064\n",
       "p_value_지역제한내용                       0.003  0.002128\n",
       "p_value_입찰계약방법_수의_총액                 0.004  0.003191\n",
       "p_value_입찰계약방법_지명_총액                 0.005  0.004255\n",
       "p_value_입찰계약방법_일반_총액                 0.007  0.005319\n",
       "p_value_낙찰자결정방법_중기간_경쟁물품_계약이행능력심사    0.007  0.006383"
      ]
     },
     "execution_count": 497,
     "metadata": {},
     "output_type": "execute_result"
    }
   ],
   "source": [
    "df_p_value_all.loc[:'p_value_낙찰자결정방법_중기간_경쟁물품_계약이행능력심사',:]"
   ]
  },
  {
   "cell_type": "code",
   "execution_count": 505,
   "metadata": {},
   "outputs": [],
   "source": [
    "df_B5_4 = df_B5_3[['공고게시일자','수요기관코드','합계수량','입찰계약방법','낙찰자결정방법','지역제한내용','추정가격','입찰공고차수']].copy()"
   ]
  },
  {
   "cell_type": "code",
   "execution_count": 506,
   "metadata": {},
   "outputs": [
    {
     "data": {
      "text/plain": [
       "array(['N', 'Y'], dtype=object)"
      ]
     },
     "execution_count": 506,
     "metadata": {},
     "output_type": "execute_result"
    }
   ],
   "source": [
    "df_B5_3['지역제한내용'].unique()"
   ]
  },
  {
   "cell_type": "code",
   "execution_count": 507,
   "metadata": {},
   "outputs": [
    {
     "data": {
      "text/plain": [
       "0    2617\n",
       "1     217\n",
       "2      31\n",
       "3       4\n",
       "4       1\n",
       "Name: 입찰공고차수, dtype: int64"
      ]
     },
     "execution_count": 507,
     "metadata": {},
     "output_type": "execute_result"
    }
   ],
   "source": [
    "df_B5_4['입찰공고차수'].value_counts()"
   ]
  },
  {
   "cell_type": "code",
   "execution_count": 508,
   "metadata": {},
   "outputs": [
    {
     "data": {
      "text/html": [
       "<div>\n",
       "<style scoped>\n",
       "    .dataframe tbody tr th:only-of-type {\n",
       "        vertical-align: middle;\n",
       "    }\n",
       "\n",
       "    .dataframe tbody tr th {\n",
       "        vertical-align: top;\n",
       "    }\n",
       "\n",
       "    .dataframe thead th {\n",
       "        text-align: right;\n",
       "    }\n",
       "</style>\n",
       "<table border=\"1\" class=\"dataframe\">\n",
       "  <thead>\n",
       "    <tr style=\"text-align: right;\">\n",
       "      <th></th>\n",
       "      <th>공고게시일자</th>\n",
       "      <th>수요기관코드</th>\n",
       "      <th>합계수량</th>\n",
       "      <th>입찰계약방법</th>\n",
       "      <th>낙찰자결정방법</th>\n",
       "      <th>지역제한내용</th>\n",
       "      <th>추정가격</th>\n",
       "      <th>입찰공고차수</th>\n",
       "    </tr>\n",
       "  </thead>\n",
       "  <tbody>\n",
       "    <tr>\n",
       "      <th>0</th>\n",
       "      <td>2020-03-16</td>\n",
       "      <td>B500001</td>\n",
       "      <td>1.0</td>\n",
       "      <td>제한(총액)</td>\n",
       "      <td>알수없음</td>\n",
       "      <td>N</td>\n",
       "      <td>2.937020e+08</td>\n",
       "      <td>0</td>\n",
       "    </tr>\n",
       "    <tr>\n",
       "      <th>1</th>\n",
       "      <td>2020-01-03</td>\n",
       "      <td>B500001</td>\n",
       "      <td>1.0</td>\n",
       "      <td>지명(총액)</td>\n",
       "      <td>알수없음</td>\n",
       "      <td>N</td>\n",
       "      <td>4.570300e+08</td>\n",
       "      <td>0</td>\n",
       "    </tr>\n",
       "    <tr>\n",
       "      <th>2</th>\n",
       "      <td>2020-01-03</td>\n",
       "      <td>B500001</td>\n",
       "      <td>1.0</td>\n",
       "      <td>지명(총액)</td>\n",
       "      <td>알수없음</td>\n",
       "      <td>N</td>\n",
       "      <td>3.491200e+08</td>\n",
       "      <td>0</td>\n",
       "    </tr>\n",
       "    <tr>\n",
       "      <th>3</th>\n",
       "      <td>2020-03-05</td>\n",
       "      <td>B500001</td>\n",
       "      <td>1.0</td>\n",
       "      <td>제한(총액)</td>\n",
       "      <td>중기간 경쟁물품 계약이행능력심사</td>\n",
       "      <td>N</td>\n",
       "      <td>5.632000e+08</td>\n",
       "      <td>0</td>\n",
       "    </tr>\n",
       "    <tr>\n",
       "      <th>4</th>\n",
       "      <td>2020-02-13</td>\n",
       "      <td>B500001</td>\n",
       "      <td>1.0</td>\n",
       "      <td>지명(총액)</td>\n",
       "      <td>알수없음</td>\n",
       "      <td>N</td>\n",
       "      <td>3.785930e+08</td>\n",
       "      <td>0</td>\n",
       "    </tr>\n",
       "    <tr>\n",
       "      <th>...</th>\n",
       "      <td>...</td>\n",
       "      <td>...</td>\n",
       "      <td>...</td>\n",
       "      <td>...</td>\n",
       "      <td>...</td>\n",
       "      <td>...</td>\n",
       "      <td>...</td>\n",
       "      <td>...</td>\n",
       "    </tr>\n",
       "    <tr>\n",
       "      <th>2865</th>\n",
       "      <td>2017-10-10</td>\n",
       "      <td>B500001</td>\n",
       "      <td>1.0</td>\n",
       "      <td>수의(총액)</td>\n",
       "      <td>최저가낙찰자결정</td>\n",
       "      <td>N</td>\n",
       "      <td>7.945000e+08</td>\n",
       "      <td>0</td>\n",
       "    </tr>\n",
       "    <tr>\n",
       "      <th>2866</th>\n",
       "      <td>2017-11-16</td>\n",
       "      <td>B500001</td>\n",
       "      <td>1.0</td>\n",
       "      <td>지명(총액)</td>\n",
       "      <td>제한적최저가</td>\n",
       "      <td>N</td>\n",
       "      <td>8.250000e+07</td>\n",
       "      <td>0</td>\n",
       "    </tr>\n",
       "    <tr>\n",
       "      <th>2867</th>\n",
       "      <td>2017-11-13</td>\n",
       "      <td>B500001</td>\n",
       "      <td>1.0</td>\n",
       "      <td>제한(총액)</td>\n",
       "      <td>중기간 경쟁물품 계약이행능력심사</td>\n",
       "      <td>N</td>\n",
       "      <td>1.808800e+09</td>\n",
       "      <td>0</td>\n",
       "    </tr>\n",
       "    <tr>\n",
       "      <th>2868</th>\n",
       "      <td>2017-11-08</td>\n",
       "      <td>B500001</td>\n",
       "      <td>1.0</td>\n",
       "      <td>제한(총액)</td>\n",
       "      <td>중기간 경쟁물품 계약이행능력심사</td>\n",
       "      <td>N</td>\n",
       "      <td>5.653900e+08</td>\n",
       "      <td>0</td>\n",
       "    </tr>\n",
       "    <tr>\n",
       "      <th>2869</th>\n",
       "      <td>2017-10-27</td>\n",
       "      <td>B500001</td>\n",
       "      <td>1.0</td>\n",
       "      <td>제한(총액)</td>\n",
       "      <td>중기간 경쟁물품 계약이행능력심사</td>\n",
       "      <td>N</td>\n",
       "      <td>1.149000e+09</td>\n",
       "      <td>1</td>\n",
       "    </tr>\n",
       "  </tbody>\n",
       "</table>\n",
       "<p>2870 rows × 8 columns</p>\n",
       "</div>"
      ],
      "text/plain": [
       "          공고게시일자   수요기관코드  합계수량  입찰계약방법            낙찰자결정방법 지역제한내용  \\\n",
       "0     2020-03-16  B500001   1.0  제한(총액)               알수없음      N   \n",
       "1     2020-01-03  B500001   1.0  지명(총액)               알수없음      N   \n",
       "2     2020-01-03  B500001   1.0  지명(총액)               알수없음      N   \n",
       "3     2020-03-05  B500001   1.0  제한(총액)  중기간 경쟁물품 계약이행능력심사      N   \n",
       "4     2020-02-13  B500001   1.0  지명(총액)               알수없음      N   \n",
       "...          ...      ...   ...     ...                ...    ...   \n",
       "2865  2017-10-10  B500001   1.0  수의(총액)           최저가낙찰자결정      N   \n",
       "2866  2017-11-16  B500001   1.0  지명(총액)             제한적최저가      N   \n",
       "2867  2017-11-13  B500001   1.0  제한(총액)  중기간 경쟁물품 계약이행능력심사      N   \n",
       "2868  2017-11-08  B500001   1.0  제한(총액)  중기간 경쟁물품 계약이행능력심사      N   \n",
       "2869  2017-10-27  B500001   1.0  제한(총액)  중기간 경쟁물품 계약이행능력심사      N   \n",
       "\n",
       "              추정가격 입찰공고차수  \n",
       "0     2.937020e+08      0  \n",
       "1     4.570300e+08      0  \n",
       "2     3.491200e+08      0  \n",
       "3     5.632000e+08      0  \n",
       "4     3.785930e+08      0  \n",
       "...            ...    ...  \n",
       "2865  7.945000e+08      0  \n",
       "2866  8.250000e+07      0  \n",
       "2867  1.808800e+09      0  \n",
       "2868  5.653900e+08      0  \n",
       "2869  1.149000e+09      1  \n",
       "\n",
       "[2870 rows x 8 columns]"
      ]
     },
     "execution_count": 508,
     "metadata": {},
     "output_type": "execute_result"
    }
   ],
   "source": [
    "df_B5_4"
   ]
  },
  {
   "cell_type": "code",
   "execution_count": 509,
   "metadata": {},
   "outputs": [],
   "source": [
    "# df_B5_4.to_csv('Project_01_27_EDA_물품_1_1.csv',encoding = 'cp949')"
   ]
  },
  {
   "cell_type": "code",
   "execution_count": null,
   "metadata": {},
   "outputs": [],
   "source": []
  }
 ],
 "metadata": {
  "kernelspec": {
   "display_name": "Python 3",
   "language": "python",
   "name": "python3"
  },
  "language_info": {
   "codemirror_mode": {
    "name": "ipython",
    "version": 3
   },
   "file_extension": ".py",
   "mimetype": "text/x-python",
   "name": "python",
   "nbconvert_exporter": "python",
   "pygments_lexer": "ipython3",
   "version": "3.7.4"
  },
  "toc": {
   "base_numbering": 1,
   "nav_menu": {},
   "number_sections": false,
   "sideBar": true,
   "skip_h1_title": false,
   "title_cell": "Table of Contents",
   "title_sidebar": "Contents",
   "toc_cell": false,
   "toc_position": {},
   "toc_section_display": true,
   "toc_window_display": false
  },
  "varInspector": {
   "cols": {
    "lenName": 16,
    "lenType": 16,
    "lenVar": 40
   },
   "kernels_config": {
    "python": {
     "delete_cmd_postfix": "",
     "delete_cmd_prefix": "del ",
     "library": "var_list.py",
     "varRefreshCmd": "print(var_dic_list())"
    },
    "r": {
     "delete_cmd_postfix": ") ",
     "delete_cmd_prefix": "rm(",
     "library": "var_list.r",
     "varRefreshCmd": "cat(var_dic_list()) "
    }
   },
   "types_to_exclude": [
    "module",
    "function",
    "builtin_function_or_method",
    "instance",
    "_Feature"
   ],
   "window_display": false
  }
 },
 "nbformat": 4,
 "nbformat_minor": 2
}
