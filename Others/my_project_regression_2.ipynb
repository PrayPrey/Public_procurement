{
 "cells": [
  {
   "cell_type": "code",
   "execution_count": 1,
   "metadata": {},
   "outputs": [
    {
     "name": "stderr",
     "output_type": "stream",
     "text": [
      "D:\\anaconda\\lib\\site-packages\\statsmodels\\tools\\_testing.py:19: FutureWarning: pandas.util.testing is deprecated. Use the functions in the public API at pandas.testing instead.\n",
      "  import pandas.util.testing as tm\n"
     ]
    },
    {
     "data": {
      "text/html": [
       "        <script type=\"text/javascript\">\n",
       "        window.PlotlyConfig = {MathJaxConfig: 'local'};\n",
       "        if (window.MathJax) {MathJax.Hub.Config({SVG: {font: \"STIX-Web\"}});}\n",
       "        if (typeof require !== 'undefined') {\n",
       "        require.undef(\"plotly\");\n",
       "        requirejs.config({\n",
       "            paths: {\n",
       "                'plotly': ['https://cdn.plot.ly/plotly-2.4.2.min']\n",
       "            }\n",
       "        });\n",
       "        require(['plotly'], function(Plotly) {\n",
       "            window._Plotly = Plotly;\n",
       "        });\n",
       "        }\n",
       "        </script>\n",
       "        "
      ]
     },
     "metadata": {},
     "output_type": "display_data"
    },
    {
     "data": {
      "text/html": [
       "        <script type=\"text/javascript\">\n",
       "        window.PlotlyConfig = {MathJaxConfig: 'local'};\n",
       "        if (window.MathJax) {MathJax.Hub.Config({SVG: {font: \"STIX-Web\"}});}\n",
       "        if (typeof require !== 'undefined') {\n",
       "        require.undef(\"plotly\");\n",
       "        requirejs.config({\n",
       "            paths: {\n",
       "                'plotly': ['https://cdn.plot.ly/plotly-2.4.2.min']\n",
       "            }\n",
       "        });\n",
       "        require(['plotly'], function(Plotly) {\n",
       "            window._Plotly = Plotly;\n",
       "        });\n",
       "        }\n",
       "        </script>\n",
       "        "
      ]
     },
     "metadata": {},
     "output_type": "display_data"
    }
   ],
   "source": [
    "import numpy as np\n",
    "import pandas as pd\n",
    "\n",
    "from sklearn.ensemble import RandomForestRegressor, GradientBoostingRegressor\n",
    "from sklearn.preprocessing import OneHotEncoder, StandardScaler\n",
    "from sklearn.model_selection import StratifiedKFold\n",
    "from sklearn.metrics import accuracy_score\n",
    "\n",
    "import string\n",
    "import warnings\n",
    "import missingno\n",
    "warnings.filterwarnings('ignore')\n",
    "\n",
    "\n",
    "import pandas as pd\n",
    "import cufflinks as cf\n",
    "import chart_studio.plotly as py\n",
    "import plotly.graph_objects as go\n",
    "import numpy as np\n",
    "import pandas as pd\n",
    "import numpy as np\n",
    "from numpy.random import gamma\n",
    "from numpy.random import multivariate_normal\n",
    "from scipy.stats import multivariate_t\n",
    "from scipy.stats import f\n",
    "import matplotlib.pyplot as plt\n",
    "\n",
    "\n",
    "\n",
    "cf.go_offline(connected = True)\n",
    "\n",
    "\n",
    "import pandas as pd\n",
    "import cufflinks as cf\n",
    "import chart_studio.plotly as py\n",
    "import plotly.graph_objects as go\n",
    "import numpy as np\n",
    "import pandas as pd\n",
    "import numpy as np\n",
    "from numpy.random import gamma\n",
    "from numpy.random import multivariate_normal\n",
    "from scipy.stats import multivariate_t\n",
    "from scipy.stats import f\n",
    "import matplotlib.pyplot as plt\n",
    "import missingno\n",
    "\n",
    "\n",
    "cf.go_offline(connected = True)\n",
    "\n",
    "\n",
    "import numpy as np\n",
    "import matplotlib.pyplot as plt\n",
    "import pandas as pd\n",
    "import seaborn as sns\n",
    "\n",
    "from sklearn.linear_model import Ridge, Lasso\n",
    "from sklearn.model_selection import cross_val_score\n",
    "from sklearn.model_selection import train_test_split\n",
    "from sklearn.linear_model import LinearRegression\n",
    "from sklearn.metrics import r2_score\n",
    "from sklearn.metrics import mean_absolute_error\n",
    "from sklearn.metrics import mean_squared_error\n",
    "from sklearn.metrics import mean_squared_log_error\n",
    "from sklearn.metrics import make_scorer\n",
    "from sklearn.model_selection import KFold\n",
    "from sklearn.model_selection import cross_val_score\n",
    "\n",
    "import numpy as np\n",
    "import pandas as pd\n",
    "from sklearn.metrics import make_scorer\n",
    "from sklearn.ensemble import RandomForestRegressor, GradientBoostingRegressor\n",
    "from xgboost import XGBRegressor \n",
    "from sklearn.preprocessing import OneHotEncoder, StandardScaler\n",
    "from sklearn.model_selection import StratifiedKFold\n",
    "from sklearn.metrics import accuracy_score\n",
    "from sklearn.linear_model import LinearRegression\n",
    "from sklearn.linear_model import Lasso\n",
    "from sklearn.model_selection import GridSearchCV\n",
    "import string\n",
    "import warnings\n",
    "import missingno"
   ]
  },
  {
   "cell_type": "code",
   "execution_count": 2,
   "metadata": {},
   "outputs": [
    {
     "data": {
      "text/html": [
       "<style>.container { width:100% !important; }</style>"
      ],
      "text/plain": [
       "<IPython.core.display.HTML object>"
      ]
     },
     "metadata": {},
     "output_type": "display_data"
    }
   ],
   "source": [
    "from IPython.core.display import display, HTML\n",
    "display(HTML(\"<style>.container { width:100% !important; }</style>\"))"
   ]
  },
  {
   "cell_type": "code",
   "execution_count": 3,
   "metadata": {},
   "outputs": [],
   "source": [
    "df_물품_발주계획_내역 = pd.read_csv('물품_발주계획_내역.csv',error_bad_lines=False)"
   ]
  },
  {
   "cell_type": "code",
   "execution_count": 4,
   "metadata": {},
   "outputs": [
    {
     "data": {
      "text/plain": [
       "Index(['조달구분', '게시일자', '발주계획통합번호', '수요기관명', '수요기관구분', '수요기관지역명', '수요기관코드',\n",
       "       '발주시기', '발주금액', '사업명', '물품분류번호', '품명', '세부물품분류번호', '세부품명', '수량', '단위',\n",
       "       '규격내용', '용도내용', '계약방법', '협정여부', '발주번호', '발주기관부서명', '발주기관담당자명',\n",
       "       '발주기관담당자전화번호'],\n",
       "      dtype='object')"
      ]
     },
     "execution_count": 4,
     "metadata": {},
     "output_type": "execute_result"
    }
   ],
   "source": [
    "df_물품_발주계획_내역.columns"
   ]
  },
  {
   "cell_type": "code",
   "execution_count": 5,
   "metadata": {},
   "outputs": [
    {
     "data": {
      "text/html": [
       "<div>\n",
       "<style scoped>\n",
       "    .dataframe tbody tr th:only-of-type {\n",
       "        vertical-align: middle;\n",
       "    }\n",
       "\n",
       "    .dataframe tbody tr th {\n",
       "        vertical-align: top;\n",
       "    }\n",
       "\n",
       "    .dataframe thead th {\n",
       "        text-align: right;\n",
       "    }\n",
       "</style>\n",
       "<table border=\"1\" class=\"dataframe\">\n",
       "  <thead>\n",
       "    <tr style=\"text-align: right;\">\n",
       "      <th></th>\n",
       "      <th>게시일자</th>\n",
       "      <th>발주시기</th>\n",
       "      <th>발주금액</th>\n",
       "      <th>물품분류번호</th>\n",
       "      <th>세부물품분류번호</th>\n",
       "      <th>발주번호</th>\n",
       "    </tr>\n",
       "  </thead>\n",
       "  <tbody>\n",
       "    <tr>\n",
       "      <th>count</th>\n",
       "      <td>9.121300e+04</td>\n",
       "      <td>91213.000000</td>\n",
       "      <td>9.121300e+04</td>\n",
       "      <td>9.121300e+04</td>\n",
       "      <td>9.121300e+04</td>\n",
       "      <td>6.839000e+04</td>\n",
       "    </tr>\n",
       "    <tr>\n",
       "      <th>mean</th>\n",
       "      <td>2.021113e+07</td>\n",
       "      <td>202113.787815</td>\n",
       "      <td>1.662873e+08</td>\n",
       "      <td>4.190888e+07</td>\n",
       "      <td>4.190888e+09</td>\n",
       "      <td>2.021108e+12</td>\n",
       "    </tr>\n",
       "    <tr>\n",
       "      <th>std</th>\n",
       "      <td>2.312548e+03</td>\n",
       "      <td>25.346619</td>\n",
       "      <td>1.908752e+09</td>\n",
       "      <td>1.469706e+07</td>\n",
       "      <td>1.469706e+09</td>\n",
       "      <td>1.904824e+08</td>\n",
       "    </tr>\n",
       "    <tr>\n",
       "      <th>min</th>\n",
       "      <td>2.019111e+07</td>\n",
       "      <td>202102.000000</td>\n",
       "      <td>0.000000e+00</td>\n",
       "      <td>0.000000e+00</td>\n",
       "      <td>0.000000e+00</td>\n",
       "      <td>2.019121e+12</td>\n",
       "    </tr>\n",
       "    <tr>\n",
       "      <th>25%</th>\n",
       "      <td>2.021031e+07</td>\n",
       "      <td>202104.000000</td>\n",
       "      <td>1.908000e+07</td>\n",
       "      <td>3.020170e+07</td>\n",
       "      <td>3.020171e+09</td>\n",
       "      <td>2.021043e+12</td>\n",
       "    </tr>\n",
       "    <tr>\n",
       "      <th>50%</th>\n",
       "      <td>2.021062e+07</td>\n",
       "      <td>202107.000000</td>\n",
       "      <td>4.490000e+07</td>\n",
       "      <td>4.322261e+07</td>\n",
       "      <td>4.322261e+09</td>\n",
       "      <td>2.021073e+12</td>\n",
       "    </tr>\n",
       "    <tr>\n",
       "      <th>75%</th>\n",
       "      <td>2.021102e+07</td>\n",
       "      <td>202110.000000</td>\n",
       "      <td>9.960000e+07</td>\n",
       "      <td>5.040710e+07</td>\n",
       "      <td>5.040710e+09</td>\n",
       "      <td>2.021103e+12</td>\n",
       "    </tr>\n",
       "    <tr>\n",
       "      <th>max</th>\n",
       "      <td>2.022012e+07</td>\n",
       "      <td>202201.000000</td>\n",
       "      <td>2.640000e+11</td>\n",
       "      <td>9.999997e+07</td>\n",
       "      <td>9.999997e+09</td>\n",
       "      <td>2.022012e+12</td>\n",
       "    </tr>\n",
       "  </tbody>\n",
       "</table>\n",
       "</div>"
      ],
      "text/plain": [
       "               게시일자           발주시기          발주금액        물품분류번호      세부물품분류번호  \\\n",
       "count  9.121300e+04   91213.000000  9.121300e+04  9.121300e+04  9.121300e+04   \n",
       "mean   2.021113e+07  202113.787815  1.662873e+08  4.190888e+07  4.190888e+09   \n",
       "std    2.312548e+03      25.346619  1.908752e+09  1.469706e+07  1.469706e+09   \n",
       "min    2.019111e+07  202102.000000  0.000000e+00  0.000000e+00  0.000000e+00   \n",
       "25%    2.021031e+07  202104.000000  1.908000e+07  3.020170e+07  3.020171e+09   \n",
       "50%    2.021062e+07  202107.000000  4.490000e+07  4.322261e+07  4.322261e+09   \n",
       "75%    2.021102e+07  202110.000000  9.960000e+07  5.040710e+07  5.040710e+09   \n",
       "max    2.022012e+07  202201.000000  2.640000e+11  9.999997e+07  9.999997e+09   \n",
       "\n",
       "               발주번호  \n",
       "count  6.839000e+04  \n",
       "mean   2.021108e+12  \n",
       "std    1.904824e+08  \n",
       "min    2.019121e+12  \n",
       "25%    2.021043e+12  \n",
       "50%    2.021073e+12  \n",
       "75%    2.021103e+12  \n",
       "max    2.022012e+12  "
      ]
     },
     "execution_count": 5,
     "metadata": {},
     "output_type": "execute_result"
    }
   ],
   "source": [
    "df_물품_발주계획_내역.describe()"
   ]
  },
  {
   "cell_type": "code",
   "execution_count": 6,
   "metadata": {},
   "outputs": [],
   "source": [
    "def make_time_series_3(row):\n",
    "    lst_all = []\n",
    "    for i in row:\n",
    "        i = str(i)\n",
    "        year = i[0:4]\n",
    "        month = i[4:6]\n",
    "        date =  i[6:8]\n",
    "\n",
    "        lst_all.append([pd.to_datetime(year+month+date,format='%Y%m%d')])\n",
    "    return lst_all"
   ]
  },
  {
   "cell_type": "code",
   "execution_count": 7,
   "metadata": {},
   "outputs": [],
   "source": [
    "wbc= make_time_series_3(df_물품_발주계획_내역['게시일자'])\n",
    "\n",
    "df_물품_발주계획_내역.reset_index(inplace=True)\n",
    "df_물품_발주계획_내역.loc[:,'게시일자'] =wbc\n"
   ]
  },
  {
   "cell_type": "code",
   "execution_count": 8,
   "metadata": {},
   "outputs": [
    {
     "data": {
      "text/plain": [
       "0       2021-02-04\n",
       "1       2021-02-04\n",
       "2       2021-02-04\n",
       "3       2021-02-04\n",
       "4       2021-02-04\n",
       "           ...    \n",
       "91208   2021-12-17\n",
       "91209   2021-12-17\n",
       "91210   2021-12-17\n",
       "91211   2021-12-17\n",
       "91212   2021-12-17\n",
       "Name: 게시일자, Length: 91213, dtype: datetime64[ns]"
      ]
     },
     "execution_count": 8,
     "metadata": {},
     "output_type": "execute_result"
    }
   ],
   "source": [
    "df_물품_발주계획_내역['게시일자']"
   ]
  },
  {
   "cell_type": "code",
   "execution_count": 9,
   "metadata": {},
   "outputs": [
    {
     "data": {
      "text/plain": [
       "B552149    1892\n",
       "B553766     750\n",
       "ZT01378     694\n",
       "B550373     680\n",
       "B552584     679\n",
       "           ... \n",
       "7679128       1\n",
       "9040015       1\n",
       "7652156       1\n",
       "Z042251       1\n",
       "ZT01700       1\n",
       "Name: 수요기관코드, Length: 12913, dtype: int64"
      ]
     },
     "execution_count": 9,
     "metadata": {},
     "output_type": "execute_result"
    }
   ],
   "source": [
    "df_물품_발주계획_내역['수요기관코드'].value_counts()"
   ]
  },
  {
   "cell_type": "code",
   "execution_count": 10,
   "metadata": {},
   "outputs": [],
   "source": [
    "df_물품_발주계획_내역_2 = df_물품_발주계획_내역[df_물품_발주계획_내역['수요기관코드'] == 'B552149'].copy()"
   ]
  },
  {
   "cell_type": "code",
   "execution_count": 11,
   "metadata": {},
   "outputs": [
    {
     "data": {
      "text/plain": [
       "Index(['index', '조달구분', '게시일자', '발주계획통합번호', '수요기관명', '수요기관구분', '수요기관지역명',\n",
       "       '수요기관코드', '발주시기', '발주금액', '사업명', '물품분류번호', '품명', '세부물품분류번호', '세부품명',\n",
       "       '수량', '단위', '규격내용', '용도내용', '계약방법', '협정여부', '발주번호', '발주기관부서명',\n",
       "       '발주기관담당자명', '발주기관담당자전화번호'],\n",
       "      dtype='object')"
      ]
     },
     "execution_count": 11,
     "metadata": {},
     "output_type": "execute_result"
    }
   ],
   "source": [
    "df_물품_발주계획_내역_2.columns"
   ]
  },
  {
   "cell_type": "code",
   "execution_count": 12,
   "metadata": {},
   "outputs": [],
   "source": [
    "df_물품_발주계획_내역_3 = df_물품_발주계획_내역_2[['조달구분', '게시일자', '발주계획통합번호', '수요기관명', '수요기관구분', '수요기관지역명', '수요기관코드',\n",
    "       '발주시기', '발주금액', '사업명', '물품분류번호', '품명', '세부물품분류번호', '세부품명', '수량', '단위','발주번호']].copy()"
   ]
  },
  {
   "cell_type": "code",
   "execution_count": 13,
   "metadata": {},
   "outputs": [
    {
     "data": {
      "text/html": [
       "<div>\n",
       "<style scoped>\n",
       "    .dataframe tbody tr th:only-of-type {\n",
       "        vertical-align: middle;\n",
       "    }\n",
       "\n",
       "    .dataframe tbody tr th {\n",
       "        vertical-align: top;\n",
       "    }\n",
       "\n",
       "    .dataframe thead th {\n",
       "        text-align: right;\n",
       "    }\n",
       "</style>\n",
       "<table border=\"1\" class=\"dataframe\">\n",
       "  <thead>\n",
       "    <tr style=\"text-align: right;\">\n",
       "      <th></th>\n",
       "      <th>조달구분</th>\n",
       "      <th>게시일자</th>\n",
       "      <th>발주계획통합번호</th>\n",
       "      <th>수요기관명</th>\n",
       "      <th>수요기관구분</th>\n",
       "      <th>수요기관지역명</th>\n",
       "      <th>수요기관코드</th>\n",
       "      <th>발주시기</th>\n",
       "      <th>발주금액</th>\n",
       "      <th>사업명</th>\n",
       "      <th>물품분류번호</th>\n",
       "      <th>품명</th>\n",
       "      <th>세부물품분류번호</th>\n",
       "      <th>세부품명</th>\n",
       "      <th>수량</th>\n",
       "      <th>단위</th>\n",
       "      <th>발주번호</th>\n",
       "    </tr>\n",
       "  </thead>\n",
       "  <tbody>\n",
       "    <tr>\n",
       "      <th>6442</th>\n",
       "      <td>중앙조달</td>\n",
       "      <td>2021-01-21</td>\n",
       "      <td>1-1-2021-B552149-000799</td>\n",
       "      <td>한국농어촌공사</td>\n",
       "      <td>준정부기관</td>\n",
       "      <td>전라남도 나주시</td>\n",
       "      <td>B552149</td>\n",
       "      <td>202102</td>\n",
       "      <td>40347160</td>\n",
       "      <td>경북 스마트팜혁신밸리 기반조성사업</td>\n",
       "      <td>40142185</td>\n",
       "      <td>경질폴리염화비닐관</td>\n",
       "      <td>4014218501</td>\n",
       "      <td>일반용경질폴리염화비닐관</td>\n",
       "      <td>206</td>\n",
       "      <td>본</td>\n",
       "      <td>NaN</td>\n",
       "    </tr>\n",
       "    <tr>\n",
       "      <th>6443</th>\n",
       "      <td>중앙조달</td>\n",
       "      <td>2021-01-21</td>\n",
       "      <td>1-1-2021-B552149-000800</td>\n",
       "      <td>한국농어촌공사</td>\n",
       "      <td>준정부기관</td>\n",
       "      <td>전라남도 나주시</td>\n",
       "      <td>B552149</td>\n",
       "      <td>202102</td>\n",
       "      <td>40341690</td>\n",
       "      <td>강화지구 다목적농촌용수개발사업</td>\n",
       "      <td>30152001</td>\n",
       "      <td>금속제울타리</td>\n",
       "      <td>3015200101</td>\n",
       "      <td>디자인형울타리</td>\n",
       "      <td>593</td>\n",
       "      <td>m3</td>\n",
       "      <td>NaN</td>\n",
       "    </tr>\n",
       "    <tr>\n",
       "      <th>6444</th>\n",
       "      <td>중앙조달</td>\n",
       "      <td>2021-01-21</td>\n",
       "      <td>1-1-2021-B552149-000801</td>\n",
       "      <td>한국농어촌공사</td>\n",
       "      <td>준정부기관</td>\n",
       "      <td>전라남도 나주시</td>\n",
       "      <td>B552149</td>\n",
       "      <td>202102</td>\n",
       "      <td>40000000</td>\n",
       "      <td>호암지구 수리시설개보수사업</td>\n",
       "      <td>30111601</td>\n",
       "      <td>시멘트</td>\n",
       "      <td>3011160102</td>\n",
       "      <td>시멘트</td>\n",
       "      <td>11915</td>\n",
       "      <td>포</td>\n",
       "      <td>NaN</td>\n",
       "    </tr>\n",
       "    <tr>\n",
       "      <th>6445</th>\n",
       "      <td>자체조달</td>\n",
       "      <td>2021-01-21</td>\n",
       "      <td>1-1-2021-B552149-000802</td>\n",
       "      <td>한국농어촌공사</td>\n",
       "      <td>준정부기관</td>\n",
       "      <td>전라남도 나주시</td>\n",
       "      <td>B552149</td>\n",
       "      <td>202102</td>\n",
       "      <td>40000000</td>\n",
       "      <td>압량면 행복발전소사업</td>\n",
       "      <td>39112102</td>\n",
       "      <td>LED실내조명등</td>\n",
       "      <td>3911210201</td>\n",
       "      <td>LED실내조명등</td>\n",
       "      <td>1</td>\n",
       "      <td>식</td>\n",
       "      <td>NaN</td>\n",
       "    </tr>\n",
       "    <tr>\n",
       "      <th>6451</th>\n",
       "      <td>자체조달</td>\n",
       "      <td>2021-01-21</td>\n",
       "      <td>1-1-2021-B552149-000753</td>\n",
       "      <td>한국농어촌공사</td>\n",
       "      <td>준정부기관</td>\n",
       "      <td>전라남도 나주시</td>\n",
       "      <td>B552149</td>\n",
       "      <td>202102</td>\n",
       "      <td>49382433</td>\n",
       "      <td>영산강Ⅳ지구 3-1공구 대단위농업개발사업</td>\n",
       "      <td>31261602</td>\n",
       "      <td>금속덮개</td>\n",
       "      <td>3126160201</td>\n",
       "      <td>금속덮개</td>\n",
       "      <td>61</td>\n",
       "      <td>EA</td>\n",
       "      <td>NaN</td>\n",
       "    </tr>\n",
       "    <tr>\n",
       "      <th>...</th>\n",
       "      <td>...</td>\n",
       "      <td>...</td>\n",
       "      <td>...</td>\n",
       "      <td>...</td>\n",
       "      <td>...</td>\n",
       "      <td>...</td>\n",
       "      <td>...</td>\n",
       "      <td>...</td>\n",
       "      <td>...</td>\n",
       "      <td>...</td>\n",
       "      <td>...</td>\n",
       "      <td>...</td>\n",
       "      <td>...</td>\n",
       "      <td>...</td>\n",
       "      <td>...</td>\n",
       "      <td>...</td>\n",
       "      <td>...</td>\n",
       "    </tr>\n",
       "    <tr>\n",
       "      <th>90203</th>\n",
       "      <td>자체조달</td>\n",
       "      <td>2022-01-13</td>\n",
       "      <td>1-2-2022-B552149-000196</td>\n",
       "      <td>한국농어촌공사</td>\n",
       "      <td>준정부기관</td>\n",
       "      <td>전라남도 나주시</td>\n",
       "      <td>B552149</td>\n",
       "      <td>202201</td>\n",
       "      <td>121533556</td>\n",
       "      <td>계화1지구 배수개선사업</td>\n",
       "      <td>30131502</td>\n",
       "      <td>콘크리트블록</td>\n",
       "      <td>3013150202</td>\n",
       "      <td>콘크리트호안및옹벽블록</td>\n",
       "      <td>3912</td>\n",
       "      <td>㎡</td>\n",
       "      <td>NaN</td>\n",
       "    </tr>\n",
       "    <tr>\n",
       "      <th>90204</th>\n",
       "      <td>자체조달</td>\n",
       "      <td>2022-01-13</td>\n",
       "      <td>1-2-2022-B552149-000197</td>\n",
       "      <td>한국농어촌공사</td>\n",
       "      <td>준정부기관</td>\n",
       "      <td>전라남도 나주시</td>\n",
       "      <td>B552149</td>\n",
       "      <td>202201</td>\n",
       "      <td>341890000</td>\n",
       "      <td>부안군 곰소항 어촌뉴딜300사업 생활SOC분야</td>\n",
       "      <td>30111505</td>\n",
       "      <td>레미콘</td>\n",
       "      <td>3011150501</td>\n",
       "      <td>레미콘</td>\n",
       "      <td>3847</td>\n",
       "      <td>㎥</td>\n",
       "      <td>NaN</td>\n",
       "    </tr>\n",
       "    <tr>\n",
       "      <th>90205</th>\n",
       "      <td>자체조달</td>\n",
       "      <td>2022-01-13</td>\n",
       "      <td>1-2-2022-B552149-000198</td>\n",
       "      <td>한국농어촌공사</td>\n",
       "      <td>준정부기관</td>\n",
       "      <td>전라남도 나주시</td>\n",
       "      <td>B552149</td>\n",
       "      <td>202201</td>\n",
       "      <td>16970000</td>\n",
       "      <td>부안군 곰소항 어촌뉴딜300사업 생활SOC분야</td>\n",
       "      <td>30101619</td>\n",
       "      <td>철근또는강철봉</td>\n",
       "      <td>3010161901</td>\n",
       "      <td>철근콘크리트용봉강</td>\n",
       "      <td>21</td>\n",
       "      <td>ton</td>\n",
       "      <td>NaN</td>\n",
       "    </tr>\n",
       "    <tr>\n",
       "      <th>90206</th>\n",
       "      <td>자체조달</td>\n",
       "      <td>2022-01-13</td>\n",
       "      <td>1-1-2022-B552149-000199</td>\n",
       "      <td>한국농어촌공사</td>\n",
       "      <td>준정부기관</td>\n",
       "      <td>전라남도 나주시</td>\n",
       "      <td>B552149</td>\n",
       "      <td>202201</td>\n",
       "      <td>175733000</td>\n",
       "      <td>월평지구 수리시설개보수사업 TMTC 제조구매설치</td>\n",
       "      <td>39121189</td>\n",
       "      <td>계장제어장치</td>\n",
       "      <td>3912118901</td>\n",
       "      <td>계장제어장치</td>\n",
       "      <td>1</td>\n",
       "      <td>식</td>\n",
       "      <td>NaN</td>\n",
       "    </tr>\n",
       "    <tr>\n",
       "      <th>90207</th>\n",
       "      <td>자체조달</td>\n",
       "      <td>2022-01-13</td>\n",
       "      <td>1-1-2022-B552149-000200</td>\n",
       "      <td>한국농어촌공사</td>\n",
       "      <td>준정부기관</td>\n",
       "      <td>전라남도 나주시</td>\n",
       "      <td>B552149</td>\n",
       "      <td>202201</td>\n",
       "      <td>60070000</td>\n",
       "      <td>월평지구 수리시설개보수사업 CCTV 제조구매설치</td>\n",
       "      <td>46171622</td>\n",
       "      <td>영상감시장치</td>\n",
       "      <td>4617162201</td>\n",
       "      <td>영상감시장치</td>\n",
       "      <td>1</td>\n",
       "      <td>식</td>\n",
       "      <td>NaN</td>\n",
       "    </tr>\n",
       "  </tbody>\n",
       "</table>\n",
       "<p>1892 rows × 17 columns</p>\n",
       "</div>"
      ],
      "text/plain": [
       "       조달구분       게시일자                 발주계획통합번호    수요기관명 수요기관구분   수요기관지역명  \\\n",
       "6442   중앙조달 2021-01-21  1-1-2021-B552149-000799  한국농어촌공사  준정부기관  전라남도 나주시   \n",
       "6443   중앙조달 2021-01-21  1-1-2021-B552149-000800  한국농어촌공사  준정부기관  전라남도 나주시   \n",
       "6444   중앙조달 2021-01-21  1-1-2021-B552149-000801  한국농어촌공사  준정부기관  전라남도 나주시   \n",
       "6445   자체조달 2021-01-21  1-1-2021-B552149-000802  한국농어촌공사  준정부기관  전라남도 나주시   \n",
       "6451   자체조달 2021-01-21  1-1-2021-B552149-000753  한국농어촌공사  준정부기관  전라남도 나주시   \n",
       "...     ...        ...                      ...      ...    ...       ...   \n",
       "90203  자체조달 2022-01-13  1-2-2022-B552149-000196  한국농어촌공사  준정부기관  전라남도 나주시   \n",
       "90204  자체조달 2022-01-13  1-2-2022-B552149-000197  한국농어촌공사  준정부기관  전라남도 나주시   \n",
       "90205  자체조달 2022-01-13  1-2-2022-B552149-000198  한국농어촌공사  준정부기관  전라남도 나주시   \n",
       "90206  자체조달 2022-01-13  1-1-2022-B552149-000199  한국농어촌공사  준정부기관  전라남도 나주시   \n",
       "90207  자체조달 2022-01-13  1-1-2022-B552149-000200  한국농어촌공사  준정부기관  전라남도 나주시   \n",
       "\n",
       "        수요기관코드    발주시기       발주금액                         사업명    물품분류번호  \\\n",
       "6442   B552149  202102   40347160          경북 스마트팜혁신밸리 기반조성사업  40142185   \n",
       "6443   B552149  202102   40341690            강화지구 다목적농촌용수개발사업  30152001   \n",
       "6444   B552149  202102   40000000              호암지구 수리시설개보수사업  30111601   \n",
       "6445   B552149  202102   40000000                 압량면 행복발전소사업  39112102   \n",
       "6451   B552149  202102   49382433      영산강Ⅳ지구 3-1공구 대단위농업개발사업  31261602   \n",
       "...        ...     ...        ...                         ...       ...   \n",
       "90203  B552149  202201  121533556                계화1지구 배수개선사업  30131502   \n",
       "90204  B552149  202201  341890000   부안군 곰소항 어촌뉴딜300사업 생활SOC분야  30111505   \n",
       "90205  B552149  202201   16970000   부안군 곰소항 어촌뉴딜300사업 생활SOC분야  30101619   \n",
       "90206  B552149  202201  175733000  월평지구 수리시설개보수사업 TMTC 제조구매설치  39121189   \n",
       "90207  B552149  202201   60070000  월평지구 수리시설개보수사업 CCTV 제조구매설치  46171622   \n",
       "\n",
       "              품명    세부물품분류번호          세부품명     수량   단위  발주번호  \n",
       "6442   경질폴리염화비닐관  4014218501  일반용경질폴리염화비닐관    206    본   NaN  \n",
       "6443      금속제울타리  3015200101       디자인형울타리    593   m3   NaN  \n",
       "6444         시멘트  3011160102           시멘트  11915    포   NaN  \n",
       "6445    LED실내조명등  3911210201      LED실내조명등      1    식   NaN  \n",
       "6451        금속덮개  3126160201          금속덮개     61   EA   NaN  \n",
       "...          ...         ...           ...    ...  ...   ...  \n",
       "90203     콘크리트블록  3013150202   콘크리트호안및옹벽블록   3912    ㎡   NaN  \n",
       "90204        레미콘  3011150501           레미콘   3847    ㎥   NaN  \n",
       "90205    철근또는강철봉  3010161901     철근콘크리트용봉강     21  ton   NaN  \n",
       "90206     계장제어장치  3912118901        계장제어장치      1    식   NaN  \n",
       "90207     영상감시장치  4617162201        영상감시장치      1    식   NaN  \n",
       "\n",
       "[1892 rows x 17 columns]"
      ]
     },
     "execution_count": 13,
     "metadata": {},
     "output_type": "execute_result"
    }
   ],
   "source": [
    "df_물품_발주계획_내역_3"
   ]
  },
  {
   "cell_type": "code",
   "execution_count": 14,
   "metadata": {},
   "outputs": [
    {
     "data": {
      "text/plain": [
       "1-1-2021-B552149-000799    1\n",
       "1-1-2021-B552149-001682    1\n",
       "1-3-2021-B552149-001830    1\n",
       "1-1-2021-B552149-001654    1\n",
       "1-1-2021-B552149-001653    1\n",
       "                          ..\n",
       "1-1-2021-B552149-000746    1\n",
       "1-1-2021-B552149-000745    1\n",
       "1-1-2021-B552149-000744    1\n",
       "1-1-2021-B552149-000743    1\n",
       "1-1-2022-B552149-000200    1\n",
       "Name: 발주계획통합번호, Length: 1892, dtype: int64"
      ]
     },
     "execution_count": 14,
     "metadata": {},
     "output_type": "execute_result"
    }
   ],
   "source": [
    "df_물품_발주계획_내역_3['발주계획통합번호'].value_counts()"
   ]
  },
  {
   "cell_type": "code",
   "execution_count": 15,
   "metadata": {},
   "outputs": [],
   "source": [
    "df_test = df_물품_발주계획_내역_3[['게시일자','발주금액','물품분류번호','세부물품분류번호','수량']].copy()"
   ]
  },
  {
   "cell_type": "markdown",
   "metadata": {},
   "source": [
    " - 게시일자 : 발주계획서 등을 시스템에 게시한 날짜\n",
    " - 발주금액 : 수요기관에서 발주계획 중인 사업의 총금액\n",
    " - 물품분류번호 : 물품정보에 관한 자료를 수집ㆍ분석ㆍ정리하여 목록화 및 전산화하기 위해 부여된 번호로 4단계 계층구조로 이루어진 8자리 숫자\n",
    " - 세부물품분류번호 : 물품분류번호 8자리 숫자 다음에 2자리를 추가하여 구성\n",
    " - 수량 : "
   ]
  },
  {
   "cell_type": "code",
   "execution_count": 16,
   "metadata": {},
   "outputs": [
    {
     "data": {
      "text/html": [
       "<div>\n",
       "<style scoped>\n",
       "    .dataframe tbody tr th:only-of-type {\n",
       "        vertical-align: middle;\n",
       "    }\n",
       "\n",
       "    .dataframe tbody tr th {\n",
       "        vertical-align: top;\n",
       "    }\n",
       "\n",
       "    .dataframe thead th {\n",
       "        text-align: right;\n",
       "    }\n",
       "</style>\n",
       "<table border=\"1\" class=\"dataframe\">\n",
       "  <thead>\n",
       "    <tr style=\"text-align: right;\">\n",
       "      <th></th>\n",
       "      <th>발주금액</th>\n",
       "      <th>물품분류번호</th>\n",
       "      <th>세부물품분류번호</th>\n",
       "    </tr>\n",
       "    <tr>\n",
       "      <th>게시일자</th>\n",
       "      <th></th>\n",
       "      <th></th>\n",
       "      <th></th>\n",
       "    </tr>\n",
       "  </thead>\n",
       "  <tbody>\n",
       "    <tr>\n",
       "      <th>2021-01-24</th>\n",
       "      <td>160129231558</td>\n",
       "      <td>46217556822</td>\n",
       "      <td>4621755683924</td>\n",
       "    </tr>\n",
       "    <tr>\n",
       "      <th>2021-01-31</th>\n",
       "      <td>0</td>\n",
       "      <td>0</td>\n",
       "      <td>0</td>\n",
       "    </tr>\n",
       "    <tr>\n",
       "      <th>2021-02-07</th>\n",
       "      <td>0</td>\n",
       "      <td>0</td>\n",
       "      <td>0</td>\n",
       "    </tr>\n",
       "    <tr>\n",
       "      <th>2021-02-14</th>\n",
       "      <td>0</td>\n",
       "      <td>0</td>\n",
       "      <td>0</td>\n",
       "    </tr>\n",
       "    <tr>\n",
       "      <th>2021-02-21</th>\n",
       "      <td>0</td>\n",
       "      <td>0</td>\n",
       "      <td>0</td>\n",
       "    </tr>\n",
       "    <tr>\n",
       "      <th>2021-02-28</th>\n",
       "      <td>0</td>\n",
       "      <td>0</td>\n",
       "      <td>0</td>\n",
       "    </tr>\n",
       "    <tr>\n",
       "      <th>2021-03-07</th>\n",
       "      <td>53196000</td>\n",
       "      <td>52151503</td>\n",
       "      <td>5215150301</td>\n",
       "    </tr>\n",
       "    <tr>\n",
       "      <th>2021-03-14</th>\n",
       "      <td>54450000</td>\n",
       "      <td>20111504</td>\n",
       "      <td>2011150401</td>\n",
       "    </tr>\n",
       "    <tr>\n",
       "      <th>2021-03-21</th>\n",
       "      <td>144750000</td>\n",
       "      <td>132647214</td>\n",
       "      <td>13264721405</td>\n",
       "    </tr>\n",
       "    <tr>\n",
       "      <th>2021-03-28</th>\n",
       "      <td>1130250000</td>\n",
       "      <td>174539935</td>\n",
       "      <td>17453993505</td>\n",
       "    </tr>\n",
       "    <tr>\n",
       "      <th>2021-04-04</th>\n",
       "      <td>19775000</td>\n",
       "      <td>110203198</td>\n",
       "      <td>11020319802</td>\n",
       "    </tr>\n",
       "    <tr>\n",
       "      <th>2021-04-11</th>\n",
       "      <td>16940000</td>\n",
       "      <td>55101599</td>\n",
       "      <td>5510159901</td>\n",
       "    </tr>\n",
       "    <tr>\n",
       "      <th>2021-04-18</th>\n",
       "      <td>0</td>\n",
       "      <td>0</td>\n",
       "      <td>0</td>\n",
       "    </tr>\n",
       "    <tr>\n",
       "      <th>2021-04-25</th>\n",
       "      <td>170443160</td>\n",
       "      <td>180770738</td>\n",
       "      <td>18077073813</td>\n",
       "    </tr>\n",
       "    <tr>\n",
       "      <th>2021-05-02</th>\n",
       "      <td>94790160</td>\n",
       "      <td>100405325</td>\n",
       "      <td>10040532506</td>\n",
       "    </tr>\n",
       "    <tr>\n",
       "      <th>2021-05-09</th>\n",
       "      <td>99234000</td>\n",
       "      <td>103486716</td>\n",
       "      <td>10348671606</td>\n",
       "    </tr>\n",
       "    <tr>\n",
       "      <th>2021-05-16</th>\n",
       "      <td>0</td>\n",
       "      <td>0</td>\n",
       "      <td>0</td>\n",
       "    </tr>\n",
       "    <tr>\n",
       "      <th>2021-05-23</th>\n",
       "      <td>493584000</td>\n",
       "      <td>43211509</td>\n",
       "      <td>4321150901</td>\n",
       "    </tr>\n",
       "    <tr>\n",
       "      <th>2021-05-30</th>\n",
       "      <td>7260000</td>\n",
       "      <td>43211501</td>\n",
       "      <td>4321150102</td>\n",
       "    </tr>\n",
       "    <tr>\n",
       "      <th>2021-06-06</th>\n",
       "      <td>0</td>\n",
       "      <td>0</td>\n",
       "      <td>0</td>\n",
       "    </tr>\n",
       "    <tr>\n",
       "      <th>2021-06-13</th>\n",
       "      <td>0</td>\n",
       "      <td>0</td>\n",
       "      <td>0</td>\n",
       "    </tr>\n",
       "    <tr>\n",
       "      <th>2021-06-20</th>\n",
       "      <td>0</td>\n",
       "      <td>0</td>\n",
       "      <td>0</td>\n",
       "    </tr>\n",
       "    <tr>\n",
       "      <th>2021-06-27</th>\n",
       "      <td>1213498500</td>\n",
       "      <td>186657718</td>\n",
       "      <td>18665771804</td>\n",
       "    </tr>\n",
       "    <tr>\n",
       "      <th>2021-07-04</th>\n",
       "      <td>0</td>\n",
       "      <td>0</td>\n",
       "      <td>0</td>\n",
       "    </tr>\n",
       "    <tr>\n",
       "      <th>2021-07-11</th>\n",
       "      <td>0</td>\n",
       "      <td>0</td>\n",
       "      <td>0</td>\n",
       "    </tr>\n",
       "    <tr>\n",
       "      <th>2021-07-18</th>\n",
       "      <td>0</td>\n",
       "      <td>0</td>\n",
       "      <td>0</td>\n",
       "    </tr>\n",
       "    <tr>\n",
       "      <th>2021-07-25</th>\n",
       "      <td>22500000</td>\n",
       "      <td>53121503</td>\n",
       "      <td>5312150301</td>\n",
       "    </tr>\n",
       "    <tr>\n",
       "      <th>2021-08-01</th>\n",
       "      <td>0</td>\n",
       "      <td>0</td>\n",
       "      <td>0</td>\n",
       "    </tr>\n",
       "    <tr>\n",
       "      <th>2021-08-08</th>\n",
       "      <td>0</td>\n",
       "      <td>0</td>\n",
       "      <td>0</td>\n",
       "    </tr>\n",
       "    <tr>\n",
       "      <th>2021-08-15</th>\n",
       "      <td>123943000</td>\n",
       "      <td>69213034</td>\n",
       "      <td>6921303402</td>\n",
       "    </tr>\n",
       "    <tr>\n",
       "      <th>2021-08-22</th>\n",
       "      <td>0</td>\n",
       "      <td>0</td>\n",
       "      <td>0</td>\n",
       "    </tr>\n",
       "    <tr>\n",
       "      <th>2021-08-29</th>\n",
       "      <td>0</td>\n",
       "      <td>0</td>\n",
       "      <td>0</td>\n",
       "    </tr>\n",
       "    <tr>\n",
       "      <th>2021-09-05</th>\n",
       "      <td>0</td>\n",
       "      <td>0</td>\n",
       "      <td>0</td>\n",
       "    </tr>\n",
       "    <tr>\n",
       "      <th>2021-09-12</th>\n",
       "      <td>0</td>\n",
       "      <td>0</td>\n",
       "      <td>0</td>\n",
       "    </tr>\n",
       "    <tr>\n",
       "      <th>2021-09-19</th>\n",
       "      <td>410460000</td>\n",
       "      <td>86444706</td>\n",
       "      <td>8644470603</td>\n",
       "    </tr>\n",
       "    <tr>\n",
       "      <th>2021-09-26</th>\n",
       "      <td>0</td>\n",
       "      <td>0</td>\n",
       "      <td>0</td>\n",
       "    </tr>\n",
       "    <tr>\n",
       "      <th>2021-10-03</th>\n",
       "      <td>36730000</td>\n",
       "      <td>80284573</td>\n",
       "      <td>8028457303</td>\n",
       "    </tr>\n",
       "    <tr>\n",
       "      <th>2021-10-10</th>\n",
       "      <td>28846318000</td>\n",
       "      <td>46223221</td>\n",
       "      <td>4622322104</td>\n",
       "    </tr>\n",
       "    <tr>\n",
       "      <th>2021-10-17</th>\n",
       "      <td>102466000</td>\n",
       "      <td>44112002</td>\n",
       "      <td>4411200201</td>\n",
       "    </tr>\n",
       "    <tr>\n",
       "      <th>2021-10-24</th>\n",
       "      <td>19643000</td>\n",
       "      <td>45111902</td>\n",
       "      <td>4511190201</td>\n",
       "    </tr>\n",
       "    <tr>\n",
       "      <th>2021-10-31</th>\n",
       "      <td>117000000</td>\n",
       "      <td>82227702</td>\n",
       "      <td>8222770202</td>\n",
       "    </tr>\n",
       "    <tr>\n",
       "      <th>2021-11-07</th>\n",
       "      <td>358196000</td>\n",
       "      <td>209853842</td>\n",
       "      <td>20985384206</td>\n",
       "    </tr>\n",
       "    <tr>\n",
       "      <th>2021-11-14</th>\n",
       "      <td>54589000</td>\n",
       "      <td>98333903</td>\n",
       "      <td>9833390302</td>\n",
       "    </tr>\n",
       "    <tr>\n",
       "      <th>2021-11-21</th>\n",
       "      <td>26400000</td>\n",
       "      <td>85414816</td>\n",
       "      <td>8541481602</td>\n",
       "    </tr>\n",
       "    <tr>\n",
       "      <th>2021-11-28</th>\n",
       "      <td>43164000</td>\n",
       "      <td>55101599</td>\n",
       "      <td>5510159901</td>\n",
       "    </tr>\n",
       "    <tr>\n",
       "      <th>2021-12-05</th>\n",
       "      <td>0</td>\n",
       "      <td>0</td>\n",
       "      <td>0</td>\n",
       "    </tr>\n",
       "    <tr>\n",
       "      <th>2021-12-12</th>\n",
       "      <td>49660000</td>\n",
       "      <td>98333198</td>\n",
       "      <td>9833319802</td>\n",
       "    </tr>\n",
       "    <tr>\n",
       "      <th>2021-12-19</th>\n",
       "      <td>45956000</td>\n",
       "      <td>146415300</td>\n",
       "      <td>14641530003</td>\n",
       "    </tr>\n",
       "    <tr>\n",
       "      <th>2021-12-26</th>\n",
       "      <td>13134000</td>\n",
       "      <td>55101599</td>\n",
       "      <td>5510159901</td>\n",
       "    </tr>\n",
       "    <tr>\n",
       "      <th>2022-01-02</th>\n",
       "      <td>0</td>\n",
       "      <td>0</td>\n",
       "      <td>0</td>\n",
       "    </tr>\n",
       "    <tr>\n",
       "      <th>2022-01-09</th>\n",
       "      <td>0</td>\n",
       "      <td>0</td>\n",
       "      <td>0</td>\n",
       "    </tr>\n",
       "    <tr>\n",
       "      <th>2022-01-16</th>\n",
       "      <td>81288290822</td>\n",
       "      <td>15945499018</td>\n",
       "      <td>1594549902376</td>\n",
       "    </tr>\n",
       "  </tbody>\n",
       "</table>\n",
       "</div>"
      ],
      "text/plain": [
       "                    발주금액       물품분류번호       세부물품분류번호\n",
       "게시일자                                                \n",
       "2021-01-24  160129231558  46217556822  4621755683924\n",
       "2021-01-31             0            0              0\n",
       "2021-02-07             0            0              0\n",
       "2021-02-14             0            0              0\n",
       "2021-02-21             0            0              0\n",
       "2021-02-28             0            0              0\n",
       "2021-03-07      53196000     52151503     5215150301\n",
       "2021-03-14      54450000     20111504     2011150401\n",
       "2021-03-21     144750000    132647214    13264721405\n",
       "2021-03-28    1130250000    174539935    17453993505\n",
       "2021-04-04      19775000    110203198    11020319802\n",
       "2021-04-11      16940000     55101599     5510159901\n",
       "2021-04-18             0            0              0\n",
       "2021-04-25     170443160    180770738    18077073813\n",
       "2021-05-02      94790160    100405325    10040532506\n",
       "2021-05-09      99234000    103486716    10348671606\n",
       "2021-05-16             0            0              0\n",
       "2021-05-23     493584000     43211509     4321150901\n",
       "2021-05-30       7260000     43211501     4321150102\n",
       "2021-06-06             0            0              0\n",
       "2021-06-13             0            0              0\n",
       "2021-06-20             0            0              0\n",
       "2021-06-27    1213498500    186657718    18665771804\n",
       "2021-07-04             0            0              0\n",
       "2021-07-11             0            0              0\n",
       "2021-07-18             0            0              0\n",
       "2021-07-25      22500000     53121503     5312150301\n",
       "2021-08-01             0            0              0\n",
       "2021-08-08             0            0              0\n",
       "2021-08-15     123943000     69213034     6921303402\n",
       "2021-08-22             0            0              0\n",
       "2021-08-29             0            0              0\n",
       "2021-09-05             0            0              0\n",
       "2021-09-12             0            0              0\n",
       "2021-09-19     410460000     86444706     8644470603\n",
       "2021-09-26             0            0              0\n",
       "2021-10-03      36730000     80284573     8028457303\n",
       "2021-10-10   28846318000     46223221     4622322104\n",
       "2021-10-17     102466000     44112002     4411200201\n",
       "2021-10-24      19643000     45111902     4511190201\n",
       "2021-10-31     117000000     82227702     8222770202\n",
       "2021-11-07     358196000    209853842    20985384206\n",
       "2021-11-14      54589000     98333903     9833390302\n",
       "2021-11-21      26400000     85414816     8541481602\n",
       "2021-11-28      43164000     55101599     5510159901\n",
       "2021-12-05             0            0              0\n",
       "2021-12-12      49660000     98333198     9833319802\n",
       "2021-12-19      45956000    146415300    14641530003\n",
       "2021-12-26      13134000     55101599     5510159901\n",
       "2022-01-02             0            0              0\n",
       "2022-01-09             0            0              0\n",
       "2022-01-16   81288290822  15945499018  1594549902376"
      ]
     },
     "execution_count": 16,
     "metadata": {},
     "output_type": "execute_result"
    }
   ],
   "source": [
    "df_test.groupby(pd.Grouper(key = '게시일자', freq = 'W')).sum()\n",
    "# 데이터 수가 너무 부족하다."
   ]
  },
  {
   "cell_type": "code",
   "execution_count": 17,
   "metadata": {},
   "outputs": [
    {
     "name": "stderr",
     "output_type": "stream",
     "text": [
      "b'Skipping line 1142: expected 22 fields, saw 25\\nSkipping line 1216: expected 22 fields, saw 23\\nSkipping line 1222: expected 22 fields, saw 23\\n'\n"
     ]
    }
   ],
   "source": [
    "a = [2017,2018,2019,2020]\n",
    "for i in a:\n",
    "    if i == 2017:\n",
    "        df = pd.read_csv('물품_발주계획_내역_'+str(i)+'.csv',error_bad_lines=False)\n",
    "    else:\n",
    "        df = pd.concat([df,pd.read_csv('물품_발주계획_내역_'+str(i)+'.csv',error_bad_lines=False)],axis=0)"
   ]
  },
  {
   "cell_type": "code",
   "execution_count": 18,
   "metadata": {},
   "outputs": [],
   "source": [
    "df_물품_발주계획_내역_new = df.copy()"
   ]
  },
  {
   "cell_type": "code",
   "execution_count": 19,
   "metadata": {},
   "outputs": [
    {
     "data": {
      "text/plain": [
       "Index(['조달구분', '게시일자', '발주계획통합번호', '수요기관구분', '수요기관지역명', '수요기관코드', '발주시기',\n",
       "       '발주금액', '사업명', '물품분류번호', '품명', '세부물품분류번호', '세부품명', '수량', '단위', '규격내용',\n",
       "       '용도내용', '계약방법', '발주번호', '발주기관부서명', '발주기관담당자명', '발주기관담당자전화번호'],\n",
       "      dtype='object')"
      ]
     },
     "execution_count": 19,
     "metadata": {},
     "output_type": "execute_result"
    }
   ],
   "source": [
    "df_물품_발주계획_내역_new.columns"
   ]
  },
  {
   "cell_type": "code",
   "execution_count": 20,
   "metadata": {},
   "outputs": [
    {
     "data": {
      "text/plain": [
       "조달구분              0\n",
       "게시일자              0\n",
       "발주계획통합번호          0\n",
       "수요기관구분            0\n",
       "수요기관지역명           0\n",
       "수요기관코드            0\n",
       "발주시기              0\n",
       "발주금액              0\n",
       "사업명               0\n",
       "물품분류번호            0\n",
       "품명               45\n",
       "세부물품분류번호          0\n",
       "세부품명             53\n",
       "수량             2584\n",
       "단위             1002\n",
       "규격내용           2320\n",
       "용도내용           1222\n",
       "계약방법            976\n",
       "발주번호           5466\n",
       "발주기관부서명         976\n",
       "발주기관담당자명        976\n",
       "발주기관담당자전화번호     993\n",
       "dtype: int64"
      ]
     },
     "execution_count": 20,
     "metadata": {},
     "output_type": "execute_result"
    }
   ],
   "source": [
    "df_물품_발주계획_내역_new.isnull().sum()"
   ]
  },
  {
   "cell_type": "code",
   "execution_count": 21,
   "metadata": {},
   "outputs": [],
   "source": [
    "wbc= make_time_series_3(df_물품_발주계획_내역_new['게시일자'])\n",
    "\n",
    "df_물품_발주계획_내역_new.reset_index(inplace=True)\n",
    "df_물품_발주계획_내역_new.loc[:,'게시일자'] =wbc"
   ]
  },
  {
   "cell_type": "code",
   "execution_count": 22,
   "metadata": {},
   "outputs": [],
   "source": [
    "\n",
    "df_물품_발주계획_내역_new_2 = df_물품_발주계획_내역_new[['조달구분', '게시일자', '발주계획통합번호',  '수요기관구분', '수요기관지역명', '수요기관코드',\n",
    "       '발주시기', '발주금액', '사업명', '물품분류번호', '품명', '세부물품분류번호', '세부품명', '수량', '단위','발주번호']].copy()\n",
    "\n",
    "df_train = df_물품_발주계획_내역_new_2[['게시일자','발주금액','물품분류번호','세부물품분류번호','수량']].copy()"
   ]
  },
  {
   "cell_type": "code",
   "execution_count": 23,
   "metadata": {},
   "outputs": [
    {
     "data": {
      "text/plain": [
       "(5741, 5)"
      ]
     },
     "execution_count": 23,
     "metadata": {},
     "output_type": "execute_result"
    }
   ],
   "source": [
    "df_train.shape"
   ]
  },
  {
   "cell_type": "code",
   "execution_count": 24,
   "metadata": {},
   "outputs": [
    {
     "data": {
      "text/plain": [
       "게시일자           0\n",
       "발주금액           0\n",
       "물품분류번호         0\n",
       "세부물품분류번호       0\n",
       "수량          2584\n",
       "dtype: int64"
      ]
     },
     "execution_count": 24,
     "metadata": {},
     "output_type": "execute_result"
    }
   ],
   "source": [
    "df_train.isnull().sum()"
   ]
  },
  {
   "cell_type": "code",
   "execution_count": 25,
   "metadata": {},
   "outputs": [],
   "source": [
    "df_train.fillna(str(0),inplace=True)"
   ]
  },
  {
   "cell_type": "code",
   "execution_count": 26,
   "metadata": {},
   "outputs": [
    {
     "data": {
      "text/plain": [
       "게시일자        0\n",
       "발주금액        0\n",
       "물품분류번호      0\n",
       "세부물품분류번호    0\n",
       "수량          0\n",
       "dtype: int64"
      ]
     },
     "execution_count": 26,
     "metadata": {},
     "output_type": "execute_result"
    }
   ],
   "source": [
    "df_train.isnull().sum()"
   ]
  },
  {
   "cell_type": "code",
   "execution_count": 27,
   "metadata": {},
   "outputs": [],
   "source": [
    "df_train.loc[:,'수량'] = [float(i) for i in df_train['수량'].str.replace(',','')]"
   ]
  },
  {
   "cell_type": "code",
   "execution_count": 28,
   "metadata": {},
   "outputs": [
    {
     "data": {
      "text/html": [
       "<div>\n",
       "<style scoped>\n",
       "    .dataframe tbody tr th:only-of-type {\n",
       "        vertical-align: middle;\n",
       "    }\n",
       "\n",
       "    .dataframe tbody tr th {\n",
       "        vertical-align: top;\n",
       "    }\n",
       "\n",
       "    .dataframe thead th {\n",
       "        text-align: right;\n",
       "    }\n",
       "</style>\n",
       "<table border=\"1\" class=\"dataframe\">\n",
       "  <thead>\n",
       "    <tr style=\"text-align: right;\">\n",
       "      <th></th>\n",
       "      <th>게시일자</th>\n",
       "      <th>발주금액</th>\n",
       "      <th>물품분류번호</th>\n",
       "      <th>세부물품분류번호</th>\n",
       "      <th>수량</th>\n",
       "    </tr>\n",
       "  </thead>\n",
       "  <tbody>\n",
       "  </tbody>\n",
       "</table>\n",
       "</div>"
      ],
      "text/plain": [
       "Empty DataFrame\n",
       "Columns: [게시일자, 발주금액, 물품분류번호, 세부물품분류번호, 수량]\n",
       "Index: []"
      ]
     },
     "execution_count": 28,
     "metadata": {},
     "output_type": "execute_result"
    }
   ],
   "source": [
    "df_train[df_train['수량'].isnull()]"
   ]
  },
  {
   "cell_type": "code",
   "execution_count": 29,
   "metadata": {},
   "outputs": [
    {
     "data": {
      "text/html": [
       "<div>\n",
       "<style scoped>\n",
       "    .dataframe tbody tr th:only-of-type {\n",
       "        vertical-align: middle;\n",
       "    }\n",
       "\n",
       "    .dataframe tbody tr th {\n",
       "        vertical-align: top;\n",
       "    }\n",
       "\n",
       "    .dataframe thead th {\n",
       "        text-align: right;\n",
       "    }\n",
       "</style>\n",
       "<table border=\"1\" class=\"dataframe\">\n",
       "  <thead>\n",
       "    <tr style=\"text-align: right;\">\n",
       "      <th></th>\n",
       "      <th>게시일자</th>\n",
       "      <th>발주금액</th>\n",
       "      <th>물품분류번호</th>\n",
       "      <th>세부물품분류번호</th>\n",
       "      <th>수량</th>\n",
       "    </tr>\n",
       "  </thead>\n",
       "  <tbody>\n",
       "  </tbody>\n",
       "</table>\n",
       "</div>"
      ],
      "text/plain": [
       "Empty DataFrame\n",
       "Columns: [게시일자, 발주금액, 물품분류번호, 세부물품분류번호, 수량]\n",
       "Index: []"
      ]
     },
     "execution_count": 29,
     "metadata": {},
     "output_type": "execute_result"
    }
   ],
   "source": [
    "df_train[df_train['수량'] == -1]"
   ]
  },
  {
   "cell_type": "code",
   "execution_count": 30,
   "metadata": {},
   "outputs": [
    {
     "data": {
      "text/plain": [
       "0      2017-02-01\n",
       "681    2017-02-01\n",
       "682    2017-02-01\n",
       "683    2017-02-01\n",
       "684    2017-02-01\n",
       "          ...    \n",
       "5432   2021-01-21\n",
       "5431   2021-01-21\n",
       "5430   2021-01-21\n",
       "5456   2021-01-21\n",
       "5740   2021-01-21\n",
       "Name: 게시일자, Length: 5741, dtype: datetime64[ns]"
      ]
     },
     "execution_count": 30,
     "metadata": {},
     "output_type": "execute_result"
    }
   ],
   "source": [
    "df_train['게시일자'].sort_values()"
   ]
  },
  {
   "cell_type": "code",
   "execution_count": 31,
   "metadata": {},
   "outputs": [],
   "source": [
    "\n",
    "\n",
    "dt = pd.DatetimeIndex(df_train['게시일자'])\n",
    "\n",
    "df_train['day'] = dt.day\n",
    "df_train['month'] = dt.month\n",
    "df_train['year'] = dt.year\n",
    "df_train['hour'] = dt.hour\n",
    "df_train['dow'] = dt.dayofweek\n",
    "df_train['woy'] = dt.weekofyear"
   ]
  },
  {
   "cell_type": "code",
   "execution_count": 32,
   "metadata": {},
   "outputs": [
    {
     "data": {
      "text/html": [
       "        <script type=\"text/javascript\">\n",
       "        window.PlotlyConfig = {MathJaxConfig: 'local'};\n",
       "        if (window.MathJax) {MathJax.Hub.Config({SVG: {font: \"STIX-Web\"}});}\n",
       "        if (typeof require !== 'undefined') {\n",
       "        require.undef(\"plotly\");\n",
       "        requirejs.config({\n",
       "            paths: {\n",
       "                'plotly': ['https://cdn.plot.ly/plotly-2.4.2.min']\n",
       "            }\n",
       "        });\n",
       "        require(['plotly'], function(Plotly) {\n",
       "            window._Plotly = Plotly;\n",
       "        });\n",
       "        }\n",
       "        </script>\n",
       "        "
      ]
     },
     "metadata": {},
     "output_type": "display_data"
    },
    {
     "data": {
      "application/vnd.plotly.v1+json": {
       "config": {
        "linkText": "Export to plot.ly",
        "plotlyServerURL": "https://plot.ly",
        "showLink": true
       },
       "data": [
        {
         "colorscale": [
          [
           0,
           "rgb(255,245,235)"
          ],
          [
           0.125,
           "rgb(254,230,206)"
          ],
          [
           0.25,
           "rgb(253,208,162)"
          ],
          [
           0.375,
           "rgb(253,174,107)"
          ],
          [
           0.5,
           "rgb(253,141,60)"
          ],
          [
           0.625,
           "rgb(241,105,19)"
          ],
          [
           0.75,
           "rgb(217,72,1)"
          ],
          [
           0.875,
           "rgb(166,54,3)"
          ],
          [
           1,
           "rgb(127,39,4)"
          ]
         ],
         "type": "heatmap",
         "x": [
          "발주금액",
          "물품분류번호",
          "세부물품분류번호",
          "수량",
          "day",
          "month",
          "year",
          "hour",
          "dow",
          "woy"
         ],
         "y": [
          "발주금액",
          "물품분류번호",
          "세부물품분류번호",
          "수량",
          "day",
          "month",
          "year",
          "hour",
          "dow",
          "woy"
         ],
         "z": [
          [
           1,
           -0.012062620915491533,
           -0.012062620921284614,
           0.04910202163255272,
           -0.018069689257782382,
           0.03821273089254395,
           -0.007464262061363793,
           null,
           0.04011243787244624,
           0.03505490185567275
          ],
          [
           -0.012062620915491533,
           1,
           1.0000000000000004,
           -0.0027400107842716313,
           -0.2142341937695495,
           0.17670489736584888,
           -0.21560841153339796,
           null,
           -0.08562403159613513,
           0.14537735939544938
          ],
          [
           -0.012062620921284614,
           1.0000000000000004,
           1,
           -0.002740010773060003,
           -0.2142341937833937,
           0.17670489735068617,
           -0.21560841150220708,
           null,
           -0.08562403162185707,
           0.1453773593801493
          ],
          [
           0.04910202163255272,
           -0.0027400107842716313,
           -0.002740010773060003,
           1,
           0.03289522211933255,
           0.0418939288834765,
           0.06481225821346197,
           null,
           0.005453399863380261,
           0.04888061176859405
          ],
          [
           -0.018069689257782382,
           -0.2142341937695495,
           -0.2142341937833937,
           0.03289522211933255,
           1,
           -0.2128973889466307,
           0.755968800535871,
           null,
           0.11837327669769465,
           -0.0509292925202464
          ],
          [
           0.03821273089254395,
           0.17670489736584888,
           0.17670489735068617,
           0.0418939288834765,
           -0.2128973889466307,
           1,
           -0.15188348826005726,
           null,
           -0.14149494902522666,
           0.9861816013340031
          ],
          [
           -0.007464262061363793,
           -0.21560841153339796,
           -0.21560841150220708,
           0.06481225821346197,
           0.755968800535871,
           -0.15188348826005726,
           1,
           null,
           0.3501004882376782,
           -0.03328960270477799
          ],
          [
           null,
           null,
           null,
           null,
           null,
           null,
           null,
           null,
           null,
           null
          ],
          [
           0.04011243787244624,
           -0.08562403159613513,
           -0.08562403162185707,
           0.005453399863380261,
           0.11837327669769465,
           -0.14149494902522666,
           0.3501004882376782,
           null,
           1,
           -0.14667785134121739
          ],
          [
           0.03505490185567275,
           0.14537735939544938,
           0.1453773593801493,
           0.04888061176859405,
           -0.0509292925202464,
           0.9861816013340031,
           -0.03328960270477799,
           null,
           -0.14667785134121739,
           1
          ]
         ],
         "zmax": null,
         "zmin": null
        }
       ],
       "layout": {
        "legend": {
         "bgcolor": "#F5F6F9",
         "font": {
          "color": "#4D5663"
         }
        },
        "paper_bgcolor": "#F5F6F9",
        "plot_bgcolor": "#F5F6F9",
        "template": {
         "data": {
          "bar": [
           {
            "error_x": {
             "color": "#2a3f5f"
            },
            "error_y": {
             "color": "#2a3f5f"
            },
            "marker": {
             "line": {
              "color": "#E5ECF6",
              "width": 0.5
             },
             "pattern": {
              "fillmode": "overlay",
              "size": 10,
              "solidity": 0.2
             }
            },
            "type": "bar"
           }
          ],
          "barpolar": [
           {
            "marker": {
             "line": {
              "color": "#E5ECF6",
              "width": 0.5
             },
             "pattern": {
              "fillmode": "overlay",
              "size": 10,
              "solidity": 0.2
             }
            },
            "type": "barpolar"
           }
          ],
          "carpet": [
           {
            "aaxis": {
             "endlinecolor": "#2a3f5f",
             "gridcolor": "white",
             "linecolor": "white",
             "minorgridcolor": "white",
             "startlinecolor": "#2a3f5f"
            },
            "baxis": {
             "endlinecolor": "#2a3f5f",
             "gridcolor": "white",
             "linecolor": "white",
             "minorgridcolor": "white",
             "startlinecolor": "#2a3f5f"
            },
            "type": "carpet"
           }
          ],
          "choropleth": [
           {
            "colorbar": {
             "outlinewidth": 0,
             "ticks": ""
            },
            "type": "choropleth"
           }
          ],
          "contour": [
           {
            "colorbar": {
             "outlinewidth": 0,
             "ticks": ""
            },
            "colorscale": [
             [
              0,
              "#0d0887"
             ],
             [
              0.1111111111111111,
              "#46039f"
             ],
             [
              0.2222222222222222,
              "#7201a8"
             ],
             [
              0.3333333333333333,
              "#9c179e"
             ],
             [
              0.4444444444444444,
              "#bd3786"
             ],
             [
              0.5555555555555556,
              "#d8576b"
             ],
             [
              0.6666666666666666,
              "#ed7953"
             ],
             [
              0.7777777777777778,
              "#fb9f3a"
             ],
             [
              0.8888888888888888,
              "#fdca26"
             ],
             [
              1,
              "#f0f921"
             ]
            ],
            "type": "contour"
           }
          ],
          "contourcarpet": [
           {
            "colorbar": {
             "outlinewidth": 0,
             "ticks": ""
            },
            "type": "contourcarpet"
           }
          ],
          "heatmap": [
           {
            "colorbar": {
             "outlinewidth": 0,
             "ticks": ""
            },
            "colorscale": [
             [
              0,
              "#0d0887"
             ],
             [
              0.1111111111111111,
              "#46039f"
             ],
             [
              0.2222222222222222,
              "#7201a8"
             ],
             [
              0.3333333333333333,
              "#9c179e"
             ],
             [
              0.4444444444444444,
              "#bd3786"
             ],
             [
              0.5555555555555556,
              "#d8576b"
             ],
             [
              0.6666666666666666,
              "#ed7953"
             ],
             [
              0.7777777777777778,
              "#fb9f3a"
             ],
             [
              0.8888888888888888,
              "#fdca26"
             ],
             [
              1,
              "#f0f921"
             ]
            ],
            "type": "heatmap"
           }
          ],
          "heatmapgl": [
           {
            "colorbar": {
             "outlinewidth": 0,
             "ticks": ""
            },
            "colorscale": [
             [
              0,
              "#0d0887"
             ],
             [
              0.1111111111111111,
              "#46039f"
             ],
             [
              0.2222222222222222,
              "#7201a8"
             ],
             [
              0.3333333333333333,
              "#9c179e"
             ],
             [
              0.4444444444444444,
              "#bd3786"
             ],
             [
              0.5555555555555556,
              "#d8576b"
             ],
             [
              0.6666666666666666,
              "#ed7953"
             ],
             [
              0.7777777777777778,
              "#fb9f3a"
             ],
             [
              0.8888888888888888,
              "#fdca26"
             ],
             [
              1,
              "#f0f921"
             ]
            ],
            "type": "heatmapgl"
           }
          ],
          "histogram": [
           {
            "marker": {
             "pattern": {
              "fillmode": "overlay",
              "size": 10,
              "solidity": 0.2
             }
            },
            "type": "histogram"
           }
          ],
          "histogram2d": [
           {
            "colorbar": {
             "outlinewidth": 0,
             "ticks": ""
            },
            "colorscale": [
             [
              0,
              "#0d0887"
             ],
             [
              0.1111111111111111,
              "#46039f"
             ],
             [
              0.2222222222222222,
              "#7201a8"
             ],
             [
              0.3333333333333333,
              "#9c179e"
             ],
             [
              0.4444444444444444,
              "#bd3786"
             ],
             [
              0.5555555555555556,
              "#d8576b"
             ],
             [
              0.6666666666666666,
              "#ed7953"
             ],
             [
              0.7777777777777778,
              "#fb9f3a"
             ],
             [
              0.8888888888888888,
              "#fdca26"
             ],
             [
              1,
              "#f0f921"
             ]
            ],
            "type": "histogram2d"
           }
          ],
          "histogram2dcontour": [
           {
            "colorbar": {
             "outlinewidth": 0,
             "ticks": ""
            },
            "colorscale": [
             [
              0,
              "#0d0887"
             ],
             [
              0.1111111111111111,
              "#46039f"
             ],
             [
              0.2222222222222222,
              "#7201a8"
             ],
             [
              0.3333333333333333,
              "#9c179e"
             ],
             [
              0.4444444444444444,
              "#bd3786"
             ],
             [
              0.5555555555555556,
              "#d8576b"
             ],
             [
              0.6666666666666666,
              "#ed7953"
             ],
             [
              0.7777777777777778,
              "#fb9f3a"
             ],
             [
              0.8888888888888888,
              "#fdca26"
             ],
             [
              1,
              "#f0f921"
             ]
            ],
            "type": "histogram2dcontour"
           }
          ],
          "mesh3d": [
           {
            "colorbar": {
             "outlinewidth": 0,
             "ticks": ""
            },
            "type": "mesh3d"
           }
          ],
          "parcoords": [
           {
            "line": {
             "colorbar": {
              "outlinewidth": 0,
              "ticks": ""
             }
            },
            "type": "parcoords"
           }
          ],
          "pie": [
           {
            "automargin": true,
            "type": "pie"
           }
          ],
          "scatter": [
           {
            "marker": {
             "colorbar": {
              "outlinewidth": 0,
              "ticks": ""
             }
            },
            "type": "scatter"
           }
          ],
          "scatter3d": [
           {
            "line": {
             "colorbar": {
              "outlinewidth": 0,
              "ticks": ""
             }
            },
            "marker": {
             "colorbar": {
              "outlinewidth": 0,
              "ticks": ""
             }
            },
            "type": "scatter3d"
           }
          ],
          "scattercarpet": [
           {
            "marker": {
             "colorbar": {
              "outlinewidth": 0,
              "ticks": ""
             }
            },
            "type": "scattercarpet"
           }
          ],
          "scattergeo": [
           {
            "marker": {
             "colorbar": {
              "outlinewidth": 0,
              "ticks": ""
             }
            },
            "type": "scattergeo"
           }
          ],
          "scattergl": [
           {
            "marker": {
             "colorbar": {
              "outlinewidth": 0,
              "ticks": ""
             }
            },
            "type": "scattergl"
           }
          ],
          "scattermapbox": [
           {
            "marker": {
             "colorbar": {
              "outlinewidth": 0,
              "ticks": ""
             }
            },
            "type": "scattermapbox"
           }
          ],
          "scatterpolar": [
           {
            "marker": {
             "colorbar": {
              "outlinewidth": 0,
              "ticks": ""
             }
            },
            "type": "scatterpolar"
           }
          ],
          "scatterpolargl": [
           {
            "marker": {
             "colorbar": {
              "outlinewidth": 0,
              "ticks": ""
             }
            },
            "type": "scatterpolargl"
           }
          ],
          "scatterternary": [
           {
            "marker": {
             "colorbar": {
              "outlinewidth": 0,
              "ticks": ""
             }
            },
            "type": "scatterternary"
           }
          ],
          "surface": [
           {
            "colorbar": {
             "outlinewidth": 0,
             "ticks": ""
            },
            "colorscale": [
             [
              0,
              "#0d0887"
             ],
             [
              0.1111111111111111,
              "#46039f"
             ],
             [
              0.2222222222222222,
              "#7201a8"
             ],
             [
              0.3333333333333333,
              "#9c179e"
             ],
             [
              0.4444444444444444,
              "#bd3786"
             ],
             [
              0.5555555555555556,
              "#d8576b"
             ],
             [
              0.6666666666666666,
              "#ed7953"
             ],
             [
              0.7777777777777778,
              "#fb9f3a"
             ],
             [
              0.8888888888888888,
              "#fdca26"
             ],
             [
              1,
              "#f0f921"
             ]
            ],
            "type": "surface"
           }
          ],
          "table": [
           {
            "cells": {
             "fill": {
              "color": "#EBF0F8"
             },
             "line": {
              "color": "white"
             }
            },
            "header": {
             "fill": {
              "color": "#C8D4E3"
             },
             "line": {
              "color": "white"
             }
            },
            "type": "table"
           }
          ]
         },
         "layout": {
          "annotationdefaults": {
           "arrowcolor": "#2a3f5f",
           "arrowhead": 0,
           "arrowwidth": 1
          },
          "autotypenumbers": "strict",
          "coloraxis": {
           "colorbar": {
            "outlinewidth": 0,
            "ticks": ""
           }
          },
          "colorscale": {
           "diverging": [
            [
             0,
             "#8e0152"
            ],
            [
             0.1,
             "#c51b7d"
            ],
            [
             0.2,
             "#de77ae"
            ],
            [
             0.3,
             "#f1b6da"
            ],
            [
             0.4,
             "#fde0ef"
            ],
            [
             0.5,
             "#f7f7f7"
            ],
            [
             0.6,
             "#e6f5d0"
            ],
            [
             0.7,
             "#b8e186"
            ],
            [
             0.8,
             "#7fbc41"
            ],
            [
             0.9,
             "#4d9221"
            ],
            [
             1,
             "#276419"
            ]
           ],
           "sequential": [
            [
             0,
             "#0d0887"
            ],
            [
             0.1111111111111111,
             "#46039f"
            ],
            [
             0.2222222222222222,
             "#7201a8"
            ],
            [
             0.3333333333333333,
             "#9c179e"
            ],
            [
             0.4444444444444444,
             "#bd3786"
            ],
            [
             0.5555555555555556,
             "#d8576b"
            ],
            [
             0.6666666666666666,
             "#ed7953"
            ],
            [
             0.7777777777777778,
             "#fb9f3a"
            ],
            [
             0.8888888888888888,
             "#fdca26"
            ],
            [
             1,
             "#f0f921"
            ]
           ],
           "sequentialminus": [
            [
             0,
             "#0d0887"
            ],
            [
             0.1111111111111111,
             "#46039f"
            ],
            [
             0.2222222222222222,
             "#7201a8"
            ],
            [
             0.3333333333333333,
             "#9c179e"
            ],
            [
             0.4444444444444444,
             "#bd3786"
            ],
            [
             0.5555555555555556,
             "#d8576b"
            ],
            [
             0.6666666666666666,
             "#ed7953"
            ],
            [
             0.7777777777777778,
             "#fb9f3a"
            ],
            [
             0.8888888888888888,
             "#fdca26"
            ],
            [
             1,
             "#f0f921"
            ]
           ]
          },
          "colorway": [
           "#636efa",
           "#EF553B",
           "#00cc96",
           "#ab63fa",
           "#FFA15A",
           "#19d3f3",
           "#FF6692",
           "#B6E880",
           "#FF97FF",
           "#FECB52"
          ],
          "font": {
           "color": "#2a3f5f"
          },
          "geo": {
           "bgcolor": "white",
           "lakecolor": "white",
           "landcolor": "#E5ECF6",
           "showlakes": true,
           "showland": true,
           "subunitcolor": "white"
          },
          "hoverlabel": {
           "align": "left"
          },
          "hovermode": "closest",
          "mapbox": {
           "style": "light"
          },
          "paper_bgcolor": "white",
          "plot_bgcolor": "#E5ECF6",
          "polar": {
           "angularaxis": {
            "gridcolor": "white",
            "linecolor": "white",
            "ticks": ""
           },
           "bgcolor": "#E5ECF6",
           "radialaxis": {
            "gridcolor": "white",
            "linecolor": "white",
            "ticks": ""
           }
          },
          "scene": {
           "xaxis": {
            "backgroundcolor": "#E5ECF6",
            "gridcolor": "white",
            "gridwidth": 2,
            "linecolor": "white",
            "showbackground": true,
            "ticks": "",
            "zerolinecolor": "white"
           },
           "yaxis": {
            "backgroundcolor": "#E5ECF6",
            "gridcolor": "white",
            "gridwidth": 2,
            "linecolor": "white",
            "showbackground": true,
            "ticks": "",
            "zerolinecolor": "white"
           },
           "zaxis": {
            "backgroundcolor": "#E5ECF6",
            "gridcolor": "white",
            "gridwidth": 2,
            "linecolor": "white",
            "showbackground": true,
            "ticks": "",
            "zerolinecolor": "white"
           }
          },
          "shapedefaults": {
           "line": {
            "color": "#2a3f5f"
           }
          },
          "ternary": {
           "aaxis": {
            "gridcolor": "white",
            "linecolor": "white",
            "ticks": ""
           },
           "baxis": {
            "gridcolor": "white",
            "linecolor": "white",
            "ticks": ""
           },
           "bgcolor": "#E5ECF6",
           "caxis": {
            "gridcolor": "white",
            "linecolor": "white",
            "ticks": ""
           }
          },
          "title": {
           "x": 0.05
          },
          "xaxis": {
           "automargin": true,
           "gridcolor": "white",
           "linecolor": "white",
           "ticks": "",
           "title": {
            "standoff": 15
           },
           "zerolinecolor": "white",
           "zerolinewidth": 2
          },
          "yaxis": {
           "automargin": true,
           "gridcolor": "white",
           "linecolor": "white",
           "ticks": "",
           "title": {
            "standoff": 15
           },
           "zerolinecolor": "white",
           "zerolinewidth": 2
          }
         }
        },
        "title": {
         "font": {
          "color": "#4D5663"
         }
        },
        "xaxis": {
         "gridcolor": "#E1E5ED",
         "showgrid": true,
         "tickfont": {
          "color": "#4D5663"
         },
         "title": {
          "font": {
           "color": "#4D5663"
          },
          "text": ""
         },
         "zerolinecolor": "#E1E5ED"
        },
        "yaxis": {
         "gridcolor": "#E1E5ED",
         "showgrid": true,
         "tickfont": {
          "color": "#4D5663"
         },
         "title": {
          "font": {
           "color": "#4D5663"
          },
          "text": ""
         },
         "zerolinecolor": "#E1E5ED"
        }
       }
      },
      "text/html": [
       "<div>                            <div id=\"06a63ecb-0faa-42cb-a292-3f46cb9252a2\" class=\"plotly-graph-div\" style=\"height:525px; width:100%;\"></div>            <script type=\"text/javascript\">                require([\"plotly\"], function(Plotly) {                    window.PLOTLYENV=window.PLOTLYENV || {};\n",
       "                    window.PLOTLYENV.BASE_URL='https://plot.ly';                                    if (document.getElementById(\"06a63ecb-0faa-42cb-a292-3f46cb9252a2\")) {                    Plotly.newPlot(                        \"06a63ecb-0faa-42cb-a292-3f46cb9252a2\",                        [{\"colorscale\":[[0.0,\"rgb(255,245,235)\"],[0.125,\"rgb(254,230,206)\"],[0.25,\"rgb(253,208,162)\"],[0.375,\"rgb(253,174,107)\"],[0.5,\"rgb(253,141,60)\"],[0.625,\"rgb(241,105,19)\"],[0.75,\"rgb(217,72,1)\"],[0.875,\"rgb(166,54,3)\"],[1.0,\"rgb(127,39,4)\"]],\"type\":\"heatmap\",\"x\":[\"\\ubc1c\\uc8fc\\uae08\\uc561\",\"\\ubb3c\\ud488\\ubd84\\ub958\\ubc88\\ud638\",\"\\uc138\\ubd80\\ubb3c\\ud488\\ubd84\\ub958\\ubc88\\ud638\",\"\\uc218\\ub7c9\",\"day\",\"month\",\"year\",\"hour\",\"dow\",\"woy\"],\"y\":[\"\\ubc1c\\uc8fc\\uae08\\uc561\",\"\\ubb3c\\ud488\\ubd84\\ub958\\ubc88\\ud638\",\"\\uc138\\ubd80\\ubb3c\\ud488\\ubd84\\ub958\\ubc88\\ud638\",\"\\uc218\\ub7c9\",\"day\",\"month\",\"year\",\"hour\",\"dow\",\"woy\"],\"z\":[[1.0,-0.012062620915491533,-0.012062620921284614,0.04910202163255272,-0.018069689257782382,0.03821273089254395,-0.007464262061363793,null,0.04011243787244624,0.03505490185567275],[-0.012062620915491533,1.0,1.0000000000000004,-0.0027400107842716313,-0.2142341937695495,0.17670489736584888,-0.21560841153339796,null,-0.08562403159613513,0.14537735939544938],[-0.012062620921284614,1.0000000000000004,1.0,-0.002740010773060003,-0.2142341937833937,0.17670489735068617,-0.21560841150220708,null,-0.08562403162185707,0.1453773593801493],[0.04910202163255272,-0.0027400107842716313,-0.002740010773060003,1.0,0.03289522211933255,0.0418939288834765,0.06481225821346197,null,0.005453399863380261,0.04888061176859405],[-0.018069689257782382,-0.2142341937695495,-0.2142341937833937,0.03289522211933255,1.0,-0.2128973889466307,0.755968800535871,null,0.11837327669769465,-0.0509292925202464],[0.03821273089254395,0.17670489736584888,0.17670489735068617,0.0418939288834765,-0.2128973889466307,1.0,-0.15188348826005726,null,-0.14149494902522666,0.9861816013340031],[-0.007464262061363793,-0.21560841153339796,-0.21560841150220708,0.06481225821346197,0.755968800535871,-0.15188348826005726,1.0,null,0.3501004882376782,-0.03328960270477799],[null,null,null,null,null,null,null,null,null,null],[0.04011243787244624,-0.08562403159613513,-0.08562403162185707,0.005453399863380261,0.11837327669769465,-0.14149494902522666,0.3501004882376782,null,1.0,-0.14667785134121739],[0.03505490185567275,0.14537735939544938,0.1453773593801493,0.04888061176859405,-0.0509292925202464,0.9861816013340031,-0.03328960270477799,null,-0.14667785134121739,1.0]],\"zmax\":null,\"zmin\":null}],                        {\"legend\":{\"bgcolor\":\"#F5F6F9\",\"font\":{\"color\":\"#4D5663\"}},\"paper_bgcolor\":\"#F5F6F9\",\"plot_bgcolor\":\"#F5F6F9\",\"template\":{\"data\":{\"bar\":[{\"error_x\":{\"color\":\"#2a3f5f\"},\"error_y\":{\"color\":\"#2a3f5f\"},\"marker\":{\"line\":{\"color\":\"#E5ECF6\",\"width\":0.5},\"pattern\":{\"fillmode\":\"overlay\",\"size\":10,\"solidity\":0.2}},\"type\":\"bar\"}],\"barpolar\":[{\"marker\":{\"line\":{\"color\":\"#E5ECF6\",\"width\":0.5},\"pattern\":{\"fillmode\":\"overlay\",\"size\":10,\"solidity\":0.2}},\"type\":\"barpolar\"}],\"carpet\":[{\"aaxis\":{\"endlinecolor\":\"#2a3f5f\",\"gridcolor\":\"white\",\"linecolor\":\"white\",\"minorgridcolor\":\"white\",\"startlinecolor\":\"#2a3f5f\"},\"baxis\":{\"endlinecolor\":\"#2a3f5f\",\"gridcolor\":\"white\",\"linecolor\":\"white\",\"minorgridcolor\":\"white\",\"startlinecolor\":\"#2a3f5f\"},\"type\":\"carpet\"}],\"choropleth\":[{\"colorbar\":{\"outlinewidth\":0,\"ticks\":\"\"},\"type\":\"choropleth\"}],\"contour\":[{\"colorbar\":{\"outlinewidth\":0,\"ticks\":\"\"},\"colorscale\":[[0.0,\"#0d0887\"],[0.1111111111111111,\"#46039f\"],[0.2222222222222222,\"#7201a8\"],[0.3333333333333333,\"#9c179e\"],[0.4444444444444444,\"#bd3786\"],[0.5555555555555556,\"#d8576b\"],[0.6666666666666666,\"#ed7953\"],[0.7777777777777778,\"#fb9f3a\"],[0.8888888888888888,\"#fdca26\"],[1.0,\"#f0f921\"]],\"type\":\"contour\"}],\"contourcarpet\":[{\"colorbar\":{\"outlinewidth\":0,\"ticks\":\"\"},\"type\":\"contourcarpet\"}],\"heatmap\":[{\"colorbar\":{\"outlinewidth\":0,\"ticks\":\"\"},\"colorscale\":[[0.0,\"#0d0887\"],[0.1111111111111111,\"#46039f\"],[0.2222222222222222,\"#7201a8\"],[0.3333333333333333,\"#9c179e\"],[0.4444444444444444,\"#bd3786\"],[0.5555555555555556,\"#d8576b\"],[0.6666666666666666,\"#ed7953\"],[0.7777777777777778,\"#fb9f3a\"],[0.8888888888888888,\"#fdca26\"],[1.0,\"#f0f921\"]],\"type\":\"heatmap\"}],\"heatmapgl\":[{\"colorbar\":{\"outlinewidth\":0,\"ticks\":\"\"},\"colorscale\":[[0.0,\"#0d0887\"],[0.1111111111111111,\"#46039f\"],[0.2222222222222222,\"#7201a8\"],[0.3333333333333333,\"#9c179e\"],[0.4444444444444444,\"#bd3786\"],[0.5555555555555556,\"#d8576b\"],[0.6666666666666666,\"#ed7953\"],[0.7777777777777778,\"#fb9f3a\"],[0.8888888888888888,\"#fdca26\"],[1.0,\"#f0f921\"]],\"type\":\"heatmapgl\"}],\"histogram\":[{\"marker\":{\"pattern\":{\"fillmode\":\"overlay\",\"size\":10,\"solidity\":0.2}},\"type\":\"histogram\"}],\"histogram2d\":[{\"colorbar\":{\"outlinewidth\":0,\"ticks\":\"\"},\"colorscale\":[[0.0,\"#0d0887\"],[0.1111111111111111,\"#46039f\"],[0.2222222222222222,\"#7201a8\"],[0.3333333333333333,\"#9c179e\"],[0.4444444444444444,\"#bd3786\"],[0.5555555555555556,\"#d8576b\"],[0.6666666666666666,\"#ed7953\"],[0.7777777777777778,\"#fb9f3a\"],[0.8888888888888888,\"#fdca26\"],[1.0,\"#f0f921\"]],\"type\":\"histogram2d\"}],\"histogram2dcontour\":[{\"colorbar\":{\"outlinewidth\":0,\"ticks\":\"\"},\"colorscale\":[[0.0,\"#0d0887\"],[0.1111111111111111,\"#46039f\"],[0.2222222222222222,\"#7201a8\"],[0.3333333333333333,\"#9c179e\"],[0.4444444444444444,\"#bd3786\"],[0.5555555555555556,\"#d8576b\"],[0.6666666666666666,\"#ed7953\"],[0.7777777777777778,\"#fb9f3a\"],[0.8888888888888888,\"#fdca26\"],[1.0,\"#f0f921\"]],\"type\":\"histogram2dcontour\"}],\"mesh3d\":[{\"colorbar\":{\"outlinewidth\":0,\"ticks\":\"\"},\"type\":\"mesh3d\"}],\"parcoords\":[{\"line\":{\"colorbar\":{\"outlinewidth\":0,\"ticks\":\"\"}},\"type\":\"parcoords\"}],\"pie\":[{\"automargin\":true,\"type\":\"pie\"}],\"scatter\":[{\"marker\":{\"colorbar\":{\"outlinewidth\":0,\"ticks\":\"\"}},\"type\":\"scatter\"}],\"scatter3d\":[{\"line\":{\"colorbar\":{\"outlinewidth\":0,\"ticks\":\"\"}},\"marker\":{\"colorbar\":{\"outlinewidth\":0,\"ticks\":\"\"}},\"type\":\"scatter3d\"}],\"scattercarpet\":[{\"marker\":{\"colorbar\":{\"outlinewidth\":0,\"ticks\":\"\"}},\"type\":\"scattercarpet\"}],\"scattergeo\":[{\"marker\":{\"colorbar\":{\"outlinewidth\":0,\"ticks\":\"\"}},\"type\":\"scattergeo\"}],\"scattergl\":[{\"marker\":{\"colorbar\":{\"outlinewidth\":0,\"ticks\":\"\"}},\"type\":\"scattergl\"}],\"scattermapbox\":[{\"marker\":{\"colorbar\":{\"outlinewidth\":0,\"ticks\":\"\"}},\"type\":\"scattermapbox\"}],\"scatterpolar\":[{\"marker\":{\"colorbar\":{\"outlinewidth\":0,\"ticks\":\"\"}},\"type\":\"scatterpolar\"}],\"scatterpolargl\":[{\"marker\":{\"colorbar\":{\"outlinewidth\":0,\"ticks\":\"\"}},\"type\":\"scatterpolargl\"}],\"scatterternary\":[{\"marker\":{\"colorbar\":{\"outlinewidth\":0,\"ticks\":\"\"}},\"type\":\"scatterternary\"}],\"surface\":[{\"colorbar\":{\"outlinewidth\":0,\"ticks\":\"\"},\"colorscale\":[[0.0,\"#0d0887\"],[0.1111111111111111,\"#46039f\"],[0.2222222222222222,\"#7201a8\"],[0.3333333333333333,\"#9c179e\"],[0.4444444444444444,\"#bd3786\"],[0.5555555555555556,\"#d8576b\"],[0.6666666666666666,\"#ed7953\"],[0.7777777777777778,\"#fb9f3a\"],[0.8888888888888888,\"#fdca26\"],[1.0,\"#f0f921\"]],\"type\":\"surface\"}],\"table\":[{\"cells\":{\"fill\":{\"color\":\"#EBF0F8\"},\"line\":{\"color\":\"white\"}},\"header\":{\"fill\":{\"color\":\"#C8D4E3\"},\"line\":{\"color\":\"white\"}},\"type\":\"table\"}]},\"layout\":{\"annotationdefaults\":{\"arrowcolor\":\"#2a3f5f\",\"arrowhead\":0,\"arrowwidth\":1},\"autotypenumbers\":\"strict\",\"coloraxis\":{\"colorbar\":{\"outlinewidth\":0,\"ticks\":\"\"}},\"colorscale\":{\"diverging\":[[0,\"#8e0152\"],[0.1,\"#c51b7d\"],[0.2,\"#de77ae\"],[0.3,\"#f1b6da\"],[0.4,\"#fde0ef\"],[0.5,\"#f7f7f7\"],[0.6,\"#e6f5d0\"],[0.7,\"#b8e186\"],[0.8,\"#7fbc41\"],[0.9,\"#4d9221\"],[1,\"#276419\"]],\"sequential\":[[0.0,\"#0d0887\"],[0.1111111111111111,\"#46039f\"],[0.2222222222222222,\"#7201a8\"],[0.3333333333333333,\"#9c179e\"],[0.4444444444444444,\"#bd3786\"],[0.5555555555555556,\"#d8576b\"],[0.6666666666666666,\"#ed7953\"],[0.7777777777777778,\"#fb9f3a\"],[0.8888888888888888,\"#fdca26\"],[1.0,\"#f0f921\"]],\"sequentialminus\":[[0.0,\"#0d0887\"],[0.1111111111111111,\"#46039f\"],[0.2222222222222222,\"#7201a8\"],[0.3333333333333333,\"#9c179e\"],[0.4444444444444444,\"#bd3786\"],[0.5555555555555556,\"#d8576b\"],[0.6666666666666666,\"#ed7953\"],[0.7777777777777778,\"#fb9f3a\"],[0.8888888888888888,\"#fdca26\"],[1.0,\"#f0f921\"]]},\"colorway\":[\"#636efa\",\"#EF553B\",\"#00cc96\",\"#ab63fa\",\"#FFA15A\",\"#19d3f3\",\"#FF6692\",\"#B6E880\",\"#FF97FF\",\"#FECB52\"],\"font\":{\"color\":\"#2a3f5f\"},\"geo\":{\"bgcolor\":\"white\",\"lakecolor\":\"white\",\"landcolor\":\"#E5ECF6\",\"showlakes\":true,\"showland\":true,\"subunitcolor\":\"white\"},\"hoverlabel\":{\"align\":\"left\"},\"hovermode\":\"closest\",\"mapbox\":{\"style\":\"light\"},\"paper_bgcolor\":\"white\",\"plot_bgcolor\":\"#E5ECF6\",\"polar\":{\"angularaxis\":{\"gridcolor\":\"white\",\"linecolor\":\"white\",\"ticks\":\"\"},\"bgcolor\":\"#E5ECF6\",\"radialaxis\":{\"gridcolor\":\"white\",\"linecolor\":\"white\",\"ticks\":\"\"}},\"scene\":{\"xaxis\":{\"backgroundcolor\":\"#E5ECF6\",\"gridcolor\":\"white\",\"gridwidth\":2,\"linecolor\":\"white\",\"showbackground\":true,\"ticks\":\"\",\"zerolinecolor\":\"white\"},\"yaxis\":{\"backgroundcolor\":\"#E5ECF6\",\"gridcolor\":\"white\",\"gridwidth\":2,\"linecolor\":\"white\",\"showbackground\":true,\"ticks\":\"\",\"zerolinecolor\":\"white\"},\"zaxis\":{\"backgroundcolor\":\"#E5ECF6\",\"gridcolor\":\"white\",\"gridwidth\":2,\"linecolor\":\"white\",\"showbackground\":true,\"ticks\":\"\",\"zerolinecolor\":\"white\"}},\"shapedefaults\":{\"line\":{\"color\":\"#2a3f5f\"}},\"ternary\":{\"aaxis\":{\"gridcolor\":\"white\",\"linecolor\":\"white\",\"ticks\":\"\"},\"baxis\":{\"gridcolor\":\"white\",\"linecolor\":\"white\",\"ticks\":\"\"},\"bgcolor\":\"#E5ECF6\",\"caxis\":{\"gridcolor\":\"white\",\"linecolor\":\"white\",\"ticks\":\"\"}},\"title\":{\"x\":0.05},\"xaxis\":{\"automargin\":true,\"gridcolor\":\"white\",\"linecolor\":\"white\",\"ticks\":\"\",\"title\":{\"standoff\":15},\"zerolinecolor\":\"white\",\"zerolinewidth\":2},\"yaxis\":{\"automargin\":true,\"gridcolor\":\"white\",\"linecolor\":\"white\",\"ticks\":\"\",\"title\":{\"standoff\":15},\"zerolinecolor\":\"white\",\"zerolinewidth\":2}}},\"title\":{\"font\":{\"color\":\"#4D5663\"}},\"xaxis\":{\"gridcolor\":\"#E1E5ED\",\"showgrid\":true,\"tickfont\":{\"color\":\"#4D5663\"},\"title\":{\"font\":{\"color\":\"#4D5663\"},\"text\":\"\"},\"zerolinecolor\":\"#E1E5ED\"},\"yaxis\":{\"gridcolor\":\"#E1E5ED\",\"showgrid\":true,\"tickfont\":{\"color\":\"#4D5663\"},\"title\":{\"font\":{\"color\":\"#4D5663\"},\"text\":\"\"},\"zerolinecolor\":\"#E1E5ED\"}},                        {\"showLink\": true, \"linkText\": \"Export to plot.ly\", \"plotlyServerURL\": \"https://plot.ly\", \"responsive\": true}                    ).then(function(){\n",
       "                            \n",
       "var gd = document.getElementById('06a63ecb-0faa-42cb-a292-3f46cb9252a2');\n",
       "var x = new MutationObserver(function (mutations, observer) {{\n",
       "        var display = window.getComputedStyle(gd).display;\n",
       "        if (!display || display === 'none') {{\n",
       "            console.log([gd, 'removed!']);\n",
       "            Plotly.purge(gd);\n",
       "            observer.disconnect();\n",
       "        }}\n",
       "}});\n",
       "\n",
       "// Listen for the removal of the full notebook cells\n",
       "var notebookContainer = gd.closest('#notebook-container');\n",
       "if (notebookContainer) {{\n",
       "    x.observe(notebookContainer, {childList: true});\n",
       "}}\n",
       "\n",
       "// Listen for the clearing of the current output cell\n",
       "var outputEl = gd.closest('.output');\n",
       "if (outputEl) {{\n",
       "    x.observe(outputEl, {childList: true});\n",
       "}}\n",
       "\n",
       "                        })                };                });            </script>        </div>"
      ]
     },
     "metadata": {},
     "output_type": "display_data"
    }
   ],
   "source": [
    "import chart_studio.plotly as py\n",
    "import cufflinks as cf\n",
    "cf.go_offline(connected=True)\n",
    "df_train.corr().iplot(kind='heatmap', colorscale='oranges')\n",
    "\n"
   ]
  },
  {
   "cell_type": "code",
   "execution_count": null,
   "metadata": {},
   "outputs": [],
   "source": []
  },
  {
   "cell_type": "code",
   "execution_count": null,
   "metadata": {},
   "outputs": [],
   "source": []
  },
  {
   "cell_type": "code",
   "execution_count": null,
   "metadata": {},
   "outputs": [],
   "source": []
  },
  {
   "cell_type": "code",
   "execution_count": null,
   "metadata": {},
   "outputs": [],
   "source": []
  },
  {
   "cell_type": "code",
   "execution_count": null,
   "metadata": {},
   "outputs": [],
   "source": []
  },
  {
   "cell_type": "code",
   "execution_count": null,
   "metadata": {},
   "outputs": [],
   "source": []
  },
  {
   "cell_type": "code",
   "execution_count": null,
   "metadata": {},
   "outputs": [],
   "source": []
  },
  {
   "cell_type": "code",
   "execution_count": null,
   "metadata": {},
   "outputs": [],
   "source": []
  },
  {
   "cell_type": "code",
   "execution_count": null,
   "metadata": {},
   "outputs": [],
   "source": []
  },
  {
   "cell_type": "code",
   "execution_count": null,
   "metadata": {},
   "outputs": [],
   "source": []
  },
  {
   "cell_type": "code",
   "execution_count": null,
   "metadata": {},
   "outputs": [],
   "source": []
  },
  {
   "cell_type": "code",
   "execution_count": null,
   "metadata": {},
   "outputs": [],
   "source": []
  },
  {
   "cell_type": "code",
   "execution_count": null,
   "metadata": {},
   "outputs": [],
   "source": []
  },
  {
   "cell_type": "code",
   "execution_count": null,
   "metadata": {},
   "outputs": [],
   "source": []
  }
 ],
 "metadata": {
  "kernelspec": {
   "display_name": "Python 3",
   "language": "python",
   "name": "python3"
  },
  "language_info": {
   "codemirror_mode": {
    "name": "ipython",
    "version": 3
   },
   "file_extension": ".py",
   "mimetype": "text/x-python",
   "name": "python",
   "nbconvert_exporter": "python",
   "pygments_lexer": "ipython3",
   "version": "3.7.4"
  },
  "toc": {
   "base_numbering": 1,
   "nav_menu": {},
   "number_sections": true,
   "sideBar": true,
   "skip_h1_title": false,
   "title_cell": "Table of Contents",
   "title_sidebar": "Contents",
   "toc_cell": false,
   "toc_position": {},
   "toc_section_display": true,
   "toc_window_display": false
  },
  "varInspector": {
   "cols": {
    "lenName": 16,
    "lenType": 16,
    "lenVar": 40
   },
   "kernels_config": {
    "python": {
     "delete_cmd_postfix": "",
     "delete_cmd_prefix": "del ",
     "library": "var_list.py",
     "varRefreshCmd": "print(var_dic_list())"
    },
    "r": {
     "delete_cmd_postfix": ") ",
     "delete_cmd_prefix": "rm(",
     "library": "var_list.r",
     "varRefreshCmd": "cat(var_dic_list()) "
    }
   },
   "types_to_exclude": [
    "module",
    "function",
    "builtin_function_or_method",
    "instance",
    "_Feature"
   ],
   "window_display": false
  }
 },
 "nbformat": 4,
 "nbformat_minor": 2
}
