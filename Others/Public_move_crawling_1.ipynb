{
 "cells": [
  {
   "cell_type": "code",
   "execution_count": 33,
   "metadata": {},
   "outputs": [],
   "source": [
    "import pandas as pd\n",
    "\n",
    "\n",
    "df_all = pd.DataFrame(columns = ['데이터 이름', '데이터 내용'])"
   ]
  },
  {
   "cell_type": "code",
   "execution_count": 109,
   "metadata": {
    "scrolled": true
   },
   "outputs": [
    {
     "name": "stdout",
     "output_type": "stream",
     "text": [
      "84\n"
     ]
    }
   ],
   "source": [
    "from selenium import webdriver\n",
    "from selenium.webdriver.common.keys import Keys\n",
    "import time\n",
    "\n",
    "\n",
    "\n",
    "driver = webdriver.Chrome()\n",
    "\n",
    "driver.get('https://data.g2b.go.kr:1443/pt/searchData/moveFileDataLst.do')\n",
    "# 들어가는 사이트\n",
    "options = webdriver.ChromeOptions()\n",
    "options.add_argument(\"User-Agent: 'Mozilla/5.0 (Windows NT 10.0; Win64; x64; rv:65.0) Gecko/20100101 Chrome/65.0\")\n",
    "# 속이기\n",
    "options.add_experimental_option('excludeSwitches', ['enable-logging'])\n",
    "time.sleep(0.5)\n",
    "\n",
    "element = driver.find_element_by_xpath('//*[@id=\"gnb\"]/ul/li[1]/a')\n",
    "element.click() # 공공데이터 선택\n",
    "element_2 = driver.find_element_by_xpath('//*[@id=\"snb\"]/ul/li[1]/a[1]')\n",
    "element_2.click() # 공공데이터에서 전체 선택\n",
    "element_3 = driver.find_element_by_xpath('//*[@id=\"FileDataVO\"]/div[2]/div[6]/a')\n",
    "element_3.click() # 펼치기\n",
    "element_4 = driver.find_element_by_xpath(' //*[@id=\"FileDataVO\"]/div[2]/div[8]/a')\n",
    "element_4.click() # 펼치기\n",
    "\n",
    "\n",
    "data = driver.find_elements_by_xpath(\"//*[@id=\\\"reprtListUl\\\"]/li\") \n",
    "# 각 파일데이터 객체에 접근\n",
    "\n",
    "\n",
    "lst_file = []\n",
    "print(len(data))\n",
    "\n",
    "### 파일데이터 \n",
    "for i in range(len(data)):\n",
    "    a = driver.find_elements_by_xpath('//*[@id=\\\"reprtListUl\\\"]/li['+str(i+1) +']/dl/dd/div/a') # 파일 데이터 이름 객체\n",
    "    b = driver.find_elements_by_xpath('//*[@id=\\\"reprtListUl\\\"]/li['+str(i+1) +']/dl/dd/p[3]') # 파일 데이터 내용 객체\n",
    "    for j,k in zip(a,b):\n",
    "        #각 파일 데이터 객체에서 텍스트, 내용 뽑아내기\n",
    "        lst_file.append([j.text,k.get_attribute(\"title\")])\n",
    "  \n",
    "\n",
    "lst_api = []\n",
    "data = driver.find_elements_by_xpath('//*[@id=\"openApiListUl\"]/li') \n",
    "\n",
    "### API데이터 \n",
    "for i in range(len(data)):\n",
    "    a = driver.find_elements_by_xpath('//*[@id=\"openApiListUl\"]/li['+str(i+1) +']/dl/dd/div/a') # 파일 데이터 이름 객체\n",
    "    b = driver.find_elements_by_xpath('//*[@id=\"openApiListUl\"]/li['+str(i+1) +']/dl/dd/p[2]') # 파일 데이터 내용 객체\n",
    "    for j,k in zip(a,b):\n",
    "        #각 파일 데이터 객체에서 텍스트, 내용 뽑아내기\n",
    "        lst_api.append([j.text,k.get_attribute(\"title\").replace('\\n','')])\n",
    "  \n",
    "time.sleep(1)\n",
    "\n",
    "\n",
    "driver.quit()"
   ]
  },
  {
   "cell_type": "code",
   "execution_count": 110,
   "metadata": {},
   "outputs": [],
   "source": [
    "lst_api_2 = []\n",
    "for i in lst_api:\n",
    "    lst_api_2.append([i[0],i[1].replace('\\n','')])\n",
    "    \n",
    "    "
   ]
  },
  {
   "cell_type": "code",
   "execution_count": 111,
   "metadata": {},
   "outputs": [],
   "source": [
    "df_lst_file = pd.DataFrame(lst_file,columns=['데이터 이름', '데이터 내용'])\n",
    "df_lst_api = pd.DataFrame(lst_api_2,columns = ['데이터 이름','데이터 내용'])"
   ]
  },
  {
   "cell_type": "code",
   "execution_count": 112,
   "metadata": {},
   "outputs": [
    {
     "data": {
      "text/html": [
       "<div>\n",
       "<style scoped>\n",
       "    .dataframe tbody tr th:only-of-type {\n",
       "        vertical-align: middle;\n",
       "    }\n",
       "\n",
       "    .dataframe tbody tr th {\n",
       "        vertical-align: top;\n",
       "    }\n",
       "\n",
       "    .dataframe thead th {\n",
       "        text-align: right;\n",
       "    }\n",
       "</style>\n",
       "<table border=\"1\" class=\"dataframe\">\n",
       "  <thead>\n",
       "    <tr style=\"text-align: right;\">\n",
       "      <th></th>\n",
       "      <th>데이터 이름</th>\n",
       "      <th>데이터 내용</th>\n",
       "    </tr>\n",
       "  </thead>\n",
       "  <tbody>\n",
       "    <tr>\n",
       "      <th>0</th>\n",
       "      <td>특정품목 조달 내역</td>\n",
       "      <td>특정품목에 대한 조달 내역을 조회하는 보고서</td>\n",
       "    </tr>\n",
       "    <tr>\n",
       "      <th>1</th>\n",
       "      <td>종합쇼핑몰 납품요구 상세내역</td>\n",
       "      <td>종합쇼핑몰 납품요구 상세내역을 제공하는 보고서</td>\n",
       "    </tr>\n",
       "    <tr>\n",
       "      <th>2</th>\n",
       "      <td>종합쇼핑몰 납품요구 내역</td>\n",
       "      <td>종합쇼핑몰 납품요구 내역을 제공하는 보고서</td>\n",
       "    </tr>\n",
       "    <tr>\n",
       "      <th>3</th>\n",
       "      <td>물품 계약 상세내역</td>\n",
       "      <td>물품에대한 계약이 체결된 물품(물품분류번호/물품식별번호)에대한 내역을 제공하는 보고서</td>\n",
       "    </tr>\n",
       "    <tr>\n",
       "      <th>4</th>\n",
       "      <td>종합쇼핑몰 물품규격별 납품요구 상세집계</td>\n",
       "      <td>종합쇼핑몰 물품규격별 납품요구 상세집계를 제공하는 보고서</td>\n",
       "    </tr>\n",
       "  </tbody>\n",
       "</table>\n",
       "</div>"
      ],
      "text/plain": [
       "                  데이터 이름                                           데이터 내용\n",
       "0             특정품목 조달 내역                         특정품목에 대한 조달 내역을 조회하는 보고서\n",
       "1        종합쇼핑몰 납품요구 상세내역                        종합쇼핑몰 납품요구 상세내역을 제공하는 보고서\n",
       "2          종합쇼핑몰 납품요구 내역                          종합쇼핑몰 납품요구 내역을 제공하는 보고서\n",
       "3             물품 계약 상세내역  물품에대한 계약이 체결된 물품(물품분류번호/물품식별번호)에대한 내역을 제공하는 보고서\n",
       "4  종합쇼핑몰 물품규격별 납품요구 상세집계                  종합쇼핑몰 물품규격별 납품요구 상세집계를 제공하는 보고서"
      ]
     },
     "execution_count": 112,
     "metadata": {},
     "output_type": "execute_result"
    }
   ],
   "source": [
    "df_lst_file.head()"
   ]
  },
  {
   "cell_type": "code",
   "execution_count": 113,
   "metadata": {},
   "outputs": [
    {
     "data": {
      "text/html": [
       "<div>\n",
       "<style scoped>\n",
       "    .dataframe tbody tr th:only-of-type {\n",
       "        vertical-align: middle;\n",
       "    }\n",
       "\n",
       "    .dataframe tbody tr th {\n",
       "        vertical-align: top;\n",
       "    }\n",
       "\n",
       "    .dataframe thead th {\n",
       "        text-align: right;\n",
       "    }\n",
       "</style>\n",
       "<table border=\"1\" class=\"dataframe\">\n",
       "  <thead>\n",
       "    <tr style=\"text-align: right;\">\n",
       "      <th></th>\n",
       "      <th>데이터 이름</th>\n",
       "      <th>데이터 내용</th>\n",
       "    </tr>\n",
       "  </thead>\n",
       "  <tbody>\n",
       "    <tr>\n",
       "      <th>0</th>\n",
       "      <td>나라장터 계약정보서비스</td>\n",
       "      <td>나라장터에서 체결된 계약정보목록을 물품, 외자, 공사, 용역의각 업무별로 제공하는 ...</td>\n",
       "    </tr>\n",
       "    <tr>\n",
       "      <th>1</th>\n",
       "      <td>나라장터 낙찰정보서비스</td>\n",
       "      <td>나라장터 개찰결과를 물품, 공사, 용역, 외자의 업무별로 제공하는 서비스로 각 업무...</td>\n",
       "    </tr>\n",
       "    <tr>\n",
       "      <th>2</th>\n",
       "      <td>공공조달통계정보서비스</td>\n",
       "      <td>나라장터를 포함 24개 전자조달시스템에서 체결한 전자계약정보와 비전자계약정보를 수집...</td>\n",
       "    </tr>\n",
       "    <tr>\n",
       "      <th>3</th>\n",
       "      <td>나라장터 입찰공고정보서비스</td>\n",
       "      <td>조달청의 나라장터에서 제공하는 물품, 용역, 공사, 외자 입찰공고목록, 입찰공고상세...</td>\n",
       "    </tr>\n",
       "    <tr>\n",
       "      <th>4</th>\n",
       "      <td>종합 쇼핑몰 품목정보 서비스</td>\n",
       "      <td>조달청에서 운영하는 종합쇼핑몰에 등록되어 있는 품목의 계약정보, 인증정보 등을 조회...</td>\n",
       "    </tr>\n",
       "  </tbody>\n",
       "</table>\n",
       "</div>"
      ],
      "text/plain": [
       "            데이터 이름                                             데이터 내용\n",
       "0     나라장터 계약정보서비스  나라장터에서 체결된 계약정보목록을 물품, 외자, 공사, 용역의각 업무별로 제공하는 ...\n",
       "1     나라장터 낙찰정보서비스  나라장터 개찰결과를 물품, 공사, 용역, 외자의 업무별로 제공하는 서비스로 각 업무...\n",
       "2      공공조달통계정보서비스  나라장터를 포함 24개 전자조달시스템에서 체결한 전자계약정보와 비전자계약정보를 수집...\n",
       "3   나라장터 입찰공고정보서비스  조달청의 나라장터에서 제공하는 물품, 용역, 공사, 외자 입찰공고목록, 입찰공고상세...\n",
       "4  종합 쇼핑몰 품목정보 서비스  조달청에서 운영하는 종합쇼핑몰에 등록되어 있는 품목의 계약정보, 인증정보 등을 조회..."
      ]
     },
     "execution_count": 113,
     "metadata": {},
     "output_type": "execute_result"
    }
   ],
   "source": [
    "df_lst_api.head()"
   ]
  },
  {
   "cell_type": "code",
   "execution_count": 114,
   "metadata": {},
   "outputs": [],
   "source": [
    "pd.concat([df_lst_file, df_lst_api]).to_csv('total_portal_data_info.csv',encoding = 'cp949',header = 'False')"
   ]
  },
  {
   "cell_type": "code",
   "execution_count": null,
   "metadata": {},
   "outputs": [],
   "source": []
  }
 ],
 "metadata": {
  "kernelspec": {
   "display_name": "Python 3",
   "language": "python",
   "name": "python3"
  },
  "language_info": {
   "codemirror_mode": {
    "name": "ipython",
    "version": 3
   },
   "file_extension": ".py",
   "mimetype": "text/x-python",
   "name": "python",
   "nbconvert_exporter": "python",
   "pygments_lexer": "ipython3",
   "version": "3.7.4"
  },
  "toc": {
   "base_numbering": 1,
   "nav_menu": {},
   "number_sections": true,
   "sideBar": true,
   "skip_h1_title": false,
   "title_cell": "Table of Contents",
   "title_sidebar": "Contents",
   "toc_cell": false,
   "toc_position": {},
   "toc_section_display": true,
   "toc_window_display": false
  },
  "varInspector": {
   "cols": {
    "lenName": 16,
    "lenType": 16,
    "lenVar": 40
   },
   "kernels_config": {
    "python": {
     "delete_cmd_postfix": "",
     "delete_cmd_prefix": "del ",
     "library": "var_list.py",
     "varRefreshCmd": "print(var_dic_list())"
    },
    "r": {
     "delete_cmd_postfix": ") ",
     "delete_cmd_prefix": "rm(",
     "library": "var_list.r",
     "varRefreshCmd": "cat(var_dic_list()) "
    }
   },
   "types_to_exclude": [
    "module",
    "function",
    "builtin_function_or_method",
    "instance",
    "_Feature"
   ],
   "window_display": false
  }
 },
 "nbformat": 4,
 "nbformat_minor": 2
}
