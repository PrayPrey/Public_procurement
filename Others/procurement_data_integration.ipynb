{
 "cells": [
  {
   "cell_type": "code",
   "execution_count": 1,
   "metadata": {},
   "outputs": [
    {
     "name": "stderr",
     "output_type": "stream",
     "text": [
      "D:\\anaconda\\lib\\site-packages\\statsmodels\\tools\\_testing.py:19: FutureWarning:\n",
      "\n",
      "pandas.util.testing is deprecated. Use the functions in the public API at pandas.testing instead.\n",
      "\n"
     ]
    },
    {
     "data": {
      "text/html": [
       "        <script type=\"text/javascript\">\n",
       "        window.PlotlyConfig = {MathJaxConfig: 'local'};\n",
       "        if (window.MathJax) {MathJax.Hub.Config({SVG: {font: \"STIX-Web\"}});}\n",
       "        if (typeof require !== 'undefined') {\n",
       "        require.undef(\"plotly\");\n",
       "        requirejs.config({\n",
       "            paths: {\n",
       "                'plotly': ['https://cdn.plot.ly/plotly-2.9.0.min']\n",
       "            }\n",
       "        });\n",
       "        require(['plotly'], function(Plotly) {\n",
       "            window._Plotly = Plotly;\n",
       "        });\n",
       "        }\n",
       "        </script>\n",
       "        "
      ]
     },
     "metadata": {},
     "output_type": "display_data"
    }
   ],
   "source": [
    "import pandas as pd\n",
    "import cufflinks as cf\n",
    "import chart_studio.plotly as py\n",
    "import plotly.graph_objects as go\n",
    "import numpy as np\n",
    "import pandas as pd\n",
    "import numpy as np\n",
    "from numpy.random import gamma\n",
    "from numpy.random import multivariate_normal\n",
    "from scipy.stats import multivariate_t\n",
    "from scipy.stats import f\n",
    "import matplotlib.pyplot as plt\n",
    "import missingno\n",
    "\n",
    "\n",
    "cf.go_offline(connected = True)"
   ]
  },
  {
   "cell_type": "code",
   "execution_count": 2,
   "metadata": {},
   "outputs": [
    {
     "ename": "FileNotFoundError",
     "evalue": "[Errno 2] No such file or directory: 'procurement_data_integration.xlsx'",
     "output_type": "error",
     "traceback": [
      "\u001b[1;31m---------------------------------------------------------------------------\u001b[0m",
      "\u001b[1;31mFileNotFoundError\u001b[0m                         Traceback (most recent call last)",
      "\u001b[1;32m<ipython-input-2-3bb30c3c2cf7>\u001b[0m in \u001b[0;36m<module>\u001b[1;34m\u001b[0m\n\u001b[1;32m----> 1\u001b[1;33m \u001b[0mdf\u001b[0m \u001b[1;33m=\u001b[0m \u001b[0mpd\u001b[0m\u001b[1;33m.\u001b[0m\u001b[0mread_excel\u001b[0m\u001b[1;33m(\u001b[0m\u001b[1;34m'procurement_data_integration.xlsx'\u001b[0m\u001b[1;33m,\u001b[0m\u001b[0msheet_name\u001b[0m\u001b[1;33m=\u001b[0m\u001b[1;34m'물품_발주계획_내역'\u001b[0m\u001b[1;33m)\u001b[0m\u001b[1;33m\u001b[0m\u001b[1;33m\u001b[0m\u001b[0m\n\u001b[0m",
      "\u001b[1;32mD:\\anaconda\\lib\\site-packages\\pandas\\util\\_decorators.py\u001b[0m in \u001b[0;36mwrapper\u001b[1;34m(*args, **kwargs)\u001b[0m\n\u001b[0;32m    309\u001b[0m                     \u001b[0mstacklevel\u001b[0m\u001b[1;33m=\u001b[0m\u001b[0mstacklevel\u001b[0m\u001b[1;33m,\u001b[0m\u001b[1;33m\u001b[0m\u001b[1;33m\u001b[0m\u001b[0m\n\u001b[0;32m    310\u001b[0m                 )\n\u001b[1;32m--> 311\u001b[1;33m             \u001b[1;32mreturn\u001b[0m \u001b[0mfunc\u001b[0m\u001b[1;33m(\u001b[0m\u001b[1;33m*\u001b[0m\u001b[0margs\u001b[0m\u001b[1;33m,\u001b[0m \u001b[1;33m**\u001b[0m\u001b[0mkwargs\u001b[0m\u001b[1;33m)\u001b[0m\u001b[1;33m\u001b[0m\u001b[1;33m\u001b[0m\u001b[0m\n\u001b[0m\u001b[0;32m    312\u001b[0m \u001b[1;33m\u001b[0m\u001b[0m\n\u001b[0;32m    313\u001b[0m         \u001b[1;32mreturn\u001b[0m \u001b[0mwrapper\u001b[0m\u001b[1;33m\u001b[0m\u001b[1;33m\u001b[0m\u001b[0m\n",
      "\u001b[1;32mD:\\anaconda\\lib\\site-packages\\pandas\\io\\excel\\_base.py\u001b[0m in \u001b[0;36mread_excel\u001b[1;34m(io, sheet_name, header, names, index_col, usecols, squeeze, dtype, engine, converters, true_values, false_values, skiprows, nrows, na_values, keep_default_na, na_filter, verbose, parse_dates, date_parser, thousands, comment, skipfooter, convert_float, mangle_dupe_cols, storage_options)\u001b[0m\n\u001b[0;32m    362\u001b[0m     \u001b[1;32mif\u001b[0m \u001b[1;32mnot\u001b[0m \u001b[0misinstance\u001b[0m\u001b[1;33m(\u001b[0m\u001b[0mio\u001b[0m\u001b[1;33m,\u001b[0m \u001b[0mExcelFile\u001b[0m\u001b[1;33m)\u001b[0m\u001b[1;33m:\u001b[0m\u001b[1;33m\u001b[0m\u001b[1;33m\u001b[0m\u001b[0m\n\u001b[0;32m    363\u001b[0m         \u001b[0mshould_close\u001b[0m \u001b[1;33m=\u001b[0m \u001b[1;32mTrue\u001b[0m\u001b[1;33m\u001b[0m\u001b[1;33m\u001b[0m\u001b[0m\n\u001b[1;32m--> 364\u001b[1;33m         \u001b[0mio\u001b[0m \u001b[1;33m=\u001b[0m \u001b[0mExcelFile\u001b[0m\u001b[1;33m(\u001b[0m\u001b[0mio\u001b[0m\u001b[1;33m,\u001b[0m \u001b[0mstorage_options\u001b[0m\u001b[1;33m=\u001b[0m\u001b[0mstorage_options\u001b[0m\u001b[1;33m,\u001b[0m \u001b[0mengine\u001b[0m\u001b[1;33m=\u001b[0m\u001b[0mengine\u001b[0m\u001b[1;33m)\u001b[0m\u001b[1;33m\u001b[0m\u001b[1;33m\u001b[0m\u001b[0m\n\u001b[0m\u001b[0;32m    365\u001b[0m     \u001b[1;32melif\u001b[0m \u001b[0mengine\u001b[0m \u001b[1;32mand\u001b[0m \u001b[0mengine\u001b[0m \u001b[1;33m!=\u001b[0m \u001b[0mio\u001b[0m\u001b[1;33m.\u001b[0m\u001b[0mengine\u001b[0m\u001b[1;33m:\u001b[0m\u001b[1;33m\u001b[0m\u001b[1;33m\u001b[0m\u001b[0m\n\u001b[0;32m    366\u001b[0m         raise ValueError(\n",
      "\u001b[1;32mD:\\anaconda\\lib\\site-packages\\pandas\\io\\excel\\_base.py\u001b[0m in \u001b[0;36m__init__\u001b[1;34m(self, path_or_buffer, engine, storage_options)\u001b[0m\n\u001b[0;32m   1190\u001b[0m             \u001b[1;32melse\u001b[0m\u001b[1;33m:\u001b[0m\u001b[1;33m\u001b[0m\u001b[1;33m\u001b[0m\u001b[0m\n\u001b[0;32m   1191\u001b[0m                 ext = inspect_excel_format(\n\u001b[1;32m-> 1192\u001b[1;33m                     \u001b[0mcontent_or_path\u001b[0m\u001b[1;33m=\u001b[0m\u001b[0mpath_or_buffer\u001b[0m\u001b[1;33m,\u001b[0m \u001b[0mstorage_options\u001b[0m\u001b[1;33m=\u001b[0m\u001b[0mstorage_options\u001b[0m\u001b[1;33m\u001b[0m\u001b[1;33m\u001b[0m\u001b[0m\n\u001b[0m\u001b[0;32m   1193\u001b[0m                 )\n\u001b[0;32m   1194\u001b[0m                 \u001b[1;32mif\u001b[0m \u001b[0mext\u001b[0m \u001b[1;32mis\u001b[0m \u001b[1;32mNone\u001b[0m\u001b[1;33m:\u001b[0m\u001b[1;33m\u001b[0m\u001b[1;33m\u001b[0m\u001b[0m\n",
      "\u001b[1;32mD:\\anaconda\\lib\\site-packages\\pandas\\io\\excel\\_base.py\u001b[0m in \u001b[0;36minspect_excel_format\u001b[1;34m(content_or_path, storage_options)\u001b[0m\n\u001b[0;32m   1069\u001b[0m \u001b[1;33m\u001b[0m\u001b[0m\n\u001b[0;32m   1070\u001b[0m     with get_handle(\n\u001b[1;32m-> 1071\u001b[1;33m         \u001b[0mcontent_or_path\u001b[0m\u001b[1;33m,\u001b[0m \u001b[1;34m\"rb\"\u001b[0m\u001b[1;33m,\u001b[0m \u001b[0mstorage_options\u001b[0m\u001b[1;33m=\u001b[0m\u001b[0mstorage_options\u001b[0m\u001b[1;33m,\u001b[0m \u001b[0mis_text\u001b[0m\u001b[1;33m=\u001b[0m\u001b[1;32mFalse\u001b[0m\u001b[1;33m\u001b[0m\u001b[1;33m\u001b[0m\u001b[0m\n\u001b[0m\u001b[0;32m   1072\u001b[0m     ) as handle:\n\u001b[0;32m   1073\u001b[0m         \u001b[0mstream\u001b[0m \u001b[1;33m=\u001b[0m \u001b[0mhandle\u001b[0m\u001b[1;33m.\u001b[0m\u001b[0mhandle\u001b[0m\u001b[1;33m\u001b[0m\u001b[1;33m\u001b[0m\u001b[0m\n",
      "\u001b[1;32mD:\\anaconda\\lib\\site-packages\\pandas\\io\\common.py\u001b[0m in \u001b[0;36mget_handle\u001b[1;34m(path_or_buf, mode, encoding, compression, memory_map, is_text, errors, storage_options)\u001b[0m\n\u001b[0;32m    709\u001b[0m         \u001b[1;32melse\u001b[0m\u001b[1;33m:\u001b[0m\u001b[1;33m\u001b[0m\u001b[1;33m\u001b[0m\u001b[0m\n\u001b[0;32m    710\u001b[0m             \u001b[1;31m# Binary mode\u001b[0m\u001b[1;33m\u001b[0m\u001b[1;33m\u001b[0m\u001b[1;33m\u001b[0m\u001b[0m\n\u001b[1;32m--> 711\u001b[1;33m             \u001b[0mhandle\u001b[0m \u001b[1;33m=\u001b[0m \u001b[0mopen\u001b[0m\u001b[1;33m(\u001b[0m\u001b[0mhandle\u001b[0m\u001b[1;33m,\u001b[0m \u001b[0mioargs\u001b[0m\u001b[1;33m.\u001b[0m\u001b[0mmode\u001b[0m\u001b[1;33m)\u001b[0m\u001b[1;33m\u001b[0m\u001b[1;33m\u001b[0m\u001b[0m\n\u001b[0m\u001b[0;32m    712\u001b[0m         \u001b[0mhandles\u001b[0m\u001b[1;33m.\u001b[0m\u001b[0mappend\u001b[0m\u001b[1;33m(\u001b[0m\u001b[0mhandle\u001b[0m\u001b[1;33m)\u001b[0m\u001b[1;33m\u001b[0m\u001b[1;33m\u001b[0m\u001b[0m\n\u001b[0;32m    713\u001b[0m \u001b[1;33m\u001b[0m\u001b[0m\n",
      "\u001b[1;31mFileNotFoundError\u001b[0m: [Errno 2] No such file or directory: 'procurement_data_integration.xlsx'"
     ]
    }
   ],
   "source": [
    "df = pd.read_excel('procurement_data_integration.xlsx',sheet_name='물품_발주계획_내역')"
   ]
  },
  {
   "cell_type": "code",
   "execution_count": null,
   "metadata": {},
   "outputs": [],
   "source": [
    "df"
   ]
  },
  {
   "cell_type": "code",
   "execution_count": null,
   "metadata": {},
   "outputs": [],
   "source": []
  },
  {
   "cell_type": "code",
   "execution_count": null,
   "metadata": {},
   "outputs": [],
   "source": [
    "a"
   ]
  },
  {
   "cell_type": "code",
   "execution_count": null,
   "metadata": {},
   "outputs": [],
   "source": [
    "df_종합쇼핑몰_납품요구_내역 = pd.DataFrame()"
   ]
  },
  {
   "cell_type": "code",
   "execution_count": null,
   "metadata": {},
   "outputs": [],
   "source": [
    "# df_종합쇼핑몰_납품요구_내역['종합쇼핑몰 납품요구 내역'] = df.set_index('종합쇼핑몰 납품요구 내역').T.index"
   ]
  },
  {
   "cell_type": "code",
   "execution_count": null,
   "metadata": {},
   "outputs": [],
   "source": [
    "df_종합쇼핑몰_납품요구_내역"
   ]
  },
  {
   "cell_type": "code",
   "execution_count": null,
   "metadata": {},
   "outputs": [],
   "source": [
    "def make_normal(sheet_name):\n",
    "    data_frame = pd.read_excel('procurement_data_integration.xlsx',sheet_name= sheet_name.replace(' ','_'))\n",
    "\n",
    "    data_frame_2 = pd.DataFrame()\n",
    "    \n",
    "    data_frame_2[sheet_name.replace(' ','_')] = data_frame.set_index(sheet_name).T.index\n",
    "    return data_frame_2\n"
   ]
  },
  {
   "cell_type": "code",
   "execution_count": null,
   "metadata": {},
   "outputs": [],
   "source": [
    "df_종합쇼핑몰_납품요구_내역 = make_normal('종합쇼핑몰 납품요구 내역')\n",
    "df_용역_계약_내역 = make_normal('용역 계약 내역')\n",
    "df_물품_계약_내역 = make_normal('물품 계약 내역')\n",
    "df_공사_계약_내역 =  make_normal('공사 계약 내역')\n",
    "df_발주계획_및_계약납품_진행_내역= make_normal('발주계획 및 계약납품 진행 내역')\n",
    "df_물품_발주계획_내역= make_normal('물품 발주계획 내역')\n",
    "df_공사_입찰공고_및_진행_내역= make_normal('공사 입찰공고 및 진행 내역')\n"
   ]
  },
  {
   "cell_type": "code",
   "execution_count": null,
   "metadata": {},
   "outputs": [],
   "source": [
    "pd.merge(([df_종합쇼핑몰_납품요구_내역,df_용역_계약_내역])"
   ]
  },
  {
   "cell_type": "code",
   "execution_count": null,
   "metadata": {},
   "outputs": [],
   "source": [
    "df_종합쇼핑몰_납품요구_내역"
   ]
  },
  {
   "cell_type": "code",
   "execution_count": null,
   "metadata": {},
   "outputs": [],
   "source": [
    "def merge_together(df_1,df_2):\n",
    "    return pd.merge(df_1,df_2,left_on = df_1.columns[-1], right_on= df_2.columns[0],how='outer')\n"
   ]
  },
  {
   "cell_type": "code",
   "execution_count": null,
   "metadata": {},
   "outputs": [],
   "source": [
    "a,b,c,d,e,f = '0' * 6"
   ]
  },
  {
   "cell_type": "code",
   "execution_count": null,
   "metadata": {},
   "outputs": [],
   "source": [
    "\n",
    "b = merge_together(df_종합쇼핑몰_납품요구_내역,df_용역_계약_내역)\n",
    "c = merge_together(b,df_물품_계약_내역)\n",
    "d = merge_together(c,df_공사_계약_내역)\n",
    "e = merge_together(d,df_발주계획_및_계약납품_진행_내역)\n",
    "f = merge_together(e,df_물품_발주계획_내역)\n",
    "df_integrated = merge_together(f,df_공사_입찰공고_및_진행_내역)"
   ]
  },
  {
   "cell_type": "code",
   "execution_count": null,
   "metadata": {},
   "outputs": [],
   "source": [
    "# df_integrated.to_csv('data_integrated.csv',encoding = 'cp949')"
   ]
  },
  {
   "cell_type": "code",
   "execution_count": null,
   "metadata": {},
   "outputs": [],
   "source": [
    "# df_integrated.fillna(0).to_csv('data_integrated.csv',encoding = 'cp949')"
   ]
  },
  {
   "cell_type": "code",
   "execution_count": null,
   "metadata": {},
   "outputs": [],
   "source": [
    "# pd.read_excel('data_integrated.xlsx').T.to_excel('data_integrated_2.xlsx')"
   ]
  },
  {
   "cell_type": "code",
   "execution_count": null,
   "metadata": {},
   "outputs": [],
   "source": [
    "df_용역_계약_내역.iloc[1,0]"
   ]
  },
  {
   "cell_type": "code",
   "execution_count": null,
   "metadata": {},
   "outputs": [],
   "source": [
    "df_물품_계약_내역.iloc[1,0] == df_용역_계약_내역.iloc[1,0]"
   ]
  },
  {
   "cell_type": "code",
   "execution_count": null,
   "metadata": {},
   "outputs": [],
   "source": [
    "def make_normal_2(sheet_name):\n",
    "    data_frame = pd.read_excel('jodal_예지.xlsx',sheet_name= sheet_name.replace(' ','_'))\n",
    "\n",
    "    data_frame_2 = pd.DataFrame()\n",
    "    \n",
    "    data_frame_2[sheet_name.replace(' ','_')] = data_frame.set_index(sheet_name).T.index\n",
    "    return data_frame_2\n"
   ]
  },
  {
   "cell_type": "code",
   "execution_count": null,
   "metadata": {},
   "outputs": [],
   "source": [
    "df_물품_입찰공고_내역 = make_normal_2('물품 입찰공고 내역')\n",
    "df_통합_입찰공고_내역 = make_normal_2('통합 입찰공고 내역')\n",
    "df_용역_발주계획_내역 = make_normal_2('용역 발주계획 내역')\n",
    "df_공사_발주계획_내역 = make_normal_2('공사 발주계획 내역')\n",
    "df_물품_조달요청_내역 = make_normal_2('물품 조달요청 내역')\n",
    "df_물품_조달요청_상세내역 = make_normal_2('물품 조달요청 상세내역')\n",
    "df_조달업체_조달품목_등록_내역 = make_normal_2('조달업체 조달품목 등록 내역')\n",
    "df_우수제품_중앙조달_종결_내역 = make_normal_2('우수제품 중앙조달 종결 내역')\n",
    "\n",
    "                              "
   ]
  },
  {
   "cell_type": "code",
   "execution_count": null,
   "metadata": {},
   "outputs": [],
   "source": [
    "b = merge_together(df_물품_입찰공고_내역,df_통합_입찰공고_내역)\n",
    "b = merge_together(b,df_용역_발주계획_내역)\n",
    "b = merge_together(b,df_공사_발주계획_내역)\n",
    "b = merge_together(b,df_물품_조달요청_내역)\n",
    "b = merge_together(b,df_물품_조달요청_상세내역)\n",
    "b = merge_together(b,df_조달업체_조달품목_등록_내역)\n",
    "df_integrated_2 = merge_together(b,df_우수제품_중앙조달_종결_내역)"
   ]
  },
  {
   "cell_type": "code",
   "execution_count": null,
   "metadata": {},
   "outputs": [],
   "source": [
    "pd.concat([df_integrated , df_integrated_2,df_integrated_3],axis=0).fillna(0).to_excel('1.xlsx')"
   ]
  },
  {
   "cell_type": "code",
   "execution_count": null,
   "metadata": {},
   "outputs": [],
   "source": [
    "df_integrated_2.shape"
   ]
  },
  {
   "cell_type": "code",
   "execution_count": null,
   "metadata": {},
   "outputs": [],
   "source": [
    "df_integrated.shape"
   ]
  },
  {
   "cell_type": "code",
   "execution_count": null,
   "metadata": {},
   "outputs": [],
   "source": [
    "def make_normal_3(sheet_name):\n",
    "    data_frame = pd.read_excel('jodal_서영_2.xlsx',sheet_name= sheet_name.replace(' ','_'))\n",
    "    \n",
    "    data_frame_2 = pd.DataFrame()\n",
    "    \n",
    "    data_frame_2[sheet_name.replace(' ','_')] = data_frame.set_index(sheet_name).T.index\n",
    "    return data_frame_2\n"
   ]
  },
  {
   "cell_type": "code",
   "execution_count": null,
   "metadata": {
    "scrolled": true
   },
   "outputs": [],
   "source": [
    "df_용역_조달요청_내역"
   ]
  },
  {
   "cell_type": "code",
   "execution_count": null,
   "metadata": {},
   "outputs": [],
   "source": [
    "a = pd.merge(df_용역_조달요청_내역,df_수요기관별_입찰집행실적_집계,\n",
    "         left_on=df_용역_조달요청_내역.columns[0],right_on=df_수요기관별_입찰집행실적_집계.columns[0],how='outer')\n",
    "a = a.fillna(0)\n",
    "lst_a = []\n",
    "for i,j in zip(a.iloc[:,0] , a.iloc[:,1]):\n",
    "    if j == 0 :\n",
    "        lst_a.append(i)\n",
    "    elif i == 0:\n",
    "        lst_a.append(j)\n",
    "    else:\n",
    "        lst_a.append(i)\n",
    "# pd.concat([a,pd.DataFrame(lst_a)],axis=1)"
   ]
  },
  {
   "cell_type": "code",
   "execution_count": null,
   "metadata": {},
   "outputs": [],
   "source": [
    "def merge_together(df_1,df_2,lst_a):\n",
    "    \n",
    "    df_lst_a = pd.DataFrame(lst_a)\n",
    "    if len(lst_a) == 0:\n",
    "        a = pd.merge(df_1,df_2,left_on = df_1.columns[-1], right_on= df_2.columns[0],how='outer')\n",
    "        lst_a = []\n",
    "        a = a.fillna(0)\n",
    "        for i,j in zip(a.iloc[:,0] , a.iloc[:,1]):\n",
    "            if j == 0 :\n",
    "                lst_a.append(i)\n",
    "            elif i == 0:\n",
    "                lst_a.append(j)\n",
    "            else:\n",
    "                lst_a.append(i)\n",
    "        return a, lst_a\n",
    "    \n",
    "    else:\n",
    "#         b = pd.merge(df_1,df_2,left_on = df_1.columns[0], right_on= df_2.columns[0],how='outer')\n",
    "        \n",
    "        a = pd.merge(df_lst_a, df_2, left_on = df_lst_a.columns[0], right_on = df_2.columns[0],how = 'outer')\n",
    "        b = pd.concat([df_1, a.iloc[:,1]],axis=1)\n",
    "        b = b.fillna(0)\n",
    "        a = a.fillna(0)\n",
    "        lst_a = []\n",
    "        for i,j in zip(a.iloc[:,0] , a.iloc[:,1]):\n",
    "            if j == 0 :\n",
    "                lst_a.append(i)\n",
    "            elif i == 0:\n",
    "                lst_a.append(j)\n",
    "            else:\n",
    "                lst_a.append(i)\n",
    "\n",
    "                \n",
    "        return b, lst_a\n"
   ]
  },
  {
   "cell_type": "code",
   "execution_count": null,
   "metadata": {},
   "outputs": [],
   "source": [
    "lst_a = []\n",
    "b ,lst_a =  merge_together(df_종합쇼핑몰_납품요구_내역,df_용역_계약_내역,lst_a)\n"
   ]
  },
  {
   "cell_type": "code",
   "execution_count": null,
   "metadata": {},
   "outputs": [],
   "source": [
    "b"
   ]
  },
  {
   "cell_type": "code",
   "execution_count": null,
   "metadata": {},
   "outputs": [],
   "source": [
    "lst_a = []\n",
    "b,lst_a = merge_together(df_종합쇼핑몰_납품요구_내역,df_용역_계약_내역,lst_a)\n",
    "print(len(lst_a), b.shape[0])\n",
    "b,lst_a = merge_together(b,df_물품_계약_내역,lst_a)\n",
    "print(len(lst_a), b.shape[0])"
   ]
  },
  {
   "cell_type": "code",
   "execution_count": null,
   "metadata": {},
   "outputs": [],
   "source": [
    "b"
   ]
  },
  {
   "cell_type": "code",
   "execution_count": null,
   "metadata": {},
   "outputs": [],
   "source": [
    "pd.DataFrame(lst_a)"
   ]
  },
  {
   "cell_type": "code",
   "execution_count": null,
   "metadata": {},
   "outputs": [],
   "source": [
    "df_용역_조달요청_내역 = make_normal_3('용역 조달요청 내역')\n",
    "df_수요기관별_입찰집행실적_집계 = make_normal_3('수요기관별 입찰집행실적 집계')\n",
    "df_공사_조달요청_내역 = make_normal_3('공사 조달요청 내역')\n",
    "df_일반용역_조달요청_상세내역 = make_normal_3('일반용역 조달요청 상세내역')\n",
    "df_물품_입찰분류별_진행내역 = make_normal_3('물품 입찰분류별 진행내역')\n",
    "df_우수제품_지정_내역 = make_normal_3('우수제품 지정 내역')\n",
    "df_종합_선택_항목별_조달_실적_집계 = make_normal_3('종합 선택 항목별 조달 실적 집계')\n",
    "df_중소기업대상_물품_조달_내역= make_normal_3('중소기업대상 물품 조달 내역 (조항호)')"
   ]
  },
  {
   "cell_type": "code",
   "execution_count": null,
   "metadata": {},
   "outputs": [],
   "source": [
    "b = merge_together(df_종합쇼핑몰_납품요구_내역,df_용역_계약_내역)\n",
    "c = merge_together(b,df_물품_계약_내역)\n",
    "d = merge_together(c,df_공사_계약_내역)\n",
    "e = merge_together(d,df_발주계획_및_계약납품_진행_내역)\n",
    "f = merge_together(e,df_물품_발주계획_내역)"
   ]
  },
  {
   "cell_type": "code",
   "execution_count": null,
   "metadata": {},
   "outputs": [],
   "source": [
    "def make_normal_4(sheet_name):\n",
    "    data_frame = pd.read_excel('jodal_연재.xlsx',sheet_name= sheet_name.replace(' ','_'))\n",
    "    \n",
    "    data_frame_2 = pd.DataFrame()\n",
    "    \n",
    "    data_frame_2[sheet_name.replace(' ','_')] = data_frame.set_index(sheet_name).T.index\n",
    "    return data_frame_2"
   ]
  },
  {
   "cell_type": "code",
   "execution_count": null,
   "metadata": {},
   "outputs": [],
   "source": [
    "df_외자_발주계획_내역 = make_normal_4('외자 발주계획 내역')\n",
    "df_외자_입찰공고_내역 = make_normal_4('외자 입찰공고 내역')\n",
    "df_외자_조달요청_내역 = make_normal_4('외자 조달요청 내역')\n",
    "df_외자_조달요청_상세내역 = make_normal_4('외자 조달요청 상세내역')"
   ]
  },
  {
   "cell_type": "code",
   "execution_count": null,
   "metadata": {
    "scrolled": true
   },
   "outputs": [],
   "source": []
  },
  {
   "cell_type": "code",
   "execution_count": null,
   "metadata": {},
   "outputs": [],
   "source": [
    "lst_a = []\n",
    "b,lst_a = merge_together(df_종합쇼핑몰_납품요구_내역,df_용역_계약_내역,lst_a)\n",
    "b,lst_a = merge_together(b,df_물품_계약_내역,lst_a)\n",
    "b,lst_a = merge_together(b,df_공사_계약_내역,lst_a)\n",
    "b,lst_a= merge_together(b,df_발주계획_및_계약납품_진행_내역,lst_a)\n",
    "b,lst_a = merge_together(b,df_물품_발주계획_내역,lst_a)\n",
    "b,lst_a = merge_together(b,df_물품_입찰공고_내역,lst_a)\n",
    "b,lst_a = merge_together(b,df_통합_입찰공고_내역,lst_a)\n",
    "b,lst_a = merge_together(b,df_용역_발주계획_내역,lst_a)\n",
    "b,lst_a = merge_together(b,df_공사_발주계획_내역,lst_a)\n",
    "b,lst_a = merge_together(b,df_물품_조달요청_내역,lst_a)\n",
    "b,lst_a = merge_together(b,df_물품_조달요청_상세내역,lst_a)\n",
    "b,lst_a = merge_together(b,df_조달업체_조달품목_등록_내역,lst_a)\n",
    "b,lst_a = merge_together(b,df_용역_조달요청_내역,lst_a)\n",
    "b,lst_a = merge_together(b,df_수요기관별_입찰집행실적_집계,lst_a)\n",
    "b,lst_a = merge_together(b,df_공사_조달요청_내역,lst_a)\n",
    "b,lst_a = merge_together(b,df_일반용역_조달요청_상세내역,lst_a)\n",
    "b,lst_a = merge_together(b,df_물품_입찰분류별_진행내역,lst_a)\n",
    "b,lst_a = merge_together(b,df_우수제품_지정_내역,lst_a)\n",
    "b,lst_a = merge_together(b,df_종합_선택_항목별_조달_실적_집계,lst_a)\n",
    "b,lst_a = merge_together(b,df_중소기업대상_물품_조달_내역,lst_a)\n",
    "b,lst_a = merge_together(b,df_외자_발주계획_내역 ,lst_a)\n",
    "b,lst_a = merge_together(b,df_외자_입찰공고_내역,lst_a)\n",
    "b,lst_a = merge_together(b,df_외자_조달요청_내역 ,lst_a)\n",
    "df_integrated_all,lst_a= merge_together(b,df_외자_조달요청_상세내역,lst_a)\n"
   ]
  },
  {
   "cell_type": "code",
   "execution_count": null,
   "metadata": {},
   "outputs": [],
   "source": [
    "# df_integrated_all.to_excel('df_integrated_all_final.xlsx')"
   ]
  }
 ],
 "metadata": {
  "kernelspec": {
   "display_name": "Python 3",
   "language": "python",
   "name": "python3"
  },
  "language_info": {
   "codemirror_mode": {
    "name": "ipython",
    "version": 3
   },
   "file_extension": ".py",
   "mimetype": "text/x-python",
   "name": "python",
   "nbconvert_exporter": "python",
   "pygments_lexer": "ipython3",
   "version": "3.7.4"
  },
  "toc": {
   "base_numbering": 1,
   "nav_menu": {},
   "number_sections": true,
   "sideBar": true,
   "skip_h1_title": false,
   "title_cell": "Table of Contents",
   "title_sidebar": "Contents",
   "toc_cell": false,
   "toc_position": {},
   "toc_section_display": true,
   "toc_window_display": false
  },
  "varInspector": {
   "cols": {
    "lenName": 16,
    "lenType": 16,
    "lenVar": 40
   },
   "kernels_config": {
    "python": {
     "delete_cmd_postfix": "",
     "delete_cmd_prefix": "del ",
     "library": "var_list.py",
     "varRefreshCmd": "print(var_dic_list())"
    },
    "r": {
     "delete_cmd_postfix": ") ",
     "delete_cmd_prefix": "rm(",
     "library": "var_list.r",
     "varRefreshCmd": "cat(var_dic_list()) "
    }
   },
   "types_to_exclude": [
    "module",
    "function",
    "builtin_function_or_method",
    "instance",
    "_Feature"
   ],
   "window_display": false
  }
 },
 "nbformat": 4,
 "nbformat_minor": 2
}
