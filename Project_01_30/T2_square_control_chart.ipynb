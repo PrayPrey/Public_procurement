{
 "cells": [
  {
   "cell_type": "code",
   "execution_count": 1,
   "metadata": {},
   "outputs": [
    {
     "data": {
      "text/html": [
       "        <script type=\"text/javascript\">\n",
       "        window.PlotlyConfig = {MathJaxConfig: 'local'};\n",
       "        if (window.MathJax) {MathJax.Hub.Config({SVG: {font: \"STIX-Web\"}});}\n",
       "        if (typeof require !== 'undefined') {\n",
       "        require.undef(\"plotly\");\n",
       "        requirejs.config({\n",
       "            paths: {\n",
       "                'plotly': ['https://cdn.plot.ly/plotly-2.4.2.min']\n",
       "            }\n",
       "        });\n",
       "        require(['plotly'], function(Plotly) {\n",
       "            window._Plotly = Plotly;\n",
       "        });\n",
       "        }\n",
       "        </script>\n",
       "        "
      ]
     },
     "metadata": {},
     "output_type": "display_data"
    },
    {
     "data": {
      "text/html": [
       "        <script type=\"text/javascript\">\n",
       "        window.PlotlyConfig = {MathJaxConfig: 'local'};\n",
       "        if (window.MathJax) {MathJax.Hub.Config({SVG: {font: \"STIX-Web\"}});}\n",
       "        if (typeof require !== 'undefined') {\n",
       "        require.undef(\"plotly\");\n",
       "        requirejs.config({\n",
       "            paths: {\n",
       "                'plotly': ['https://cdn.plot.ly/plotly-2.4.2.min']\n",
       "            }\n",
       "        });\n",
       "        require(['plotly'], function(Plotly) {\n",
       "            window._Plotly = Plotly;\n",
       "        });\n",
       "        }\n",
       "        </script>\n",
       "        "
      ]
     },
     "metadata": {},
     "output_type": "display_data"
    },
    {
     "data": {
      "text/html": [
       "<style>.container { width:100% !important; }</style>"
      ],
      "text/plain": [
       "<IPython.core.display.HTML object>"
      ]
     },
     "metadata": {},
     "output_type": "display_data"
    }
   ],
   "source": [
    "import numpy as np\n",
    "import pandas as pd\n",
    "\n",
    "from sklearn.ensemble import RandomForestRegressor, GradientBoostingRegressor\n",
    "from sklearn.preprocessing import OneHotEncoder, StandardScaler\n",
    "from sklearn.model_selection import StratifiedKFold\n",
    "from sklearn.metrics import accuracy_score\n",
    "\n",
    "import string\n",
    "import warnings\n",
    "import missingno\n",
    "warnings.filterwarnings('ignore')\n",
    "\n",
    "\n",
    "import pandas as pd\n",
    "import cufflinks as cf\n",
    "import chart_studio.plotly as py\n",
    "import plotly.graph_objects as go\n",
    "import numpy as np\n",
    "import pandas as pd\n",
    "import numpy as np\n",
    "from numpy.random import gamma\n",
    "from numpy.random import multivariate_normal\n",
    "from scipy.stats import multivariate_t\n",
    "from scipy.stats import f\n",
    "import matplotlib.pyplot as plt\n",
    "\n",
    "\n",
    "\n",
    "cf.go_offline(connected = True)\n",
    "\n",
    "\n",
    "import pandas as pd\n",
    "import cufflinks as cf\n",
    "import chart_studio.plotly as py\n",
    "import plotly.graph_objects as go\n",
    "import numpy as np\n",
    "import pandas as pd\n",
    "import numpy as np\n",
    "from numpy.random import gamma\n",
    "from numpy.random import multivariate_normal\n",
    "from scipy.stats import multivariate_t\n",
    "from scipy.stats import f\n",
    "import matplotlib.pyplot as plt\n",
    "import missingno\n",
    "\n",
    "\n",
    "cf.go_offline(connected = True)\n",
    "\n",
    "\n",
    "import numpy as np\n",
    "import matplotlib.pyplot as plt\n",
    "import pandas as pd\n",
    "import seaborn as sns\n",
    "\n",
    "from sklearn.linear_model import Ridge, Lasso\n",
    "from sklearn.model_selection import cross_val_score\n",
    "from sklearn.model_selection import train_test_split\n",
    "from sklearn.linear_model import LinearRegression\n",
    "from sklearn.metrics import r2_score\n",
    "from sklearn.metrics import mean_absolute_error\n",
    "from sklearn.metrics import mean_squared_error\n",
    "from sklearn.metrics import mean_squared_log_error\n",
    "from sklearn.metrics import make_scorer\n",
    "from sklearn.model_selection import KFold\n",
    "from sklearn.model_selection import cross_val_score\n",
    "\n",
    "import numpy as np\n",
    "import pandas as pd\n",
    "from sklearn.metrics import make_scorer\n",
    "from sklearn.ensemble import RandomForestRegressor, GradientBoostingRegressor\n",
    "from xgboost import XGBRegressor \n",
    "from sklearn.preprocessing import OneHotEncoder, StandardScaler\n",
    "from sklearn.model_selection import StratifiedKFold\n",
    "from sklearn.metrics import accuracy_score\n",
    "from sklearn.linear_model import LinearRegression\n",
    "from sklearn.linear_model import Lasso\n",
    "from sklearn.model_selection import GridSearchCV\n",
    "import string\n",
    "import warnings\n",
    "import missingno\n",
    "\n",
    "from IPython.core.display import display, HTML\n",
    "display(HTML(\"<style>.container { width:100% !important; }</style>\"))"
   ]
  },
  {
   "cell_type": "code",
   "execution_count": 2,
   "metadata": {},
   "outputs": [
    {
     "name": "stderr",
     "output_type": "stream",
     "text": [
      "b'Skipping line 114239: expected 55 fields, saw 56\\n'\n"
     ]
    }
   ],
   "source": [
    "df = pd.read_csv('용역_입찰공고_내역_2020.csv',encoding ='utf-8',error_bad_lines= False)\n",
    "df = pd.concat([df,pd.read_csv('용역_입찰공고_내역_2019.csv',encoding ='utf-8',error_bad_lines= False)])\n",
    "df = pd.concat([df,pd.read_csv('용역_입찰공고_내역_2018.csv',encoding ='utf-8',error_bad_lines= False)])\n",
    "df_용역_입찰공고_내역 = pd.concat([df,pd.read_csv('용역_입찰공고_내역_2017.csv',encoding ='utf-8',error_bad_lines= False)])   \n",
    "\n",
    "df = pd.read_csv('공사_입찰공고_및_진행_내역_2020.csv',encoding ='utf-8',error_bad_lines= False)\n",
    "df = pd.concat([df,pd.read_csv('공사_입찰공고_및_진행_내역_2019.csv',encoding ='utf-8',error_bad_lines= False)])\n",
    "df = pd.concat([df,pd.read_csv('공사_입찰공고_및_진행_내역_2018.csv',encoding ='utf-8',error_bad_lines= False)])\n",
    "df_공사_입찰공고_및_진행_내역 = pd.concat([df,pd.read_csv('공사_입찰공고_및_진행_내역_2017.csv',encoding ='utf-8',error_bad_lines= False)])   \n",
    "\n",
    "\n",
    "df = pd.read_csv('물품_입찰공고_내역_2020.csv',encoding ='utf-8',error_bad_lines= False)\n",
    "df = pd.concat([df,pd.read_csv('물품_입찰공고_내역_2019.csv',encoding ='utf-8',error_bad_lines= False)])\n",
    "df = pd.concat([df,pd.read_csv('물품_입찰공고_내역_2018.csv',encoding ='utf-8',error_bad_lines= False)])\n",
    "df_물품_입찰공고_내역 = pd.concat([df,pd.read_csv('물품_입찰공고_내역_2017.csv',encoding ='utf-8',error_bad_lines= False)])   "
   ]
  },
  {
   "cell_type": "code",
   "execution_count": 3,
   "metadata": {},
   "outputs": [],
   "source": [
    "def make_time_series_3(row):\n",
    "\n",
    "    i = str(row['공고게시일자'])\n",
    "    year = i[0:4]\n",
    "    month = i[4:6]\n",
    "    date =  i[6:8]\n",
    "\n",
    "    row['공고게시일자'] = pd.to_datetime(year+month+date,format='%Y%m%d')\n",
    "\n",
    "    return row"
   ]
  },
  {
   "cell_type": "code",
   "execution_count": 4,
   "metadata": {},
   "outputs": [],
   "source": [
    "df_용역_입찰공고_내역_2 = df_용역_입찰공고_내역.apply(make_time_series_3,axis=1).copy()\n",
    "df_공사_입찰공고_및_진행_내역_2 = df_공사_입찰공고_및_진행_내역.apply(make_time_series_3,axis=1).copy()\n",
    "df_물품_입찰공고_내역_2 = df_물품_입찰공고_내역.apply(make_time_series_3,axis=1).copy()"
   ]
  },
  {
   "cell_type": "code",
   "execution_count": 9,
   "metadata": {},
   "outputs": [
    {
     "data": {
      "text/plain": [
       "Index(['등록유형', '조달구분', '공고시스템명', '입찰공고번호', '입찰공고차수', '공고게시일자', '공고명', '공사현장',\n",
       "       '입찰방식', '낙찰자결정적용법규', '낙찰자결정방법', '입찰계약방법', '예가방법', '긴급공고여부', '업종제한여부',\n",
       "       '업종제한내용', '지역제한내용', '지역의무공동도급여부', '공동도급지역', '공동도급구성방식명', '기초금액',\n",
       "       '관급자설치관급자재금액', '도급자설치관급자재금액', '추정금액', '추정가격', '예정가격', '입찰서개시일자',\n",
       "       '입찰서마감일자', '개찰일자', '공고기관명', '공고기관코드', '실수요기관명', '수요기관명', '수요기관코드',\n",
       "       '수요기관구분', '수요기관지역명', '입찰진행구분', '입찰진행내용', '낙찰자결정여부', '참가수',\n",
       "       '개찰1순위업체목록내용', '개찰1순위투찰율', '개찰1순위투찰금액', '낙찰업체목록내용', '낙찰업체투찰률',\n",
       "       '낙찰업체투찰금액', '낙찰하한율', '적격심사평가기준', '적격심사주공종', '적격심사주공종추정금액',\n",
       "       '적격심사주공종추정가격', '적격심사업종평가비율', 'PQ심사접수방식', 'PQ심사신청서접수기한', '국제입찰여부',\n",
       "       '국제입찰사유', '정정공고여부', '취소공고여부', '발주계획통합번호', '조달요청번호', '공공조달분류명',\n",
       "       '사전규격등록번호', '참조번호', '이전입찰공고번호'],\n",
       "      dtype='object')"
      ]
     },
     "execution_count": 9,
     "metadata": {},
     "output_type": "execute_result"
    }
   ],
   "source": [
    "df_공사_입찰공고_및_진행_내역_2.columns"
   ]
  },
  {
   "cell_type": "code",
   "execution_count": 11,
   "metadata": {},
   "outputs": [
    {
     "data": {
      "text/plain": [
       "Index(['등록유형', '용역구분', '조달구분', '공고시스템명', '입찰공고번호', '입찰공고차수', '공고게시일자', '공고명',\n",
       "       '공고기관명', '실수요기관명', '수요기관명', '수요기관코드', '수요기관구분', '수요기관지역명', '품명내용',\n",
       "       '세부품명내용', '합계수량', '합계금액', '납품기한', '긴급공고여부', '정정공고여부', '취소공고여부', '추정가격',\n",
       "       '배정예산', '입찰참가자격등록마감일자', '입찰서개시일자', '입찰서마감일자', '개찰일자', '입찰방식', '재입찰허용여부',\n",
       "       '입찰계약방법', '낙찰자결정방법', '낙찰하한율', '예가방법', '업종제한여부', '업종제한내용', '지역제한내용',\n",
       "       '공동도급구성방식명', '공동도급협정서접수방식', '공동도급협정서접수마감일자', '국제입찰여부', '국제입찰사유',\n",
       "       '낙찰자결정적용법규', '조항호코드', '조항호명', '정보화사업여부', '기술평가대행여부', 'SW분리발주대상구분',\n",
       "       'SW분리발주적용구분', '참조번호', '이전입찰공고번호', '사전규격등록번호', '조달요청번호', '발주계획통합번호',\n",
       "       '규격검토일자', '실적심사신청서', '실적심사신청서신청기한'],\n",
       "      dtype='object')"
      ]
     },
     "execution_count": 11,
     "metadata": {},
     "output_type": "execute_result"
    }
   ],
   "source": [
    "df_용역_입찰공고_내역_2.columns"
   ]
  },
  {
   "cell_type": "code",
   "execution_count": 12,
   "metadata": {},
   "outputs": [
    {
     "data": {
      "text/plain": [
       "Index(['등록유형', '조달구분', '공고시스템명', '입찰공고번호', '입찰공고차수', '공고게시일자', '공고명', '공고기관명',\n",
       "       '공고기관코드', '실수요기관명', '수요기관명', '수요기관코드', '수요기관구분', '수요기관지역명', '품명내용',\n",
       "       '세부품명내용', '합계수량', '합계금액', '납품기한', '긴급공고여부', '정정공고여부', '취소공고여부', '추정가격',\n",
       "       '배정예산', '입찰참가자격등록마감일자', '입찰서개시일자', '입찰서마감일자', '개찰일자', '입찰방식', '재입찰허용여부',\n",
       "       '낙찰자결정방법', '입찰계약방법', '낙찰하한율', '예가방법', '업종제한여부', '업종제한내용', '지역제한내용',\n",
       "       '공동도급구성방식명', '공동도급협정서접수방식', '공동도급협정서접수마감일자', '국제입찰여부', '국제입찰사유',\n",
       "       '낙찰자결정적용법규', '조항호코드', '조항호명', '정보화사업여부', '기술평가대행여부', 'SW분리발주대상구분',\n",
       "       'SW분리발주적용구분', '참조번호', '이전입찰공고번호', '사전규격등록번호', '조달요청번호', '발주계획통합번호',\n",
       "       '규격검토일자'],\n",
       "      dtype='object')"
      ]
     },
     "execution_count": 12,
     "metadata": {},
     "output_type": "execute_result"
    }
   ],
   "source": [
    "df_물품_입찰공고_내역_2.columns"
   ]
  },
  {
   "cell_type": "code",
   "execution_count": 13,
   "metadata": {},
   "outputs": [
    {
     "data": {
      "text/plain": [
       "Index(['등록유형', '조달구분', '공고시스템명', '입찰공고번호', '입찰공고차수', '공고게시일자', '공고명', '공사현장',\n",
       "       '입찰방식', '낙찰자결정적용법규', '낙찰자결정방법', '입찰계약방법', '예가방법', '긴급공고여부', '업종제한여부',\n",
       "       '업종제한내용', '지역제한내용', '지역의무공동도급여부', '공동도급지역', '공동도급구성방식명', '기초금액',\n",
       "       '관급자설치관급자재금액', '도급자설치관급자재금액', '추정금액', '추정가격', '예정가격', '입찰서개시일자',\n",
       "       '입찰서마감일자', '개찰일자', '공고기관명', '공고기관코드', '실수요기관명', '수요기관명', '수요기관코드',\n",
       "       '수요기관구분', '수요기관지역명', '입찰진행구분', '입찰진행내용', '낙찰자결정여부', '참가수',\n",
       "       '개찰1순위업체목록내용', '개찰1순위투찰율', '개찰1순위투찰금액', '낙찰업체목록내용', '낙찰업체투찰률',\n",
       "       '낙찰업체투찰금액', '낙찰하한율', '적격심사평가기준', '적격심사주공종', '적격심사주공종추정금액',\n",
       "       '적격심사주공종추정가격', '적격심사업종평가비율', 'PQ심사접수방식', 'PQ심사신청서접수기한', '국제입찰여부',\n",
       "       '국제입찰사유', '정정공고여부', '취소공고여부', '발주계획통합번호', '조달요청번호', '공공조달분류명',\n",
       "       '사전규격등록번호', '참조번호', '이전입찰공고번호'],\n",
       "      dtype='object')"
      ]
     },
     "execution_count": 13,
     "metadata": {},
     "output_type": "execute_result"
    }
   ],
   "source": [
    "df_공사_입찰공고_및_진행_내역_2.columns"
   ]
  },
  {
   "cell_type": "code",
   "execution_count": 17,
   "metadata": {},
   "outputs": [],
   "source": [
    "df_용역_입찰공고_내역_3 = df_용역_입찰공고_내역_2[['등록유형','공고게시일자','조달구분','입찰공고차수','수요기관명','수요기관코드','긴급공고여부',\n",
    "'정정공고여부','취소공고여부','추정가격','입찰방식','낙찰자결정방법','입찰계약방법','예가방법','업종제한내용',\n",
    "                                   '지역제한내용',]].copy()\n",
    "\n",
    "df_물품_입찰공고_내역_3 = df_물품_입찰공고_내역_2[['등록유형','공고게시일자','조달구분','입찰공고차수','수요기관명','수요기관코드','긴급공고여부',\n",
    "'정정공고여부','취소공고여부','추정가격','입찰방식','낙찰자결정방법','입찰계약방법','예가방법','업종제한내용',\n",
    "                                   '지역제한내용',]].copy()\n",
    "\n",
    "df_공사_입찰공고_및_진행_내역_3 = df_공사_입찰공고_및_진행_내역_2[['등록유형','공고게시일자','조달구분','입찰공고차수','수요기관명','수요기관코드','긴급공고여부',\n",
    "'정정공고여부','취소공고여부','추정가격','입찰방식','낙찰자결정방법','입찰계약방법','예가방법','업종제한내용',\n",
    "                                   '지역제한내용',]].copy()"
   ]
  },
  {
   "cell_type": "code",
   "execution_count": 26,
   "metadata": {},
   "outputs": [
    {
     "data": {
      "text/plain": [
       "1690000    11161\n",
       "6110000     6949\n",
       "B500001     3798\n",
       "1613000     2946\n",
       "B500004     2405\n",
       "Name: 수요기관코드, dtype: int64"
      ]
     },
     "execution_count": 26,
     "metadata": {},
     "output_type": "execute_result"
    }
   ],
   "source": [
    "df_용역_입찰공고_내역_3['수요기관코드'].value_counts().head()"
   ]
  },
  {
   "cell_type": "code",
   "execution_count": 27,
   "metadata": {},
   "outputs": [
    {
     "data": {
      "text/plain": [
       "1690000    9322\n",
       "4930000    3979\n",
       "Z022872    3929\n",
       "5710000    3284\n",
       "4810000    3058\n",
       "Name: 수요기관코드, dtype: int64"
      ]
     },
     "execution_count": 27,
     "metadata": {},
     "output_type": "execute_result"
    }
   ],
   "source": [
    "df_공사_입찰공고_및_진행_내역_3['수요기관코드'].value_counts().head()"
   ]
  },
  {
   "cell_type": "code",
   "execution_count": 28,
   "metadata": {},
   "outputs": [
    {
     "data": {
      "text/plain": [
       "1690000    19311\n",
       "ZZ99999     5143\n",
       "1690000     4718\n",
       "B553766     3472\n",
       "B500001     3102\n",
       "Name: 수요기관코드, dtype: int64"
      ]
     },
     "execution_count": 28,
     "metadata": {},
     "output_type": "execute_result"
    }
   ],
   "source": [
    "df_물품_입찰공고_내역_3['수요기관코드'].value_counts().head()"
   ]
  },
  {
   "cell_type": "code",
   "execution_count": 35,
   "metadata": {},
   "outputs": [],
   "source": [
    "df_물품_입찰공고_내역_3.loc[:,'수요기관코드'] = df_물품_입찰공고_내역_3['수요기관코드'].astype('str')\n",
    "df_공사_입찰공고_및_진행_내역_3.loc[:,'수요기관코드'] = df_공사_입찰공고_및_진행_내역_3['수요기관코드'].astype('str')\n",
    "df_용역_입찰공고_내역_3.loc[:,'수요기관코드'] = df_용역_입찰공고_내역_3['수요기관코드'].astype('str')"
   ]
  },
  {
   "cell_type": "code",
   "execution_count": 36,
   "metadata": {},
   "outputs": [
    {
     "data": {
      "text/plain": [
       "1690000    24029\n",
       "ZZ99999     5143\n",
       "B553766     3472\n",
       "B500001     3102\n",
       "B551909     2415\n",
       "Name: 수요기관코드, dtype: int64"
      ]
     },
     "execution_count": 36,
     "metadata": {},
     "output_type": "execute_result"
    }
   ],
   "source": [
    "df_물품_입찰공고_내역_3['수요기관코드'].value_counts().head()"
   ]
  },
  {
   "cell_type": "code",
   "execution_count": 40,
   "metadata": {
    "scrolled": true
   },
   "outputs": [
    {
     "data": {
      "text/html": [
       "<div>\n",
       "<style scoped>\n",
       "    .dataframe tbody tr th:only-of-type {\n",
       "        vertical-align: middle;\n",
       "    }\n",
       "\n",
       "    .dataframe tbody tr th {\n",
       "        vertical-align: top;\n",
       "    }\n",
       "\n",
       "    .dataframe thead th {\n",
       "        text-align: right;\n",
       "    }\n",
       "</style>\n",
       "<table border=\"1\" class=\"dataframe\">\n",
       "  <thead>\n",
       "    <tr style=\"text-align: right;\">\n",
       "      <th></th>\n",
       "      <th>등록유형</th>\n",
       "      <th>공고게시일자</th>\n",
       "      <th>조달구분</th>\n",
       "      <th>입찰공고차수</th>\n",
       "      <th>수요기관명</th>\n",
       "      <th>수요기관코드</th>\n",
       "      <th>긴급공고여부</th>\n",
       "      <th>정정공고여부</th>\n",
       "      <th>취소공고여부</th>\n",
       "      <th>추정가격</th>\n",
       "      <th>입찰방식</th>\n",
       "      <th>낙찰자결정방법</th>\n",
       "      <th>입찰계약방법</th>\n",
       "      <th>예가방법</th>\n",
       "      <th>업종제한내용</th>\n",
       "      <th>지역제한내용</th>\n",
       "    </tr>\n",
       "  </thead>\n",
       "  <tbody>\n",
       "    <tr>\n",
       "      <th>1305</th>\n",
       "      <td>나라장터(G2B)</td>\n",
       "      <td>2020-03-12</td>\n",
       "      <td>중앙조달</td>\n",
       "      <td>0</td>\n",
       "      <td>방위사업청</td>\n",
       "      <td>1690000</td>\n",
       "      <td>NaN</td>\n",
       "      <td>N</td>\n",
       "      <td>N</td>\n",
       "      <td>1.993131e+08</td>\n",
       "      <td>전자입찰</td>\n",
       "      <td>적격심사(추정가격 고시금액미만 제조입찰,고시금액미만 구매입찰)</td>\n",
       "      <td>제한(총액)</td>\n",
       "      <td>복수예가</td>\n",
       "      <td>NaN</td>\n",
       "      <td>NaN</td>\n",
       "    </tr>\n",
       "    <tr>\n",
       "      <th>34603</th>\n",
       "      <td>나라장터(G2B)</td>\n",
       "      <td>2020-04-21</td>\n",
       "      <td>중앙조달</td>\n",
       "      <td>0</td>\n",
       "      <td>방위사업청</td>\n",
       "      <td>1690000</td>\n",
       "      <td>NaN</td>\n",
       "      <td>N</td>\n",
       "      <td>N</td>\n",
       "      <td>2.234611e+09</td>\n",
       "      <td>전자입찰</td>\n",
       "      <td>적격심사(추정가격 고시금액이상 10억원미만 제조입찰,고시금액이상 구매입찰)</td>\n",
       "      <td>일반(총액)</td>\n",
       "      <td>복수예가</td>\n",
       "      <td>NaN</td>\n",
       "      <td>NaN</td>\n",
       "    </tr>\n",
       "    <tr>\n",
       "      <th>37499</th>\n",
       "      <td>나라장터(G2B)</td>\n",
       "      <td>2020-06-15</td>\n",
       "      <td>중앙조달</td>\n",
       "      <td>0</td>\n",
       "      <td>방위사업청</td>\n",
       "      <td>1690000</td>\n",
       "      <td>NaN</td>\n",
       "      <td>N</td>\n",
       "      <td>N</td>\n",
       "      <td>1.999110e+08</td>\n",
       "      <td>전자입찰</td>\n",
       "      <td>적격심사(추정가격 고시금액미만 제조입찰,고시금액미만 구매입찰)</td>\n",
       "      <td>제한(총액)</td>\n",
       "      <td>복수예가</td>\n",
       "      <td>NaN</td>\n",
       "      <td>NaN</td>\n",
       "    </tr>\n",
       "    <tr>\n",
       "      <th>39026</th>\n",
       "      <td>나라장터(G2B)</td>\n",
       "      <td>2020-05-25</td>\n",
       "      <td>중앙조달</td>\n",
       "      <td>0</td>\n",
       "      <td>방위사업청</td>\n",
       "      <td>1690000</td>\n",
       "      <td>Y</td>\n",
       "      <td>N</td>\n",
       "      <td>N</td>\n",
       "      <td>1.080189e+09</td>\n",
       "      <td>전자시담</td>\n",
       "      <td>수의(최저가)</td>\n",
       "      <td>수의(총액)</td>\n",
       "      <td>단일예가</td>\n",
       "      <td>NaN</td>\n",
       "      <td>NaN</td>\n",
       "    </tr>\n",
       "    <tr>\n",
       "      <th>41381</th>\n",
       "      <td>나라장터(G2B)</td>\n",
       "      <td>2020-04-25</td>\n",
       "      <td>중앙조달</td>\n",
       "      <td>0</td>\n",
       "      <td>방위사업청</td>\n",
       "      <td>1690000</td>\n",
       "      <td>NaN</td>\n",
       "      <td>N</td>\n",
       "      <td>N</td>\n",
       "      <td>1.080189e+09</td>\n",
       "      <td>전자입찰</td>\n",
       "      <td>적격심사(추정가격 10억원이상 제조입찰)</td>\n",
       "      <td>일반(총액)</td>\n",
       "      <td>복수예가</td>\n",
       "      <td>NaN</td>\n",
       "      <td>NaN</td>\n",
       "    </tr>\n",
       "  </tbody>\n",
       "</table>\n",
       "</div>"
      ],
      "text/plain": [
       "            등록유형     공고게시일자  조달구분  입찰공고차수  수요기관명   수요기관코드 긴급공고여부 정정공고여부  \\\n",
       "1305   나라장터(G2B) 2020-03-12  중앙조달       0  방위사업청  1690000    NaN      N   \n",
       "34603  나라장터(G2B) 2020-04-21  중앙조달       0  방위사업청  1690000    NaN      N   \n",
       "37499  나라장터(G2B) 2020-06-15  중앙조달       0  방위사업청  1690000    NaN      N   \n",
       "39026  나라장터(G2B) 2020-05-25  중앙조달       0  방위사업청  1690000      Y      N   \n",
       "41381  나라장터(G2B) 2020-04-25  중앙조달       0  방위사업청  1690000    NaN      N   \n",
       "\n",
       "      취소공고여부          추정가격  입찰방식                                    낙찰자결정방법  \\\n",
       "1305       N  1.993131e+08  전자입찰         적격심사(추정가격 고시금액미만 제조입찰,고시금액미만 구매입찰)   \n",
       "34603      N  2.234611e+09  전자입찰  적격심사(추정가격 고시금액이상 10억원미만 제조입찰,고시금액이상 구매입찰)   \n",
       "37499      N  1.999110e+08  전자입찰         적격심사(추정가격 고시금액미만 제조입찰,고시금액미만 구매입찰)   \n",
       "39026      N  1.080189e+09  전자시담                                    수의(최저가)   \n",
       "41381      N  1.080189e+09  전자입찰                     적격심사(추정가격 10억원이상 제조입찰)   \n",
       "\n",
       "       입찰계약방법  예가방법 업종제한내용 지역제한내용  \n",
       "1305   제한(총액)  복수예가    NaN    NaN  \n",
       "34603  일반(총액)  복수예가    NaN    NaN  \n",
       "37499  제한(총액)  복수예가    NaN    NaN  \n",
       "39026  수의(총액)  단일예가    NaN    NaN  \n",
       "41381  일반(총액)  복수예가    NaN    NaN  "
      ]
     },
     "execution_count": 40,
     "metadata": {},
     "output_type": "execute_result"
    }
   ],
   "source": [
    "df_물품_입찰공고_내역_3[df_물품_입찰공고_내역_3['수요기관코드'] == '1690000'].head()"
   ]
  },
  {
   "cell_type": "code",
   "execution_count": 55,
   "metadata": {},
   "outputs": [],
   "source": [
    "df_용역 = df_용역_입찰공고_내역_3.loc[df_용역_입찰공고_내역_3['수요기관코드'] == 'B500001'][['공고게시일자','추정가격']].copy()\n",
    "df_공사 = df_공사_입찰공고_및_진행_내역_3.loc[df_공사_입찰공고_및_진행_내역_3['수요기관코드'] == 'B500001'][['공고게시일자','추정가격']].copy()\n",
    "df_물품 = df_물품_입찰공고_내역_3.loc[df_물품_입찰공고_내역_3['수요기관코드'] == 'B500001'][['공고게시일자','추정가격']].copy()"
   ]
  },
  {
   "cell_type": "code",
   "execution_count": 72,
   "metadata": {},
   "outputs": [],
   "source": [
    "df_용역_1w = df_용역.groupby(pd.Grouper(key = '공고게시일자',freq = '1W')).sum()\n",
    "df_공사_1w =df_공사.groupby(pd.Grouper(key = '공고게시일자',freq = '1W')).sum()\n",
    "df_물품_1w =df_물품.groupby(pd.Grouper(key = '공고게시일자',freq = '1W')).sum()"
   ]
  },
  {
   "cell_type": "code",
   "execution_count": 73,
   "metadata": {},
   "outputs": [],
   "source": [
    "df_용역_1w = df_용역_1w[df_용역_1w.index >= pd.to_datetime('2018-01-07') ].copy()\n",
    "df_공사_1w = df_공사_1w[df_공사_1w.index >= pd.to_datetime('2018-01-07') ].copy()\n",
    "df_물품_1w = df_물품_1w[df_물품_1w.index >= pd.to_datetime('2018-01-07') ].copy()"
   ]
  },
  {
   "cell_type": "code",
   "execution_count": 70,
   "metadata": {},
   "outputs": [],
   "source": []
  },
  {
   "cell_type": "code",
   "execution_count": 71,
   "metadata": {},
   "outputs": [],
   "source": []
  },
  {
   "cell_type": "code",
   "execution_count": 170,
   "metadata": {},
   "outputs": [],
   "source": [
    "df_total = pd.concat([df_용역_1w, df_공사_1w, df_물품_1w],axis=1)"
   ]
  },
  {
   "cell_type": "code",
   "execution_count": 172,
   "metadata": {},
   "outputs": [],
   "source": [
    "df_total.columns = ['용역', '공사' , '물품']"
   ]
  },
  {
   "cell_type": "code",
   "execution_count": 173,
   "metadata": {},
   "outputs": [
    {
     "data": {
      "text/html": [
       "<div>\n",
       "<style scoped>\n",
       "    .dataframe tbody tr th:only-of-type {\n",
       "        vertical-align: middle;\n",
       "    }\n",
       "\n",
       "    .dataframe tbody tr th {\n",
       "        vertical-align: top;\n",
       "    }\n",
       "\n",
       "    .dataframe thead th {\n",
       "        text-align: right;\n",
       "    }\n",
       "</style>\n",
       "<table border=\"1\" class=\"dataframe\">\n",
       "  <thead>\n",
       "    <tr style=\"text-align: right;\">\n",
       "      <th></th>\n",
       "      <th>용역</th>\n",
       "      <th>공사</th>\n",
       "      <th>물품</th>\n",
       "    </tr>\n",
       "    <tr>\n",
       "      <th>공고게시일자</th>\n",
       "      <th></th>\n",
       "      <th></th>\n",
       "      <th></th>\n",
       "    </tr>\n",
       "  </thead>\n",
       "  <tbody>\n",
       "    <tr>\n",
       "      <th>2018-01-07</th>\n",
       "      <td>0.000000e+00</td>\n",
       "      <td>0.000000e+00</td>\n",
       "      <td>3.512000e+08</td>\n",
       "    </tr>\n",
       "    <tr>\n",
       "      <th>2018-01-14</th>\n",
       "      <td>0.000000e+00</td>\n",
       "      <td>0.000000e+00</td>\n",
       "      <td>8.242800e+08</td>\n",
       "    </tr>\n",
       "    <tr>\n",
       "      <th>2018-01-21</th>\n",
       "      <td>0.000000e+00</td>\n",
       "      <td>0.000000e+00</td>\n",
       "      <td>1.512180e+09</td>\n",
       "    </tr>\n",
       "    <tr>\n",
       "      <th>2018-01-28</th>\n",
       "      <td>0.000000e+00</td>\n",
       "      <td>0.000000e+00</td>\n",
       "      <td>0.000000e+00</td>\n",
       "    </tr>\n",
       "    <tr>\n",
       "      <th>2018-02-04</th>\n",
       "      <td>0.000000e+00</td>\n",
       "      <td>0.000000e+00</td>\n",
       "      <td>0.000000e+00</td>\n",
       "    </tr>\n",
       "    <tr>\n",
       "      <th>...</th>\n",
       "      <td>...</td>\n",
       "      <td>...</td>\n",
       "      <td>...</td>\n",
       "    </tr>\n",
       "    <tr>\n",
       "      <th>2020-12-06</th>\n",
       "      <td>8.335266e+09</td>\n",
       "      <td>3.479998e+10</td>\n",
       "      <td>2.024931e+10</td>\n",
       "    </tr>\n",
       "    <tr>\n",
       "      <th>2020-12-13</th>\n",
       "      <td>1.370066e+10</td>\n",
       "      <td>3.857259e+10</td>\n",
       "      <td>1.764926e+10</td>\n",
       "    </tr>\n",
       "    <tr>\n",
       "      <th>2020-12-20</th>\n",
       "      <td>2.256797e+10</td>\n",
       "      <td>1.701093e+09</td>\n",
       "      <td>1.112809e+10</td>\n",
       "    </tr>\n",
       "    <tr>\n",
       "      <th>2020-12-27</th>\n",
       "      <td>9.096184e+09</td>\n",
       "      <td>2.680250e+08</td>\n",
       "      <td>1.174000e+09</td>\n",
       "    </tr>\n",
       "    <tr>\n",
       "      <th>2021-01-03</th>\n",
       "      <td>5.994958e+09</td>\n",
       "      <td>3.075540e+11</td>\n",
       "      <td>2.450090e+08</td>\n",
       "    </tr>\n",
       "  </tbody>\n",
       "</table>\n",
       "<p>157 rows × 3 columns</p>\n",
       "</div>"
      ],
      "text/plain": [
       "                      용역            공사            물품\n",
       "공고게시일자                                              \n",
       "2018-01-07  0.000000e+00  0.000000e+00  3.512000e+08\n",
       "2018-01-14  0.000000e+00  0.000000e+00  8.242800e+08\n",
       "2018-01-21  0.000000e+00  0.000000e+00  1.512180e+09\n",
       "2018-01-28  0.000000e+00  0.000000e+00  0.000000e+00\n",
       "2018-02-04  0.000000e+00  0.000000e+00  0.000000e+00\n",
       "...                  ...           ...           ...\n",
       "2020-12-06  8.335266e+09  3.479998e+10  2.024931e+10\n",
       "2020-12-13  1.370066e+10  3.857259e+10  1.764926e+10\n",
       "2020-12-20  2.256797e+10  1.701093e+09  1.112809e+10\n",
       "2020-12-27  9.096184e+09  2.680250e+08  1.174000e+09\n",
       "2021-01-03  5.994958e+09  3.075540e+11  2.450090e+08\n",
       "\n",
       "[157 rows x 3 columns]"
      ]
     },
     "execution_count": 173,
     "metadata": {},
     "output_type": "execute_result"
    }
   ],
   "source": [
    "df_total"
   ]
  },
  {
   "cell_type": "code",
   "execution_count": 80,
   "metadata": {},
   "outputs": [],
   "source": [
    "def t_square(data ,alpha: float = None):\n",
    "    \n",
    "    array_data = np.array(data)\n",
    "\n",
    "    \n",
    "    p = array_data.shape[1]\n",
    "    m = array_data.shape[0]\n",
    "    n = 1\n",
    "    col_mean= np.array(data.agg(['mean']))\n",
    "    mat_cov = data.cov()\n",
    "    mat_inv_s = np.linalg.inv(mat_cov)  # inverse S\n",
    "    \n",
    "    values = []\n",
    "    for sample in array_data:\n",
    "        dif = sample - col_mean\n",
    "        value = np.matmul(np.matmul(dif,mat_inv_s),dif.T).ravel().tolist()  # T-square\n",
    "        values.append(value)\n",
    "    \n",
    "    LCL = 0\n",
    "    UCL = ( ( p * (m+1) * (m-1) ) / (m * (m - p)) ) * f.ppf((1-alpha), p, m-p)\n",
    "            \n",
    "    return values, LCL, UCL "
   ]
  },
  {
   "cell_type": "code",
   "execution_count": 82,
   "metadata": {},
   "outputs": [],
   "source": [
    "data_point, t_lcl, t_ucl = t_square(df_total,alpha=0.05)"
   ]
  },
  {
   "cell_type": "code",
   "execution_count": 98,
   "metadata": {
    "scrolled": true
   },
   "outputs": [],
   "source": [
    "df_data = pd.DataFrame(data_point,columns=['data_point'])\n",
    "df_data['ucl'] = t_ucl\n",
    "df_data['lcl'] = t_lcl\n",
    "df_data['control'] = 0"
   ]
  },
  {
   "cell_type": "code",
   "execution_count": 107,
   "metadata": {},
   "outputs": [],
   "source": [
    "for i in range(len(df_data)):\n",
    "    if df_data.loc[i,'data_point'] > t_ucl:\n",
    "        df_data.loc[i,'control']  = 'red'\n",
    "    else:\n",
    "        df_data.loc[i,'control']  = 'blue'"
   ]
  },
  {
   "cell_type": "code",
   "execution_count": 108,
   "metadata": {},
   "outputs": [
    {
     "data": {
      "text/html": [
       "<div>\n",
       "<style scoped>\n",
       "    .dataframe tbody tr th:only-of-type {\n",
       "        vertical-align: middle;\n",
       "    }\n",
       "\n",
       "    .dataframe tbody tr th {\n",
       "        vertical-align: top;\n",
       "    }\n",
       "\n",
       "    .dataframe thead th {\n",
       "        text-align: right;\n",
       "    }\n",
       "</style>\n",
       "<table border=\"1\" class=\"dataframe\">\n",
       "  <thead>\n",
       "    <tr style=\"text-align: right;\">\n",
       "      <th></th>\n",
       "      <th>data_point</th>\n",
       "      <th>ucl</th>\n",
       "      <th>lcl</th>\n",
       "      <th>control</th>\n",
       "    </tr>\n",
       "  </thead>\n",
       "  <tbody>\n",
       "    <tr>\n",
       "      <th>0</th>\n",
       "      <td>1.195561</td>\n",
       "      <td>8.145301</td>\n",
       "      <td>0</td>\n",
       "      <td>blue</td>\n",
       "    </tr>\n",
       "    <tr>\n",
       "      <th>1</th>\n",
       "      <td>1.039315</td>\n",
       "      <td>8.145301</td>\n",
       "      <td>0</td>\n",
       "      <td>blue</td>\n",
       "    </tr>\n",
       "    <tr>\n",
       "      <th>2</th>\n",
       "      <td>0.851063</td>\n",
       "      <td>8.145301</td>\n",
       "      <td>0</td>\n",
       "      <td>blue</td>\n",
       "    </tr>\n",
       "    <tr>\n",
       "      <th>3</th>\n",
       "      <td>1.325670</td>\n",
       "      <td>8.145301</td>\n",
       "      <td>0</td>\n",
       "      <td>blue</td>\n",
       "    </tr>\n",
       "    <tr>\n",
       "      <th>4</th>\n",
       "      <td>1.325670</td>\n",
       "      <td>8.145301</td>\n",
       "      <td>0</td>\n",
       "      <td>blue</td>\n",
       "    </tr>\n",
       "    <tr>\n",
       "      <th>...</th>\n",
       "      <td>...</td>\n",
       "      <td>...</td>\n",
       "      <td>...</td>\n",
       "      <td>...</td>\n",
       "    </tr>\n",
       "    <tr>\n",
       "      <th>152</th>\n",
       "      <td>12.679868</td>\n",
       "      <td>8.145301</td>\n",
       "      <td>0</td>\n",
       "      <td>red</td>\n",
       "    </tr>\n",
       "    <tr>\n",
       "      <th>153</th>\n",
       "      <td>8.838013</td>\n",
       "      <td>8.145301</td>\n",
       "      <td>0</td>\n",
       "      <td>red</td>\n",
       "    </tr>\n",
       "    <tr>\n",
       "      <th>154</th>\n",
       "      <td>2.779383</td>\n",
       "      <td>8.145301</td>\n",
       "      <td>0</td>\n",
       "      <td>blue</td>\n",
       "    </tr>\n",
       "    <tr>\n",
       "      <th>155</th>\n",
       "      <td>0.682469</td>\n",
       "      <td>8.145301</td>\n",
       "      <td>0</td>\n",
       "      <td>blue</td>\n",
       "    </tr>\n",
       "    <tr>\n",
       "      <th>156</th>\n",
       "      <td>33.061610</td>\n",
       "      <td>8.145301</td>\n",
       "      <td>0</td>\n",
       "      <td>red</td>\n",
       "    </tr>\n",
       "  </tbody>\n",
       "</table>\n",
       "<p>157 rows × 4 columns</p>\n",
       "</div>"
      ],
      "text/plain": [
       "     data_point       ucl  lcl control\n",
       "0      1.195561  8.145301    0    blue\n",
       "1      1.039315  8.145301    0    blue\n",
       "2      0.851063  8.145301    0    blue\n",
       "3      1.325670  8.145301    0    blue\n",
       "4      1.325670  8.145301    0    blue\n",
       "..          ...       ...  ...     ...\n",
       "152   12.679868  8.145301    0     red\n",
       "153    8.838013  8.145301    0     red\n",
       "154    2.779383  8.145301    0    blue\n",
       "155    0.682469  8.145301    0    blue\n",
       "156   33.061610  8.145301    0     red\n",
       "\n",
       "[157 rows x 4 columns]"
      ]
     },
     "execution_count": 108,
     "metadata": {},
     "output_type": "execute_result"
    }
   ],
   "source": [
    "df_data"
   ]
  },
  {
   "cell_type": "code",
   "execution_count": 121,
   "metadata": {},
   "outputs": [
    {
     "data": {
      "application/vnd.plotly.v1+json": {
       "config": {
        "plotlyServerURL": "https://plot.ly"
       },
       "data": [
        {
         "marker": {
          "color": [
           "blue",
           "blue",
           "blue",
           "blue",
           "blue",
           "blue",
           "blue",
           "blue",
           "blue",
           "blue",
           "blue",
           "blue",
           "blue",
           "blue",
           "blue",
           "blue",
           "red",
           "blue",
           "red",
           "blue",
           "blue",
           "blue",
           "blue",
           "blue",
           "blue",
           "blue",
           "blue",
           "blue",
           "blue",
           "blue",
           "blue",
           "blue",
           "blue",
           "blue",
           "blue",
           "blue",
           "blue",
           "blue",
           "blue",
           "blue",
           "blue",
           "blue",
           "blue",
           "blue",
           "blue",
           "blue",
           "blue",
           "blue",
           "blue",
           "blue",
           "blue",
           "blue",
           "blue",
           "blue",
           "blue",
           "blue",
           "blue",
           "blue",
           "blue",
           "blue",
           "blue",
           "blue",
           "blue",
           "blue",
           "blue",
           "blue",
           "blue",
           "blue",
           "blue",
           "blue",
           "blue",
           "blue",
           "blue",
           "blue",
           "red",
           "blue",
           "blue",
           "blue",
           "blue",
           "blue",
           "blue",
           "blue",
           "blue",
           "blue",
           "blue",
           "blue",
           "blue",
           "blue",
           "blue",
           "blue",
           "blue",
           "blue",
           "blue",
           "blue",
           "blue",
           "blue",
           "blue",
           "blue",
           "blue",
           "blue",
           "red",
           "blue",
           "blue",
           "blue",
           "blue",
           "blue",
           "blue",
           "blue",
           "red",
           "blue",
           "blue",
           "red",
           "blue",
           "blue",
           "blue",
           "blue",
           "blue",
           "blue",
           "blue",
           "blue",
           "blue",
           "blue",
           "blue",
           "blue",
           "blue",
           "blue",
           "red",
           "blue",
           "blue",
           "red",
           "blue",
           "blue",
           "blue",
           "blue",
           "blue",
           "blue",
           "blue",
           "blue",
           "blue",
           "blue",
           "blue",
           "blue",
           "blue",
           "blue",
           "blue",
           "red",
           "blue",
           "blue",
           "blue",
           "blue",
           "blue",
           "blue",
           "red",
           "red",
           "blue",
           "blue",
           "red"
          ],
          "size": 5
         },
         "mode": "lines+markers",
         "name": "Data_point",
         "type": "scatter",
         "x": [
          0,
          1,
          2,
          3,
          4,
          5,
          6,
          7,
          8,
          9,
          10,
          11,
          12,
          13,
          14,
          15,
          16,
          17,
          18,
          19,
          20,
          21,
          22,
          23,
          24,
          25,
          26,
          27,
          28,
          29,
          30,
          31,
          32,
          33,
          34,
          35,
          36,
          37,
          38,
          39,
          40,
          41,
          42,
          43,
          44,
          45,
          46,
          47,
          48,
          49,
          50,
          51,
          52,
          53,
          54,
          55,
          56,
          57,
          58,
          59,
          60,
          61,
          62,
          63,
          64,
          65,
          66,
          67,
          68,
          69,
          70,
          71,
          72,
          73,
          74,
          75,
          76,
          77,
          78,
          79,
          80,
          81,
          82,
          83,
          84,
          85,
          86,
          87,
          88,
          89,
          90,
          91,
          92,
          93,
          94,
          95,
          96,
          97,
          98,
          99,
          100,
          101,
          102,
          103,
          104,
          105,
          106,
          107,
          108,
          109,
          110,
          111,
          112,
          113,
          114,
          115,
          116,
          117,
          118,
          119,
          120,
          121,
          122,
          123,
          124,
          125,
          126,
          127,
          128,
          129,
          130,
          131,
          132,
          133,
          134,
          135,
          136,
          137,
          138,
          139,
          140,
          141,
          142,
          143,
          144,
          145,
          146,
          147,
          148,
          149,
          150,
          151,
          152,
          153,
          154,
          155,
          156
         ],
         "y": [
          1.1955610439373792,
          1.03931472812745,
          0.8510632961593826,
          1.3256699265669467,
          1.3256699265669467,
          1.3256699265669467,
          1.3256699265669467,
          1.165258207107246,
          1.3256699265669467,
          1.3256699265669467,
          1.2006238305824237,
          1.3256699265669467,
          0.7597433679514896,
          0.7470751591181453,
          2.0268117942383466,
          0.15339082881546473,
          24.288035731793755,
          3.9573147682280663,
          103.66661926562648,
          0.3400523862599226,
          0.6492417687587512,
          1.626485834248643,
          5.495647381933825,
          3.6911533471943914,
          0.7370689320198738,
          0.8296568476307997,
          2.3628989069501705,
          0.825851705659211,
          0.2767386003780993,
          0.575068828496035,
          3.7521709490057726,
          5.757606282605629,
          0.618244186396221,
          0.67843160550838,
          0.6348570342345381,
          0.2956415754520911,
          0.37767047997653547,
          0.2567708092234654,
          0.9253628878294653,
          0.7457069296701058,
          0.6453738461655949,
          0.8825332657885054,
          0.7474971267255905,
          2.461306568144776,
          0.5920851789170434,
          0.6447415434297581,
          2.0422738045081106,
          6.746668927938141,
          0.5573268083825678,
          5.734712373921496,
          0.9973089917707044,
          0.745985944690766,
          0.9381526415973751,
          0.5209292343116788,
          0.5734825049473894,
          2.010346428845146,
          2.30340545214664,
          0.7062567257059476,
          2.701715375087461,
          0.26566748068092505,
          2.0720499643556605,
          0.40370767145308173,
          0.4053594151842743,
          0.4489557513240699,
          0.5183637903961268,
          0.369934465275639,
          1.0590360000425294,
          0.1967717305357581,
          0.18663956730404932,
          0.40714544684499687,
          0.1992374601175851,
          0.7248897966555412,
          0.37609922704036275,
          0.4597840270260185,
          16.57076614274875,
          0.16738375619050083,
          0.3895582237407097,
          0.37301171251896165,
          0.08838223130090705,
          0.22391801196979888,
          0.3187410050628443,
          2.0304891950731663,
          0.6111589567548332,
          0.31248134102477576,
          0.6580969602514464,
          0.39093486833568886,
          0.2682993918047331,
          0.4192096339698163,
          0.9038320278334819,
          0.15089887886981157,
          0.06643730213444793,
          0.15325770425172555,
          0.5139557771686509,
          7.353158311837433,
          0.3075792458923318,
          0.516187263714695,
          0.5454233151999174,
          0.38115625763456007,
          2.0969092579864594,
          0.31779742236102176,
          16.602156065778942,
          0.7442581372318609,
          1.947209971067669,
          0.9126306033053779,
          0.2621547092252593,
          0.7123385051950787,
          0.3479633043456562,
          0.9408397408914977,
          25.02997203627461,
          0.9340576762555397,
          0.25166875843196024,
          33.2325495588446,
          0.5453531372972129,
          0.3713802779732661,
          0.025013781279411715,
          0.06836557892152834,
          0.43500043027620816,
          0.5747839229879245,
          0.7335888152880954,
          3.55635596746881,
          0.3326276149329196,
          0.25666452291445496,
          0.2582835565629047,
          0.5224239359470452,
          0.8686334937714265,
          0.9962574621800953,
          13.609053029975366,
          0.2691624425463375,
          0.7401570529728699,
          8.464431540237598,
          0.25658973181715594,
          0.2627383589332835,
          0.11334380563168905,
          0.15940763193120164,
          0.36903423882456865,
          1.6579742713361914,
          1.0953959451541382,
          0.43973203605689726,
          0.9362120286442293,
          0.5292791148082446,
          6.698222344488385,
          0.04462041593199774,
          0.5575553016398903,
          0.8265140221514466,
          4.705011454453704,
          9.310126772892572,
          0.7228148989300575,
          5.452151819361192,
          0.23181879973899475,
          0.7035954073135251,
          0.7433641855605716,
          1.0402214232573508,
          12.67986810584482,
          8.838013080642453,
          2.779382907358668,
          0.6824691408474287,
          33.061609606088965
         ]
        },
        {
         "marker": {
          "color": "gray"
         },
         "mode": "lines",
         "name": "LCL",
         "type": "scatter",
         "x": [
          0,
          1,
          2,
          3,
          4,
          5,
          6,
          7,
          8,
          9,
          10,
          11,
          12,
          13,
          14,
          15,
          16,
          17,
          18,
          19,
          20,
          21,
          22,
          23,
          24,
          25,
          26,
          27,
          28,
          29,
          30,
          31,
          32,
          33,
          34,
          35,
          36,
          37,
          38,
          39,
          40,
          41,
          42,
          43,
          44,
          45,
          46,
          47,
          48,
          49,
          50,
          51,
          52,
          53,
          54,
          55,
          56,
          57,
          58,
          59,
          60,
          61,
          62,
          63,
          64,
          65,
          66,
          67,
          68,
          69,
          70,
          71,
          72,
          73,
          74,
          75,
          76,
          77,
          78,
          79,
          80,
          81,
          82,
          83,
          84,
          85,
          86,
          87,
          88,
          89,
          90,
          91,
          92,
          93,
          94,
          95,
          96,
          97,
          98,
          99,
          100,
          101,
          102,
          103,
          104,
          105,
          106,
          107,
          108,
          109,
          110,
          111,
          112,
          113,
          114,
          115,
          116,
          117,
          118,
          119,
          120,
          121,
          122,
          123,
          124,
          125,
          126,
          127,
          128,
          129,
          130,
          131,
          132,
          133,
          134,
          135,
          136,
          137,
          138,
          139,
          140,
          141,
          142,
          143,
          144,
          145,
          146,
          147,
          148,
          149,
          150,
          151,
          152,
          153,
          154,
          155,
          156
         ],
         "y": [
          0,
          0,
          0,
          0,
          0,
          0,
          0,
          0,
          0,
          0,
          0,
          0,
          0,
          0,
          0,
          0,
          0,
          0,
          0,
          0,
          0,
          0,
          0,
          0,
          0,
          0,
          0,
          0,
          0,
          0,
          0,
          0,
          0,
          0,
          0,
          0,
          0,
          0,
          0,
          0,
          0,
          0,
          0,
          0,
          0,
          0,
          0,
          0,
          0,
          0,
          0,
          0,
          0,
          0,
          0,
          0,
          0,
          0,
          0,
          0,
          0,
          0,
          0,
          0,
          0,
          0,
          0,
          0,
          0,
          0,
          0,
          0,
          0,
          0,
          0,
          0,
          0,
          0,
          0,
          0,
          0,
          0,
          0,
          0,
          0,
          0,
          0,
          0,
          0,
          0,
          0,
          0,
          0,
          0,
          0,
          0,
          0,
          0,
          0,
          0,
          0,
          0,
          0,
          0,
          0,
          0,
          0,
          0,
          0,
          0,
          0,
          0,
          0,
          0,
          0,
          0,
          0,
          0,
          0,
          0,
          0,
          0,
          0,
          0,
          0,
          0,
          0,
          0,
          0,
          0,
          0,
          0,
          0,
          0,
          0,
          0,
          0,
          0,
          0,
          0,
          0,
          0,
          0,
          0,
          0,
          0,
          0,
          0,
          0,
          0,
          0,
          0,
          0,
          0,
          0,
          0,
          0
         ]
        },
        {
         "mode": "lines",
         "name": "UCL",
         "type": "scatter",
         "x": [
          0,
          1,
          2,
          3,
          4,
          5,
          6,
          7,
          8,
          9,
          10,
          11,
          12,
          13,
          14,
          15,
          16,
          17,
          18,
          19,
          20,
          21,
          22,
          23,
          24,
          25,
          26,
          27,
          28,
          29,
          30,
          31,
          32,
          33,
          34,
          35,
          36,
          37,
          38,
          39,
          40,
          41,
          42,
          43,
          44,
          45,
          46,
          47,
          48,
          49,
          50,
          51,
          52,
          53,
          54,
          55,
          56,
          57,
          58,
          59,
          60,
          61,
          62,
          63,
          64,
          65,
          66,
          67,
          68,
          69,
          70,
          71,
          72,
          73,
          74,
          75,
          76,
          77,
          78,
          79,
          80,
          81,
          82,
          83,
          84,
          85,
          86,
          87,
          88,
          89,
          90,
          91,
          92,
          93,
          94,
          95,
          96,
          97,
          98,
          99,
          100,
          101,
          102,
          103,
          104,
          105,
          106,
          107,
          108,
          109,
          110,
          111,
          112,
          113,
          114,
          115,
          116,
          117,
          118,
          119,
          120,
          121,
          122,
          123,
          124,
          125,
          126,
          127,
          128,
          129,
          130,
          131,
          132,
          133,
          134,
          135,
          136,
          137,
          138,
          139,
          140,
          141,
          142,
          143,
          144,
          145,
          146,
          147,
          148,
          149,
          150,
          151,
          152,
          153,
          154,
          155,
          156
         ],
         "y": [
          8.145301055449902,
          8.145301055449902,
          8.145301055449902,
          8.145301055449902,
          8.145301055449902,
          8.145301055449902,
          8.145301055449902,
          8.145301055449902,
          8.145301055449902,
          8.145301055449902,
          8.145301055449902,
          8.145301055449902,
          8.145301055449902,
          8.145301055449902,
          8.145301055449902,
          8.145301055449902,
          8.145301055449902,
          8.145301055449902,
          8.145301055449902,
          8.145301055449902,
          8.145301055449902,
          8.145301055449902,
          8.145301055449902,
          8.145301055449902,
          8.145301055449902,
          8.145301055449902,
          8.145301055449902,
          8.145301055449902,
          8.145301055449902,
          8.145301055449902,
          8.145301055449902,
          8.145301055449902,
          8.145301055449902,
          8.145301055449902,
          8.145301055449902,
          8.145301055449902,
          8.145301055449902,
          8.145301055449902,
          8.145301055449902,
          8.145301055449902,
          8.145301055449902,
          8.145301055449902,
          8.145301055449902,
          8.145301055449902,
          8.145301055449902,
          8.145301055449902,
          8.145301055449902,
          8.145301055449902,
          8.145301055449902,
          8.145301055449902,
          8.145301055449902,
          8.145301055449902,
          8.145301055449902,
          8.145301055449902,
          8.145301055449902,
          8.145301055449902,
          8.145301055449902,
          8.145301055449902,
          8.145301055449902,
          8.145301055449902,
          8.145301055449902,
          8.145301055449902,
          8.145301055449902,
          8.145301055449902,
          8.145301055449902,
          8.145301055449902,
          8.145301055449902,
          8.145301055449902,
          8.145301055449902,
          8.145301055449902,
          8.145301055449902,
          8.145301055449902,
          8.145301055449902,
          8.145301055449902,
          8.145301055449902,
          8.145301055449902,
          8.145301055449902,
          8.145301055449902,
          8.145301055449902,
          8.145301055449902,
          8.145301055449902,
          8.145301055449902,
          8.145301055449902,
          8.145301055449902,
          8.145301055449902,
          8.145301055449902,
          8.145301055449902,
          8.145301055449902,
          8.145301055449902,
          8.145301055449902,
          8.145301055449902,
          8.145301055449902,
          8.145301055449902,
          8.145301055449902,
          8.145301055449902,
          8.145301055449902,
          8.145301055449902,
          8.145301055449902,
          8.145301055449902,
          8.145301055449902,
          8.145301055449902,
          8.145301055449902,
          8.145301055449902,
          8.145301055449902,
          8.145301055449902,
          8.145301055449902,
          8.145301055449902,
          8.145301055449902,
          8.145301055449902,
          8.145301055449902,
          8.145301055449902,
          8.145301055449902,
          8.145301055449902,
          8.145301055449902,
          8.145301055449902,
          8.145301055449902,
          8.145301055449902,
          8.145301055449902,
          8.145301055449902,
          8.145301055449902,
          8.145301055449902,
          8.145301055449902,
          8.145301055449902,
          8.145301055449902,
          8.145301055449902,
          8.145301055449902,
          8.145301055449902,
          8.145301055449902,
          8.145301055449902,
          8.145301055449902,
          8.145301055449902,
          8.145301055449902,
          8.145301055449902,
          8.145301055449902,
          8.145301055449902,
          8.145301055449902,
          8.145301055449902,
          8.145301055449902,
          8.145301055449902,
          8.145301055449902,
          8.145301055449902,
          8.145301055449902,
          8.145301055449902,
          8.145301055449902,
          8.145301055449902,
          8.145301055449902,
          8.145301055449902,
          8.145301055449902,
          8.145301055449902,
          8.145301055449902,
          8.145301055449902,
          8.145301055449902,
          8.145301055449902,
          8.145301055449902,
          8.145301055449902,
          8.145301055449902,
          8.145301055449902
         ]
        }
       ],
       "layout": {
        "template": {
         "data": {
          "bar": [
           {
            "error_x": {
             "color": "#2a3f5f"
            },
            "error_y": {
             "color": "#2a3f5f"
            },
            "marker": {
             "line": {
              "color": "#E5ECF6",
              "width": 0.5
             },
             "pattern": {
              "fillmode": "overlay",
              "size": 10,
              "solidity": 0.2
             }
            },
            "type": "bar"
           }
          ],
          "barpolar": [
           {
            "marker": {
             "line": {
              "color": "#E5ECF6",
              "width": 0.5
             },
             "pattern": {
              "fillmode": "overlay",
              "size": 10,
              "solidity": 0.2
             }
            },
            "type": "barpolar"
           }
          ],
          "carpet": [
           {
            "aaxis": {
             "endlinecolor": "#2a3f5f",
             "gridcolor": "white",
             "linecolor": "white",
             "minorgridcolor": "white",
             "startlinecolor": "#2a3f5f"
            },
            "baxis": {
             "endlinecolor": "#2a3f5f",
             "gridcolor": "white",
             "linecolor": "white",
             "minorgridcolor": "white",
             "startlinecolor": "#2a3f5f"
            },
            "type": "carpet"
           }
          ],
          "choropleth": [
           {
            "colorbar": {
             "outlinewidth": 0,
             "ticks": ""
            },
            "type": "choropleth"
           }
          ],
          "contour": [
           {
            "colorbar": {
             "outlinewidth": 0,
             "ticks": ""
            },
            "colorscale": [
             [
              0,
              "#0d0887"
             ],
             [
              0.1111111111111111,
              "#46039f"
             ],
             [
              0.2222222222222222,
              "#7201a8"
             ],
             [
              0.3333333333333333,
              "#9c179e"
             ],
             [
              0.4444444444444444,
              "#bd3786"
             ],
             [
              0.5555555555555556,
              "#d8576b"
             ],
             [
              0.6666666666666666,
              "#ed7953"
             ],
             [
              0.7777777777777778,
              "#fb9f3a"
             ],
             [
              0.8888888888888888,
              "#fdca26"
             ],
             [
              1,
              "#f0f921"
             ]
            ],
            "type": "contour"
           }
          ],
          "contourcarpet": [
           {
            "colorbar": {
             "outlinewidth": 0,
             "ticks": ""
            },
            "type": "contourcarpet"
           }
          ],
          "heatmap": [
           {
            "colorbar": {
             "outlinewidth": 0,
             "ticks": ""
            },
            "colorscale": [
             [
              0,
              "#0d0887"
             ],
             [
              0.1111111111111111,
              "#46039f"
             ],
             [
              0.2222222222222222,
              "#7201a8"
             ],
             [
              0.3333333333333333,
              "#9c179e"
             ],
             [
              0.4444444444444444,
              "#bd3786"
             ],
             [
              0.5555555555555556,
              "#d8576b"
             ],
             [
              0.6666666666666666,
              "#ed7953"
             ],
             [
              0.7777777777777778,
              "#fb9f3a"
             ],
             [
              0.8888888888888888,
              "#fdca26"
             ],
             [
              1,
              "#f0f921"
             ]
            ],
            "type": "heatmap"
           }
          ],
          "heatmapgl": [
           {
            "colorbar": {
             "outlinewidth": 0,
             "ticks": ""
            },
            "colorscale": [
             [
              0,
              "#0d0887"
             ],
             [
              0.1111111111111111,
              "#46039f"
             ],
             [
              0.2222222222222222,
              "#7201a8"
             ],
             [
              0.3333333333333333,
              "#9c179e"
             ],
             [
              0.4444444444444444,
              "#bd3786"
             ],
             [
              0.5555555555555556,
              "#d8576b"
             ],
             [
              0.6666666666666666,
              "#ed7953"
             ],
             [
              0.7777777777777778,
              "#fb9f3a"
             ],
             [
              0.8888888888888888,
              "#fdca26"
             ],
             [
              1,
              "#f0f921"
             ]
            ],
            "type": "heatmapgl"
           }
          ],
          "histogram": [
           {
            "marker": {
             "pattern": {
              "fillmode": "overlay",
              "size": 10,
              "solidity": 0.2
             }
            },
            "type": "histogram"
           }
          ],
          "histogram2d": [
           {
            "colorbar": {
             "outlinewidth": 0,
             "ticks": ""
            },
            "colorscale": [
             [
              0,
              "#0d0887"
             ],
             [
              0.1111111111111111,
              "#46039f"
             ],
             [
              0.2222222222222222,
              "#7201a8"
             ],
             [
              0.3333333333333333,
              "#9c179e"
             ],
             [
              0.4444444444444444,
              "#bd3786"
             ],
             [
              0.5555555555555556,
              "#d8576b"
             ],
             [
              0.6666666666666666,
              "#ed7953"
             ],
             [
              0.7777777777777778,
              "#fb9f3a"
             ],
             [
              0.8888888888888888,
              "#fdca26"
             ],
             [
              1,
              "#f0f921"
             ]
            ],
            "type": "histogram2d"
           }
          ],
          "histogram2dcontour": [
           {
            "colorbar": {
             "outlinewidth": 0,
             "ticks": ""
            },
            "colorscale": [
             [
              0,
              "#0d0887"
             ],
             [
              0.1111111111111111,
              "#46039f"
             ],
             [
              0.2222222222222222,
              "#7201a8"
             ],
             [
              0.3333333333333333,
              "#9c179e"
             ],
             [
              0.4444444444444444,
              "#bd3786"
             ],
             [
              0.5555555555555556,
              "#d8576b"
             ],
             [
              0.6666666666666666,
              "#ed7953"
             ],
             [
              0.7777777777777778,
              "#fb9f3a"
             ],
             [
              0.8888888888888888,
              "#fdca26"
             ],
             [
              1,
              "#f0f921"
             ]
            ],
            "type": "histogram2dcontour"
           }
          ],
          "mesh3d": [
           {
            "colorbar": {
             "outlinewidth": 0,
             "ticks": ""
            },
            "type": "mesh3d"
           }
          ],
          "parcoords": [
           {
            "line": {
             "colorbar": {
              "outlinewidth": 0,
              "ticks": ""
             }
            },
            "type": "parcoords"
           }
          ],
          "pie": [
           {
            "automargin": true,
            "type": "pie"
           }
          ],
          "scatter": [
           {
            "marker": {
             "colorbar": {
              "outlinewidth": 0,
              "ticks": ""
             }
            },
            "type": "scatter"
           }
          ],
          "scatter3d": [
           {
            "line": {
             "colorbar": {
              "outlinewidth": 0,
              "ticks": ""
             }
            },
            "marker": {
             "colorbar": {
              "outlinewidth": 0,
              "ticks": ""
             }
            },
            "type": "scatter3d"
           }
          ],
          "scattercarpet": [
           {
            "marker": {
             "colorbar": {
              "outlinewidth": 0,
              "ticks": ""
             }
            },
            "type": "scattercarpet"
           }
          ],
          "scattergeo": [
           {
            "marker": {
             "colorbar": {
              "outlinewidth": 0,
              "ticks": ""
             }
            },
            "type": "scattergeo"
           }
          ],
          "scattergl": [
           {
            "marker": {
             "colorbar": {
              "outlinewidth": 0,
              "ticks": ""
             }
            },
            "type": "scattergl"
           }
          ],
          "scattermapbox": [
           {
            "marker": {
             "colorbar": {
              "outlinewidth": 0,
              "ticks": ""
             }
            },
            "type": "scattermapbox"
           }
          ],
          "scatterpolar": [
           {
            "marker": {
             "colorbar": {
              "outlinewidth": 0,
              "ticks": ""
             }
            },
            "type": "scatterpolar"
           }
          ],
          "scatterpolargl": [
           {
            "marker": {
             "colorbar": {
              "outlinewidth": 0,
              "ticks": ""
             }
            },
            "type": "scatterpolargl"
           }
          ],
          "scatterternary": [
           {
            "marker": {
             "colorbar": {
              "outlinewidth": 0,
              "ticks": ""
             }
            },
            "type": "scatterternary"
           }
          ],
          "surface": [
           {
            "colorbar": {
             "outlinewidth": 0,
             "ticks": ""
            },
            "colorscale": [
             [
              0,
              "#0d0887"
             ],
             [
              0.1111111111111111,
              "#46039f"
             ],
             [
              0.2222222222222222,
              "#7201a8"
             ],
             [
              0.3333333333333333,
              "#9c179e"
             ],
             [
              0.4444444444444444,
              "#bd3786"
             ],
             [
              0.5555555555555556,
              "#d8576b"
             ],
             [
              0.6666666666666666,
              "#ed7953"
             ],
             [
              0.7777777777777778,
              "#fb9f3a"
             ],
             [
              0.8888888888888888,
              "#fdca26"
             ],
             [
              1,
              "#f0f921"
             ]
            ],
            "type": "surface"
           }
          ],
          "table": [
           {
            "cells": {
             "fill": {
              "color": "#EBF0F8"
             },
             "line": {
              "color": "white"
             }
            },
            "header": {
             "fill": {
              "color": "#C8D4E3"
             },
             "line": {
              "color": "white"
             }
            },
            "type": "table"
           }
          ]
         },
         "layout": {
          "annotationdefaults": {
           "arrowcolor": "#2a3f5f",
           "arrowhead": 0,
           "arrowwidth": 1
          },
          "autotypenumbers": "strict",
          "coloraxis": {
           "colorbar": {
            "outlinewidth": 0,
            "ticks": ""
           }
          },
          "colorscale": {
           "diverging": [
            [
             0,
             "#8e0152"
            ],
            [
             0.1,
             "#c51b7d"
            ],
            [
             0.2,
             "#de77ae"
            ],
            [
             0.3,
             "#f1b6da"
            ],
            [
             0.4,
             "#fde0ef"
            ],
            [
             0.5,
             "#f7f7f7"
            ],
            [
             0.6,
             "#e6f5d0"
            ],
            [
             0.7,
             "#b8e186"
            ],
            [
             0.8,
             "#7fbc41"
            ],
            [
             0.9,
             "#4d9221"
            ],
            [
             1,
             "#276419"
            ]
           ],
           "sequential": [
            [
             0,
             "#0d0887"
            ],
            [
             0.1111111111111111,
             "#46039f"
            ],
            [
             0.2222222222222222,
             "#7201a8"
            ],
            [
             0.3333333333333333,
             "#9c179e"
            ],
            [
             0.4444444444444444,
             "#bd3786"
            ],
            [
             0.5555555555555556,
             "#d8576b"
            ],
            [
             0.6666666666666666,
             "#ed7953"
            ],
            [
             0.7777777777777778,
             "#fb9f3a"
            ],
            [
             0.8888888888888888,
             "#fdca26"
            ],
            [
             1,
             "#f0f921"
            ]
           ],
           "sequentialminus": [
            [
             0,
             "#0d0887"
            ],
            [
             0.1111111111111111,
             "#46039f"
            ],
            [
             0.2222222222222222,
             "#7201a8"
            ],
            [
             0.3333333333333333,
             "#9c179e"
            ],
            [
             0.4444444444444444,
             "#bd3786"
            ],
            [
             0.5555555555555556,
             "#d8576b"
            ],
            [
             0.6666666666666666,
             "#ed7953"
            ],
            [
             0.7777777777777778,
             "#fb9f3a"
            ],
            [
             0.8888888888888888,
             "#fdca26"
            ],
            [
             1,
             "#f0f921"
            ]
           ]
          },
          "colorway": [
           "#636efa",
           "#EF553B",
           "#00cc96",
           "#ab63fa",
           "#FFA15A",
           "#19d3f3",
           "#FF6692",
           "#B6E880",
           "#FF97FF",
           "#FECB52"
          ],
          "font": {
           "color": "#2a3f5f"
          },
          "geo": {
           "bgcolor": "white",
           "lakecolor": "white",
           "landcolor": "#E5ECF6",
           "showlakes": true,
           "showland": true,
           "subunitcolor": "white"
          },
          "hoverlabel": {
           "align": "left"
          },
          "hovermode": "closest",
          "mapbox": {
           "style": "light"
          },
          "paper_bgcolor": "white",
          "plot_bgcolor": "#E5ECF6",
          "polar": {
           "angularaxis": {
            "gridcolor": "white",
            "linecolor": "white",
            "ticks": ""
           },
           "bgcolor": "#E5ECF6",
           "radialaxis": {
            "gridcolor": "white",
            "linecolor": "white",
            "ticks": ""
           }
          },
          "scene": {
           "xaxis": {
            "backgroundcolor": "#E5ECF6",
            "gridcolor": "white",
            "gridwidth": 2,
            "linecolor": "white",
            "showbackground": true,
            "ticks": "",
            "zerolinecolor": "white"
           },
           "yaxis": {
            "backgroundcolor": "#E5ECF6",
            "gridcolor": "white",
            "gridwidth": 2,
            "linecolor": "white",
            "showbackground": true,
            "ticks": "",
            "zerolinecolor": "white"
           },
           "zaxis": {
            "backgroundcolor": "#E5ECF6",
            "gridcolor": "white",
            "gridwidth": 2,
            "linecolor": "white",
            "showbackground": true,
            "ticks": "",
            "zerolinecolor": "white"
           }
          },
          "shapedefaults": {
           "line": {
            "color": "#2a3f5f"
           }
          },
          "ternary": {
           "aaxis": {
            "gridcolor": "white",
            "linecolor": "white",
            "ticks": ""
           },
           "baxis": {
            "gridcolor": "white",
            "linecolor": "white",
            "ticks": ""
           },
           "bgcolor": "#E5ECF6",
           "caxis": {
            "gridcolor": "white",
            "linecolor": "white",
            "ticks": ""
           }
          },
          "title": {
           "x": 0.05
          },
          "xaxis": {
           "automargin": true,
           "gridcolor": "white",
           "linecolor": "white",
           "ticks": "",
           "title": {
            "standoff": 15
           },
           "zerolinecolor": "white",
           "zerolinewidth": 2
          },
          "yaxis": {
           "automargin": true,
           "gridcolor": "white",
           "linecolor": "white",
           "ticks": "",
           "title": {
            "standoff": 15
           },
           "zerolinecolor": "white",
           "zerolinewidth": 2
          }
         }
        },
        "title": {
         "text": "물품 / 용역 / 공사의 통합 T_square 관리도 (Not bootstraps)"
        }
       }
      },
      "text/html": [
       "<div>                            <div id=\"ff31fb19-d048-4dc1-8e89-c96a166e698e\" class=\"plotly-graph-div\" style=\"height:525px; width:100%;\"></div>            <script type=\"text/javascript\">                require([\"plotly\"], function(Plotly) {                    window.PLOTLYENV=window.PLOTLYENV || {};                                    if (document.getElementById(\"ff31fb19-d048-4dc1-8e89-c96a166e698e\")) {                    Plotly.newPlot(                        \"ff31fb19-d048-4dc1-8e89-c96a166e698e\",                        [{\"marker\":{\"color\":[\"blue\",\"blue\",\"blue\",\"blue\",\"blue\",\"blue\",\"blue\",\"blue\",\"blue\",\"blue\",\"blue\",\"blue\",\"blue\",\"blue\",\"blue\",\"blue\",\"red\",\"blue\",\"red\",\"blue\",\"blue\",\"blue\",\"blue\",\"blue\",\"blue\",\"blue\",\"blue\",\"blue\",\"blue\",\"blue\",\"blue\",\"blue\",\"blue\",\"blue\",\"blue\",\"blue\",\"blue\",\"blue\",\"blue\",\"blue\",\"blue\",\"blue\",\"blue\",\"blue\",\"blue\",\"blue\",\"blue\",\"blue\",\"blue\",\"blue\",\"blue\",\"blue\",\"blue\",\"blue\",\"blue\",\"blue\",\"blue\",\"blue\",\"blue\",\"blue\",\"blue\",\"blue\",\"blue\",\"blue\",\"blue\",\"blue\",\"blue\",\"blue\",\"blue\",\"blue\",\"blue\",\"blue\",\"blue\",\"blue\",\"red\",\"blue\",\"blue\",\"blue\",\"blue\",\"blue\",\"blue\",\"blue\",\"blue\",\"blue\",\"blue\",\"blue\",\"blue\",\"blue\",\"blue\",\"blue\",\"blue\",\"blue\",\"blue\",\"blue\",\"blue\",\"blue\",\"blue\",\"blue\",\"blue\",\"blue\",\"red\",\"blue\",\"blue\",\"blue\",\"blue\",\"blue\",\"blue\",\"blue\",\"red\",\"blue\",\"blue\",\"red\",\"blue\",\"blue\",\"blue\",\"blue\",\"blue\",\"blue\",\"blue\",\"blue\",\"blue\",\"blue\",\"blue\",\"blue\",\"blue\",\"blue\",\"red\",\"blue\",\"blue\",\"red\",\"blue\",\"blue\",\"blue\",\"blue\",\"blue\",\"blue\",\"blue\",\"blue\",\"blue\",\"blue\",\"blue\",\"blue\",\"blue\",\"blue\",\"blue\",\"red\",\"blue\",\"blue\",\"blue\",\"blue\",\"blue\",\"blue\",\"red\",\"red\",\"blue\",\"blue\",\"red\"],\"size\":5},\"mode\":\"lines+markers\",\"name\":\"Data_point\",\"type\":\"scatter\",\"x\":[0,1,2,3,4,5,6,7,8,9,10,11,12,13,14,15,16,17,18,19,20,21,22,23,24,25,26,27,28,29,30,31,32,33,34,35,36,37,38,39,40,41,42,43,44,45,46,47,48,49,50,51,52,53,54,55,56,57,58,59,60,61,62,63,64,65,66,67,68,69,70,71,72,73,74,75,76,77,78,79,80,81,82,83,84,85,86,87,88,89,90,91,92,93,94,95,96,97,98,99,100,101,102,103,104,105,106,107,108,109,110,111,112,113,114,115,116,117,118,119,120,121,122,123,124,125,126,127,128,129,130,131,132,133,134,135,136,137,138,139,140,141,142,143,144,145,146,147,148,149,150,151,152,153,154,155,156],\"y\":[1.1955610439373792,1.03931472812745,0.8510632961593826,1.3256699265669467,1.3256699265669467,1.3256699265669467,1.3256699265669467,1.165258207107246,1.3256699265669467,1.3256699265669467,1.2006238305824237,1.3256699265669467,0.7597433679514896,0.7470751591181453,2.0268117942383466,0.15339082881546473,24.288035731793755,3.9573147682280663,103.66661926562648,0.3400523862599226,0.6492417687587512,1.626485834248643,5.495647381933825,3.6911533471943914,0.7370689320198738,0.8296568476307997,2.3628989069501705,0.825851705659211,0.2767386003780993,0.575068828496035,3.7521709490057726,5.757606282605629,0.618244186396221,0.67843160550838,0.6348570342345381,0.2956415754520911,0.37767047997653547,0.2567708092234654,0.9253628878294653,0.7457069296701058,0.6453738461655949,0.8825332657885054,0.7474971267255905,2.461306568144776,0.5920851789170434,0.6447415434297581,2.0422738045081106,6.746668927938141,0.5573268083825678,5.734712373921496,0.9973089917707044,0.745985944690766,0.9381526415973751,0.5209292343116788,0.5734825049473894,2.010346428845146,2.30340545214664,0.7062567257059476,2.701715375087461,0.26566748068092505,2.0720499643556605,0.40370767145308173,0.4053594151842743,0.4489557513240699,0.5183637903961268,0.369934465275639,1.0590360000425294,0.1967717305357581,0.18663956730404932,0.40714544684499687,0.1992374601175851,0.7248897966555412,0.37609922704036275,0.4597840270260185,16.57076614274875,0.16738375619050083,0.3895582237407097,0.37301171251896165,0.08838223130090705,0.22391801196979888,0.3187410050628443,2.0304891950731663,0.6111589567548332,0.31248134102477576,0.6580969602514464,0.39093486833568886,0.2682993918047331,0.4192096339698163,0.9038320278334819,0.15089887886981157,0.06643730213444793,0.15325770425172555,0.5139557771686509,7.353158311837433,0.3075792458923318,0.516187263714695,0.5454233151999174,0.38115625763456007,2.0969092579864594,0.31779742236102176,16.602156065778942,0.7442581372318609,1.947209971067669,0.9126306033053779,0.2621547092252593,0.7123385051950787,0.3479633043456562,0.9408397408914977,25.02997203627461,0.9340576762555397,0.25166875843196024,33.2325495588446,0.5453531372972129,0.3713802779732661,0.025013781279411715,0.06836557892152834,0.43500043027620816,0.5747839229879245,0.7335888152880954,3.55635596746881,0.3326276149329196,0.25666452291445496,0.2582835565629047,0.5224239359470452,0.8686334937714265,0.9962574621800953,13.609053029975366,0.2691624425463375,0.7401570529728699,8.464431540237598,0.25658973181715594,0.2627383589332835,0.11334380563168905,0.15940763193120164,0.36903423882456865,1.6579742713361914,1.0953959451541382,0.43973203605689726,0.9362120286442293,0.5292791148082446,6.698222344488385,0.04462041593199774,0.5575553016398903,0.8265140221514466,4.705011454453704,9.310126772892572,0.7228148989300575,5.452151819361192,0.23181879973899475,0.7035954073135251,0.7433641855605716,1.0402214232573508,12.67986810584482,8.838013080642453,2.779382907358668,0.6824691408474287,33.061609606088965]},{\"marker\":{\"color\":\"gray\"},\"mode\":\"lines\",\"name\":\"LCL\",\"type\":\"scatter\",\"x\":[0,1,2,3,4,5,6,7,8,9,10,11,12,13,14,15,16,17,18,19,20,21,22,23,24,25,26,27,28,29,30,31,32,33,34,35,36,37,38,39,40,41,42,43,44,45,46,47,48,49,50,51,52,53,54,55,56,57,58,59,60,61,62,63,64,65,66,67,68,69,70,71,72,73,74,75,76,77,78,79,80,81,82,83,84,85,86,87,88,89,90,91,92,93,94,95,96,97,98,99,100,101,102,103,104,105,106,107,108,109,110,111,112,113,114,115,116,117,118,119,120,121,122,123,124,125,126,127,128,129,130,131,132,133,134,135,136,137,138,139,140,141,142,143,144,145,146,147,148,149,150,151,152,153,154,155,156],\"y\":[0,0,0,0,0,0,0,0,0,0,0,0,0,0,0,0,0,0,0,0,0,0,0,0,0,0,0,0,0,0,0,0,0,0,0,0,0,0,0,0,0,0,0,0,0,0,0,0,0,0,0,0,0,0,0,0,0,0,0,0,0,0,0,0,0,0,0,0,0,0,0,0,0,0,0,0,0,0,0,0,0,0,0,0,0,0,0,0,0,0,0,0,0,0,0,0,0,0,0,0,0,0,0,0,0,0,0,0,0,0,0,0,0,0,0,0,0,0,0,0,0,0,0,0,0,0,0,0,0,0,0,0,0,0,0,0,0,0,0,0,0,0,0,0,0,0,0,0,0,0,0,0,0,0,0,0,0]},{\"mode\":\"lines\",\"name\":\"UCL\",\"type\":\"scatter\",\"x\":[0,1,2,3,4,5,6,7,8,9,10,11,12,13,14,15,16,17,18,19,20,21,22,23,24,25,26,27,28,29,30,31,32,33,34,35,36,37,38,39,40,41,42,43,44,45,46,47,48,49,50,51,52,53,54,55,56,57,58,59,60,61,62,63,64,65,66,67,68,69,70,71,72,73,74,75,76,77,78,79,80,81,82,83,84,85,86,87,88,89,90,91,92,93,94,95,96,97,98,99,100,101,102,103,104,105,106,107,108,109,110,111,112,113,114,115,116,117,118,119,120,121,122,123,124,125,126,127,128,129,130,131,132,133,134,135,136,137,138,139,140,141,142,143,144,145,146,147,148,149,150,151,152,153,154,155,156],\"y\":[8.145301055449902,8.145301055449902,8.145301055449902,8.145301055449902,8.145301055449902,8.145301055449902,8.145301055449902,8.145301055449902,8.145301055449902,8.145301055449902,8.145301055449902,8.145301055449902,8.145301055449902,8.145301055449902,8.145301055449902,8.145301055449902,8.145301055449902,8.145301055449902,8.145301055449902,8.145301055449902,8.145301055449902,8.145301055449902,8.145301055449902,8.145301055449902,8.145301055449902,8.145301055449902,8.145301055449902,8.145301055449902,8.145301055449902,8.145301055449902,8.145301055449902,8.145301055449902,8.145301055449902,8.145301055449902,8.145301055449902,8.145301055449902,8.145301055449902,8.145301055449902,8.145301055449902,8.145301055449902,8.145301055449902,8.145301055449902,8.145301055449902,8.145301055449902,8.145301055449902,8.145301055449902,8.145301055449902,8.145301055449902,8.145301055449902,8.145301055449902,8.145301055449902,8.145301055449902,8.145301055449902,8.145301055449902,8.145301055449902,8.145301055449902,8.145301055449902,8.145301055449902,8.145301055449902,8.145301055449902,8.145301055449902,8.145301055449902,8.145301055449902,8.145301055449902,8.145301055449902,8.145301055449902,8.145301055449902,8.145301055449902,8.145301055449902,8.145301055449902,8.145301055449902,8.145301055449902,8.145301055449902,8.145301055449902,8.145301055449902,8.145301055449902,8.145301055449902,8.145301055449902,8.145301055449902,8.145301055449902,8.145301055449902,8.145301055449902,8.145301055449902,8.145301055449902,8.145301055449902,8.145301055449902,8.145301055449902,8.145301055449902,8.145301055449902,8.145301055449902,8.145301055449902,8.145301055449902,8.145301055449902,8.145301055449902,8.145301055449902,8.145301055449902,8.145301055449902,8.145301055449902,8.145301055449902,8.145301055449902,8.145301055449902,8.145301055449902,8.145301055449902,8.145301055449902,8.145301055449902,8.145301055449902,8.145301055449902,8.145301055449902,8.145301055449902,8.145301055449902,8.145301055449902,8.145301055449902,8.145301055449902,8.145301055449902,8.145301055449902,8.145301055449902,8.145301055449902,8.145301055449902,8.145301055449902,8.145301055449902,8.145301055449902,8.145301055449902,8.145301055449902,8.145301055449902,8.145301055449902,8.145301055449902,8.145301055449902,8.145301055449902,8.145301055449902,8.145301055449902,8.145301055449902,8.145301055449902,8.145301055449902,8.145301055449902,8.145301055449902,8.145301055449902,8.145301055449902,8.145301055449902,8.145301055449902,8.145301055449902,8.145301055449902,8.145301055449902,8.145301055449902,8.145301055449902,8.145301055449902,8.145301055449902,8.145301055449902,8.145301055449902,8.145301055449902,8.145301055449902,8.145301055449902,8.145301055449902,8.145301055449902,8.145301055449902,8.145301055449902,8.145301055449902,8.145301055449902]}],                        {\"template\":{\"data\":{\"bar\":[{\"error_x\":{\"color\":\"#2a3f5f\"},\"error_y\":{\"color\":\"#2a3f5f\"},\"marker\":{\"line\":{\"color\":\"#E5ECF6\",\"width\":0.5},\"pattern\":{\"fillmode\":\"overlay\",\"size\":10,\"solidity\":0.2}},\"type\":\"bar\"}],\"barpolar\":[{\"marker\":{\"line\":{\"color\":\"#E5ECF6\",\"width\":0.5},\"pattern\":{\"fillmode\":\"overlay\",\"size\":10,\"solidity\":0.2}},\"type\":\"barpolar\"}],\"carpet\":[{\"aaxis\":{\"endlinecolor\":\"#2a3f5f\",\"gridcolor\":\"white\",\"linecolor\":\"white\",\"minorgridcolor\":\"white\",\"startlinecolor\":\"#2a3f5f\"},\"baxis\":{\"endlinecolor\":\"#2a3f5f\",\"gridcolor\":\"white\",\"linecolor\":\"white\",\"minorgridcolor\":\"white\",\"startlinecolor\":\"#2a3f5f\"},\"type\":\"carpet\"}],\"choropleth\":[{\"colorbar\":{\"outlinewidth\":0,\"ticks\":\"\"},\"type\":\"choropleth\"}],\"contour\":[{\"colorbar\":{\"outlinewidth\":0,\"ticks\":\"\"},\"colorscale\":[[0.0,\"#0d0887\"],[0.1111111111111111,\"#46039f\"],[0.2222222222222222,\"#7201a8\"],[0.3333333333333333,\"#9c179e\"],[0.4444444444444444,\"#bd3786\"],[0.5555555555555556,\"#d8576b\"],[0.6666666666666666,\"#ed7953\"],[0.7777777777777778,\"#fb9f3a\"],[0.8888888888888888,\"#fdca26\"],[1.0,\"#f0f921\"]],\"type\":\"contour\"}],\"contourcarpet\":[{\"colorbar\":{\"outlinewidth\":0,\"ticks\":\"\"},\"type\":\"contourcarpet\"}],\"heatmap\":[{\"colorbar\":{\"outlinewidth\":0,\"ticks\":\"\"},\"colorscale\":[[0.0,\"#0d0887\"],[0.1111111111111111,\"#46039f\"],[0.2222222222222222,\"#7201a8\"],[0.3333333333333333,\"#9c179e\"],[0.4444444444444444,\"#bd3786\"],[0.5555555555555556,\"#d8576b\"],[0.6666666666666666,\"#ed7953\"],[0.7777777777777778,\"#fb9f3a\"],[0.8888888888888888,\"#fdca26\"],[1.0,\"#f0f921\"]],\"type\":\"heatmap\"}],\"heatmapgl\":[{\"colorbar\":{\"outlinewidth\":0,\"ticks\":\"\"},\"colorscale\":[[0.0,\"#0d0887\"],[0.1111111111111111,\"#46039f\"],[0.2222222222222222,\"#7201a8\"],[0.3333333333333333,\"#9c179e\"],[0.4444444444444444,\"#bd3786\"],[0.5555555555555556,\"#d8576b\"],[0.6666666666666666,\"#ed7953\"],[0.7777777777777778,\"#fb9f3a\"],[0.8888888888888888,\"#fdca26\"],[1.0,\"#f0f921\"]],\"type\":\"heatmapgl\"}],\"histogram\":[{\"marker\":{\"pattern\":{\"fillmode\":\"overlay\",\"size\":10,\"solidity\":0.2}},\"type\":\"histogram\"}],\"histogram2d\":[{\"colorbar\":{\"outlinewidth\":0,\"ticks\":\"\"},\"colorscale\":[[0.0,\"#0d0887\"],[0.1111111111111111,\"#46039f\"],[0.2222222222222222,\"#7201a8\"],[0.3333333333333333,\"#9c179e\"],[0.4444444444444444,\"#bd3786\"],[0.5555555555555556,\"#d8576b\"],[0.6666666666666666,\"#ed7953\"],[0.7777777777777778,\"#fb9f3a\"],[0.8888888888888888,\"#fdca26\"],[1.0,\"#f0f921\"]],\"type\":\"histogram2d\"}],\"histogram2dcontour\":[{\"colorbar\":{\"outlinewidth\":0,\"ticks\":\"\"},\"colorscale\":[[0.0,\"#0d0887\"],[0.1111111111111111,\"#46039f\"],[0.2222222222222222,\"#7201a8\"],[0.3333333333333333,\"#9c179e\"],[0.4444444444444444,\"#bd3786\"],[0.5555555555555556,\"#d8576b\"],[0.6666666666666666,\"#ed7953\"],[0.7777777777777778,\"#fb9f3a\"],[0.8888888888888888,\"#fdca26\"],[1.0,\"#f0f921\"]],\"type\":\"histogram2dcontour\"}],\"mesh3d\":[{\"colorbar\":{\"outlinewidth\":0,\"ticks\":\"\"},\"type\":\"mesh3d\"}],\"parcoords\":[{\"line\":{\"colorbar\":{\"outlinewidth\":0,\"ticks\":\"\"}},\"type\":\"parcoords\"}],\"pie\":[{\"automargin\":true,\"type\":\"pie\"}],\"scatter\":[{\"marker\":{\"colorbar\":{\"outlinewidth\":0,\"ticks\":\"\"}},\"type\":\"scatter\"}],\"scatter3d\":[{\"line\":{\"colorbar\":{\"outlinewidth\":0,\"ticks\":\"\"}},\"marker\":{\"colorbar\":{\"outlinewidth\":0,\"ticks\":\"\"}},\"type\":\"scatter3d\"}],\"scattercarpet\":[{\"marker\":{\"colorbar\":{\"outlinewidth\":0,\"ticks\":\"\"}},\"type\":\"scattercarpet\"}],\"scattergeo\":[{\"marker\":{\"colorbar\":{\"outlinewidth\":0,\"ticks\":\"\"}},\"type\":\"scattergeo\"}],\"scattergl\":[{\"marker\":{\"colorbar\":{\"outlinewidth\":0,\"ticks\":\"\"}},\"type\":\"scattergl\"}],\"scattermapbox\":[{\"marker\":{\"colorbar\":{\"outlinewidth\":0,\"ticks\":\"\"}},\"type\":\"scattermapbox\"}],\"scatterpolar\":[{\"marker\":{\"colorbar\":{\"outlinewidth\":0,\"ticks\":\"\"}},\"type\":\"scatterpolar\"}],\"scatterpolargl\":[{\"marker\":{\"colorbar\":{\"outlinewidth\":0,\"ticks\":\"\"}},\"type\":\"scatterpolargl\"}],\"scatterternary\":[{\"marker\":{\"colorbar\":{\"outlinewidth\":0,\"ticks\":\"\"}},\"type\":\"scatterternary\"}],\"surface\":[{\"colorbar\":{\"outlinewidth\":0,\"ticks\":\"\"},\"colorscale\":[[0.0,\"#0d0887\"],[0.1111111111111111,\"#46039f\"],[0.2222222222222222,\"#7201a8\"],[0.3333333333333333,\"#9c179e\"],[0.4444444444444444,\"#bd3786\"],[0.5555555555555556,\"#d8576b\"],[0.6666666666666666,\"#ed7953\"],[0.7777777777777778,\"#fb9f3a\"],[0.8888888888888888,\"#fdca26\"],[1.0,\"#f0f921\"]],\"type\":\"surface\"}],\"table\":[{\"cells\":{\"fill\":{\"color\":\"#EBF0F8\"},\"line\":{\"color\":\"white\"}},\"header\":{\"fill\":{\"color\":\"#C8D4E3\"},\"line\":{\"color\":\"white\"}},\"type\":\"table\"}]},\"layout\":{\"annotationdefaults\":{\"arrowcolor\":\"#2a3f5f\",\"arrowhead\":0,\"arrowwidth\":1},\"autotypenumbers\":\"strict\",\"coloraxis\":{\"colorbar\":{\"outlinewidth\":0,\"ticks\":\"\"}},\"colorscale\":{\"diverging\":[[0,\"#8e0152\"],[0.1,\"#c51b7d\"],[0.2,\"#de77ae\"],[0.3,\"#f1b6da\"],[0.4,\"#fde0ef\"],[0.5,\"#f7f7f7\"],[0.6,\"#e6f5d0\"],[0.7,\"#b8e186\"],[0.8,\"#7fbc41\"],[0.9,\"#4d9221\"],[1,\"#276419\"]],\"sequential\":[[0.0,\"#0d0887\"],[0.1111111111111111,\"#46039f\"],[0.2222222222222222,\"#7201a8\"],[0.3333333333333333,\"#9c179e\"],[0.4444444444444444,\"#bd3786\"],[0.5555555555555556,\"#d8576b\"],[0.6666666666666666,\"#ed7953\"],[0.7777777777777778,\"#fb9f3a\"],[0.8888888888888888,\"#fdca26\"],[1.0,\"#f0f921\"]],\"sequentialminus\":[[0.0,\"#0d0887\"],[0.1111111111111111,\"#46039f\"],[0.2222222222222222,\"#7201a8\"],[0.3333333333333333,\"#9c179e\"],[0.4444444444444444,\"#bd3786\"],[0.5555555555555556,\"#d8576b\"],[0.6666666666666666,\"#ed7953\"],[0.7777777777777778,\"#fb9f3a\"],[0.8888888888888888,\"#fdca26\"],[1.0,\"#f0f921\"]]},\"colorway\":[\"#636efa\",\"#EF553B\",\"#00cc96\",\"#ab63fa\",\"#FFA15A\",\"#19d3f3\",\"#FF6692\",\"#B6E880\",\"#FF97FF\",\"#FECB52\"],\"font\":{\"color\":\"#2a3f5f\"},\"geo\":{\"bgcolor\":\"white\",\"lakecolor\":\"white\",\"landcolor\":\"#E5ECF6\",\"showlakes\":true,\"showland\":true,\"subunitcolor\":\"white\"},\"hoverlabel\":{\"align\":\"left\"},\"hovermode\":\"closest\",\"mapbox\":{\"style\":\"light\"},\"paper_bgcolor\":\"white\",\"plot_bgcolor\":\"#E5ECF6\",\"polar\":{\"angularaxis\":{\"gridcolor\":\"white\",\"linecolor\":\"white\",\"ticks\":\"\"},\"bgcolor\":\"#E5ECF6\",\"radialaxis\":{\"gridcolor\":\"white\",\"linecolor\":\"white\",\"ticks\":\"\"}},\"scene\":{\"xaxis\":{\"backgroundcolor\":\"#E5ECF6\",\"gridcolor\":\"white\",\"gridwidth\":2,\"linecolor\":\"white\",\"showbackground\":true,\"ticks\":\"\",\"zerolinecolor\":\"white\"},\"yaxis\":{\"backgroundcolor\":\"#E5ECF6\",\"gridcolor\":\"white\",\"gridwidth\":2,\"linecolor\":\"white\",\"showbackground\":true,\"ticks\":\"\",\"zerolinecolor\":\"white\"},\"zaxis\":{\"backgroundcolor\":\"#E5ECF6\",\"gridcolor\":\"white\",\"gridwidth\":2,\"linecolor\":\"white\",\"showbackground\":true,\"ticks\":\"\",\"zerolinecolor\":\"white\"}},\"shapedefaults\":{\"line\":{\"color\":\"#2a3f5f\"}},\"ternary\":{\"aaxis\":{\"gridcolor\":\"white\",\"linecolor\":\"white\",\"ticks\":\"\"},\"baxis\":{\"gridcolor\":\"white\",\"linecolor\":\"white\",\"ticks\":\"\"},\"bgcolor\":\"#E5ECF6\",\"caxis\":{\"gridcolor\":\"white\",\"linecolor\":\"white\",\"ticks\":\"\"}},\"title\":{\"x\":0.05},\"xaxis\":{\"automargin\":true,\"gridcolor\":\"white\",\"linecolor\":\"white\",\"ticks\":\"\",\"title\":{\"standoff\":15},\"zerolinecolor\":\"white\",\"zerolinewidth\":2},\"yaxis\":{\"automargin\":true,\"gridcolor\":\"white\",\"linecolor\":\"white\",\"ticks\":\"\",\"title\":{\"standoff\":15},\"zerolinecolor\":\"white\",\"zerolinewidth\":2}}},\"title\":{\"text\":\"\\ubb3c\\ud488 / \\uc6a9\\uc5ed / \\uacf5\\uc0ac\\uc758 \\ud1b5\\ud569 T_square \\uad00\\ub9ac\\ub3c4 (Not bootstraps)\"}},                        {\"responsive\": true}                    ).then(function(){\n",
       "                            \n",
       "var gd = document.getElementById('ff31fb19-d048-4dc1-8e89-c96a166e698e');\n",
       "var x = new MutationObserver(function (mutations, observer) {{\n",
       "        var display = window.getComputedStyle(gd).display;\n",
       "        if (!display || display === 'none') {{\n",
       "            console.log([gd, 'removed!']);\n",
       "            Plotly.purge(gd);\n",
       "            observer.disconnect();\n",
       "        }}\n",
       "}});\n",
       "\n",
       "// Listen for the removal of the full notebook cells\n",
       "var notebookContainer = gd.closest('#notebook-container');\n",
       "if (notebookContainer) {{\n",
       "    x.observe(notebookContainer, {childList: true});\n",
       "}}\n",
       "\n",
       "// Listen for the clearing of the current output cell\n",
       "var outputEl = gd.closest('.output');\n",
       "if (outputEl) {{\n",
       "    x.observe(outputEl, {childList: true});\n",
       "}}\n",
       "\n",
       "                        })                };                });            </script>        </div>"
      ]
     },
     "metadata": {},
     "output_type": "display_data"
    }
   ],
   "source": [
    "\n",
    "fig = go.Figure()\n",
    "\n",
    "\n",
    "fig.add_trace(go.Scatter(x = df_data.index, y =df_data['data_point'],mode = 'lines+markers',name= 'Data_point',\n",
    "                                 marker=dict(\n",
    "                        color=df_data['control'],\n",
    "                        size=5)))\n",
    "\n",
    "\n",
    "fig.add_trace(go.Scatter(x = df_data.index ,y = df_data['lcl']  ,mode= 'lines',name= 'LCL',marker_color = 'gray'))\n",
    "fig.add_trace(go.Scatter(x = df_data.index ,y = df_data['ucl']  ,mode= 'lines',name= 'UCL'))\n",
    "\n",
    "\n",
    "\n",
    "fig.update_layout({\n",
    "    'title' : '물품 / 용역 / 공사의 통합 T_square 관리도 (Not bootstraps)'\n",
    "})\n",
    "\n",
    "\n",
    "\n",
    "\n",
    "\n",
    "fig.show()"
   ]
  },
  {
   "cell_type": "markdown",
   "metadata": {},
   "source": [
    "## 이 부분은 내가 잘못 인지하였다. 배정예산이 지정된 후, 추정가격이 만들어질 것이라고 생각하였는데, 전체적인 데이터를 보니(물품/공사/용역을 합해보니) 추정가격이 먼저라는 것을 알 수 있었다. 그러므로, 추정가격에 대해서 Multivariate_t_square를 그려보았다."
   ]
  },
  {
   "cell_type": "markdown",
   "metadata": {},
   "source": [
    "## 이제 어디서 금액이 평소보다 더 많이 변동이 많고, 평균으로부터 많이 떨어져 있는지 보자."
   ]
  },
  {
   "cell_type": "code",
   "execution_count": 118,
   "metadata": {},
   "outputs": [],
   "source": [
    "out_of_control = df_data[df_data['control'] == 'red'].index.tolist()"
   ]
  },
  {
   "cell_type": "code",
   "execution_count": 260,
   "metadata": {},
   "outputs": [
    {
     "data": {
      "text/html": [
       "<div>\n",
       "<style scoped>\n",
       "    .dataframe tbody tr th:only-of-type {\n",
       "        vertical-align: middle;\n",
       "    }\n",
       "\n",
       "    .dataframe tbody tr th {\n",
       "        vertical-align: top;\n",
       "    }\n",
       "\n",
       "    .dataframe thead th {\n",
       "        text-align: right;\n",
       "    }\n",
       "</style>\n",
       "<table border=\"1\" class=\"dataframe\">\n",
       "  <thead>\n",
       "    <tr style=\"text-align: right;\">\n",
       "      <th></th>\n",
       "      <th>공고게시일자</th>\n",
       "      <th>용역</th>\n",
       "      <th>공사</th>\n",
       "      <th>물품</th>\n",
       "    </tr>\n",
       "  </thead>\n",
       "  <tbody>\n",
       "    <tr>\n",
       "      <th>16</th>\n",
       "      <td>2018-04-29</td>\n",
       "      <td>1.889171e+09</td>\n",
       "      <td>2.693478e+11</td>\n",
       "      <td>4.133944e+09</td>\n",
       "    </tr>\n",
       "    <tr>\n",
       "      <th>18</th>\n",
       "      <td>2018-05-13</td>\n",
       "      <td>2.005612e+11</td>\n",
       "      <td>1.358105e+10</td>\n",
       "      <td>3.772054e+09</td>\n",
       "    </tr>\n",
       "    <tr>\n",
       "      <th>74</th>\n",
       "      <td>2019-06-09</td>\n",
       "      <td>1.130539e+10</td>\n",
       "      <td>2.257109e+11</td>\n",
       "      <td>6.199209e+09</td>\n",
       "    </tr>\n",
       "    <tr>\n",
       "      <th>100</th>\n",
       "      <td>2019-12-08</td>\n",
       "      <td>4.737786e+09</td>\n",
       "      <td>2.249730e+11</td>\n",
       "      <td>1.379574e+09</td>\n",
       "    </tr>\n",
       "    <tr>\n",
       "      <th>108</th>\n",
       "      <td>2020-02-02</td>\n",
       "      <td>4.719792e+09</td>\n",
       "      <td>1.030466e+09</td>\n",
       "      <td>2.659160e+10</td>\n",
       "    </tr>\n",
       "    <tr>\n",
       "      <th>111</th>\n",
       "      <td>2020-02-23</td>\n",
       "      <td>8.875846e+09</td>\n",
       "      <td>1.379098e+10</td>\n",
       "      <td>3.025613e+10</td>\n",
       "    </tr>\n",
       "    <tr>\n",
       "      <th>126</th>\n",
       "      <td>2020-06-07</td>\n",
       "      <td>2.398242e+10</td>\n",
       "      <td>2.029573e+11</td>\n",
       "      <td>5.430097e+09</td>\n",
       "    </tr>\n",
       "    <tr>\n",
       "      <th>129</th>\n",
       "      <td>2020-06-28</td>\n",
       "      <td>6.435350e+10</td>\n",
       "      <td>2.172863e+09</td>\n",
       "      <td>6.302129e+09</td>\n",
       "    </tr>\n",
       "    <tr>\n",
       "      <th>145</th>\n",
       "      <td>2020-10-18</td>\n",
       "      <td>9.833462e+09</td>\n",
       "      <td>2.094369e+10</td>\n",
       "      <td>1.800512e+10</td>\n",
       "    </tr>\n",
       "    <tr>\n",
       "      <th>152</th>\n",
       "      <td>2020-12-06</td>\n",
       "      <td>8.335266e+09</td>\n",
       "      <td>3.479998e+10</td>\n",
       "      <td>2.024931e+10</td>\n",
       "    </tr>\n",
       "    <tr>\n",
       "      <th>153</th>\n",
       "      <td>2020-12-13</td>\n",
       "      <td>1.370066e+10</td>\n",
       "      <td>3.857259e+10</td>\n",
       "      <td>1.764926e+10</td>\n",
       "    </tr>\n",
       "    <tr>\n",
       "      <th>156</th>\n",
       "      <td>2021-01-03</td>\n",
       "      <td>5.994958e+09</td>\n",
       "      <td>3.075540e+11</td>\n",
       "      <td>2.450090e+08</td>\n",
       "    </tr>\n",
       "  </tbody>\n",
       "</table>\n",
       "</div>"
      ],
      "text/plain": [
       "        공고게시일자            용역            공사            물품\n",
       "16  2018-04-29  1.889171e+09  2.693478e+11  4.133944e+09\n",
       "18  2018-05-13  2.005612e+11  1.358105e+10  3.772054e+09\n",
       "74  2019-06-09  1.130539e+10  2.257109e+11  6.199209e+09\n",
       "100 2019-12-08  4.737786e+09  2.249730e+11  1.379574e+09\n",
       "108 2020-02-02  4.719792e+09  1.030466e+09  2.659160e+10\n",
       "111 2020-02-23  8.875846e+09  1.379098e+10  3.025613e+10\n",
       "126 2020-06-07  2.398242e+10  2.029573e+11  5.430097e+09\n",
       "129 2020-06-28  6.435350e+10  2.172863e+09  6.302129e+09\n",
       "145 2020-10-18  9.833462e+09  2.094369e+10  1.800512e+10\n",
       "152 2020-12-06  8.335266e+09  3.479998e+10  2.024931e+10\n",
       "153 2020-12-13  1.370066e+10  3.857259e+10  1.764926e+10\n",
       "156 2021-01-03  5.994958e+09  3.075540e+11  2.450090e+08"
      ]
     },
     "execution_count": 260,
     "metadata": {},
     "output_type": "execute_result"
    }
   ],
   "source": [
    "df_total.reset_index().iloc[out_of_control]"
   ]
  },
  {
   "cell_type": "code",
   "execution_count": 119,
   "metadata": {},
   "outputs": [
    {
     "data": {
      "text/plain": [
       "[16, 18, 74, 100, 108, 111, 126, 129, 145, 152, 153, 156]"
      ]
     },
     "execution_count": 119,
     "metadata": {},
     "output_type": "execute_result"
    }
   ],
   "source": [
    "out_of_control"
   ]
  },
  {
   "cell_type": "code",
   "execution_count": 125,
   "metadata": {},
   "outputs": [
    {
     "data": {
      "text/html": [
       "<div>\n",
       "<style scoped>\n",
       "    .dataframe tbody tr th:only-of-type {\n",
       "        vertical-align: middle;\n",
       "    }\n",
       "\n",
       "    .dataframe tbody tr th {\n",
       "        vertical-align: top;\n",
       "    }\n",
       "\n",
       "    .dataframe thead th {\n",
       "        text-align: right;\n",
       "    }\n",
       "</style>\n",
       "<table border=\"1\" class=\"dataframe\">\n",
       "  <thead>\n",
       "    <tr style=\"text-align: right;\">\n",
       "      <th></th>\n",
       "      <th>data_point</th>\n",
       "      <th>ucl</th>\n",
       "      <th>lcl</th>\n",
       "      <th>control</th>\n",
       "    </tr>\n",
       "  </thead>\n",
       "  <tbody>\n",
       "    <tr>\n",
       "      <th>0</th>\n",
       "      <td>1.195561</td>\n",
       "      <td>8.145301</td>\n",
       "      <td>0</td>\n",
       "      <td>blue</td>\n",
       "    </tr>\n",
       "    <tr>\n",
       "      <th>1</th>\n",
       "      <td>1.039315</td>\n",
       "      <td>8.145301</td>\n",
       "      <td>0</td>\n",
       "      <td>blue</td>\n",
       "    </tr>\n",
       "    <tr>\n",
       "      <th>2</th>\n",
       "      <td>0.851063</td>\n",
       "      <td>8.145301</td>\n",
       "      <td>0</td>\n",
       "      <td>blue</td>\n",
       "    </tr>\n",
       "    <tr>\n",
       "      <th>3</th>\n",
       "      <td>1.325670</td>\n",
       "      <td>8.145301</td>\n",
       "      <td>0</td>\n",
       "      <td>blue</td>\n",
       "    </tr>\n",
       "    <tr>\n",
       "      <th>4</th>\n",
       "      <td>1.325670</td>\n",
       "      <td>8.145301</td>\n",
       "      <td>0</td>\n",
       "      <td>blue</td>\n",
       "    </tr>\n",
       "    <tr>\n",
       "      <th>...</th>\n",
       "      <td>...</td>\n",
       "      <td>...</td>\n",
       "      <td>...</td>\n",
       "      <td>...</td>\n",
       "    </tr>\n",
       "    <tr>\n",
       "      <th>152</th>\n",
       "      <td>12.679868</td>\n",
       "      <td>8.145301</td>\n",
       "      <td>0</td>\n",
       "      <td>red</td>\n",
       "    </tr>\n",
       "    <tr>\n",
       "      <th>153</th>\n",
       "      <td>8.838013</td>\n",
       "      <td>8.145301</td>\n",
       "      <td>0</td>\n",
       "      <td>red</td>\n",
       "    </tr>\n",
       "    <tr>\n",
       "      <th>154</th>\n",
       "      <td>2.779383</td>\n",
       "      <td>8.145301</td>\n",
       "      <td>0</td>\n",
       "      <td>blue</td>\n",
       "    </tr>\n",
       "    <tr>\n",
       "      <th>155</th>\n",
       "      <td>0.682469</td>\n",
       "      <td>8.145301</td>\n",
       "      <td>0</td>\n",
       "      <td>blue</td>\n",
       "    </tr>\n",
       "    <tr>\n",
       "      <th>156</th>\n",
       "      <td>33.061610</td>\n",
       "      <td>8.145301</td>\n",
       "      <td>0</td>\n",
       "      <td>red</td>\n",
       "    </tr>\n",
       "  </tbody>\n",
       "</table>\n",
       "<p>157 rows × 4 columns</p>\n",
       "</div>"
      ],
      "text/plain": [
       "     data_point       ucl  lcl control\n",
       "0      1.195561  8.145301    0    blue\n",
       "1      1.039315  8.145301    0    blue\n",
       "2      0.851063  8.145301    0    blue\n",
       "3      1.325670  8.145301    0    blue\n",
       "4      1.325670  8.145301    0    blue\n",
       "..          ...       ...  ...     ...\n",
       "152   12.679868  8.145301    0     red\n",
       "153    8.838013  8.145301    0     red\n",
       "154    2.779383  8.145301    0    blue\n",
       "155    0.682469  8.145301    0    blue\n",
       "156   33.061610  8.145301    0     red\n",
       "\n",
       "[157 rows x 4 columns]"
      ]
     },
     "execution_count": 125,
     "metadata": {},
     "output_type": "execute_result"
    }
   ],
   "source": [
    "df_data"
   ]
  },
  {
   "cell_type": "code",
   "execution_count": 255,
   "metadata": {},
   "outputs": [
    {
     "data": {
      "text/plain": [
       "6.6348966010212145"
      ]
     },
     "execution_count": 255,
     "metadata": {},
     "output_type": "execute_result"
    }
   ],
   "source": [
    "import scipy\n",
    "scipy.stats.chi2(1).ppf(0.99)"
   ]
  },
  {
   "cell_type": "code",
   "execution_count": 249,
   "metadata": {},
   "outputs": [],
   "source": []
  },
  {
   "cell_type": "code",
   "execution_count": null,
   "metadata": {},
   "outputs": [],
   "source": [
    "def t_square(data ,alpha: float = None):\n",
    "    \n",
    "    array_data = np.array(data)\n",
    "\n",
    "    \n",
    "    p = array_data.shape[1]\n",
    "    m = array_data.shape[0]\n",
    "    n = 1\n",
    "    col_mean= np.array(data.agg(['mean']))\n",
    "    mat_cov = data.cov()\n",
    "    mat_inv_s = np.linalg.inv(mat_cov)  # inverse S\n",
    "    \n",
    "    values = []\n",
    "    for sample in array_data:\n",
    "        dif = sample - col_mean\n",
    "        value = np.matmul(np.matmul(dif,mat_inv_s),dif.T).ravel().tolist()  # T-square\n",
    "        values.append(value)\n",
    "    \n",
    "    LCL = 0\n",
    "    UCL = ( ( p * (m+1) * (m-1) ) / (m * (m - p)) ) * f.ppf((1-alpha), p, m-p)\n",
    "            \n",
    "    return values, LCL, UCL "
   ]
  },
  {
   "cell_type": "code",
   "execution_count": 285,
   "metadata": {},
   "outputs": [],
   "source": [
    "def t_square_interpret(data,alpha: float = None):\n",
    "    # 데이터프레임의 형태는 df_total의 형태와 동일하여야 한다.\n",
    "    chi2 = alpha\n",
    "    values, LCL, UCL  = t_square(data ,chi2)\n",
    "    df_t = pd.DataFrame(values,columns=['data_point'])\n",
    "    df_t['ucl'] = UCL\n",
    "    df_t['lcl'] = LCL\n",
    "    df_t['control'] = 0\n",
    "    \n",
    "    for i in range(len(df_data)):\n",
    "        if df_t.loc[i,'data_point'] > UCL:\n",
    "            df_t.loc[i,'control']  = 'red'\n",
    "        else:\n",
    "            df_t.loc[i,'control']  = 'blue'\n",
    "        \n",
    "    lst_red = df_t[df_t['control'] == 'red'].index.tolist()\n",
    "    cutoff = scipy.stats.chi2(1).ppf(1-chi2)\n",
    "    \n",
    "    lst_T_i= []\n",
    "\n",
    "    for col in data.columns.tolist():\n",
    "        df_test = data.loc[:, data.columns != col]\n",
    "        lst_T_i.append( np.array(t_square(df_test ,chi2)[0]).ravel())\n",
    "\n",
    "    T_1 = [a-b for a,b in zip(values,lst_T_i[0])]\n",
    "    T_2 = [a-b for a,b in zip(values,lst_T_i[1])]\n",
    "    T_3 = [a-b for a,b in zip(values,lst_T_i[2])]\n",
    "        \n",
    "    lst_D_i = []\n",
    "    for j in lst_red:\n",
    "        w_0 = values[j] - T_1[j]\n",
    "        w_1 = values[j] - T_2[j]\n",
    "        w_2 = values[j] - T_3[j]\n",
    "        lst_D_i.append([w_0[0], w_1[0], w_2[0]]) \n",
    "        \n",
    "    df_outlier = pd.DataFrame(lst_D_i,index=lst_red,columns=['용역','공사','물품'])\n",
    "    \n",
    "    def color_positive_red(val):\n",
    "\n",
    "        if val > cutoff:\n",
    "            color = 'red'\n",
    "        else:\n",
    "            color = 'black'\n",
    "        return 'color: %s' % color\n",
    "\n",
    "        \n",
    "    df_outlier.style.set_table_styles(df_outlier.style.applymap(color_positive_red))\n",
    "    return df_outlier.style.applymap(color_positive_red), "
   ]
  },
  {
   "cell_type": "code",
   "execution_count": 286,
   "metadata": {},
   "outputs": [
    {
     "data": {
      "text/html": [
       "<style  type=\"text/css\" >\n",
       "#T_28078163_81d0_11ec_b929_94e97950a6d4row0_col0,#T_28078163_81d0_11ec_b929_94e97950a6d4row0_col2,#T_28078163_81d0_11ec_b929_94e97950a6d4row1_col1,#T_28078163_81d0_11ec_b929_94e97950a6d4row1_col2,#T_28078163_81d0_11ec_b929_94e97950a6d4row2_col0,#T_28078163_81d0_11ec_b929_94e97950a6d4row2_col2,#T_28078163_81d0_11ec_b929_94e97950a6d4row3_col0,#T_28078163_81d0_11ec_b929_94e97950a6d4row3_col2,#T_28078163_81d0_11ec_b929_94e97950a6d4row4_col0,#T_28078163_81d0_11ec_b929_94e97950a6d4row4_col1,#T_28078163_81d0_11ec_b929_94e97950a6d4row5_col0,#T_28078163_81d0_11ec_b929_94e97950a6d4row5_col1,#T_28078163_81d0_11ec_b929_94e97950a6d4row6_col0,#T_28078163_81d0_11ec_b929_94e97950a6d4row6_col2,#T_28078163_81d0_11ec_b929_94e97950a6d4row7_col1,#T_28078163_81d0_11ec_b929_94e97950a6d4row7_col2,#T_28078163_81d0_11ec_b929_94e97950a6d4row8_col0,#T_28078163_81d0_11ec_b929_94e97950a6d4row8_col1,#T_28078163_81d0_11ec_b929_94e97950a6d4row9_col0,#T_28078163_81d0_11ec_b929_94e97950a6d4row9_col1,#T_28078163_81d0_11ec_b929_94e97950a6d4row10_col0,#T_28078163_81d0_11ec_b929_94e97950a6d4row10_col1,#T_28078163_81d0_11ec_b929_94e97950a6d4row11_col0,#T_28078163_81d0_11ec_b929_94e97950a6d4row11_col2{\n",
       "            color:  red;\n",
       "        }#T_28078163_81d0_11ec_b929_94e97950a6d4row0_col1,#T_28078163_81d0_11ec_b929_94e97950a6d4row1_col0,#T_28078163_81d0_11ec_b929_94e97950a6d4row2_col1,#T_28078163_81d0_11ec_b929_94e97950a6d4row3_col1,#T_28078163_81d0_11ec_b929_94e97950a6d4row4_col2,#T_28078163_81d0_11ec_b929_94e97950a6d4row5_col2,#T_28078163_81d0_11ec_b929_94e97950a6d4row6_col1,#T_28078163_81d0_11ec_b929_94e97950a6d4row7_col0,#T_28078163_81d0_11ec_b929_94e97950a6d4row8_col2,#T_28078163_81d0_11ec_b929_94e97950a6d4row9_col2,#T_28078163_81d0_11ec_b929_94e97950a6d4row10_col2,#T_28078163_81d0_11ec_b929_94e97950a6d4row11_col1{\n",
       "            color:  black;\n",
       "        }</style><table id=\"T_28078163_81d0_11ec_b929_94e97950a6d4\" ><thead>    <tr>        <th class=\"blank level0\" ></th>        <th class=\"col_heading level0 col0\" >용역</th>        <th class=\"col_heading level0 col1\" >공사</th>        <th class=\"col_heading level0 col2\" >물품</th>    </tr></thead><tbody>\n",
       "                <tr>\n",
       "                        <th id=\"T_28078163_81d0_11ec_b929_94e97950a6d4level0_row0\" class=\"row_heading level0 row0\" >16</th>\n",
       "                        <td id=\"T_28078163_81d0_11ec_b929_94e97950a6d4row0_col0\" class=\"data row0 col0\" >24.201200</td>\n",
       "                        <td id=\"T_28078163_81d0_11ec_b929_94e97950a6d4row0_col1\" class=\"data row0 col1\" >0.197665</td>\n",
       "                        <td id=\"T_28078163_81d0_11ec_b929_94e97950a6d4row0_col2\" class=\"data row0 col2\" >24.287013</td>\n",
       "            </tr>\n",
       "            <tr>\n",
       "                        <th id=\"T_28078163_81d0_11ec_b929_94e97950a6d4level0_row1\" class=\"row_heading level0 row1\" >18</th>\n",
       "                        <td id=\"T_28078163_81d0_11ec_b929_94e97950a6d4row1_col0\" class=\"data row1 col0\" >0.057112</td>\n",
       "                        <td id=\"T_28078163_81d0_11ec_b929_94e97950a6d4row1_col1\" class=\"data row1 col1\" >103.658442</td>\n",
       "                        <td id=\"T_28078163_81d0_11ec_b929_94e97950a6d4row1_col2\" class=\"data row1 col2\" >102.597908</td>\n",
       "            </tr>\n",
       "            <tr>\n",
       "                        <th id=\"T_28078163_81d0_11ec_b929_94e97950a6d4level0_row2\" class=\"row_heading level0 row2\" >74</th>\n",
       "                        <td id=\"T_28078163_81d0_11ec_b929_94e97950a6d4row2_col0\" class=\"data row2 col0\" >16.551165</td>\n",
       "                        <td id=\"T_28078163_81d0_11ec_b929_94e97950a6d4row2_col1\" class=\"data row2 col1\" >0.193468</td>\n",
       "                        <td id=\"T_28078163_81d0_11ec_b929_94e97950a6d4row2_col2\" class=\"data row2 col2\" >16.376628</td>\n",
       "            </tr>\n",
       "            <tr>\n",
       "                        <th id=\"T_28078163_81d0_11ec_b929_94e97950a6d4level0_row3\" class=\"row_heading level0 row3\" >100</th>\n",
       "                        <td id=\"T_28078163_81d0_11ec_b929_94e97950a6d4row3_col0\" class=\"data row3 col0\" >16.589294</td>\n",
       "                        <td id=\"T_28078163_81d0_11ec_b929_94e97950a6d4row3_col1\" class=\"data row3 col1\" >0.440341</td>\n",
       "                        <td id=\"T_28078163_81d0_11ec_b929_94e97950a6d4row3_col2\" class=\"data row3 col2\" >16.252521</td>\n",
       "            </tr>\n",
       "            <tr>\n",
       "                        <th id=\"T_28078163_81d0_11ec_b929_94e97950a6d4level0_row4\" class=\"row_heading level0 row4\" >108</th>\n",
       "                        <td id=\"T_28078163_81d0_11ec_b929_94e97950a6d4row4_col0\" class=\"data row4 col0\" >24.444521</td>\n",
       "                        <td id=\"T_28078163_81d0_11ec_b929_94e97950a6d4row4_col1\" class=\"data row4 col1\" >24.804228</td>\n",
       "                        <td id=\"T_28078163_81d0_11ec_b929_94e97950a6d4row4_col2\" class=\"data row4 col2\" >0.316987</td>\n",
       "            </tr>\n",
       "            <tr>\n",
       "                        <th id=\"T_28078163_81d0_11ec_b929_94e97950a6d4level0_row5\" class=\"row_heading level0 row5\" >111</th>\n",
       "                        <td id=\"T_28078163_81d0_11ec_b929_94e97950a6d4row5_col0\" class=\"data row5 col0\" >32.860717</td>\n",
       "                        <td id=\"T_28078163_81d0_11ec_b929_94e97950a6d4row5_col1\" class=\"data row5 col1\" >33.188047</td>\n",
       "                        <td id=\"T_28078163_81d0_11ec_b929_94e97950a6d4row5_col2\" class=\"data row5 col2\" >0.052436</td>\n",
       "            </tr>\n",
       "            <tr>\n",
       "                        <th id=\"T_28078163_81d0_11ec_b929_94e97950a6d4level0_row6\" class=\"row_heading level0 row6\" >126</th>\n",
       "                        <td id=\"T_28078163_81d0_11ec_b929_94e97950a6d4row6_col0\" class=\"data row6 col0\" >12.937358</td>\n",
       "                        <td id=\"T_28078163_81d0_11ec_b929_94e97950a6d4row6_col1\" class=\"data row6 col1\" >0.577173</td>\n",
       "                        <td id=\"T_28078163_81d0_11ec_b929_94e97950a6d4row6_col2\" class=\"data row6 col2\" >13.565904</td>\n",
       "            </tr>\n",
       "            <tr>\n",
       "                        <th id=\"T_28078163_81d0_11ec_b929_94e97950a6d4level0_row7\" class=\"row_heading level0 row7\" >129</th>\n",
       "                        <td id=\"T_28078163_81d0_11ec_b929_94e97950a6d4row7_col0\" class=\"data row7 col0\" >0.413106</td>\n",
       "                        <td id=\"T_28078163_81d0_11ec_b929_94e97950a6d4row7_col1\" class=\"data row7 col1\" >8.334795</td>\n",
       "                        <td id=\"T_28078163_81d0_11ec_b929_94e97950a6d4row7_col2\" class=\"data row7 col2\" >8.425769</td>\n",
       "            </tr>\n",
       "            <tr>\n",
       "                        <th id=\"T_28078163_81d0_11ec_b929_94e97950a6d4level0_row8\" class=\"row_heading level0 row8\" >145</th>\n",
       "                        <td id=\"T_28078163_81d0_11ec_b929_94e97950a6d4row8_col0\" class=\"data row8 col0\" >9.217352</td>\n",
       "                        <td id=\"T_28078163_81d0_11ec_b929_94e97950a6d4row8_col1\" class=\"data row8 col1\" >9.305416</td>\n",
       "                        <td id=\"T_28078163_81d0_11ec_b929_94e97950a6d4row8_col2\" class=\"data row8 col2\" >0.005632</td>\n",
       "            </tr>\n",
       "            <tr>\n",
       "                        <th id=\"T_28078163_81d0_11ec_b929_94e97950a6d4level0_row9\" class=\"row_heading level0 row9\" >152</th>\n",
       "                        <td id=\"T_28078163_81d0_11ec_b929_94e97950a6d4row9_col0\" class=\"data row9 col0\" >12.501836</td>\n",
       "                        <td id=\"T_28078163_81d0_11ec_b929_94e97950a6d4row9_col1\" class=\"data row9 col1\" >12.636603</td>\n",
       "                        <td id=\"T_28078163_81d0_11ec_b929_94e97950a6d4row9_col2\" class=\"data row9 col2\" >0.051789</td>\n",
       "            </tr>\n",
       "            <tr>\n",
       "                        <th id=\"T_28078163_81d0_11ec_b929_94e97950a6d4level0_row10\" class=\"row_heading level0 row10\" >153</th>\n",
       "                        <td id=\"T_28078163_81d0_11ec_b929_94e97950a6d4row10_col0\" class=\"data row10 col0\" >8.831649</td>\n",
       "                        <td id=\"T_28078163_81d0_11ec_b929_94e97950a6d4row10_col1\" class=\"data row10 col1\" >8.752788</td>\n",
       "                        <td id=\"T_28078163_81d0_11ec_b929_94e97950a6d4row10_col2\" class=\"data row10 col2\" >0.117448</td>\n",
       "            </tr>\n",
       "            <tr>\n",
       "                        <th id=\"T_28078163_81d0_11ec_b929_94e97950a6d4level0_row11\" class=\"row_heading level0 row11\" >156</th>\n",
       "                        <td id=\"T_28078163_81d0_11ec_b929_94e97950a6d4row11_col0\" class=\"data row11 col0\" >33.060855</td>\n",
       "                        <td id=\"T_28078163_81d0_11ec_b929_94e97950a6d4row11_col1\" class=\"data row11 col1\" >0.777560</td>\n",
       "                        <td id=\"T_28078163_81d0_11ec_b929_94e97950a6d4row11_col2\" class=\"data row11 col2\" >32.345567</td>\n",
       "            </tr>\n",
       "    </tbody></table>"
      ],
      "text/plain": [
       "<pandas.io.formats.style.Styler at 0x2c05cb0bd30>"
      ]
     },
     "execution_count": 286,
     "metadata": {},
     "output_type": "execute_result"
    }
   ],
   "source": [
    "df_final = t_square_interpret(df_total,alpha=0.05)\n",
    "df_final"
   ]
  },
  {
   "cell_type": "code",
   "execution_count": 293,
   "metadata": {},
   "outputs": [
    {
     "data": {
      "text/html": [
       "<div>\n",
       "<style scoped>\n",
       "    .dataframe tbody tr th:only-of-type {\n",
       "        vertical-align: middle;\n",
       "    }\n",
       "\n",
       "    .dataframe tbody tr th {\n",
       "        vertical-align: top;\n",
       "    }\n",
       "\n",
       "    .dataframe thead th {\n",
       "        text-align: right;\n",
       "    }\n",
       "</style>\n",
       "<table border=\"1\" class=\"dataframe\">\n",
       "  <thead>\n",
       "    <tr style=\"text-align: right;\">\n",
       "      <th></th>\n",
       "      <th>공고게시일자</th>\n",
       "      <th>용역</th>\n",
       "      <th>공사</th>\n",
       "      <th>물품</th>\n",
       "    </tr>\n",
       "  </thead>\n",
       "  <tbody>\n",
       "    <tr>\n",
       "      <th>16</th>\n",
       "      <td>2018-04-29</td>\n",
       "      <td>1.889171e+09</td>\n",
       "      <td>2.693478e+11</td>\n",
       "      <td>4.133944e+09</td>\n",
       "    </tr>\n",
       "    <tr>\n",
       "      <th>18</th>\n",
       "      <td>2018-05-13</td>\n",
       "      <td>2.005612e+11</td>\n",
       "      <td>1.358105e+10</td>\n",
       "      <td>3.772054e+09</td>\n",
       "    </tr>\n",
       "    <tr>\n",
       "      <th>74</th>\n",
       "      <td>2019-06-09</td>\n",
       "      <td>1.130539e+10</td>\n",
       "      <td>2.257109e+11</td>\n",
       "      <td>6.199209e+09</td>\n",
       "    </tr>\n",
       "    <tr>\n",
       "      <th>100</th>\n",
       "      <td>2019-12-08</td>\n",
       "      <td>4.737786e+09</td>\n",
       "      <td>2.249730e+11</td>\n",
       "      <td>1.379574e+09</td>\n",
       "    </tr>\n",
       "    <tr>\n",
       "      <th>108</th>\n",
       "      <td>2020-02-02</td>\n",
       "      <td>4.719792e+09</td>\n",
       "      <td>1.030466e+09</td>\n",
       "      <td>2.659160e+10</td>\n",
       "    </tr>\n",
       "    <tr>\n",
       "      <th>111</th>\n",
       "      <td>2020-02-23</td>\n",
       "      <td>8.875846e+09</td>\n",
       "      <td>1.379098e+10</td>\n",
       "      <td>3.025613e+10</td>\n",
       "    </tr>\n",
       "    <tr>\n",
       "      <th>126</th>\n",
       "      <td>2020-06-07</td>\n",
       "      <td>2.398242e+10</td>\n",
       "      <td>2.029573e+11</td>\n",
       "      <td>5.430097e+09</td>\n",
       "    </tr>\n",
       "    <tr>\n",
       "      <th>129</th>\n",
       "      <td>2020-06-28</td>\n",
       "      <td>6.435350e+10</td>\n",
       "      <td>2.172863e+09</td>\n",
       "      <td>6.302129e+09</td>\n",
       "    </tr>\n",
       "    <tr>\n",
       "      <th>145</th>\n",
       "      <td>2020-10-18</td>\n",
       "      <td>9.833462e+09</td>\n",
       "      <td>2.094369e+10</td>\n",
       "      <td>1.800512e+10</td>\n",
       "    </tr>\n",
       "    <tr>\n",
       "      <th>152</th>\n",
       "      <td>2020-12-06</td>\n",
       "      <td>8.335266e+09</td>\n",
       "      <td>3.479998e+10</td>\n",
       "      <td>2.024931e+10</td>\n",
       "    </tr>\n",
       "    <tr>\n",
       "      <th>153</th>\n",
       "      <td>2020-12-13</td>\n",
       "      <td>1.370066e+10</td>\n",
       "      <td>3.857259e+10</td>\n",
       "      <td>1.764926e+10</td>\n",
       "    </tr>\n",
       "    <tr>\n",
       "      <th>156</th>\n",
       "      <td>2021-01-03</td>\n",
       "      <td>5.994958e+09</td>\n",
       "      <td>3.075540e+11</td>\n",
       "      <td>2.450090e+08</td>\n",
       "    </tr>\n",
       "  </tbody>\n",
       "</table>\n",
       "</div>"
      ],
      "text/plain": [
       "        공고게시일자            용역            공사            물품\n",
       "16  2018-04-29  1.889171e+09  2.693478e+11  4.133944e+09\n",
       "18  2018-05-13  2.005612e+11  1.358105e+10  3.772054e+09\n",
       "74  2019-06-09  1.130539e+10  2.257109e+11  6.199209e+09\n",
       "100 2019-12-08  4.737786e+09  2.249730e+11  1.379574e+09\n",
       "108 2020-02-02  4.719792e+09  1.030466e+09  2.659160e+10\n",
       "111 2020-02-23  8.875846e+09  1.379098e+10  3.025613e+10\n",
       "126 2020-06-07  2.398242e+10  2.029573e+11  5.430097e+09\n",
       "129 2020-06-28  6.435350e+10  2.172863e+09  6.302129e+09\n",
       "145 2020-10-18  9.833462e+09  2.094369e+10  1.800512e+10\n",
       "152 2020-12-06  8.335266e+09  3.479998e+10  2.024931e+10\n",
       "153 2020-12-13  1.370066e+10  3.857259e+10  1.764926e+10\n",
       "156 2021-01-03  5.994958e+09  3.075540e+11  2.450090e+08"
      ]
     },
     "execution_count": 293,
     "metadata": {},
     "output_type": "execute_result"
    }
   ],
   "source": [
    "df_total.reset_index().loc[df_final.index,:]"
   ]
  },
  {
   "cell_type": "code",
   "execution_count": null,
   "metadata": {},
   "outputs": [],
   "source": []
  },
  {
   "cell_type": "code",
   "execution_count": null,
   "metadata": {},
   "outputs": [],
   "source": []
  },
  {
   "cell_type": "code",
   "execution_count": null,
   "metadata": {},
   "outputs": [],
   "source": []
  }
 ],
 "metadata": {
  "kernelspec": {
   "display_name": "Python 3",
   "language": "python",
   "name": "python3"
  },
  "language_info": {
   "codemirror_mode": {
    "name": "ipython",
    "version": 3
   },
   "file_extension": ".py",
   "mimetype": "text/x-python",
   "name": "python",
   "nbconvert_exporter": "python",
   "pygments_lexer": "ipython3",
   "version": "3.8.5"
  }
 },
 "nbformat": 4,
 "nbformat_minor": 4
}
