{
 "cells": [
  {
   "cell_type": "code",
   "execution_count": 1,
   "metadata": {},
   "outputs": [
    {
     "name": "stderr",
     "output_type": "stream",
     "text": [
      "D:\\anaconda\\lib\\site-packages\\statsmodels\\tools\\_testing.py:19: FutureWarning: pandas.util.testing is deprecated. Use the functions in the public API at pandas.testing instead.\n",
      "  import pandas.util.testing as tm\n"
     ]
    },
    {
     "data": {
      "text/html": [
       "        <script type=\"text/javascript\">\n",
       "        window.PlotlyConfig = {MathJaxConfig: 'local'};\n",
       "        if (window.MathJax) {MathJax.Hub.Config({SVG: {font: \"STIX-Web\"}});}\n",
       "        if (typeof require !== 'undefined') {\n",
       "        require.undef(\"plotly\");\n",
       "        requirejs.config({\n",
       "            paths: {\n",
       "                'plotly': ['https://cdn.plot.ly/plotly-2.9.0.min']\n",
       "            }\n",
       "        });\n",
       "        require(['plotly'], function(Plotly) {\n",
       "            window._Plotly = Plotly;\n",
       "        });\n",
       "        }\n",
       "        </script>\n",
       "        "
      ]
     },
     "metadata": {},
     "output_type": "display_data"
    },
    {
     "data": {
      "text/html": [
       "        <script type=\"text/javascript\">\n",
       "        window.PlotlyConfig = {MathJaxConfig: 'local'};\n",
       "        if (window.MathJax) {MathJax.Hub.Config({SVG: {font: \"STIX-Web\"}});}\n",
       "        if (typeof require !== 'undefined') {\n",
       "        require.undef(\"plotly\");\n",
       "        requirejs.config({\n",
       "            paths: {\n",
       "                'plotly': ['https://cdn.plot.ly/plotly-2.9.0.min']\n",
       "            }\n",
       "        });\n",
       "        require(['plotly'], function(Plotly) {\n",
       "            window._Plotly = Plotly;\n",
       "        });\n",
       "        }\n",
       "        </script>\n",
       "        "
      ]
     },
     "metadata": {},
     "output_type": "display_data"
    },
    {
     "data": {
      "text/html": [
       "<style>.container { width:100% !important; }</style>"
      ],
      "text/plain": [
       "<IPython.core.display.HTML object>"
      ]
     },
     "metadata": {},
     "output_type": "display_data"
    }
   ],
   "source": [
    "import numpy as np\n",
    "import pandas as pd\n",
    "\n",
    "from sklearn.ensemble import RandomForestRegressor, GradientBoostingRegressor\n",
    "from sklearn.preprocessing import OneHotEncoder, StandardScaler\n",
    "from sklearn.model_selection import StratifiedKFold\n",
    "from sklearn.metrics import accuracy_score\n",
    "\n",
    "import string\n",
    "import warnings\n",
    "import missingno\n",
    "warnings.filterwarnings('ignore')\n",
    "\n",
    "\n",
    "import pandas as pd\n",
    "import cufflinks as cf\n",
    "import chart_studio.plotly as py\n",
    "import plotly.graph_objects as go\n",
    "import numpy as np\n",
    "import pandas as pd\n",
    "import numpy as np\n",
    "from numpy.random import gamma\n",
    "from numpy.random import multivariate_normal\n",
    "from scipy.stats import multivariate_t\n",
    "from scipy.stats import f\n",
    "import matplotlib.pyplot as plt\n",
    "\n",
    "\n",
    "\n",
    "cf.go_offline(connected = True)\n",
    "\n",
    "\n",
    "import pandas as pd\n",
    "import cufflinks as cf\n",
    "import chart_studio.plotly as py\n",
    "import plotly.graph_objects as go\n",
    "import numpy as np\n",
    "import pandas as pd\n",
    "import numpy as np\n",
    "from numpy.random import gamma\n",
    "from numpy.random import multivariate_normal\n",
    "from scipy.stats import multivariate_t\n",
    "from scipy.stats import f\n",
    "import matplotlib.pyplot as plt\n",
    "import missingno\n",
    "\n",
    "\n",
    "cf.go_offline(connected = True)\n",
    "\n",
    "\n",
    "import numpy as np\n",
    "import matplotlib.pyplot as plt\n",
    "import pandas as pd\n",
    "import seaborn as sns\n",
    "\n",
    "from sklearn.linear_model import Ridge, Lasso\n",
    "from sklearn.model_selection import cross_val_score\n",
    "from sklearn.model_selection import train_test_split\n",
    "from sklearn.linear_model import LinearRegression\n",
    "from sklearn.metrics import r2_score\n",
    "from sklearn.metrics import mean_absolute_error\n",
    "from sklearn.metrics import mean_squared_error\n",
    "from sklearn.metrics import mean_squared_log_error\n",
    "from sklearn.metrics import make_scorer\n",
    "from sklearn.model_selection import KFold\n",
    "from sklearn.model_selection import cross_val_score\n",
    "\n",
    "import numpy as np\n",
    "import pandas as pd\n",
    "from sklearn.metrics import make_scorer\n",
    "from sklearn.ensemble import RandomForestRegressor, GradientBoostingRegressor\n",
    "from xgboost import XGBRegressor \n",
    "from sklearn.preprocessing import OneHotEncoder, StandardScaler\n",
    "from sklearn.model_selection import StratifiedKFold\n",
    "from sklearn.metrics import accuracy_score\n",
    "from sklearn.linear_model import LinearRegression\n",
    "from sklearn.linear_model import Lasso\n",
    "from sklearn.model_selection import GridSearchCV\n",
    "import string\n",
    "import warnings\n",
    "import missingno\n",
    "from scipy.stats import f\n",
    "import scipy\n",
    "\n",
    "from IPython.core.display import display, HTML\n",
    "display(HTML(\"<style>.container { width:100% !important; }</style>\"))"
   ]
  },
  {
   "cell_type": "code",
   "execution_count": 2,
   "metadata": {},
   "outputs": [],
   "source": [
    "df_용역 = pd.read_csv('용역_Proj_02_06.csv').iloc[:,1:]\n",
    "df_공사 = pd.read_csv('공사_Proj_02_06.csv').iloc[:,1:]\n",
    "df_물품 = pd.read_csv('물품_Proj_02_06.csv').iloc[:,1:]\n",
    "\n",
    "df_용역['공고게시일자'] = pd.to_datetime(df_용역['공고게시일자'])\n",
    "df_공사['공고게시일자'] = pd.to_datetime(df_공사['공고게시일자'])\n",
    "df_물품['공고게시일자'] = pd.to_datetime(df_물품['공고게시일자'])\n",
    "\n",
    "df_물품_추정가격 = df_물품.groupby(pd.Grouper(key = '공고게시일자', freq = '1W')).sum()['추정가격']\n",
    "df_공사_추정가격 = df_공사.groupby(pd.Grouper(key = '공고게시일자', freq = '1W')).sum()['추정가격']\n",
    "df_용역_추정가격 = df_용역.groupby(pd.Grouper(key = '공고게시일자', freq = '1W')).sum()['추정가격']\n",
    "\n",
    "df = pd.merge(df_용역_추정가격,df_공사_추정가격,left_index= True, right_index=True, how = 'outer')\n",
    "df_total_추정가격 = pd.merge(df,df_물품_추정가격,left_index= True, right_index=True , how = 'outer')\n",
    "\n",
    "df_total_추정가격.columns = ['용역','공사','물품']\n",
    "\n",
    "df_test = df_total_추정가격.reset_index()[['용역']].reset_index()\n",
    "\n",
    "df_물품_ZZ = df_물품[df_물품['수요기관코드'] == 'B500001']\n",
    "df_용역_ZZ = df_용역[df_용역['수요기관코드'] == 'B500001']\n",
    "df_공사_ZZ = df_공사[df_공사['수요기관코드'] == 'B500001']\n",
    "\n",
    "df_물품_ZZ_grouper = df_물품_ZZ.groupby(pd.Grouper(key = '공고게시일자', freq = '1W')).sum()[['추정가격']]\n",
    "df_용역_ZZ_grouper = df_용역_ZZ.groupby(pd.Grouper(key = '공고게시일자', freq = '1W')).sum()[['추정가격']]\n",
    "df_공사_ZZ_grouper = df_공사_ZZ.groupby(pd.Grouper(key = '공고게시일자', freq = '1W')).sum()[['추정가격']]\n",
    "\n",
    "df_물품_ZZ_grouper.reset_index()[['추정가격']]\n",
    "df_용역_ZZ_grouper.reset_index()[['추정가격']]\n",
    "df_공사_ZZ_grouper.reset_index()[['추정가격']]\n",
    "\n",
    "df_test = pd.merge(df_물품_ZZ_grouper.reset_index()[['추정가격']],df_용역_ZZ_grouper.reset_index()[['추정가격']],left_index = True, right_index =True, how = 'outer')\n",
    "df_test_2 = pd.merge(df_test,df_용역_ZZ_grouper.reset_index()[['추정가격']],left_index = True, right_index =True, how = 'outer')\n",
    "\n",
    "df_test.columns = ['물품','용역']\n",
    "df_test_2.columns = ['물품','용역','공사']\n",
    "\n",
    "df_test = df_test.fillna(0).copy()\n",
    "df_test_2 = df_test_2.fillna(0).copy()"
   ]
  },
  {
   "cell_type": "code",
   "execution_count": 3,
   "metadata": {},
   "outputs": [],
   "source": [
    "from sklearn.preprocessing import RobustScaler\n",
    "from sklearn.preprocessing import robust_scale\n",
    "\n",
    "transformer  = RobustScaler()\n",
    "transformer.fit(df_test)\n",
    "df_test = transformer.transform(df_test)\n",
    "\n",
    "transformer  = RobustScaler()\n",
    "transformer.fit(df_test_2)\n",
    "df_test_2 = transformer.transform(df_test_2)"
   ]
  },
  {
   "cell_type": "code",
   "execution_count": 4,
   "metadata": {},
   "outputs": [
    {
     "data": {
      "text/plain": [
       "0.17349953467545662"
      ]
     },
     "execution_count": 4,
     "metadata": {},
     "output_type": "execute_result"
    }
   ],
   "source": [
    "# 적절한 gamma 값 ; sklearn의 svm에서 기본 default값 계산을 참조함 (2차원)\n",
    "1/ (2 *np.array(df_test).var())"
   ]
  },
  {
   "cell_type": "code",
   "execution_count": 5,
   "metadata": {},
   "outputs": [
    {
     "data": {
      "text/plain": [
       "0.15141959537014263"
      ]
     },
     "execution_count": 5,
     "metadata": {},
     "output_type": "execute_result"
    }
   ],
   "source": [
    "# 적절한 gamma 값 ; sklearn의 svm에서 기본 default값 계산을 참조함 (3차원)\n",
    "1/ (2 *np.array(df_test_2).var()) "
   ]
  },
  {
   "cell_type": "code",
   "execution_count": 6,
   "metadata": {},
   "outputs": [],
   "source": [
    "from sklearn.preprocessing import RobustScaler\n",
    "from sklearn.preprocessing import robust_scale\n",
    "\n",
    "transformer  = RobustScaler()\n",
    "transformer.fit(df_test)\n",
    "df_test = transformer.transform(df_test)\n",
    "\n",
    "transformer  = RobustScaler()\n",
    "transformer.fit(df_test_2)\n",
    "df_test_2 = transformer.transform(df_test_2)"
   ]
  },
  {
   "cell_type": "code",
   "execution_count": 7,
   "metadata": {},
   "outputs": [],
   "source": [
    "import sys\n",
    "sys.path.append(\"C:/Users/USER/Documents/Jupyter Notebook/public_procurement/Project_02_15\\SVDD-Python-master/\")"
   ]
  },
  {
   "cell_type": "markdown",
   "metadata": {},
   "source": [
    "## 일단 2차원(물품 / 용역) 만 보기로 하였다. 왜냐하면, 시각화 시켜서 이해하기에는 2차원이 적당하기 때문이다."
   ]
  },
  {
   "cell_type": "code",
   "execution_count": 236,
   "metadata": {},
   "outputs": [
    {
     "data": {
      "text/plain": [
       "(207, 2)"
      ]
     },
     "execution_count": 236,
     "metadata": {},
     "output_type": "execute_result"
    }
   ],
   "source": [
    "df_test.shape"
   ]
  },
  {
   "cell_type": "code",
   "execution_count": 235,
   "metadata": {
    "scrolled": false
   },
   "outputs": [
    {
     "name": "stdout",
     "output_type": "stream",
     "text": [
      "\n",
      "\n",
      "*** Fitting of the SVDD model is completed. ***\n",
      "\n",
      "running time         = 0.0790 seconds\n",
      "kernel function      = rbf\n",
      "iterations           = 12\n",
      "number of samples    = 207\n",
      "number of features   = 2\n",
      "number of SVs        = 12\n",
      "ratio of SVs         = 5.7971 %\n",
      "accuracy             = 93.2367 %\n",
      "\n",
      "\n",
      "\n",
      "\n",
      "*** Prediction of the provided data is completed. ***\n",
      "\n",
      "running time         = 0.0470 seconds\n",
      "number of samples    = 207\n",
      "number of alarm      = 14\n",
      "\n",
      "\n"
     ]
    },
    {
     "data": {
      "application/vnd.plotly.v1+json": {
       "config": {
        "plotlyServerURL": "https://plot.ly"
       },
       "data": [
        {
         "line": {
          "color": "purple",
          "width": 3
         },
         "mode": "lines",
         "name": "radius",
         "type": "scatter",
         "x": [
          0,
          1,
          2,
          3,
          4,
          5,
          6,
          7,
          8,
          9,
          10,
          11,
          12,
          13,
          14,
          15,
          16,
          17,
          18,
          19,
          20,
          21,
          22,
          23,
          24,
          25,
          26,
          27,
          28,
          29,
          30,
          31,
          32,
          33,
          34,
          35,
          36,
          37,
          38,
          39,
          40,
          41,
          42,
          43,
          44,
          45,
          46,
          47,
          48,
          49,
          50,
          51,
          52,
          53,
          54,
          55,
          56,
          57,
          58,
          59,
          60,
          61,
          62,
          63,
          64,
          65,
          66,
          67,
          68,
          69,
          70,
          71,
          72,
          73,
          74,
          75,
          76,
          77,
          78,
          79,
          80,
          81,
          82,
          83,
          84,
          85,
          86,
          87,
          88,
          89,
          90,
          91,
          92,
          93,
          94,
          95,
          96,
          97,
          98,
          99,
          100,
          101,
          102,
          103,
          104,
          105,
          106,
          107,
          108,
          109,
          110,
          111,
          112,
          113,
          114,
          115,
          116,
          117,
          118,
          119,
          120,
          121,
          122,
          123,
          124,
          125,
          126,
          127,
          128,
          129,
          130,
          131,
          132,
          133,
          134,
          135,
          136,
          137,
          138,
          139,
          140,
          141,
          142,
          143,
          144,
          145,
          146,
          147,
          148,
          149,
          150,
          151,
          152,
          153,
          154,
          155,
          156,
          157,
          158,
          159,
          160,
          161,
          162,
          163,
          164,
          165,
          166,
          167,
          168,
          169,
          170,
          171,
          172,
          173,
          174,
          175,
          176,
          177,
          178,
          179,
          180,
          181,
          182,
          183,
          184,
          185,
          186,
          187,
          188,
          189,
          190,
          191,
          192,
          193,
          194,
          195,
          196,
          197,
          198,
          199,
          200,
          201,
          202,
          203,
          204,
          205,
          206
         ],
         "y": [
          0.8988421632091802,
          0.8988421632091802,
          0.8988421632091802,
          0.8988421632091802,
          0.8988421632091802,
          0.8988421632091802,
          0.8988421632091802,
          0.8988421632091802,
          0.8988421632091802,
          0.8988421632091802,
          0.8988421632091802,
          0.8988421632091802,
          0.8988421632091802,
          0.8988421632091802,
          0.8988421632091802,
          0.8988421632091802,
          0.8988421632091802,
          0.8988421632091802,
          0.8988421632091802,
          0.8988421632091802,
          0.8988421632091802,
          0.8988421632091802,
          0.8988421632091802,
          0.8988421632091802,
          0.8988421632091802,
          0.8988421632091802,
          0.8988421632091802,
          0.8988421632091802,
          0.8988421632091802,
          0.8988421632091802,
          0.8988421632091802,
          0.8988421632091802,
          0.8988421632091802,
          0.8988421632091802,
          0.8988421632091802,
          0.8988421632091802,
          0.8988421632091802,
          0.8988421632091802,
          0.8988421632091802,
          0.8988421632091802,
          0.8988421632091802,
          0.8988421632091802,
          0.8988421632091802,
          0.8988421632091802,
          0.8988421632091802,
          0.8988421632091802,
          0.8988421632091802,
          0.8988421632091802,
          0.8988421632091802,
          0.8988421632091802,
          0.8988421632091802,
          0.8988421632091802,
          0.8988421632091802,
          0.8988421632091802,
          0.8988421632091802,
          0.8988421632091802,
          0.8988421632091802,
          0.8988421632091802,
          0.8988421632091802,
          0.8988421632091802,
          0.8988421632091802,
          0.8988421632091802,
          0.8988421632091802,
          0.8988421632091802,
          0.8988421632091802,
          0.8988421632091802,
          0.8988421632091802,
          0.8988421632091802,
          0.8988421632091802,
          0.8988421632091802,
          0.8988421632091802,
          0.8988421632091802,
          0.8988421632091802,
          0.8988421632091802,
          0.8988421632091802,
          0.8988421632091802,
          0.8988421632091802,
          0.8988421632091802,
          0.8988421632091802,
          0.8988421632091802,
          0.8988421632091802,
          0.8988421632091802,
          0.8988421632091802,
          0.8988421632091802,
          0.8988421632091802,
          0.8988421632091802,
          0.8988421632091802,
          0.8988421632091802,
          0.8988421632091802,
          0.8988421632091802,
          0.8988421632091802,
          0.8988421632091802,
          0.8988421632091802,
          0.8988421632091802,
          0.8988421632091802,
          0.8988421632091802,
          0.8988421632091802,
          0.8988421632091802,
          0.8988421632091802,
          0.8988421632091802,
          0.8988421632091802,
          0.8988421632091802,
          0.8988421632091802,
          0.8988421632091802,
          0.8988421632091802,
          0.8988421632091802,
          0.8988421632091802,
          0.8988421632091802,
          0.8988421632091802,
          0.8988421632091802,
          0.8988421632091802,
          0.8988421632091802,
          0.8988421632091802,
          0.8988421632091802,
          0.8988421632091802,
          0.8988421632091802,
          0.8988421632091802,
          0.8988421632091802,
          0.8988421632091802,
          0.8988421632091802,
          0.8988421632091802,
          0.8988421632091802,
          0.8988421632091802,
          0.8988421632091802,
          0.8988421632091802,
          0.8988421632091802,
          0.8988421632091802,
          0.8988421632091802,
          0.8988421632091802,
          0.8988421632091802,
          0.8988421632091802,
          0.8988421632091802,
          0.8988421632091802,
          0.8988421632091802,
          0.8988421632091802,
          0.8988421632091802,
          0.8988421632091802,
          0.8988421632091802,
          0.8988421632091802,
          0.8988421632091802,
          0.8988421632091802,
          0.8988421632091802,
          0.8988421632091802,
          0.8988421632091802,
          0.8988421632091802,
          0.8988421632091802,
          0.8988421632091802,
          0.8988421632091802,
          0.8988421632091802,
          0.8988421632091802,
          0.8988421632091802,
          0.8988421632091802,
          0.8988421632091802,
          0.8988421632091802,
          0.8988421632091802,
          0.8988421632091802,
          0.8988421632091802,
          0.8988421632091802,
          0.8988421632091802,
          0.8988421632091802,
          0.8988421632091802,
          0.8988421632091802,
          0.8988421632091802,
          0.8988421632091802,
          0.8988421632091802,
          0.8988421632091802,
          0.8988421632091802,
          0.8988421632091802,
          0.8988421632091802,
          0.8988421632091802,
          0.8988421632091802,
          0.8988421632091802,
          0.8988421632091802,
          0.8988421632091802,
          0.8988421632091802,
          0.8988421632091802,
          0.8988421632091802,
          0.8988421632091802,
          0.8988421632091802,
          0.8988421632091802,
          0.8988421632091802,
          0.8988421632091802,
          0.8988421632091802,
          0.8988421632091802,
          0.8988421632091802,
          0.8988421632091802,
          0.8988421632091802,
          0.8988421632091802,
          0.8988421632091802,
          0.8988421632091802,
          0.8988421632091802,
          0.8988421632091802,
          0.8988421632091802,
          0.8988421632091802,
          0.8988421632091802,
          0.8988421632091802,
          0.8988421632091802,
          0.8988421632091802,
          0.8988421632091802,
          0.8988421632091802,
          0.8988421632091802,
          0.8988421632091802,
          0.8988421632091802,
          0.8988421632091802,
          0.8988421632091802,
          0.8988421632091802,
          0.8988421632091802
         ]
        },
        {
         "line": {
          "color": "royalblue",
          "width": 4
         },
         "marker": {
          "color": [
           "green",
           "green",
           "red",
           "green",
           "green",
           "green",
           "green",
           "green",
           "green",
           "green",
           "green",
           "green",
           "green",
           "green",
           "green",
           "green",
           "green",
           "green",
           "red",
           "green",
           "green",
           "red",
           "red",
           "green",
           "green",
           "green",
           "green",
           "red",
           "green",
           "green",
           "green",
           "green",
           "green",
           "green",
           "green",
           "green",
           "green",
           "green",
           "green",
           "green",
           "green",
           "green",
           "green",
           "green",
           "green",
           "green",
           "green",
           "green",
           "green",
           "green",
           "green",
           "green",
           "green",
           "green",
           "green",
           "green",
           "green",
           "green",
           "green",
           "green",
           "red",
           "green",
           "green",
           "green",
           "green",
           "green",
           "green",
           "green",
           "green",
           "green",
           "green",
           "green",
           "green",
           "green",
           "green",
           "green",
           "green",
           "green",
           "green",
           "green",
           "green",
           "green",
           "green",
           "green",
           "green",
           "green",
           "green",
           "green",
           "green",
           "green",
           "green",
           "green",
           "green",
           "green",
           "green",
           "green",
           "green",
           "green",
           "green",
           "green",
           "green",
           "green",
           "green",
           "green",
           "green",
           "green",
           "green",
           "green",
           "green",
           "green",
           "green",
           "green",
           "green",
           "green",
           "green",
           "green",
           "green",
           "green",
           "green",
           "green",
           "green",
           "green",
           "green",
           "green",
           "green",
           "green",
           "green",
           "green",
           "green",
           "red",
           "green",
           "green",
           "green",
           "green",
           "green",
           "green",
           "green",
           "green",
           "green",
           "green",
           "green",
           "green",
           "green",
           "green",
           "green",
           "green",
           "green",
           "green",
           "green",
           "green",
           "green",
           "green",
           "green",
           "green",
           "green",
           "green",
           "green",
           "green",
           "green",
           "green",
           "green",
           "red",
           "green",
           "green",
           "green",
           "green",
           "green",
           "green",
           "green",
           "green",
           "green",
           "green",
           "green",
           "green",
           "green",
           "green",
           "green",
           "green",
           "green",
           "green",
           "green",
           "green",
           "green",
           "green",
           "green",
           "green",
           "green",
           "green",
           "green",
           "green",
           "red",
           "green",
           "green",
           "green",
           "red",
           "red",
           "green",
           "red",
           "green",
           "green",
           "green",
           "green",
           "green",
           "red",
           "red",
           "green",
           "green"
          ],
          "size": 8
         },
         "mode": "lines+markers",
         "name": "Distance",
         "type": "scatter",
         "x": [
          0,
          1,
          2,
          3,
          4,
          5,
          6,
          7,
          8,
          9,
          10,
          11,
          12,
          13,
          14,
          15,
          16,
          17,
          18,
          19,
          20,
          21,
          22,
          23,
          24,
          25,
          26,
          27,
          28,
          29,
          30,
          31,
          32,
          33,
          34,
          35,
          36,
          37,
          38,
          39,
          40,
          41,
          42,
          43,
          44,
          45,
          46,
          47,
          48,
          49,
          50,
          51,
          52,
          53,
          54,
          55,
          56,
          57,
          58,
          59,
          60,
          61,
          62,
          63,
          64,
          65,
          66,
          67,
          68,
          69,
          70,
          71,
          72,
          73,
          74,
          75,
          76,
          77,
          78,
          79,
          80,
          81,
          82,
          83,
          84,
          85,
          86,
          87,
          88,
          89,
          90,
          91,
          92,
          93,
          94,
          95,
          96,
          97,
          98,
          99,
          100,
          101,
          102,
          103,
          104,
          105,
          106,
          107,
          108,
          109,
          110,
          111,
          112,
          113,
          114,
          115,
          116,
          117,
          118,
          119,
          120,
          121,
          122,
          123,
          124,
          125,
          126,
          127,
          128,
          129,
          130,
          131,
          132,
          133,
          134,
          135,
          136,
          137,
          138,
          139,
          140,
          141,
          142,
          143,
          144,
          145,
          146,
          147,
          148,
          149,
          150,
          151,
          152,
          153,
          154,
          155,
          156,
          157,
          158,
          159,
          160,
          161,
          162,
          163,
          164,
          165,
          166,
          167,
          168,
          169,
          170,
          171,
          172,
          173,
          174,
          175,
          176,
          177,
          178,
          179,
          180,
          181,
          182,
          183,
          184,
          185,
          186,
          187,
          188,
          189,
          190,
          191,
          192,
          193,
          194,
          195,
          196,
          197,
          198,
          199,
          200,
          201,
          202,
          203,
          204,
          205,
          206
         ],
         "y": [
          0.8975244032146846,
          0.8975361128905347,
          0.8993229972149486,
          0.8981495561594176,
          0.8939464336977755,
          0.8939464336977755,
          0.8966845033864017,
          0.8901979424450522,
          0.8912409760418066,
          0.8983138317958241,
          0.8974371487390352,
          0.8983138317958241,
          0.8953264643951039,
          0.8919948083142742,
          0.8866593832189358,
          0.8904843159238388,
          0.8950248222796572,
          0.8812704733222687,
          0.8993189871007466,
          0.8824668974307629,
          0.8852029085247343,
          0.8993198935637572,
          0.8993192128693086,
          0.8933107633662469,
          0.8958607111597917,
          0.8895722438568413,
          0.8899057683629816,
          0.8993214247457721,
          0.8914111669972095,
          0.8908408986231561,
          0.8904501611469908,
          0.8861380750261127,
          0.8902690294744477,
          0.8907902647589123,
          0.8832671040317296,
          0.8812693004622068,
          0.8895232441672457,
          0.8892087967403017,
          0.8934491437036471,
          0.8938801745659143,
          0.8875538242441807,
          0.8971447483162177,
          0.8906413351895274,
          0.8874414678630564,
          0.8839499787489032,
          0.8937896356476723,
          0.892312345690631,
          0.8897995407436036,
          0.8913375536606277,
          0.8918364170502596,
          0.8920657931192791,
          0.8872443660234028,
          0.8905974501940637,
          0.8975139615500272,
          0.8923110050377123,
          0.8968609447500369,
          0.8897057687693365,
          0.8951173040222634,
          0.8912237395249928,
          0.8895662473298895,
          0.8993199448747211,
          0.8907809682806651,
          0.8802632687207819,
          0.8840886844784842,
          0.8779181059660935,
          0.8747536474566069,
          0.8769481256100863,
          0.8793458280385834,
          0.8798481718800006,
          0.8754889439868171,
          0.8738848812976083,
          0.8857576864298646,
          0.888166818862943,
          0.8858490800262566,
          0.8811214022170283,
          0.8845647920932685,
          0.88232430977996,
          0.8816867523522466,
          0.8760360789609835,
          0.8765682527027044,
          0.8832250221078163,
          0.8787734542551509,
          0.8837371161273088,
          0.8807384698377451,
          0.8866999542214352,
          0.8756672871238167,
          0.883559774999377,
          0.8786055907793924,
          0.8907978909507749,
          0.8806654412364167,
          0.8780052130207038,
          0.8823473915029982,
          0.8901192639243155,
          0.8918902571809812,
          0.878947178096745,
          0.8729208792640156,
          0.8791494990962435,
          0.8848981413060244,
          0.8776304626351948,
          0.8868772707257042,
          0.8873333264014838,
          0.8853912701155582,
          0.8771259334051599,
          0.8875378289495532,
          0.8750906997615782,
          0.8842465531297827,
          0.879396160807768,
          0.8878428677667586,
          0.8804991740357044,
          0.8798972488073146,
          0.8780857366223765,
          0.8737017790585101,
          0.8777926637212197,
          0.8833330994011013,
          0.8735302166466553,
          0.8750284331953634,
          0.8826770484929161,
          0.8780133044777727,
          0.8794769245570688,
          0.875109156310135,
          0.8768731928581412,
          0.8771112325381559,
          0.8801845532646663,
          0.8781418211306842,
          0.8755577065444267,
          0.8836098376182202,
          0.8760804022615699,
          0.8730413472812513,
          0.8806389199330562,
          0.8993190530117682,
          0.8762603135647558,
          0.8778862037137044,
          0.8826734724136667,
          0.8835569028214716,
          0.8795954978238792,
          0.8852935374557728,
          0.8791290731541745,
          0.8786401028808798,
          0.8909057216567106,
          0.8787493737404012,
          0.877179689382011,
          0.8738941906219864,
          0.8783418397745016,
          0.8744030109850769,
          0.8784523929389086,
          0.8797833299485612,
          0.8809226771281143,
          0.8733143657998812,
          0.882347040048912,
          0.8721543360030244,
          0.8901956782453838,
          0.8848740955947908,
          0.8741471029182118,
          0.8868077443168938,
          0.880582206895193,
          0.8798839141284698,
          0.8780554233234007,
          0.8950098761118719,
          0.8898743057877899,
          0.8913050674264812,
          0.8901863637039104,
          0.8993193593325374,
          0.893014305207963,
          0.890802265903612,
          0.8897800233477453,
          0.8897450002449592,
          0.8912820116043745,
          0.8932612369645211,
          0.894479534628126,
          0.8902550150819412,
          0.8906072553118944,
          0.8900085699689954,
          0.8902635842480489,
          0.8921615163652191,
          0.8898144578312364,
          0.8919692538657935,
          0.8915370314844484,
          0.8905535309675644,
          0.8898297682818768,
          0.892996880421656,
          0.8897491603165939,
          0.8897506475249327,
          0.8918060086209492,
          0.8898327062053509,
          0.8904192815205492,
          0.8898788885067391,
          0.889926958266024,
          0.8924753756306364,
          0.8952200085037246,
          0.8899425809826812,
          0.8993212300449951,
          0.8907411325122255,
          0.8925351984185855,
          0.891803744008886,
          0.899321501209669,
          0.8992846375211847,
          0.8953352563769732,
          0.8993177617072112,
          0.8906049174209747,
          0.8951339141807454,
          0.8907155703527835,
          0.8921991206471571,
          0.8983436814602378,
          0.8993208811855424,
          0.8989369285209875,
          0.8936033893947278,
          0.8978933011205471
         ]
        }
       ],
       "layout": {
        "template": {
         "data": {
          "bar": [
           {
            "error_x": {
             "color": "#2a3f5f"
            },
            "error_y": {
             "color": "#2a3f5f"
            },
            "marker": {
             "line": {
              "color": "#E5ECF6",
              "width": 0.5
             },
             "pattern": {
              "fillmode": "overlay",
              "size": 10,
              "solidity": 0.2
             }
            },
            "type": "bar"
           }
          ],
          "barpolar": [
           {
            "marker": {
             "line": {
              "color": "#E5ECF6",
              "width": 0.5
             },
             "pattern": {
              "fillmode": "overlay",
              "size": 10,
              "solidity": 0.2
             }
            },
            "type": "barpolar"
           }
          ],
          "carpet": [
           {
            "aaxis": {
             "endlinecolor": "#2a3f5f",
             "gridcolor": "white",
             "linecolor": "white",
             "minorgridcolor": "white",
             "startlinecolor": "#2a3f5f"
            },
            "baxis": {
             "endlinecolor": "#2a3f5f",
             "gridcolor": "white",
             "linecolor": "white",
             "minorgridcolor": "white",
             "startlinecolor": "#2a3f5f"
            },
            "type": "carpet"
           }
          ],
          "choropleth": [
           {
            "colorbar": {
             "outlinewidth": 0,
             "ticks": ""
            },
            "type": "choropleth"
           }
          ],
          "contour": [
           {
            "colorbar": {
             "outlinewidth": 0,
             "ticks": ""
            },
            "colorscale": [
             [
              0,
              "#0d0887"
             ],
             [
              0.1111111111111111,
              "#46039f"
             ],
             [
              0.2222222222222222,
              "#7201a8"
             ],
             [
              0.3333333333333333,
              "#9c179e"
             ],
             [
              0.4444444444444444,
              "#bd3786"
             ],
             [
              0.5555555555555556,
              "#d8576b"
             ],
             [
              0.6666666666666666,
              "#ed7953"
             ],
             [
              0.7777777777777778,
              "#fb9f3a"
             ],
             [
              0.8888888888888888,
              "#fdca26"
             ],
             [
              1,
              "#f0f921"
             ]
            ],
            "type": "contour"
           }
          ],
          "contourcarpet": [
           {
            "colorbar": {
             "outlinewidth": 0,
             "ticks": ""
            },
            "type": "contourcarpet"
           }
          ],
          "heatmap": [
           {
            "colorbar": {
             "outlinewidth": 0,
             "ticks": ""
            },
            "colorscale": [
             [
              0,
              "#0d0887"
             ],
             [
              0.1111111111111111,
              "#46039f"
             ],
             [
              0.2222222222222222,
              "#7201a8"
             ],
             [
              0.3333333333333333,
              "#9c179e"
             ],
             [
              0.4444444444444444,
              "#bd3786"
             ],
             [
              0.5555555555555556,
              "#d8576b"
             ],
             [
              0.6666666666666666,
              "#ed7953"
             ],
             [
              0.7777777777777778,
              "#fb9f3a"
             ],
             [
              0.8888888888888888,
              "#fdca26"
             ],
             [
              1,
              "#f0f921"
             ]
            ],
            "type": "heatmap"
           }
          ],
          "heatmapgl": [
           {
            "colorbar": {
             "outlinewidth": 0,
             "ticks": ""
            },
            "colorscale": [
             [
              0,
              "#0d0887"
             ],
             [
              0.1111111111111111,
              "#46039f"
             ],
             [
              0.2222222222222222,
              "#7201a8"
             ],
             [
              0.3333333333333333,
              "#9c179e"
             ],
             [
              0.4444444444444444,
              "#bd3786"
             ],
             [
              0.5555555555555556,
              "#d8576b"
             ],
             [
              0.6666666666666666,
              "#ed7953"
             ],
             [
              0.7777777777777778,
              "#fb9f3a"
             ],
             [
              0.8888888888888888,
              "#fdca26"
             ],
             [
              1,
              "#f0f921"
             ]
            ],
            "type": "heatmapgl"
           }
          ],
          "histogram": [
           {
            "marker": {
             "pattern": {
              "fillmode": "overlay",
              "size": 10,
              "solidity": 0.2
             }
            },
            "type": "histogram"
           }
          ],
          "histogram2d": [
           {
            "colorbar": {
             "outlinewidth": 0,
             "ticks": ""
            },
            "colorscale": [
             [
              0,
              "#0d0887"
             ],
             [
              0.1111111111111111,
              "#46039f"
             ],
             [
              0.2222222222222222,
              "#7201a8"
             ],
             [
              0.3333333333333333,
              "#9c179e"
             ],
             [
              0.4444444444444444,
              "#bd3786"
             ],
             [
              0.5555555555555556,
              "#d8576b"
             ],
             [
              0.6666666666666666,
              "#ed7953"
             ],
             [
              0.7777777777777778,
              "#fb9f3a"
             ],
             [
              0.8888888888888888,
              "#fdca26"
             ],
             [
              1,
              "#f0f921"
             ]
            ],
            "type": "histogram2d"
           }
          ],
          "histogram2dcontour": [
           {
            "colorbar": {
             "outlinewidth": 0,
             "ticks": ""
            },
            "colorscale": [
             [
              0,
              "#0d0887"
             ],
             [
              0.1111111111111111,
              "#46039f"
             ],
             [
              0.2222222222222222,
              "#7201a8"
             ],
             [
              0.3333333333333333,
              "#9c179e"
             ],
             [
              0.4444444444444444,
              "#bd3786"
             ],
             [
              0.5555555555555556,
              "#d8576b"
             ],
             [
              0.6666666666666666,
              "#ed7953"
             ],
             [
              0.7777777777777778,
              "#fb9f3a"
             ],
             [
              0.8888888888888888,
              "#fdca26"
             ],
             [
              1,
              "#f0f921"
             ]
            ],
            "type": "histogram2dcontour"
           }
          ],
          "mesh3d": [
           {
            "colorbar": {
             "outlinewidth": 0,
             "ticks": ""
            },
            "type": "mesh3d"
           }
          ],
          "parcoords": [
           {
            "line": {
             "colorbar": {
              "outlinewidth": 0,
              "ticks": ""
             }
            },
            "type": "parcoords"
           }
          ],
          "pie": [
           {
            "automargin": true,
            "type": "pie"
           }
          ],
          "scatter": [
           {
            "marker": {
             "colorbar": {
              "outlinewidth": 0,
              "ticks": ""
             }
            },
            "type": "scatter"
           }
          ],
          "scatter3d": [
           {
            "line": {
             "colorbar": {
              "outlinewidth": 0,
              "ticks": ""
             }
            },
            "marker": {
             "colorbar": {
              "outlinewidth": 0,
              "ticks": ""
             }
            },
            "type": "scatter3d"
           }
          ],
          "scattercarpet": [
           {
            "marker": {
             "colorbar": {
              "outlinewidth": 0,
              "ticks": ""
             }
            },
            "type": "scattercarpet"
           }
          ],
          "scattergeo": [
           {
            "marker": {
             "colorbar": {
              "outlinewidth": 0,
              "ticks": ""
             }
            },
            "type": "scattergeo"
           }
          ],
          "scattergl": [
           {
            "marker": {
             "colorbar": {
              "outlinewidth": 0,
              "ticks": ""
             }
            },
            "type": "scattergl"
           }
          ],
          "scattermapbox": [
           {
            "marker": {
             "colorbar": {
              "outlinewidth": 0,
              "ticks": ""
             }
            },
            "type": "scattermapbox"
           }
          ],
          "scatterpolar": [
           {
            "marker": {
             "colorbar": {
              "outlinewidth": 0,
              "ticks": ""
             }
            },
            "type": "scatterpolar"
           }
          ],
          "scatterpolargl": [
           {
            "marker": {
             "colorbar": {
              "outlinewidth": 0,
              "ticks": ""
             }
            },
            "type": "scatterpolargl"
           }
          ],
          "scatterternary": [
           {
            "marker": {
             "colorbar": {
              "outlinewidth": 0,
              "ticks": ""
             }
            },
            "type": "scatterternary"
           }
          ],
          "surface": [
           {
            "colorbar": {
             "outlinewidth": 0,
             "ticks": ""
            },
            "colorscale": [
             [
              0,
              "#0d0887"
             ],
             [
              0.1111111111111111,
              "#46039f"
             ],
             [
              0.2222222222222222,
              "#7201a8"
             ],
             [
              0.3333333333333333,
              "#9c179e"
             ],
             [
              0.4444444444444444,
              "#bd3786"
             ],
             [
              0.5555555555555556,
              "#d8576b"
             ],
             [
              0.6666666666666666,
              "#ed7953"
             ],
             [
              0.7777777777777778,
              "#fb9f3a"
             ],
             [
              0.8888888888888888,
              "#fdca26"
             ],
             [
              1,
              "#f0f921"
             ]
            ],
            "type": "surface"
           }
          ],
          "table": [
           {
            "cells": {
             "fill": {
              "color": "#EBF0F8"
             },
             "line": {
              "color": "white"
             }
            },
            "header": {
             "fill": {
              "color": "#C8D4E3"
             },
             "line": {
              "color": "white"
             }
            },
            "type": "table"
           }
          ]
         },
         "layout": {
          "annotationdefaults": {
           "arrowcolor": "#2a3f5f",
           "arrowhead": 0,
           "arrowwidth": 1
          },
          "autotypenumbers": "strict",
          "coloraxis": {
           "colorbar": {
            "outlinewidth": 0,
            "ticks": ""
           }
          },
          "colorscale": {
           "diverging": [
            [
             0,
             "#8e0152"
            ],
            [
             0.1,
             "#c51b7d"
            ],
            [
             0.2,
             "#de77ae"
            ],
            [
             0.3,
             "#f1b6da"
            ],
            [
             0.4,
             "#fde0ef"
            ],
            [
             0.5,
             "#f7f7f7"
            ],
            [
             0.6,
             "#e6f5d0"
            ],
            [
             0.7,
             "#b8e186"
            ],
            [
             0.8,
             "#7fbc41"
            ],
            [
             0.9,
             "#4d9221"
            ],
            [
             1,
             "#276419"
            ]
           ],
           "sequential": [
            [
             0,
             "#0d0887"
            ],
            [
             0.1111111111111111,
             "#46039f"
            ],
            [
             0.2222222222222222,
             "#7201a8"
            ],
            [
             0.3333333333333333,
             "#9c179e"
            ],
            [
             0.4444444444444444,
             "#bd3786"
            ],
            [
             0.5555555555555556,
             "#d8576b"
            ],
            [
             0.6666666666666666,
             "#ed7953"
            ],
            [
             0.7777777777777778,
             "#fb9f3a"
            ],
            [
             0.8888888888888888,
             "#fdca26"
            ],
            [
             1,
             "#f0f921"
            ]
           ],
           "sequentialminus": [
            [
             0,
             "#0d0887"
            ],
            [
             0.1111111111111111,
             "#46039f"
            ],
            [
             0.2222222222222222,
             "#7201a8"
            ],
            [
             0.3333333333333333,
             "#9c179e"
            ],
            [
             0.4444444444444444,
             "#bd3786"
            ],
            [
             0.5555555555555556,
             "#d8576b"
            ],
            [
             0.6666666666666666,
             "#ed7953"
            ],
            [
             0.7777777777777778,
             "#fb9f3a"
            ],
            [
             0.8888888888888888,
             "#fdca26"
            ],
            [
             1,
             "#f0f921"
            ]
           ]
          },
          "colorway": [
           "#636efa",
           "#EF553B",
           "#00cc96",
           "#ab63fa",
           "#FFA15A",
           "#19d3f3",
           "#FF6692",
           "#B6E880",
           "#FF97FF",
           "#FECB52"
          ],
          "font": {
           "color": "#2a3f5f"
          },
          "geo": {
           "bgcolor": "white",
           "lakecolor": "white",
           "landcolor": "#E5ECF6",
           "showlakes": true,
           "showland": true,
           "subunitcolor": "white"
          },
          "hoverlabel": {
           "align": "left"
          },
          "hovermode": "closest",
          "mapbox": {
           "style": "light"
          },
          "paper_bgcolor": "white",
          "plot_bgcolor": "#E5ECF6",
          "polar": {
           "angularaxis": {
            "gridcolor": "white",
            "linecolor": "white",
            "ticks": ""
           },
           "bgcolor": "#E5ECF6",
           "radialaxis": {
            "gridcolor": "white",
            "linecolor": "white",
            "ticks": ""
           }
          },
          "scene": {
           "xaxis": {
            "backgroundcolor": "#E5ECF6",
            "gridcolor": "white",
            "gridwidth": 2,
            "linecolor": "white",
            "showbackground": true,
            "ticks": "",
            "zerolinecolor": "white"
           },
           "yaxis": {
            "backgroundcolor": "#E5ECF6",
            "gridcolor": "white",
            "gridwidth": 2,
            "linecolor": "white",
            "showbackground": true,
            "ticks": "",
            "zerolinecolor": "white"
           },
           "zaxis": {
            "backgroundcolor": "#E5ECF6",
            "gridcolor": "white",
            "gridwidth": 2,
            "linecolor": "white",
            "showbackground": true,
            "ticks": "",
            "zerolinecolor": "white"
           }
          },
          "shapedefaults": {
           "line": {
            "color": "#2a3f5f"
           }
          },
          "ternary": {
           "aaxis": {
            "gridcolor": "white",
            "linecolor": "white",
            "ticks": ""
           },
           "baxis": {
            "gridcolor": "white",
            "linecolor": "white",
            "ticks": ""
           },
           "bgcolor": "#E5ECF6",
           "caxis": {
            "gridcolor": "white",
            "linecolor": "white",
            "ticks": ""
           }
          },
          "title": {
           "x": 0.05
          },
          "xaxis": {
           "automargin": true,
           "gridcolor": "white",
           "linecolor": "white",
           "ticks": "",
           "title": {
            "standoff": 15
           },
           "zerolinecolor": "white",
           "zerolinewidth": 2
          },
          "yaxis": {
           "automargin": true,
           "gridcolor": "white",
           "linecolor": "white",
           "ticks": "",
           "title": {
            "standoff": 15
           },
           "zerolinecolor": "white",
           "zerolinewidth": 2
          }
         }
        },
        "title": {
         "text": "Control Chart"
        },
        "xaxis": {
         "title": {
          "text": "Samples"
         }
        },
        "yaxis": {
         "title": {
          "text": "Distance"
         }
        }
       }
      },
      "text/html": [
       "<div>                            <div id=\"34157722-5b03-4c6b-9baf-2d834734c1b6\" class=\"plotly-graph-div\" style=\"height:525px; width:100%;\"></div>            <script type=\"text/javascript\">                require([\"plotly\"], function(Plotly) {                    window.PLOTLYENV=window.PLOTLYENV || {};                                    if (document.getElementById(\"34157722-5b03-4c6b-9baf-2d834734c1b6\")) {                    Plotly.newPlot(                        \"34157722-5b03-4c6b-9baf-2d834734c1b6\",                        [{\"line\":{\"color\":\"purple\",\"width\":3},\"mode\":\"lines\",\"name\":\"radius\",\"x\":[0,1,2,3,4,5,6,7,8,9,10,11,12,13,14,15,16,17,18,19,20,21,22,23,24,25,26,27,28,29,30,31,32,33,34,35,36,37,38,39,40,41,42,43,44,45,46,47,48,49,50,51,52,53,54,55,56,57,58,59,60,61,62,63,64,65,66,67,68,69,70,71,72,73,74,75,76,77,78,79,80,81,82,83,84,85,86,87,88,89,90,91,92,93,94,95,96,97,98,99,100,101,102,103,104,105,106,107,108,109,110,111,112,113,114,115,116,117,118,119,120,121,122,123,124,125,126,127,128,129,130,131,132,133,134,135,136,137,138,139,140,141,142,143,144,145,146,147,148,149,150,151,152,153,154,155,156,157,158,159,160,161,162,163,164,165,166,167,168,169,170,171,172,173,174,175,176,177,178,179,180,181,182,183,184,185,186,187,188,189,190,191,192,193,194,195,196,197,198,199,200,201,202,203,204,205,206],\"y\":[0.8988421632091802,0.8988421632091802,0.8988421632091802,0.8988421632091802,0.8988421632091802,0.8988421632091802,0.8988421632091802,0.8988421632091802,0.8988421632091802,0.8988421632091802,0.8988421632091802,0.8988421632091802,0.8988421632091802,0.8988421632091802,0.8988421632091802,0.8988421632091802,0.8988421632091802,0.8988421632091802,0.8988421632091802,0.8988421632091802,0.8988421632091802,0.8988421632091802,0.8988421632091802,0.8988421632091802,0.8988421632091802,0.8988421632091802,0.8988421632091802,0.8988421632091802,0.8988421632091802,0.8988421632091802,0.8988421632091802,0.8988421632091802,0.8988421632091802,0.8988421632091802,0.8988421632091802,0.8988421632091802,0.8988421632091802,0.8988421632091802,0.8988421632091802,0.8988421632091802,0.8988421632091802,0.8988421632091802,0.8988421632091802,0.8988421632091802,0.8988421632091802,0.8988421632091802,0.8988421632091802,0.8988421632091802,0.8988421632091802,0.8988421632091802,0.8988421632091802,0.8988421632091802,0.8988421632091802,0.8988421632091802,0.8988421632091802,0.8988421632091802,0.8988421632091802,0.8988421632091802,0.8988421632091802,0.8988421632091802,0.8988421632091802,0.8988421632091802,0.8988421632091802,0.8988421632091802,0.8988421632091802,0.8988421632091802,0.8988421632091802,0.8988421632091802,0.8988421632091802,0.8988421632091802,0.8988421632091802,0.8988421632091802,0.8988421632091802,0.8988421632091802,0.8988421632091802,0.8988421632091802,0.8988421632091802,0.8988421632091802,0.8988421632091802,0.8988421632091802,0.8988421632091802,0.8988421632091802,0.8988421632091802,0.8988421632091802,0.8988421632091802,0.8988421632091802,0.8988421632091802,0.8988421632091802,0.8988421632091802,0.8988421632091802,0.8988421632091802,0.8988421632091802,0.8988421632091802,0.8988421632091802,0.8988421632091802,0.8988421632091802,0.8988421632091802,0.8988421632091802,0.8988421632091802,0.8988421632091802,0.8988421632091802,0.8988421632091802,0.8988421632091802,0.8988421632091802,0.8988421632091802,0.8988421632091802,0.8988421632091802,0.8988421632091802,0.8988421632091802,0.8988421632091802,0.8988421632091802,0.8988421632091802,0.8988421632091802,0.8988421632091802,0.8988421632091802,0.8988421632091802,0.8988421632091802,0.8988421632091802,0.8988421632091802,0.8988421632091802,0.8988421632091802,0.8988421632091802,0.8988421632091802,0.8988421632091802,0.8988421632091802,0.8988421632091802,0.8988421632091802,0.8988421632091802,0.8988421632091802,0.8988421632091802,0.8988421632091802,0.8988421632091802,0.8988421632091802,0.8988421632091802,0.8988421632091802,0.8988421632091802,0.8988421632091802,0.8988421632091802,0.8988421632091802,0.8988421632091802,0.8988421632091802,0.8988421632091802,0.8988421632091802,0.8988421632091802,0.8988421632091802,0.8988421632091802,0.8988421632091802,0.8988421632091802,0.8988421632091802,0.8988421632091802,0.8988421632091802,0.8988421632091802,0.8988421632091802,0.8988421632091802,0.8988421632091802,0.8988421632091802,0.8988421632091802,0.8988421632091802,0.8988421632091802,0.8988421632091802,0.8988421632091802,0.8988421632091802,0.8988421632091802,0.8988421632091802,0.8988421632091802,0.8988421632091802,0.8988421632091802,0.8988421632091802,0.8988421632091802,0.8988421632091802,0.8988421632091802,0.8988421632091802,0.8988421632091802,0.8988421632091802,0.8988421632091802,0.8988421632091802,0.8988421632091802,0.8988421632091802,0.8988421632091802,0.8988421632091802,0.8988421632091802,0.8988421632091802,0.8988421632091802,0.8988421632091802,0.8988421632091802,0.8988421632091802,0.8988421632091802,0.8988421632091802,0.8988421632091802,0.8988421632091802,0.8988421632091802,0.8988421632091802,0.8988421632091802,0.8988421632091802,0.8988421632091802,0.8988421632091802,0.8988421632091802,0.8988421632091802,0.8988421632091802,0.8988421632091802,0.8988421632091802,0.8988421632091802,0.8988421632091802,0.8988421632091802,0.8988421632091802,0.8988421632091802,0.8988421632091802],\"type\":\"scatter\"},{\"line\":{\"color\":\"royalblue\",\"width\":4},\"marker\":{\"color\":[\"green\",\"green\",\"red\",\"green\",\"green\",\"green\",\"green\",\"green\",\"green\",\"green\",\"green\",\"green\",\"green\",\"green\",\"green\",\"green\",\"green\",\"green\",\"red\",\"green\",\"green\",\"red\",\"red\",\"green\",\"green\",\"green\",\"green\",\"red\",\"green\",\"green\",\"green\",\"green\",\"green\",\"green\",\"green\",\"green\",\"green\",\"green\",\"green\",\"green\",\"green\",\"green\",\"green\",\"green\",\"green\",\"green\",\"green\",\"green\",\"green\",\"green\",\"green\",\"green\",\"green\",\"green\",\"green\",\"green\",\"green\",\"green\",\"green\",\"green\",\"red\",\"green\",\"green\",\"green\",\"green\",\"green\",\"green\",\"green\",\"green\",\"green\",\"green\",\"green\",\"green\",\"green\",\"green\",\"green\",\"green\",\"green\",\"green\",\"green\",\"green\",\"green\",\"green\",\"green\",\"green\",\"green\",\"green\",\"green\",\"green\",\"green\",\"green\",\"green\",\"green\",\"green\",\"green\",\"green\",\"green\",\"green\",\"green\",\"green\",\"green\",\"green\",\"green\",\"green\",\"green\",\"green\",\"green\",\"green\",\"green\",\"green\",\"green\",\"green\",\"green\",\"green\",\"green\",\"green\",\"green\",\"green\",\"green\",\"green\",\"green\",\"green\",\"green\",\"green\",\"green\",\"green\",\"green\",\"green\",\"green\",\"red\",\"green\",\"green\",\"green\",\"green\",\"green\",\"green\",\"green\",\"green\",\"green\",\"green\",\"green\",\"green\",\"green\",\"green\",\"green\",\"green\",\"green\",\"green\",\"green\",\"green\",\"green\",\"green\",\"green\",\"green\",\"green\",\"green\",\"green\",\"green\",\"green\",\"green\",\"green\",\"red\",\"green\",\"green\",\"green\",\"green\",\"green\",\"green\",\"green\",\"green\",\"green\",\"green\",\"green\",\"green\",\"green\",\"green\",\"green\",\"green\",\"green\",\"green\",\"green\",\"green\",\"green\",\"green\",\"green\",\"green\",\"green\",\"green\",\"green\",\"green\",\"red\",\"green\",\"green\",\"green\",\"red\",\"red\",\"green\",\"red\",\"green\",\"green\",\"green\",\"green\",\"green\",\"red\",\"red\",\"green\",\"green\"],\"size\":8},\"mode\":\"lines+markers\",\"name\":\"Distance\",\"x\":[0,1,2,3,4,5,6,7,8,9,10,11,12,13,14,15,16,17,18,19,20,21,22,23,24,25,26,27,28,29,30,31,32,33,34,35,36,37,38,39,40,41,42,43,44,45,46,47,48,49,50,51,52,53,54,55,56,57,58,59,60,61,62,63,64,65,66,67,68,69,70,71,72,73,74,75,76,77,78,79,80,81,82,83,84,85,86,87,88,89,90,91,92,93,94,95,96,97,98,99,100,101,102,103,104,105,106,107,108,109,110,111,112,113,114,115,116,117,118,119,120,121,122,123,124,125,126,127,128,129,130,131,132,133,134,135,136,137,138,139,140,141,142,143,144,145,146,147,148,149,150,151,152,153,154,155,156,157,158,159,160,161,162,163,164,165,166,167,168,169,170,171,172,173,174,175,176,177,178,179,180,181,182,183,184,185,186,187,188,189,190,191,192,193,194,195,196,197,198,199,200,201,202,203,204,205,206],\"y\":[0.8975244032146846,0.8975361128905347,0.8993229972149486,0.8981495561594176,0.8939464336977755,0.8939464336977755,0.8966845033864017,0.8901979424450522,0.8912409760418066,0.8983138317958241,0.8974371487390352,0.8983138317958241,0.8953264643951039,0.8919948083142742,0.8866593832189358,0.8904843159238388,0.8950248222796572,0.8812704733222687,0.8993189871007466,0.8824668974307629,0.8852029085247343,0.8993198935637572,0.8993192128693086,0.8933107633662469,0.8958607111597917,0.8895722438568413,0.8899057683629816,0.8993214247457721,0.8914111669972095,0.8908408986231561,0.8904501611469908,0.8861380750261127,0.8902690294744477,0.8907902647589123,0.8832671040317296,0.8812693004622068,0.8895232441672457,0.8892087967403017,0.8934491437036471,0.8938801745659143,0.8875538242441807,0.8971447483162177,0.8906413351895274,0.8874414678630564,0.8839499787489032,0.8937896356476723,0.892312345690631,0.8897995407436036,0.8913375536606277,0.8918364170502596,0.8920657931192791,0.8872443660234028,0.8905974501940637,0.8975139615500272,0.8923110050377123,0.8968609447500369,0.8897057687693365,0.8951173040222634,0.8912237395249928,0.8895662473298895,0.8993199448747211,0.8907809682806651,0.8802632687207819,0.8840886844784842,0.8779181059660935,0.8747536474566069,0.8769481256100863,0.8793458280385834,0.8798481718800006,0.8754889439868171,0.8738848812976083,0.8857576864298646,0.888166818862943,0.8858490800262566,0.8811214022170283,0.8845647920932685,0.88232430977996,0.8816867523522466,0.8760360789609835,0.8765682527027044,0.8832250221078163,0.8787734542551509,0.8837371161273088,0.8807384698377451,0.8866999542214352,0.8756672871238167,0.883559774999377,0.8786055907793924,0.8907978909507749,0.8806654412364167,0.8780052130207038,0.8823473915029982,0.8901192639243155,0.8918902571809812,0.878947178096745,0.8729208792640156,0.8791494990962435,0.8848981413060244,0.8776304626351948,0.8868772707257042,0.8873333264014838,0.8853912701155582,0.8771259334051599,0.8875378289495532,0.8750906997615782,0.8842465531297827,0.879396160807768,0.8878428677667586,0.8804991740357044,0.8798972488073146,0.8780857366223765,0.8737017790585101,0.8777926637212197,0.8833330994011013,0.8735302166466553,0.8750284331953634,0.8826770484929161,0.8780133044777727,0.8794769245570688,0.875109156310135,0.8768731928581412,0.8771112325381559,0.8801845532646663,0.8781418211306842,0.8755577065444267,0.8836098376182202,0.8760804022615699,0.8730413472812513,0.8806389199330562,0.8993190530117682,0.8762603135647558,0.8778862037137044,0.8826734724136667,0.8835569028214716,0.8795954978238792,0.8852935374557728,0.8791290731541745,0.8786401028808798,0.8909057216567106,0.8787493737404012,0.877179689382011,0.8738941906219864,0.8783418397745016,0.8744030109850769,0.8784523929389086,0.8797833299485612,0.8809226771281143,0.8733143657998812,0.882347040048912,0.8721543360030244,0.8901956782453838,0.8848740955947908,0.8741471029182118,0.8868077443168938,0.880582206895193,0.8798839141284698,0.8780554233234007,0.8950098761118719,0.8898743057877899,0.8913050674264812,0.8901863637039104,0.8993193593325374,0.893014305207963,0.890802265903612,0.8897800233477453,0.8897450002449592,0.8912820116043745,0.8932612369645211,0.894479534628126,0.8902550150819412,0.8906072553118944,0.8900085699689954,0.8902635842480489,0.8921615163652191,0.8898144578312364,0.8919692538657935,0.8915370314844484,0.8905535309675644,0.8898297682818768,0.892996880421656,0.8897491603165939,0.8897506475249327,0.8918060086209492,0.8898327062053509,0.8904192815205492,0.8898788885067391,0.889926958266024,0.8924753756306364,0.8952200085037246,0.8899425809826812,0.8993212300449951,0.8907411325122255,0.8925351984185855,0.891803744008886,0.899321501209669,0.8992846375211847,0.8953352563769732,0.8993177617072112,0.8906049174209747,0.8951339141807454,0.8907155703527835,0.8921991206471571,0.8983436814602378,0.8993208811855424,0.8989369285209875,0.8936033893947278,0.8978933011205471],\"type\":\"scatter\"}],                        {\"template\":{\"data\":{\"bar\":[{\"error_x\":{\"color\":\"#2a3f5f\"},\"error_y\":{\"color\":\"#2a3f5f\"},\"marker\":{\"line\":{\"color\":\"#E5ECF6\",\"width\":0.5},\"pattern\":{\"fillmode\":\"overlay\",\"size\":10,\"solidity\":0.2}},\"type\":\"bar\"}],\"barpolar\":[{\"marker\":{\"line\":{\"color\":\"#E5ECF6\",\"width\":0.5},\"pattern\":{\"fillmode\":\"overlay\",\"size\":10,\"solidity\":0.2}},\"type\":\"barpolar\"}],\"carpet\":[{\"aaxis\":{\"endlinecolor\":\"#2a3f5f\",\"gridcolor\":\"white\",\"linecolor\":\"white\",\"minorgridcolor\":\"white\",\"startlinecolor\":\"#2a3f5f\"},\"baxis\":{\"endlinecolor\":\"#2a3f5f\",\"gridcolor\":\"white\",\"linecolor\":\"white\",\"minorgridcolor\":\"white\",\"startlinecolor\":\"#2a3f5f\"},\"type\":\"carpet\"}],\"choropleth\":[{\"colorbar\":{\"outlinewidth\":0,\"ticks\":\"\"},\"type\":\"choropleth\"}],\"contour\":[{\"colorbar\":{\"outlinewidth\":0,\"ticks\":\"\"},\"colorscale\":[[0.0,\"#0d0887\"],[0.1111111111111111,\"#46039f\"],[0.2222222222222222,\"#7201a8\"],[0.3333333333333333,\"#9c179e\"],[0.4444444444444444,\"#bd3786\"],[0.5555555555555556,\"#d8576b\"],[0.6666666666666666,\"#ed7953\"],[0.7777777777777778,\"#fb9f3a\"],[0.8888888888888888,\"#fdca26\"],[1.0,\"#f0f921\"]],\"type\":\"contour\"}],\"contourcarpet\":[{\"colorbar\":{\"outlinewidth\":0,\"ticks\":\"\"},\"type\":\"contourcarpet\"}],\"heatmap\":[{\"colorbar\":{\"outlinewidth\":0,\"ticks\":\"\"},\"colorscale\":[[0.0,\"#0d0887\"],[0.1111111111111111,\"#46039f\"],[0.2222222222222222,\"#7201a8\"],[0.3333333333333333,\"#9c179e\"],[0.4444444444444444,\"#bd3786\"],[0.5555555555555556,\"#d8576b\"],[0.6666666666666666,\"#ed7953\"],[0.7777777777777778,\"#fb9f3a\"],[0.8888888888888888,\"#fdca26\"],[1.0,\"#f0f921\"]],\"type\":\"heatmap\"}],\"heatmapgl\":[{\"colorbar\":{\"outlinewidth\":0,\"ticks\":\"\"},\"colorscale\":[[0.0,\"#0d0887\"],[0.1111111111111111,\"#46039f\"],[0.2222222222222222,\"#7201a8\"],[0.3333333333333333,\"#9c179e\"],[0.4444444444444444,\"#bd3786\"],[0.5555555555555556,\"#d8576b\"],[0.6666666666666666,\"#ed7953\"],[0.7777777777777778,\"#fb9f3a\"],[0.8888888888888888,\"#fdca26\"],[1.0,\"#f0f921\"]],\"type\":\"heatmapgl\"}],\"histogram\":[{\"marker\":{\"pattern\":{\"fillmode\":\"overlay\",\"size\":10,\"solidity\":0.2}},\"type\":\"histogram\"}],\"histogram2d\":[{\"colorbar\":{\"outlinewidth\":0,\"ticks\":\"\"},\"colorscale\":[[0.0,\"#0d0887\"],[0.1111111111111111,\"#46039f\"],[0.2222222222222222,\"#7201a8\"],[0.3333333333333333,\"#9c179e\"],[0.4444444444444444,\"#bd3786\"],[0.5555555555555556,\"#d8576b\"],[0.6666666666666666,\"#ed7953\"],[0.7777777777777778,\"#fb9f3a\"],[0.8888888888888888,\"#fdca26\"],[1.0,\"#f0f921\"]],\"type\":\"histogram2d\"}],\"histogram2dcontour\":[{\"colorbar\":{\"outlinewidth\":0,\"ticks\":\"\"},\"colorscale\":[[0.0,\"#0d0887\"],[0.1111111111111111,\"#46039f\"],[0.2222222222222222,\"#7201a8\"],[0.3333333333333333,\"#9c179e\"],[0.4444444444444444,\"#bd3786\"],[0.5555555555555556,\"#d8576b\"],[0.6666666666666666,\"#ed7953\"],[0.7777777777777778,\"#fb9f3a\"],[0.8888888888888888,\"#fdca26\"],[1.0,\"#f0f921\"]],\"type\":\"histogram2dcontour\"}],\"mesh3d\":[{\"colorbar\":{\"outlinewidth\":0,\"ticks\":\"\"},\"type\":\"mesh3d\"}],\"parcoords\":[{\"line\":{\"colorbar\":{\"outlinewidth\":0,\"ticks\":\"\"}},\"type\":\"parcoords\"}],\"pie\":[{\"automargin\":true,\"type\":\"pie\"}],\"scatter\":[{\"marker\":{\"colorbar\":{\"outlinewidth\":0,\"ticks\":\"\"}},\"type\":\"scatter\"}],\"scatter3d\":[{\"line\":{\"colorbar\":{\"outlinewidth\":0,\"ticks\":\"\"}},\"marker\":{\"colorbar\":{\"outlinewidth\":0,\"ticks\":\"\"}},\"type\":\"scatter3d\"}],\"scattercarpet\":[{\"marker\":{\"colorbar\":{\"outlinewidth\":0,\"ticks\":\"\"}},\"type\":\"scattercarpet\"}],\"scattergeo\":[{\"marker\":{\"colorbar\":{\"outlinewidth\":0,\"ticks\":\"\"}},\"type\":\"scattergeo\"}],\"scattergl\":[{\"marker\":{\"colorbar\":{\"outlinewidth\":0,\"ticks\":\"\"}},\"type\":\"scattergl\"}],\"scattermapbox\":[{\"marker\":{\"colorbar\":{\"outlinewidth\":0,\"ticks\":\"\"}},\"type\":\"scattermapbox\"}],\"scatterpolar\":[{\"marker\":{\"colorbar\":{\"outlinewidth\":0,\"ticks\":\"\"}},\"type\":\"scatterpolar\"}],\"scatterpolargl\":[{\"marker\":{\"colorbar\":{\"outlinewidth\":0,\"ticks\":\"\"}},\"type\":\"scatterpolargl\"}],\"scatterternary\":[{\"marker\":{\"colorbar\":{\"outlinewidth\":0,\"ticks\":\"\"}},\"type\":\"scatterternary\"}],\"surface\":[{\"colorbar\":{\"outlinewidth\":0,\"ticks\":\"\"},\"colorscale\":[[0.0,\"#0d0887\"],[0.1111111111111111,\"#46039f\"],[0.2222222222222222,\"#7201a8\"],[0.3333333333333333,\"#9c179e\"],[0.4444444444444444,\"#bd3786\"],[0.5555555555555556,\"#d8576b\"],[0.6666666666666666,\"#ed7953\"],[0.7777777777777778,\"#fb9f3a\"],[0.8888888888888888,\"#fdca26\"],[1.0,\"#f0f921\"]],\"type\":\"surface\"}],\"table\":[{\"cells\":{\"fill\":{\"color\":\"#EBF0F8\"},\"line\":{\"color\":\"white\"}},\"header\":{\"fill\":{\"color\":\"#C8D4E3\"},\"line\":{\"color\":\"white\"}},\"type\":\"table\"}]},\"layout\":{\"annotationdefaults\":{\"arrowcolor\":\"#2a3f5f\",\"arrowhead\":0,\"arrowwidth\":1},\"autotypenumbers\":\"strict\",\"coloraxis\":{\"colorbar\":{\"outlinewidth\":0,\"ticks\":\"\"}},\"colorscale\":{\"diverging\":[[0,\"#8e0152\"],[0.1,\"#c51b7d\"],[0.2,\"#de77ae\"],[0.3,\"#f1b6da\"],[0.4,\"#fde0ef\"],[0.5,\"#f7f7f7\"],[0.6,\"#e6f5d0\"],[0.7,\"#b8e186\"],[0.8,\"#7fbc41\"],[0.9,\"#4d9221\"],[1,\"#276419\"]],\"sequential\":[[0.0,\"#0d0887\"],[0.1111111111111111,\"#46039f\"],[0.2222222222222222,\"#7201a8\"],[0.3333333333333333,\"#9c179e\"],[0.4444444444444444,\"#bd3786\"],[0.5555555555555556,\"#d8576b\"],[0.6666666666666666,\"#ed7953\"],[0.7777777777777778,\"#fb9f3a\"],[0.8888888888888888,\"#fdca26\"],[1.0,\"#f0f921\"]],\"sequentialminus\":[[0.0,\"#0d0887\"],[0.1111111111111111,\"#46039f\"],[0.2222222222222222,\"#7201a8\"],[0.3333333333333333,\"#9c179e\"],[0.4444444444444444,\"#bd3786\"],[0.5555555555555556,\"#d8576b\"],[0.6666666666666666,\"#ed7953\"],[0.7777777777777778,\"#fb9f3a\"],[0.8888888888888888,\"#fdca26\"],[1.0,\"#f0f921\"]]},\"colorway\":[\"#636efa\",\"#EF553B\",\"#00cc96\",\"#ab63fa\",\"#FFA15A\",\"#19d3f3\",\"#FF6692\",\"#B6E880\",\"#FF97FF\",\"#FECB52\"],\"font\":{\"color\":\"#2a3f5f\"},\"geo\":{\"bgcolor\":\"white\",\"lakecolor\":\"white\",\"landcolor\":\"#E5ECF6\",\"showlakes\":true,\"showland\":true,\"subunitcolor\":\"white\"},\"hoverlabel\":{\"align\":\"left\"},\"hovermode\":\"closest\",\"mapbox\":{\"style\":\"light\"},\"paper_bgcolor\":\"white\",\"plot_bgcolor\":\"#E5ECF6\",\"polar\":{\"angularaxis\":{\"gridcolor\":\"white\",\"linecolor\":\"white\",\"ticks\":\"\"},\"bgcolor\":\"#E5ECF6\",\"radialaxis\":{\"gridcolor\":\"white\",\"linecolor\":\"white\",\"ticks\":\"\"}},\"scene\":{\"xaxis\":{\"backgroundcolor\":\"#E5ECF6\",\"gridcolor\":\"white\",\"gridwidth\":2,\"linecolor\":\"white\",\"showbackground\":true,\"ticks\":\"\",\"zerolinecolor\":\"white\"},\"yaxis\":{\"backgroundcolor\":\"#E5ECF6\",\"gridcolor\":\"white\",\"gridwidth\":2,\"linecolor\":\"white\",\"showbackground\":true,\"ticks\":\"\",\"zerolinecolor\":\"white\"},\"zaxis\":{\"backgroundcolor\":\"#E5ECF6\",\"gridcolor\":\"white\",\"gridwidth\":2,\"linecolor\":\"white\",\"showbackground\":true,\"ticks\":\"\",\"zerolinecolor\":\"white\"}},\"shapedefaults\":{\"line\":{\"color\":\"#2a3f5f\"}},\"ternary\":{\"aaxis\":{\"gridcolor\":\"white\",\"linecolor\":\"white\",\"ticks\":\"\"},\"baxis\":{\"gridcolor\":\"white\",\"linecolor\":\"white\",\"ticks\":\"\"},\"bgcolor\":\"#E5ECF6\",\"caxis\":{\"gridcolor\":\"white\",\"linecolor\":\"white\",\"ticks\":\"\"}},\"title\":{\"x\":0.05},\"xaxis\":{\"automargin\":true,\"gridcolor\":\"white\",\"linecolor\":\"white\",\"ticks\":\"\",\"title\":{\"standoff\":15},\"zerolinecolor\":\"white\",\"zerolinewidth\":2},\"yaxis\":{\"automargin\":true,\"gridcolor\":\"white\",\"linecolor\":\"white\",\"ticks\":\"\",\"title\":{\"standoff\":15},\"zerolinecolor\":\"white\",\"zerolinewidth\":2}}},\"title\":{\"text\":\"Control Chart\"},\"xaxis\":{\"title\":{\"text\":\"Samples\"}},\"yaxis\":{\"title\":{\"text\":\"Distance\"}}},                        {\"responsive\": true}                    ).then(function(){\n",
       "                            \n",
       "var gd = document.getElementById('34157722-5b03-4c6b-9baf-2d834734c1b6');\n",
       "var x = new MutationObserver(function (mutations, observer) {{\n",
       "        var display = window.getComputedStyle(gd).display;\n",
       "        if (!display || display === 'none') {{\n",
       "            console.log([gd, 'removed!']);\n",
       "            Plotly.purge(gd);\n",
       "            observer.disconnect();\n",
       "        }}\n",
       "}});\n",
       "\n",
       "// Listen for the removal of the full notebook cells\n",
       "var notebookContainer = gd.closest('#notebook-container');\n",
       "if (notebookContainer) {{\n",
       "    x.observe(notebookContainer, {childList: true});\n",
       "}}\n",
       "\n",
       "// Listen for the clearing of the current output cell\n",
       "var outputEl = gd.closest('.output');\n",
       "if (outputEl) {{\n",
       "    x.observe(outputEl, {childList: true});\n",
       "}}\n",
       "\n",
       "                        })                };                });            </script>        </div>"
      ]
     },
     "metadata": {},
     "output_type": "display_data"
    }
   ],
   "source": [
    "\"\"\"\n",
    "An example for SVDD model fitting with negataive samples\n",
    "\"\"\"\n",
    "\n",
    "import numpy as np\n",
    "from src.BaseSVDD import BaseSVDD\n",
    "\n",
    "# create 100 points with 2 dimensions\n",
    "# n = 100\n",
    "# dim = 2\n",
    "# X = np.r_[np.random.randn(n, dim)]\n",
    "\n",
    "X = np.array(df_test)\n",
    "\n",
    "# svdd object using rbf kernel\n",
    "svdd = BaseSVDD(C=1.0, gamma=0.1, kernel='rbf', display='on')\n",
    "\n",
    "# fit the SVDD model\n",
    "svdd.fit(X,bs_size = 500 , alpha = 0.05)\n",
    "\n",
    "# predict the label\n",
    "y_predict = svdd.predict(X)\n",
    "\n",
    "# plot the boundary\n",
    "# svdd.plot_boundary(X)\n",
    "\n",
    "# plot the distance\n",
    "radius = svdd.radius_2\n",
    "distance = svdd.get_distance(X)\n",
    "svdd.plot_distance(radius, distance)"
   ]
  },
  {
   "cell_type": "markdown",
   "metadata": {},
   "source": [
    "## 3차원으로 실행하였을 때는 다음과 같다. 이때는 4차원으로 차원을 높이는데 시각화할 수 없으므로, SVDD 관리도 만 그리기로 하였다."
   ]
  },
  {
   "cell_type": "code",
   "execution_count": 41,
   "metadata": {},
   "outputs": [
    {
     "data": {
      "text/plain": [
       "array([[-5.80382788e-01, -4.76233688e-01, -4.76233688e-01],\n",
       "       [-5.81019063e-01, -4.76233688e-01, -4.76233688e-01],\n",
       "       [-6.72586113e-01, -4.76233688e-01, -4.76233688e-01],\n",
       "       [-6.13643364e-01, -4.76233688e-01, -4.76233688e-01],\n",
       "       [-3.52530935e-01, -4.76233688e-01, -4.76233688e-01],\n",
       "       [-3.52530935e-01, -4.76233688e-01, -4.76233688e-01],\n",
       "       [-5.33282256e-01, -4.76233688e-01, -4.76233688e-01],\n",
       "       [ 6.21783375e-01, -4.76233688e-01, -4.76233688e-01],\n",
       "       [-8.59737184e-02, -4.76233688e-01, -4.76233688e-01],\n",
       "       [-6.22155646e-01, -4.76233688e-01, -4.76233688e-01],\n",
       "       [-5.75624860e-01, -4.76233688e-01, -4.76233688e-01],\n",
       "       [-6.22155646e-01, -4.76233688e-01, -4.76233688e-01],\n",
       "       [-4.49879620e-01, -4.76233688e-01, -4.76233688e-01],\n",
       "       [-4.32837372e-01, -3.30052286e-01, -3.30052286e-01],\n",
       "       [ 1.24541741e+00, -2.23142651e-01, -2.23142651e-01],\n",
       "       [-6.72586113e-01,  1.45606767e-01,  1.45606767e-01],\n",
       "       [-6.72586113e-01, -2.48639386e-01, -2.48639386e-01],\n",
       "       [-2.87212133e-01,  5.34137688e-01,  5.34137688e-01],\n",
       "       [-3.93014052e-01,  2.36859937e+01,  2.36859937e+01],\n",
       "       [-3.55844049e-01,  7.06743987e-01,  7.06743987e-01],\n",
       "       [-3.82223818e-01,  8.70383358e-02,  8.70383358e-02],\n",
       "       [ 3.42159911e+00,  2.96514021e+00,  2.96514021e+00],\n",
       "       [-6.72586113e-01,  5.60020683e+00,  5.60020683e+00],\n",
       "       [-6.72586113e-01, -1.32193692e-01, -1.32193692e-01],\n",
       "       [-6.72586113e-01, -2.98640008e-01, -2.98640008e-01],\n",
       "       [-5.78077705e-01,  1.18881534e-02,  1.18881534e-02],\n",
       "       [-4.84798674e-01, -1.56286009e-01, -1.56286009e-01],\n",
       "       [-6.72586113e-01,  2.11593245e+00,  2.11593245e+00],\n",
       "       [-5.30675739e-01, -2.00807209e-01, -2.00807209e-01],\n",
       "       [-6.72586113e-01,  9.88065974e-02,  9.88065974e-02],\n",
       "       [-6.72586113e-01,  1.50436537e-01,  1.50436537e-01],\n",
       "       [-3.49620325e-01, -4.23696331e-02, -4.23696331e-02],\n",
       "       [-6.72586113e-01,  1.77310728e-01,  1.77310728e-01],\n",
       "       [-5.37975169e-01, -1.50315972e-01, -1.50315972e-01],\n",
       "       [-2.05594002e-01,  1.45279871e+00,  1.45279871e+00],\n",
       "       [ 8.72106600e-02, -1.71664621e-02, -1.71664621e-02],\n",
       "       [-6.72586113e-01,  3.28198964e-01,  3.28198964e-01],\n",
       "       [-6.72586113e-01,  5.77679138e-01,  5.77679138e-01],\n",
       "       [-4.22543698e-01, -4.09709980e-01, -4.09709980e-01],\n",
       "       [-5.45540570e-01, -3.28897900e-01, -3.28897900e-01],\n",
       "       [-3.85963445e-02, -3.28691264e-01, -3.28691264e-01],\n",
       "       [-6.72586113e-01, -3.69251456e-01, -3.69251456e-01],\n",
       "       [-4.90251082e-01, -1.98205532e-01, -1.98205532e-01],\n",
       "       [ 5.27966196e-01, -3.78445778e-01, -3.78445778e-01],\n",
       "       [ 5.41923770e-01, -2.23721338e-01, -2.23721338e-01],\n",
       "       [-5.50682678e-01, -3.18920836e-01, -3.18920836e-01],\n",
       "       [-4.83764342e-01, -3.02882998e-01, -3.02882998e-01],\n",
       "       [-6.72586113e-01,  2.61046002e-01,  2.61046002e-01],\n",
       "       [-6.72586113e-01,  4.19664566e-02,  4.19664566e-02],\n",
       "       [-6.72586113e-01, -8.31884858e-03, -8.31884858e-03],\n",
       "       [-5.68798268e-01, -1.96353332e-01, -1.96353332e-01],\n",
       "       [-4.28992021e-01, -2.95833515e-02, -2.95833515e-02],\n",
       "       [-2.25701420e-01, -3.94016577e-01, -3.94016577e-01],\n",
       "       [-6.72586113e-01, -3.88399326e-01, -3.88399326e-01],\n",
       "       [-6.72586113e-01, -5.15633682e-02, -5.15633682e-02],\n",
       "       [-6.72586113e-01, -3.54206199e-01, -3.54206199e-01],\n",
       "       [-6.72586113e-01,  7.91604844e-01,  7.91604844e-01],\n",
       "       [-5.43146830e-01, -3.94621352e-01, -3.94621352e-01],\n",
       "       [-6.72586113e-01,  5.43043165e-02,  5.43043165e-02],\n",
       "       [-6.72586113e-01,  3.16202982e-01,  3.16202982e-01],\n",
       "       [-5.73024253e-01,  3.80863636e+00,  3.80863636e+00],\n",
       "       [-6.72586113e-01,  1.06261001e-01,  1.06261001e-01],\n",
       "       [-1.02955743e-01,  1.24916024e+00,  1.24916024e+00],\n",
       "       [-3.04964924e-01,  7.91887185e-02,  7.91887185e-02],\n",
       "       [ 1.41054017e+00,  2.77325954e-01,  2.77325954e-01],\n",
       "       [ 4.57451384e-01,  4.79460388e-01,  4.79460388e-01],\n",
       "       [ 5.49091253e-01,  2.11940106e+00,  2.11940106e+00],\n",
       "       [-1.20049471e-01,  3.91390769e-01,  3.91390769e-01],\n",
       "       [ 4.42144476e-01,  0.00000000e+00,  0.00000000e+00],\n",
       "       [ 1.06327738e+00,  3.92875581e-01,  3.92875581e-01],\n",
       "       [ 6.60105870e-01,  5.54583835e-01,  5.54583835e-01],\n",
       "       [ 1.65001512e+00, -9.89760150e-02, -9.89760150e-02],\n",
       "       [ 2.05934862e+00, -1.36171003e-01, -1.36171003e-01],\n",
       "       [ 2.97349356e+00,  3.51178029e-02,  3.51178029e-02],\n",
       "       [-2.56215463e-01,  8.85761531e-01,  8.85761531e-01],\n",
       "       [-4.46065003e-01,  8.36499003e-01,  8.36499003e-01],\n",
       "       [-5.89455001e-02, -1.44414485e-02, -1.44414485e-02],\n",
       "       [-7.54200327e-02,  4.77799224e-02,  4.77799224e-02],\n",
       "       [ 1.30565553e-01,  6.15794511e-01,  6.15794511e-01],\n",
       "       [ 2.07160569e-01,  3.68247645e-01,  3.68247645e-01],\n",
       "       [-4.00698423e-01,  5.79527003e-01,  5.79527003e-01],\n",
       "       [ 1.29396044e+00,  1.92873636e-01,  1.92873636e-01],\n",
       "       [-3.50402493e-01,  1.08503578e+00,  1.08503578e+00],\n",
       "       [-2.09005230e-01,  3.40922068e-01,  3.40922068e-01],\n",
       "       [ 1.44534132e+00, -1.81581005e-01, -1.81581005e-01],\n",
       "       [ 4.53965678e-01,  3.53327464e-01,  3.53327464e-01],\n",
       "       [-3.82751548e-02, -1.11136813e-01, -1.11136813e-01],\n",
       "       [ 2.46647492e-01,  1.25717251e-01,  1.25717251e-01],\n",
       "       [-4.03530069e-01, -2.90313642e-01, -2.90313642e-01],\n",
       "       [-2.13879960e-01,  3.69250252e-01,  3.69250252e-01],\n",
       "       [-4.37168210e-02,  5.11176157e-01,  5.11176157e-01],\n",
       "       [-3.38654926e-01,  8.03669032e-01,  8.03669032e-01],\n",
       "       [-2.95291584e-01,  2.20340310e+00,  2.20340310e+00],\n",
       "       [ 1.24569615e-01,  6.89386885e+00,  6.89386885e+00],\n",
       "       [-7.83000567e-02,  3.74249687e-01,  3.74249687e-01],\n",
       "       [ 1.09584765e+00,  7.15755725e-01,  7.15755725e-01],\n",
       "       [ 4.53547179e-01,  4.60010527e-02,  4.60010527e-02],\n",
       "       [ 3.61708972e+00,  1.45179934e-01,  1.45179934e-01],\n",
       "       [ 1.13935462e+00,  3.62221926e+00,  3.62221926e+00],\n",
       "       [ 3.63025798e+00,  3.53540505e-02,  3.53540505e-02],\n",
       "       [-5.05928958e-01,  9.45421006e-02,  9.45421006e-02],\n",
       "       [-4.91153611e-01,  3.61295532e-01,  3.61295532e-01],\n",
       "       [ 1.39274177e+00,  3.17466373e+00,  3.17466373e+00],\n",
       "       [ 1.78884983e-01, -3.76776153e-01, -3.76776153e-01],\n",
       "       [ 1.29295011e+00,  4.80920068e-01,  4.80920068e-01],\n",
       "       [ 5.13018608e-01, -2.39506447e-01, -2.39506447e-01],\n",
       "       [-5.58321618e-02,  2.65264798e-01,  2.65264798e-01],\n",
       "       [-1.37296549e-01, -3.03751911e-01, -3.03751911e-01],\n",
       "       [ 0.00000000e+00,  9.23742950e-02,  9.23742950e-02],\n",
       "       [ 3.05783473e-01,  2.21414662e+00,  2.21414662e+00],\n",
       "       [ 3.60381595e-01,  1.37719613e-01,  1.37719613e-01],\n",
       "       [ 1.07337633e+00,  5.93067035e-01,  5.93067035e-01],\n",
       "       [-4.42584561e-02,  7.97997367e-01,  7.97997367e-01],\n",
       "       [-7.04027432e-02, -7.86430290e-02, -7.86430290e-02],\n",
       "       [ 1.21725427e+00,  6.42534735e-01,  6.42534735e-01],\n",
       "       [ 5.32593264e-01,  4.13051336e-01,  4.13051336e-01],\n",
       "       [-3.62820590e-01,  7.52280155e-01,  7.52280155e-01],\n",
       "       [ 3.45726798e-01,  1.47011352e-01,  1.47011352e-01],\n",
       "       [ 3.23865144e-01,  3.83733092e-02,  3.83733092e-02],\n",
       "       [ 4.11682785e-01,  5.01605835e+00,  5.01605835e+00],\n",
       "       [ 3.22853686e-01,  2.61485536e-01,  2.61485536e-01],\n",
       "       [ 1.33352596e+00,  3.18072480e-01,  3.18072480e-01],\n",
       "       [ 5.36301627e-01, -2.21208016e-02, -2.21208016e-02],\n",
       "       [-8.32129986e-03,  3.87942108e-01,  3.87942108e-01],\n",
       "       [ 1.15942572e+00,  2.73220273e+00,  2.73220273e+00],\n",
       "       [ 1.63025104e-01,  2.78590744e+00,  2.78590744e+00],\n",
       "       [ 8.02918418e-01,  2.41300230e+00,  2.41300230e+00],\n",
       "       [ 7.69317646e-01,  1.50151758e+00,  1.50151758e+00],\n",
       "       [ 3.66276456e-01,  2.66578415e+00,  2.66578415e+00],\n",
       "       [ 6.45679020e-01,  7.27663252e+00,  7.27663252e+00],\n",
       "       [ 1.37632663e-01,  5.19590932e-01,  5.19590932e-01],\n",
       "       [ 3.59577276e-02,  3.59982178e-01,  3.59982178e-01],\n",
       "       [-3.10915526e-01,  1.02663323e+00,  1.02663323e+00],\n",
       "       [ 2.90902112e-02, -1.41238877e-01, -1.41238877e-01],\n",
       "       [-1.81876727e-01,  5.92934346e-01,  5.92934346e-01],\n",
       "       [ 3.68648585e-02,  3.53909487e+00,  3.53909487e+00],\n",
       "       [ 5.58133322e-01,  3.00562764e+00,  3.00562764e+00],\n",
       "       [ 5.58784333e-02,  2.34011961e-01,  2.34011961e-01],\n",
       "       [-4.12184436e-01, -2.89024158e-01, -2.89024158e-01],\n",
       "       [ 6.59045089e-01,  7.63310242e-02,  7.63310242e-02],\n",
       "       [ 8.12769031e-01,  2.87477499e+00,  2.87477499e+00],\n",
       "       [ 4.50591885e-01,  6.78676488e-01,  6.78676488e-01],\n",
       "       [ 5.26702834e-01,  1.00385612e-01,  1.00385612e-01],\n",
       "       [ 8.52615047e-01,  2.01800718e+00,  2.01800718e+00],\n",
       "       [ 3.88600791e-02,  2.73988901e-01,  2.73988901e-01],\n",
       "       [-1.95439547e-01,  7.08434006e-01,  7.08434006e-01],\n",
       "       [ 1.84366962e-03,  5.50035380e-02,  5.50035380e-02],\n",
       "       [ 8.85996319e-01,  6.31793834e-01,  6.31793834e-01],\n",
       "       [-2.11059189e-02,  1.79792412e+00,  1.79792412e+00],\n",
       "       [ 8.71907519e-01,  1.28607979e+00,  1.28607979e+00],\n",
       "       [-2.64889606e-01,  2.34581020e+00,  2.34581020e+00],\n",
       "       [-4.72488512e-01,  4.06459377e-01,  4.06459377e-01],\n",
       "       [ 5.90468969e-01,  5.27941691e-01,  5.27941691e-01],\n",
       "       [-4.69566360e-01,  1.17432733e+00,  1.17432733e+00],\n",
       "       [ 2.61046100e-01,  2.24259997e+00,  2.24259997e+00],\n",
       "       [-2.03064912e-01,  6.19611871e-01,  6.19611871e-01],\n",
       "       [ 1.21491346e-01,  2.45997478e-01,  2.45997478e-01],\n",
       "       [-4.28854011e-01, -4.76233688e-01, -4.76233688e-01],\n",
       "       [ 7.18585523e+00, -4.76233688e-01, -4.76233688e-01],\n",
       "       [-9.45823135e-02, -4.76233688e-01, -4.76233688e-01],\n",
       "       [ 1.04464373e-01, -4.76233688e-01, -4.76233688e-01],\n",
       "       [ 8.26881113e+00, -4.76233688e-01, -4.76233688e-01],\n",
       "       [-2.76152368e-01, -4.76233688e-01, -4.76233688e-01],\n",
       "       [ 7.80730771e-01, -4.76233688e-01, -4.76233688e-01],\n",
       "       [ 4.24292883e-01, -4.76233688e-01, -4.76233688e-01],\n",
       "       [ 3.70172877e-01, -4.76233688e-01, -4.76233688e-01],\n",
       "       [-9.15083604e-02, -4.76233688e-01, -4.76233688e-01],\n",
       "       [-2.97457411e-01, -4.76233688e-01, -4.76233688e-01],\n",
       "       [ 1.43911417e+00, -4.76233688e-01, -4.76233688e-01],\n",
       "       [ 6.39530584e-01, -4.76233688e-01, -4.76233688e-01],\n",
       "       [ 1.31841594e-02, -4.76233688e-01, -4.76233688e-01],\n",
       "       [ 5.54413662e-01, -4.76233688e-01, -4.76233688e-01],\n",
       "       [ 8.50010900e-02, -4.76233688e-01, -4.76233688e-01],\n",
       "       [-1.94703135e-01, -4.76233688e-01, -4.76233688e-01],\n",
       "       [ 2.47217855e-01, -4.76233688e-01, -4.76233688e-01],\n",
       "       [ 1.01205177e+00, -4.76233688e-01, -4.76233688e-01],\n",
       "       [ 9.32134960e-01, -4.76233688e-01, -4.76233688e-01],\n",
       "       [ 7.21423551e-01, -4.76233688e-01, -4.76233688e-01],\n",
       "       [ 4.64478952e-01, -4.76233688e-01, -4.76233688e-01],\n",
       "       [ 1.18984097e+00, -4.76233688e-01, -4.76233688e-01],\n",
       "       [ 3.81442223e-01, -4.76233688e-01, -4.76233688e-01],\n",
       "       [ 3.84643515e-01, -4.76233688e-01, -4.76233688e-01],\n",
       "       [ 9.82395341e-01, -4.76233688e-01, -4.76233688e-01],\n",
       "       [ 4.66449418e-01, -4.76233688e-01, -4.76233688e-01],\n",
       "       [ 5.00182619e-02, -4.76233688e-01, -4.76233688e-01],\n",
       "       [ 4.94205890e-01, -4.76233688e-01, -4.76233688e-01],\n",
       "       [ 5.18729329e-01, -4.76233688e-01, -4.76233688e-01],\n",
       "       [-2.26302157e-01, -4.76233688e-01, -4.76233688e-01],\n",
       "       [-4.42885466e-01, -4.76233688e-01, -4.76233688e-01],\n",
       "       [ 1.82212028e-01, -4.76233688e-01, -4.76233688e-01],\n",
       "       [ 3.86987983e+00, -4.76233688e-01, -4.76233688e-01],\n",
       "       [ 7.66692651e-01, -4.76233688e-01, -4.76233688e-01],\n",
       "       [-2.32091627e-01, -4.76233688e-01, -4.76233688e-01],\n",
       "       [-1.55757232e-01, -4.76233688e-01, -4.76233688e-01],\n",
       "       [ 3.36079890e+00, -4.76233688e-01, -4.76233688e-01],\n",
       "       [ 4.64835040e+00, -4.76233688e-01, -4.76233688e-01],\n",
       "       [ 1.58917690e+00, -4.76233688e-01, -4.76233688e-01],\n",
       "       [ 3.63135017e+00, -4.76233688e-01, -4.76233688e-01],\n",
       "       [ 7.34191208e-01, -4.76233688e-01, -4.76233688e-01],\n",
       "       [ 1.55304251e+00, -4.76233688e-01, -4.76233688e-01],\n",
       "       [-6.07331778e-03, -4.76233688e-01, -4.76233688e-01],\n",
       "       [ 1.05295547e+00, -4.76233688e-01, -4.76233688e-01],\n",
       "       [ 5.31156049e+00, -4.76233688e-01, -4.76233688e-01],\n",
       "       [ 4.54318473e+00, -4.76233688e-01, -4.76233688e-01],\n",
       "       [ 2.61602704e+00, -4.76233688e-01, -4.76233688e-01],\n",
       "       [-3.25641550e-01, -4.76233688e-01, -4.76233688e-01],\n",
       "       [-6.00180201e-01, -4.76233688e-01, -4.76233688e-01]])"
      ]
     },
     "execution_count": 41,
     "metadata": {},
     "output_type": "execute_result"
    }
   ],
   "source": [
    "df_test_2"
   ]
  },
  {
   "cell_type": "markdown",
   "metadata": {},
   "source": [
    "## 모델을 만드는 과정에 이 모델을 만들 때 주어진 데이터를 얼마나 정확히 나타내는지 보여줌 (Train 데이터에 대한 모델의 성능)\n",
    "## 모델을 만들고 난 다음에 prediction. 이 모델에 들어갈 새로운 데이터를 얼마나 정확하게 분류하는지 보여줌. (Test 데이터에 대한 모델의 성능)\n",
    "## 똑같이 Unlabeled 된 데이터에 대해서 이 2개는 같을 수도 있으나, 처음에 predict 한 것과 그 다음에 predict 한 것의 결과는 다를 수 있으므로, accuracy에서 차이가 날 수 밖에 없다. 이때는 성능이 더 좋은 것을 택하도록 하자."
   ]
  },
  {
   "cell_type": "code",
   "execution_count": 188,
   "metadata": {
    "scrolled": false
   },
   "outputs": [
    {
     "name": "stdout",
     "output_type": "stream",
     "text": [
      "\n",
      "\n",
      "*** Fitting of the SVDD model is completed. ***\n",
      "\n",
      "running time         = 0.0890 seconds\n",
      "kernel function      = rbf\n",
      "iterations           = 12\n",
      "number of samples    = 207\n",
      "number of features   = 2\n",
      "number of SVs        = 18\n",
      "ratio of SVs         = 8.6957 %\n",
      "accuracy             = 91.7874 %\n",
      "\n",
      "\n",
      "\n",
      "\n",
      "*** Prediction of the provided data is completed. ***\n",
      "\n",
      "running time         = 0.0480 seconds\n",
      "number of samples    = 207\n",
      "number of alarm      = 4\n",
      "\n",
      "\n"
     ]
    }
   ],
   "source": [
    "import sys\n",
    "sys.path.append(\"..\")\n",
    "import numpy as np\n",
    "from src.BaseSVDD import BaseSVDD\n",
    "\n",
    "# create 100 points with 2 dimensions\n",
    "n = 200\n",
    "dim = 2\n",
    "X = np.array(df_test)\n",
    "\n",
    "# svdd object using rbf kernel\n",
    "svdd = BaseSVDD(C=0.9, gamma=0.3, kernel='rbf', display='on')\n",
    "\n",
    "# fit the SVDD model\n",
    "svdd.fit(X,bs_size = 500 , alpha = 0.01) ## 모델을 만들고 난 다음에 이 모델을 만들 때 주어진 데이터를 얼마나 정확히 나타내는지 보여줌 (Train 데이터에 대한 모델의 성능)\n",
    "\n",
    "\n",
    "# # predict the label\n",
    "y_predict = svdd.predict(X) ## 모델을 만들고 난 다음에 이 모델에 들어갈 새로운 데이터를 얼마나 정확하게 분류하는지 보여줌. (Test 데이터에 대한 모델의 성능)\n",
    "\n",
    "## 똑같이 Unlabeled 된 데이터에 대해서 이 2개는 같을 수도 있으나, 중간 mapping 과정 (kernel)에서 차이가 있을 수 있으므로(비모수 방법으로 분포를 추정할 때 다르게 추정되어질 수 있다) 차이가 나는 경우도 발생한다. 그러나 정확한 것은 predict이다. \n",
    "\n",
    "# # plot the boundary\n",
    "# svdd.plot_boundary(X)\n",
    "\n",
    "# # plot the distance\n",
    "# radius = svdd.radius_2\n",
    "\n",
    "# distance = svdd.get_distance(X)\n",
    "# svdd.plot_distance(radius, distance)"
   ]
  },
  {
   "cell_type": "code",
   "execution_count": 187,
   "metadata": {},
   "outputs": [
    {
     "name": "stdout",
     "output_type": "stream",
     "text": [
      "\n",
      "\n",
      "*** Prediction of the provided data is completed. ***\n",
      "\n",
      "running time         = 0.0490 seconds\n",
      "number of samples    = 207\n",
      "number of alarm      = 17\n",
      "\n",
      "\n"
     ]
    },
    {
     "data": {
      "text/plain": [
       "matrix([[ 1.],\n",
       "        [ 1.],\n",
       "        [-1.],\n",
       "        [ 1.],\n",
       "        [ 1.],\n",
       "        [ 1.],\n",
       "        [ 1.],\n",
       "        [ 1.],\n",
       "        [ 1.],\n",
       "        [ 1.],\n",
       "        [ 1.],\n",
       "        [ 1.],\n",
       "        [ 1.],\n",
       "        [ 1.],\n",
       "        [ 1.],\n",
       "        [ 1.],\n",
       "        [ 1.],\n",
       "        [ 1.],\n",
       "        [-1.],\n",
       "        [ 1.],\n",
       "        [ 1.],\n",
       "        [-1.],\n",
       "        [-1.],\n",
       "        [ 1.],\n",
       "        [ 1.],\n",
       "        [ 1.],\n",
       "        [ 1.],\n",
       "        [-1.],\n",
       "        [ 1.],\n",
       "        [ 1.],\n",
       "        [ 1.],\n",
       "        [ 1.],\n",
       "        [ 1.],\n",
       "        [ 1.],\n",
       "        [ 1.],\n",
       "        [ 1.],\n",
       "        [ 1.],\n",
       "        [ 1.],\n",
       "        [ 1.],\n",
       "        [ 1.],\n",
       "        [ 1.],\n",
       "        [ 1.],\n",
       "        [ 1.],\n",
       "        [ 1.],\n",
       "        [ 1.],\n",
       "        [ 1.],\n",
       "        [ 1.],\n",
       "        [ 1.],\n",
       "        [ 1.],\n",
       "        [ 1.],\n",
       "        [ 1.],\n",
       "        [ 1.],\n",
       "        [ 1.],\n",
       "        [ 1.],\n",
       "        [ 1.],\n",
       "        [ 1.],\n",
       "        [ 1.],\n",
       "        [ 1.],\n",
       "        [ 1.],\n",
       "        [ 1.],\n",
       "        [-1.],\n",
       "        [ 1.],\n",
       "        [ 1.],\n",
       "        [ 1.],\n",
       "        [ 1.],\n",
       "        [ 1.],\n",
       "        [ 1.],\n",
       "        [ 1.],\n",
       "        [ 1.],\n",
       "        [ 1.],\n",
       "        [ 1.],\n",
       "        [ 1.],\n",
       "        [ 1.],\n",
       "        [ 1.],\n",
       "        [ 1.],\n",
       "        [ 1.],\n",
       "        [ 1.],\n",
       "        [ 1.],\n",
       "        [ 1.],\n",
       "        [ 1.],\n",
       "        [ 1.],\n",
       "        [ 1.],\n",
       "        [ 1.],\n",
       "        [ 1.],\n",
       "        [ 1.],\n",
       "        [ 1.],\n",
       "        [ 1.],\n",
       "        [ 1.],\n",
       "        [ 1.],\n",
       "        [ 1.],\n",
       "        [ 1.],\n",
       "        [ 1.],\n",
       "        [ 1.],\n",
       "        [ 1.],\n",
       "        [ 1.],\n",
       "        [ 1.],\n",
       "        [ 1.],\n",
       "        [-1.],\n",
       "        [-1.],\n",
       "        [ 1.],\n",
       "        [ 1.],\n",
       "        [ 1.],\n",
       "        [ 1.],\n",
       "        [ 1.],\n",
       "        [ 1.],\n",
       "        [ 1.],\n",
       "        [ 1.],\n",
       "        [ 1.],\n",
       "        [ 1.],\n",
       "        [ 1.],\n",
       "        [ 1.],\n",
       "        [ 1.],\n",
       "        [ 1.],\n",
       "        [ 1.],\n",
       "        [ 1.],\n",
       "        [ 1.],\n",
       "        [ 1.],\n",
       "        [ 1.],\n",
       "        [ 1.],\n",
       "        [-1.],\n",
       "        [ 1.],\n",
       "        [ 1.],\n",
       "        [ 1.],\n",
       "        [ 1.],\n",
       "        [ 1.],\n",
       "        [ 1.],\n",
       "        [ 1.],\n",
       "        [ 1.],\n",
       "        [ 1.],\n",
       "        [-1.],\n",
       "        [ 1.],\n",
       "        [ 1.],\n",
       "        [ 1.],\n",
       "        [ 1.],\n",
       "        [ 1.],\n",
       "        [ 1.],\n",
       "        [ 1.],\n",
       "        [ 1.],\n",
       "        [ 1.],\n",
       "        [ 1.],\n",
       "        [ 1.],\n",
       "        [ 1.],\n",
       "        [ 1.],\n",
       "        [ 1.],\n",
       "        [ 1.],\n",
       "        [ 1.],\n",
       "        [ 1.],\n",
       "        [ 1.],\n",
       "        [ 1.],\n",
       "        [-1.],\n",
       "        [ 1.],\n",
       "        [ 1.],\n",
       "        [ 1.],\n",
       "        [ 1.],\n",
       "        [ 1.],\n",
       "        [ 1.],\n",
       "        [ 1.],\n",
       "        [ 1.],\n",
       "        [-1.],\n",
       "        [ 1.],\n",
       "        [ 1.],\n",
       "        [-1.],\n",
       "        [ 1.],\n",
       "        [ 1.],\n",
       "        [ 1.],\n",
       "        [ 1.],\n",
       "        [ 1.],\n",
       "        [ 1.],\n",
       "        [ 1.],\n",
       "        [ 1.],\n",
       "        [ 1.],\n",
       "        [ 1.],\n",
       "        [ 1.],\n",
       "        [ 1.],\n",
       "        [ 1.],\n",
       "        [ 1.],\n",
       "        [ 1.],\n",
       "        [ 1.],\n",
       "        [ 1.],\n",
       "        [ 1.],\n",
       "        [ 1.],\n",
       "        [ 1.],\n",
       "        [ 1.],\n",
       "        [ 1.],\n",
       "        [ 1.],\n",
       "        [ 1.],\n",
       "        [ 1.],\n",
       "        [ 1.],\n",
       "        [ 1.],\n",
       "        [ 1.],\n",
       "        [ 1.],\n",
       "        [ 1.],\n",
       "        [ 1.],\n",
       "        [ 1.],\n",
       "        [-1.],\n",
       "        [ 1.],\n",
       "        [-1.],\n",
       "        [ 1.],\n",
       "        [ 1.],\n",
       "        [ 1.],\n",
       "        [ 1.],\n",
       "        [ 1.],\n",
       "        [-1.],\n",
       "        [ 1.],\n",
       "        [-1.],\n",
       "        [ 1.],\n",
       "        [ 1.]])"
      ]
     },
     "execution_count": 187,
     "metadata": {},
     "output_type": "execute_result"
    }
   ],
   "source": [
    "svdd.predict(X)"
   ]
  },
  {
   "cell_type": "code",
   "execution_count": 177,
   "metadata": {},
   "outputs": [
    {
     "data": {
      "text/plain": [
       " 1.0    190\n",
       "-1.0     17\n",
       "dtype: int64"
      ]
     },
     "execution_count": 177,
     "metadata": {},
     "output_type": "execute_result"
    }
   ],
   "source": [
    "pd.DataFrame(svdd.results['predicted_y_2']).value_counts()"
   ]
  },
  {
   "cell_type": "code",
   "execution_count": 179,
   "metadata": {},
   "outputs": [
    {
     "name": "stdout",
     "output_type": "stream",
     "text": [
      "\n",
      "\n",
      "*** Prediction of the provided data is completed. ***\n",
      "\n",
      "running time         = 0.0490 seconds\n",
      "number of samples    = 207\n",
      "number of alarm      = 4\n",
      "\n",
      "\n"
     ]
    },
    {
     "data": {
      "text/plain": [
       "matrix([[ 1.],\n",
       "        [ 1.],\n",
       "        [-1.],\n",
       "        [ 1.],\n",
       "        [ 1.],\n",
       "        [ 1.],\n",
       "        [ 1.],\n",
       "        [ 1.],\n",
       "        [ 1.],\n",
       "        [ 1.],\n",
       "        [ 1.],\n",
       "        [ 1.],\n",
       "        [ 1.],\n",
       "        [ 1.],\n",
       "        [ 1.],\n",
       "        [ 1.],\n",
       "        [ 1.],\n",
       "        [ 1.],\n",
       "        [ 1.],\n",
       "        [ 1.],\n",
       "        [ 1.],\n",
       "        [ 1.],\n",
       "        [ 1.],\n",
       "        [ 1.],\n",
       "        [ 1.],\n",
       "        [ 1.],\n",
       "        [ 1.],\n",
       "        [ 1.],\n",
       "        [ 1.],\n",
       "        [ 1.],\n",
       "        [ 1.],\n",
       "        [ 1.],\n",
       "        [ 1.],\n",
       "        [ 1.],\n",
       "        [ 1.],\n",
       "        [ 1.],\n",
       "        [ 1.],\n",
       "        [ 1.],\n",
       "        [ 1.],\n",
       "        [ 1.],\n",
       "        [ 1.],\n",
       "        [ 1.],\n",
       "        [ 1.],\n",
       "        [ 1.],\n",
       "        [ 1.],\n",
       "        [ 1.],\n",
       "        [ 1.],\n",
       "        [ 1.],\n",
       "        [ 1.],\n",
       "        [ 1.],\n",
       "        [ 1.],\n",
       "        [ 1.],\n",
       "        [ 1.],\n",
       "        [ 1.],\n",
       "        [ 1.],\n",
       "        [ 1.],\n",
       "        [ 1.],\n",
       "        [ 1.],\n",
       "        [ 1.],\n",
       "        [ 1.],\n",
       "        [ 1.],\n",
       "        [ 1.],\n",
       "        [ 1.],\n",
       "        [ 1.],\n",
       "        [ 1.],\n",
       "        [ 1.],\n",
       "        [ 1.],\n",
       "        [ 1.],\n",
       "        [ 1.],\n",
       "        [ 1.],\n",
       "        [ 1.],\n",
       "        [ 1.],\n",
       "        [ 1.],\n",
       "        [ 1.],\n",
       "        [ 1.],\n",
       "        [ 1.],\n",
       "        [ 1.],\n",
       "        [ 1.],\n",
       "        [ 1.],\n",
       "        [ 1.],\n",
       "        [ 1.],\n",
       "        [ 1.],\n",
       "        [ 1.],\n",
       "        [ 1.],\n",
       "        [ 1.],\n",
       "        [ 1.],\n",
       "        [ 1.],\n",
       "        [ 1.],\n",
       "        [ 1.],\n",
       "        [ 1.],\n",
       "        [ 1.],\n",
       "        [ 1.],\n",
       "        [ 1.],\n",
       "        [ 1.],\n",
       "        [ 1.],\n",
       "        [ 1.],\n",
       "        [ 1.],\n",
       "        [ 1.],\n",
       "        [ 1.],\n",
       "        [ 1.],\n",
       "        [ 1.],\n",
       "        [ 1.],\n",
       "        [ 1.],\n",
       "        [ 1.],\n",
       "        [ 1.],\n",
       "        [ 1.],\n",
       "        [ 1.],\n",
       "        [ 1.],\n",
       "        [ 1.],\n",
       "        [ 1.],\n",
       "        [ 1.],\n",
       "        [ 1.],\n",
       "        [ 1.],\n",
       "        [ 1.],\n",
       "        [ 1.],\n",
       "        [ 1.],\n",
       "        [ 1.],\n",
       "        [ 1.],\n",
       "        [ 1.],\n",
       "        [ 1.],\n",
       "        [ 1.],\n",
       "        [ 1.],\n",
       "        [ 1.],\n",
       "        [ 1.],\n",
       "        [ 1.],\n",
       "        [ 1.],\n",
       "        [ 1.],\n",
       "        [ 1.],\n",
       "        [ 1.],\n",
       "        [ 1.],\n",
       "        [ 1.],\n",
       "        [ 1.],\n",
       "        [ 1.],\n",
       "        [ 1.],\n",
       "        [ 1.],\n",
       "        [ 1.],\n",
       "        [ 1.],\n",
       "        [ 1.],\n",
       "        [ 1.],\n",
       "        [ 1.],\n",
       "        [ 1.],\n",
       "        [ 1.],\n",
       "        [ 1.],\n",
       "        [ 1.],\n",
       "        [ 1.],\n",
       "        [ 1.],\n",
       "        [ 1.],\n",
       "        [ 1.],\n",
       "        [ 1.],\n",
       "        [-1.],\n",
       "        [ 1.],\n",
       "        [ 1.],\n",
       "        [ 1.],\n",
       "        [ 1.],\n",
       "        [ 1.],\n",
       "        [ 1.],\n",
       "        [ 1.],\n",
       "        [ 1.],\n",
       "        [ 1.],\n",
       "        [ 1.],\n",
       "        [ 1.],\n",
       "        [ 1.],\n",
       "        [ 1.],\n",
       "        [ 1.],\n",
       "        [ 1.],\n",
       "        [ 1.],\n",
       "        [ 1.],\n",
       "        [ 1.],\n",
       "        [ 1.],\n",
       "        [ 1.],\n",
       "        [ 1.],\n",
       "        [ 1.],\n",
       "        [ 1.],\n",
       "        [ 1.],\n",
       "        [ 1.],\n",
       "        [ 1.],\n",
       "        [ 1.],\n",
       "        [ 1.],\n",
       "        [ 1.],\n",
       "        [ 1.],\n",
       "        [ 1.],\n",
       "        [ 1.],\n",
       "        [ 1.],\n",
       "        [ 1.],\n",
       "        [ 1.],\n",
       "        [ 1.],\n",
       "        [ 1.],\n",
       "        [ 1.],\n",
       "        [ 1.],\n",
       "        [ 1.],\n",
       "        [ 1.],\n",
       "        [ 1.],\n",
       "        [ 1.],\n",
       "        [ 1.],\n",
       "        [ 1.],\n",
       "        [ 1.],\n",
       "        [-1.],\n",
       "        [ 1.],\n",
       "        [ 1.],\n",
       "        [ 1.],\n",
       "        [ 1.],\n",
       "        [ 1.],\n",
       "        [ 1.],\n",
       "        [ 1.],\n",
       "        [-1.],\n",
       "        [ 1.],\n",
       "        [ 1.]])"
      ]
     },
     "execution_count": 179,
     "metadata": {},
     "output_type": "execute_result"
    }
   ],
   "source": [
    "svdd.predict(svdd.X)"
   ]
  },
  {
   "cell_type": "code",
   "execution_count": 169,
   "metadata": {
    "scrolled": false
   },
   "outputs": [
    {
     "name": "stdout",
     "output_type": "stream",
     "text": [
      "\n",
      "\n",
      "*** Fitting of the SVDD model is completed. ***\n",
      "\n",
      "running time         = 0.0820 seconds\n",
      "kernel function      = rbf\n",
      "iterations           = 13\n",
      "number of samples    = 207\n",
      "number of features   = 3\n",
      "number of SVs        = 17\n",
      "ratio of SVs         = 8.2126 %\n",
      "accuracy             = 97.1014 %\n",
      "\n",
      "\n",
      "\n",
      "\n",
      "*** Prediction of the provided data is completed. ***\n",
      "\n",
      "running time         = 0.0480 seconds\n",
      "number of samples    = 207\n",
      "number of alarm      = 6\n",
      "accuracy             = 97.1014 %\n",
      "\n",
      "\n"
     ]
    },
    {
     "data": {
      "application/vnd.plotly.v1+json": {
       "config": {
        "plotlyServerURL": "https://plot.ly"
       },
       "data": [
        {
         "line": {
          "color": "purple",
          "width": 3
         },
         "mode": "lines",
         "name": "radius",
         "type": "scatter",
         "x": [
          0,
          1,
          2,
          3,
          4,
          5,
          6,
          7,
          8,
          9,
          10,
          11,
          12,
          13,
          14,
          15,
          16,
          17,
          18,
          19,
          20,
          21,
          22,
          23,
          24,
          25,
          26,
          27,
          28,
          29,
          30,
          31,
          32,
          33,
          34,
          35,
          36,
          37,
          38,
          39,
          40,
          41,
          42,
          43,
          44,
          45,
          46,
          47,
          48,
          49,
          50,
          51,
          52,
          53,
          54,
          55,
          56,
          57,
          58,
          59,
          60,
          61,
          62,
          63,
          64,
          65,
          66,
          67,
          68,
          69,
          70,
          71,
          72,
          73,
          74,
          75,
          76,
          77,
          78,
          79,
          80,
          81,
          82,
          83,
          84,
          85,
          86,
          87,
          88,
          89,
          90,
          91,
          92,
          93,
          94,
          95,
          96,
          97,
          98,
          99,
          100,
          101,
          102,
          103,
          104,
          105,
          106,
          107,
          108,
          109,
          110,
          111,
          112,
          113,
          114,
          115,
          116,
          117,
          118,
          119,
          120,
          121,
          122,
          123,
          124,
          125,
          126,
          127,
          128,
          129,
          130,
          131,
          132,
          133,
          134,
          135,
          136,
          137,
          138,
          139,
          140,
          141,
          142,
          143,
          144,
          145,
          146,
          147,
          148,
          149,
          150,
          151,
          152,
          153,
          154,
          155,
          156,
          157,
          158,
          159,
          160,
          161,
          162,
          163,
          164,
          165,
          166,
          167,
          168,
          169,
          170,
          171,
          172,
          173,
          174,
          175,
          176,
          177,
          178,
          179,
          180,
          181,
          182,
          183,
          184,
          185,
          186,
          187,
          188,
          189,
          190,
          191,
          192,
          193,
          194,
          195,
          196,
          197,
          198,
          199,
          200,
          201,
          202,
          203,
          204,
          205,
          206
         ],
         "y": [
          0.9272025350030242,
          0.9272025350030242,
          0.9272025350030242,
          0.9272025350030242,
          0.9272025350030242,
          0.9272025350030242,
          0.9272025350030242,
          0.9272025350030242,
          0.9272025350030242,
          0.9272025350030242,
          0.9272025350030242,
          0.9272025350030242,
          0.9272025350030242,
          0.9272025350030242,
          0.9272025350030242,
          0.9272025350030242,
          0.9272025350030242,
          0.9272025350030242,
          0.9272025350030242,
          0.9272025350030242,
          0.9272025350030242,
          0.9272025350030242,
          0.9272025350030242,
          0.9272025350030242,
          0.9272025350030242,
          0.9272025350030242,
          0.9272025350030242,
          0.9272025350030242,
          0.9272025350030242,
          0.9272025350030242,
          0.9272025350030242,
          0.9272025350030242,
          0.9272025350030242,
          0.9272025350030242,
          0.9272025350030242,
          0.9272025350030242,
          0.9272025350030242,
          0.9272025350030242,
          0.9272025350030242,
          0.9272025350030242,
          0.9272025350030242,
          0.9272025350030242,
          0.9272025350030242,
          0.9272025350030242,
          0.9272025350030242,
          0.9272025350030242,
          0.9272025350030242,
          0.9272025350030242,
          0.9272025350030242,
          0.9272025350030242,
          0.9272025350030242,
          0.9272025350030242,
          0.9272025350030242,
          0.9272025350030242,
          0.9272025350030242,
          0.9272025350030242,
          0.9272025350030242,
          0.9272025350030242,
          0.9272025350030242,
          0.9272025350030242,
          0.9272025350030242,
          0.9272025350030242,
          0.9272025350030242,
          0.9272025350030242,
          0.9272025350030242,
          0.9272025350030242,
          0.9272025350030242,
          0.9272025350030242,
          0.9272025350030242,
          0.9272025350030242,
          0.9272025350030242,
          0.9272025350030242,
          0.9272025350030242,
          0.9272025350030242,
          0.9272025350030242,
          0.9272025350030242,
          0.9272025350030242,
          0.9272025350030242,
          0.9272025350030242,
          0.9272025350030242,
          0.9272025350030242,
          0.9272025350030242,
          0.9272025350030242,
          0.9272025350030242,
          0.9272025350030242,
          0.9272025350030242,
          0.9272025350030242,
          0.9272025350030242,
          0.9272025350030242,
          0.9272025350030242,
          0.9272025350030242,
          0.9272025350030242,
          0.9272025350030242,
          0.9272025350030242,
          0.9272025350030242,
          0.9272025350030242,
          0.9272025350030242,
          0.9272025350030242,
          0.9272025350030242,
          0.9272025350030242,
          0.9272025350030242,
          0.9272025350030242,
          0.9272025350030242,
          0.9272025350030242,
          0.9272025350030242,
          0.9272025350030242,
          0.9272025350030242,
          0.9272025350030242,
          0.9272025350030242,
          0.9272025350030242,
          0.9272025350030242,
          0.9272025350030242,
          0.9272025350030242,
          0.9272025350030242,
          0.9272025350030242,
          0.9272025350030242,
          0.9272025350030242,
          0.9272025350030242,
          0.9272025350030242,
          0.9272025350030242,
          0.9272025350030242,
          0.9272025350030242,
          0.9272025350030242,
          0.9272025350030242,
          0.9272025350030242,
          0.9272025350030242,
          0.9272025350030242,
          0.9272025350030242,
          0.9272025350030242,
          0.9272025350030242,
          0.9272025350030242,
          0.9272025350030242,
          0.9272025350030242,
          0.9272025350030242,
          0.9272025350030242,
          0.9272025350030242,
          0.9272025350030242,
          0.9272025350030242,
          0.9272025350030242,
          0.9272025350030242,
          0.9272025350030242,
          0.9272025350030242,
          0.9272025350030242,
          0.9272025350030242,
          0.9272025350030242,
          0.9272025350030242,
          0.9272025350030242,
          0.9272025350030242,
          0.9272025350030242,
          0.9272025350030242,
          0.9272025350030242,
          0.9272025350030242,
          0.9272025350030242,
          0.9272025350030242,
          0.9272025350030242,
          0.9272025350030242,
          0.9272025350030242,
          0.9272025350030242,
          0.9272025350030242,
          0.9272025350030242,
          0.9272025350030242,
          0.9272025350030242,
          0.9272025350030242,
          0.9272025350030242,
          0.9272025350030242,
          0.9272025350030242,
          0.9272025350030242,
          0.9272025350030242,
          0.9272025350030242,
          0.9272025350030242,
          0.9272025350030242,
          0.9272025350030242,
          0.9272025350030242,
          0.9272025350030242,
          0.9272025350030242,
          0.9272025350030242,
          0.9272025350030242,
          0.9272025350030242,
          0.9272025350030242,
          0.9272025350030242,
          0.9272025350030242,
          0.9272025350030242,
          0.9272025350030242,
          0.9272025350030242,
          0.9272025350030242,
          0.9272025350030242,
          0.9272025350030242,
          0.9272025350030242,
          0.9272025350030242,
          0.9272025350030242,
          0.9272025350030242,
          0.9272025350030242,
          0.9272025350030242,
          0.9272025350030242,
          0.9272025350030242,
          0.9272025350030242,
          0.9272025350030242,
          0.9272025350030242,
          0.9272025350030242,
          0.9272025350030242,
          0.9272025350030242,
          0.9272025350030242,
          0.9272025350030242,
          0.9272025350030242,
          0.9272025350030242,
          0.9272025350030242,
          0.9272025350030242
         ]
        },
        {
         "line": {
          "color": "royalblue",
          "width": 4
         },
         "marker": {
          "color": [
           "green",
           "green",
           "red",
           "green",
           "green",
           "green",
           "green",
           "green",
           "green",
           "green",
           "green",
           "green",
           "green",
           "green",
           "green",
           "green",
           "green",
           "green",
           "green",
           "green",
           "green",
           "green",
           "green",
           "green",
           "green",
           "green",
           "green",
           "red",
           "green",
           "green",
           "green",
           "green",
           "green",
           "green",
           "green",
           "green",
           "green",
           "green",
           "green",
           "green",
           "green",
           "green",
           "green",
           "green",
           "green",
           "green",
           "green",
           "green",
           "green",
           "green",
           "green",
           "green",
           "green",
           "green",
           "green",
           "green",
           "green",
           "green",
           "green",
           "green",
           "green",
           "green",
           "green",
           "green",
           "green",
           "green",
           "green",
           "green",
           "green",
           "green",
           "green",
           "green",
           "green",
           "green",
           "green",
           "green",
           "green",
           "green",
           "green",
           "green",
           "green",
           "green",
           "green",
           "green",
           "green",
           "green",
           "green",
           "green",
           "green",
           "green",
           "green",
           "green",
           "green",
           "green",
           "green",
           "green",
           "green",
           "red",
           "green",
           "green",
           "green",
           "green",
           "green",
           "green",
           "green",
           "green",
           "green",
           "green",
           "green",
           "green",
           "green",
           "green",
           "green",
           "green",
           "green",
           "green",
           "green",
           "green",
           "green",
           "green",
           "green",
           "green",
           "green",
           "green",
           "green",
           "green",
           "green",
           "green",
           "green",
           "green",
           "green",
           "green",
           "green",
           "green",
           "green",
           "green",
           "green",
           "green",
           "green",
           "green",
           "green",
           "green",
           "green",
           "green",
           "green",
           "green",
           "green",
           "green",
           "green",
           "red",
           "green",
           "green",
           "green",
           "green",
           "green",
           "green",
           "green",
           "green",
           "green",
           "green",
           "green",
           "green",
           "green",
           "green",
           "green",
           "green",
           "green",
           "green",
           "green",
           "green",
           "green",
           "green",
           "green",
           "green",
           "green",
           "green",
           "green",
           "green",
           "green",
           "green",
           "green",
           "green",
           "green",
           "green",
           "green",
           "green",
           "green",
           "green",
           "green",
           "green",
           "green",
           "green",
           "green",
           "green",
           "green",
           "green",
           "green",
           "green",
           "green",
           "green",
           "green",
           "green",
           "red",
           "green",
           "red",
           "green",
           "green"
          ],
          "size": 8
         },
         "mode": "lines+markers",
         "name": "Distance",
         "type": "scatter",
         "x": [
          0,
          1,
          2,
          3,
          4,
          5,
          6,
          7,
          8,
          9,
          10,
          11,
          12,
          13,
          14,
          15,
          16,
          17,
          18,
          19,
          20,
          21,
          22,
          23,
          24,
          25,
          26,
          27,
          28,
          29,
          30,
          31,
          32,
          33,
          34,
          35,
          36,
          37,
          38,
          39,
          40,
          41,
          42,
          43,
          44,
          45,
          46,
          47,
          48,
          49,
          50,
          51,
          52,
          53,
          54,
          55,
          56,
          57,
          58,
          59,
          60,
          61,
          62,
          63,
          64,
          65,
          66,
          67,
          68,
          69,
          70,
          71,
          72,
          73,
          74,
          75,
          76,
          77,
          78,
          79,
          80,
          81,
          82,
          83,
          84,
          85,
          86,
          87,
          88,
          89,
          90,
          91,
          92,
          93,
          94,
          95,
          96,
          97,
          98,
          99,
          100,
          101,
          102,
          103,
          104,
          105,
          106,
          107,
          108,
          109,
          110,
          111,
          112,
          113,
          114,
          115,
          116,
          117,
          118,
          119,
          120,
          121,
          122,
          123,
          124,
          125,
          126,
          127,
          128,
          129,
          130,
          131,
          132,
          133,
          134,
          135,
          136,
          137,
          138,
          139,
          140,
          141,
          142,
          143,
          144,
          145,
          146,
          147,
          148,
          149,
          150,
          151,
          152,
          153,
          154,
          155,
          156,
          157,
          158,
          159,
          160,
          161,
          162,
          163,
          164,
          165,
          166,
          167,
          168,
          169,
          170,
          171,
          172,
          173,
          174,
          175,
          176,
          177,
          178,
          179,
          180,
          181,
          182,
          183,
          184,
          185,
          186,
          187,
          188,
          189,
          190,
          191,
          192,
          193,
          194,
          195,
          196,
          197,
          198,
          199,
          200,
          201,
          202,
          203,
          204,
          205,
          206
         ],
         "y": [
          0.9255369744688141,
          0.9255477350686917,
          0.927205516904027,
          0.9261134798036283,
          0.9223439558959561,
          0.9223439558959561,
          0.9247693260382848,
          0.9205916509431555,
          0.920184228915062,
          0.92626562083237,
          0.9254568397874852,
          0.92626562083237,
          0.9235487709624126,
          0.9202375025809336,
          0.9198198031647784,
          0.9215226911587842,
          0.923049714216743,
          0.9186980748225897,
          0.9272017439990294,
          0.921151243251124,
          0.9166289347471427,
          0.9272019669038847,
          0.92720176484421,
          0.921929004938843,
          0.9237321742879134,
          0.919565406028671,
          0.9187959236661624,
          0.9272035163855825,
          0.9199300806431672,
          0.9214017412485771,
          0.9215388255270534,
          0.9163330909708185,
          0.9216403666388371,
          0.9195897247848753,
          0.9238460269857832,
          0.9134453269274423,
          0.9225277127486093,
          0.9247170910470409,
          0.9216358506992566,
          0.9219047617841116,
          0.9167669016758807,
          0.9249134114712257,
          0.9192664406724238,
          0.9179510510096542,
          0.9155894021269884,
          0.9218247963984476,
          0.920516516056093,
          0.9220730708573653,
          0.9213478392190457,
          0.9213936756306249,
          0.9205252636288344,
          0.9173012207684453,
          0.9192013981979557,
          0.9252786865698481,
          0.9215092855971784,
          0.9246399685297614,
          0.9267095006615467,
          0.9230849142783948,
          0.9213503527926018,
          0.9224404713166696,
          0.9272020101538564,
          0.9214165731112631,
          0.9231109453221066,
          0.915730877418589,
          0.921764751694102,
          0.9170352859514811,
          0.9210306323714761,
          0.9160496666503398,
          0.9138541746593691,
          0.9203492516279195,
          0.9191237497249568,
          0.9213379774575249,
          0.9229047066855328,
          0.9245045639854645,
          0.9218808719060974,
          0.9234475857358628,
          0.91390663978427,
          0.913936667420196,
          0.9177027033107054,
          0.9151296933712355,
          0.9203905759988887,
          0.9201338163459816,
          0.9241386386175864,
          0.9162069509850106,
          0.9206547588213146,
          0.9156968569176978,
          0.9142121724173765,
          0.913528066794157,
          0.919212761367159,
          0.916485114385873,
          0.9168789093622747,
          0.9219023595723806,
          0.9214808413186321,
          0.9177527304161173,
          0.9156789687658337,
          0.9247228859704472,
          0.9139007686135336,
          0.927204213742252,
          0.9272018891875179,
          0.9255795649538163,
          0.9183871814205387,
          0.9195895578184325,
          0.9221233455822025,
          0.9171873095587884,
          0.9233308929361894,
          0.915652461673197,
          0.9147012990915614,
          0.9168774471594042,
          0.9136751631812535,
          0.9195504589944266,
          0.91381371597382,
          0.9229482615744136,
          0.919897690887449,
          0.9141813792966407,
          0.9248503260551458,
          0.9166997372158392,
          0.9216731727632296,
          0.9138110831301569,
          0.9134870073716355,
          0.9272017920630157,
          0.9144350205759341,
          0.9216403638690607,
          0.9142822588494073,
          0.9155302594618014,
          0.9198557181575696,
          0.9174810062145138,
          0.9200611758062526,
          0.9262698491707126,
          0.9176200826841419,
          0.9272017558925246,
          0.9166438050243628,
          0.9151557656754338,
          0.9234102776464972,
          0.9141784226306187,
          0.9184552175155289,
          0.9205409855925047,
          0.9181905543865545,
          0.9141365684598736,
          0.9193054229108948,
          0.9149853168434585,
          0.9187238746126953,
          0.9193057879323413,
          0.9143355259819408,
          0.9235683743274294,
          0.9144474638357848,
          0.9197500861369161,
          0.9136165946387131,
          0.9218336383040101,
          0.9220383359579449,
          0.9272047547354458,
          0.9205688212213939,
          0.9196960141532389,
          0.9183411996204065,
          0.9259367986957371,
          0.9193032359342551,
          0.9188823045851138,
          0.9141232404830504,
          0.9232687204203663,
          0.9187317168353538,
          0.9202295763895919,
          0.9195523271541484,
          0.9272018326915075,
          0.9215594345356528,
          0.9214079815643962,
          0.9198268748560136,
          0.9196842879969402,
          0.9202132077031538,
          0.9217643632270903,
          0.9251198839285231,
          0.9206756864436235,
          0.9197693756953111,
          0.9202931291844472,
          0.9195860693521745,
          0.9208725359820511,
          0.9194953636888339,
          0.9227499323597435,
          0.9222765291999019,
          0.9210881574057976,
          0.9199534294874548,
          0.9237926848886839,
          0.9197112061400784,
          0.9197191250780125,
          0.9225738549870104,
          0.9199600607367667,
          0.9196635855241971,
          0.9200575025792755,
          0.9201496230423526,
          0.9211210922861541,
          0.9234543871135424,
          0.9194813171563685,
          0.926466759193633,
          0.9213309286478564,
          0.9211690753035728,
          0.920596718734948,
          0.9265138152938758,
          0.9271960657585188,
          0.9257901078534845,
          0.926417050801624,
          0.9211556874592427,
          0.9256391969966881,
          0.9198348518194799,
          0.9229926956602839,
          0.9272031043184817,
          0.9270909705964191,
          0.927204956332686,
          0.9220519209014502,
          0.9258766794880201
         ]
        }
       ],
       "layout": {
        "template": {
         "data": {
          "bar": [
           {
            "error_x": {
             "color": "#2a3f5f"
            },
            "error_y": {
             "color": "#2a3f5f"
            },
            "marker": {
             "line": {
              "color": "#E5ECF6",
              "width": 0.5
             },
             "pattern": {
              "fillmode": "overlay",
              "size": 10,
              "solidity": 0.2
             }
            },
            "type": "bar"
           }
          ],
          "barpolar": [
           {
            "marker": {
             "line": {
              "color": "#E5ECF6",
              "width": 0.5
             },
             "pattern": {
              "fillmode": "overlay",
              "size": 10,
              "solidity": 0.2
             }
            },
            "type": "barpolar"
           }
          ],
          "carpet": [
           {
            "aaxis": {
             "endlinecolor": "#2a3f5f",
             "gridcolor": "white",
             "linecolor": "white",
             "minorgridcolor": "white",
             "startlinecolor": "#2a3f5f"
            },
            "baxis": {
             "endlinecolor": "#2a3f5f",
             "gridcolor": "white",
             "linecolor": "white",
             "minorgridcolor": "white",
             "startlinecolor": "#2a3f5f"
            },
            "type": "carpet"
           }
          ],
          "choropleth": [
           {
            "colorbar": {
             "outlinewidth": 0,
             "ticks": ""
            },
            "type": "choropleth"
           }
          ],
          "contour": [
           {
            "colorbar": {
             "outlinewidth": 0,
             "ticks": ""
            },
            "colorscale": [
             [
              0,
              "#0d0887"
             ],
             [
              0.1111111111111111,
              "#46039f"
             ],
             [
              0.2222222222222222,
              "#7201a8"
             ],
             [
              0.3333333333333333,
              "#9c179e"
             ],
             [
              0.4444444444444444,
              "#bd3786"
             ],
             [
              0.5555555555555556,
              "#d8576b"
             ],
             [
              0.6666666666666666,
              "#ed7953"
             ],
             [
              0.7777777777777778,
              "#fb9f3a"
             ],
             [
              0.8888888888888888,
              "#fdca26"
             ],
             [
              1,
              "#f0f921"
             ]
            ],
            "type": "contour"
           }
          ],
          "contourcarpet": [
           {
            "colorbar": {
             "outlinewidth": 0,
             "ticks": ""
            },
            "type": "contourcarpet"
           }
          ],
          "heatmap": [
           {
            "colorbar": {
             "outlinewidth": 0,
             "ticks": ""
            },
            "colorscale": [
             [
              0,
              "#0d0887"
             ],
             [
              0.1111111111111111,
              "#46039f"
             ],
             [
              0.2222222222222222,
              "#7201a8"
             ],
             [
              0.3333333333333333,
              "#9c179e"
             ],
             [
              0.4444444444444444,
              "#bd3786"
             ],
             [
              0.5555555555555556,
              "#d8576b"
             ],
             [
              0.6666666666666666,
              "#ed7953"
             ],
             [
              0.7777777777777778,
              "#fb9f3a"
             ],
             [
              0.8888888888888888,
              "#fdca26"
             ],
             [
              1,
              "#f0f921"
             ]
            ],
            "type": "heatmap"
           }
          ],
          "heatmapgl": [
           {
            "colorbar": {
             "outlinewidth": 0,
             "ticks": ""
            },
            "colorscale": [
             [
              0,
              "#0d0887"
             ],
             [
              0.1111111111111111,
              "#46039f"
             ],
             [
              0.2222222222222222,
              "#7201a8"
             ],
             [
              0.3333333333333333,
              "#9c179e"
             ],
             [
              0.4444444444444444,
              "#bd3786"
             ],
             [
              0.5555555555555556,
              "#d8576b"
             ],
             [
              0.6666666666666666,
              "#ed7953"
             ],
             [
              0.7777777777777778,
              "#fb9f3a"
             ],
             [
              0.8888888888888888,
              "#fdca26"
             ],
             [
              1,
              "#f0f921"
             ]
            ],
            "type": "heatmapgl"
           }
          ],
          "histogram": [
           {
            "marker": {
             "pattern": {
              "fillmode": "overlay",
              "size": 10,
              "solidity": 0.2
             }
            },
            "type": "histogram"
           }
          ],
          "histogram2d": [
           {
            "colorbar": {
             "outlinewidth": 0,
             "ticks": ""
            },
            "colorscale": [
             [
              0,
              "#0d0887"
             ],
             [
              0.1111111111111111,
              "#46039f"
             ],
             [
              0.2222222222222222,
              "#7201a8"
             ],
             [
              0.3333333333333333,
              "#9c179e"
             ],
             [
              0.4444444444444444,
              "#bd3786"
             ],
             [
              0.5555555555555556,
              "#d8576b"
             ],
             [
              0.6666666666666666,
              "#ed7953"
             ],
             [
              0.7777777777777778,
              "#fb9f3a"
             ],
             [
              0.8888888888888888,
              "#fdca26"
             ],
             [
              1,
              "#f0f921"
             ]
            ],
            "type": "histogram2d"
           }
          ],
          "histogram2dcontour": [
           {
            "colorbar": {
             "outlinewidth": 0,
             "ticks": ""
            },
            "colorscale": [
             [
              0,
              "#0d0887"
             ],
             [
              0.1111111111111111,
              "#46039f"
             ],
             [
              0.2222222222222222,
              "#7201a8"
             ],
             [
              0.3333333333333333,
              "#9c179e"
             ],
             [
              0.4444444444444444,
              "#bd3786"
             ],
             [
              0.5555555555555556,
              "#d8576b"
             ],
             [
              0.6666666666666666,
              "#ed7953"
             ],
             [
              0.7777777777777778,
              "#fb9f3a"
             ],
             [
              0.8888888888888888,
              "#fdca26"
             ],
             [
              1,
              "#f0f921"
             ]
            ],
            "type": "histogram2dcontour"
           }
          ],
          "mesh3d": [
           {
            "colorbar": {
             "outlinewidth": 0,
             "ticks": ""
            },
            "type": "mesh3d"
           }
          ],
          "parcoords": [
           {
            "line": {
             "colorbar": {
              "outlinewidth": 0,
              "ticks": ""
             }
            },
            "type": "parcoords"
           }
          ],
          "pie": [
           {
            "automargin": true,
            "type": "pie"
           }
          ],
          "scatter": [
           {
            "marker": {
             "colorbar": {
              "outlinewidth": 0,
              "ticks": ""
             }
            },
            "type": "scatter"
           }
          ],
          "scatter3d": [
           {
            "line": {
             "colorbar": {
              "outlinewidth": 0,
              "ticks": ""
             }
            },
            "marker": {
             "colorbar": {
              "outlinewidth": 0,
              "ticks": ""
             }
            },
            "type": "scatter3d"
           }
          ],
          "scattercarpet": [
           {
            "marker": {
             "colorbar": {
              "outlinewidth": 0,
              "ticks": ""
             }
            },
            "type": "scattercarpet"
           }
          ],
          "scattergeo": [
           {
            "marker": {
             "colorbar": {
              "outlinewidth": 0,
              "ticks": ""
             }
            },
            "type": "scattergeo"
           }
          ],
          "scattergl": [
           {
            "marker": {
             "colorbar": {
              "outlinewidth": 0,
              "ticks": ""
             }
            },
            "type": "scattergl"
           }
          ],
          "scattermapbox": [
           {
            "marker": {
             "colorbar": {
              "outlinewidth": 0,
              "ticks": ""
             }
            },
            "type": "scattermapbox"
           }
          ],
          "scatterpolar": [
           {
            "marker": {
             "colorbar": {
              "outlinewidth": 0,
              "ticks": ""
             }
            },
            "type": "scatterpolar"
           }
          ],
          "scatterpolargl": [
           {
            "marker": {
             "colorbar": {
              "outlinewidth": 0,
              "ticks": ""
             }
            },
            "type": "scatterpolargl"
           }
          ],
          "scatterternary": [
           {
            "marker": {
             "colorbar": {
              "outlinewidth": 0,
              "ticks": ""
             }
            },
            "type": "scatterternary"
           }
          ],
          "surface": [
           {
            "colorbar": {
             "outlinewidth": 0,
             "ticks": ""
            },
            "colorscale": [
             [
              0,
              "#0d0887"
             ],
             [
              0.1111111111111111,
              "#46039f"
             ],
             [
              0.2222222222222222,
              "#7201a8"
             ],
             [
              0.3333333333333333,
              "#9c179e"
             ],
             [
              0.4444444444444444,
              "#bd3786"
             ],
             [
              0.5555555555555556,
              "#d8576b"
             ],
             [
              0.6666666666666666,
              "#ed7953"
             ],
             [
              0.7777777777777778,
              "#fb9f3a"
             ],
             [
              0.8888888888888888,
              "#fdca26"
             ],
             [
              1,
              "#f0f921"
             ]
            ],
            "type": "surface"
           }
          ],
          "table": [
           {
            "cells": {
             "fill": {
              "color": "#EBF0F8"
             },
             "line": {
              "color": "white"
             }
            },
            "header": {
             "fill": {
              "color": "#C8D4E3"
             },
             "line": {
              "color": "white"
             }
            },
            "type": "table"
           }
          ]
         },
         "layout": {
          "annotationdefaults": {
           "arrowcolor": "#2a3f5f",
           "arrowhead": 0,
           "arrowwidth": 1
          },
          "autotypenumbers": "strict",
          "coloraxis": {
           "colorbar": {
            "outlinewidth": 0,
            "ticks": ""
           }
          },
          "colorscale": {
           "diverging": [
            [
             0,
             "#8e0152"
            ],
            [
             0.1,
             "#c51b7d"
            ],
            [
             0.2,
             "#de77ae"
            ],
            [
             0.3,
             "#f1b6da"
            ],
            [
             0.4,
             "#fde0ef"
            ],
            [
             0.5,
             "#f7f7f7"
            ],
            [
             0.6,
             "#e6f5d0"
            ],
            [
             0.7,
             "#b8e186"
            ],
            [
             0.8,
             "#7fbc41"
            ],
            [
             0.9,
             "#4d9221"
            ],
            [
             1,
             "#276419"
            ]
           ],
           "sequential": [
            [
             0,
             "#0d0887"
            ],
            [
             0.1111111111111111,
             "#46039f"
            ],
            [
             0.2222222222222222,
             "#7201a8"
            ],
            [
             0.3333333333333333,
             "#9c179e"
            ],
            [
             0.4444444444444444,
             "#bd3786"
            ],
            [
             0.5555555555555556,
             "#d8576b"
            ],
            [
             0.6666666666666666,
             "#ed7953"
            ],
            [
             0.7777777777777778,
             "#fb9f3a"
            ],
            [
             0.8888888888888888,
             "#fdca26"
            ],
            [
             1,
             "#f0f921"
            ]
           ],
           "sequentialminus": [
            [
             0,
             "#0d0887"
            ],
            [
             0.1111111111111111,
             "#46039f"
            ],
            [
             0.2222222222222222,
             "#7201a8"
            ],
            [
             0.3333333333333333,
             "#9c179e"
            ],
            [
             0.4444444444444444,
             "#bd3786"
            ],
            [
             0.5555555555555556,
             "#d8576b"
            ],
            [
             0.6666666666666666,
             "#ed7953"
            ],
            [
             0.7777777777777778,
             "#fb9f3a"
            ],
            [
             0.8888888888888888,
             "#fdca26"
            ],
            [
             1,
             "#f0f921"
            ]
           ]
          },
          "colorway": [
           "#636efa",
           "#EF553B",
           "#00cc96",
           "#ab63fa",
           "#FFA15A",
           "#19d3f3",
           "#FF6692",
           "#B6E880",
           "#FF97FF",
           "#FECB52"
          ],
          "font": {
           "color": "#2a3f5f"
          },
          "geo": {
           "bgcolor": "white",
           "lakecolor": "white",
           "landcolor": "#E5ECF6",
           "showlakes": true,
           "showland": true,
           "subunitcolor": "white"
          },
          "hoverlabel": {
           "align": "left"
          },
          "hovermode": "closest",
          "mapbox": {
           "style": "light"
          },
          "paper_bgcolor": "white",
          "plot_bgcolor": "#E5ECF6",
          "polar": {
           "angularaxis": {
            "gridcolor": "white",
            "linecolor": "white",
            "ticks": ""
           },
           "bgcolor": "#E5ECF6",
           "radialaxis": {
            "gridcolor": "white",
            "linecolor": "white",
            "ticks": ""
           }
          },
          "scene": {
           "xaxis": {
            "backgroundcolor": "#E5ECF6",
            "gridcolor": "white",
            "gridwidth": 2,
            "linecolor": "white",
            "showbackground": true,
            "ticks": "",
            "zerolinecolor": "white"
           },
           "yaxis": {
            "backgroundcolor": "#E5ECF6",
            "gridcolor": "white",
            "gridwidth": 2,
            "linecolor": "white",
            "showbackground": true,
            "ticks": "",
            "zerolinecolor": "white"
           },
           "zaxis": {
            "backgroundcolor": "#E5ECF6",
            "gridcolor": "white",
            "gridwidth": 2,
            "linecolor": "white",
            "showbackground": true,
            "ticks": "",
            "zerolinecolor": "white"
           }
          },
          "shapedefaults": {
           "line": {
            "color": "#2a3f5f"
           }
          },
          "ternary": {
           "aaxis": {
            "gridcolor": "white",
            "linecolor": "white",
            "ticks": ""
           },
           "baxis": {
            "gridcolor": "white",
            "linecolor": "white",
            "ticks": ""
           },
           "bgcolor": "#E5ECF6",
           "caxis": {
            "gridcolor": "white",
            "linecolor": "white",
            "ticks": ""
           }
          },
          "title": {
           "x": 0.05
          },
          "xaxis": {
           "automargin": true,
           "gridcolor": "white",
           "linecolor": "white",
           "ticks": "",
           "title": {
            "standoff": 15
           },
           "zerolinecolor": "white",
           "zerolinewidth": 2
          },
          "yaxis": {
           "automargin": true,
           "gridcolor": "white",
           "linecolor": "white",
           "ticks": "",
           "title": {
            "standoff": 15
           },
           "zerolinecolor": "white",
           "zerolinewidth": 2
          }
         }
        },
        "title": {
         "text": "Control Chart"
        },
        "xaxis": {
         "title": {
          "text": "Samples"
         }
        },
        "yaxis": {
         "title": {
          "text": "Distance"
         }
        }
       }
      },
      "text/html": [
       "<div>                            <div id=\"634529d1-c1fb-4b97-af3e-5b8f739d185f\" class=\"plotly-graph-div\" style=\"height:525px; width:100%;\"></div>            <script type=\"text/javascript\">                require([\"plotly\"], function(Plotly) {                    window.PLOTLYENV=window.PLOTLYENV || {};                                    if (document.getElementById(\"634529d1-c1fb-4b97-af3e-5b8f739d185f\")) {                    Plotly.newPlot(                        \"634529d1-c1fb-4b97-af3e-5b8f739d185f\",                        [{\"line\":{\"color\":\"purple\",\"width\":3},\"mode\":\"lines\",\"name\":\"radius\",\"x\":[0,1,2,3,4,5,6,7,8,9,10,11,12,13,14,15,16,17,18,19,20,21,22,23,24,25,26,27,28,29,30,31,32,33,34,35,36,37,38,39,40,41,42,43,44,45,46,47,48,49,50,51,52,53,54,55,56,57,58,59,60,61,62,63,64,65,66,67,68,69,70,71,72,73,74,75,76,77,78,79,80,81,82,83,84,85,86,87,88,89,90,91,92,93,94,95,96,97,98,99,100,101,102,103,104,105,106,107,108,109,110,111,112,113,114,115,116,117,118,119,120,121,122,123,124,125,126,127,128,129,130,131,132,133,134,135,136,137,138,139,140,141,142,143,144,145,146,147,148,149,150,151,152,153,154,155,156,157,158,159,160,161,162,163,164,165,166,167,168,169,170,171,172,173,174,175,176,177,178,179,180,181,182,183,184,185,186,187,188,189,190,191,192,193,194,195,196,197,198,199,200,201,202,203,204,205,206],\"y\":[0.9272025350030242,0.9272025350030242,0.9272025350030242,0.9272025350030242,0.9272025350030242,0.9272025350030242,0.9272025350030242,0.9272025350030242,0.9272025350030242,0.9272025350030242,0.9272025350030242,0.9272025350030242,0.9272025350030242,0.9272025350030242,0.9272025350030242,0.9272025350030242,0.9272025350030242,0.9272025350030242,0.9272025350030242,0.9272025350030242,0.9272025350030242,0.9272025350030242,0.9272025350030242,0.9272025350030242,0.9272025350030242,0.9272025350030242,0.9272025350030242,0.9272025350030242,0.9272025350030242,0.9272025350030242,0.9272025350030242,0.9272025350030242,0.9272025350030242,0.9272025350030242,0.9272025350030242,0.9272025350030242,0.9272025350030242,0.9272025350030242,0.9272025350030242,0.9272025350030242,0.9272025350030242,0.9272025350030242,0.9272025350030242,0.9272025350030242,0.9272025350030242,0.9272025350030242,0.9272025350030242,0.9272025350030242,0.9272025350030242,0.9272025350030242,0.9272025350030242,0.9272025350030242,0.9272025350030242,0.9272025350030242,0.9272025350030242,0.9272025350030242,0.9272025350030242,0.9272025350030242,0.9272025350030242,0.9272025350030242,0.9272025350030242,0.9272025350030242,0.9272025350030242,0.9272025350030242,0.9272025350030242,0.9272025350030242,0.9272025350030242,0.9272025350030242,0.9272025350030242,0.9272025350030242,0.9272025350030242,0.9272025350030242,0.9272025350030242,0.9272025350030242,0.9272025350030242,0.9272025350030242,0.9272025350030242,0.9272025350030242,0.9272025350030242,0.9272025350030242,0.9272025350030242,0.9272025350030242,0.9272025350030242,0.9272025350030242,0.9272025350030242,0.9272025350030242,0.9272025350030242,0.9272025350030242,0.9272025350030242,0.9272025350030242,0.9272025350030242,0.9272025350030242,0.9272025350030242,0.9272025350030242,0.9272025350030242,0.9272025350030242,0.9272025350030242,0.9272025350030242,0.9272025350030242,0.9272025350030242,0.9272025350030242,0.9272025350030242,0.9272025350030242,0.9272025350030242,0.9272025350030242,0.9272025350030242,0.9272025350030242,0.9272025350030242,0.9272025350030242,0.9272025350030242,0.9272025350030242,0.9272025350030242,0.9272025350030242,0.9272025350030242,0.9272025350030242,0.9272025350030242,0.9272025350030242,0.9272025350030242,0.9272025350030242,0.9272025350030242,0.9272025350030242,0.9272025350030242,0.9272025350030242,0.9272025350030242,0.9272025350030242,0.9272025350030242,0.9272025350030242,0.9272025350030242,0.9272025350030242,0.9272025350030242,0.9272025350030242,0.9272025350030242,0.9272025350030242,0.9272025350030242,0.9272025350030242,0.9272025350030242,0.9272025350030242,0.9272025350030242,0.9272025350030242,0.9272025350030242,0.9272025350030242,0.9272025350030242,0.9272025350030242,0.9272025350030242,0.9272025350030242,0.9272025350030242,0.9272025350030242,0.9272025350030242,0.9272025350030242,0.9272025350030242,0.9272025350030242,0.9272025350030242,0.9272025350030242,0.9272025350030242,0.9272025350030242,0.9272025350030242,0.9272025350030242,0.9272025350030242,0.9272025350030242,0.9272025350030242,0.9272025350030242,0.9272025350030242,0.9272025350030242,0.9272025350030242,0.9272025350030242,0.9272025350030242,0.9272025350030242,0.9272025350030242,0.9272025350030242,0.9272025350030242,0.9272025350030242,0.9272025350030242,0.9272025350030242,0.9272025350030242,0.9272025350030242,0.9272025350030242,0.9272025350030242,0.9272025350030242,0.9272025350030242,0.9272025350030242,0.9272025350030242,0.9272025350030242,0.9272025350030242,0.9272025350030242,0.9272025350030242,0.9272025350030242,0.9272025350030242,0.9272025350030242,0.9272025350030242,0.9272025350030242,0.9272025350030242,0.9272025350030242,0.9272025350030242,0.9272025350030242,0.9272025350030242,0.9272025350030242,0.9272025350030242,0.9272025350030242,0.9272025350030242,0.9272025350030242,0.9272025350030242,0.9272025350030242,0.9272025350030242,0.9272025350030242,0.9272025350030242,0.9272025350030242,0.9272025350030242],\"type\":\"scatter\"},{\"line\":{\"color\":\"royalblue\",\"width\":4},\"marker\":{\"color\":[\"green\",\"green\",\"red\",\"green\",\"green\",\"green\",\"green\",\"green\",\"green\",\"green\",\"green\",\"green\",\"green\",\"green\",\"green\",\"green\",\"green\",\"green\",\"green\",\"green\",\"green\",\"green\",\"green\",\"green\",\"green\",\"green\",\"green\",\"red\",\"green\",\"green\",\"green\",\"green\",\"green\",\"green\",\"green\",\"green\",\"green\",\"green\",\"green\",\"green\",\"green\",\"green\",\"green\",\"green\",\"green\",\"green\",\"green\",\"green\",\"green\",\"green\",\"green\",\"green\",\"green\",\"green\",\"green\",\"green\",\"green\",\"green\",\"green\",\"green\",\"green\",\"green\",\"green\",\"green\",\"green\",\"green\",\"green\",\"green\",\"green\",\"green\",\"green\",\"green\",\"green\",\"green\",\"green\",\"green\",\"green\",\"green\",\"green\",\"green\",\"green\",\"green\",\"green\",\"green\",\"green\",\"green\",\"green\",\"green\",\"green\",\"green\",\"green\",\"green\",\"green\",\"green\",\"green\",\"green\",\"green\",\"red\",\"green\",\"green\",\"green\",\"green\",\"green\",\"green\",\"green\",\"green\",\"green\",\"green\",\"green\",\"green\",\"green\",\"green\",\"green\",\"green\",\"green\",\"green\",\"green\",\"green\",\"green\",\"green\",\"green\",\"green\",\"green\",\"green\",\"green\",\"green\",\"green\",\"green\",\"green\",\"green\",\"green\",\"green\",\"green\",\"green\",\"green\",\"green\",\"green\",\"green\",\"green\",\"green\",\"green\",\"green\",\"green\",\"green\",\"green\",\"green\",\"green\",\"green\",\"green\",\"red\",\"green\",\"green\",\"green\",\"green\",\"green\",\"green\",\"green\",\"green\",\"green\",\"green\",\"green\",\"green\",\"green\",\"green\",\"green\",\"green\",\"green\",\"green\",\"green\",\"green\",\"green\",\"green\",\"green\",\"green\",\"green\",\"green\",\"green\",\"green\",\"green\",\"green\",\"green\",\"green\",\"green\",\"green\",\"green\",\"green\",\"green\",\"green\",\"green\",\"green\",\"green\",\"green\",\"green\",\"green\",\"green\",\"green\",\"green\",\"green\",\"green\",\"green\",\"green\",\"green\",\"red\",\"green\",\"red\",\"green\",\"green\"],\"size\":8},\"mode\":\"lines+markers\",\"name\":\"Distance\",\"x\":[0,1,2,3,4,5,6,7,8,9,10,11,12,13,14,15,16,17,18,19,20,21,22,23,24,25,26,27,28,29,30,31,32,33,34,35,36,37,38,39,40,41,42,43,44,45,46,47,48,49,50,51,52,53,54,55,56,57,58,59,60,61,62,63,64,65,66,67,68,69,70,71,72,73,74,75,76,77,78,79,80,81,82,83,84,85,86,87,88,89,90,91,92,93,94,95,96,97,98,99,100,101,102,103,104,105,106,107,108,109,110,111,112,113,114,115,116,117,118,119,120,121,122,123,124,125,126,127,128,129,130,131,132,133,134,135,136,137,138,139,140,141,142,143,144,145,146,147,148,149,150,151,152,153,154,155,156,157,158,159,160,161,162,163,164,165,166,167,168,169,170,171,172,173,174,175,176,177,178,179,180,181,182,183,184,185,186,187,188,189,190,191,192,193,194,195,196,197,198,199,200,201,202,203,204,205,206],\"y\":[0.9255369744688141,0.9255477350686917,0.927205516904027,0.9261134798036283,0.9223439558959561,0.9223439558959561,0.9247693260382848,0.9205916509431555,0.920184228915062,0.92626562083237,0.9254568397874852,0.92626562083237,0.9235487709624126,0.9202375025809336,0.9198198031647784,0.9215226911587842,0.923049714216743,0.9186980748225897,0.9272017439990294,0.921151243251124,0.9166289347471427,0.9272019669038847,0.92720176484421,0.921929004938843,0.9237321742879134,0.919565406028671,0.9187959236661624,0.9272035163855825,0.9199300806431672,0.9214017412485771,0.9215388255270534,0.9163330909708185,0.9216403666388371,0.9195897247848753,0.9238460269857832,0.9134453269274423,0.9225277127486093,0.9247170910470409,0.9216358506992566,0.9219047617841116,0.9167669016758807,0.9249134114712257,0.9192664406724238,0.9179510510096542,0.9155894021269884,0.9218247963984476,0.920516516056093,0.9220730708573653,0.9213478392190457,0.9213936756306249,0.9205252636288344,0.9173012207684453,0.9192013981979557,0.9252786865698481,0.9215092855971784,0.9246399685297614,0.9267095006615467,0.9230849142783948,0.9213503527926018,0.9224404713166696,0.9272020101538564,0.9214165731112631,0.9231109453221066,0.915730877418589,0.921764751694102,0.9170352859514811,0.9210306323714761,0.9160496666503398,0.9138541746593691,0.9203492516279195,0.9191237497249568,0.9213379774575249,0.9229047066855328,0.9245045639854645,0.9218808719060974,0.9234475857358628,0.91390663978427,0.913936667420196,0.9177027033107054,0.9151296933712355,0.9203905759988887,0.9201338163459816,0.9241386386175864,0.9162069509850106,0.9206547588213146,0.9156968569176978,0.9142121724173765,0.913528066794157,0.919212761367159,0.916485114385873,0.9168789093622747,0.9219023595723806,0.9214808413186321,0.9177527304161173,0.9156789687658337,0.9247228859704472,0.9139007686135336,0.927204213742252,0.9272018891875179,0.9255795649538163,0.9183871814205387,0.9195895578184325,0.9221233455822025,0.9171873095587884,0.9233308929361894,0.915652461673197,0.9147012990915614,0.9168774471594042,0.9136751631812535,0.9195504589944266,0.91381371597382,0.9229482615744136,0.919897690887449,0.9141813792966407,0.9248503260551458,0.9166997372158392,0.9216731727632296,0.9138110831301569,0.9134870073716355,0.9272017920630157,0.9144350205759341,0.9216403638690607,0.9142822588494073,0.9155302594618014,0.9198557181575696,0.9174810062145138,0.9200611758062526,0.9262698491707126,0.9176200826841419,0.9272017558925246,0.9166438050243628,0.9151557656754338,0.9234102776464972,0.9141784226306187,0.9184552175155289,0.9205409855925047,0.9181905543865545,0.9141365684598736,0.9193054229108948,0.9149853168434585,0.9187238746126953,0.9193057879323413,0.9143355259819408,0.9235683743274294,0.9144474638357848,0.9197500861369161,0.9136165946387131,0.9218336383040101,0.9220383359579449,0.9272047547354458,0.9205688212213939,0.9196960141532389,0.9183411996204065,0.9259367986957371,0.9193032359342551,0.9188823045851138,0.9141232404830504,0.9232687204203663,0.9187317168353538,0.9202295763895919,0.9195523271541484,0.9272018326915075,0.9215594345356528,0.9214079815643962,0.9198268748560136,0.9196842879969402,0.9202132077031538,0.9217643632270903,0.9251198839285231,0.9206756864436235,0.9197693756953111,0.9202931291844472,0.9195860693521745,0.9208725359820511,0.9194953636888339,0.9227499323597435,0.9222765291999019,0.9210881574057976,0.9199534294874548,0.9237926848886839,0.9197112061400784,0.9197191250780125,0.9225738549870104,0.9199600607367667,0.9196635855241971,0.9200575025792755,0.9201496230423526,0.9211210922861541,0.9234543871135424,0.9194813171563685,0.926466759193633,0.9213309286478564,0.9211690753035728,0.920596718734948,0.9265138152938758,0.9271960657585188,0.9257901078534845,0.926417050801624,0.9211556874592427,0.9256391969966881,0.9198348518194799,0.9229926956602839,0.9272031043184817,0.9270909705964191,0.927204956332686,0.9220519209014502,0.9258766794880201],\"type\":\"scatter\"}],                        {\"template\":{\"data\":{\"bar\":[{\"error_x\":{\"color\":\"#2a3f5f\"},\"error_y\":{\"color\":\"#2a3f5f\"},\"marker\":{\"line\":{\"color\":\"#E5ECF6\",\"width\":0.5},\"pattern\":{\"fillmode\":\"overlay\",\"size\":10,\"solidity\":0.2}},\"type\":\"bar\"}],\"barpolar\":[{\"marker\":{\"line\":{\"color\":\"#E5ECF6\",\"width\":0.5},\"pattern\":{\"fillmode\":\"overlay\",\"size\":10,\"solidity\":0.2}},\"type\":\"barpolar\"}],\"carpet\":[{\"aaxis\":{\"endlinecolor\":\"#2a3f5f\",\"gridcolor\":\"white\",\"linecolor\":\"white\",\"minorgridcolor\":\"white\",\"startlinecolor\":\"#2a3f5f\"},\"baxis\":{\"endlinecolor\":\"#2a3f5f\",\"gridcolor\":\"white\",\"linecolor\":\"white\",\"minorgridcolor\":\"white\",\"startlinecolor\":\"#2a3f5f\"},\"type\":\"carpet\"}],\"choropleth\":[{\"colorbar\":{\"outlinewidth\":0,\"ticks\":\"\"},\"type\":\"choropleth\"}],\"contour\":[{\"colorbar\":{\"outlinewidth\":0,\"ticks\":\"\"},\"colorscale\":[[0.0,\"#0d0887\"],[0.1111111111111111,\"#46039f\"],[0.2222222222222222,\"#7201a8\"],[0.3333333333333333,\"#9c179e\"],[0.4444444444444444,\"#bd3786\"],[0.5555555555555556,\"#d8576b\"],[0.6666666666666666,\"#ed7953\"],[0.7777777777777778,\"#fb9f3a\"],[0.8888888888888888,\"#fdca26\"],[1.0,\"#f0f921\"]],\"type\":\"contour\"}],\"contourcarpet\":[{\"colorbar\":{\"outlinewidth\":0,\"ticks\":\"\"},\"type\":\"contourcarpet\"}],\"heatmap\":[{\"colorbar\":{\"outlinewidth\":0,\"ticks\":\"\"},\"colorscale\":[[0.0,\"#0d0887\"],[0.1111111111111111,\"#46039f\"],[0.2222222222222222,\"#7201a8\"],[0.3333333333333333,\"#9c179e\"],[0.4444444444444444,\"#bd3786\"],[0.5555555555555556,\"#d8576b\"],[0.6666666666666666,\"#ed7953\"],[0.7777777777777778,\"#fb9f3a\"],[0.8888888888888888,\"#fdca26\"],[1.0,\"#f0f921\"]],\"type\":\"heatmap\"}],\"heatmapgl\":[{\"colorbar\":{\"outlinewidth\":0,\"ticks\":\"\"},\"colorscale\":[[0.0,\"#0d0887\"],[0.1111111111111111,\"#46039f\"],[0.2222222222222222,\"#7201a8\"],[0.3333333333333333,\"#9c179e\"],[0.4444444444444444,\"#bd3786\"],[0.5555555555555556,\"#d8576b\"],[0.6666666666666666,\"#ed7953\"],[0.7777777777777778,\"#fb9f3a\"],[0.8888888888888888,\"#fdca26\"],[1.0,\"#f0f921\"]],\"type\":\"heatmapgl\"}],\"histogram\":[{\"marker\":{\"pattern\":{\"fillmode\":\"overlay\",\"size\":10,\"solidity\":0.2}},\"type\":\"histogram\"}],\"histogram2d\":[{\"colorbar\":{\"outlinewidth\":0,\"ticks\":\"\"},\"colorscale\":[[0.0,\"#0d0887\"],[0.1111111111111111,\"#46039f\"],[0.2222222222222222,\"#7201a8\"],[0.3333333333333333,\"#9c179e\"],[0.4444444444444444,\"#bd3786\"],[0.5555555555555556,\"#d8576b\"],[0.6666666666666666,\"#ed7953\"],[0.7777777777777778,\"#fb9f3a\"],[0.8888888888888888,\"#fdca26\"],[1.0,\"#f0f921\"]],\"type\":\"histogram2d\"}],\"histogram2dcontour\":[{\"colorbar\":{\"outlinewidth\":0,\"ticks\":\"\"},\"colorscale\":[[0.0,\"#0d0887\"],[0.1111111111111111,\"#46039f\"],[0.2222222222222222,\"#7201a8\"],[0.3333333333333333,\"#9c179e\"],[0.4444444444444444,\"#bd3786\"],[0.5555555555555556,\"#d8576b\"],[0.6666666666666666,\"#ed7953\"],[0.7777777777777778,\"#fb9f3a\"],[0.8888888888888888,\"#fdca26\"],[1.0,\"#f0f921\"]],\"type\":\"histogram2dcontour\"}],\"mesh3d\":[{\"colorbar\":{\"outlinewidth\":0,\"ticks\":\"\"},\"type\":\"mesh3d\"}],\"parcoords\":[{\"line\":{\"colorbar\":{\"outlinewidth\":0,\"ticks\":\"\"}},\"type\":\"parcoords\"}],\"pie\":[{\"automargin\":true,\"type\":\"pie\"}],\"scatter\":[{\"marker\":{\"colorbar\":{\"outlinewidth\":0,\"ticks\":\"\"}},\"type\":\"scatter\"}],\"scatter3d\":[{\"line\":{\"colorbar\":{\"outlinewidth\":0,\"ticks\":\"\"}},\"marker\":{\"colorbar\":{\"outlinewidth\":0,\"ticks\":\"\"}},\"type\":\"scatter3d\"}],\"scattercarpet\":[{\"marker\":{\"colorbar\":{\"outlinewidth\":0,\"ticks\":\"\"}},\"type\":\"scattercarpet\"}],\"scattergeo\":[{\"marker\":{\"colorbar\":{\"outlinewidth\":0,\"ticks\":\"\"}},\"type\":\"scattergeo\"}],\"scattergl\":[{\"marker\":{\"colorbar\":{\"outlinewidth\":0,\"ticks\":\"\"}},\"type\":\"scattergl\"}],\"scattermapbox\":[{\"marker\":{\"colorbar\":{\"outlinewidth\":0,\"ticks\":\"\"}},\"type\":\"scattermapbox\"}],\"scatterpolar\":[{\"marker\":{\"colorbar\":{\"outlinewidth\":0,\"ticks\":\"\"}},\"type\":\"scatterpolar\"}],\"scatterpolargl\":[{\"marker\":{\"colorbar\":{\"outlinewidth\":0,\"ticks\":\"\"}},\"type\":\"scatterpolargl\"}],\"scatterternary\":[{\"marker\":{\"colorbar\":{\"outlinewidth\":0,\"ticks\":\"\"}},\"type\":\"scatterternary\"}],\"surface\":[{\"colorbar\":{\"outlinewidth\":0,\"ticks\":\"\"},\"colorscale\":[[0.0,\"#0d0887\"],[0.1111111111111111,\"#46039f\"],[0.2222222222222222,\"#7201a8\"],[0.3333333333333333,\"#9c179e\"],[0.4444444444444444,\"#bd3786\"],[0.5555555555555556,\"#d8576b\"],[0.6666666666666666,\"#ed7953\"],[0.7777777777777778,\"#fb9f3a\"],[0.8888888888888888,\"#fdca26\"],[1.0,\"#f0f921\"]],\"type\":\"surface\"}],\"table\":[{\"cells\":{\"fill\":{\"color\":\"#EBF0F8\"},\"line\":{\"color\":\"white\"}},\"header\":{\"fill\":{\"color\":\"#C8D4E3\"},\"line\":{\"color\":\"white\"}},\"type\":\"table\"}]},\"layout\":{\"annotationdefaults\":{\"arrowcolor\":\"#2a3f5f\",\"arrowhead\":0,\"arrowwidth\":1},\"autotypenumbers\":\"strict\",\"coloraxis\":{\"colorbar\":{\"outlinewidth\":0,\"ticks\":\"\"}},\"colorscale\":{\"diverging\":[[0,\"#8e0152\"],[0.1,\"#c51b7d\"],[0.2,\"#de77ae\"],[0.3,\"#f1b6da\"],[0.4,\"#fde0ef\"],[0.5,\"#f7f7f7\"],[0.6,\"#e6f5d0\"],[0.7,\"#b8e186\"],[0.8,\"#7fbc41\"],[0.9,\"#4d9221\"],[1,\"#276419\"]],\"sequential\":[[0.0,\"#0d0887\"],[0.1111111111111111,\"#46039f\"],[0.2222222222222222,\"#7201a8\"],[0.3333333333333333,\"#9c179e\"],[0.4444444444444444,\"#bd3786\"],[0.5555555555555556,\"#d8576b\"],[0.6666666666666666,\"#ed7953\"],[0.7777777777777778,\"#fb9f3a\"],[0.8888888888888888,\"#fdca26\"],[1.0,\"#f0f921\"]],\"sequentialminus\":[[0.0,\"#0d0887\"],[0.1111111111111111,\"#46039f\"],[0.2222222222222222,\"#7201a8\"],[0.3333333333333333,\"#9c179e\"],[0.4444444444444444,\"#bd3786\"],[0.5555555555555556,\"#d8576b\"],[0.6666666666666666,\"#ed7953\"],[0.7777777777777778,\"#fb9f3a\"],[0.8888888888888888,\"#fdca26\"],[1.0,\"#f0f921\"]]},\"colorway\":[\"#636efa\",\"#EF553B\",\"#00cc96\",\"#ab63fa\",\"#FFA15A\",\"#19d3f3\",\"#FF6692\",\"#B6E880\",\"#FF97FF\",\"#FECB52\"],\"font\":{\"color\":\"#2a3f5f\"},\"geo\":{\"bgcolor\":\"white\",\"lakecolor\":\"white\",\"landcolor\":\"#E5ECF6\",\"showlakes\":true,\"showland\":true,\"subunitcolor\":\"white\"},\"hoverlabel\":{\"align\":\"left\"},\"hovermode\":\"closest\",\"mapbox\":{\"style\":\"light\"},\"paper_bgcolor\":\"white\",\"plot_bgcolor\":\"#E5ECF6\",\"polar\":{\"angularaxis\":{\"gridcolor\":\"white\",\"linecolor\":\"white\",\"ticks\":\"\"},\"bgcolor\":\"#E5ECF6\",\"radialaxis\":{\"gridcolor\":\"white\",\"linecolor\":\"white\",\"ticks\":\"\"}},\"scene\":{\"xaxis\":{\"backgroundcolor\":\"#E5ECF6\",\"gridcolor\":\"white\",\"gridwidth\":2,\"linecolor\":\"white\",\"showbackground\":true,\"ticks\":\"\",\"zerolinecolor\":\"white\"},\"yaxis\":{\"backgroundcolor\":\"#E5ECF6\",\"gridcolor\":\"white\",\"gridwidth\":2,\"linecolor\":\"white\",\"showbackground\":true,\"ticks\":\"\",\"zerolinecolor\":\"white\"},\"zaxis\":{\"backgroundcolor\":\"#E5ECF6\",\"gridcolor\":\"white\",\"gridwidth\":2,\"linecolor\":\"white\",\"showbackground\":true,\"ticks\":\"\",\"zerolinecolor\":\"white\"}},\"shapedefaults\":{\"line\":{\"color\":\"#2a3f5f\"}},\"ternary\":{\"aaxis\":{\"gridcolor\":\"white\",\"linecolor\":\"white\",\"ticks\":\"\"},\"baxis\":{\"gridcolor\":\"white\",\"linecolor\":\"white\",\"ticks\":\"\"},\"bgcolor\":\"#E5ECF6\",\"caxis\":{\"gridcolor\":\"white\",\"linecolor\":\"white\",\"ticks\":\"\"}},\"title\":{\"x\":0.05},\"xaxis\":{\"automargin\":true,\"gridcolor\":\"white\",\"linecolor\":\"white\",\"ticks\":\"\",\"title\":{\"standoff\":15},\"zerolinecolor\":\"white\",\"zerolinewidth\":2},\"yaxis\":{\"automargin\":true,\"gridcolor\":\"white\",\"linecolor\":\"white\",\"ticks\":\"\",\"title\":{\"standoff\":15},\"zerolinecolor\":\"white\",\"zerolinewidth\":2}}},\"title\":{\"text\":\"Control Chart\"},\"xaxis\":{\"title\":{\"text\":\"Samples\"}},\"yaxis\":{\"title\":{\"text\":\"Distance\"}}},                        {\"responsive\": true}                    ).then(function(){\n",
       "                            \n",
       "var gd = document.getElementById('634529d1-c1fb-4b97-af3e-5b8f739d185f');\n",
       "var x = new MutationObserver(function (mutations, observer) {{\n",
       "        var display = window.getComputedStyle(gd).display;\n",
       "        if (!display || display === 'none') {{\n",
       "            console.log([gd, 'removed!']);\n",
       "            Plotly.purge(gd);\n",
       "            observer.disconnect();\n",
       "        }}\n",
       "}});\n",
       "\n",
       "// Listen for the removal of the full notebook cells\n",
       "var notebookContainer = gd.closest('#notebook-container');\n",
       "if (notebookContainer) {{\n",
       "    x.observe(notebookContainer, {childList: true});\n",
       "}}\n",
       "\n",
       "// Listen for the clearing of the current output cell\n",
       "var outputEl = gd.closest('.output');\n",
       "if (outputEl) {{\n",
       "    x.observe(outputEl, {childList: true});\n",
       "}}\n",
       "\n",
       "                        })                };                });            </script>        </div>"
      ]
     },
     "metadata": {},
     "output_type": "display_data"
    }
   ],
   "source": [
    "\n",
    "\"\"\"\n",
    "An example for SVDD model fitting with negataive samples\n",
    "\"\"\"\n",
    "import sys\n",
    "sys.path.append(\"C:/Users/USER/Documents/Jupyter Notebook/public_procurement/Project_02_15\\SVDD-Python-master/\")\n",
    "import numpy as np\n",
    "from src.BaseSVDD import BaseSVDD\n",
    "\n",
    "def make_radius_bootstrap(bs_size, alpha):\n",
    "    \n",
    "    quantile_list_d1 = []\n",
    "    for _ in range(bs_size):\n",
    "        samples_d1 = np.random.choice(np.array(distance).ravel(), size=100, replace=True)\n",
    "\n",
    "        quantile_d1 = np.quantile(samples_d1, 1-alpha)\n",
    "\n",
    "        quantile_list_d1.append(quantile_d1)\n",
    "        \n",
    "    radius = np.mean(quantile_list_d1)\n",
    "    \n",
    "    return radius\n",
    "\n",
    "\n",
    "\n",
    "# create 100 points with 2 dimensions\n",
    "# n = 100\n",
    "# dim = 2\n",
    "# X = np.r_[np.random.randn(n, dim)]\n",
    "\n",
    "X = np.array(df_test_2)\n",
    "\n",
    "# svdd object using rbf kernel\n",
    "svdd = BaseSVDD(C=1.0, gamma=0.15, kernel='rbf', display='on')\n",
    "\n",
    "# fit the SVDD model\n",
    "svdd.fit(X,bs_size = 500 , alpha = 0.01)\n",
    "\n",
    "# predict the label\n",
    "y_predict = svdd.predict(X,svdd.y)\n",
    "\n",
    "# # plot the boundary\n",
    "# # svdd.plot_boundary(X)\n",
    "\n",
    "# # # plot the distance\n",
    "# # radius = svdd.radius\n",
    "# distance = svdd.get_distance(X)\n",
    "\n",
    "\n",
    "\n",
    "\n",
    "radius = svdd.radius_2\n",
    "distance = svdd.get_distance(X)\n",
    "svdd.plot_distance(radius, distance)\n",
    "\n"
   ]
  },
  {
   "cell_type": "code",
   "execution_count": 125,
   "metadata": {},
   "outputs": [],
   "source": [
    "svdd.solve_problem(svdd._get_kernel(X,X))"
   ]
  },
  {
   "cell_type": "code",
   "execution_count": 144,
   "metadata": {},
   "outputs": [
    {
     "name": "stdout",
     "output_type": "stream",
     "text": [
      "\n",
      "\n",
      "*** Prediction of the provided data is completed. ***\n",
      "\n",
      "running time         = 0.0480 seconds\n",
      "number of samples    = 207\n",
      "number of alarm      = 4\n",
      "accuracy             = 98.0676 %\n",
      "\n",
      "\n"
     ]
    },
    {
     "data": {
      "text/plain": [
       "matrix([[ 1.],\n",
       "        [ 1.],\n",
       "        [-1.],\n",
       "        [ 1.],\n",
       "        [ 1.],\n",
       "        [ 1.],\n",
       "        [ 1.],\n",
       "        [ 1.],\n",
       "        [ 1.],\n",
       "        [ 1.],\n",
       "        [ 1.],\n",
       "        [ 1.],\n",
       "        [ 1.],\n",
       "        [ 1.],\n",
       "        [ 1.],\n",
       "        [ 1.],\n",
       "        [ 1.],\n",
       "        [ 1.],\n",
       "        [ 1.],\n",
       "        [ 1.],\n",
       "        [ 1.],\n",
       "        [ 1.],\n",
       "        [ 1.],\n",
       "        [ 1.],\n",
       "        [ 1.],\n",
       "        [ 1.],\n",
       "        [ 1.],\n",
       "        [ 1.],\n",
       "        [ 1.],\n",
       "        [ 1.],\n",
       "        [ 1.],\n",
       "        [ 1.],\n",
       "        [ 1.],\n",
       "        [ 1.],\n",
       "        [ 1.],\n",
       "        [ 1.],\n",
       "        [ 1.],\n",
       "        [ 1.],\n",
       "        [ 1.],\n",
       "        [ 1.],\n",
       "        [ 1.],\n",
       "        [ 1.],\n",
       "        [ 1.],\n",
       "        [ 1.],\n",
       "        [ 1.],\n",
       "        [ 1.],\n",
       "        [ 1.],\n",
       "        [ 1.],\n",
       "        [ 1.],\n",
       "        [ 1.],\n",
       "        [ 1.],\n",
       "        [ 1.],\n",
       "        [ 1.],\n",
       "        [ 1.],\n",
       "        [ 1.],\n",
       "        [ 1.],\n",
       "        [ 1.],\n",
       "        [ 1.],\n",
       "        [ 1.],\n",
       "        [ 1.],\n",
       "        [ 1.],\n",
       "        [ 1.],\n",
       "        [ 1.],\n",
       "        [ 1.],\n",
       "        [ 1.],\n",
       "        [ 1.],\n",
       "        [ 1.],\n",
       "        [ 1.],\n",
       "        [ 1.],\n",
       "        [ 1.],\n",
       "        [ 1.],\n",
       "        [ 1.],\n",
       "        [ 1.],\n",
       "        [ 1.],\n",
       "        [ 1.],\n",
       "        [ 1.],\n",
       "        [ 1.],\n",
       "        [ 1.],\n",
       "        [ 1.],\n",
       "        [ 1.],\n",
       "        [ 1.],\n",
       "        [ 1.],\n",
       "        [ 1.],\n",
       "        [ 1.],\n",
       "        [ 1.],\n",
       "        [ 1.],\n",
       "        [ 1.],\n",
       "        [ 1.],\n",
       "        [ 1.],\n",
       "        [ 1.],\n",
       "        [ 1.],\n",
       "        [ 1.],\n",
       "        [ 1.],\n",
       "        [ 1.],\n",
       "        [ 1.],\n",
       "        [ 1.],\n",
       "        [ 1.],\n",
       "        [-1.],\n",
       "        [ 1.],\n",
       "        [ 1.],\n",
       "        [ 1.],\n",
       "        [ 1.],\n",
       "        [ 1.],\n",
       "        [ 1.],\n",
       "        [ 1.],\n",
       "        [ 1.],\n",
       "        [ 1.],\n",
       "        [ 1.],\n",
       "        [ 1.],\n",
       "        [ 1.],\n",
       "        [ 1.],\n",
       "        [ 1.],\n",
       "        [ 1.],\n",
       "        [ 1.],\n",
       "        [ 1.],\n",
       "        [ 1.],\n",
       "        [ 1.],\n",
       "        [ 1.],\n",
       "        [ 1.],\n",
       "        [ 1.],\n",
       "        [ 1.],\n",
       "        [ 1.],\n",
       "        [ 1.],\n",
       "        [ 1.],\n",
       "        [ 1.],\n",
       "        [ 1.],\n",
       "        [ 1.],\n",
       "        [ 1.],\n",
       "        [ 1.],\n",
       "        [ 1.],\n",
       "        [ 1.],\n",
       "        [ 1.],\n",
       "        [ 1.],\n",
       "        [ 1.],\n",
       "        [ 1.],\n",
       "        [ 1.],\n",
       "        [ 1.],\n",
       "        [ 1.],\n",
       "        [ 1.],\n",
       "        [ 1.],\n",
       "        [ 1.],\n",
       "        [ 1.],\n",
       "        [ 1.],\n",
       "        [ 1.],\n",
       "        [ 1.],\n",
       "        [ 1.],\n",
       "        [ 1.],\n",
       "        [ 1.],\n",
       "        [ 1.],\n",
       "        [-1.],\n",
       "        [ 1.],\n",
       "        [ 1.],\n",
       "        [ 1.],\n",
       "        [ 1.],\n",
       "        [ 1.],\n",
       "        [ 1.],\n",
       "        [ 1.],\n",
       "        [ 1.],\n",
       "        [ 1.],\n",
       "        [ 1.],\n",
       "        [ 1.],\n",
       "        [ 1.],\n",
       "        [ 1.],\n",
       "        [ 1.],\n",
       "        [ 1.],\n",
       "        [ 1.],\n",
       "        [ 1.],\n",
       "        [ 1.],\n",
       "        [ 1.],\n",
       "        [ 1.],\n",
       "        [ 1.],\n",
       "        [ 1.],\n",
       "        [ 1.],\n",
       "        [ 1.],\n",
       "        [ 1.],\n",
       "        [ 1.],\n",
       "        [ 1.],\n",
       "        [ 1.],\n",
       "        [ 1.],\n",
       "        [ 1.],\n",
       "        [ 1.],\n",
       "        [ 1.],\n",
       "        [ 1.],\n",
       "        [ 1.],\n",
       "        [ 1.],\n",
       "        [ 1.],\n",
       "        [ 1.],\n",
       "        [ 1.],\n",
       "        [ 1.],\n",
       "        [ 1.],\n",
       "        [ 1.],\n",
       "        [ 1.],\n",
       "        [ 1.],\n",
       "        [ 1.],\n",
       "        [ 1.],\n",
       "        [ 1.],\n",
       "        [ 1.],\n",
       "        [ 1.],\n",
       "        [ 1.],\n",
       "        [ 1.],\n",
       "        [ 1.],\n",
       "        [ 1.],\n",
       "        [ 1.],\n",
       "        [ 1.],\n",
       "        [-1.],\n",
       "        [ 1.],\n",
       "        [ 1.]])"
      ]
     },
     "execution_count": 144,
     "metadata": {},
     "output_type": "execute_result"
    }
   ],
   "source": [
    "svdd.predict(svdd.X,svdd.y)"
   ]
  },
  {
   "cell_type": "code",
   "execution_count": 95,
   "metadata": {},
   "outputs": [
    {
     "name": "stdout",
     "output_type": "stream",
     "text": [
      "\n",
      "\n",
      "*** Prediction of the provided data is completed. ***\n",
      "\n",
      "running time         = 0.0490 seconds\n",
      "number of samples    = 207\n",
      "number of alarm      = 14\n",
      "accuracy             = 93.2367 %\n",
      "\n",
      "\n"
     ]
    }
   ],
   "source": [
    "b = svdd.predict(svdd.X,svdd.y)"
   ]
  },
  {
   "cell_type": "code",
   "execution_count": 93,
   "metadata": {},
   "outputs": [
    {
     "data": {
      "text/plain": [
       " 1.0    193\n",
       "-1.0     14\n",
       "dtype: int64"
      ]
     },
     "execution_count": 93,
     "metadata": {},
     "output_type": "execute_result"
    }
   ],
   "source": [
    "pd.DataFrame(b).value_counts()"
   ]
  },
  {
   "cell_type": "code",
   "execution_count": 12,
   "metadata": {
    "scrolled": false
   },
   "outputs": [],
   "source": [
    "a = svdd.results"
   ]
  },
  {
   "cell_type": "code",
   "execution_count": 13,
   "metadata": {},
   "outputs": [
    {
     "data": {
      "text/plain": [
       "1.0    207\n",
       "dtype: int64"
      ]
     },
     "execution_count": 13,
     "metadata": {},
     "output_type": "execute_result"
    }
   ],
   "source": [
    "pd.DataFrame(a['y']).value_counts()"
   ]
  },
  {
   "cell_type": "code",
   "execution_count": 14,
   "metadata": {},
   "outputs": [
    {
     "data": {
      "text/plain": [
       " 1.0    201\n",
       "-1.0      6\n",
       "dtype: int64"
      ]
     },
     "execution_count": 14,
     "metadata": {},
     "output_type": "execute_result"
    }
   ],
   "source": [
    "pd.DataFrame(a['predicted_y_2']).value_counts()"
   ]
  },
  {
   "cell_type": "code",
   "execution_count": 53,
   "metadata": {},
   "outputs": [
    {
     "data": {
      "text/plain": [
       " 1.0    201\n",
       "-1.0      6\n",
       "dtype: int64"
      ]
     },
     "execution_count": 53,
     "metadata": {},
     "output_type": "execute_result"
    }
   ],
   "source": [
    "pd.DataFrame(a['predicted_y_2']).value_counts()"
   ]
  },
  {
   "cell_type": "code",
   "execution_count": 15,
   "metadata": {},
   "outputs": [
    {
     "data": {
      "text/plain": [
       "0.9710144927536232"
      ]
     },
     "execution_count": 15,
     "metadata": {},
     "output_type": "execute_result"
    }
   ],
   "source": [
    "1 -6/207"
   ]
  },
  {
   "cell_type": "code",
   "execution_count": 49,
   "metadata": {},
   "outputs": [
    {
     "data": {
      "text/plain": [
       "False"
      ]
     },
     "execution_count": 49,
     "metadata": {},
     "output_type": "execute_result"
    }
   ],
   "source": [
    "a['exist_y']"
   ]
  },
  {
   "cell_type": "code",
   "execution_count": 27,
   "metadata": {},
   "outputs": [
    {
     "data": {
      "text/plain": [
       " 1.0    193\n",
       "-1.0     14\n",
       "dtype: int64"
      ]
     },
     "execution_count": 27,
     "metadata": {},
     "output_type": "execute_result"
    }
   ],
   "source": [
    "pd.DataFrame(svdd.predicted_y_).value_counts()"
   ]
  },
  {
   "cell_type": "code",
   "execution_count": 36,
   "metadata": {},
   "outputs": [
    {
     "data": {
      "text/plain": [
       "0.9323671497584541"
      ]
     },
     "execution_count": 36,
     "metadata": {},
     "output_type": "execute_result"
    }
   ],
   "source": [
    "svdd.accuracy"
   ]
  },
  {
   "cell_type": "code",
   "execution_count": 39,
   "metadata": {},
   "outputs": [
    {
     "name": "stdout",
     "output_type": "stream",
     "text": [
      "\n",
      "\n",
      "*** Prediction of the provided data is completed. ***\n",
      "\n",
      "running time         = 0.0520 seconds\n",
      "number of samples    = 207\n",
      "number of alarm      = 14\n",
      "accuracy             = 93.2367 %\n",
      "\n",
      "\n"
     ]
    },
    {
     "data": {
      "text/plain": [
       " 1.0    193\n",
       "-1.0     14\n",
       "dtype: int64"
      ]
     },
     "execution_count": 39,
     "metadata": {},
     "output_type": "execute_result"
    }
   ],
   "source": [
    "pd.DataFrame(svdd.predict(svdd.X,svdd.y)).value_counts()"
   ]
  },
  {
   "cell_type": "code",
   "execution_count": 51,
   "metadata": {},
   "outputs": [
    {
     "data": {
      "text/plain": [
       " 1.0    193\n",
       "-1.0     14\n",
       "dtype: int64"
      ]
     },
     "execution_count": 51,
     "metadata": {},
     "output_type": "execute_result"
    }
   ],
   "source": [
    "pd.DataFrame(svdd.predicted_y_).value_counts()"
   ]
  },
  {
   "cell_type": "code",
   "execution_count": 22,
   "metadata": {},
   "outputs": [
    {
     "data": {
      "text/plain": [
       "0.9323671497584541"
      ]
     },
     "execution_count": 22,
     "metadata": {},
     "output_type": "execute_result"
    }
   ],
   "source": [
    "from sklearn.metrics import accuracy_score\n",
    "\n",
    "accuracy_score(svdd.y, svdd.predicted_y_)"
   ]
  },
  {
   "cell_type": "markdown",
   "metadata": {},
   "source": [
    "## UCLdl Kernel 기반으로 계산되어졌다면, 이제는 Distance를 기반으로 한 Bootstrap을 사용하기로 하였다. 이렇게 하면 우리가 커널 기반으로 생성한 UCL이 적절한 alpha값을 나타내지 않음을 알 수 있다. 그러므로, bootstrap을 사용하여 우리가 설정한 alpha값을 따르도록 하였다."
   ]
  },
  {
   "cell_type": "code",
   "execution_count": null,
   "metadata": {},
   "outputs": [],
   "source": []
  }
 ],
 "metadata": {
  "kernelspec": {
   "display_name": "Python 3",
   "language": "python",
   "name": "python3"
  },
  "language_info": {
   "codemirror_mode": {
    "name": "ipython",
    "version": 3
   },
   "file_extension": ".py",
   "mimetype": "text/x-python",
   "name": "python",
   "nbconvert_exporter": "python",
   "pygments_lexer": "ipython3",
   "version": "3.7.4"
  },
  "toc": {
   "base_numbering": 1,
   "nav_menu": {},
   "number_sections": true,
   "sideBar": true,
   "skip_h1_title": false,
   "title_cell": "Table of Contents",
   "title_sidebar": "Contents",
   "toc_cell": false,
   "toc_position": {},
   "toc_section_display": true,
   "toc_window_display": false
  },
  "varInspector": {
   "cols": {
    "lenName": 16,
    "lenType": 16,
    "lenVar": 40
   },
   "kernels_config": {
    "python": {
     "delete_cmd_postfix": "",
     "delete_cmd_prefix": "del ",
     "library": "var_list.py",
     "varRefreshCmd": "print(var_dic_list())"
    },
    "r": {
     "delete_cmd_postfix": ") ",
     "delete_cmd_prefix": "rm(",
     "library": "var_list.r",
     "varRefreshCmd": "cat(var_dic_list()) "
    }
   },
   "types_to_exclude": [
    "module",
    "function",
    "builtin_function_or_method",
    "instance",
    "_Feature"
   ],
   "window_display": false
  }
 },
 "nbformat": 4,
 "nbformat_minor": 2
}
